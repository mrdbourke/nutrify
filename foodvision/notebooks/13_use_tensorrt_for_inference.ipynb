{
 "cells": [
  {
   "cell_type": "markdown",
   "metadata": {},
   "source": [
    "# Speeding up inference with TensorRT\n",
    "\n",
    "Does Nvidia's TensorRT speed up inference on Nvidia GPUs?\n",
    "\n",
    "Right now I'm using a Titan RTX (faster inference may only be with Nvidia A100) but I'd like to see if TensorRT improves inference time.\n",
    "\n",
    "Improved inference time = faster evaluation.\n",
    "\n",
    "See these resources:\n",
    "* https://developer.nvidia.com/blog/accelerating-inference-up-to-6x-faster-in-pytorch-with-torch-tensorrt/ "
   ]
  },
  {
   "cell_type": "code",
   "execution_count": 12,
   "metadata": {},
   "outputs": [],
   "source": [
    "# Append the upper level directory to sys\n",
    "import sys\n",
    "from tqdm.auto import tqdm\n",
    "sys.path.append(\"..\")\n",
    "\n",
    "from configs.default_config import config\n",
    "\n",
    "args = config\n",
    "args.num_top_n_preds = 5\n",
    "\n",
    "GS_BUCKET_NAME = config.gs_bucket_name\n",
    "\n",
    "import pandas as pd\n",
    "import numpy as np\n",
    "\n",
    "from pathlib import Path"
   ]
  },
  {
   "cell_type": "code",
   "execution_count": 1,
   "metadata": {},
   "outputs": [
    {
     "name": "stdout",
     "output_type": "stream",
     "text": [
      "[INFO] GCP credentials set!\n",
      "[INFO] GCP connection successful! Access to GCP for saving/loading data and models available.\n"
     ]
    },
    {
     "name": "stderr",
     "output_type": "stream",
     "text": [
      "Failed to detect the name of this notebook, you can set it manually with the WANDB_NOTEBOOK_NAME environment variable to enable code saving.\n",
      "\u001b[34m\u001b[1mwandb\u001b[0m: Currently logged in as: \u001b[33mmrdbourke\u001b[0m. Use \u001b[1m`wandb login --relogin`\u001b[0m to force relogin\n"
     ]
    },
    {
     "data": {
      "text/html": [
       "wandb version 0.13.10 is available!  To upgrade, please run:\n",
       " $ pip install wandb --upgrade"
      ],
      "text/plain": [
       "<IPython.core.display.HTML object>"
      ]
     },
     "metadata": {},
     "output_type": "display_data"
    },
    {
     "data": {
      "text/html": [
       "Tracking run with wandb version 0.12.21"
      ],
      "text/plain": [
       "<IPython.core.display.HTML object>"
      ]
     },
     "metadata": {},
     "output_type": "display_data"
    },
    {
     "data": {
      "text/html": [
       "Run data is saved locally in <code>/home/daniel/code/nutrify/foodvision/notebooks/wandb/run-20230220_083836-iutnxv3i</code>"
      ],
      "text/plain": [
       "<IPython.core.display.HTML object>"
      ]
     },
     "metadata": {},
     "output_type": "display_data"
    },
    {
     "data": {
      "text/html": [
       "Syncing run <strong><a href=\"https://wandb.ai/mrdbourke/test_wandb_artifacts_by_reference/runs/iutnxv3i\" target=\"_blank\">elated-sound-387</a></strong> to <a href=\"https://wandb.ai/mrdbourke/test_wandb_artifacts_by_reference\" target=\"_blank\">Weights & Biases</a> (<a href=\"https://wandb.me/run\" target=\"_blank\">docs</a>)<br/>"
      ],
      "text/plain": [
       "<IPython.core.display.HTML object>"
      ]
     },
     "metadata": {},
     "output_type": "display_data"
    },
    {
     "name": "stdout",
     "output_type": "stream",
     "text": [
      "[INFO] Labels directory: ./artifacts/food_vision_labels:v27\n",
      "[INFO] Labels path: artifacts/food_vision_labels:v27/annotations.csv\n",
      "[INFO] Working with: 208 classes\n"
     ]
    }
   ],
   "source": [
    "# Connect to GCP\n",
    "from utils.gcp_utils import set_gcp_credentials, test_gcp_connection\n",
    "set_gcp_credentials(path_to_key=\"../utils/google-storage-key.json\")\n",
    "test_gcp_connection()\n",
    "\n",
    "import wandb\n",
    "\n",
    "# Initialize a new run\n",
    "from utils.wandb_utils import wandb_load_artifact, wandb_download_and_load_labels\n",
    "\n",
    "\n",
    "\n",
    "run = wandb.init(project=args.wandb_project, \n",
    "                 job_type=args.wandb_job_type,\n",
    "                 tags=['test_inference_time_with_tensorrt'],\n",
    "                 notes=\"testing inference time with TensorRT\")\n",
    "\n",
    "annotations, class_names, class_dict, reverse_class_dict, labels_path = wandb_download_and_load_labels(wandb_run=run,\n",
    "wandb_labels_artifact_name=args.wandb_labels_artifact)"
   ]
  },
  {
   "cell_type": "code",
   "execution_count": 7,
   "metadata": {},
   "outputs": [
    {
     "data": {
      "text/plain": [
       "'trained_model:latest'"
      ]
     },
     "execution_count": 7,
     "metadata": {},
     "output_type": "execute_result"
    }
   ],
   "source": [
    "args.image_size = 224\n",
    "args.wandb_model_artifact"
   ]
  },
  {
   "cell_type": "code",
   "execution_count": 13,
   "metadata": {},
   "outputs": [],
   "source": [
    "import torch\n",
    "import timm\n",
    "from timm.data import create_transform\n",
    "device = torch.device(\"cuda\" if torch.cuda.is_available() else \"cpu\")\n",
    "\n",
    "# Create the data transform\n",
    "transform = create_transform(input_size=args.image_size, is_training=False)"
   ]
  },
  {
   "cell_type": "code",
   "execution_count": 14,
   "metadata": {},
   "outputs": [
    {
     "name": "stderr",
     "output_type": "stream",
     "text": [
      "\u001b[34m\u001b[1mwandb\u001b[0m: Downloading large artifact trained_model:latest, 54.61MB. 1 files... Done. 0:0:0.0\n"
     ]
    },
    {
     "name": "stdout",
     "output_type": "stream",
     "text": [
      "[INFO] Model artifact directory: ./artifacts/trained_model:v42\n",
      "[INFO] Model path: artifacts/trained_model:v42/2023-02-15_17-08-10_model_coatnext_nano_rw_224.pth\n"
     ]
    }
   ],
   "source": [
    "# Download model artifact\n",
    "model_at_dir = wandb_load_artifact(wandb_run=run,\n",
    "                                   artifact_name=args.wandb_model_artifact,\n",
    "                                   artifact_type=\"model\")\n",
    "print(f\"[INFO] Model artifact directory: {model_at_dir}\")\n",
    "\n",
    "# Get list of all files with \"*.pth\" in model_at_dir\n",
    "model_path = str(list(Path(model_at_dir).rglob(\"*.pth\"))[0])\n",
    "print(f\"[INFO] Model path: {model_path}\")\n",
    "\n",
    "# Create the model with timm\n",
    "model = timm.create_model(\n",
    "    model_name=args.model, pretrained=args.pretrained, num_classes=len(class_dict)\n",
    ")\n",
    "model.load_state_dict(torch.load(model_path))\n",
    "\n",
    "# Create the data transform\n",
    "transform = create_transform(input_size=args.image_size, is_training=False)\n",
    "\n",
    "def pred_on_image(\n",
    "    model,\n",
    "    class_dict,\n",
    "    image_path,\n",
    "    transform=transform,\n",
    "    device=device,\n",
    "    num_top_n_preds=args.num_top_n_preds,\n",
    "):\n",
    "    \"\"\"Makes a predition on a single image.\n",
    "\n",
    "    Args:\n",
    "        model (_type_): A trained PyTorch model.\n",
    "        class_dict (Dict): Mapping of class labels to class names.\n",
    "        image_path (str): String path to target image.\n",
    "        transform (_type_): Transform to perform on image before being passed to model.\n",
    "        device (torch.device): Device to make prediction on (e.g. \"cuda\" or \"cpu\").\n",
    "        num_top_n_preds (int, optional): Number of top_n predictions to return. Defaults to 5.\n",
    "\n",
    "    Returns:\n",
    "        dict: a dictionary containing the image path, the top n predictions, and the top n prediction probabilities.\n",
    "        For example:\n",
    "\n",
    "            pred_dict = {\n",
    "                \"image_path\": image_path,\n",
    "                \"pred_label\": pred_label,\n",
    "                \"pred_prob\": pred_prob.max().item(),\n",
    "                \"pred_class\": pred_class,\n",
    "                \"top_n_preds\": top_n_pred_dict}\n",
    "    \"\"\"\n",
    "\n",
    "    # Open image\n",
    "    img = Image.open(image_path)\n",
    "\n",
    "    # Make sure model on target device\n",
    "    model.to(device)\n",
    "\n",
    "    # Turn on model eval mode and make prediction\n",
    "    model.eval()\n",
    "    with torch.inference_mode():\n",
    "        try:\n",
    "            img_tensor = transform(img).unsqueeze(0).to(device)\n",
    "            pred = model(img_tensor)\n",
    "            pred_prob = torch.softmax(pred, dim=1)\n",
    "            pred_label = pred_prob.argmax().item()\n",
    "            pred_class = class_dict[pred_label]\n",
    "\n",
    "            # Get top_n predictions\n",
    "            top_n_pred_tensor = pred_prob.topk(num_top_n_preds)\n",
    "            top_n_pred_probs = top_n_pred_tensor.values.tolist()[0]\n",
    "            top_n_pred_labels = top_n_pred_tensor.indices.tolist()[0]\n",
    "            top_n_pred_classes = [class_dict[i] for i in top_n_pred_labels]\n",
    "\n",
    "            # Zip together top_n_pred_labels and top_n_pred_classes\n",
    "            top_n_pred_dict = [\n",
    "                {\"pred_prob\": pred_prob, \"pred_label\": pred_label, \"pred_class\": pred_class}\n",
    "                for pred_prob, pred_label, pred_class in zip(\n",
    "                    top_n_pred_probs, top_n_pred_labels, top_n_pred_classes\n",
    "                )\n",
    "            ]\n",
    "\n",
    "            # Create pred dict\n",
    "            pred_dict = {\n",
    "                \"image_path\": image_path,\n",
    "                \"pred_label\": pred_label,\n",
    "                \"pred_prob\": pred_prob.max().item(),\n",
    "                \"pred_class\": pred_class,\n",
    "                \"top_n_preds\": top_n_pred_dict,\n",
    "            }\n",
    "\n",
    "            return pred_dict\n",
    "        \n",
    "        except Exception as e:\n",
    "            print(f\"[ERROR] Error making prediction on image: {image_path}, continuing...\")\n",
    "            print(e)\n",
    "            return None"
   ]
  },
  {
   "attachments": {},
   "cell_type": "markdown",
   "metadata": {},
   "source": [
    "## Create a benchmark"
   ]
  },
  {
   "cell_type": "code",
   "execution_count": 20,
   "metadata": {},
   "outputs": [],
   "source": [
    "import torch_tensorrt\n",
    "import torch.backends.cudnn as cudnn\n",
    "cudnn.benchmark = True"
   ]
  },
  {
   "cell_type": "code",
   "execution_count": 35,
   "metadata": {},
   "outputs": [],
   "source": [
    "import time\n",
    "\n",
    "def benchmark(model, input_shape=(1024, 3, 512, 512), dtype='fp32', nwarmup=50, nruns=1000):\n",
    "    input_data = torch.randn(input_shape)\n",
    "    input_data = input_data.to(\"cuda\")\n",
    "    if dtype=='fp16':\n",
    "        input_data = input_data.half()\n",
    "        \n",
    "    print(\"Warm up ...\")\n",
    "    with torch.no_grad():\n",
    "        for _ in range(nwarmup):\n",
    "            features = model(input_data)\n",
    "    torch.cuda.synchronize()\n",
    "    print(\"Start timing ...\")\n",
    "    timings = []\n",
    "    with torch.no_grad():\n",
    "        for i in range(1, nruns+1):\n",
    "            start_time = time.time()\n",
    "            pred_loc = model(input_data)\n",
    "            torch.cuda.synchronize()\n",
    "            end_time = time.time()\n",
    "            timings.append(end_time - start_time)\n",
    "            if i%10==0:\n",
    "                print('Iteration %d/%d, avg batch time %.2f ms'%(i, nruns, np.mean(timings)*1000))\n",
    "\n",
    "    print(\"Input shape:\", input_data.size())\n",
    "    print('Average throughput: %.2f images/second'%(input_shape[0]/np.mean(timings)))"
   ]
  },
  {
   "cell_type": "code",
   "execution_count": 97,
   "metadata": {},
   "outputs": [
    {
     "name": "stdout",
     "output_type": "stream",
     "text": [
      "Warm up ...\n",
      "Start timing ...\n",
      "Iteration 10/1000, avg batch time 7.22 ms\n",
      "Iteration 20/1000, avg batch time 7.26 ms\n",
      "Iteration 30/1000, avg batch time 7.33 ms\n",
      "Iteration 40/1000, avg batch time 7.43 ms\n",
      "Iteration 50/1000, avg batch time 7.42 ms\n",
      "Iteration 60/1000, avg batch time 7.41 ms\n",
      "Iteration 70/1000, avg batch time 7.38 ms\n",
      "Iteration 80/1000, avg batch time 7.36 ms\n",
      "Iteration 90/1000, avg batch time 7.36 ms\n",
      "Iteration 100/1000, avg batch time 7.36 ms\n",
      "Iteration 110/1000, avg batch time 7.36 ms\n",
      "Iteration 120/1000, avg batch time 7.36 ms\n",
      "Iteration 130/1000, avg batch time 7.36 ms\n",
      "Iteration 140/1000, avg batch time 7.35 ms\n",
      "Iteration 150/1000, avg batch time 7.35 ms\n",
      "Iteration 160/1000, avg batch time 7.35 ms\n",
      "Iteration 170/1000, avg batch time 7.35 ms\n",
      "Iteration 180/1000, avg batch time 7.34 ms\n",
      "Iteration 190/1000, avg batch time 7.34 ms\n",
      "Iteration 200/1000, avg batch time 7.33 ms\n",
      "Iteration 210/1000, avg batch time 7.33 ms\n",
      "Iteration 220/1000, avg batch time 7.33 ms\n",
      "Iteration 230/1000, avg batch time 7.32 ms\n",
      "Iteration 240/1000, avg batch time 7.32 ms\n",
      "Iteration 250/1000, avg batch time 7.32 ms\n",
      "Iteration 260/1000, avg batch time 7.31 ms\n",
      "Iteration 270/1000, avg batch time 7.31 ms\n",
      "Iteration 280/1000, avg batch time 7.31 ms\n",
      "Iteration 290/1000, avg batch time 7.31 ms\n",
      "Iteration 300/1000, avg batch time 7.31 ms\n",
      "Iteration 310/1000, avg batch time 7.31 ms\n",
      "Iteration 320/1000, avg batch time 7.33 ms\n",
      "Iteration 330/1000, avg batch time 7.34 ms\n",
      "Iteration 340/1000, avg batch time 7.34 ms\n",
      "Iteration 350/1000, avg batch time 7.34 ms\n",
      "Iteration 360/1000, avg batch time 7.33 ms\n",
      "Iteration 370/1000, avg batch time 7.33 ms\n",
      "Iteration 380/1000, avg batch time 7.33 ms\n",
      "Iteration 390/1000, avg batch time 7.35 ms\n",
      "Iteration 400/1000, avg batch time 7.36 ms\n",
      "Iteration 410/1000, avg batch time 7.35 ms\n",
      "Iteration 420/1000, avg batch time 7.35 ms\n",
      "Iteration 430/1000, avg batch time 7.35 ms\n",
      "Iteration 440/1000, avg batch time 7.35 ms\n",
      "Iteration 450/1000, avg batch time 7.35 ms\n",
      "Iteration 460/1000, avg batch time 7.35 ms\n",
      "Iteration 470/1000, avg batch time 7.34 ms\n",
      "Iteration 480/1000, avg batch time 7.34 ms\n",
      "Iteration 490/1000, avg batch time 7.34 ms\n",
      "Iteration 500/1000, avg batch time 7.34 ms\n",
      "Iteration 510/1000, avg batch time 7.34 ms\n",
      "Iteration 520/1000, avg batch time 7.34 ms\n",
      "Iteration 530/1000, avg batch time 7.33 ms\n",
      "Iteration 540/1000, avg batch time 7.33 ms\n",
      "Iteration 550/1000, avg batch time 7.33 ms\n",
      "Iteration 560/1000, avg batch time 7.33 ms\n",
      "Iteration 570/1000, avg batch time 7.33 ms\n",
      "Iteration 580/1000, avg batch time 7.33 ms\n",
      "Iteration 590/1000, avg batch time 7.33 ms\n",
      "Iteration 600/1000, avg batch time 7.33 ms\n",
      "Iteration 610/1000, avg batch time 7.33 ms\n",
      "Iteration 620/1000, avg batch time 7.33 ms\n",
      "Iteration 630/1000, avg batch time 7.34 ms\n",
      "Iteration 640/1000, avg batch time 7.34 ms\n",
      "Iteration 650/1000, avg batch time 7.33 ms\n",
      "Iteration 660/1000, avg batch time 7.33 ms\n",
      "Iteration 670/1000, avg batch time 7.33 ms\n",
      "Iteration 680/1000, avg batch time 7.33 ms\n",
      "Iteration 690/1000, avg batch time 7.33 ms\n",
      "Iteration 700/1000, avg batch time 7.33 ms\n",
      "Iteration 710/1000, avg batch time 7.33 ms\n",
      "Iteration 720/1000, avg batch time 7.33 ms\n",
      "Iteration 730/1000, avg batch time 7.33 ms\n",
      "Iteration 740/1000, avg batch time 7.33 ms\n",
      "Iteration 750/1000, avg batch time 7.33 ms\n",
      "Iteration 760/1000, avg batch time 7.33 ms\n",
      "Iteration 770/1000, avg batch time 7.33 ms\n",
      "Iteration 780/1000, avg batch time 7.33 ms\n",
      "Iteration 790/1000, avg batch time 7.33 ms\n",
      "Iteration 800/1000, avg batch time 7.33 ms\n",
      "Iteration 810/1000, avg batch time 7.33 ms\n",
      "Iteration 820/1000, avg batch time 7.33 ms\n",
      "Iteration 830/1000, avg batch time 7.33 ms\n",
      "Iteration 840/1000, avg batch time 7.33 ms\n",
      "Iteration 850/1000, avg batch time 7.33 ms\n",
      "Iteration 860/1000, avg batch time 7.33 ms\n",
      "Iteration 870/1000, avg batch time 7.33 ms\n",
      "Iteration 880/1000, avg batch time 7.33 ms\n",
      "Iteration 890/1000, avg batch time 7.33 ms\n",
      "Iteration 900/1000, avg batch time 7.33 ms\n",
      "Iteration 910/1000, avg batch time 7.33 ms\n",
      "Iteration 920/1000, avg batch time 7.33 ms\n",
      "Iteration 930/1000, avg batch time 7.33 ms\n",
      "Iteration 940/1000, avg batch time 7.33 ms\n",
      "Iteration 950/1000, avg batch time 7.33 ms\n",
      "Iteration 960/1000, avg batch time 7.33 ms\n",
      "Iteration 970/1000, avg batch time 7.33 ms\n",
      "Iteration 980/1000, avg batch time 7.33 ms\n",
      "Iteration 990/1000, avg batch time 7.33 ms\n",
      "Iteration 1000/1000, avg batch time 7.33 ms\n",
      "Input shape: torch.Size([1, 3, 224, 224])\n",
      "Average throughput: 136.42 images/second\n"
     ]
    }
   ],
   "source": [
    "# Benchmark the baseline model\n",
    "model.to(device)\n",
    "benchmark(model, input_shape=(1, 3, 224, 224), dtype='fp32', nwarmup=50, nruns=1000)"
   ]
  },
  {
   "cell_type": "code",
   "execution_count": 98,
   "metadata": {},
   "outputs": [
    {
     "name": "stdout",
     "output_type": "stream",
     "text": [
      "Warm up ...\n",
      "Start timing ...\n",
      "Iteration 10/1000, avg batch time 5.66 ms\n",
      "Iteration 20/1000, avg batch time 5.64 ms\n",
      "Iteration 30/1000, avg batch time 5.65 ms\n",
      "Iteration 40/1000, avg batch time 5.68 ms\n",
      "Iteration 50/1000, avg batch time 5.68 ms\n",
      "Iteration 60/1000, avg batch time 5.67 ms\n",
      "Iteration 70/1000, avg batch time 5.67 ms\n",
      "Iteration 80/1000, avg batch time 5.68 ms\n",
      "Iteration 90/1000, avg batch time 5.76 ms\n",
      "Iteration 100/1000, avg batch time 5.78 ms\n",
      "Iteration 110/1000, avg batch time 5.78 ms\n",
      "Iteration 120/1000, avg batch time 5.78 ms\n",
      "Iteration 130/1000, avg batch time 5.77 ms\n",
      "Iteration 140/1000, avg batch time 5.76 ms\n",
      "Iteration 150/1000, avg batch time 5.76 ms\n",
      "Iteration 160/1000, avg batch time 5.76 ms\n",
      "Iteration 170/1000, avg batch time 5.75 ms\n",
      "Iteration 180/1000, avg batch time 5.74 ms\n",
      "Iteration 190/1000, avg batch time 5.74 ms\n",
      "Iteration 200/1000, avg batch time 5.74 ms\n",
      "Iteration 210/1000, avg batch time 5.74 ms\n",
      "Iteration 220/1000, avg batch time 5.74 ms\n",
      "Iteration 230/1000, avg batch time 5.73 ms\n",
      "Iteration 240/1000, avg batch time 5.73 ms\n",
      "Iteration 250/1000, avg batch time 5.73 ms\n",
      "Iteration 260/1000, avg batch time 5.73 ms\n",
      "Iteration 270/1000, avg batch time 5.72 ms\n",
      "Iteration 280/1000, avg batch time 5.72 ms\n",
      "Iteration 290/1000, avg batch time 5.72 ms\n",
      "Iteration 300/1000, avg batch time 5.72 ms\n",
      "Iteration 310/1000, avg batch time 5.72 ms\n",
      "Iteration 320/1000, avg batch time 5.72 ms\n",
      "Iteration 330/1000, avg batch time 5.71 ms\n",
      "Iteration 340/1000, avg batch time 5.71 ms\n",
      "Iteration 350/1000, avg batch time 5.71 ms\n",
      "Iteration 360/1000, avg batch time 5.71 ms\n",
      "Iteration 370/1000, avg batch time 5.71 ms\n",
      "Iteration 380/1000, avg batch time 5.71 ms\n",
      "Iteration 390/1000, avg batch time 5.71 ms\n",
      "Iteration 400/1000, avg batch time 5.71 ms\n",
      "Iteration 410/1000, avg batch time 5.71 ms\n",
      "Iteration 420/1000, avg batch time 5.71 ms\n",
      "Iteration 430/1000, avg batch time 5.70 ms\n",
      "Iteration 440/1000, avg batch time 5.70 ms\n",
      "Iteration 450/1000, avg batch time 5.71 ms\n",
      "Iteration 460/1000, avg batch time 5.71 ms\n",
      "Iteration 470/1000, avg batch time 5.71 ms\n",
      "Iteration 480/1000, avg batch time 5.72 ms\n",
      "Iteration 490/1000, avg batch time 5.71 ms\n",
      "Iteration 500/1000, avg batch time 5.71 ms\n",
      "Iteration 510/1000, avg batch time 5.71 ms\n",
      "Iteration 520/1000, avg batch time 5.71 ms\n",
      "Iteration 530/1000, avg batch time 5.71 ms\n",
      "Iteration 540/1000, avg batch time 5.71 ms\n",
      "Iteration 550/1000, avg batch time 5.71 ms\n",
      "Iteration 560/1000, avg batch time 5.71 ms\n",
      "Iteration 570/1000, avg batch time 5.71 ms\n",
      "Iteration 580/1000, avg batch time 5.71 ms\n",
      "Iteration 590/1000, avg batch time 5.71 ms\n",
      "Iteration 600/1000, avg batch time 5.71 ms\n",
      "Iteration 610/1000, avg batch time 5.71 ms\n",
      "Iteration 620/1000, avg batch time 5.70 ms\n",
      "Iteration 630/1000, avg batch time 5.70 ms\n",
      "Iteration 640/1000, avg batch time 5.70 ms\n",
      "Iteration 650/1000, avg batch time 5.70 ms\n",
      "Iteration 660/1000, avg batch time 5.70 ms\n",
      "Iteration 670/1000, avg batch time 5.70 ms\n",
      "Iteration 680/1000, avg batch time 5.70 ms\n",
      "Iteration 690/1000, avg batch time 5.70 ms\n",
      "Iteration 700/1000, avg batch time 5.70 ms\n",
      "Iteration 710/1000, avg batch time 5.70 ms\n",
      "Iteration 720/1000, avg batch time 5.70 ms\n",
      "Iteration 730/1000, avg batch time 5.70 ms\n",
      "Iteration 740/1000, avg batch time 5.70 ms\n",
      "Iteration 750/1000, avg batch time 5.70 ms\n",
      "Iteration 760/1000, avg batch time 5.70 ms\n",
      "Iteration 770/1000, avg batch time 5.70 ms\n",
      "Iteration 780/1000, avg batch time 5.70 ms\n",
      "Iteration 790/1000, avg batch time 5.70 ms\n",
      "Iteration 800/1000, avg batch time 5.70 ms\n",
      "Iteration 810/1000, avg batch time 5.70 ms\n",
      "Iteration 820/1000, avg batch time 5.70 ms\n",
      "Iteration 830/1000, avg batch time 5.71 ms\n",
      "Iteration 840/1000, avg batch time 5.71 ms\n",
      "Iteration 850/1000, avg batch time 5.71 ms\n",
      "Iteration 860/1000, avg batch time 5.71 ms\n",
      "Iteration 870/1000, avg batch time 5.71 ms\n",
      "Iteration 880/1000, avg batch time 5.71 ms\n",
      "Iteration 890/1000, avg batch time 5.71 ms\n",
      "Iteration 900/1000, avg batch time 5.71 ms\n",
      "Iteration 910/1000, avg batch time 5.71 ms\n",
      "Iteration 920/1000, avg batch time 5.71 ms\n",
      "Iteration 930/1000, avg batch time 5.71 ms\n",
      "Iteration 940/1000, avg batch time 5.71 ms\n",
      "Iteration 950/1000, avg batch time 5.71 ms\n",
      "Iteration 960/1000, avg batch time 5.71 ms\n",
      "Iteration 970/1000, avg batch time 5.71 ms\n",
      "Iteration 980/1000, avg batch time 5.71 ms\n",
      "Iteration 990/1000, avg batch time 5.71 ms\n",
      "Iteration 1000/1000, avg batch time 5.71 ms\n",
      "Input shape: torch.Size([1, 3, 224, 224])\n",
      "Average throughput: 175.22 images/second\n"
     ]
    }
   ],
   "source": [
    "# Try with TorchScript JIT\n",
    "model_jit = torch.jit.trace(model, torch.randn((1, 3, 224, 224)).to(device))\n",
    "model_jit.to(device)\n",
    "benchmark(model_jit, input_shape=(1, 3, 224, 224), dtype='fp32', nwarmup=50, nruns=1000)"
   ]
  },
  {
   "cell_type": "code",
   "execution_count": 99,
   "metadata": {},
   "outputs": [
    {
     "name": "stderr",
     "output_type": "stream",
     "text": [
      "WARNING: [Torch-TensorRT TorchScript Conversion Context] - CUDA lazy loading is not enabled. Enabling it can significantly reduce device memory usage. See `CUDA_MODULE_LOADING` in https://docs.nvidia.com/cuda/cuda-c-programming-guide/index.html#env-vars\n",
      "WARNING: [Torch-TensorRT] - There may be undefined behavior using dynamic shape and aten::size\n",
      "WARNING: [Torch-TensorRT TorchScript Conversion Context] - TensorRT was linked against cuDNN 8.6.0 but loaded cuDNN 8.0.2\n",
      "WARNING: [Torch-TensorRT TorchScript Conversion Context] - TensorRT was linked against cuDNN 8.6.0 but loaded cuDNN 8.0.2\n",
      "WARNING: [Torch-TensorRT] - TensorRT was linked against cuDNN 8.6.0 but loaded cuDNN 8.0.2\n",
      "WARNING: [Torch-TensorRT] - TensorRT was linked against cuDNN 8.6.0 but loaded cuDNN 8.0.2\n",
      "WARNING: [Torch-TensorRT] - CUDA lazy loading is not enabled. Enabling it can significantly reduce device memory usage. See `CUDA_MODULE_LOADING` in https://docs.nvidia.com/cuda/cuda-c-programming-guide/index.html#env-vars\n",
      "WARNING: [Torch-TensorRT TorchScript Conversion Context] - CUDA lazy loading is not enabled. Enabling it can significantly reduce device memory usage. See `CUDA_MODULE_LOADING` in https://docs.nvidia.com/cuda/cuda-c-programming-guide/index.html#env-vars\n",
      "WARNING: [Torch-TensorRT] - There may be undefined behavior using dynamic shape and aten::size\n",
      "WARNING: [Torch-TensorRT] - There may be undefined behavior using dynamic shape and aten::size\n",
      "WARNING: [Torch-TensorRT TorchScript Conversion Context] - Unused Input: input_0\n",
      "WARNING: [Torch-TensorRT TorchScript Conversion Context] - [RemoveDeadLayers] Input Tensor input_0 is unused or used only at compile-time, but is not being removed.\n",
      "WARNING: [Torch-TensorRT TorchScript Conversion Context] - TensorRT was linked against cuDNN 8.6.0 but loaded cuDNN 8.0.2\n",
      "WARNING: [Torch-TensorRT TorchScript Conversion Context] - TensorRT was linked against cuDNN 8.6.0 but loaded cuDNN 8.0.2\n",
      "WARNING: [Torch-TensorRT] - TensorRT was linked against cuDNN 8.6.0 but loaded cuDNN 8.0.2\n",
      "WARNING: [Torch-TensorRT] - TensorRT was linked against cuDNN 8.6.0 but loaded cuDNN 8.0.2\n",
      "WARNING: [Torch-TensorRT] - CUDA lazy loading is not enabled. Enabling it can significantly reduce device memory usage. See `CUDA_MODULE_LOADING` in https://docs.nvidia.com/cuda/cuda-c-programming-guide/index.html#env-vars\n",
      "WARNING: [Torch-TensorRT TorchScript Conversion Context] - CUDA lazy loading is not enabled. Enabling it can significantly reduce device memory usage. See `CUDA_MODULE_LOADING` in https://docs.nvidia.com/cuda/cuda-c-programming-guide/index.html#env-vars\n",
      "WARNING: [Torch-TensorRT] - There may be undefined behavior using dynamic shape and aten::size\n",
      "WARNING: [Torch-TensorRT] - There may be undefined behavior using dynamic shape and aten::size\n",
      "WARNING: [Torch-TensorRT TorchScript Conversion Context] - Unused Input: input_0\n",
      "WARNING: [Torch-TensorRT TorchScript Conversion Context] - [RemoveDeadLayers] Input Tensor input_0 is unused or used only at compile-time, but is not being removed.\n",
      "WARNING: [Torch-TensorRT TorchScript Conversion Context] - TensorRT was linked against cuDNN 8.6.0 but loaded cuDNN 8.0.2\n",
      "WARNING: [Torch-TensorRT TorchScript Conversion Context] - TensorRT was linked against cuDNN 8.6.0 but loaded cuDNN 8.0.2\n",
      "WARNING: [Torch-TensorRT] - TensorRT was linked against cuDNN 8.6.0 but loaded cuDNN 8.0.2\n",
      "WARNING: [Torch-TensorRT] - TensorRT was linked against cuDNN 8.6.0 but loaded cuDNN 8.0.2\n",
      "WARNING: [Torch-TensorRT] - CUDA lazy loading is not enabled. Enabling it can significantly reduce device memory usage. See `CUDA_MODULE_LOADING` in https://docs.nvidia.com/cuda/cuda-c-programming-guide/index.html#env-vars\n",
      "WARNING: [Torch-TensorRT TorchScript Conversion Context] - CUDA lazy loading is not enabled. Enabling it can significantly reduce device memory usage. See `CUDA_MODULE_LOADING` in https://docs.nvidia.com/cuda/cuda-c-programming-guide/index.html#env-vars\n",
      "WARNING: [Torch-TensorRT] - There may be undefined behavior using dynamic shape and aten::size\n",
      "WARNING: [Torch-TensorRT] - There may be undefined behavior using dynamic shape and aten::size\n",
      "WARNING: [Torch-TensorRT TorchScript Conversion Context] - Unused Input: input_0\n",
      "WARNING: [Torch-TensorRT TorchScript Conversion Context] - [RemoveDeadLayers] Input Tensor input_0 is unused or used only at compile-time, but is not being removed.\n",
      "WARNING: [Torch-TensorRT TorchScript Conversion Context] - TensorRT was linked against cuDNN 8.6.0 but loaded cuDNN 8.0.2\n",
      "WARNING: [Torch-TensorRT TorchScript Conversion Context] - TensorRT was linked against cuDNN 8.6.0 but loaded cuDNN 8.0.2\n",
      "WARNING: [Torch-TensorRT] - TensorRT was linked against cuDNN 8.6.0 but loaded cuDNN 8.0.2\n",
      "WARNING: [Torch-TensorRT] - TensorRT was linked against cuDNN 8.6.0 but loaded cuDNN 8.0.2\n",
      "WARNING: [Torch-TensorRT] - CUDA lazy loading is not enabled. Enabling it can significantly reduce device memory usage. See `CUDA_MODULE_LOADING` in https://docs.nvidia.com/cuda/cuda-c-programming-guide/index.html#env-vars\n",
      "WARNING: [Torch-TensorRT TorchScript Conversion Context] - CUDA lazy loading is not enabled. Enabling it can significantly reduce device memory usage. See `CUDA_MODULE_LOADING` in https://docs.nvidia.com/cuda/cuda-c-programming-guide/index.html#env-vars\n",
      "WARNING: [Torch-TensorRT] - There may be undefined behavior using dynamic shape and aten::size\n",
      "WARNING: [Torch-TensorRT] - There may be undefined behavior using dynamic shape and aten::size\n",
      "WARNING: [Torch-TensorRT TorchScript Conversion Context] - Unused Input: input_0\n",
      "WARNING: [Torch-TensorRT TorchScript Conversion Context] - [RemoveDeadLayers] Input Tensor input_0 is unused or used only at compile-time, but is not being removed.\n",
      "WARNING: [Torch-TensorRT TorchScript Conversion Context] - TensorRT was linked against cuDNN 8.6.0 but loaded cuDNN 8.0.2\n",
      "WARNING: [Torch-TensorRT TorchScript Conversion Context] - TensorRT was linked against cuDNN 8.6.0 but loaded cuDNN 8.0.2\n",
      "WARNING: [Torch-TensorRT] - TensorRT was linked against cuDNN 8.6.0 but loaded cuDNN 8.0.2\n",
      "WARNING: [Torch-TensorRT] - TensorRT was linked against cuDNN 8.6.0 but loaded cuDNN 8.0.2\n",
      "WARNING: [Torch-TensorRT] - CUDA lazy loading is not enabled. Enabling it can significantly reduce device memory usage. See `CUDA_MODULE_LOADING` in https://docs.nvidia.com/cuda/cuda-c-programming-guide/index.html#env-vars\n",
      "WARNING: [Torch-TensorRT TorchScript Conversion Context] - CUDA lazy loading is not enabled. Enabling it can significantly reduce device memory usage. See `CUDA_MODULE_LOADING` in https://docs.nvidia.com/cuda/cuda-c-programming-guide/index.html#env-vars\n",
      "WARNING: [Torch-TensorRT] - There may be undefined behavior using dynamic shape and aten::size\n",
      "WARNING: [Torch-TensorRT] - There may be undefined behavior using dynamic shape and aten::size\n",
      "WARNING: [Torch-TensorRT TorchScript Conversion Context] - Unused Input: input_0\n",
      "WARNING: [Torch-TensorRT TorchScript Conversion Context] - [RemoveDeadLayers] Input Tensor input_0 is unused or used only at compile-time, but is not being removed.\n",
      "WARNING: [Torch-TensorRT TorchScript Conversion Context] - TensorRT was linked against cuDNN 8.6.0 but loaded cuDNN 8.0.2\n",
      "WARNING: [Torch-TensorRT TorchScript Conversion Context] - TensorRT was linked against cuDNN 8.6.0 but loaded cuDNN 8.0.2\n",
      "WARNING: [Torch-TensorRT] - TensorRT was linked against cuDNN 8.6.0 but loaded cuDNN 8.0.2\n",
      "WARNING: [Torch-TensorRT] - TensorRT was linked against cuDNN 8.6.0 but loaded cuDNN 8.0.2\n",
      "WARNING: [Torch-TensorRT] - CUDA lazy loading is not enabled. Enabling it can significantly reduce device memory usage. See `CUDA_MODULE_LOADING` in https://docs.nvidia.com/cuda/cuda-c-programming-guide/index.html#env-vars\n",
      "WARNING: [Torch-TensorRT TorchScript Conversion Context] - CUDA lazy loading is not enabled. Enabling it can significantly reduce device memory usage. See `CUDA_MODULE_LOADING` in https://docs.nvidia.com/cuda/cuda-c-programming-guide/index.html#env-vars\n",
      "WARNING: [Torch-TensorRT] - There may be undefined behavior using dynamic shape and aten::size\n",
      "WARNING: [Torch-TensorRT] - There may be undefined behavior using dynamic shape and aten::size\n",
      "WARNING: [Torch-TensorRT TorchScript Conversion Context] - Unused Input: input_0\n",
      "WARNING: [Torch-TensorRT TorchScript Conversion Context] - [RemoveDeadLayers] Input Tensor input_0 is unused or used only at compile-time, but is not being removed.\n",
      "WARNING: [Torch-TensorRT TorchScript Conversion Context] - TensorRT was linked against cuDNN 8.6.0 but loaded cuDNN 8.0.2\n",
      "WARNING: [Torch-TensorRT TorchScript Conversion Context] - TensorRT was linked against cuDNN 8.6.0 but loaded cuDNN 8.0.2\n",
      "WARNING: [Torch-TensorRT] - TensorRT was linked against cuDNN 8.6.0 but loaded cuDNN 8.0.2\n",
      "WARNING: [Torch-TensorRT] - TensorRT was linked against cuDNN 8.6.0 but loaded cuDNN 8.0.2\n",
      "WARNING: [Torch-TensorRT] - CUDA lazy loading is not enabled. Enabling it can significantly reduce device memory usage. See `CUDA_MODULE_LOADING` in https://docs.nvidia.com/cuda/cuda-c-programming-guide/index.html#env-vars\n",
      "WARNING: [Torch-TensorRT TorchScript Conversion Context] - CUDA lazy loading is not enabled. Enabling it can significantly reduce device memory usage. See `CUDA_MODULE_LOADING` in https://docs.nvidia.com/cuda/cuda-c-programming-guide/index.html#env-vars\n",
      "WARNING: [Torch-TensorRT] - There may be undefined behavior using dynamic shape and aten::size\n",
      "WARNING: [Torch-TensorRT] - There may be undefined behavior using dynamic shape and aten::size\n",
      "WARNING: [Torch-TensorRT TorchScript Conversion Context] - Unused Input: input_0\n",
      "WARNING: [Torch-TensorRT TorchScript Conversion Context] - [RemoveDeadLayers] Input Tensor input_0 is unused or used only at compile-time, but is not being removed.\n",
      "WARNING: [Torch-TensorRT TorchScript Conversion Context] - TensorRT was linked against cuDNN 8.6.0 but loaded cuDNN 8.0.2\n",
      "WARNING: [Torch-TensorRT TorchScript Conversion Context] - TensorRT was linked against cuDNN 8.6.0 but loaded cuDNN 8.0.2\n",
      "WARNING: [Torch-TensorRT] - TensorRT was linked against cuDNN 8.6.0 but loaded cuDNN 8.0.2\n",
      "WARNING: [Torch-TensorRT] - TensorRT was linked against cuDNN 8.6.0 but loaded cuDNN 8.0.2\n",
      "WARNING: [Torch-TensorRT] - CUDA lazy loading is not enabled. Enabling it can significantly reduce device memory usage. See `CUDA_MODULE_LOADING` in https://docs.nvidia.com/cuda/cuda-c-programming-guide/index.html#env-vars\n",
      "WARNING: [Torch-TensorRT TorchScript Conversion Context] - CUDA lazy loading is not enabled. Enabling it can significantly reduce device memory usage. See `CUDA_MODULE_LOADING` in https://docs.nvidia.com/cuda/cuda-c-programming-guide/index.html#env-vars\n",
      "WARNING: [Torch-TensorRT] - There may be undefined behavior using dynamic shape and aten::size\n",
      "WARNING: [Torch-TensorRT] - There may be undefined behavior using dynamic shape and aten::size\n",
      "WARNING: [Torch-TensorRT TorchScript Conversion Context] - Unused Input: input_0\n",
      "WARNING: [Torch-TensorRT TorchScript Conversion Context] - [RemoveDeadLayers] Input Tensor input_0 is unused or used only at compile-time, but is not being removed.\n",
      "WARNING: [Torch-TensorRT TorchScript Conversion Context] - TensorRT was linked against cuDNN 8.6.0 but loaded cuDNN 8.0.2\n",
      "WARNING: [Torch-TensorRT TorchScript Conversion Context] - TensorRT was linked against cuDNN 8.6.0 but loaded cuDNN 8.0.2\n",
      "WARNING: [Torch-TensorRT] - TensorRT was linked against cuDNN 8.6.0 but loaded cuDNN 8.0.2\n",
      "WARNING: [Torch-TensorRT] - TensorRT was linked against cuDNN 8.6.0 but loaded cuDNN 8.0.2\n",
      "WARNING: [Torch-TensorRT] - CUDA lazy loading is not enabled. Enabling it can significantly reduce device memory usage. See `CUDA_MODULE_LOADING` in https://docs.nvidia.com/cuda/cuda-c-programming-guide/index.html#env-vars\n",
      "WARNING: [Torch-TensorRT TorchScript Conversion Context] - CUDA lazy loading is not enabled. Enabling it can significantly reduce device memory usage. See `CUDA_MODULE_LOADING` in https://docs.nvidia.com/cuda/cuda-c-programming-guide/index.html#env-vars\n",
      "WARNING: [Torch-TensorRT] - There may be undefined behavior using dynamic shape and aten::size\n",
      "WARNING: [Torch-TensorRT TorchScript Conversion Context] - Unused Input: input_0\n",
      "WARNING: [Torch-TensorRT TorchScript Conversion Context] - [RemoveDeadLayers] Input Tensor input_0 is unused or used only at compile-time, but is not being removed.\n",
      "WARNING: [Torch-TensorRT TorchScript Conversion Context] - TensorRT was linked against cuDNN 8.6.0 but loaded cuDNN 8.0.2\n",
      "WARNING: [Torch-TensorRT TorchScript Conversion Context] - TensorRT was linked against cuDNN 8.6.0 but loaded cuDNN 8.0.2\n",
      "WARNING: [Torch-TensorRT] - TensorRT was linked against cuDNN 8.6.0 but loaded cuDNN 8.0.2\n",
      "WARNING: [Torch-TensorRT] - TensorRT was linked against cuDNN 8.6.0 but loaded cuDNN 8.0.2\n",
      "WARNING: [Torch-TensorRT] - CUDA lazy loading is not enabled. Enabling it can significantly reduce device memory usage. See `CUDA_MODULE_LOADING` in https://docs.nvidia.com/cuda/cuda-c-programming-guide/index.html#env-vars\n"
     ]
    }
   ],
   "source": [
    "# Try with TensorRT\n",
    "# model = model.eval()\n",
    "trt_model = torch_tensorrt.compile(\n",
    "    model.eval(), \n",
    "    inputs=[\n",
    "        torch_tensorrt.Input(\n",
    "        (1, 3, 224, 224))\n",
    "    ],\n",
    "    enabled_precisions={torch.float32},\n",
    "    require_full_compilation=False,\n",
    ")"
   ]
  },
  {
   "cell_type": "code",
   "execution_count": 100,
   "metadata": {},
   "outputs": [
    {
     "name": "stdout",
     "output_type": "stream",
     "text": [
      "Warm up ...\n",
      "Start timing ...\n",
      "Iteration 10/1000, avg batch time 4.53 ms\n",
      "Iteration 20/1000, avg batch time 3.80 ms\n",
      "Iteration 30/1000, avg batch time 3.57 ms\n",
      "Iteration 40/1000, avg batch time 3.44 ms\n",
      "Iteration 50/1000, avg batch time 3.35 ms\n",
      "Iteration 60/1000, avg batch time 3.30 ms\n",
      "Iteration 70/1000, avg batch time 3.26 ms\n",
      "Iteration 80/1000, avg batch time 3.43 ms\n",
      "Iteration 90/1000, avg batch time 3.39 ms\n",
      "Iteration 100/1000, avg batch time 3.36 ms\n",
      "Iteration 110/1000, avg batch time 3.33 ms\n",
      "Iteration 120/1000, avg batch time 3.30 ms\n",
      "Iteration 130/1000, avg batch time 3.28 ms\n",
      "Iteration 140/1000, avg batch time 3.26 ms\n",
      "Iteration 150/1000, avg batch time 3.25 ms\n",
      "Iteration 160/1000, avg batch time 3.23 ms\n",
      "Iteration 170/1000, avg batch time 3.22 ms\n",
      "Iteration 180/1000, avg batch time 3.21 ms\n",
      "Iteration 190/1000, avg batch time 3.20 ms\n",
      "Iteration 200/1000, avg batch time 3.19 ms\n",
      "Iteration 210/1000, avg batch time 3.19 ms\n",
      "Iteration 220/1000, avg batch time 3.18 ms\n",
      "Iteration 230/1000, avg batch time 3.17 ms\n",
      "Iteration 240/1000, avg batch time 3.17 ms\n",
      "Iteration 250/1000, avg batch time 3.16 ms\n",
      "Iteration 260/1000, avg batch time 3.16 ms\n",
      "Iteration 270/1000, avg batch time 3.15 ms\n",
      "Iteration 280/1000, avg batch time 3.15 ms\n",
      "Iteration 290/1000, avg batch time 3.14 ms\n",
      "Iteration 300/1000, avg batch time 3.14 ms\n",
      "Iteration 310/1000, avg batch time 3.14 ms\n",
      "Iteration 320/1000, avg batch time 3.13 ms\n",
      "Iteration 330/1000, avg batch time 3.13 ms\n",
      "Iteration 340/1000, avg batch time 3.13 ms\n",
      "Iteration 350/1000, avg batch time 3.13 ms\n",
      "Iteration 360/1000, avg batch time 3.12 ms\n",
      "Iteration 370/1000, avg batch time 3.12 ms\n",
      "Iteration 380/1000, avg batch time 3.12 ms\n",
      "Iteration 390/1000, avg batch time 3.12 ms\n",
      "Iteration 400/1000, avg batch time 3.11 ms\n",
      "Iteration 410/1000, avg batch time 3.11 ms\n",
      "Iteration 420/1000, avg batch time 3.11 ms\n",
      "Iteration 430/1000, avg batch time 3.11 ms\n",
      "Iteration 440/1000, avg batch time 3.11 ms\n",
      "Iteration 450/1000, avg batch time 3.11 ms\n",
      "Iteration 460/1000, avg batch time 3.10 ms\n",
      "Iteration 470/1000, avg batch time 3.10 ms\n",
      "Iteration 480/1000, avg batch time 3.10 ms\n",
      "Iteration 490/1000, avg batch time 3.10 ms\n",
      "Iteration 500/1000, avg batch time 3.10 ms\n",
      "Iteration 510/1000, avg batch time 3.10 ms\n",
      "Iteration 520/1000, avg batch time 3.10 ms\n",
      "Iteration 530/1000, avg batch time 3.09 ms\n",
      "Iteration 540/1000, avg batch time 3.09 ms\n",
      "Iteration 550/1000, avg batch time 3.09 ms\n",
      "Iteration 560/1000, avg batch time 3.09 ms\n",
      "Iteration 570/1000, avg batch time 3.11 ms\n",
      "Iteration 580/1000, avg batch time 3.11 ms\n",
      "Iteration 590/1000, avg batch time 3.11 ms\n",
      "Iteration 600/1000, avg batch time 3.11 ms\n",
      "Iteration 610/1000, avg batch time 3.11 ms\n",
      "Iteration 620/1000, avg batch time 3.11 ms\n",
      "Iteration 630/1000, avg batch time 3.11 ms\n",
      "Iteration 640/1000, avg batch time 3.11 ms\n",
      "Iteration 650/1000, avg batch time 3.11 ms\n",
      "Iteration 660/1000, avg batch time 3.11 ms\n",
      "Iteration 670/1000, avg batch time 3.11 ms\n",
      "Iteration 680/1000, avg batch time 3.10 ms\n",
      "Iteration 690/1000, avg batch time 3.10 ms\n",
      "Iteration 700/1000, avg batch time 3.10 ms\n",
      "Iteration 710/1000, avg batch time 3.10 ms\n",
      "Iteration 720/1000, avg batch time 3.10 ms\n",
      "Iteration 730/1000, avg batch time 3.10 ms\n",
      "Iteration 740/1000, avg batch time 3.10 ms\n",
      "Iteration 750/1000, avg batch time 3.10 ms\n",
      "Iteration 760/1000, avg batch time 3.10 ms\n",
      "Iteration 770/1000, avg batch time 3.10 ms\n",
      "Iteration 780/1000, avg batch time 3.09 ms\n",
      "Iteration 790/1000, avg batch time 3.09 ms\n",
      "Iteration 800/1000, avg batch time 3.09 ms\n",
      "Iteration 810/1000, avg batch time 3.09 ms\n",
      "Iteration 820/1000, avg batch time 3.09 ms\n",
      "Iteration 830/1000, avg batch time 3.09 ms\n",
      "Iteration 840/1000, avg batch time 3.09 ms\n",
      "Iteration 850/1000, avg batch time 3.09 ms\n",
      "Iteration 860/1000, avg batch time 3.09 ms\n",
      "Iteration 870/1000, avg batch time 3.09 ms\n",
      "Iteration 880/1000, avg batch time 3.09 ms\n",
      "Iteration 890/1000, avg batch time 3.09 ms\n",
      "Iteration 900/1000, avg batch time 3.09 ms\n",
      "Iteration 910/1000, avg batch time 3.09 ms\n",
      "Iteration 920/1000, avg batch time 3.08 ms\n",
      "Iteration 930/1000, avg batch time 3.08 ms\n",
      "Iteration 940/1000, avg batch time 3.08 ms\n",
      "Iteration 950/1000, avg batch time 3.08 ms\n",
      "Iteration 960/1000, avg batch time 3.08 ms\n",
      "Iteration 970/1000, avg batch time 3.08 ms\n",
      "Iteration 980/1000, avg batch time 3.08 ms\n",
      "Iteration 990/1000, avg batch time 3.08 ms\n",
      "Iteration 1000/1000, avg batch time 3.08 ms\n",
      "Input shape: torch.Size([1, 3, 224, 224])\n",
      "Average throughput: 324.66 images/second\n"
     ]
    }
   ],
   "source": [
    "benchmark(trt_model, input_shape=(1, 3, 224, 224), dtype='fp32', nwarmup=50, nruns=1000)"
   ]
  },
  {
   "cell_type": "markdown",
   "metadata": {},
   "source": [
    "## Try with real data"
   ]
  },
  {
   "cell_type": "code",
   "execution_count": 101,
   "metadata": {},
   "outputs": [
    {
     "data": {
      "text/plain": [
       "['food_photos/cashews/96237783-2f60-4f2d-983a-f1b289067887.jpeg',\n",
       " 'food_photos/cashews/3ab541fe-7b51-4382-acaa-98e895dd995f.jpeg',\n",
       " 'food_photos/cashews/4ae82b11-052f-4b2f-b2f8-da4054f6d03f.jpeg',\n",
       " 'food_photos/cashews/c6d56f23-4aee-4e35-a1a7-6b7a9cf66600.jpeg',\n",
       " 'food_photos/cashews/80ca8d9c-bf05-49af-84ef-6f25a15241af.jpeg',\n",
       " 'food_photos/orange_juice/64eaaf1b-6e71-4511-8ecb-d3a38c06a3d6.jpeg',\n",
       " 'food_photos/orange_juice/fa15a4e4-63b2-4491-88fa-095301c34fe0.jpeg',\n",
       " 'food_photos/grapes_red/ab2835cd-0437-4be2-8ba9-af9f83a5552d.jpeg',\n",
       " 'food_photos/grapes_red/8f5f13fe-2faa-4b02-b8a8-5690a28ad429.jpeg',\n",
       " 'food_photos/grapes_red/3d66e684-4f4a-413e-8768-9ee0226df0ad.jpeg']"
      ]
     },
     "execution_count": 101,
     "metadata": {},
     "output_type": "execute_result"
    }
   ],
   "source": [
    "from PIL import Image\n",
    "\n",
    "# Get the image paths\n",
    "import glob\n",
    "import os\n",
    "\n",
    "food_images = glob.glob(os.path.join(\"food_photos/*\", \"*.jp*g\"))\n",
    "food_images[:10]\n",
    "# image_paths"
   ]
  },
  {
   "cell_type": "code",
   "execution_count": 102,
   "metadata": {},
   "outputs": [
    {
     "data": {
      "text/plain": [
       "1381"
      ]
     },
     "execution_count": 102,
     "metadata": {},
     "output_type": "execute_result"
    }
   ],
   "source": [
    "len(food_images)"
   ]
  },
  {
   "cell_type": "code",
   "execution_count": 103,
   "metadata": {},
   "outputs": [
    {
     "data": {
      "application/vnd.jupyter.widget-view+json": {
       "model_id": "c17f5c0b456340598dbbcbdaa6ce318b",
       "version_major": 2,
       "version_minor": 0
      },
      "text/plain": [
       "  0%|          | 0/1381 [00:00<?, ?it/s]"
      ]
     },
     "metadata": {},
     "output_type": "display_data"
    }
   ],
   "source": [
    "normal_preds = []\n",
    "for image in tqdm(food_images):\n",
    "    start_time = time.time()\n",
    "    pred_dict = pred_on_image(model, class_dict, image)\n",
    "    end_time = time.time()\n",
    "    pred_dict[\"pred_time\"] = end_time - start_time\n",
    "    normal_preds.append(pred_dict)\n",
    "    # print(pred_dict)"
   ]
  },
  {
   "cell_type": "code",
   "execution_count": 104,
   "metadata": {},
   "outputs": [
    {
     "data": {
      "application/vnd.jupyter.widget-view+json": {
       "model_id": "73e14e22220e41a2a49df75f1bfd7bc4",
       "version_major": 2,
       "version_minor": 0
      },
      "text/plain": [
       "  0%|          | 0/1381 [00:00<?, ?it/s]"
      ]
     },
     "metadata": {},
     "output_type": "display_data"
    }
   ],
   "source": [
    "# Try with JIT model\n",
    "jit_preds = []\n",
    "for image in tqdm(food_images):\n",
    "    start_time = time.time()\n",
    "    pred_dict = pred_on_image(model_jit, class_dict, image)\n",
    "    end_time = time.time()\n",
    "    pred_dict[\"pred_time\"] = end_time - start_time\n",
    "    jit_preds.append(pred_dict)"
   ]
  },
  {
   "cell_type": "code",
   "execution_count": 105,
   "metadata": {},
   "outputs": [
    {
     "data": {
      "application/vnd.jupyter.widget-view+json": {
       "model_id": "dbabb8d57d8143d597ac6155762a3225",
       "version_major": 2,
       "version_minor": 0
      },
      "text/plain": [
       "  0%|          | 0/1381 [00:00<?, ?it/s]"
      ]
     },
     "metadata": {},
     "output_type": "display_data"
    }
   ],
   "source": [
    "# Try with TensorRT model\n",
    "trt_preds = []\n",
    "for image in tqdm(food_images):\n",
    "    start_time = time.time()\n",
    "    pred_dict = pred_on_image(trt_model, class_dict, image)\n",
    "    end_time = time.time()\n",
    "    pred_dict[\"pred_time\"] = end_time - start_time\n",
    "    trt_preds.append(pred_dict)"
   ]
  },
  {
   "attachments": {},
   "cell_type": "markdown",
   "metadata": {},
   "source": [
    "## Compare the pred times"
   ]
  },
  {
   "cell_type": "code",
   "execution_count": 110,
   "metadata": {},
   "outputs": [],
   "source": [
    "import pandas as pd\n",
    "normal_pred_df = pd.DataFrame(normal_preds)\n",
    "jit_pred_df = pd.DataFrame(jit_preds)\n",
    "trt_pred_df = pd.DataFrame(trt_preds)\n",
    "\n",
    "# Add the ground truth names\n",
    "normal_pred_df[\"ground_truth\"] = normal_pred_df[\"image_path\"].apply(lambda x: x.split(\"/\")[-2])\n",
    "jit_pred_df[\"ground_truth\"] = jit_pred_df[\"image_path\"].apply(lambda x: x.split(\"/\")[-2])\n",
    "trt_pred_df[\"ground_truth\"] = trt_pred_df[\"image_path\"].apply(lambda x: x.split(\"/\")[-2])"
   ]
  },
  {
   "cell_type": "code",
   "execution_count": 111,
   "metadata": {},
   "outputs": [
    {
     "data": {
      "text/plain": [
       "<BarContainer object of 3 artists>"
      ]
     },
     "execution_count": 111,
     "metadata": {},
     "output_type": "execute_result"
    },
    {
     "data": {
      "image/png": "[encoded data removed]",
      "text/plain": [
       "<Figure size 432x288 with 1 Axes>"
      ]
     },
     "metadata": {
      "needs_background": "light"
     },
     "output_type": "display_data"
    }
   ],
   "source": [
    "# Get the average pred times\n",
    "avg_norm_pred_time = normal_pred_df[\"pred_time\"].mean()\n",
    "avg_jit_pred_time = jit_pred_df[\"pred_time\"].mean()\n",
    "avg_trt_pred_time = trt_pred_df[\"pred_time\"].mean()\n",
    "\n",
    "# Plot the pred times\n",
    "import matplotlib.pyplot as plt\n",
    "\n",
    "plt.bar([\"Normal\", \"JIT\", \"TRT\"], [avg_norm_pred_time, avg_jit_pred_time, avg_trt_pred_time])\n"
   ]
  },
  {
   "cell_type": "markdown",
   "metadata": {},
   "source": [
    "## Compare the results"
   ]
  },
  {
   "cell_type": "code",
   "execution_count": 112,
   "metadata": {},
   "outputs": [
    {
     "data": {
      "text/plain": [
       "<BarContainer object of 3 artists>"
      ]
     },
     "execution_count": 112,
     "metadata": {},
     "output_type": "execute_result"
    },
    {
     "data": {
      "image/png": "[encoded data removed]",
      "text/plain": [
       "<Figure size 432x288 with 1 Axes>"
      ]
     },
     "metadata": {
      "needs_background": "light"
     },
     "output_type": "display_data"
    }
   ],
   "source": [
    "# Get the accuracy of each model by comparing pred_class to ground_truth\n",
    "normal_pred_df[\"pred_correct\"] = normal_pred_df[\"pred_class\"] == normal_pred_df[\"ground_truth\"]\n",
    "jit_pred_df[\"pred_correct\"] = jit_pred_df[\"pred_class\"] == jit_pred_df[\"ground_truth\"]\n",
    "trt_pred_df[\"pred_correct\"] = trt_pred_df[\"pred_class\"] == trt_pred_df[\"ground_truth\"]\n",
    "\n",
    "# Get the average accuracy\n",
    "avg_norm_acc = normal_pred_df[\"pred_correct\"].mean()\n",
    "avg_jit_acc = jit_pred_df[\"pred_correct\"].mean()\n",
    "avg_trt_acc = trt_pred_df[\"pred_correct\"].mean()\n",
    "\n",
    "# Plot the accuracy\n",
    "plt.bar([\"Normal\", \"JIT\", \"TRT\"], [avg_norm_acc, avg_jit_acc, avg_trt_acc])\n"
   ]
  },
  {
   "cell_type": "code",
   "execution_count": 113,
   "metadata": {},
   "outputs": [
    {
     "data": {
      "text/plain": [
       "(0.9724837074583635, 0.9724837074583635, 0.37074583635047065)"
      ]
     },
     "execution_count": 113,
     "metadata": {},
     "output_type": "execute_result"
    }
   ],
   "source": [
    "avg_norm_acc, avg_jit_acc, avg_trt_acc"
   ]
  },
  {
   "cell_type": "code",
   "execution_count": 114,
   "metadata": {},
   "outputs": [
    {
     "data": {
      "text/html": [
       "<div>\n",
       "<style scoped>\n",
       "    .dataframe tbody tr th:only-of-type {\n",
       "        vertical-align: middle;\n",
       "    }\n",
       "\n",
       "    .dataframe tbody tr th {\n",
       "        vertical-align: top;\n",
       "    }\n",
       "\n",
       "    .dataframe thead th {\n",
       "        text-align: right;\n",
       "    }\n",
       "</style>\n",
       "<table border=\"1\" class=\"dataframe\">\n",
       "  <thead>\n",
       "    <tr style=\"text-align: right;\">\n",
       "      <th></th>\n",
       "      <th>image_path</th>\n",
       "      <th>pred_label</th>\n",
       "      <th>pred_prob</th>\n",
       "      <th>pred_class</th>\n",
       "      <th>top_n_preds</th>\n",
       "      <th>pred_time</th>\n",
       "      <th>ground_truth</th>\n",
       "      <th>pred_correct</th>\n",
       "    </tr>\n",
       "  </thead>\n",
       "  <tbody>\n",
       "    <tr>\n",
       "      <th>0</th>\n",
       "      <td>food_photos/cashews/96237783-2f60-4f2d-983a-f1...</td>\n",
       "      <td>38</td>\n",
       "      <td>0.861023</td>\n",
       "      <td>cashews</td>\n",
       "      <td>[{'pred_prob': 0.8610230088233948, 'pred_label...</td>\n",
       "      <td>0.014597</td>\n",
       "      <td>cashews</td>\n",
       "      <td>True</td>\n",
       "    </tr>\n",
       "    <tr>\n",
       "      <th>1</th>\n",
       "      <td>food_photos/cashews/3ab541fe-7b51-4382-acaa-98...</td>\n",
       "      <td>38</td>\n",
       "      <td>0.728644</td>\n",
       "      <td>cashews</td>\n",
       "      <td>[{'pred_prob': 0.7286444306373596, 'pred_label...</td>\n",
       "      <td>0.015194</td>\n",
       "      <td>cashews</td>\n",
       "      <td>True</td>\n",
       "    </tr>\n",
       "    <tr>\n",
       "      <th>2</th>\n",
       "      <td>food_photos/cashews/4ae82b11-052f-4b2f-b2f8-da...</td>\n",
       "      <td>38</td>\n",
       "      <td>0.584166</td>\n",
       "      <td>cashews</td>\n",
       "      <td>[{'pred_prob': 0.5841659307479858, 'pred_label...</td>\n",
       "      <td>0.014028</td>\n",
       "      <td>cashews</td>\n",
       "      <td>True</td>\n",
       "    </tr>\n",
       "    <tr>\n",
       "      <th>3</th>\n",
       "      <td>food_photos/cashews/c6d56f23-4aee-4e35-a1a7-6b...</td>\n",
       "      <td>38</td>\n",
       "      <td>0.477929</td>\n",
       "      <td>cashews</td>\n",
       "      <td>[{'pred_prob': 0.47792866826057434, 'pred_labe...</td>\n",
       "      <td>0.014700</td>\n",
       "      <td>cashews</td>\n",
       "      <td>True</td>\n",
       "    </tr>\n",
       "    <tr>\n",
       "      <th>4</th>\n",
       "      <td>food_photos/cashews/80ca8d9c-bf05-49af-84ef-6f...</td>\n",
       "      <td>38</td>\n",
       "      <td>0.283621</td>\n",
       "      <td>cashews</td>\n",
       "      <td>[{'pred_prob': 0.28362125158309937, 'pred_labe...</td>\n",
       "      <td>0.013644</td>\n",
       "      <td>cashews</td>\n",
       "      <td>True</td>\n",
       "    </tr>\n",
       "  </tbody>\n",
       "</table>\n",
       "</div>"
      ],
      "text/plain": [
       "                                          image_path  pred_label  pred_prob  \\\n",
       "0  food_photos/cashews/96237783-2f60-4f2d-983a-f1...          38   0.861023   \n",
       "1  food_photos/cashews/3ab541fe-7b51-4382-acaa-98...          38   0.728644   \n",
       "2  food_photos/cashews/4ae82b11-052f-4b2f-b2f8-da...          38   0.584166   \n",
       "3  food_photos/cashews/c6d56f23-4aee-4e35-a1a7-6b...          38   0.477929   \n",
       "4  food_photos/cashews/80ca8d9c-bf05-49af-84ef-6f...          38   0.283621   \n",
       "\n",
       "  pred_class                                        top_n_preds  pred_time  \\\n",
       "0    cashews  [{'pred_prob': 0.8610230088233948, 'pred_label...   0.014597   \n",
       "1    cashews  [{'pred_prob': 0.7286444306373596, 'pred_label...   0.015194   \n",
       "2    cashews  [{'pred_prob': 0.5841659307479858, 'pred_label...   0.014028   \n",
       "3    cashews  [{'pred_prob': 0.47792866826057434, 'pred_labe...   0.014700   \n",
       "4    cashews  [{'pred_prob': 0.28362125158309937, 'pred_labe...   0.013644   \n",
       "\n",
       "  ground_truth  pred_correct  \n",
       "0      cashews          True  \n",
       "1      cashews          True  \n",
       "2      cashews          True  \n",
       "3      cashews          True  \n",
       "4      cashews          True  "
      ]
     },
     "execution_count": 114,
     "metadata": {},
     "output_type": "execute_result"
    }
   ],
   "source": [
    "trt_pred_df.head()"
   ]
  },
  {
   "cell_type": "code",
   "execution_count": 115,
   "metadata": {},
   "outputs": [
    {
     "data": {
      "text/html": [
       "<div>\n",
       "<style scoped>\n",
       "    .dataframe tbody tr th:only-of-type {\n",
       "        vertical-align: middle;\n",
       "    }\n",
       "\n",
       "    .dataframe tbody tr th {\n",
       "        vertical-align: top;\n",
       "    }\n",
       "\n",
       "    .dataframe thead th {\n",
       "        text-align: right;\n",
       "    }\n",
       "</style>\n",
       "<table border=\"1\" class=\"dataframe\">\n",
       "  <thead>\n",
       "    <tr style=\"text-align: right;\">\n",
       "      <th></th>\n",
       "      <th>image_path</th>\n",
       "      <th>pred_label</th>\n",
       "      <th>pred_prob</th>\n",
       "      <th>pred_class</th>\n",
       "      <th>top_n_preds</th>\n",
       "      <th>pred_time</th>\n",
       "      <th>ground_truth</th>\n",
       "      <th>pred_correct</th>\n",
       "    </tr>\n",
       "  </thead>\n",
       "  <tbody>\n",
       "    <tr>\n",
       "      <th>5</th>\n",
       "      <td>food_photos/orange_juice/64eaaf1b-6e71-4511-8e...</td>\n",
       "      <td>94</td>\n",
       "      <td>0.752481</td>\n",
       "      <td>ice_coffee</td>\n",
       "      <td>[{'pred_prob': 0.7524810433387756, 'pred_label...</td>\n",
       "      <td>0.011425</td>\n",
       "      <td>orange_juice</td>\n",
       "      <td>False</td>\n",
       "    </tr>\n",
       "    <tr>\n",
       "      <th>6</th>\n",
       "      <td>food_photos/orange_juice/fa15a4e4-63b2-4491-88...</td>\n",
       "      <td>183</td>\n",
       "      <td>0.338369</td>\n",
       "      <td>soda</td>\n",
       "      <td>[{'pred_prob': 0.3383690416812897, 'pred_label...</td>\n",
       "      <td>0.013366</td>\n",
       "      <td>orange_juice</td>\n",
       "      <td>False</td>\n",
       "    </tr>\n",
       "    <tr>\n",
       "      <th>7</th>\n",
       "      <td>food_photos/grapes_red/ab2835cd-0437-4be2-8ba9...</td>\n",
       "      <td>35</td>\n",
       "      <td>0.277301</td>\n",
       "      <td>candy</td>\n",
       "      <td>[{'pred_prob': 0.27730095386505127, 'pred_labe...</td>\n",
       "      <td>0.013261</td>\n",
       "      <td>grapes_red</td>\n",
       "      <td>False</td>\n",
       "    </tr>\n",
       "    <tr>\n",
       "      <th>8</th>\n",
       "      <td>food_photos/grapes_red/8f5f13fe-2faa-4b02-b8a8...</td>\n",
       "      <td>163</td>\n",
       "      <td>0.258178</td>\n",
       "      <td>rhubarb</td>\n",
       "      <td>[{'pred_prob': 0.2581775188446045, 'pred_label...</td>\n",
       "      <td>0.013421</td>\n",
       "      <td>grapes_red</td>\n",
       "      <td>False</td>\n",
       "    </tr>\n",
       "    <tr>\n",
       "      <th>9</th>\n",
       "      <td>food_photos/grapes_red/3d66e684-4f4a-413e-8768...</td>\n",
       "      <td>35</td>\n",
       "      <td>0.809712</td>\n",
       "      <td>candy</td>\n",
       "      <td>[{'pred_prob': 0.8097115755081177, 'pred_label...</td>\n",
       "      <td>0.013802</td>\n",
       "      <td>grapes_red</td>\n",
       "      <td>False</td>\n",
       "    </tr>\n",
       "    <tr>\n",
       "      <th>...</th>\n",
       "      <td>...</td>\n",
       "      <td>...</td>\n",
       "      <td>...</td>\n",
       "      <td>...</td>\n",
       "      <td>...</td>\n",
       "      <td>...</td>\n",
       "      <td>...</td>\n",
       "      <td>...</td>\n",
       "    </tr>\n",
       "    <tr>\n",
       "      <th>1372</th>\n",
       "      <td>food_photos/tea/3108aa69-9a6a-44cc-b2e8-bd52d6...</td>\n",
       "      <td>94</td>\n",
       "      <td>0.171884</td>\n",
       "      <td>ice_coffee</td>\n",
       "      <td>[{'pred_prob': 0.17188429832458496, 'pred_labe...</td>\n",
       "      <td>0.011276</td>\n",
       "      <td>tea</td>\n",
       "      <td>False</td>\n",
       "    </tr>\n",
       "    <tr>\n",
       "      <th>1373</th>\n",
       "      <td>food_photos/tea/a15bb642-c99f-4993-b8ec-d54fc5...</td>\n",
       "      <td>94</td>\n",
       "      <td>0.740706</td>\n",
       "      <td>ice_coffee</td>\n",
       "      <td>[{'pred_prob': 0.7407059669494629, 'pred_label...</td>\n",
       "      <td>0.012002</td>\n",
       "      <td>tea</td>\n",
       "      <td>False</td>\n",
       "    </tr>\n",
       "    <tr>\n",
       "      <th>1374</th>\n",
       "      <td>food_photos/tea/b1e8a40f-ae3e-4b18-a45d-69c2a5...</td>\n",
       "      <td>163</td>\n",
       "      <td>0.284865</td>\n",
       "      <td>rhubarb</td>\n",
       "      <td>[{'pred_prob': 0.284864604473114, 'pred_label'...</td>\n",
       "      <td>0.011706</td>\n",
       "      <td>tea</td>\n",
       "      <td>False</td>\n",
       "    </tr>\n",
       "    <tr>\n",
       "      <th>1375</th>\n",
       "      <td>food_photos/tea/20df8dbb-53c0-441e-910a-b69b08...</td>\n",
       "      <td>94</td>\n",
       "      <td>0.258661</td>\n",
       "      <td>ice_coffee</td>\n",
       "      <td>[{'pred_prob': 0.2586609721183777, 'pred_label...</td>\n",
       "      <td>0.011749</td>\n",
       "      <td>tea</td>\n",
       "      <td>False</td>\n",
       "    </tr>\n",
       "    <tr>\n",
       "      <th>1376</th>\n",
       "      <td>food_photos/prosciutto/3adcda2f-6bc0-495a-ae37...</td>\n",
       "      <td>158</td>\n",
       "      <td>0.169317</td>\n",
       "      <td>pumpkin</td>\n",
       "      <td>[{'pred_prob': 0.16931678354740143, 'pred_labe...</td>\n",
       "      <td>0.011713</td>\n",
       "      <td>prosciutto</td>\n",
       "      <td>False</td>\n",
       "    </tr>\n",
       "  </tbody>\n",
       "</table>\n",
       "<p>869 rows × 8 columns</p>\n",
       "</div>"
      ],
      "text/plain": [
       "                                             image_path  pred_label  \\\n",
       "5     food_photos/orange_juice/64eaaf1b-6e71-4511-8e...          94   \n",
       "6     food_photos/orange_juice/fa15a4e4-63b2-4491-88...         183   \n",
       "7     food_photos/grapes_red/ab2835cd-0437-4be2-8ba9...          35   \n",
       "8     food_photos/grapes_red/8f5f13fe-2faa-4b02-b8a8...         163   \n",
       "9     food_photos/grapes_red/3d66e684-4f4a-413e-8768...          35   \n",
       "...                                                 ...         ...   \n",
       "1372  food_photos/tea/3108aa69-9a6a-44cc-b2e8-bd52d6...          94   \n",
       "1373  food_photos/tea/a15bb642-c99f-4993-b8ec-d54fc5...          94   \n",
       "1374  food_photos/tea/b1e8a40f-ae3e-4b18-a45d-69c2a5...         163   \n",
       "1375  food_photos/tea/20df8dbb-53c0-441e-910a-b69b08...          94   \n",
       "1376  food_photos/prosciutto/3adcda2f-6bc0-495a-ae37...         158   \n",
       "\n",
       "      pred_prob  pred_class  \\\n",
       "5      0.752481  ice_coffee   \n",
       "6      0.338369        soda   \n",
       "7      0.277301       candy   \n",
       "8      0.258178     rhubarb   \n",
       "9      0.809712       candy   \n",
       "...         ...         ...   \n",
       "1372   0.171884  ice_coffee   \n",
       "1373   0.740706  ice_coffee   \n",
       "1374   0.284865     rhubarb   \n",
       "1375   0.258661  ice_coffee   \n",
       "1376   0.169317     pumpkin   \n",
       "\n",
       "                                            top_n_preds  pred_time  \\\n",
       "5     [{'pred_prob': 0.7524810433387756, 'pred_label...   0.011425   \n",
       "6     [{'pred_prob': 0.3383690416812897, 'pred_label...   0.013366   \n",
       "7     [{'pred_prob': 0.27730095386505127, 'pred_labe...   0.013261   \n",
       "8     [{'pred_prob': 0.2581775188446045, 'pred_label...   0.013421   \n",
       "9     [{'pred_prob': 0.8097115755081177, 'pred_label...   0.013802   \n",
       "...                                                 ...        ...   \n",
       "1372  [{'pred_prob': 0.17188429832458496, 'pred_labe...   0.011276   \n",
       "1373  [{'pred_prob': 0.7407059669494629, 'pred_label...   0.012002   \n",
       "1374  [{'pred_prob': 0.284864604473114, 'pred_label'...   0.011706   \n",
       "1375  [{'pred_prob': 0.2586609721183777, 'pred_label...   0.011749   \n",
       "1376  [{'pred_prob': 0.16931678354740143, 'pred_labe...   0.011713   \n",
       "\n",
       "      ground_truth  pred_correct  \n",
       "5     orange_juice         False  \n",
       "6     orange_juice         False  \n",
       "7       grapes_red         False  \n",
       "8       grapes_red         False  \n",
       "9       grapes_red         False  \n",
       "...            ...           ...  \n",
       "1372           tea         False  \n",
       "1373           tea         False  \n",
       "1374           tea         False  \n",
       "1375           tea         False  \n",
       "1376    prosciutto         False  \n",
       "\n",
       "[869 rows x 8 columns]"
      ]
     },
     "execution_count": 115,
     "metadata": {},
     "output_type": "execute_result"
    }
   ],
   "source": [
    "# Show all the rows where the prediction was incorrect\n",
    "trt_pred_df[trt_pred_df[\"pred_correct\"] == False]"
   ]
  },
  {
   "cell_type": "code",
   "execution_count": 116,
   "metadata": {},
   "outputs": [
    {
     "data": {
      "text/plain": [
       "chilli          141\n",
       "parsley         123\n",
       "onion_green     120\n",
       "apple_red        92\n",
       "candy            90\n",
       "               ... \n",
       "nuts              1\n",
       "cabbage           1\n",
       "dates             1\n",
       "pork_belly        1\n",
       "blackberries      1\n",
       "Name: pred_class, Length: 91, dtype: int64"
      ]
     },
     "execution_count": 116,
     "metadata": {},
     "output_type": "execute_result"
    }
   ],
   "source": [
    "trt_pred_df.pred_class.value_counts()"
   ]
  },
  {
   "cell_type": "code",
   "execution_count": 117,
   "metadata": {},
   "outputs": [
    {
     "data": {
      "text/plain": [
       "grapes_red         164\n",
       "lychee             164\n",
       "broccolini         150\n",
       "pear               140\n",
       "fennel             137\n",
       "corn               133\n",
       "parsley            132\n",
       "onion_green        126\n",
       "chilli             112\n",
       "tomato              29\n",
       "celery              16\n",
       "banana               7\n",
       "cashews              5\n",
       "grapes_black         5\n",
       "apple_green          5\n",
       "cherries             4\n",
       "radish               4\n",
       "ice_coffee           4\n",
       "brussel_sprouts      4\n",
       "coriander            2\n",
       "red_wine             2\n",
       "garlic               2\n",
       "roast_beef           2\n",
       "tea                  2\n",
       "apple_red            2\n",
       "hot_chocolate        2\n",
       "milk                 2\n",
       "steak                2\n",
       "biltong              2\n",
       "rhubarb              1\n",
       "chocolate            1\n",
       "coffee               1\n",
       "green_beans          1\n",
       "prosciutto           1\n",
       "mushrooms            1\n",
       "soda                 1\n",
       "dragonfruit          1\n",
       "sushi                1\n",
       "lemon                1\n",
       "guava                1\n",
       "lime                 1\n",
       "candy                1\n",
       "omelette             1\n",
       "salami               1\n",
       "yoghurt              1\n",
       "cucumber             1\n",
       "fruit_juice          1\n",
       "blueberries          1\n",
       "turnip               1\n",
       "Name: pred_class, dtype: int64"
      ]
     },
     "execution_count": 117,
     "metadata": {},
     "output_type": "execute_result"
    }
   ],
   "source": [
    "normal_pred_df.pred_class.value_counts()"
   ]
  },
  {
   "cell_type": "code",
   "execution_count": 76,
   "metadata": {},
   "outputs": [
    {
     "data": {
      "text/plain": [
       "False"
      ]
     },
     "execution_count": 76,
     "metadata": {},
     "output_type": "execute_result"
    }
   ],
   "source": [
    "# Get the pred_class column of each df\n",
    "normal_pred_results = normal_pred_df[\"pred_class\"].tolist()\n",
    "jit_pred_results = jit_pred_df[\"pred_class\"].tolist()\n",
    "trt_preds_results = trt_pred_df[\"pred_class\"].tolist()\n",
    "\n",
    "# Compare the preds\n",
    "normal_preds == jit_preds == trt_preds"
   ]
  },
  {
   "cell_type": "code",
   "execution_count": 77,
   "metadata": {},
   "outputs": [
    {
     "data": {
      "text/plain": [
       "False"
      ]
     },
     "execution_count": 77,
     "metadata": {},
     "output_type": "execute_result"
    }
   ],
   "source": [
    "normal_preds == trt_preds"
   ]
  },
  {
   "cell_type": "code",
   "execution_count": null,
   "metadata": {},
   "outputs": [],
   "source": []
  },
  {
   "cell_type": "code",
   "execution_count": 145,
   "metadata": {},
   "outputs": [
    {
     "name": "stdout",
     "output_type": "stream",
     "text": [
      "[{'pred_prob': 0.8633630275726318, 'pred_label': 35, 'pred_class': 'candy'}, {'pred_prob': 0.048798371106386185, 'pred_label': 66, 'pred_class': 'donuts'}, {'pred_prob': 0.042874593287706375, 'pred_label': 204, 'pred_class': 'watermelon'}, {'pred_prob': 0.02628566138446331, 'pred_label': 194, 'pred_class': 'tacos'}, {'pred_prob': 0.0028918928001075983, 'pred_label': 85, 'pred_class': 'grapes_red'}]\n"
     ]
    },
    {
     "data": {
      "image/png": "[encoded data removed]",
      "text/plain": [
       "<Figure size 432x288 with 1 Axes>"
      ]
     },
     "metadata": {
      "needs_background": "light"
     },
     "output_type": "display_data"
    }
   ],
   "source": [
    "# Make a prediction on a single image\n",
    "import random\n",
    "image_0 = Image.open(random.choice(food_images))\n",
    "\n",
    "# Create the data transform\n",
    "transform = create_transform(input_size=args.image_size, is_training=False)\n",
    "\n",
    "# Get the prediction\n",
    "img_tensor = transform(image_0).unsqueeze(0).to(device)\n",
    "pred = trt_model(img_tensor)\n",
    "pred_prob = torch.softmax(pred, dim=1)\n",
    "pred_label = pred_prob.argmax().item()\n",
    "pred_class = class_dict[pred_label]\n",
    "\n",
    "# Get top_n predictions\n",
    "num_top_n_preds = 5\n",
    "top_n_pred_tensor = pred_prob.topk(num_top_n_preds)\n",
    "top_n_pred_probs = top_n_pred_tensor.values.tolist()[0]\n",
    "top_n_pred_labels = top_n_pred_tensor.indices.tolist()[0]\n",
    "top_n_pred_classes = [class_dict[i] for i in top_n_pred_labels]\n",
    "\n",
    "# Zip together top_n_pred_labels and top_n_pred_classes\n",
    "top_n_pred_dict = [\n",
    "    {\"pred_prob\": pred_prob, \"pred_label\": pred_label, \"pred_class\": pred_class}\n",
    "    for pred_prob, pred_label, pred_class in zip(\n",
    "        top_n_pred_probs, top_n_pred_labels, top_n_pred_classes\n",
    "    )\n",
    "]\n",
    "\n",
    "# Plot the image with the prediction\n",
    "plt.imshow(image_0)\n",
    "plt.title(f\"Prediction: {pred_class}\")\n",
    "print(top_n_pred_dict)"
   ]
  },
  {
   "cell_type": "code",
   "execution_count": 122,
   "metadata": {},
   "outputs": [
    {
     "data": {
      "text/plain": [
       "tensor([[4.8746e-05, 4.2245e-04, 1.4585e-05, 9.2454e-05, 9.4705e-07, 1.8344e-05,\n",
       "         1.9094e-05, 5.6030e-06, 2.1909e-07, 1.9811e-06, 4.5811e-03, 7.9217e-07,\n",
       "         4.2875e-05, 1.2720e-06, 1.7798e-06, 8.9760e-05, 1.2103e-04, 1.7356e-06,\n",
       "         4.7936e-05, 3.5259e-06, 4.8419e-07, 6.4325e-04, 1.4576e-07, 1.3586e-06,\n",
       "         3.3056e-05, 7.8025e-05, 4.2469e-07, 1.8476e-06, 6.9679e-07, 1.3890e-05,\n",
       "         9.0656e-07, 1.2320e-04, 9.5694e-06, 1.1001e-05, 2.9936e-06, 1.4408e-04,\n",
       "         1.8906e-05, 2.0692e-04, 8.6102e-01, 1.3929e-05, 7.4300e-04, 7.0226e-06,\n",
       "         1.4397e-05, 8.6136e-07, 5.8530e-08, 1.1631e-05, 1.6197e-04, 3.5252e-05,\n",
       "         9.7398e-06, 2.5932e-04, 1.1400e-04, 1.1556e-05, 6.3681e-05, 6.8838e-06,\n",
       "         6.6991e-04, 2.3635e-06, 1.1007e-03, 1.5027e-04, 3.0562e-06, 4.4325e-06,\n",
       "         6.6506e-08, 4.7850e-06, 1.6692e-04, 3.9576e-04, 2.5338e-06, 1.4643e-04,\n",
       "         2.1584e-05, 1.0281e-05, 8.1809e-07, 3.3761e-06, 4.6733e-07, 4.1119e-04,\n",
       "         2.3452e-03, 7.8541e-06, 7.0452e-06, 1.0548e-04, 5.0425e-06, 1.3986e-05,\n",
       "         1.4693e-04, 1.2726e-06, 4.1242e-03, 4.0233e-03, 1.6440e-02, 2.4785e-06,\n",
       "         1.9333e-06, 2.5231e-06, 1.4392e-06, 1.1092e-05, 1.7933e-05, 7.5807e-08,\n",
       "         4.6164e-05, 9.7616e-07, 1.9306e-07, 4.1192e-05, 6.0056e-04, 1.0534e-05,\n",
       "         8.5263e-06, 2.1908e-04, 2.8231e-05, 2.0128e-06, 2.7263e-08, 2.5460e-06,\n",
       "         2.2501e-05, 6.4015e-06, 2.3335e-04, 1.1472e-04, 1.3874e-05, 1.5520e-04,\n",
       "         7.6683e-06, 3.9365e-06, 1.2195e-05, 4.3010e-06, 1.5725e-06, 2.1903e-05,\n",
       "         4.8899e-06, 2.9511e-05, 8.2030e-02, 4.0838e-05, 1.5342e-03, 1.0257e-03,\n",
       "         4.6391e-05, 1.3482e-04, 2.3481e-06, 1.2687e-05, 6.3667e-04, 1.8946e-06,\n",
       "         3.8719e-06, 2.1146e-06, 5.6378e-05, 4.8773e-05, 4.8649e-05, 1.3207e-05,\n",
       "         3.5903e-06, 5.6183e-05, 1.0433e-05, 8.3751e-06, 1.3523e-04, 4.4284e-07,\n",
       "         1.9516e-05, 7.0175e-06, 3.5572e-06, 8.9134e-06, 3.5970e-06, 2.5800e-05,\n",
       "         1.0503e-04, 5.2733e-05, 7.8126e-04, 1.0475e-06, 2.2658e-06, 4.4851e-06,\n",
       "         2.6068e-06, 2.3778e-05, 5.3738e-05, 1.6664e-05, 3.3833e-07, 1.1993e-04,\n",
       "         1.6113e-05, 1.8906e-04, 9.3574e-04, 3.0386e-06, 3.9130e-05, 3.0210e-07,\n",
       "         8.7490e-07, 7.9519e-05, 2.2755e-04, 6.0538e-06, 2.1947e-05, 1.3646e-05,\n",
       "         1.1174e-04, 4.1087e-04, 1.2551e-06, 7.2555e-05, 2.2902e-06, 1.0565e-05,\n",
       "         5.5082e-03, 2.1913e-06, 4.4447e-04, 5.5390e-06, 1.1847e-06, 3.0756e-05,\n",
       "         5.9789e-05, 1.0400e-06, 4.2063e-05, 1.3883e-05, 3.4806e-06, 5.1785e-06,\n",
       "         7.6607e-05, 5.7290e-06, 6.9049e-05, 6.6199e-05, 1.0950e-05, 4.1773e-06,\n",
       "         2.7659e-06, 2.7654e-03, 1.3015e-05, 1.5051e-08, 7.2403e-05, 1.8700e-05,\n",
       "         2.3746e-05, 1.0683e-05, 4.2440e-06, 3.7554e-08, 2.0534e-07, 1.2892e-06,\n",
       "         4.2293e-06, 1.4542e-04, 1.1951e-04, 1.1503e-05]], device='cuda:0')"
      ]
     },
     "execution_count": 122,
     "metadata": {},
     "output_type": "execute_result"
    }
   ],
   "source": [
    "pred_prob"
   ]
  },
  {
   "cell_type": "code",
   "execution_count": null,
   "metadata": {},
   "outputs": [],
   "source": []
  }
 ],
 "metadata": {
  "kernelspec": {
   "display_name": "Python 3",
   "language": "python",
   "name": "python3"
  },
  "language_info": {
   "codemirror_mode": {
    "name": "ipython",
    "version": 3
   },
   "file_extension": ".py",
   "mimetype": "text/x-python",
   "name": "python",
   "nbconvert_exporter": "python",
   "pygments_lexer": "ipython3",
   "version": "3.8.13"
  },
  "orig_nbformat": 4,
  "vscode": {
   "interpreter": {
    "hash": "3fbe1355223f7b2ffc113ba3ade6a2b520cadace5d5ec3e828c83ce02eb221bf"
   }
  }
 },
 "nbformat": 4,
 "nbformat_minor": 2
}
