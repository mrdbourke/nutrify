{
 "cells": [
  {
   "cell_type": "markdown",
   "metadata": {},
   "source": [
    "# Notebook to explore the naming of the class names for FoodVision\n",
    "\n",
    "* **Goal:** Get the class names for FoodVision and see which ones can be broken down into something more specific.\n"
   ]
  },
  {
   "cell_type": "code",
   "execution_count": 1,
   "metadata": {},
   "outputs": [
    {
     "name": "stderr",
     "output_type": "stream",
     "text": [
      "/home/daniel/.local/lib/python3.8/site-packages/torchvision/io/image.py:13: UserWarning: Failed to load image Python extension: /home/daniel/.local/lib/python3.8/site-packages/torchvision/image.so: undefined symbol: _ZN3c106detail19maybe_wrap_dim_slowIlEET_S2_S2_b\n",
      "  warn(f\"Failed to load image Python extension: {e}\")\n"
     ]
    }
   ],
   "source": [
    "# Append the upper level directory to sys\n",
    "import sys\n",
    "sys.path.append(\"..\")\n",
    "\n",
    "import pandas as pd\n",
    "import numpy as np\n",
    "\n",
    "from pathlib import Path\n",
    "\n",
    "import torch\n",
    "\n",
    "from utils.misc import sort_dict_by_values\n",
    "\n",
    "from zero_shot_classification import open_clip_compute_image_features_of_list, open_clip_compute_text_features, open_clip_zero_shot_classification\n"
   ]
  },
  {
   "cell_type": "code",
   "execution_count": 2,
   "metadata": {},
   "outputs": [
    {
     "name": "stderr",
     "output_type": "stream",
     "text": [
      "ERROR:wandb.jupyter:Failed to detect the name of this notebook, you can set it manually with the WANDB_NOTEBOOK_NAME environment variable to enable code saving.\n"
     ]
    },
    {
     "name": "stdout",
     "output_type": "stream",
     "text": [
      "[INFO] GCP credentials set!\n",
      "[INFO] GCP connection successful! Access to GCP for saving/loading data and models available.\n"
     ]
    },
    {
     "name": "stderr",
     "output_type": "stream",
     "text": [
      "\u001b[34m\u001b[1mwandb\u001b[0m: Currently logged in as: \u001b[33mmrdbourke\u001b[0m. Use \u001b[1m`wandb login --relogin`\u001b[0m to force relogin\n"
     ]
    },
    {
     "data": {
      "text/html": [
       "wandb version 0.13.10 is available!  To upgrade, please run:\n",
       " $ pip install wandb --upgrade"
      ],
      "text/plain": [
       "<IPython.core.display.HTML object>"
      ]
     },
     "metadata": {},
     "output_type": "display_data"
    },
    {
     "data": {
      "text/html": [
       "Tracking run with wandb version 0.12.21"
      ],
      "text/plain": [
       "<IPython.core.display.HTML object>"
      ]
     },
     "metadata": {},
     "output_type": "display_data"
    },
    {
     "data": {
      "text/html": [
       "Run data is saved locally in <code>/home/daniel/code/nutrify/foodvision/notebooks/wandb/run-20230227_093646-3vjkb720</code>"
      ],
      "text/plain": [
       "<IPython.core.display.HTML object>"
      ]
     },
     "metadata": {},
     "output_type": "display_data"
    },
    {
     "data": {
      "text/html": [
       "Syncing run <strong><a href=\"https://wandb.ai/mrdbourke/test_wandb_artifacts_by_reference/runs/3vjkb720\" target=\"_blank\">curious-surf-399</a></strong> to <a href=\"https://wandb.ai/mrdbourke/test_wandb_artifacts_by_reference\" target=\"_blank\">Weights & Biases</a> (<a href=\"https://wandb.me/run\" target=\"_blank\">docs</a>)<br/>"
      ],
      "text/plain": [
       "<IPython.core.display.HTML object>"
      ]
     },
     "metadata": {},
     "output_type": "display_data"
    },
    {
     "name": "stdout",
     "output_type": "stream",
     "text": [
      "[INFO] Labels directory: ./artifacts/food_vision_labels:v28\n",
      "[INFO] Labels path: artifacts/food_vision_labels:v28/annotations.csv\n",
      "[INFO] Working with: 209 classes\n"
     ]
    },
    {
     "data": {
      "text/plain": [
       "209"
      ]
     },
     "execution_count": 2,
     "metadata": {},
     "output_type": "execute_result"
    }
   ],
   "source": [
    "# Get original labels to label new data from\n",
    "# Get config\n",
    "from configs.default_config import config\n",
    "\n",
    "args = config\n",
    "\n",
    "# Connect to GCP\n",
    "from utils.gcp_utils import set_gcp_credentials, test_gcp_connection\n",
    "set_gcp_credentials(path_to_key=\"../utils/google-storage-key.json\")\n",
    "test_gcp_connection()\n",
    "\n",
    "import wandb\n",
    "\n",
    "# Initialize a new run\n",
    "from utils.wandb_utils import wandb_load_artifact, wandb_download_and_load_labels\n",
    "\n",
    "notes = f\"autolabel new images\"\n",
    "\n",
    "run = wandb.init(project=args.wandb_project, \n",
    "                 job_type=args.wandb_job_type,\n",
    "                 tags=['auto_label_new_images'],\n",
    "                 notes=notes)\n",
    "\n",
    "annotations, class_names, class_dict, reverse_class_dict, labels_path = wandb_download_and_load_labels(wandb_run=run,\n",
    "wandb_labels_artifact_name=args.wandb_labels_artifact)\n",
    "\n",
    "len(annotations.label.unique())"
   ]
  },
  {
   "attachments": {},
   "cell_type": "markdown",
   "metadata": {},
   "source": [
    "## Import VegFru class names\n",
    "\n",
    "Source: https://docs.google.com/spreadsheets/d/1AbDDAuntzaI140wf5nAAgTbXe8thKJLr5E2ZbTlurbg/edit#gid=0"
   ]
  },
  {
   "cell_type": "code",
   "execution_count": 4,
   "metadata": {},
   "outputs": [
    {
     "name": "stdout",
     "output_type": "stream",
     "text": [
      "Num rows: 293\n"
     ]
    },
    {
     "data": {
      "text/html": [
       "<div>\n",
       "<style scoped>\n",
       "    .dataframe tbody tr th:only-of-type {\n",
       "        vertical-align: middle;\n",
       "    }\n",
       "\n",
       "    .dataframe tbody tr th {\n",
       "        vertical-align: top;\n",
       "    }\n",
       "\n",
       "    .dataframe thead th {\n",
       "        text-align: right;\n",
       "    }\n",
       "</style>\n",
       "<table border=\"1\" class=\"dataframe\">\n",
       "  <thead>\n",
       "    <tr style=\"text-align: right;\">\n",
       "      <th></th>\n",
       "      <th>class_name</th>\n",
       "      <th>in_nutrify</th>\n",
       "      <th>nutrify_class_name</th>\n",
       "      <th>category</th>\n",
       "      <th>notes</th>\n",
       "      <th>Link to vegfru dataset -- https://www.kaggle.com/datasets/zhaoyj688/vegfru</th>\n",
       "    </tr>\n",
       "  </thead>\n",
       "  <tbody>\n",
       "    <tr>\n",
       "      <th>0</th>\n",
       "      <td>almond</td>\n",
       "      <td>1.0</td>\n",
       "      <td>almonds</td>\n",
       "      <td>fruit</td>\n",
       "      <td>NaN</td>\n",
       "      <td>NaN</td>\n",
       "    </tr>\n",
       "    <tr>\n",
       "      <th>1</th>\n",
       "      <td>apple</td>\n",
       "      <td>1.0</td>\n",
       "      <td>apple_red</td>\n",
       "      <td>fruit</td>\n",
       "      <td>NaN</td>\n",
       "      <td>NaN</td>\n",
       "    </tr>\n",
       "    <tr>\n",
       "      <th>2</th>\n",
       "      <td>apricot</td>\n",
       "      <td>1.0</td>\n",
       "      <td>apricot</td>\n",
       "      <td>fruit</td>\n",
       "      <td>NaN</td>\n",
       "      <td>NaN</td>\n",
       "    </tr>\n",
       "    <tr>\n",
       "      <th>3</th>\n",
       "      <td>asparagus</td>\n",
       "      <td>1.0</td>\n",
       "      <td>asparagus</td>\n",
       "      <td>vegetable</td>\n",
       "      <td>NaN</td>\n",
       "      <td>NaN</td>\n",
       "    </tr>\n",
       "    <tr>\n",
       "      <th>4</th>\n",
       "      <td>avocado</td>\n",
       "      <td>1.0</td>\n",
       "      <td>avocado</td>\n",
       "      <td>fruit</td>\n",
       "      <td>NaN</td>\n",
       "      <td>NaN</td>\n",
       "    </tr>\n",
       "  </tbody>\n",
       "</table>\n",
       "</div>"
      ],
      "text/plain": [
       "  class_name  in_nutrify nutrify_class_name   category notes  \\\n",
       "0     almond         1.0            almonds      fruit   NaN   \n",
       "1      apple         1.0          apple_red      fruit   NaN   \n",
       "2    apricot         1.0            apricot      fruit   NaN   \n",
       "3  asparagus         1.0          asparagus  vegetable   NaN   \n",
       "4    avocado         1.0            avocado      fruit   NaN   \n",
       "\n",
       "   Link to vegfru dataset -- https://www.kaggle.com/datasets/zhaoyj688/vegfru   \n",
       "0                                                NaN                            \n",
       "1                                                NaN                            \n",
       "2                                                NaN                            \n",
       "3                                                NaN                            \n",
       "4                                                NaN                            "
      ]
     },
     "execution_count": 4,
     "metadata": {},
     "output_type": "execute_result"
    }
   ],
   "source": [
    "vegfru = pd.read_csv(\"nutrify-vegfru-dataset-class-crossover.csv\")\n",
    "print(f\"Num rows: {len(vegfru)}\")\n",
    "vegfru.head()"
   ]
  },
  {
   "cell_type": "code",
   "execution_count": 5,
   "metadata": {},
   "outputs": [
    {
     "name": "stdout",
     "output_type": "stream",
     "text": [
      "Num rows: 97\n"
     ]
    }
   ],
   "source": [
    "# Drop rows if the nutrify_class_name is nan\n",
    "vegfru = vegfru.dropna(subset=['nutrify_class_name'])\n",
    "print(f\"Num rows: {len(vegfru)}\")"
   ]
  },
  {
   "cell_type": "code",
   "execution_count": 7,
   "metadata": {},
   "outputs": [
    {
     "data": {
      "text/plain": [
       "['basil',\n",
       " 'cabbage_red',\n",
       " 'cherry_tomato',\n",
       " 'chives',\n",
       " 'cos_lettuce',\n",
       " 'edamame',\n",
       " 'endive',\n",
       " 'hazelnuts',\n",
       " 'honeydew_melon',\n",
       " 'longan',\n",
       " 'macadamia',\n",
       " 'mint',\n",
       " 'mushroom_oyster',\n",
       " 'nectarine',\n",
       " 'okra',\n",
       " 'pear_nashi',\n",
       " 'pecans',\n",
       " 'persimmon',\n",
       " 'pistachio',\n",
       " 'radish_red',\n",
       " 'radish_white',\n",
       " 'swiss_chard',\n",
       " 'walnuts',\n",
       " 'watercress']"
      ]
     },
     "execution_count": 7,
     "metadata": {},
     "output_type": "execute_result"
    }
   ],
   "source": [
    "# Get the unique class names\n",
    "vegfru_nutrify_unique_class_names = vegfru.nutrify_class_name.unique()\n",
    "\n",
    "# Compare the unique class names to the class names in the annotations\n",
    "# nutrify_class_names_not_in_vegfru = [class_name for class_name in annotations.label.unique() if class_name not in vegfru_nutrify_unique_class_names]\n",
    "# nutrify_class_names_in_vegfru = [class_name for class_name in annotations.label.unique() if class_name in vegfru_nutrify_unique_class_names]\n",
    "vegfru_class_names_not_in_nutrify = sorted([class_name for class_name in vegfru_nutrify_unique_class_names if class_name not in class_names])\n",
    "vegfru_class_names_not_in_nutrify"
   ]
  },
  {
   "cell_type": "code",
   "execution_count": null,
   "metadata": {},
   "outputs": [],
   "source": []
  },
  {
   "cell_type": "code",
   "execution_count": null,
   "metadata": {},
   "outputs": [],
   "source": []
  },
  {
   "cell_type": "code",
   "execution_count": null,
   "metadata": {},
   "outputs": [],
   "source": []
  },
  {
   "cell_type": "code",
   "execution_count": null,
   "metadata": {},
   "outputs": [],
   "source": []
  },
  {
   "cell_type": "code",
   "execution_count": null,
   "metadata": {},
   "outputs": [],
   "source": []
  },
  {
   "cell_type": "markdown",
   "metadata": {},
   "source": []
  }
 ],
 "metadata": {
  "kernelspec": {
   "display_name": "Python 3",
   "language": "python",
   "name": "python3"
  },
  "language_info": {
   "codemirror_mode": {
    "name": "ipython",
    "version": 3
   },
   "file_extension": ".py",
   "mimetype": "text/x-python",
   "name": "python",
   "nbconvert_exporter": "python",
   "pygments_lexer": "ipython3",
   "version": "3.8.13"
  },
  "orig_nbformat": 4,
  "vscode": {
   "interpreter": {
    "hash": "3fbe1355223f7b2ffc113ba3ade6a2b520cadace5d5ec3e828c83ce02eb221bf"
   }
  }
 },
 "nbformat": 4,
 "nbformat_minor": 2
}
