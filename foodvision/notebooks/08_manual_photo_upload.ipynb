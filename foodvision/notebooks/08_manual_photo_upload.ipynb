{
 "cells": [
  {
   "cell_type": "code",
   "execution_count": 37,
   "metadata": {},
   "outputs": [],
   "source": [
    "# Append the upper level directory to sys\n",
    "import sys\n",
    "sys.path.append(\"..\")\n",
    "\n",
    "import pandas as pd\n",
    "import numpy as np\n",
    "\n",
    "from pathlib import Path"
   ]
  },
  {
   "cell_type": "code",
   "execution_count": 26,
   "metadata": {},
   "outputs": [
    {
     "data": {
      "text/plain": [
       "[PosixPath('food_photos/avocado/8739e2cb-7da9-4f86-9f6c-4ad91e62b496.jpeg'),\n",
       " PosixPath('food_photos/avocado/a90a0fd6-229a-4707-868f-95e4b6201b98.jpeg'),\n",
       " PosixPath('food_photos/avocado/3e77e6b6-2268-42bb-ae06-d7b882699a00.jpeg'),\n",
       " PosixPath('food_photos/avocado/647914a7-285d-427f-8e89-0ee17356fac0.jpeg'),\n",
       " PosixPath('food_photos/avocado/1fd4f434-0a0a-44a8-bc81-280ae9710fcc.jpeg'),\n",
       " PosixPath('food_photos/avocado/8d8e6204-3986-40de-96fe-469859871812.jpeg'),\n",
       " PosixPath('food_photos/avocado/44b87eb1-8cfa-4963-a3c8-272767a32087.jpeg'),\n",
       " PosixPath('food_photos/avocado/0bd39a39-96ba-4e50-8200-7ee905e5c735.jpeg'),\n",
       " PosixPath('food_photos/avocado/341ed89e-ce37-4de2-93a7-66d846125d30.jpeg'),\n",
       " PosixPath('food_photos/avocado/769c8ec4-54c3-4431-bbb2-d08e35dd0c7f.jpeg')]"
      ]
     },
     "execution_count": 26,
     "metadata": {},
     "output_type": "execute_result"
    }
   ],
   "source": [
    "# Get list of all paths in food_photos directory\n",
    "path = Path('food_photos')\n",
    "all_paths = list(path.glob('*/*.jpeg'))\n",
    "all_paths[:10]"
   ]
  },
  {
   "cell_type": "code",
   "execution_count": 11,
   "metadata": {},
   "outputs": [
    {
     "data": {
      "text/plain": [
       "658"
      ]
     },
     "execution_count": 11,
     "metadata": {},
     "output_type": "execute_result"
    }
   ],
   "source": [
    "len(all_paths)"
   ]
  },
  {
   "cell_type": "code",
   "execution_count": 27,
   "metadata": {},
   "outputs": [],
   "source": [
    "# # Rename all the files to have a UUID as their filename\n",
    "# import uuid\n",
    "\n",
    "# for p in all_paths:\n",
    "#     new_name = uuid.uuid4()\n",
    "#     # print(new_name)\n",
    "#     new_path_name = p.parent / f'{new_name}.jpeg'\n",
    "#     p.rename(new_path_name)"
   ]
  },
  {
   "cell_type": "code",
   "execution_count": 17,
   "metadata": {},
   "outputs": [],
   "source": [
    "# Make a directory called food_photos_processed\n",
    "path = Path('food_photos_processed')\n",
    "path.mkdir(exist_ok=True)\n",
    "\n",
    "# Make a train/test directory in food_photos_processed\n",
    "path = Path('food_photos_processed/train')\n",
    "path.mkdir(exist_ok=True)\n",
    "\n",
    "path = Path('food_photos_processed/test')\n",
    "path.mkdir(exist_ok=True)"
   ]
  },
  {
   "cell_type": "code",
   "execution_count": 21,
   "metadata": {},
   "outputs": [
    {
     "data": {
      "text/plain": [
       "['avocado',\n",
       " 'broccoli',\n",
       " 'carrot',\n",
       " 'eggs',\n",
       " 'garlic',\n",
       " 'ice_coffee',\n",
       " 'lime',\n",
       " 'nectarines',\n",
       " 'orange_juice',\n",
       " 'peach',\n",
       " 'plum',\n",
       " 'watermelon']"
      ]
     },
     "execution_count": 21,
     "metadata": {},
     "output_type": "execute_result"
    }
   ],
   "source": [
    "# Get all food_types from all_paths\n",
    "food_types = sorted(list(set([p.parent.name for p in all_paths])))\n",
    "food_types"
   ]
  },
  {
   "cell_type": "code",
   "execution_count": 22,
   "metadata": {},
   "outputs": [],
   "source": [
    "# Make a directory for each food type in food_photos_processed/train\n",
    "train_path = Path('food_photos_processed/train')\n",
    "\n",
    "for food_type in food_types:\n",
    "    (train_path / food_type).mkdir(exist_ok=True)\n",
    "\n",
    "test_path = Path('food_photos_processed/test')\n",
    "\n",
    "for food_type in food_types:\n",
    "    (test_path / food_type).mkdir(exist_ok=True)"
   ]
  },
  {
   "cell_type": "code",
   "execution_count": 28,
   "metadata": {},
   "outputs": [
    {
     "data": {
      "text/plain": [
       "(526, 132)"
      ]
     },
     "execution_count": 28,
     "metadata": {},
     "output_type": "execute_result"
    }
   ],
   "source": [
    "# Move 20% of the images to food_photos_processed/test\n",
    "import random\n",
    "\n",
    "# Randomly sample 80% of all_paths\n",
    "train_paths = random.sample(all_paths, int(len(all_paths) * 0.8))\n",
    "\n",
    "# Create the test paths as the difference between all_paths and train_paths\n",
    "test_paths = list(set(all_paths) - set(train_paths))\n",
    "\n",
    "# Find the length of train_paths and test_paths\n",
    "len(train_paths), len(test_paths)"
   ]
  },
  {
   "cell_type": "code",
   "execution_count": 30,
   "metadata": {},
   "outputs": [
    {
     "name": "stderr",
     "output_type": "stream",
     "text": [
      "  8%|▊         | 44/526 [00:00<00:01, 424.83it/s]"
     ]
    },
    {
     "name": "stdout",
     "output_type": "stream",
     "text": [
      "[INFO] Copying food_photos/broccoli/a19b43a2-ccfb-43d0-a228-9eacc8fdf2ae.jpeg to food_photos_processed/train/broccoli/a19b43a2-ccfb-43d0-a228-9eacc8fdf2ae.jpeg\n",
      "[INFO] Copying food_photos/lime/e31c53d0-8829-4323-8448-1b714428f9e0.jpeg to food_photos_processed/train/lime/e31c53d0-8829-4323-8448-1b714428f9e0.jpeg\n",
      "[INFO] Copying food_photos/broccoli/04d93dc3-80e9-45c8-aef3-b5e0ebcd24a2.jpeg to food_photos_processed/train/broccoli/04d93dc3-80e9-45c8-aef3-b5e0ebcd24a2.jpeg\n",
      "[INFO] Copying food_photos/avocado/c5d94146-c680-4272-b25f-d71e0384b564.jpeg to food_photos_processed/train/avocado/c5d94146-c680-4272-b25f-d71e0384b564.jpeg\n",
      "[INFO] Copying food_photos/avocado/3050fc1e-9490-4573-86ff-adf308ef31ef.jpeg to food_photos_processed/train/avocado/3050fc1e-9490-4573-86ff-adf308ef31ef.jpeg\n",
      "[INFO] Copying food_photos/nectarines/226bcd8d-cfc7-45e1-87e3-1d99ef18f29b.jpeg to food_photos_processed/train/nectarines/226bcd8d-cfc7-45e1-87e3-1d99ef18f29b.jpeg\n",
      "[INFO] Copying food_photos/broccoli/60d49a6a-d2b0-4710-bfe8-a5bb213a6970.jpeg to food_photos_processed/train/broccoli/60d49a6a-d2b0-4710-bfe8-a5bb213a6970.jpeg\n",
      "[INFO] Copying food_photos/watermelon/3777f7dc-35b3-444a-93be-147ffcdb0595.jpeg to food_photos_processed/train/watermelon/3777f7dc-35b3-444a-93be-147ffcdb0595.jpeg\n",
      "[INFO] Copying food_photos/watermelon/9c49b0b5-b5ce-49b6-b86f-c25281fc2b93.jpeg to food_photos_processed/train/watermelon/9c49b0b5-b5ce-49b6-b86f-c25281fc2b93.jpeg\n",
      "[INFO] Copying food_photos/broccoli/54a2fa48-a97f-4780-ae50-cdd642bc777d.jpeg to food_photos_processed/train/broccoli/54a2fa48-a97f-4780-ae50-cdd642bc777d.jpeg\n",
      "[INFO] Copying food_photos/lime/b1c8aa2c-a68f-4804-8030-c56ce4d77088.jpeg to food_photos_processed/train/lime/b1c8aa2c-a68f-4804-8030-c56ce4d77088.jpeg\n",
      "[INFO] Copying food_photos/avocado/57015eea-a151-4b79-a2f3-cd1ec7dc1d4b.jpeg to food_photos_processed/train/avocado/57015eea-a151-4b79-a2f3-cd1ec7dc1d4b.jpeg\n",
      "[INFO] Copying food_photos/peach/59b8a307-7676-415f-94c2-d7ab4e4330d1.jpeg to food_photos_processed/train/peach/59b8a307-7676-415f-94c2-d7ab4e4330d1.jpeg\n",
      "[INFO] Copying food_photos/garlic/6b740b72-6730-41c0-9d66-bd07d5186f22.jpeg to food_photos_processed/train/garlic/6b740b72-6730-41c0-9d66-bd07d5186f22.jpeg\n",
      "[INFO] Copying food_photos/garlic/2c9165a8-f571-4fb7-857c-e19f47010774.jpeg to food_photos_processed/train/garlic/2c9165a8-f571-4fb7-857c-e19f47010774.jpeg\n",
      "[INFO] Copying food_photos/peach/e9e46648-b70b-46ce-99df-7cce44497ae1.jpeg to food_photos_processed/train/peach/e9e46648-b70b-46ce-99df-7cce44497ae1.jpeg\n",
      "[INFO] Copying food_photos/carrot/4cb0beeb-51f7-47a2-b53a-d8a45fcc0b73.jpeg to food_photos_processed/train/carrot/4cb0beeb-51f7-47a2-b53a-d8a45fcc0b73.jpeg\n",
      "[INFO] Copying food_photos/broccoli/5f15a389-3bb4-4fe5-9520-958c442d6492.jpeg to food_photos_processed/train/broccoli/5f15a389-3bb4-4fe5-9520-958c442d6492.jpeg\n",
      "[INFO] Copying food_photos/carrot/fcbb9e9d-18e5-43ee-9048-d3c6dcfe3e39.jpeg to food_photos_processed/train/carrot/fcbb9e9d-18e5-43ee-9048-d3c6dcfe3e39.jpeg\n",
      "[INFO] Copying food_photos/carrot/de073535-2585-433d-b2f6-342094bf2da8.jpeg to food_photos_processed/train/carrot/de073535-2585-433d-b2f6-342094bf2da8.jpeg\n",
      "[INFO] Copying food_photos/garlic/bf40a515-eda5-4955-ba02-b18d91ab6a5d.jpeg to food_photos_processed/train/garlic/bf40a515-eda5-4955-ba02-b18d91ab6a5d.jpeg\n",
      "[INFO] Copying food_photos/broccoli/8ebc365b-878a-4fce-8ad1-b8bee5c95ec7.jpeg to food_photos_processed/train/broccoli/8ebc365b-878a-4fce-8ad1-b8bee5c95ec7.jpeg\n",
      "[INFO] Copying food_photos/carrot/45343d5d-4154-42bb-917f-e18730a31ea0.jpeg to food_photos_processed/train/carrot/45343d5d-4154-42bb-917f-e18730a31ea0.jpeg\n",
      "[INFO] Copying food_photos/carrot/41aee743-a001-4600-b0e0-f627672de4ee.jpeg to food_photos_processed/train/carrot/41aee743-a001-4600-b0e0-f627672de4ee.jpeg\n",
      "[INFO] Copying food_photos/broccoli/a6ac6a7b-d440-45c2-827f-1e82bf5141c3.jpeg to food_photos_processed/train/broccoli/a6ac6a7b-d440-45c2-827f-1e82bf5141c3.jpeg\n",
      "[INFO] Copying food_photos/carrot/4a7e569e-1e26-47e4-8681-dfa5864c41d4.jpeg to food_photos_processed/train/carrot/4a7e569e-1e26-47e4-8681-dfa5864c41d4.jpeg\n",
      "[INFO] Copying food_photos/carrot/e2894d69-3f47-4c05-bcb3-8c5dd81aad21.jpeg to food_photos_processed/train/carrot/e2894d69-3f47-4c05-bcb3-8c5dd81aad21.jpeg\n",
      "[INFO] Copying food_photos/garlic/44ef673c-5f89-4be3-8763-5470154d7194.jpeg to food_photos_processed/train/garlic/44ef673c-5f89-4be3-8763-5470154d7194.jpeg\n",
      "[INFO] Copying food_photos/lime/ded259d1-b121-4a52-9674-3d79d9edc0f0.jpeg to food_photos_processed/train/lime/ded259d1-b121-4a52-9674-3d79d9edc0f0.jpeg\n",
      "[INFO] Copying food_photos/ice_coffee/f3e701d0-04db-4bad-b7c7-8b224f26ec51.jpeg to food_photos_processed/train/ice_coffee/f3e701d0-04db-4bad-b7c7-8b224f26ec51.jpeg\n",
      "[INFO] Copying food_photos/lime/9f082595-6882-4e44-b7a2-168a7a1994c5.jpeg to food_photos_processed/train/lime/9f082595-6882-4e44-b7a2-168a7a1994c5.jpeg\n",
      "[INFO] Copying food_photos/broccoli/d2052fb2-b152-4da8-b00c-406cae1e9757.jpeg to food_photos_processed/train/broccoli/d2052fb2-b152-4da8-b00c-406cae1e9757.jpeg\n",
      "[INFO] Copying food_photos/broccoli/570aafdb-e4ce-4ddf-9c68-75a955334bc1.jpeg to food_photos_processed/train/broccoli/570aafdb-e4ce-4ddf-9c68-75a955334bc1.jpeg\n",
      "[INFO] Copying food_photos/avocado/c71643ab-e52b-428f-be5a-a287f0bea292.jpeg to food_photos_processed/train/avocado/c71643ab-e52b-428f-be5a-a287f0bea292.jpeg\n",
      "[INFO] Copying food_photos/broccoli/30eb8f45-6417-4f4a-b672-e7f047c1de77.jpeg to food_photos_processed/train/broccoli/30eb8f45-6417-4f4a-b672-e7f047c1de77.jpeg\n",
      "[INFO] Copying food_photos/orange_juice/c84559a7-e08c-4b8d-8b97-a3c36c5e2bb9.jpeg to food_photos_processed/train/orange_juice/c84559a7-e08c-4b8d-8b97-a3c36c5e2bb9.jpeg\n",
      "[INFO] Copying food_photos/avocado/5cb36793-e390-47de-99c4-c27a247d9b7a.jpeg to food_photos_processed/train/avocado/5cb36793-e390-47de-99c4-c27a247d9b7a.jpeg\n",
      "[INFO] Copying food_photos/broccoli/48db759c-d4fa-411f-8ae7-37fc06d3d940.jpeg to food_photos_processed/train/broccoli/48db759c-d4fa-411f-8ae7-37fc06d3d940.jpeg\n",
      "[INFO] Copying food_photos/eggs/60bf02d3-ead1-44cc-af33-fbeeceb460a9.jpeg to food_photos_processed/train/eggs/60bf02d3-ead1-44cc-af33-fbeeceb460a9.jpeg\n",
      "[INFO] Copying food_photos/avocado/8739e2cb-7da9-4f86-9f6c-4ad91e62b496.jpeg to food_photos_processed/train/avocado/8739e2cb-7da9-4f86-9f6c-4ad91e62b496.jpeg\n",
      "[INFO] Copying food_photos/carrot/3847355a-4dc7-49c7-91c1-ba8c6c98e008.jpeg to food_photos_processed/train/carrot/3847355a-4dc7-49c7-91c1-ba8c6c98e008.jpeg\n",
      "[INFO] Copying food_photos/avocado/433790ce-f12d-49dd-a959-715a792c6bc2.jpeg to food_photos_processed/train/avocado/433790ce-f12d-49dd-a959-715a792c6bc2.jpeg\n",
      "[INFO] Copying food_photos/nectarines/54010381-c798-4a6f-a72f-47385d2d48b7.jpeg to food_photos_processed/train/nectarines/54010381-c798-4a6f-a72f-47385d2d48b7.jpeg\n",
      "[INFO] Copying food_photos/carrot/6cebf671-a5ab-4206-8b0e-61eebbb4bae9.jpeg to food_photos_processed/train/carrot/6cebf671-a5ab-4206-8b0e-61eebbb4bae9.jpeg\n",
      "[INFO] Copying food_photos/garlic/2356979f-f6c8-42e0-829b-f343c3764043.jpeg to food_photos_processed/train/garlic/2356979f-f6c8-42e0-829b-f343c3764043.jpeg\n",
      "[INFO] Copying food_photos/broccoli/809a87fc-a6a7-4ebc-bf6a-faf5fbaf3243.jpeg to food_photos_processed/train/broccoli/809a87fc-a6a7-4ebc-bf6a-faf5fbaf3243.jpeg\n",
      "[INFO] Copying food_photos/ice_coffee/d4fe09f7-8716-40c4-804c-dba37d0b2937.jpeg to food_photos_processed/train/ice_coffee/d4fe09f7-8716-40c4-804c-dba37d0b2937.jpeg\n",
      "[INFO] Copying food_photos/nectarines/e77b222a-74ee-4243-8a91-110836ec5e9b.jpeg to food_photos_processed/train/nectarines/e77b222a-74ee-4243-8a91-110836ec5e9b.jpeg\n",
      "[INFO] Copying food_photos/avocado/9a82ca34-e55e-4bc8-9e36-730c1463fae6.jpeg to food_photos_processed/train/avocado/9a82ca34-e55e-4bc8-9e36-730c1463fae6.jpeg\n",
      "[INFO] Copying food_photos/broccoli/5c496d37-7dfa-4ca9-9748-168f5e6adc6f.jpeg to food_photos_processed/train/broccoli/5c496d37-7dfa-4ca9-9748-168f5e6adc6f.jpeg\n",
      "[INFO] Copying food_photos/broccoli/dcddd956-24be-43c5-b1e5-7c69af7c510a.jpeg to food_photos_processed/train/broccoli/dcddd956-24be-43c5-b1e5-7c69af7c510a.jpeg\n",
      "[INFO] Copying food_photos/broccoli/e9601465-3ebc-4f9e-a5a4-901aa4b25b3a.jpeg to food_photos_processed/train/broccoli/e9601465-3ebc-4f9e-a5a4-901aa4b25b3a.jpeg\n",
      "[INFO] Copying food_photos/ice_coffee/895ac779-c7a9-4332-ad04-5b5617bd3005.jpeg to food_photos_processed/train/ice_coffee/895ac779-c7a9-4332-ad04-5b5617bd3005.jpeg\n",
      "[INFO] Copying food_photos/broccoli/a5e9f8d6-b8ec-485c-8ed2-65f007bb57f5.jpeg to food_photos_processed/train/broccoli/a5e9f8d6-b8ec-485c-8ed2-65f007bb57f5.jpeg\n",
      "[INFO] Copying food_photos/carrot/7f8c107e-a551-4e3b-80ff-ea2c98e204fb.jpeg to food_photos_processed/train/carrot/7f8c107e-a551-4e3b-80ff-ea2c98e204fb.jpeg\n",
      "[INFO] Copying food_photos/avocado/0bd39a39-96ba-4e50-8200-7ee905e5c735.jpeg to food_photos_processed/train/avocado/0bd39a39-96ba-4e50-8200-7ee905e5c735.jpeg\n",
      "[INFO] Copying food_photos/ice_coffee/8a3c7618-41a2-44f5-b382-065b6da2d936.jpeg to food_photos_processed/train/ice_coffee/8a3c7618-41a2-44f5-b382-065b6da2d936.jpeg\n",
      "[INFO] Copying food_photos/lime/14c33954-9f83-44ed-88b2-a45fa68f0811.jpeg to food_photos_processed/train/lime/14c33954-9f83-44ed-88b2-a45fa68f0811.jpeg\n",
      "[INFO] Copying food_photos/carrot/d9a52328-bca2-4d3e-bcc3-08588e025236.jpeg to food_photos_processed/train/carrot/d9a52328-bca2-4d3e-bcc3-08588e025236.jpeg\n",
      "[INFO] Copying food_photos/watermelon/5b35407c-eb57-41aa-94de-cc970c0124e5.jpeg to food_photos_processed/train/watermelon/5b35407c-eb57-41aa-94de-cc970c0124e5.jpeg\n",
      "[INFO] Copying food_photos/carrot/005f73a9-24af-4e5d-8912-4e7157c6fdeb.jpeg to food_photos_processed/train/carrot/005f73a9-24af-4e5d-8912-4e7157c6fdeb.jpeg\n",
      "[INFO] Copying food_photos/ice_coffee/0fc433b3-600b-4053-8293-afa2e9380ce1.jpeg to food_photos_processed/train/ice_coffee/0fc433b3-600b-4053-8293-afa2e9380ce1.jpeg\n",
      "[INFO] Copying food_photos/carrot/41b71a83-2092-41f7-81b3-fb400ba62474.jpeg to food_photos_processed/train/carrot/41b71a83-2092-41f7-81b3-fb400ba62474.jpeg\n",
      "[INFO] Copying food_photos/avocado/02340074-5f0b-4911-8b04-1247455f8162.jpeg to food_photos_processed/train/avocado/02340074-5f0b-4911-8b04-1247455f8162.jpeg\n",
      "[INFO] Copying food_photos/carrot/738f35b1-2c58-48f7-a605-a3c87b919fd6.jpeg to food_photos_processed/train/carrot/738f35b1-2c58-48f7-a605-a3c87b919fd6.jpeg\n",
      "[INFO] Copying food_photos/carrot/ea30f547-1ad0-4a87-9fac-e878525cce7d.jpeg to food_photos_processed/train/carrot/ea30f547-1ad0-4a87-9fac-e878525cce7d.jpeg\n",
      "[INFO] Copying food_photos/broccoli/6111d7f4-0792-442d-94ba-1e65d0fde699.jpeg to food_photos_processed/train/broccoli/6111d7f4-0792-442d-94ba-1e65d0fde699.jpeg\n",
      "[INFO] Copying food_photos/carrot/05de618f-d3f7-4048-ae02-aa36af428c51.jpeg to food_photos_processed/train/carrot/05de618f-d3f7-4048-ae02-aa36af428c51.jpeg\n",
      "[INFO] Copying food_photos/lime/659cb878-bc89-4d47-9fad-fe904e4dfa91.jpeg to food_photos_processed/train/lime/659cb878-bc89-4d47-9fad-fe904e4dfa91.jpeg\n",
      "[INFO] Copying food_photos/nectarines/d72a428d-6af2-42f2-869e-80d0f884d9fd.jpeg to food_photos_processed/train/nectarines/d72a428d-6af2-42f2-869e-80d0f884d9fd.jpeg\n",
      "[INFO] Copying food_photos/carrot/d1c9d8fe-eafa-49eb-a3d9-11af2deb5764.jpeg to food_photos_processed/train/carrot/d1c9d8fe-eafa-49eb-a3d9-11af2deb5764.jpeg\n",
      "[INFO] Copying food_photos/broccoli/bb36ad47-045f-4707-9c5e-a8b65d82a137.jpeg to food_photos_processed/train/broccoli/bb36ad47-045f-4707-9c5e-a8b65d82a137.jpeg\n",
      "[INFO] Copying food_photos/broccoli/8a54d937-963b-40fe-8d97-675ddc5ba9cc.jpeg to food_photos_processed/train/broccoli/8a54d937-963b-40fe-8d97-675ddc5ba9cc.jpeg\n",
      "[INFO] Copying food_photos/carrot/9895a0b0-39d5-4d6b-a45c-96100374ae89.jpeg to food_photos_processed/train/carrot/9895a0b0-39d5-4d6b-a45c-96100374ae89.jpeg\n",
      "[INFO] Copying food_photos/nectarines/1d8a76ea-9265-4924-9d10-a4976e5917f7.jpeg to food_photos_processed/train/nectarines/1d8a76ea-9265-4924-9d10-a4976e5917f7.jpeg\n",
      "[INFO] Copying food_photos/orange_juice/62c489ba-2180-49a5-b910-45b49578a6cc.jpeg to food_photos_processed/train/orange_juice/62c489ba-2180-49a5-b910-45b49578a6cc.jpeg\n",
      "[INFO] Copying food_photos/broccoli/6fbc7a87-ada1-4ddc-b231-d64c62537878.jpeg to food_photos_processed/train/broccoli/6fbc7a87-ada1-4ddc-b231-d64c62537878.jpeg\n",
      "[INFO] Copying food_photos/lime/b3d66c16-1faa-494e-918b-5e78f7f0c3d7.jpeg to food_photos_processed/train/lime/b3d66c16-1faa-494e-918b-5e78f7f0c3d7.jpeg\n",
      "[INFO] Copying food_photos/watermelon/2f59d523-73b5-4926-84ad-fa9be8c092d4.jpeg to food_photos_processed/train/watermelon/2f59d523-73b5-4926-84ad-fa9be8c092d4.jpeg\n",
      "[INFO] Copying food_photos/nectarines/f96bd9c2-fc90-4479-8981-7f294c69f801.jpeg to food_photos_processed/train/nectarines/f96bd9c2-fc90-4479-8981-7f294c69f801.jpeg\n",
      "[INFO] Copying food_photos/carrot/4d566015-dbdf-4104-918b-f77c67b1aab7.jpeg to food_photos_processed/train/carrot/4d566015-dbdf-4104-918b-f77c67b1aab7.jpeg\n",
      "[INFO] Copying food_photos/avocado/22b14e7d-4b91-433b-9e60-fcd209c0a3e6.jpeg to food_photos_processed/train/avocado/22b14e7d-4b91-433b-9e60-fcd209c0a3e6.jpeg\n",
      "[INFO] Copying food_photos/lime/0d10c6f6-8ab0-4d36-bf8f-65940b248710.jpeg to food_photos_processed/train/lime/0d10c6f6-8ab0-4d36-bf8f-65940b248710.jpeg\n",
      "[INFO] Copying food_photos/peach/35dcb758-3718-4a22-b979-d804dae4e574.jpeg to food_photos_processed/train/peach/35dcb758-3718-4a22-b979-d804dae4e574.jpeg\n",
      "[INFO] Copying food_photos/ice_coffee/04676835-1a4e-4efa-955d-ad4ef7793d88.jpeg to food_photos_processed/train/ice_coffee/04676835-1a4e-4efa-955d-ad4ef7793d88.jpeg\n",
      "[INFO] Copying food_photos/broccoli/446fbce5-8a8b-485d-9520-35bc261bfa26.jpeg to food_photos_processed/train/broccoli/446fbce5-8a8b-485d-9520-35bc261bfa26.jpeg\n",
      "[INFO] Copying food_photos/watermelon/b8407790-66d2-4fa8-a4ee-f79a30745f82.jpeg to food_photos_processed/train/watermelon/b8407790-66d2-4fa8-a4ee-f79a30745f82.jpeg\n",
      "[INFO] Copying food_photos/ice_coffee/4c47adc8-5162-4650-a3bf-483ec1396d8c.jpeg to food_photos_processed/train/ice_coffee/4c47adc8-5162-4650-a3bf-483ec1396d8c.jpeg\n"
     ]
    },
    {
     "name": "stderr",
     "output_type": "stream",
     "text": [
      " 26%|██▌       | 138/526 [00:00<00:00, 457.49it/s]"
     ]
    },
    {
     "name": "stdout",
     "output_type": "stream",
     "text": [
      "[INFO] Copying food_photos/lime/6c6e6322-be99-44ec-8558-f3d75945e171.jpeg to food_photos_processed/train/lime/6c6e6322-be99-44ec-8558-f3d75945e171.jpeg\n",
      "[INFO] Copying food_photos/ice_coffee/cde8708c-5c5f-4d2a-97b6-75a637578ba7.jpeg to food_photos_processed/train/ice_coffee/cde8708c-5c5f-4d2a-97b6-75a637578ba7.jpeg\n",
      "[INFO] Copying food_photos/plum/df712c87-2d99-4bac-8531-ee0de0068085.jpeg to food_photos_processed/train/plum/df712c87-2d99-4bac-8531-ee0de0068085.jpeg\n",
      "[INFO] Copying food_photos/broccoli/9293d043-1a58-47ec-bd81-4ac2c7d58ea9.jpeg to food_photos_processed/train/broccoli/9293d043-1a58-47ec-bd81-4ac2c7d58ea9.jpeg\n",
      "[INFO] Copying food_photos/carrot/11e40378-cfc6-4fe1-9b53-f9914451c988.jpeg to food_photos_processed/train/carrot/11e40378-cfc6-4fe1-9b53-f9914451c988.jpeg\n",
      "[INFO] Copying food_photos/carrot/e54f3f9b-3fbb-4c2d-9d69-1afa9f87c059.jpeg to food_photos_processed/train/carrot/e54f3f9b-3fbb-4c2d-9d69-1afa9f87c059.jpeg\n",
      "[INFO] Copying food_photos/garlic/cd0700b9-74b8-4db1-a2aa-360bfb7ceaa7.jpeg to food_photos_processed/train/garlic/cd0700b9-74b8-4db1-a2aa-360bfb7ceaa7.jpeg\n",
      "[INFO] Copying food_photos/ice_coffee/eb52b480-460f-47ff-8bfd-7738137e6db9.jpeg to food_photos_processed/train/ice_coffee/eb52b480-460f-47ff-8bfd-7738137e6db9.jpeg\n",
      "[INFO] Copying food_photos/broccoli/9aee072a-e6ab-4333-86b4-f82ace504371.jpeg to food_photos_processed/train/broccoli/9aee072a-e6ab-4333-86b4-f82ace504371.jpeg\n",
      "[INFO] Copying food_photos/broccoli/ffc7797e-20b8-4d96-a50c-d21123924b9c.jpeg to food_photos_processed/train/broccoli/ffc7797e-20b8-4d96-a50c-d21123924b9c.jpeg\n",
      "[INFO] Copying food_photos/eggs/d9b89139-1323-4f0e-9ec6-2e4886e45b6a.jpeg to food_photos_processed/train/eggs/d9b89139-1323-4f0e-9ec6-2e4886e45b6a.jpeg\n",
      "[INFO] Copying food_photos/peach/bce7b593-13ff-42e0-bea3-4ad9bb727d30.jpeg to food_photos_processed/train/peach/bce7b593-13ff-42e0-bea3-4ad9bb727d30.jpeg\n",
      "[INFO] Copying food_photos/orange_juice/4c56898a-7036-48ca-892b-8cdcaca7cac0.jpeg to food_photos_processed/train/orange_juice/4c56898a-7036-48ca-892b-8cdcaca7cac0.jpeg\n",
      "[INFO] Copying food_photos/carrot/84fe3b84-21ba-43c5-b379-bd9e370038c6.jpeg to food_photos_processed/train/carrot/84fe3b84-21ba-43c5-b379-bd9e370038c6.jpeg\n",
      "[INFO] Copying food_photos/broccoli/041f2e6b-642e-4586-8178-b35cd1e17d6d.jpeg to food_photos_processed/train/broccoli/041f2e6b-642e-4586-8178-b35cd1e17d6d.jpeg\n",
      "[INFO] Copying food_photos/lime/130d7bd4-cdfa-4e21-bc04-9455ec02b9d5.jpeg to food_photos_processed/train/lime/130d7bd4-cdfa-4e21-bc04-9455ec02b9d5.jpeg\n",
      "[INFO] Copying food_photos/lime/3cba0fda-f453-4db3-a05c-6bac3005520b.jpeg to food_photos_processed/train/lime/3cba0fda-f453-4db3-a05c-6bac3005520b.jpeg\n",
      "[INFO] Copying food_photos/carrot/95f3e167-ee76-4000-addb-53dfb317f608.jpeg to food_photos_processed/train/carrot/95f3e167-ee76-4000-addb-53dfb317f608.jpeg\n",
      "[INFO] Copying food_photos/carrot/a2cfedb0-78f5-4670-a49e-17d0e4b21569.jpeg to food_photos_processed/train/carrot/a2cfedb0-78f5-4670-a49e-17d0e4b21569.jpeg\n",
      "[INFO] Copying food_photos/carrot/eadcf5b2-6f6e-4d9b-b000-9f4f03ee6d72.jpeg to food_photos_processed/train/carrot/eadcf5b2-6f6e-4d9b-b000-9f4f03ee6d72.jpeg\n",
      "[INFO] Copying food_photos/carrot/d926d3dc-f52d-4fb4-93f8-7274a5589bda.jpeg to food_photos_processed/train/carrot/d926d3dc-f52d-4fb4-93f8-7274a5589bda.jpeg\n",
      "[INFO] Copying food_photos/avocado/d414554f-439a-4792-875a-0c2462bd4e10.jpeg to food_photos_processed/train/avocado/d414554f-439a-4792-875a-0c2462bd4e10.jpeg\n",
      "[INFO] Copying food_photos/broccoli/a063dc7b-4cf8-4bf8-97f2-e7f6a0a4f983.jpeg to food_photos_processed/train/broccoli/a063dc7b-4cf8-4bf8-97f2-e7f6a0a4f983.jpeg\n",
      "[INFO] Copying food_photos/carrot/3f3107eb-51f2-40d0-b231-94794d7112bb.jpeg to food_photos_processed/train/carrot/3f3107eb-51f2-40d0-b231-94794d7112bb.jpeg\n",
      "[INFO] Copying food_photos/broccoli/a50f3b49-38fa-4597-916a-0e75fbc244a2.jpeg to food_photos_processed/train/broccoli/a50f3b49-38fa-4597-916a-0e75fbc244a2.jpeg\n",
      "[INFO] Copying food_photos/garlic/ed843e1a-8e99-4a5a-b469-f4aee1526f06.jpeg to food_photos_processed/train/garlic/ed843e1a-8e99-4a5a-b469-f4aee1526f06.jpeg\n",
      "[INFO] Copying food_photos/carrot/687f5830-2324-433a-a92e-1de38bb38eab.jpeg to food_photos_processed/train/carrot/687f5830-2324-433a-a92e-1de38bb38eab.jpeg\n",
      "[INFO] Copying food_photos/nectarines/3ce13e3a-f953-4826-9ec6-8ca8b672d519.jpeg to food_photos_processed/train/nectarines/3ce13e3a-f953-4826-9ec6-8ca8b672d519.jpeg\n",
      "[INFO] Copying food_photos/peach/0b2017ac-db12-4fa8-8b8a-9a9c53baee19.jpeg to food_photos_processed/train/peach/0b2017ac-db12-4fa8-8b8a-9a9c53baee19.jpeg\n",
      "[INFO] Copying food_photos/garlic/bfff1eb7-9c97-4923-9452-3ebb5d5a6c4e.jpeg to food_photos_processed/train/garlic/bfff1eb7-9c97-4923-9452-3ebb5d5a6c4e.jpeg\n",
      "[INFO] Copying food_photos/avocado/55282fe9-e86c-41c4-af85-00afd406beb9.jpeg to food_photos_processed/train/avocado/55282fe9-e86c-41c4-af85-00afd406beb9.jpeg\n",
      "[INFO] Copying food_photos/plum/582a8a9b-8087-4abb-91ea-e38751667909.jpeg to food_photos_processed/train/plum/582a8a9b-8087-4abb-91ea-e38751667909.jpeg\n",
      "[INFO] Copying food_photos/ice_coffee/d96ab7c3-4dbd-4ed9-b4a5-fe4f8e77008d.jpeg to food_photos_processed/train/ice_coffee/d96ab7c3-4dbd-4ed9-b4a5-fe4f8e77008d.jpeg\n",
      "[INFO] Copying food_photos/carrot/f238505b-0886-4ee2-b50a-249ce8efc3cd.jpeg to food_photos_processed/train/carrot/f238505b-0886-4ee2-b50a-249ce8efc3cd.jpeg\n",
      "[INFO] Copying food_photos/watermelon/b2ced756-63cb-4e45-a9c4-3192255fcc35.jpeg to food_photos_processed/train/watermelon/b2ced756-63cb-4e45-a9c4-3192255fcc35.jpeg\n",
      "[INFO] Copying food_photos/ice_coffee/c2dd492c-568e-4413-887e-bd12c1b58ac1.jpeg to food_photos_processed/train/ice_coffee/c2dd492c-568e-4413-887e-bd12c1b58ac1.jpeg\n",
      "[INFO] Copying food_photos/ice_coffee/49544d1c-2fcc-4949-9df9-5e22c6a23aca.jpeg to food_photos_processed/train/ice_coffee/49544d1c-2fcc-4949-9df9-5e22c6a23aca.jpeg\n",
      "[INFO] Copying food_photos/ice_coffee/849602cf-53a7-4418-83f4-7ccb0403a4c2.jpeg to food_photos_processed/train/ice_coffee/849602cf-53a7-4418-83f4-7ccb0403a4c2.jpeg\n",
      "[INFO] Copying food_photos/avocado/25c27d1a-a9b7-48f2-a1b0-6ff8d8110067.jpeg to food_photos_processed/train/avocado/25c27d1a-a9b7-48f2-a1b0-6ff8d8110067.jpeg\n",
      "[INFO] Copying food_photos/carrot/967f8d4c-b64f-4a55-ae3e-2752539a5456.jpeg to food_photos_processed/train/carrot/967f8d4c-b64f-4a55-ae3e-2752539a5456.jpeg\n",
      "[INFO] Copying food_photos/carrot/48ea858d-304b-4d2a-b747-2ec391f9e437.jpeg to food_photos_processed/train/carrot/48ea858d-304b-4d2a-b747-2ec391f9e437.jpeg\n",
      "[INFO] Copying food_photos/garlic/3a269413-789c-4b66-9647-6997318961b2.jpeg to food_photos_processed/train/garlic/3a269413-789c-4b66-9647-6997318961b2.jpeg\n",
      "[INFO] Copying food_photos/garlic/d223960f-259a-4e69-a9a0-878296cb7bfb.jpeg to food_photos_processed/train/garlic/d223960f-259a-4e69-a9a0-878296cb7bfb.jpeg\n",
      "[INFO] Copying food_photos/nectarines/31dbdb31-9521-4aec-9c39-78411497f9ff.jpeg to food_photos_processed/train/nectarines/31dbdb31-9521-4aec-9c39-78411497f9ff.jpeg\n",
      "[INFO] Copying food_photos/broccoli/c2e9a3a3-4596-49be-91b6-e7c08962d020.jpeg to food_photos_processed/train/broccoli/c2e9a3a3-4596-49be-91b6-e7c08962d020.jpeg\n",
      "[INFO] Copying food_photos/lime/e647933b-218e-41e5-9695-7280bd6ac2bf.jpeg to food_photos_processed/train/lime/e647933b-218e-41e5-9695-7280bd6ac2bf.jpeg\n",
      "[INFO] Copying food_photos/ice_coffee/870d6c0e-ca17-4ae8-b9b0-91171c67c326.jpeg to food_photos_processed/train/ice_coffee/870d6c0e-ca17-4ae8-b9b0-91171c67c326.jpeg\n",
      "[INFO] Copying food_photos/avocado/531a724d-6b07-4319-9bba-1b387dfea1e0.jpeg to food_photos_processed/train/avocado/531a724d-6b07-4319-9bba-1b387dfea1e0.jpeg\n",
      "[INFO] Copying food_photos/garlic/7c8501f4-91fe-4729-8dc9-93793987be2e.jpeg to food_photos_processed/train/garlic/7c8501f4-91fe-4729-8dc9-93793987be2e.jpeg\n",
      "[INFO] Copying food_photos/broccoli/22088dc2-fe67-4fac-bfc1-faee7fce0b72.jpeg to food_photos_processed/train/broccoli/22088dc2-fe67-4fac-bfc1-faee7fce0b72.jpeg\n",
      "[INFO] Copying food_photos/lime/dbadfbb0-c56b-4867-b123-954bb676e480.jpeg to food_photos_processed/train/lime/dbadfbb0-c56b-4867-b123-954bb676e480.jpeg\n",
      "[INFO] Copying food_photos/carrot/4a3b5259-fd2c-40e6-8791-0eb5ba34ee23.jpeg to food_photos_processed/train/carrot/4a3b5259-fd2c-40e6-8791-0eb5ba34ee23.jpeg\n",
      "[INFO] Copying food_photos/eggs/8518ea38-7ab6-4df6-9d8b-7ccd683c73e4.jpeg to food_photos_processed/train/eggs/8518ea38-7ab6-4df6-9d8b-7ccd683c73e4.jpeg\n",
      "[INFO] Copying food_photos/carrot/6ee88d49-1e5e-4ba5-938f-0c1bfca4bbe0.jpeg to food_photos_processed/train/carrot/6ee88d49-1e5e-4ba5-938f-0c1bfca4bbe0.jpeg\n",
      "[INFO] Copying food_photos/lime/3e5568bb-d0b0-46d6-8580-d2e757beb952.jpeg to food_photos_processed/train/lime/3e5568bb-d0b0-46d6-8580-d2e757beb952.jpeg\n",
      "[INFO] Copying food_photos/broccoli/81ae8a6a-5fe1-44f6-8276-5ee39d69244f.jpeg to food_photos_processed/train/broccoli/81ae8a6a-5fe1-44f6-8276-5ee39d69244f.jpeg\n",
      "[INFO] Copying food_photos/carrot/5c7f6de2-3c65-4d09-94c4-f66985f6c0fb.jpeg to food_photos_processed/train/carrot/5c7f6de2-3c65-4d09-94c4-f66985f6c0fb.jpeg\n",
      "[INFO] Copying food_photos/peach/59bd4788-8c90-46d2-95d8-52280cf5fb2e.jpeg to food_photos_processed/train/peach/59bd4788-8c90-46d2-95d8-52280cf5fb2e.jpeg\n",
      "[INFO] Copying food_photos/avocado/0af12764-d5f1-4815-ae41-8328fb63dd79.jpeg to food_photos_processed/train/avocado/0af12764-d5f1-4815-ae41-8328fb63dd79.jpeg\n",
      "[INFO] Copying food_photos/avocado/a90a0fd6-229a-4707-868f-95e4b6201b98.jpeg to food_photos_processed/train/avocado/a90a0fd6-229a-4707-868f-95e4b6201b98.jpeg\n",
      "[INFO] Copying food_photos/ice_coffee/8e04332a-c44d-4bd0-adc9-e7075157f1cc.jpeg to food_photos_processed/train/ice_coffee/8e04332a-c44d-4bd0-adc9-e7075157f1cc.jpeg\n",
      "[INFO] Copying food_photos/broccoli/22766830-deea-4851-82ec-4b57fcbee4b8.jpeg to food_photos_processed/train/broccoli/22766830-deea-4851-82ec-4b57fcbee4b8.jpeg\n",
      "[INFO] Copying food_photos/carrot/ac988050-c756-466e-b08b-34efad871ea4.jpeg to food_photos_processed/train/carrot/ac988050-c756-466e-b08b-34efad871ea4.jpeg\n",
      "[INFO] Copying food_photos/avocado/f9f0fb3d-b313-4368-aaf1-6cdbc754f1a2.jpeg to food_photos_processed/train/avocado/f9f0fb3d-b313-4368-aaf1-6cdbc754f1a2.jpeg\n",
      "[INFO] Copying food_photos/lime/4ac15f00-7e87-4b89-ab64-3dc7337ec50b.jpeg to food_photos_processed/train/lime/4ac15f00-7e87-4b89-ab64-3dc7337ec50b.jpeg\n",
      "[INFO] Copying food_photos/eggs/f0353b91-2ee1-450f-8355-8d9ac1976a65.jpeg to food_photos_processed/train/eggs/f0353b91-2ee1-450f-8355-8d9ac1976a65.jpeg\n",
      "[INFO] Copying food_photos/avocado/dc65163e-e2be-48e4-ba75-795c3aa93705.jpeg to food_photos_processed/train/avocado/dc65163e-e2be-48e4-ba75-795c3aa93705.jpeg\n",
      "[INFO] Copying food_photos/broccoli/e92e8cf2-2e19-4419-a749-15e18752d8f2.jpeg to food_photos_processed/train/broccoli/e92e8cf2-2e19-4419-a749-15e18752d8f2.jpeg\n",
      "[INFO] Copying food_photos/garlic/e6aa0aed-54a8-4655-941e-21fe02aa318d.jpeg to food_photos_processed/train/garlic/e6aa0aed-54a8-4655-941e-21fe02aa318d.jpeg\n",
      "[INFO] Copying food_photos/ice_coffee/142daecd-ec81-4485-bca1-c1de9ccb589c.jpeg to food_photos_processed/train/ice_coffee/142daecd-ec81-4485-bca1-c1de9ccb589c.jpeg\n",
      "[INFO] Copying food_photos/watermelon/8c6cb691-085a-4bae-a27f-fa9606f642ea.jpeg to food_photos_processed/train/watermelon/8c6cb691-085a-4bae-a27f-fa9606f642ea.jpeg\n",
      "[INFO] Copying food_photos/carrot/bde26d59-375c-497a-a4d6-345976338d46.jpeg to food_photos_processed/train/carrot/bde26d59-375c-497a-a4d6-345976338d46.jpeg\n",
      "[INFO] Copying food_photos/lime/b30fc6cf-b5f8-4a1b-b597-0bf4c1671a7c.jpeg to food_photos_processed/train/lime/b30fc6cf-b5f8-4a1b-b597-0bf4c1671a7c.jpeg\n",
      "[INFO] Copying food_photos/broccoli/43ed73d1-c444-4ab2-bf49-bac198ba9c41.jpeg to food_photos_processed/train/broccoli/43ed73d1-c444-4ab2-bf49-bac198ba9c41.jpeg\n",
      "[INFO] Copying food_photos/plum/c3f6d5ce-25f3-4942-b612-df3496c653fa.jpeg to food_photos_processed/train/plum/c3f6d5ce-25f3-4942-b612-df3496c653fa.jpeg\n",
      "[INFO] Copying food_photos/avocado/95c89305-e6d7-4cc2-b002-2b4fde5493da.jpeg to food_photos_processed/train/avocado/95c89305-e6d7-4cc2-b002-2b4fde5493da.jpeg\n",
      "[INFO] Copying food_photos/carrot/47fb7202-ea80-4e63-9cdf-93a622b55b29.jpeg to food_photos_processed/train/carrot/47fb7202-ea80-4e63-9cdf-93a622b55b29.jpeg\n",
      "[INFO] Copying food_photos/broccoli/025289ff-20de-467c-a585-4629038706ee.jpeg to food_photos_processed/train/broccoli/025289ff-20de-467c-a585-4629038706ee.jpeg\n",
      "[INFO] Copying food_photos/broccoli/2a65538e-89f5-45c7-ad77-33544cca247f.jpeg to food_photos_processed/train/broccoli/2a65538e-89f5-45c7-ad77-33544cca247f.jpeg\n",
      "[INFO] Copying food_photos/avocado/7a1aa403-9a96-4289-91e5-e382f9faeb0e.jpeg to food_photos_processed/train/avocado/7a1aa403-9a96-4289-91e5-e382f9faeb0e.jpeg\n",
      "[INFO] Copying food_photos/eggs/ce833896-6322-488f-b53a-c1e648471642.jpeg to food_photos_processed/train/eggs/ce833896-6322-488f-b53a-c1e648471642.jpeg\n",
      "[INFO] Copying food_photos/lime/19484298-8dbe-4dee-938f-0d8498fdb0b2.jpeg to food_photos_processed/train/lime/19484298-8dbe-4dee-938f-0d8498fdb0b2.jpeg\n",
      "[INFO] Copying food_photos/broccoli/424a1ced-cf39-4e1e-bd4f-c338e731fb7d.jpeg to food_photos_processed/train/broccoli/424a1ced-cf39-4e1e-bd4f-c338e731fb7d.jpeg\n",
      "[INFO] Copying food_photos/ice_coffee/b010c743-799d-49f4-95e5-9b9d3d824582.jpeg to food_photos_processed/train/ice_coffee/b010c743-799d-49f4-95e5-9b9d3d824582.jpeg\n",
      "[INFO] Copying food_photos/eggs/9f773ecd-194a-4382-a837-ed4f6ed92c74.jpeg to food_photos_processed/train/eggs/9f773ecd-194a-4382-a837-ed4f6ed92c74.jpeg\n",
      "[INFO] Copying food_photos/ice_coffee/dfe3b353-1c4a-460d-80ef-c3cbb9ab4748.jpeg to food_photos_processed/train/ice_coffee/dfe3b353-1c4a-460d-80ef-c3cbb9ab4748.jpeg\n",
      "[INFO] Copying food_photos/watermelon/f3bcc5bd-23e2-4c42-b3c6-f61e6de6db57.jpeg to food_photos_processed/train/watermelon/f3bcc5bd-23e2-4c42-b3c6-f61e6de6db57.jpeg\n",
      "[INFO] Copying food_photos/broccoli/2f4f0380-b3f0-4086-9663-8d905211bd29.jpeg to food_photos_processed/train/broccoli/2f4f0380-b3f0-4086-9663-8d905211bd29.jpeg\n",
      "[INFO] Copying food_photos/avocado/76ed8a56-9167-4dd0-9da5-1f21ec3c229b.jpeg to food_photos_processed/train/avocado/76ed8a56-9167-4dd0-9da5-1f21ec3c229b.jpeg\n",
      "[INFO] Copying food_photos/plum/0d59cdf4-c2dd-493d-8f56-d318d91c887f.jpeg to food_photos_processed/train/plum/0d59cdf4-c2dd-493d-8f56-d318d91c887f.jpeg\n",
      "[INFO] Copying food_photos/carrot/d39c5e5e-8d63-4c91-ae5b-8b0a75dbf19a.jpeg to food_photos_processed/train/carrot/d39c5e5e-8d63-4c91-ae5b-8b0a75dbf19a.jpeg\n",
      "[INFO] Copying food_photos/orange_juice/f390dd8e-89a7-4528-9f0c-d2c2051c0a6f.jpeg to food_photos_processed/train/orange_juice/f390dd8e-89a7-4528-9f0c-d2c2051c0a6f.jpeg\n"
     ]
    },
    {
     "name": "stderr",
     "output_type": "stream",
     "text": [
      " 44%|████▎     | 229/526 [00:00<00:00, 437.05it/s]"
     ]
    },
    {
     "name": "stdout",
     "output_type": "stream",
     "text": [
      "[INFO] Copying food_photos/carrot/cbc2929e-415e-41aa-a2aa-11fdf661d44f.jpeg to food_photos_processed/train/carrot/cbc2929e-415e-41aa-a2aa-11fdf661d44f.jpeg\n",
      "[INFO] Copying food_photos/lime/6151b392-df87-4a78-b795-a174dfb0dfce.jpeg to food_photos_processed/train/lime/6151b392-df87-4a78-b795-a174dfb0dfce.jpeg\n",
      "[INFO] Copying food_photos/eggs/3040a798-05b6-477b-aa44-3ae50f15cded.jpeg to food_photos_processed/train/eggs/3040a798-05b6-477b-aa44-3ae50f15cded.jpeg\n",
      "[INFO] Copying food_photos/ice_coffee/11e08755-4cda-45f0-85f1-1559c5ac37e7.jpeg to food_photos_processed/train/ice_coffee/11e08755-4cda-45f0-85f1-1559c5ac37e7.jpeg\n",
      "[INFO] Copying food_photos/ice_coffee/e31fe258-26f9-4a70-9bc4-841c1bddce2f.jpeg to food_photos_processed/train/ice_coffee/e31fe258-26f9-4a70-9bc4-841c1bddce2f.jpeg\n",
      "[INFO] Copying food_photos/avocado/b8760691-92d7-4750-9388-18037fadc61f.jpeg to food_photos_processed/train/avocado/b8760691-92d7-4750-9388-18037fadc61f.jpeg\n",
      "[INFO] Copying food_photos/avocado/ebf8d230-e92e-4f72-8f41-538680d45e66.jpeg to food_photos_processed/train/avocado/ebf8d230-e92e-4f72-8f41-538680d45e66.jpeg\n",
      "[INFO] Copying food_photos/carrot/881c9499-8e21-4cbe-8035-526a56c7f383.jpeg to food_photos_processed/train/carrot/881c9499-8e21-4cbe-8035-526a56c7f383.jpeg\n",
      "[INFO] Copying food_photos/nectarines/99b23c5f-1031-43a2-b86b-8598565e23d1.jpeg to food_photos_processed/train/nectarines/99b23c5f-1031-43a2-b86b-8598565e23d1.jpeg\n",
      "[INFO] Copying food_photos/carrot/1fda94b1-4ccc-4b78-8d6b-1ab7e46c06e0.jpeg to food_photos_processed/train/carrot/1fda94b1-4ccc-4b78-8d6b-1ab7e46c06e0.jpeg\n",
      "[INFO] Copying food_photos/lime/d9b81f8e-b7be-4782-ac7d-3a246d0f13f2.jpeg to food_photos_processed/train/lime/d9b81f8e-b7be-4782-ac7d-3a246d0f13f2.jpeg\n",
      "[INFO] Copying food_photos/carrot/0ed61e80-a2f0-4008-929f-676c87da76ab.jpeg to food_photos_processed/train/carrot/0ed61e80-a2f0-4008-929f-676c87da76ab.jpeg\n",
      "[INFO] Copying food_photos/lime/f26f1e88-7e8c-441b-abf1-6113d998c5ec.jpeg to food_photos_processed/train/lime/f26f1e88-7e8c-441b-abf1-6113d998c5ec.jpeg\n",
      "[INFO] Copying food_photos/lime/604815ff-62cc-43d3-ad88-21e443cc298a.jpeg to food_photos_processed/train/lime/604815ff-62cc-43d3-ad88-21e443cc298a.jpeg\n",
      "[INFO] Copying food_photos/lime/2e0d9b34-afb4-4313-a643-11832d5e755c.jpeg to food_photos_processed/train/lime/2e0d9b34-afb4-4313-a643-11832d5e755c.jpeg\n",
      "[INFO] Copying food_photos/broccoli/8babf342-19bc-4c14-94e6-a80fa55c9bb4.jpeg to food_photos_processed/train/broccoli/8babf342-19bc-4c14-94e6-a80fa55c9bb4.jpeg\n",
      "[INFO] Copying food_photos/carrot/84f32fc4-2b27-4b92-91ea-af75f88ff888.jpeg to food_photos_processed/train/carrot/84f32fc4-2b27-4b92-91ea-af75f88ff888.jpeg\n",
      "[INFO] Copying food_photos/eggs/0c460a2a-2cdd-41ca-aac7-5bdb642f68b8.jpeg to food_photos_processed/train/eggs/0c460a2a-2cdd-41ca-aac7-5bdb642f68b8.jpeg\n",
      "[INFO] Copying food_photos/carrot/8186b49c-d519-4d87-ace6-52d22605b10f.jpeg to food_photos_processed/train/carrot/8186b49c-d519-4d87-ace6-52d22605b10f.jpeg\n",
      "[INFO] Copying food_photos/carrot/396bf5dc-6224-4d82-8327-a69bfd990f4a.jpeg to food_photos_processed/train/carrot/396bf5dc-6224-4d82-8327-a69bfd990f4a.jpeg\n",
      "[INFO] Copying food_photos/broccoli/e6979a03-649c-4820-bc8b-6861d9093c77.jpeg to food_photos_processed/train/broccoli/e6979a03-649c-4820-bc8b-6861d9093c77.jpeg\n",
      "[INFO] Copying food_photos/plum/ab688063-909e-4a72-84ba-acab2ede4b6d.jpeg to food_photos_processed/train/plum/ab688063-909e-4a72-84ba-acab2ede4b6d.jpeg\n",
      "[INFO] Copying food_photos/avocado/b1fbdabe-788e-4f45-8fb6-9bbe760f6c8e.jpeg to food_photos_processed/train/avocado/b1fbdabe-788e-4f45-8fb6-9bbe760f6c8e.jpeg\n",
      "[INFO] Copying food_photos/broccoli/2ac85561-62f7-40c6-9bf1-e178375d6c57.jpeg to food_photos_processed/train/broccoli/2ac85561-62f7-40c6-9bf1-e178375d6c57.jpeg\n",
      "[INFO] Copying food_photos/orange_juice/a6fdce4b-b1a7-48ca-b87c-2e4cba998e18.jpeg to food_photos_processed/train/orange_juice/a6fdce4b-b1a7-48ca-b87c-2e4cba998e18.jpeg\n",
      "[INFO] Copying food_photos/broccoli/4b398f1a-9a26-4426-a7ab-2d6d0056972b.jpeg to food_photos_processed/train/broccoli/4b398f1a-9a26-4426-a7ab-2d6d0056972b.jpeg\n",
      "[INFO] Copying food_photos/garlic/9f8e0eb8-75c9-435b-b336-a63d6a64944c.jpeg to food_photos_processed/train/garlic/9f8e0eb8-75c9-435b-b336-a63d6a64944c.jpeg\n",
      "[INFO] Copying food_photos/broccoli/9413b374-7485-45b8-addc-9c967c8310f9.jpeg to food_photos_processed/train/broccoli/9413b374-7485-45b8-addc-9c967c8310f9.jpeg\n",
      "[INFO] Copying food_photos/garlic/18ca4942-9287-46f7-8cb2-fe4ca772849a.jpeg to food_photos_processed/train/garlic/18ca4942-9287-46f7-8cb2-fe4ca772849a.jpeg\n",
      "[INFO] Copying food_photos/nectarines/0cbc9cf3-aec6-4ee5-af67-38bc25c4c73a.jpeg to food_photos_processed/train/nectarines/0cbc9cf3-aec6-4ee5-af67-38bc25c4c73a.jpeg\n",
      "[INFO] Copying food_photos/broccoli/a0fcd542-570f-4c36-a95f-e9a9b5d3e94d.jpeg to food_photos_processed/train/broccoli/a0fcd542-570f-4c36-a95f-e9a9b5d3e94d.jpeg\n",
      "[INFO] Copying food_photos/carrot/3abcb261-d1e0-4eff-9a9f-3df0678065cc.jpeg to food_photos_processed/train/carrot/3abcb261-d1e0-4eff-9a9f-3df0678065cc.jpeg\n",
      "[INFO] Copying food_photos/avocado/1b9339f6-2742-4b35-a5cd-9a5dc407dfe4.jpeg to food_photos_processed/train/avocado/1b9339f6-2742-4b35-a5cd-9a5dc407dfe4.jpeg\n",
      "[INFO] Copying food_photos/plum/8640973c-0f5d-4765-a290-a28b1c093e8e.jpeg to food_photos_processed/train/plum/8640973c-0f5d-4765-a290-a28b1c093e8e.jpeg\n",
      "[INFO] Copying food_photos/avocado/18d57cf4-5f25-4ce1-8a2a-08ecd4555b84.jpeg to food_photos_processed/train/avocado/18d57cf4-5f25-4ce1-8a2a-08ecd4555b84.jpeg\n",
      "[INFO] Copying food_photos/broccoli/93bf9f1d-1173-46e0-a430-9db0320f45b0.jpeg to food_photos_processed/train/broccoli/93bf9f1d-1173-46e0-a430-9db0320f45b0.jpeg\n",
      "[INFO] Copying food_photos/avocado/da461eee-acc9-4f0d-859a-52511ff834e5.jpeg to food_photos_processed/train/avocado/da461eee-acc9-4f0d-859a-52511ff834e5.jpeg\n",
      "[INFO] Copying food_photos/ice_coffee/68e1ccd2-8334-49d4-9dbe-f4d2dcd9c68d.jpeg to food_photos_processed/train/ice_coffee/68e1ccd2-8334-49d4-9dbe-f4d2dcd9c68d.jpeg\n",
      "[INFO] Copying food_photos/broccoli/37007f9d-5967-4d1e-bab7-0ecfddcc8df6.jpeg to food_photos_processed/train/broccoli/37007f9d-5967-4d1e-bab7-0ecfddcc8df6.jpeg\n",
      "[INFO] Copying food_photos/orange_juice/4fff6ca4-e180-447a-89e0-48082906c525.jpeg to food_photos_processed/train/orange_juice/4fff6ca4-e180-447a-89e0-48082906c525.jpeg\n",
      "[INFO] Copying food_photos/carrot/cfe4b3c2-d3d6-4a99-8160-00c660c7dffe.jpeg to food_photos_processed/train/carrot/cfe4b3c2-d3d6-4a99-8160-00c660c7dffe.jpeg\n",
      "[INFO] Copying food_photos/nectarines/26dc1c70-35ca-4295-8d2f-4ef34fe5f35f.jpeg to food_photos_processed/train/nectarines/26dc1c70-35ca-4295-8d2f-4ef34fe5f35f.jpeg\n",
      "[INFO] Copying food_photos/garlic/2243efe9-a92d-4c23-8319-4ee155dbea38.jpeg to food_photos_processed/train/garlic/2243efe9-a92d-4c23-8319-4ee155dbea38.jpeg\n",
      "[INFO] Copying food_photos/garlic/eeb72b66-b3c8-4129-87d0-1291c3befd79.jpeg to food_photos_processed/train/garlic/eeb72b66-b3c8-4129-87d0-1291c3befd79.jpeg\n",
      "[INFO] Copying food_photos/plum/049c6ad1-2eb5-4e01-9997-b1bbcb9792f9.jpeg to food_photos_processed/train/plum/049c6ad1-2eb5-4e01-9997-b1bbcb9792f9.jpeg\n",
      "[INFO] Copying food_photos/carrot/e731235d-a45d-4e8a-8e1f-49ed421b96b9.jpeg to food_photos_processed/train/carrot/e731235d-a45d-4e8a-8e1f-49ed421b96b9.jpeg\n",
      "[INFO] Copying food_photos/watermelon/4f934985-0dd9-46b2-b9f7-106978764db8.jpeg to food_photos_processed/train/watermelon/4f934985-0dd9-46b2-b9f7-106978764db8.jpeg\n",
      "[INFO] Copying food_photos/broccoli/0357088c-bc68-409a-9040-e9f2535af82e.jpeg to food_photos_processed/train/broccoli/0357088c-bc68-409a-9040-e9f2535af82e.jpeg\n",
      "[INFO] Copying food_photos/avocado/245223bb-ad0a-4cd5-8599-a90997d1444a.jpeg to food_photos_processed/train/avocado/245223bb-ad0a-4cd5-8599-a90997d1444a.jpeg\n",
      "[INFO] Copying food_photos/broccoli/98fee264-8758-403f-95b1-f81769b92a77.jpeg to food_photos_processed/train/broccoli/98fee264-8758-403f-95b1-f81769b92a77.jpeg\n",
      "[INFO] Copying food_photos/watermelon/3226e1bf-4655-4815-9e1d-efdf5b1a4aae.jpeg to food_photos_processed/train/watermelon/3226e1bf-4655-4815-9e1d-efdf5b1a4aae.jpeg\n",
      "[INFO] Copying food_photos/garlic/41aa46f1-a9e5-4a68-9a24-740a68c28c33.jpeg to food_photos_processed/train/garlic/41aa46f1-a9e5-4a68-9a24-740a68c28c33.jpeg\n",
      "[INFO] Copying food_photos/ice_coffee/69f79304-f9f8-40e2-b59a-5ab42a01afa3.jpeg to food_photos_processed/train/ice_coffee/69f79304-f9f8-40e2-b59a-5ab42a01afa3.jpeg\n",
      "[INFO] Copying food_photos/broccoli/22fbcc2e-5337-49ad-8c81-61a5ae5e7d82.jpeg to food_photos_processed/train/broccoli/22fbcc2e-5337-49ad-8c81-61a5ae5e7d82.jpeg\n",
      "[INFO] Copying food_photos/carrot/e6296461-3c5b-43d2-b039-2f6248fb7ba9.jpeg to food_photos_processed/train/carrot/e6296461-3c5b-43d2-b039-2f6248fb7ba9.jpeg\n",
      "[INFO] Copying food_photos/lime/2e1e62e2-4c05-4e4e-b370-9a3e49c68a7f.jpeg to food_photos_processed/train/lime/2e1e62e2-4c05-4e4e-b370-9a3e49c68a7f.jpeg\n",
      "[INFO] Copying food_photos/lime/280996ed-b9a8-4d9e-917d-1f6007033b08.jpeg to food_photos_processed/train/lime/280996ed-b9a8-4d9e-917d-1f6007033b08.jpeg\n",
      "[INFO] Copying food_photos/garlic/4994f15e-559a-4026-ab78-55ddd991a90b.jpeg to food_photos_processed/train/garlic/4994f15e-559a-4026-ab78-55ddd991a90b.jpeg\n",
      "[INFO] Copying food_photos/eggs/062a106b-3d47-4e09-99e8-7d86cc5ad842.jpeg to food_photos_processed/train/eggs/062a106b-3d47-4e09-99e8-7d86cc5ad842.jpeg\n",
      "[INFO] Copying food_photos/watermelon/90bc13f1-9dae-4996-ab1b-1451a78cd32c.jpeg to food_photos_processed/train/watermelon/90bc13f1-9dae-4996-ab1b-1451a78cd32c.jpeg\n",
      "[INFO] Copying food_photos/lime/12a7baec-d2e2-4aec-82f9-71a5ec1988ba.jpeg to food_photos_processed/train/lime/12a7baec-d2e2-4aec-82f9-71a5ec1988ba.jpeg\n",
      "[INFO] Copying food_photos/orange_juice/eafff5a9-de91-40f4-8115-91b71160b07e.jpeg to food_photos_processed/train/orange_juice/eafff5a9-de91-40f4-8115-91b71160b07e.jpeg\n",
      "[INFO] Copying food_photos/lime/af384b6e-3759-4622-973f-a05bb91d7c54.jpeg to food_photos_processed/train/lime/af384b6e-3759-4622-973f-a05bb91d7c54.jpeg\n",
      "[INFO] Copying food_photos/lime/31d11b2a-40f6-4df5-b89e-9de017f2432c.jpeg to food_photos_processed/train/lime/31d11b2a-40f6-4df5-b89e-9de017f2432c.jpeg\n",
      "[INFO] Copying food_photos/carrot/215f8dc4-df30-46de-abbe-f19e69eb2f27.jpeg to food_photos_processed/train/carrot/215f8dc4-df30-46de-abbe-f19e69eb2f27.jpeg\n",
      "[INFO] Copying food_photos/carrot/ca00cf4e-b088-483a-a0bc-a9dd39a46b00.jpeg to food_photos_processed/train/carrot/ca00cf4e-b088-483a-a0bc-a9dd39a46b00.jpeg\n",
      "[INFO] Copying food_photos/carrot/a09ad2e7-2cbc-44d1-adf3-0738277851f9.jpeg to food_photos_processed/train/carrot/a09ad2e7-2cbc-44d1-adf3-0738277851f9.jpeg\n",
      "[INFO] Copying food_photos/carrot/80063c83-faa8-4c9d-b7a0-2534c6e37464.jpeg to food_photos_processed/train/carrot/80063c83-faa8-4c9d-b7a0-2534c6e37464.jpeg\n",
      "[INFO] Copying food_photos/carrot/03c52e68-67d8-4143-874d-04d4efe3a108.jpeg to food_photos_processed/train/carrot/03c52e68-67d8-4143-874d-04d4efe3a108.jpeg\n",
      "[INFO] Copying food_photos/ice_coffee/a2deb855-490c-488c-8a35-6dd5968bdf80.jpeg to food_photos_processed/train/ice_coffee/a2deb855-490c-488c-8a35-6dd5968bdf80.jpeg\n",
      "[INFO] Copying food_photos/broccoli/8a1e8e1f-8429-4974-befe-834679248ff3.jpeg to food_photos_processed/train/broccoli/8a1e8e1f-8429-4974-befe-834679248ff3.jpeg\n",
      "[INFO] Copying food_photos/ice_coffee/f57c23fd-2061-4bc7-8df1-f8dbe3bbf775.jpeg to food_photos_processed/train/ice_coffee/f57c23fd-2061-4bc7-8df1-f8dbe3bbf775.jpeg\n",
      "[INFO] Copying food_photos/lime/ca373ad5-6e31-481c-a89f-02a96c2db38c.jpeg to food_photos_processed/train/lime/ca373ad5-6e31-481c-a89f-02a96c2db38c.jpeg\n",
      "[INFO] Copying food_photos/avocado/49482949-0216-4b57-aad1-c28db538cfcf.jpeg to food_photos_processed/train/avocado/49482949-0216-4b57-aad1-c28db538cfcf.jpeg\n",
      "[INFO] Copying food_photos/carrot/3b0e42f3-16d1-4917-bc0d-64970172eeff.jpeg to food_photos_processed/train/carrot/3b0e42f3-16d1-4917-bc0d-64970172eeff.jpeg\n",
      "[INFO] Copying food_photos/watermelon/1879ce4c-38a4-432d-ad6a-c0eab38b1670.jpeg to food_photos_processed/train/watermelon/1879ce4c-38a4-432d-ad6a-c0eab38b1670.jpeg\n",
      "[INFO] Copying food_photos/broccoli/c6d2f9cb-fb33-4706-aab0-fceb1b2d54de.jpeg to food_photos_processed/train/broccoli/c6d2f9cb-fb33-4706-aab0-fceb1b2d54de.jpeg\n",
      "[INFO] Copying food_photos/carrot/c7b87f97-9f99-4c65-8a3b-582cafc122d5.jpeg to food_photos_processed/train/carrot/c7b87f97-9f99-4c65-8a3b-582cafc122d5.jpeg\n",
      "[INFO] Copying food_photos/ice_coffee/3df7ee77-9ff5-409c-b575-a727a12285ec.jpeg to food_photos_processed/train/ice_coffee/3df7ee77-9ff5-409c-b575-a727a12285ec.jpeg\n",
      "[INFO] Copying food_photos/avocado/942a6aac-bd9f-4b6d-a822-ddccdc9cde09.jpeg to food_photos_processed/train/avocado/942a6aac-bd9f-4b6d-a822-ddccdc9cde09.jpeg\n",
      "[INFO] Copying food_photos/lime/7e9754d0-73be-430d-a1ab-3ff09b61e1d3.jpeg to food_photos_processed/train/lime/7e9754d0-73be-430d-a1ab-3ff09b61e1d3.jpeg\n",
      "[INFO] Copying food_photos/ice_coffee/bac322eb-19bd-4f90-a4ac-d7536786a09b.jpeg to food_photos_processed/train/ice_coffee/bac322eb-19bd-4f90-a4ac-d7536786a09b.jpeg\n",
      "[INFO] Copying food_photos/eggs/a75e2ea9-d25e-44bd-87b6-783173a8aec4.jpeg to food_photos_processed/train/eggs/a75e2ea9-d25e-44bd-87b6-783173a8aec4.jpeg\n",
      "[INFO] Copying food_photos/watermelon/167761d1-de05-48c7-8359-b2dbd20ace4e.jpeg to food_photos_processed/train/watermelon/167761d1-de05-48c7-8359-b2dbd20ace4e.jpeg\n",
      "[INFO] Copying food_photos/watermelon/b285a1d7-f0ac-4987-ad3e-f667284c5b05.jpeg to food_photos_processed/train/watermelon/b285a1d7-f0ac-4987-ad3e-f667284c5b05.jpeg\n",
      "[INFO] Copying food_photos/ice_coffee/0c667b98-0154-4e8f-84c4-ff27ecd7f5f2.jpeg to food_photos_processed/train/ice_coffee/0c667b98-0154-4e8f-84c4-ff27ecd7f5f2.jpeg\n",
      "[INFO] Copying food_photos/lime/5460667c-d0aa-46a4-9ccc-05cd33bb7905.jpeg to food_photos_processed/train/lime/5460667c-d0aa-46a4-9ccc-05cd33bb7905.jpeg\n",
      "[INFO] Copying food_photos/broccoli/0c837a3a-5489-4987-92d6-8aaaf9cd832f.jpeg to food_photos_processed/train/broccoli/0c837a3a-5489-4987-92d6-8aaaf9cd832f.jpeg\n",
      "[INFO] Copying food_photos/avocado/5dcddd4e-699f-47d3-aaf8-2c70338e7323.jpeg to food_photos_processed/train/avocado/5dcddd4e-699f-47d3-aaf8-2c70338e7323.jpeg\n",
      "[INFO] Copying food_photos/watermelon/8239c385-45bd-4514-983f-4b6b6ef36a3c.jpeg to food_photos_processed/train/watermelon/8239c385-45bd-4514-983f-4b6b6ef36a3c.jpeg\n",
      "[INFO] Copying food_photos/lime/7e885ddd-874c-420c-b70e-b94ef58a44b3.jpeg to food_photos_processed/train/lime/7e885ddd-874c-420c-b70e-b94ef58a44b3.jpeg\n",
      "[INFO] Copying food_photos/lime/6a866a61-d46c-47e3-9416-63b23725bcea.jpeg to food_photos_processed/train/lime/6a866a61-d46c-47e3-9416-63b23725bcea.jpeg\n"
     ]
    },
    {
     "name": "stderr",
     "output_type": "stream",
     "text": [
      " 61%|██████▏   | 323/526 [00:00<00:00, 450.28it/s]"
     ]
    },
    {
     "name": "stdout",
     "output_type": "stream",
     "text": [
      "[INFO] Copying food_photos/garlic/7256a0f5-1016-4861-8417-fdc9c70ed26f.jpeg to food_photos_processed/train/garlic/7256a0f5-1016-4861-8417-fdc9c70ed26f.jpeg\n",
      "[INFO] Copying food_photos/carrot/45fe0224-1495-4e6c-a7ad-c0f07d5de413.jpeg to food_photos_processed/train/carrot/45fe0224-1495-4e6c-a7ad-c0f07d5de413.jpeg\n",
      "[INFO] Copying food_photos/orange_juice/dd38a045-3514-4f02-8e6a-79ac264cfc28.jpeg to food_photos_processed/train/orange_juice/dd38a045-3514-4f02-8e6a-79ac264cfc28.jpeg\n",
      "[INFO] Copying food_photos/plum/4d95274e-fc6a-467c-b776-0aac6179d978.jpeg to food_photos_processed/train/plum/4d95274e-fc6a-467c-b776-0aac6179d978.jpeg\n",
      "[INFO] Copying food_photos/broccoli/0acb65c0-32bf-4b4e-9cd5-7ed47b142a4c.jpeg to food_photos_processed/train/broccoli/0acb65c0-32bf-4b4e-9cd5-7ed47b142a4c.jpeg\n",
      "[INFO] Copying food_photos/broccoli/04f45a84-0063-4b88-bcf0-3240fcc169fe.jpeg to food_photos_processed/train/broccoli/04f45a84-0063-4b88-bcf0-3240fcc169fe.jpeg\n",
      "[INFO] Copying food_photos/carrot/31eb3ee2-5a84-41df-b4f6-42f6551292ab.jpeg to food_photos_processed/train/carrot/31eb3ee2-5a84-41df-b4f6-42f6551292ab.jpeg\n",
      "[INFO] Copying food_photos/carrot/d98801c9-bd3f-48ea-95f5-03cd0ef26f66.jpeg to food_photos_processed/train/carrot/d98801c9-bd3f-48ea-95f5-03cd0ef26f66.jpeg\n",
      "[INFO] Copying food_photos/ice_coffee/86f54aba-862b-4767-b47e-d8394aed3215.jpeg to food_photos_processed/train/ice_coffee/86f54aba-862b-4767-b47e-d8394aed3215.jpeg\n",
      "[INFO] Copying food_photos/watermelon/87a4cd85-9185-4b30-a73b-685e2f23733f.jpeg to food_photos_processed/train/watermelon/87a4cd85-9185-4b30-a73b-685e2f23733f.jpeg\n",
      "[INFO] Copying food_photos/garlic/4e106d4f-124a-4739-a5b9-72c1ce308765.jpeg to food_photos_processed/train/garlic/4e106d4f-124a-4739-a5b9-72c1ce308765.jpeg\n",
      "[INFO] Copying food_photos/carrot/e380664f-3186-4201-a2a9-1a309d7e279f.jpeg to food_photos_processed/train/carrot/e380664f-3186-4201-a2a9-1a309d7e279f.jpeg\n",
      "[INFO] Copying food_photos/carrot/2b4b077b-787b-4b99-8c9a-5cb84ca1eb97.jpeg to food_photos_processed/train/carrot/2b4b077b-787b-4b99-8c9a-5cb84ca1eb97.jpeg\n",
      "[INFO] Copying food_photos/garlic/59aeabe2-6570-415c-8aee-0ec95562b531.jpeg to food_photos_processed/train/garlic/59aeabe2-6570-415c-8aee-0ec95562b531.jpeg\n",
      "[INFO] Copying food_photos/watermelon/ff27350e-5c94-434c-aad1-fe3bd03a6be9.jpeg to food_photos_processed/train/watermelon/ff27350e-5c94-434c-aad1-fe3bd03a6be9.jpeg\n",
      "[INFO] Copying food_photos/ice_coffee/34fb9aae-1922-426f-b5d3-45538ce2c91f.jpeg to food_photos_processed/train/ice_coffee/34fb9aae-1922-426f-b5d3-45538ce2c91f.jpeg\n",
      "[INFO] Copying food_photos/carrot/924b8fa6-13b6-42d6-90d5-11858e3d31e5.jpeg to food_photos_processed/train/carrot/924b8fa6-13b6-42d6-90d5-11858e3d31e5.jpeg\n",
      "[INFO] Copying food_photos/avocado/e4f9b402-9c2c-4bb0-b23d-f2abd92dcd5b.jpeg to food_photos_processed/train/avocado/e4f9b402-9c2c-4bb0-b23d-f2abd92dcd5b.jpeg\n",
      "[INFO] Copying food_photos/broccoli/b8ee2668-13d7-4545-99be-130b47928aa4.jpeg to food_photos_processed/train/broccoli/b8ee2668-13d7-4545-99be-130b47928aa4.jpeg\n",
      "[INFO] Copying food_photos/carrot/2f08307e-5f01-4d0d-9c47-739cee6acafd.jpeg to food_photos_processed/train/carrot/2f08307e-5f01-4d0d-9c47-739cee6acafd.jpeg\n",
      "[INFO] Copying food_photos/ice_coffee/0455abea-bd9e-43ad-bddc-d14b8f2d81e2.jpeg to food_photos_processed/train/ice_coffee/0455abea-bd9e-43ad-bddc-d14b8f2d81e2.jpeg\n",
      "[INFO] Copying food_photos/carrot/43a58d7f-c4a9-4579-ac98-144b054f73e9.jpeg to food_photos_processed/train/carrot/43a58d7f-c4a9-4579-ac98-144b054f73e9.jpeg\n",
      "[INFO] Copying food_photos/avocado/ca23e222-37f1-41ce-87e6-fd617c5baa94.jpeg to food_photos_processed/train/avocado/ca23e222-37f1-41ce-87e6-fd617c5baa94.jpeg\n",
      "[INFO] Copying food_photos/nectarines/5c0a5977-80ea-4699-906f-231962f6447a.jpeg to food_photos_processed/train/nectarines/5c0a5977-80ea-4699-906f-231962f6447a.jpeg\n",
      "[INFO] Copying food_photos/carrot/48a47bd1-b381-440a-ac2d-3abeef3f6a56.jpeg to food_photos_processed/train/carrot/48a47bd1-b381-440a-ac2d-3abeef3f6a56.jpeg\n",
      "[INFO] Copying food_photos/eggs/fec6cb2a-993d-4ac5-96ee-0db2cfb967d5.jpeg to food_photos_processed/train/eggs/fec6cb2a-993d-4ac5-96ee-0db2cfb967d5.jpeg\n",
      "[INFO] Copying food_photos/broccoli/3a9259be-3725-41ed-9060-3f48a97b3eac.jpeg to food_photos_processed/train/broccoli/3a9259be-3725-41ed-9060-3f48a97b3eac.jpeg\n",
      "[INFO] Copying food_photos/carrot/ebbb0dde-7e85-4c25-87b4-360327a671d7.jpeg to food_photos_processed/train/carrot/ebbb0dde-7e85-4c25-87b4-360327a671d7.jpeg\n",
      "[INFO] Copying food_photos/avocado/d9858e2d-16be-40cd-90c4-8e52d68f004d.jpeg to food_photos_processed/train/avocado/d9858e2d-16be-40cd-90c4-8e52d68f004d.jpeg\n",
      "[INFO] Copying food_photos/ice_coffee/23ae42db-6c47-4a6e-8310-959feea553d1.jpeg to food_photos_processed/train/ice_coffee/23ae42db-6c47-4a6e-8310-959feea553d1.jpeg\n",
      "[INFO] Copying food_photos/carrot/b670ce67-ef1b-4028-98e3-1e2255f2431f.jpeg to food_photos_processed/train/carrot/b670ce67-ef1b-4028-98e3-1e2255f2431f.jpeg\n",
      "[INFO] Copying food_photos/garlic/97a577a9-2200-4478-a720-82fc8b0d7273.jpeg to food_photos_processed/train/garlic/97a577a9-2200-4478-a720-82fc8b0d7273.jpeg\n",
      "[INFO] Copying food_photos/peach/1db7ae2f-72ab-48a9-b04a-362f243e31c7.jpeg to food_photos_processed/train/peach/1db7ae2f-72ab-48a9-b04a-362f243e31c7.jpeg\n",
      "[INFO] Copying food_photos/carrot/e7f10cc8-0191-4e88-a1da-240f54dd7597.jpeg to food_photos_processed/train/carrot/e7f10cc8-0191-4e88-a1da-240f54dd7597.jpeg\n",
      "[INFO] Copying food_photos/broccoli/949f4b5a-d024-42b4-a153-291c0143da63.jpeg to food_photos_processed/train/broccoli/949f4b5a-d024-42b4-a153-291c0143da63.jpeg\n",
      "[INFO] Copying food_photos/avocado/38ef8718-3f44-4805-b3db-d8066e106201.jpeg to food_photos_processed/train/avocado/38ef8718-3f44-4805-b3db-d8066e106201.jpeg\n",
      "[INFO] Copying food_photos/broccoli/2b3080e6-9671-4f76-bab6-72bd256c698d.jpeg to food_photos_processed/train/broccoli/2b3080e6-9671-4f76-bab6-72bd256c698d.jpeg\n",
      "[INFO] Copying food_photos/garlic/2e7064c9-4d2b-437d-928d-3eeca24c39fc.jpeg to food_photos_processed/train/garlic/2e7064c9-4d2b-437d-928d-3eeca24c39fc.jpeg\n",
      "[INFO] Copying food_photos/broccoli/f2d02381-cdf3-4a37-821f-5a6e4e7b6a2b.jpeg to food_photos_processed/train/broccoli/f2d02381-cdf3-4a37-821f-5a6e4e7b6a2b.jpeg\n",
      "[INFO] Copying food_photos/avocado/db536941-5539-434e-96cc-2ca97b84eaca.jpeg to food_photos_processed/train/avocado/db536941-5539-434e-96cc-2ca97b84eaca.jpeg\n",
      "[INFO] Copying food_photos/broccoli/2b9a0b10-2e92-48e5-ad33-6cc3f7d87b8d.jpeg to food_photos_processed/train/broccoli/2b9a0b10-2e92-48e5-ad33-6cc3f7d87b8d.jpeg\n",
      "[INFO] Copying food_photos/carrot/08d55eea-959d-408c-afe5-2e300618b74a.jpeg to food_photos_processed/train/carrot/08d55eea-959d-408c-afe5-2e300618b74a.jpeg\n",
      "[INFO] Copying food_photos/broccoli/b0694e36-ce4c-4ffc-8661-b7bdb4ab502d.jpeg to food_photos_processed/train/broccoli/b0694e36-ce4c-4ffc-8661-b7bdb4ab502d.jpeg\n",
      "[INFO] Copying food_photos/carrot/4ea69ad9-71e0-421c-b790-f3cdd642d5e5.jpeg to food_photos_processed/train/carrot/4ea69ad9-71e0-421c-b790-f3cdd642d5e5.jpeg\n",
      "[INFO] Copying food_photos/lime/555540ab-37cb-4ff2-ab3f-774eb8951935.jpeg to food_photos_processed/train/lime/555540ab-37cb-4ff2-ab3f-774eb8951935.jpeg\n",
      "[INFO] Copying food_photos/broccoli/e95e4a5a-37df-492d-a5bb-72d009536a10.jpeg to food_photos_processed/train/broccoli/e95e4a5a-37df-492d-a5bb-72d009536a10.jpeg\n",
      "[INFO] Copying food_photos/broccoli/5b868e17-667e-438e-a8ec-8b6d9ded86bf.jpeg to food_photos_processed/train/broccoli/5b868e17-667e-438e-a8ec-8b6d9ded86bf.jpeg\n",
      "[INFO] Copying food_photos/broccoli/e98dcd7d-4c50-4228-abc1-69c91ec0ba28.jpeg to food_photos_processed/train/broccoli/e98dcd7d-4c50-4228-abc1-69c91ec0ba28.jpeg\n",
      "[INFO] Copying food_photos/avocado/341ed89e-ce37-4de2-93a7-66d846125d30.jpeg to food_photos_processed/train/avocado/341ed89e-ce37-4de2-93a7-66d846125d30.jpeg\n",
      "[INFO] Copying food_photos/broccoli/d44a18b1-3902-43a4-be42-184db1d147c9.jpeg to food_photos_processed/train/broccoli/d44a18b1-3902-43a4-be42-184db1d147c9.jpeg\n",
      "[INFO] Copying food_photos/carrot/155c896f-f458-4341-a770-9a3f1b0ea92c.jpeg to food_photos_processed/train/carrot/155c896f-f458-4341-a770-9a3f1b0ea92c.jpeg\n",
      "[INFO] Copying food_photos/avocado/647914a7-285d-427f-8e89-0ee17356fac0.jpeg to food_photos_processed/train/avocado/647914a7-285d-427f-8e89-0ee17356fac0.jpeg\n",
      "[INFO] Copying food_photos/peach/b8d0ed2b-f909-4c93-b3d7-e1829ca4fcf3.jpeg to food_photos_processed/train/peach/b8d0ed2b-f909-4c93-b3d7-e1829ca4fcf3.jpeg\n",
      "[INFO] Copying food_photos/nectarines/cb1adf01-e95f-4636-b5f5-09ab63effd54.jpeg to food_photos_processed/train/nectarines/cb1adf01-e95f-4636-b5f5-09ab63effd54.jpeg\n",
      "[INFO] Copying food_photos/lime/82ee2aa8-4a5c-4dfa-abcf-e24a879100e1.jpeg to food_photos_processed/train/lime/82ee2aa8-4a5c-4dfa-abcf-e24a879100e1.jpeg\n",
      "[INFO] Copying food_photos/watermelon/168e1bc2-96f6-4d50-a152-30e2f1199fd8.jpeg to food_photos_processed/train/watermelon/168e1bc2-96f6-4d50-a152-30e2f1199fd8.jpeg\n",
      "[INFO] Copying food_photos/avocado/766b63c0-fe62-474b-b316-6dc1e40ecfd2.jpeg to food_photos_processed/train/avocado/766b63c0-fe62-474b-b316-6dc1e40ecfd2.jpeg\n",
      "[INFO] Copying food_photos/peach/0e9ee994-4355-485a-b6ab-ca88955e2bf7.jpeg to food_photos_processed/train/peach/0e9ee994-4355-485a-b6ab-ca88955e2bf7.jpeg\n",
      "[INFO] Copying food_photos/garlic/65f20604-dd5b-4067-9844-41a5d0c8a335.jpeg to food_photos_processed/train/garlic/65f20604-dd5b-4067-9844-41a5d0c8a335.jpeg\n",
      "[INFO] Copying food_photos/lime/62958a75-b203-49f0-ab14-de2825a426b2.jpeg to food_photos_processed/train/lime/62958a75-b203-49f0-ab14-de2825a426b2.jpeg\n",
      "[INFO] Copying food_photos/watermelon/9daa4755-26ab-4c4f-9688-1fc84fee8f7e.jpeg to food_photos_processed/train/watermelon/9daa4755-26ab-4c4f-9688-1fc84fee8f7e.jpeg\n",
      "[INFO] Copying food_photos/broccoli/161e7357-04a9-431b-b3d4-e680a5321129.jpeg to food_photos_processed/train/broccoli/161e7357-04a9-431b-b3d4-e680a5321129.jpeg\n",
      "[INFO] Copying food_photos/broccoli/ca7e6cff-f188-4215-97dc-cd0fe0c8d685.jpeg to food_photos_processed/train/broccoli/ca7e6cff-f188-4215-97dc-cd0fe0c8d685.jpeg\n",
      "[INFO] Copying food_photos/garlic/c8b85209-6605-43cc-a0c5-00101f60451c.jpeg to food_photos_processed/train/garlic/c8b85209-6605-43cc-a0c5-00101f60451c.jpeg\n",
      "[INFO] Copying food_photos/peach/92cee889-cd88-4e09-b39a-dcfebc503458.jpeg to food_photos_processed/train/peach/92cee889-cd88-4e09-b39a-dcfebc503458.jpeg\n",
      "[INFO] Copying food_photos/broccoli/21be0907-0eef-4f08-8fb8-0987982deae4.jpeg to food_photos_processed/train/broccoli/21be0907-0eef-4f08-8fb8-0987982deae4.jpeg\n",
      "[INFO] Copying food_photos/eggs/4b3a62f4-2b9a-4266-93b0-3ee40ccc8ac2.jpeg to food_photos_processed/train/eggs/4b3a62f4-2b9a-4266-93b0-3ee40ccc8ac2.jpeg\n",
      "[INFO] Copying food_photos/carrot/3d58a59c-9dba-4250-8bda-faa0799a95fe.jpeg to food_photos_processed/train/carrot/3d58a59c-9dba-4250-8bda-faa0799a95fe.jpeg\n",
      "[INFO] Copying food_photos/carrot/2a5da898-16dd-4d91-a361-c193a5d1b729.jpeg to food_photos_processed/train/carrot/2a5da898-16dd-4d91-a361-c193a5d1b729.jpeg\n",
      "[INFO] Copying food_photos/watermelon/7edda28c-4ec1-45d0-aada-5296b7e5d337.jpeg to food_photos_processed/train/watermelon/7edda28c-4ec1-45d0-aada-5296b7e5d337.jpeg\n",
      "[INFO] Copying food_photos/orange_juice/9c9990a1-0469-4eaf-9139-34aef7b64ad3.jpeg to food_photos_processed/train/orange_juice/9c9990a1-0469-4eaf-9139-34aef7b64ad3.jpeg\n",
      "[INFO] Copying food_photos/garlic/d511bc23-9834-4ebb-abad-79cdf389504d.jpeg to food_photos_processed/train/garlic/d511bc23-9834-4ebb-abad-79cdf389504d.jpeg\n",
      "[INFO] Copying food_photos/lime/f812f129-078e-426e-b503-623ab57b5c8a.jpeg to food_photos_processed/train/lime/f812f129-078e-426e-b503-623ab57b5c8a.jpeg\n",
      "[INFO] Copying food_photos/lime/bc7a3594-6776-4ec6-9b29-0138dc14418b.jpeg to food_photos_processed/train/lime/bc7a3594-6776-4ec6-9b29-0138dc14418b.jpeg\n",
      "[INFO] Copying food_photos/avocado/1fd4f434-0a0a-44a8-bc81-280ae9710fcc.jpeg to food_photos_processed/train/avocado/1fd4f434-0a0a-44a8-bc81-280ae9710fcc.jpeg\n",
      "[INFO] Copying food_photos/eggs/a32bcdaa-d3dd-4900-aa9f-e73825035d5f.jpeg to food_photos_processed/train/eggs/a32bcdaa-d3dd-4900-aa9f-e73825035d5f.jpeg\n",
      "[INFO] Copying food_photos/plum/48586e4d-f1cb-4214-b0c3-eb5d50cda8f1.jpeg to food_photos_processed/train/plum/48586e4d-f1cb-4214-b0c3-eb5d50cda8f1.jpeg\n",
      "[INFO] Copying food_photos/broccoli/be182a28-cada-4a92-a192-aac5016930bf.jpeg to food_photos_processed/train/broccoli/be182a28-cada-4a92-a192-aac5016930bf.jpeg\n",
      "[INFO] Copying food_photos/carrot/bb23e2de-8402-4934-b099-00da385af106.jpeg to food_photos_processed/train/carrot/bb23e2de-8402-4934-b099-00da385af106.jpeg\n",
      "[INFO] Copying food_photos/lime/a7321cf3-28e4-4ef7-bbe0-7a8b545d4a09.jpeg to food_photos_processed/train/lime/a7321cf3-28e4-4ef7-bbe0-7a8b545d4a09.jpeg\n",
      "[INFO] Copying food_photos/broccoli/fdba0322-00ca-4b28-ab30-948f02e09e0a.jpeg to food_photos_processed/train/broccoli/fdba0322-00ca-4b28-ab30-948f02e09e0a.jpeg\n",
      "[INFO] Copying food_photos/carrot/e779812c-d936-4eba-b211-934c5a533810.jpeg to food_photos_processed/train/carrot/e779812c-d936-4eba-b211-934c5a533810.jpeg\n",
      "[INFO] Copying food_photos/carrot/7116cb06-4a4a-4936-a175-37d6b305126c.jpeg to food_photos_processed/train/carrot/7116cb06-4a4a-4936-a175-37d6b305126c.jpeg\n",
      "[INFO] Copying food_photos/lime/4dd64bab-346c-4cf0-9912-4bf9aea5c143.jpeg to food_photos_processed/train/lime/4dd64bab-346c-4cf0-9912-4bf9aea5c143.jpeg\n",
      "[INFO] Copying food_photos/lime/ab8a1365-427f-4701-92e7-45f9d94f1c01.jpeg to food_photos_processed/train/lime/ab8a1365-427f-4701-92e7-45f9d94f1c01.jpeg\n",
      "[INFO] Copying food_photos/broccoli/cbd0e0c3-6604-4c66-9670-c942be8746eb.jpeg to food_photos_processed/train/broccoli/cbd0e0c3-6604-4c66-9670-c942be8746eb.jpeg\n",
      "[INFO] Copying food_photos/avocado/698770c3-65a7-4ce4-a551-010934a3b545.jpeg to food_photos_processed/train/avocado/698770c3-65a7-4ce4-a551-010934a3b545.jpeg\n",
      "[INFO] Copying food_photos/peach/32e23c19-132c-43ac-9bc1-ab3ddb1b234b.jpeg to food_photos_processed/train/peach/32e23c19-132c-43ac-9bc1-ab3ddb1b234b.jpeg\n",
      "[INFO] Copying food_photos/lime/010fb800-c0c8-4fb0-94ab-f7939b69075d.jpeg to food_photos_processed/train/lime/010fb800-c0c8-4fb0-94ab-f7939b69075d.jpeg\n"
     ]
    },
    {
     "name": "stderr",
     "output_type": "stream",
     "text": [
      " 79%|███████▊  | 414/526 [00:00<00:00, 443.80it/s]"
     ]
    },
    {
     "name": "stdout",
     "output_type": "stream",
     "text": [
      "[INFO] Copying food_photos/broccoli/b860f938-9c0e-4b3f-8e6e-ed47fb61a917.jpeg to food_photos_processed/train/broccoli/b860f938-9c0e-4b3f-8e6e-ed47fb61a917.jpeg\n",
      "[INFO] Copying food_photos/carrot/dfbfcaa4-1871-4349-b3fb-fd033f8f22c9.jpeg to food_photos_processed/train/carrot/dfbfcaa4-1871-4349-b3fb-fd033f8f22c9.jpeg\n",
      "[INFO] Copying food_photos/garlic/b43a7239-2391-4a09-8128-4eaac7001e57.jpeg to food_photos_processed/train/garlic/b43a7239-2391-4a09-8128-4eaac7001e57.jpeg\n",
      "[INFO] Copying food_photos/carrot/bda6dae0-cb95-408b-9b60-eccee6dae23a.jpeg to food_photos_processed/train/carrot/bda6dae0-cb95-408b-9b60-eccee6dae23a.jpeg\n",
      "[INFO] Copying food_photos/lime/9617f00d-bd5f-4f54-86a6-280714c19225.jpeg to food_photos_processed/train/lime/9617f00d-bd5f-4f54-86a6-280714c19225.jpeg\n",
      "[INFO] Copying food_photos/garlic/52cabee7-d2c3-46fc-bb7a-72acd5a5c67c.jpeg to food_photos_processed/train/garlic/52cabee7-d2c3-46fc-bb7a-72acd5a5c67c.jpeg\n",
      "[INFO] Copying food_photos/peach/73083846-9538-4802-9896-774a4d8ecb47.jpeg to food_photos_processed/train/peach/73083846-9538-4802-9896-774a4d8ecb47.jpeg\n",
      "[INFO] Copying food_photos/lime/e871d91f-c46e-40ae-8eb2-c1c17da7d1c7.jpeg to food_photos_processed/train/lime/e871d91f-c46e-40ae-8eb2-c1c17da7d1c7.jpeg\n",
      "[INFO] Copying food_photos/broccoli/a4decab8-36df-43da-9f5e-1e9d87d6442e.jpeg to food_photos_processed/train/broccoli/a4decab8-36df-43da-9f5e-1e9d87d6442e.jpeg\n",
      "[INFO] Copying food_photos/garlic/377d2fec-2475-4a34-b63e-9f87a2488f7e.jpeg to food_photos_processed/train/garlic/377d2fec-2475-4a34-b63e-9f87a2488f7e.jpeg\n",
      "[INFO] Copying food_photos/garlic/3dffde75-1675-4955-800b-8d31e53acf09.jpeg to food_photos_processed/train/garlic/3dffde75-1675-4955-800b-8d31e53acf09.jpeg\n",
      "[INFO] Copying food_photos/carrot/f2741f62-f99d-4e16-b0b5-58bd1bdf06f1.jpeg to food_photos_processed/train/carrot/f2741f62-f99d-4e16-b0b5-58bd1bdf06f1.jpeg\n",
      "[INFO] Copying food_photos/garlic/e000061a-570d-47ed-bb04-e930254567a0.jpeg to food_photos_processed/train/garlic/e000061a-570d-47ed-bb04-e930254567a0.jpeg\n",
      "[INFO] Copying food_photos/lime/3b9c7e3e-aae3-4f30-82cd-c47a5f9cf52e.jpeg to food_photos_processed/train/lime/3b9c7e3e-aae3-4f30-82cd-c47a5f9cf52e.jpeg\n",
      "[INFO] Copying food_photos/plum/dd887974-8d74-435b-bd4e-bab8c793c68f.jpeg to food_photos_processed/train/plum/dd887974-8d74-435b-bd4e-bab8c793c68f.jpeg\n",
      "[INFO] Copying food_photos/broccoli/4631b3e1-a6fb-47d4-b766-ddea8418c6fc.jpeg to food_photos_processed/train/broccoli/4631b3e1-a6fb-47d4-b766-ddea8418c6fc.jpeg\n",
      "[INFO] Copying food_photos/nectarines/ce51c561-3127-40b2-b057-ab37a9012e44.jpeg to food_photos_processed/train/nectarines/ce51c561-3127-40b2-b057-ab37a9012e44.jpeg\n",
      "[INFO] Copying food_photos/ice_coffee/6f5de65f-2769-4c4d-96c5-3db012b80bf8.jpeg to food_photos_processed/train/ice_coffee/6f5de65f-2769-4c4d-96c5-3db012b80bf8.jpeg\n",
      "[INFO] Copying food_photos/ice_coffee/e691a85c-589d-4a39-b632-09e1ec6bae9f.jpeg to food_photos_processed/train/ice_coffee/e691a85c-589d-4a39-b632-09e1ec6bae9f.jpeg\n",
      "[INFO] Copying food_photos/watermelon/7d620b22-476b-44b4-8267-2287aac885cc.jpeg to food_photos_processed/train/watermelon/7d620b22-476b-44b4-8267-2287aac885cc.jpeg\n",
      "[INFO] Copying food_photos/garlic/4b20900d-f616-466b-92a4-945887657112.jpeg to food_photos_processed/train/garlic/4b20900d-f616-466b-92a4-945887657112.jpeg\n",
      "[INFO] Copying food_photos/plum/71cb3b6f-2f27-4ca7-9d8f-cbc423b98c55.jpeg to food_photos_processed/train/plum/71cb3b6f-2f27-4ca7-9d8f-cbc423b98c55.jpeg\n",
      "[INFO] Copying food_photos/carrot/8b454236-1389-419a-b6e5-14feaaed9e13.jpeg to food_photos_processed/train/carrot/8b454236-1389-419a-b6e5-14feaaed9e13.jpeg\n",
      "[INFO] Copying food_photos/watermelon/7ab14c96-52d2-491d-a750-abc0c2719a17.jpeg to food_photos_processed/train/watermelon/7ab14c96-52d2-491d-a750-abc0c2719a17.jpeg\n",
      "[INFO] Copying food_photos/garlic/dc9d34f5-c0fd-430c-bf32-e54cdd4efb74.jpeg to food_photos_processed/train/garlic/dc9d34f5-c0fd-430c-bf32-e54cdd4efb74.jpeg\n",
      "[INFO] Copying food_photos/broccoli/52d95ef4-e8fb-4dff-b330-8053abb57397.jpeg to food_photos_processed/train/broccoli/52d95ef4-e8fb-4dff-b330-8053abb57397.jpeg\n",
      "[INFO] Copying food_photos/peach/855c9aa2-0302-4c72-94e3-c7734bb993a7.jpeg to food_photos_processed/train/peach/855c9aa2-0302-4c72-94e3-c7734bb993a7.jpeg\n",
      "[INFO] Copying food_photos/ice_coffee/ed7a394c-d1cd-4947-b6b8-868fb446e216.jpeg to food_photos_processed/train/ice_coffee/ed7a394c-d1cd-4947-b6b8-868fb446e216.jpeg\n",
      "[INFO] Copying food_photos/carrot/cd2ea854-5227-486c-b27a-bdb3349b3ce5.jpeg to food_photos_processed/train/carrot/cd2ea854-5227-486c-b27a-bdb3349b3ce5.jpeg\n",
      "[INFO] Copying food_photos/avocado/1288a8be-f34a-4b57-846f-96bef3ba9b86.jpeg to food_photos_processed/train/avocado/1288a8be-f34a-4b57-846f-96bef3ba9b86.jpeg\n",
      "[INFO] Copying food_photos/broccoli/160421da-b771-4f67-bcbf-bfaa419b97e8.jpeg to food_photos_processed/train/broccoli/160421da-b771-4f67-bcbf-bfaa419b97e8.jpeg\n",
      "[INFO] Copying food_photos/watermelon/6cb32566-1297-49c5-98cd-ff91bccc2dd9.jpeg to food_photos_processed/train/watermelon/6cb32566-1297-49c5-98cd-ff91bccc2dd9.jpeg\n",
      "[INFO] Copying food_photos/avocado/8d8e6204-3986-40de-96fe-469859871812.jpeg to food_photos_processed/train/avocado/8d8e6204-3986-40de-96fe-469859871812.jpeg\n",
      "[INFO] Copying food_photos/broccoli/bcb3887c-ccdb-4ab2-b7e8-b0bc24f433f5.jpeg to food_photos_processed/train/broccoli/bcb3887c-ccdb-4ab2-b7e8-b0bc24f433f5.jpeg\n",
      "[INFO] Copying food_photos/avocado/bd80fc8c-5232-4f7d-8424-62202831bde2.jpeg to food_photos_processed/train/avocado/bd80fc8c-5232-4f7d-8424-62202831bde2.jpeg\n",
      "[INFO] Copying food_photos/lime/a9e80421-efdf-4949-82b2-240722acac59.jpeg to food_photos_processed/train/lime/a9e80421-efdf-4949-82b2-240722acac59.jpeg\n",
      "[INFO] Copying food_photos/peach/39d58ec9-10a1-4a6f-aebd-edf8e5f7c575.jpeg to food_photos_processed/train/peach/39d58ec9-10a1-4a6f-aebd-edf8e5f7c575.jpeg\n",
      "[INFO] Copying food_photos/ice_coffee/3a5da813-83cf-454c-a7f3-2428ddac7bcd.jpeg to food_photos_processed/train/ice_coffee/3a5da813-83cf-454c-a7f3-2428ddac7bcd.jpeg\n",
      "[INFO] Copying food_photos/lime/e1a1becc-102e-4496-9a2f-78a977b5d32d.jpeg to food_photos_processed/train/lime/e1a1becc-102e-4496-9a2f-78a977b5d32d.jpeg\n",
      "[INFO] Copying food_photos/watermelon/35ac6510-568a-409d-b0da-9f847efbeada.jpeg to food_photos_processed/train/watermelon/35ac6510-568a-409d-b0da-9f847efbeada.jpeg\n",
      "[INFO] Copying food_photos/lime/1006c747-d42a-4755-bdb0-8867314a87f3.jpeg to food_photos_processed/train/lime/1006c747-d42a-4755-bdb0-8867314a87f3.jpeg\n",
      "[INFO] Copying food_photos/garlic/e31a090c-227a-42ca-9e07-48fd769e36c3.jpeg to food_photos_processed/train/garlic/e31a090c-227a-42ca-9e07-48fd769e36c3.jpeg\n",
      "[INFO] Copying food_photos/ice_coffee/cbbd80b6-a0ce-40f6-bde1-9b982d5cb6d7.jpeg to food_photos_processed/train/ice_coffee/cbbd80b6-a0ce-40f6-bde1-9b982d5cb6d7.jpeg\n",
      "[INFO] Copying food_photos/garlic/acdb9c13-05f7-40bc-8874-d443385aa11f.jpeg to food_photos_processed/train/garlic/acdb9c13-05f7-40bc-8874-d443385aa11f.jpeg\n",
      "[INFO] Copying food_photos/lime/fc4e1051-e559-4fa1-ab9a-8f739efbc6d9.jpeg to food_photos_processed/train/lime/fc4e1051-e559-4fa1-ab9a-8f739efbc6d9.jpeg\n",
      "[INFO] Copying food_photos/garlic/da78caa8-535b-4c5e-b07e-0234d9a4de6e.jpeg to food_photos_processed/train/garlic/da78caa8-535b-4c5e-b07e-0234d9a4de6e.jpeg\n",
      "[INFO] Copying food_photos/nectarines/5f7b6a71-30e3-44e0-9e32-104b07756010.jpeg to food_photos_processed/train/nectarines/5f7b6a71-30e3-44e0-9e32-104b07756010.jpeg\n",
      "[INFO] Copying food_photos/garlic/8b685024-880b-4872-8fc4-3659dac7aa26.jpeg to food_photos_processed/train/garlic/8b685024-880b-4872-8fc4-3659dac7aa26.jpeg\n",
      "[INFO] Copying food_photos/lime/365f30c7-06a6-4e36-9cc5-0c5eba41005c.jpeg to food_photos_processed/train/lime/365f30c7-06a6-4e36-9cc5-0c5eba41005c.jpeg\n",
      "[INFO] Copying food_photos/carrot/dee0773b-3ccc-49db-9fc2-7e9c6c63c42c.jpeg to food_photos_processed/train/carrot/dee0773b-3ccc-49db-9fc2-7e9c6c63c42c.jpeg\n",
      "[INFO] Copying food_photos/lime/766a3708-5e44-40af-8957-1843a8cea76d.jpeg to food_photos_processed/train/lime/766a3708-5e44-40af-8957-1843a8cea76d.jpeg\n",
      "[INFO] Copying food_photos/broccoli/587f1b2c-f426-45c0-bd8b-59d31fe7d28b.jpeg to food_photos_processed/train/broccoli/587f1b2c-f426-45c0-bd8b-59d31fe7d28b.jpeg\n",
      "[INFO] Copying food_photos/avocado/7dcdd160-77d7-4366-9ac8-eec70cc91734.jpeg to food_photos_processed/train/avocado/7dcdd160-77d7-4366-9ac8-eec70cc91734.jpeg\n",
      "[INFO] Copying food_photos/broccoli/f74b85fb-dff6-4ab9-a3ff-1a5f4eaada2b.jpeg to food_photos_processed/train/broccoli/f74b85fb-dff6-4ab9-a3ff-1a5f4eaada2b.jpeg\n",
      "[INFO] Copying food_photos/broccoli/d3f566cb-868d-4713-bb11-7ebe9fd41fce.jpeg to food_photos_processed/train/broccoli/d3f566cb-868d-4713-bb11-7ebe9fd41fce.jpeg\n",
      "[INFO] Copying food_photos/watermelon/f0c0b20d-4820-4e44-97ae-91262ba60ae1.jpeg to food_photos_processed/train/watermelon/f0c0b20d-4820-4e44-97ae-91262ba60ae1.jpeg\n",
      "[INFO] Copying food_photos/plum/ee9b0a6b-ac0f-48dc-9e6f-b62a3cdb6356.jpeg to food_photos_processed/train/plum/ee9b0a6b-ac0f-48dc-9e6f-b62a3cdb6356.jpeg\n",
      "[INFO] Copying food_photos/carrot/4cdb84c7-ee69-46f8-b042-ef3c93d70708.jpeg to food_photos_processed/train/carrot/4cdb84c7-ee69-46f8-b042-ef3c93d70708.jpeg\n",
      "[INFO] Copying food_photos/carrot/446fadb3-8a4f-426a-9e38-8b2c93eecd7a.jpeg to food_photos_processed/train/carrot/446fadb3-8a4f-426a-9e38-8b2c93eecd7a.jpeg\n",
      "[INFO] Copying food_photos/carrot/58bc7a5a-8d02-498a-89a1-cce3e0c0a76b.jpeg to food_photos_processed/train/carrot/58bc7a5a-8d02-498a-89a1-cce3e0c0a76b.jpeg\n",
      "[INFO] Copying food_photos/ice_coffee/cce2347f-5ded-472e-b059-185cbe99025f.jpeg to food_photos_processed/train/ice_coffee/cce2347f-5ded-472e-b059-185cbe99025f.jpeg\n",
      "[INFO] Copying food_photos/carrot/f84425ae-b655-49c1-a367-87c22d0a6ce5.jpeg to food_photos_processed/train/carrot/f84425ae-b655-49c1-a367-87c22d0a6ce5.jpeg\n",
      "[INFO] Copying food_photos/ice_coffee/06076a6f-4921-45d7-81c7-ab80001c8126.jpeg to food_photos_processed/train/ice_coffee/06076a6f-4921-45d7-81c7-ab80001c8126.jpeg\n",
      "[INFO] Copying food_photos/carrot/13cb7f79-4188-48d4-a5cb-35f2e5d2d3b4.jpeg to food_photos_processed/train/carrot/13cb7f79-4188-48d4-a5cb-35f2e5d2d3b4.jpeg\n",
      "[INFO] Copying food_photos/broccoli/ac1ec9d8-2b37-4218-acca-71bb1be68668.jpeg to food_photos_processed/train/broccoli/ac1ec9d8-2b37-4218-acca-71bb1be68668.jpeg\n",
      "[INFO] Copying food_photos/nectarines/6012d7a3-32a9-4073-899e-a1b4f8886209.jpeg to food_photos_processed/train/nectarines/6012d7a3-32a9-4073-899e-a1b4f8886209.jpeg\n",
      "[INFO] Copying food_photos/watermelon/5f2f04f7-5d58-43b1-bdae-7e3589912730.jpeg to food_photos_processed/train/watermelon/5f2f04f7-5d58-43b1-bdae-7e3589912730.jpeg\n",
      "[INFO] Copying food_photos/broccoli/fcf16d3d-ce1e-43c5-b4bf-4d6640ea74b0.jpeg to food_photos_processed/train/broccoli/fcf16d3d-ce1e-43c5-b4bf-4d6640ea74b0.jpeg\n",
      "[INFO] Copying food_photos/lime/3708da94-3c04-4942-8677-a737cdae4bcb.jpeg to food_photos_processed/train/lime/3708da94-3c04-4942-8677-a737cdae4bcb.jpeg\n",
      "[INFO] Copying food_photos/eggs/b3e5e355-7a6b-4780-9738-2255371d3275.jpeg to food_photos_processed/train/eggs/b3e5e355-7a6b-4780-9738-2255371d3275.jpeg\n",
      "[INFO] Copying food_photos/carrot/1ecdbd5b-0fb2-4a15-a8ff-8e93e2ebdfa8.jpeg to food_photos_processed/train/carrot/1ecdbd5b-0fb2-4a15-a8ff-8e93e2ebdfa8.jpeg\n",
      "[INFO] Copying food_photos/avocado/259b4160-0fea-4388-a26f-edcb24a78da4.jpeg to food_photos_processed/train/avocado/259b4160-0fea-4388-a26f-edcb24a78da4.jpeg\n",
      "[INFO] Copying food_photos/plum/9f6748a0-a2ba-4c95-96bd-5adbb670cf8f.jpeg to food_photos_processed/train/plum/9f6748a0-a2ba-4c95-96bd-5adbb670cf8f.jpeg\n",
      "[INFO] Copying food_photos/ice_coffee/7adbe752-5791-42a9-9c50-a995a2f92e84.jpeg to food_photos_processed/train/ice_coffee/7adbe752-5791-42a9-9c50-a995a2f92e84.jpeg\n",
      "[INFO] Copying food_photos/orange_juice/399cf4fe-94bc-4365-8507-ecdfcb18e4d4.jpeg to food_photos_processed/train/orange_juice/399cf4fe-94bc-4365-8507-ecdfcb18e4d4.jpeg\n",
      "[INFO] Copying food_photos/lime/cb869a5d-a2cc-4ed6-a056-9a4038c2f475.jpeg to food_photos_processed/train/lime/cb869a5d-a2cc-4ed6-a056-9a4038c2f475.jpeg\n",
      "[INFO] Copying food_photos/broccoli/b51ae810-2d27-4d48-8f7e-2f5868302e57.jpeg to food_photos_processed/train/broccoli/b51ae810-2d27-4d48-8f7e-2f5868302e57.jpeg\n",
      "[INFO] Copying food_photos/avocado/6ae7d23c-1c11-4e19-bb5f-f8c7580c9c3c.jpeg to food_photos_processed/train/avocado/6ae7d23c-1c11-4e19-bb5f-f8c7580c9c3c.jpeg\n",
      "[INFO] Copying food_photos/avocado/3c766b19-ba01-425d-8194-c7b3d0da7eff.jpeg to food_photos_processed/train/avocado/3c766b19-ba01-425d-8194-c7b3d0da7eff.jpeg\n",
      "[INFO] Copying food_photos/broccoli/b8b8afcc-c14c-4da1-a1df-e1669716fdf9.jpeg to food_photos_processed/train/broccoli/b8b8afcc-c14c-4da1-a1df-e1669716fdf9.jpeg\n",
      "[INFO] Copying food_photos/garlic/f798d9d8-f137-4294-b2e0-6b9cb0b121ba.jpeg to food_photos_processed/train/garlic/f798d9d8-f137-4294-b2e0-6b9cb0b121ba.jpeg\n",
      "[INFO] Copying food_photos/peach/67a676d9-ae84-4c29-93f0-aee36460128e.jpeg to food_photos_processed/train/peach/67a676d9-ae84-4c29-93f0-aee36460128e.jpeg\n",
      "[INFO] Copying food_photos/watermelon/d32930d6-0930-4c22-9876-78f9d0bfc002.jpeg to food_photos_processed/train/watermelon/d32930d6-0930-4c22-9876-78f9d0bfc002.jpeg\n",
      "[INFO] Copying food_photos/plum/a92f13ea-01a2-4492-99d2-beae187d313d.jpeg to food_photos_processed/train/plum/a92f13ea-01a2-4492-99d2-beae187d313d.jpeg\n",
      "[INFO] Copying food_photos/lime/f661ed97-4bca-4d6b-968c-e110fc0d807b.jpeg to food_photos_processed/train/lime/f661ed97-4bca-4d6b-968c-e110fc0d807b.jpeg\n",
      "[INFO] Copying food_photos/watermelon/b2d4dd2d-f87f-4c09-bd58-5c343dd3955e.jpeg to food_photos_processed/train/watermelon/b2d4dd2d-f87f-4c09-bd58-5c343dd3955e.jpeg\n",
      "[INFO] Copying food_photos/lime/e6e175de-f565-4df2-bb48-c9e2e420eb75.jpeg to food_photos_processed/train/lime/e6e175de-f565-4df2-bb48-c9e2e420eb75.jpeg\n",
      "[INFO] Copying food_photos/lime/ac2aade6-a42c-4c88-a176-95b7fac99571.jpeg to food_photos_processed/train/lime/ac2aade6-a42c-4c88-a176-95b7fac99571.jpeg\n",
      "[INFO] Copying food_photos/carrot/ed06e9f6-5a94-430b-a9f5-1d43b0d585f8.jpeg to food_photos_processed/train/carrot/ed06e9f6-5a94-430b-a9f5-1d43b0d585f8.jpeg\n",
      "[INFO] Copying food_photos/broccoli/e467183d-d471-442b-bd2e-852aeceba02a.jpeg to food_photos_processed/train/broccoli/e467183d-d471-442b-bd2e-852aeceba02a.jpeg\n"
     ]
    },
    {
     "name": "stderr",
     "output_type": "stream",
     "text": [
      "100%|██████████| 526/526 [00:01<00:00, 441.64it/s]"
     ]
    },
    {
     "name": "stdout",
     "output_type": "stream",
     "text": [
      "[INFO] Copying food_photos/carrot/2a854682-c428-46b1-bc3d-edbcc990cd63.jpeg to food_photos_processed/train/carrot/2a854682-c428-46b1-bc3d-edbcc990cd63.jpeg\n",
      "[INFO] Copying food_photos/carrot/2410e6ac-6502-47ad-a90c-9992bca46f91.jpeg to food_photos_processed/train/carrot/2410e6ac-6502-47ad-a90c-9992bca46f91.jpeg\n",
      "[INFO] Copying food_photos/garlic/533201ef-7a7c-498e-84f0-f42e2946bac2.jpeg to food_photos_processed/train/garlic/533201ef-7a7c-498e-84f0-f42e2946bac2.jpeg\n",
      "[INFO] Copying food_photos/broccoli/ebf94a25-d227-47a6-8bd0-fa963d39b460.jpeg to food_photos_processed/train/broccoli/ebf94a25-d227-47a6-8bd0-fa963d39b460.jpeg\n",
      "[INFO] Copying food_photos/lime/29d4ceaa-64ca-4ba9-9c44-f291094adea3.jpeg to food_photos_processed/train/lime/29d4ceaa-64ca-4ba9-9c44-f291094adea3.jpeg\n",
      "[INFO] Copying food_photos/garlic/bea08d70-c11e-4648-8f85-0c26ba2b275b.jpeg to food_photos_processed/train/garlic/bea08d70-c11e-4648-8f85-0c26ba2b275b.jpeg\n",
      "[INFO] Copying food_photos/lime/3a844083-2f34-4786-a19f-ed4fdf487079.jpeg to food_photos_processed/train/lime/3a844083-2f34-4786-a19f-ed4fdf487079.jpeg\n",
      "[INFO] Copying food_photos/carrot/73f37b9a-903b-42f6-a8d9-ca4ab23882b9.jpeg to food_photos_processed/train/carrot/73f37b9a-903b-42f6-a8d9-ca4ab23882b9.jpeg\n",
      "[INFO] Copying food_photos/broccoli/d0cdb2c9-20b5-493b-8874-1a47f97d05d0.jpeg to food_photos_processed/train/broccoli/d0cdb2c9-20b5-493b-8874-1a47f97d05d0.jpeg\n",
      "[INFO] Copying food_photos/plum/a012a69c-8b8c-42d6-ba60-f37a383d4758.jpeg to food_photos_processed/train/plum/a012a69c-8b8c-42d6-ba60-f37a383d4758.jpeg\n",
      "[INFO] Copying food_photos/plum/6488542d-d068-4230-9baf-f8433130b6d6.jpeg to food_photos_processed/train/plum/6488542d-d068-4230-9baf-f8433130b6d6.jpeg\n",
      "[INFO] Copying food_photos/garlic/1c44fb07-8f27-406a-9a2f-dbdf23866aed.jpeg to food_photos_processed/train/garlic/1c44fb07-8f27-406a-9a2f-dbdf23866aed.jpeg\n",
      "[INFO] Copying food_photos/watermelon/92a7e03b-bd6f-4658-aa60-498b003a5fa0.jpeg to food_photos_processed/train/watermelon/92a7e03b-bd6f-4658-aa60-498b003a5fa0.jpeg\n",
      "[INFO] Copying food_photos/broccoli/3b81f150-4ee3-4472-ae18-08545a87e012.jpeg to food_photos_processed/train/broccoli/3b81f150-4ee3-4472-ae18-08545a87e012.jpeg\n",
      "[INFO] Copying food_photos/lime/63c85739-6734-4121-8ee9-ae4e61cd4ebd.jpeg to food_photos_processed/train/lime/63c85739-6734-4121-8ee9-ae4e61cd4ebd.jpeg\n",
      "[INFO] Copying food_photos/ice_coffee/1674d062-1436-4f49-8c7e-2e171f1578b7.jpeg to food_photos_processed/train/ice_coffee/1674d062-1436-4f49-8c7e-2e171f1578b7.jpeg\n",
      "[INFO] Copying food_photos/avocado/4c72edfa-713c-432b-bd29-98f77e309d24.jpeg to food_photos_processed/train/avocado/4c72edfa-713c-432b-bd29-98f77e309d24.jpeg\n",
      "[INFO] Copying food_photos/garlic/64b304c2-cc2e-4a43-b4e5-726c59ac3df1.jpeg to food_photos_processed/train/garlic/64b304c2-cc2e-4a43-b4e5-726c59ac3df1.jpeg\n",
      "[INFO] Copying food_photos/avocado/554e2764-fdf5-4ad8-8995-b6fd418fb041.jpeg to food_photos_processed/train/avocado/554e2764-fdf5-4ad8-8995-b6fd418fb041.jpeg\n",
      "[INFO] Copying food_photos/broccoli/2a123147-b1e7-440d-a319-7b69c881b0e7.jpeg to food_photos_processed/train/broccoli/2a123147-b1e7-440d-a319-7b69c881b0e7.jpeg\n",
      "[INFO] Copying food_photos/lime/6ebd8236-0f13-4b9e-9394-7d9c769e4813.jpeg to food_photos_processed/train/lime/6ebd8236-0f13-4b9e-9394-7d9c769e4813.jpeg\n",
      "[INFO] Copying food_photos/avocado/8d342c74-31ec-4756-8ea7-7b6a48834d9c.jpeg to food_photos_processed/train/avocado/8d342c74-31ec-4756-8ea7-7b6a48834d9c.jpeg\n",
      "[INFO] Copying food_photos/avocado/2a1cb9c9-be5f-457c-bb78-1bdee126efae.jpeg to food_photos_processed/train/avocado/2a1cb9c9-be5f-457c-bb78-1bdee126efae.jpeg\n",
      "[INFO] Copying food_photos/nectarines/8933b6e0-24f4-40c4-969a-53c14065a3fd.jpeg to food_photos_processed/train/nectarines/8933b6e0-24f4-40c4-969a-53c14065a3fd.jpeg\n",
      "[INFO] Copying food_photos/peach/e1469fa2-9d78-4a2b-9527-35c3016c0326.jpeg to food_photos_processed/train/peach/e1469fa2-9d78-4a2b-9527-35c3016c0326.jpeg\n",
      "[INFO] Copying food_photos/broccoli/b2f1f921-3fee-4ef3-9972-5aa74d75ed66.jpeg to food_photos_processed/train/broccoli/b2f1f921-3fee-4ef3-9972-5aa74d75ed66.jpeg\n",
      "[INFO] Copying food_photos/carrot/68105e61-e05f-44bc-90e4-c4f6edbe1ebd.jpeg to food_photos_processed/train/carrot/68105e61-e05f-44bc-90e4-c4f6edbe1ebd.jpeg\n",
      "[INFO] Copying food_photos/watermelon/76411671-627b-415c-abe0-141ad0019dae.jpeg to food_photos_processed/train/watermelon/76411671-627b-415c-abe0-141ad0019dae.jpeg\n",
      "[INFO] Copying food_photos/lime/31798d69-e124-4815-aae3-27cce9fd26f4.jpeg to food_photos_processed/train/lime/31798d69-e124-4815-aae3-27cce9fd26f4.jpeg\n",
      "[INFO] Copying food_photos/avocado/d29257b4-d46b-4c72-8a42-fb077a7f555e.jpeg to food_photos_processed/train/avocado/d29257b4-d46b-4c72-8a42-fb077a7f555e.jpeg\n",
      "[INFO] Copying food_photos/peach/34a0f7d7-6520-405d-a05e-c22a0e4916b1.jpeg to food_photos_processed/train/peach/34a0f7d7-6520-405d-a05e-c22a0e4916b1.jpeg\n",
      "[INFO] Copying food_photos/ice_coffee/d11ec030-a4af-45e6-95ff-cc503347cc7d.jpeg to food_photos_processed/train/ice_coffee/d11ec030-a4af-45e6-95ff-cc503347cc7d.jpeg\n",
      "[INFO] Copying food_photos/carrot/25c07333-066e-43da-95dc-6cb2df819a06.jpeg to food_photos_processed/train/carrot/25c07333-066e-43da-95dc-6cb2df819a06.jpeg\n",
      "[INFO] Copying food_photos/broccoli/ac28bb74-6f98-45c9-a1fd-1dc8ec60e14f.jpeg to food_photos_processed/train/broccoli/ac28bb74-6f98-45c9-a1fd-1dc8ec60e14f.jpeg\n",
      "[INFO] Copying food_photos/avocado/fa24bdae-4a7b-4dcc-9d34-b4cf6551f9fb.jpeg to food_photos_processed/train/avocado/fa24bdae-4a7b-4dcc-9d34-b4cf6551f9fb.jpeg\n",
      "[INFO] Copying food_photos/garlic/e4dd4193-68e3-40ad-9fca-ff1de767c7c3.jpeg to food_photos_processed/train/garlic/e4dd4193-68e3-40ad-9fca-ff1de767c7c3.jpeg\n",
      "[INFO] Copying food_photos/broccoli/7bcb8970-195a-44a1-a269-e078fcbc2cdd.jpeg to food_photos_processed/train/broccoli/7bcb8970-195a-44a1-a269-e078fcbc2cdd.jpeg\n",
      "[INFO] Copying food_photos/eggs/3791e39d-45cd-45d3-9383-6c7d86dcb6ee.jpeg to food_photos_processed/train/eggs/3791e39d-45cd-45d3-9383-6c7d86dcb6ee.jpeg\n",
      "[INFO] Copying food_photos/plum/ae45d296-8fed-4d28-beee-4198c720a651.jpeg to food_photos_processed/train/plum/ae45d296-8fed-4d28-beee-4198c720a651.jpeg\n",
      "[INFO] Copying food_photos/plum/7af4735b-ac91-424c-a60c-d4df52e17912.jpeg to food_photos_processed/train/plum/7af4735b-ac91-424c-a60c-d4df52e17912.jpeg\n",
      "[INFO] Copying food_photos/broccoli/5bc3c516-50b6-4c64-93bc-68aef28b8f8e.jpeg to food_photos_processed/train/broccoli/5bc3c516-50b6-4c64-93bc-68aef28b8f8e.jpeg\n",
      "[INFO] Copying food_photos/broccoli/512fce1a-eed2-4932-83a4-8243458557a8.jpeg to food_photos_processed/train/broccoli/512fce1a-eed2-4932-83a4-8243458557a8.jpeg\n",
      "[INFO] Copying food_photos/peach/d2f1e72d-5fd9-4a31-9ae4-ae815c9a6dc6.jpeg to food_photos_processed/train/peach/d2f1e72d-5fd9-4a31-9ae4-ae815c9a6dc6.jpeg\n",
      "[INFO] Copying food_photos/avocado/44b87eb1-8cfa-4963-a3c8-272767a32087.jpeg to food_photos_processed/train/avocado/44b87eb1-8cfa-4963-a3c8-272767a32087.jpeg\n",
      "[INFO] Copying food_photos/carrot/cd4ff8e9-6f14-4017-8123-c587ea9e8a4f.jpeg to food_photos_processed/train/carrot/cd4ff8e9-6f14-4017-8123-c587ea9e8a4f.jpeg\n",
      "[INFO] Copying food_photos/avocado/9647a009-2512-4fcf-b865-227c23fe4266.jpeg to food_photos_processed/train/avocado/9647a009-2512-4fcf-b865-227c23fe4266.jpeg\n",
      "[INFO] Copying food_photos/broccoli/f89e9fdb-da92-487b-92c2-ede1d9724e3f.jpeg to food_photos_processed/train/broccoli/f89e9fdb-da92-487b-92c2-ede1d9724e3f.jpeg\n",
      "[INFO] Copying food_photos/carrot/74a2f3d1-4c66-4cda-8c73-fba0da488bf2.jpeg to food_photos_processed/train/carrot/74a2f3d1-4c66-4cda-8c73-fba0da488bf2.jpeg\n",
      "[INFO] Copying food_photos/broccoli/da15f0fc-f0d3-4d5a-9ee2-5694298ec0b2.jpeg to food_photos_processed/train/broccoli/da15f0fc-f0d3-4d5a-9ee2-5694298ec0b2.jpeg\n",
      "[INFO] Copying food_photos/avocado/c3333275-8834-4822-bcc9-9bd588301fb6.jpeg to food_photos_processed/train/avocado/c3333275-8834-4822-bcc9-9bd588301fb6.jpeg\n",
      "[INFO] Copying food_photos/carrot/6d6cb3a2-59dc-47bd-820d-e6ccdcaf29bc.jpeg to food_photos_processed/train/carrot/6d6cb3a2-59dc-47bd-820d-e6ccdcaf29bc.jpeg\n",
      "[INFO] Copying food_photos/avocado/f42ba97e-6e0d-4976-a4e4-ff56f89bdfa0.jpeg to food_photos_processed/train/avocado/f42ba97e-6e0d-4976-a4e4-ff56f89bdfa0.jpeg\n",
      "[INFO] Copying food_photos/carrot/c396ea91-6602-4531-98e0-acc8727e5a20.jpeg to food_photos_processed/train/carrot/c396ea91-6602-4531-98e0-acc8727e5a20.jpeg\n",
      "[INFO] Copying food_photos/garlic/1c889be2-6393-4daf-8e43-9a7cba1e7933.jpeg to food_photos_processed/train/garlic/1c889be2-6393-4daf-8e43-9a7cba1e7933.jpeg\n",
      "[INFO] Copying food_photos/ice_coffee/d60eb96b-fbc5-471c-ae6a-b0d2cac2d60f.jpeg to food_photos_processed/train/ice_coffee/d60eb96b-fbc5-471c-ae6a-b0d2cac2d60f.jpeg\n",
      "[INFO] Copying food_photos/broccoli/bc394549-8e3f-4d29-bfc8-bad599c4bf8c.jpeg to food_photos_processed/train/broccoli/bc394549-8e3f-4d29-bfc8-bad599c4bf8c.jpeg\n",
      "[INFO] Copying food_photos/garlic/c3730118-3827-414b-a373-1f638569fb44.jpeg to food_photos_processed/train/garlic/c3730118-3827-414b-a373-1f638569fb44.jpeg\n",
      "[INFO] Copying food_photos/ice_coffee/52b1aa18-9f8c-4f52-b8d2-2bdbb187bae7.jpeg to food_photos_processed/train/ice_coffee/52b1aa18-9f8c-4f52-b8d2-2bdbb187bae7.jpeg\n",
      "[INFO] Copying food_photos/lime/a8c4562f-8a02-4cca-a04e-89188246e5af.jpeg to food_photos_processed/train/lime/a8c4562f-8a02-4cca-a04e-89188246e5af.jpeg\n",
      "[INFO] Copying food_photos/broccoli/17299602-876c-4312-8db0-0ed6388df642.jpeg to food_photos_processed/train/broccoli/17299602-876c-4312-8db0-0ed6388df642.jpeg\n",
      "[INFO] Copying food_photos/lime/3fcef70f-8823-4e41-be8e-aeb339a43fbd.jpeg to food_photos_processed/train/lime/3fcef70f-8823-4e41-be8e-aeb339a43fbd.jpeg\n",
      "[INFO] Copying food_photos/watermelon/5ed97b79-44ee-4949-82a5-07974fcc18d1.jpeg to food_photos_processed/train/watermelon/5ed97b79-44ee-4949-82a5-07974fcc18d1.jpeg\n",
      "[INFO] Copying food_photos/plum/a70ba39a-6a0a-40b3-a2d1-12757be08f92.jpeg to food_photos_processed/train/plum/a70ba39a-6a0a-40b3-a2d1-12757be08f92.jpeg\n",
      "[INFO] Copying food_photos/broccoli/030238ad-1f44-48dd-be2f-b14b30597302.jpeg to food_photos_processed/train/broccoli/030238ad-1f44-48dd-be2f-b14b30597302.jpeg\n",
      "[INFO] Copying food_photos/garlic/d7cc9ede-5814-4623-bf8d-b1edf1928d7e.jpeg to food_photos_processed/train/garlic/d7cc9ede-5814-4623-bf8d-b1edf1928d7e.jpeg\n",
      "[INFO] Copying food_photos/broccoli/85a244cc-e29c-4afa-9559-8af8bd596cfc.jpeg to food_photos_processed/train/broccoli/85a244cc-e29c-4afa-9559-8af8bd596cfc.jpeg\n",
      "[INFO] Copying food_photos/avocado/33f66241-8a8b-4ea7-a027-e742680e1182.jpeg to food_photos_processed/train/avocado/33f66241-8a8b-4ea7-a027-e742680e1182.jpeg\n",
      "[INFO] Copying food_photos/broccoli/99d35aa1-a124-44b7-9dc8-83516f53105f.jpeg to food_photos_processed/train/broccoli/99d35aa1-a124-44b7-9dc8-83516f53105f.jpeg\n",
      "[INFO] Copying food_photos/carrot/c56e0d77-d17b-48a4-b814-291bb3555271.jpeg to food_photos_processed/train/carrot/c56e0d77-d17b-48a4-b814-291bb3555271.jpeg\n",
      "[INFO] Copying food_photos/garlic/5bd56ee6-f541-4b38-a837-a45429e16e9b.jpeg to food_photos_processed/train/garlic/5bd56ee6-f541-4b38-a837-a45429e16e9b.jpeg\n",
      "[INFO] Copying food_photos/broccoli/6d6b7b0b-bc0c-4962-a0ce-22d2b61d372c.jpeg to food_photos_processed/train/broccoli/6d6b7b0b-bc0c-4962-a0ce-22d2b61d372c.jpeg\n",
      "[INFO] Copying food_photos/carrot/4ec7151c-bb38-4f93-9c1c-d335b1512bf3.jpeg to food_photos_processed/train/carrot/4ec7151c-bb38-4f93-9c1c-d335b1512bf3.jpeg\n",
      "[INFO] Copying food_photos/watermelon/11286f1a-59c8-4891-b966-fd695b59ae47.jpeg to food_photos_processed/train/watermelon/11286f1a-59c8-4891-b966-fd695b59ae47.jpeg\n",
      "[INFO] Copying food_photos/ice_coffee/034e5399-de00-45d8-b16c-66f17eca1184.jpeg to food_photos_processed/train/ice_coffee/034e5399-de00-45d8-b16c-66f17eca1184.jpeg\n",
      "[INFO] Copying food_photos/garlic/970f763c-e9df-4d2e-993c-f8e21c7e75b1.jpeg to food_photos_processed/train/garlic/970f763c-e9df-4d2e-993c-f8e21c7e75b1.jpeg\n"
     ]
    },
    {
     "name": "stderr",
     "output_type": "stream",
     "text": [
      "\n"
     ]
    }
   ],
   "source": [
    "# Copy the train_paths to food_photos_processed/train\n",
    "import shutil\n",
    "from tqdm.auto import tqdm\n",
    "for p in tqdm(train_paths):\n",
    "    src_path = p\n",
    "    dst_path = train_path / p.parent.name / p.name\n",
    "    print(f\"[INFO] Copying {src_path} to {dst_path}\")\n",
    "    shutil.copy(src_path, dst_path)"
   ]
  },
  {
   "cell_type": "code",
   "execution_count": 31,
   "metadata": {},
   "outputs": [
    {
     "name": "stderr",
     "output_type": "stream",
     "text": [
      " 33%|███▎      | 44/132 [00:00<00:00, 436.66it/s]"
     ]
    },
    {
     "name": "stdout",
     "output_type": "stream",
     "text": [
      "[INFO] Copying food_photos/watermelon/efd020b7-5f96-4c33-b7b6-34b95718710d.jpeg to food_photos_processed/test/watermelon/efd020b7-5f96-4c33-b7b6-34b95718710d.jpeg\n",
      "[INFO] Copying food_photos/broccoli/8165ec5d-9cb4-4d85-82bb-2507cb35f72d.jpeg to food_photos_processed/test/broccoli/8165ec5d-9cb4-4d85-82bb-2507cb35f72d.jpeg\n",
      "[INFO] Copying food_photos/carrot/315b4324-2148-42a9-adc4-d563a87155bd.jpeg to food_photos_processed/test/carrot/315b4324-2148-42a9-adc4-d563a87155bd.jpeg\n",
      "[INFO] Copying food_photos/eggs/e0bdb0f6-7796-4c3a-9e3f-b4e30f2f6d11.jpeg to food_photos_processed/test/eggs/e0bdb0f6-7796-4c3a-9e3f-b4e30f2f6d11.jpeg\n",
      "[INFO] Copying food_photos/nectarines/eebb3fa7-439f-4aef-82c5-cf99bb510850.jpeg to food_photos_processed/test/nectarines/eebb3fa7-439f-4aef-82c5-cf99bb510850.jpeg\n",
      "[INFO] Copying food_photos/lime/d87b197c-c2d4-431a-8b52-27673f9ccd24.jpeg to food_photos_processed/test/lime/d87b197c-c2d4-431a-8b52-27673f9ccd24.jpeg\n",
      "[INFO] Copying food_photos/broccoli/7708a188-fc0d-466f-b1a9-05b44da16b8a.jpeg to food_photos_processed/test/broccoli/7708a188-fc0d-466f-b1a9-05b44da16b8a.jpeg\n",
      "[INFO] Copying food_photos/garlic/5b0f4a9c-73cb-42fc-917a-83852cdc7ed8.jpeg to food_photos_processed/test/garlic/5b0f4a9c-73cb-42fc-917a-83852cdc7ed8.jpeg\n",
      "[INFO] Copying food_photos/ice_coffee/cfe86edf-6e5d-4c3d-817e-f328726140ca.jpeg to food_photos_processed/test/ice_coffee/cfe86edf-6e5d-4c3d-817e-f328726140ca.jpeg\n",
      "[INFO] Copying food_photos/garlic/d1f21233-6360-4051-9ab2-fdc3b2fa5e2b.jpeg to food_photos_processed/test/garlic/d1f21233-6360-4051-9ab2-fdc3b2fa5e2b.jpeg\n",
      "[INFO] Copying food_photos/eggs/ada317c3-e8c2-4858-99f7-5d8205399d9a.jpeg to food_photos_processed/test/eggs/ada317c3-e8c2-4858-99f7-5d8205399d9a.jpeg\n",
      "[INFO] Copying food_photos/garlic/85c1c806-ce86-499e-b06c-b43ee408c2ea.jpeg to food_photos_processed/test/garlic/85c1c806-ce86-499e-b06c-b43ee408c2ea.jpeg\n",
      "[INFO] Copying food_photos/watermelon/1734c6a1-0204-4bf1-9ea7-0ade33a49d4f.jpeg to food_photos_processed/test/watermelon/1734c6a1-0204-4bf1-9ea7-0ade33a49d4f.jpeg\n",
      "[INFO] Copying food_photos/broccoli/c40352b6-8140-4816-baa2-3d13e2eeebeb.jpeg to food_photos_processed/test/broccoli/c40352b6-8140-4816-baa2-3d13e2eeebeb.jpeg\n",
      "[INFO] Copying food_photos/broccoli/f9959b45-02b1-4ad3-b805-821d96fff081.jpeg to food_photos_processed/test/broccoli/f9959b45-02b1-4ad3-b805-821d96fff081.jpeg\n",
      "[INFO] Copying food_photos/ice_coffee/f91928e5-5eeb-4c7b-ae76-bd85aac44ce5.jpeg to food_photos_processed/test/ice_coffee/f91928e5-5eeb-4c7b-ae76-bd85aac44ce5.jpeg\n",
      "[INFO] Copying food_photos/avocado/3e77e6b6-2268-42bb-ae06-d7b882699a00.jpeg to food_photos_processed/test/avocado/3e77e6b6-2268-42bb-ae06-d7b882699a00.jpeg\n",
      "[INFO] Copying food_photos/avocado/6a233285-bd4b-42a7-8801-7775fc65224d.jpeg to food_photos_processed/test/avocado/6a233285-bd4b-42a7-8801-7775fc65224d.jpeg\n",
      "[INFO] Copying food_photos/broccoli/a9b93710-003c-481d-9559-3043bdd5836e.jpeg to food_photos_processed/test/broccoli/a9b93710-003c-481d-9559-3043bdd5836e.jpeg\n",
      "[INFO] Copying food_photos/ice_coffee/4fe7a8a2-e673-4ce4-a806-105468c0afc0.jpeg to food_photos_processed/test/ice_coffee/4fe7a8a2-e673-4ce4-a806-105468c0afc0.jpeg\n",
      "[INFO] Copying food_photos/avocado/d8277779-ad30-4ecc-a9e5-132cfcc459e6.jpeg to food_photos_processed/test/avocado/d8277779-ad30-4ecc-a9e5-132cfcc459e6.jpeg\n",
      "[INFO] Copying food_photos/broccoli/4d38001a-b64f-4091-a771-29ebc602cd70.jpeg to food_photos_processed/test/broccoli/4d38001a-b64f-4091-a771-29ebc602cd70.jpeg\n",
      "[INFO] Copying food_photos/avocado/9139a083-96b4-4040-ab7f-b41a8478112f.jpeg to food_photos_processed/test/avocado/9139a083-96b4-4040-ab7f-b41a8478112f.jpeg\n",
      "[INFO] Copying food_photos/watermelon/5339fda7-910e-49eb-96a2-cc94d506a325.jpeg to food_photos_processed/test/watermelon/5339fda7-910e-49eb-96a2-cc94d506a325.jpeg\n",
      "[INFO] Copying food_photos/eggs/55d47ad9-a7e8-412c-9d7c-f19d20d69aef.jpeg to food_photos_processed/test/eggs/55d47ad9-a7e8-412c-9d7c-f19d20d69aef.jpeg\n",
      "[INFO] Copying food_photos/carrot/09e106c0-7f62-441e-8167-04e874c1ac6f.jpeg to food_photos_processed/test/carrot/09e106c0-7f62-441e-8167-04e874c1ac6f.jpeg\n",
      "[INFO] Copying food_photos/carrot/cb69c6cf-88ca-4d5e-8acd-8d5f7dd1fb8a.jpeg to food_photos_processed/test/carrot/cb69c6cf-88ca-4d5e-8acd-8d5f7dd1fb8a.jpeg\n",
      "[INFO] Copying food_photos/avocado/90c6d878-28bc-44e9-82bc-ecda940566a7.jpeg to food_photos_processed/test/avocado/90c6d878-28bc-44e9-82bc-ecda940566a7.jpeg\n",
      "[INFO] Copying food_photos/ice_coffee/f1dd3f85-c2fb-43b6-8fdd-68eb15f6192f.jpeg to food_photos_processed/test/ice_coffee/f1dd3f85-c2fb-43b6-8fdd-68eb15f6192f.jpeg\n",
      "[INFO] Copying food_photos/broccoli/d505ce02-a30c-4fa3-ae3d-d2ba679ffc80.jpeg to food_photos_processed/test/broccoli/d505ce02-a30c-4fa3-ae3d-d2ba679ffc80.jpeg\n",
      "[INFO] Copying food_photos/carrot/ac2e100a-67c0-4739-b659-58ac8ade2b86.jpeg to food_photos_processed/test/carrot/ac2e100a-67c0-4739-b659-58ac8ade2b86.jpeg\n",
      "[INFO] Copying food_photos/broccoli/088c00b7-20fc-4b38-8d2f-5534f2e015e6.jpeg to food_photos_processed/test/broccoli/088c00b7-20fc-4b38-8d2f-5534f2e015e6.jpeg\n",
      "[INFO] Copying food_photos/ice_coffee/e86b4450-b67b-4944-83f3-95eb750b2998.jpeg to food_photos_processed/test/ice_coffee/e86b4450-b67b-4944-83f3-95eb750b2998.jpeg\n",
      "[INFO] Copying food_photos/garlic/3bd80df3-57cf-443d-8e26-36e4963a03bc.jpeg to food_photos_processed/test/garlic/3bd80df3-57cf-443d-8e26-36e4963a03bc.jpeg\n",
      "[INFO] Copying food_photos/watermelon/9616b7fa-df05-4d3a-8916-8c7dfb67ed91.jpeg to food_photos_processed/test/watermelon/9616b7fa-df05-4d3a-8916-8c7dfb67ed91.jpeg\n",
      "[INFO] Copying food_photos/plum/b5acdafb-9093-48d2-9691-9f5721506f3f.jpeg to food_photos_processed/test/plum/b5acdafb-9093-48d2-9691-9f5721506f3f.jpeg\n",
      "[INFO] Copying food_photos/lime/1116aaff-4009-4dbc-99d1-4937739140b6.jpeg to food_photos_processed/test/lime/1116aaff-4009-4dbc-99d1-4937739140b6.jpeg\n",
      "[INFO] Copying food_photos/avocado/50958389-fde3-4165-8106-16cae18d61b1.jpeg to food_photos_processed/test/avocado/50958389-fde3-4165-8106-16cae18d61b1.jpeg\n",
      "[INFO] Copying food_photos/watermelon/a4d3afe8-e7b3-444f-8bd7-9e0861348a9f.jpeg to food_photos_processed/test/watermelon/a4d3afe8-e7b3-444f-8bd7-9e0861348a9f.jpeg\n",
      "[INFO] Copying food_photos/carrot/fee39cb1-0971-4254-9f7a-58b520837ae5.jpeg to food_photos_processed/test/carrot/fee39cb1-0971-4254-9f7a-58b520837ae5.jpeg\n",
      "[INFO] Copying food_photos/avocado/bb2a79fd-08ec-4a45-9e02-6162491d4cd1.jpeg to food_photos_processed/test/avocado/bb2a79fd-08ec-4a45-9e02-6162491d4cd1.jpeg\n",
      "[INFO] Copying food_photos/lime/6ae9c992-ede7-4143-a06a-3295171919a5.jpeg to food_photos_processed/test/lime/6ae9c992-ede7-4143-a06a-3295171919a5.jpeg\n",
      "[INFO] Copying food_photos/carrot/5e3a967f-e96f-4d2c-afd4-d63feec9ed55.jpeg to food_photos_processed/test/carrot/5e3a967f-e96f-4d2c-afd4-d63feec9ed55.jpeg\n",
      "[INFO] Copying food_photos/broccoli/2efe1008-389d-41e7-a11d-baf3319a504c.jpeg to food_photos_processed/test/broccoli/2efe1008-389d-41e7-a11d-baf3319a504c.jpeg\n",
      "[INFO] Copying food_photos/eggs/51f97b31-eb25-4574-8033-4d3440725f21.jpeg to food_photos_processed/test/eggs/51f97b31-eb25-4574-8033-4d3440725f21.jpeg\n",
      "[INFO] Copying food_photos/lime/fff9c738-49fc-4f69-9819-60deb4ba8dfe.jpeg to food_photos_processed/test/lime/fff9c738-49fc-4f69-9819-60deb4ba8dfe.jpeg\n",
      "[INFO] Copying food_photos/garlic/2d1d3e95-b075-484a-8ac9-bcfa5540cf71.jpeg to food_photos_processed/test/garlic/2d1d3e95-b075-484a-8ac9-bcfa5540cf71.jpeg\n",
      "[INFO] Copying food_photos/garlic/996d460f-9c3c-4190-8762-83b74658de76.jpeg to food_photos_processed/test/garlic/996d460f-9c3c-4190-8762-83b74658de76.jpeg\n",
      "[INFO] Copying food_photos/avocado/f396f488-da8e-47e9-acfd-c0ae3640b323.jpeg to food_photos_processed/test/avocado/f396f488-da8e-47e9-acfd-c0ae3640b323.jpeg\n",
      "[INFO] Copying food_photos/lime/c0369c35-fea9-4af1-a1c4-e94e9bf19dd5.jpeg to food_photos_processed/test/lime/c0369c35-fea9-4af1-a1c4-e94e9bf19dd5.jpeg\n",
      "[INFO] Copying food_photos/watermelon/63e881e8-6a74-4e76-a056-290ae52fb17c.jpeg to food_photos_processed/test/watermelon/63e881e8-6a74-4e76-a056-290ae52fb17c.jpeg\n",
      "[INFO] Copying food_photos/broccoli/d9bda599-32ac-4ef2-ae5a-d955ca6edcf7.jpeg to food_photos_processed/test/broccoli/d9bda599-32ac-4ef2-ae5a-d955ca6edcf7.jpeg\n",
      "[INFO] Copying food_photos/garlic/3057f15e-55d3-4ef3-8466-1f96e9cad0e0.jpeg to food_photos_processed/test/garlic/3057f15e-55d3-4ef3-8466-1f96e9cad0e0.jpeg\n",
      "[INFO] Copying food_photos/ice_coffee/45ad34af-cc79-46e7-8fbc-b662ad29daa3.jpeg to food_photos_processed/test/ice_coffee/45ad34af-cc79-46e7-8fbc-b662ad29daa3.jpeg\n",
      "[INFO] Copying food_photos/lime/1fbf5882-a0b3-486a-8998-714c6d836a75.jpeg to food_photos_processed/test/lime/1fbf5882-a0b3-486a-8998-714c6d836a75.jpeg\n",
      "[INFO] Copying food_photos/lime/6760ae77-b8b2-4735-9f19-064fb4e94437.jpeg to food_photos_processed/test/lime/6760ae77-b8b2-4735-9f19-064fb4e94437.jpeg\n",
      "[INFO] Copying food_photos/peach/bf5c1d29-8c14-4fdc-983e-724f549bb273.jpeg to food_photos_processed/test/peach/bf5c1d29-8c14-4fdc-983e-724f549bb273.jpeg\n",
      "[INFO] Copying food_photos/watermelon/3881a048-00ac-49b6-a0df-6c8a63edcae0.jpeg to food_photos_processed/test/watermelon/3881a048-00ac-49b6-a0df-6c8a63edcae0.jpeg\n",
      "[INFO] Copying food_photos/lime/04cab115-8fd6-416e-b9e4-c3e82b6ada40.jpeg to food_photos_processed/test/lime/04cab115-8fd6-416e-b9e4-c3e82b6ada40.jpeg\n",
      "[INFO] Copying food_photos/plum/ffd773a4-d45c-4170-924c-0cee8da19384.jpeg to food_photos_processed/test/plum/ffd773a4-d45c-4170-924c-0cee8da19384.jpeg\n",
      "[INFO] Copying food_photos/nectarines/6f5f6cf7-b750-4f52-beff-886060beca47.jpeg to food_photos_processed/test/nectarines/6f5f6cf7-b750-4f52-beff-886060beca47.jpeg\n",
      "[INFO] Copying food_photos/broccoli/7764e5a3-72c1-4a2b-a1e0-25de43005836.jpeg to food_photos_processed/test/broccoli/7764e5a3-72c1-4a2b-a1e0-25de43005836.jpeg\n",
      "[INFO] Copying food_photos/broccoli/a17db0c9-2880-4ed7-877d-e980fd79643a.jpeg to food_photos_processed/test/broccoli/a17db0c9-2880-4ed7-877d-e980fd79643a.jpeg\n",
      "[INFO] Copying food_photos/plum/52f57d89-7267-4832-8c9f-3c854c985158.jpeg to food_photos_processed/test/plum/52f57d89-7267-4832-8c9f-3c854c985158.jpeg\n",
      "[INFO] Copying food_photos/watermelon/99ab5042-bd3e-40e4-93ff-3fd8e78c84f0.jpeg to food_photos_processed/test/watermelon/99ab5042-bd3e-40e4-93ff-3fd8e78c84f0.jpeg\n",
      "[INFO] Copying food_photos/ice_coffee/d59bf8ad-ae86-4c1b-ae64-6a88b65ecc8c.jpeg to food_photos_processed/test/ice_coffee/d59bf8ad-ae86-4c1b-ae64-6a88b65ecc8c.jpeg\n",
      "[INFO] Copying food_photos/carrot/4e04b679-0a00-4e65-872b-bccae1a2f2cd.jpeg to food_photos_processed/test/carrot/4e04b679-0a00-4e65-872b-bccae1a2f2cd.jpeg\n",
      "[INFO] Copying food_photos/plum/ac5acf9a-f4ac-4076-8b92-404d19563ee8.jpeg to food_photos_processed/test/plum/ac5acf9a-f4ac-4076-8b92-404d19563ee8.jpeg\n",
      "[INFO] Copying food_photos/garlic/c42bc68c-790d-4d54-b3f7-8bd53e90ed8f.jpeg to food_photos_processed/test/garlic/c42bc68c-790d-4d54-b3f7-8bd53e90ed8f.jpeg\n",
      "[INFO] Copying food_photos/carrot/1a26ec4f-8964-4b46-994b-41b60d730c86.jpeg to food_photos_processed/test/carrot/1a26ec4f-8964-4b46-994b-41b60d730c86.jpeg\n",
      "[INFO] Copying food_photos/carrot/a1d1ae7e-989a-4c9b-bde9-cdd636a63b33.jpeg to food_photos_processed/test/carrot/a1d1ae7e-989a-4c9b-bde9-cdd636a63b33.jpeg\n",
      "[INFO] Copying food_photos/broccoli/f460af0a-938f-4a1b-ba35-63e2e7a8297b.jpeg to food_photos_processed/test/broccoli/f460af0a-938f-4a1b-ba35-63e2e7a8297b.jpeg\n",
      "[INFO] Copying food_photos/garlic/d1c9a5c1-33ad-4e03-b24b-029a44d55261.jpeg to food_photos_processed/test/garlic/d1c9a5c1-33ad-4e03-b24b-029a44d55261.jpeg\n",
      "[INFO] Copying food_photos/eggs/b2a61631-9f6b-4730-97d1-01e4c8189114.jpeg to food_photos_processed/test/eggs/b2a61631-9f6b-4730-97d1-01e4c8189114.jpeg\n",
      "[INFO] Copying food_photos/avocado/769c8ec4-54c3-4431-bbb2-d08e35dd0c7f.jpeg to food_photos_processed/test/avocado/769c8ec4-54c3-4431-bbb2-d08e35dd0c7f.jpeg\n",
      "[INFO] Copying food_photos/broccoli/d4332703-8aa0-426b-ac29-62e9060e261e.jpeg to food_photos_processed/test/broccoli/d4332703-8aa0-426b-ac29-62e9060e261e.jpeg\n",
      "[INFO] Copying food_photos/peach/f390b6ea-72ea-4969-ba18-0cd458851c2d.jpeg to food_photos_processed/test/peach/f390b6ea-72ea-4969-ba18-0cd458851c2d.jpeg\n",
      "[INFO] Copying food_photos/ice_coffee/070def58-f51e-41a8-b0bd-14b26511c241.jpeg to food_photos_processed/test/ice_coffee/070def58-f51e-41a8-b0bd-14b26511c241.jpeg\n",
      "[INFO] Copying food_photos/watermelon/68e7a861-75bc-4eb5-8969-651a94c178ff.jpeg to food_photos_processed/test/watermelon/68e7a861-75bc-4eb5-8969-651a94c178ff.jpeg\n",
      "[INFO] Copying food_photos/plum/f17982bf-3799-4635-b125-f759dfe867cd.jpeg to food_photos_processed/test/plum/f17982bf-3799-4635-b125-f759dfe867cd.jpeg\n",
      "[INFO] Copying food_photos/peach/66d535f2-2bc9-4646-a51e-7547fb3a953f.jpeg to food_photos_processed/test/peach/66d535f2-2bc9-4646-a51e-7547fb3a953f.jpeg\n",
      "[INFO] Copying food_photos/carrot/6656b0ec-1243-4916-86fd-f313aa386db9.jpeg to food_photos_processed/test/carrot/6656b0ec-1243-4916-86fd-f313aa386db9.jpeg\n",
      "[INFO] Copying food_photos/avocado/ee4859f3-4025-44bb-9669-38d9c1a7d31b.jpeg to food_photos_processed/test/avocado/ee4859f3-4025-44bb-9669-38d9c1a7d31b.jpeg\n",
      "[INFO] Copying food_photos/ice_coffee/1cb52e8f-65c5-4a0d-85a2-941eeb2f6b34.jpeg to food_photos_processed/test/ice_coffee/1cb52e8f-65c5-4a0d-85a2-941eeb2f6b34.jpeg\n",
      "[INFO] Copying food_photos/watermelon/571b4da1-b6cf-43c8-be63-b74df4123553.jpeg to food_photos_processed/test/watermelon/571b4da1-b6cf-43c8-be63-b74df4123553.jpeg\n",
      "[INFO] Copying food_photos/carrot/1defe1ae-baa2-492c-b0a9-216cd58e2b8e.jpeg to food_photos_processed/test/carrot/1defe1ae-baa2-492c-b0a9-216cd58e2b8e.jpeg\n",
      "[INFO] Copying food_photos/ice_coffee/28594ab9-0303-4a58-b11b-e470bc9137c0.jpeg to food_photos_processed/test/ice_coffee/28594ab9-0303-4a58-b11b-e470bc9137c0.jpeg\n",
      "[INFO] Copying food_photos/orange_juice/876afe56-b090-4e7d-9939-3c777c41698d.jpeg to food_photos_processed/test/orange_juice/876afe56-b090-4e7d-9939-3c777c41698d.jpeg\n",
      "[INFO] Copying food_photos/garlic/f4e55f75-e6b9-4ae7-88b0-3595effeffd1.jpeg to food_photos_processed/test/garlic/f4e55f75-e6b9-4ae7-88b0-3595effeffd1.jpeg\n"
     ]
    },
    {
     "name": "stderr",
     "output_type": "stream",
     "text": [
      "100%|██████████| 132/132 [00:00<00:00, 446.81it/s]"
     ]
    },
    {
     "name": "stdout",
     "output_type": "stream",
     "text": [
      "[INFO] Copying food_photos/ice_coffee/5fb8c07d-c457-438f-99b2-b75d6f83f378.jpeg to food_photos_processed/test/ice_coffee/5fb8c07d-c457-438f-99b2-b75d6f83f378.jpeg\n",
      "[INFO] Copying food_photos/watermelon/b032d6db-fcd6-4f4f-8be0-66248e5f57c9.jpeg to food_photos_processed/test/watermelon/b032d6db-fcd6-4f4f-8be0-66248e5f57c9.jpeg\n",
      "[INFO] Copying food_photos/carrot/dae22084-cd35-49c2-b973-0e6946e0ffcc.jpeg to food_photos_processed/test/carrot/dae22084-cd35-49c2-b973-0e6946e0ffcc.jpeg\n",
      "[INFO] Copying food_photos/plum/3181bad5-cb27-48a9-9aee-bc1db20cd61f.jpeg to food_photos_processed/test/plum/3181bad5-cb27-48a9-9aee-bc1db20cd61f.jpeg\n",
      "[INFO] Copying food_photos/carrot/cb9f132a-4772-4de2-bb59-00df930374fc.jpeg to food_photos_processed/test/carrot/cb9f132a-4772-4de2-bb59-00df930374fc.jpeg\n",
      "[INFO] Copying food_photos/carrot/09aa760b-560f-4a32-a5c5-b8dc3562ea8a.jpeg to food_photos_processed/test/carrot/09aa760b-560f-4a32-a5c5-b8dc3562ea8a.jpeg\n",
      "[INFO] Copying food_photos/avocado/e7aa4e4a-7206-4730-a496-33f5122832cd.jpeg to food_photos_processed/test/avocado/e7aa4e4a-7206-4730-a496-33f5122832cd.jpeg\n",
      "[INFO] Copying food_photos/eggs/9f97bd7e-c9dc-4e16-a3f9-8d91f15d8996.jpeg to food_photos_processed/test/eggs/9f97bd7e-c9dc-4e16-a3f9-8d91f15d8996.jpeg\n",
      "[INFO] Copying food_photos/avocado/a36e70ae-6678-4076-84e2-63672429c858.jpeg to food_photos_processed/test/avocado/a36e70ae-6678-4076-84e2-63672429c858.jpeg\n",
      "[INFO] Copying food_photos/watermelon/e1ade3da-4864-4ea9-baeb-e78a98434014.jpeg to food_photos_processed/test/watermelon/e1ade3da-4864-4ea9-baeb-e78a98434014.jpeg\n",
      "[INFO] Copying food_photos/broccoli/7ea0caa2-77eb-468d-b9d6-9c27883c363f.jpeg to food_photos_processed/test/broccoli/7ea0caa2-77eb-468d-b9d6-9c27883c363f.jpeg\n",
      "[INFO] Copying food_photos/ice_coffee/d144dbc3-d276-4351-84d9-063a87366040.jpeg to food_photos_processed/test/ice_coffee/d144dbc3-d276-4351-84d9-063a87366040.jpeg\n",
      "[INFO] Copying food_photos/garlic/f548d0cd-db8e-4f51-b08a-1c4be094dc62.jpeg to food_photos_processed/test/garlic/f548d0cd-db8e-4f51-b08a-1c4be094dc62.jpeg\n",
      "[INFO] Copying food_photos/broccoli/6d8867eb-a183-4d7b-9fbf-5113b9d17e07.jpeg to food_photos_processed/test/broccoli/6d8867eb-a183-4d7b-9fbf-5113b9d17e07.jpeg\n",
      "[INFO] Copying food_photos/carrot/41194d64-2b8d-4d2f-bcc9-bd48777d3c50.jpeg to food_photos_processed/test/carrot/41194d64-2b8d-4d2f-bcc9-bd48777d3c50.jpeg\n",
      "[INFO] Copying food_photos/nectarines/a1b057db-47cb-4bc6-8303-252dd5d4383f.jpeg to food_photos_processed/test/nectarines/a1b057db-47cb-4bc6-8303-252dd5d4383f.jpeg\n",
      "[INFO] Copying food_photos/avocado/74106dc0-c8e5-47e2-9f71-96a28a744313.jpeg to food_photos_processed/test/avocado/74106dc0-c8e5-47e2-9f71-96a28a744313.jpeg\n",
      "[INFO] Copying food_photos/broccoli/ed6a5e09-7e60-4dad-bd0f-3fb38d3ddd0a.jpeg to food_photos_processed/test/broccoli/ed6a5e09-7e60-4dad-bd0f-3fb38d3ddd0a.jpeg\n",
      "[INFO] Copying food_photos/broccoli/20a0330b-6a66-453e-ab47-a851c480bd6b.jpeg to food_photos_processed/test/broccoli/20a0330b-6a66-453e-ab47-a851c480bd6b.jpeg\n",
      "[INFO] Copying food_photos/broccoli/942f4f4e-2b69-4333-b96d-d166efb215e4.jpeg to food_photos_processed/test/broccoli/942f4f4e-2b69-4333-b96d-d166efb215e4.jpeg\n",
      "[INFO] Copying food_photos/carrot/b3e251fa-7a03-4b55-8dee-eef3b8ac703b.jpeg to food_photos_processed/test/carrot/b3e251fa-7a03-4b55-8dee-eef3b8ac703b.jpeg\n",
      "[INFO] Copying food_photos/carrot/3d7dfa7a-a6c9-49e8-bb4f-880a5da2f719.jpeg to food_photos_processed/test/carrot/3d7dfa7a-a6c9-49e8-bb4f-880a5da2f719.jpeg\n",
      "[INFO] Copying food_photos/carrot/b659f10f-1a18-4da0-a9e3-4913b31a4a28.jpeg to food_photos_processed/test/carrot/b659f10f-1a18-4da0-a9e3-4913b31a4a28.jpeg\n",
      "[INFO] Copying food_photos/broccoli/6c41bfc0-7c24-4104-89fe-0dbe4a163c05.jpeg to food_photos_processed/test/broccoli/6c41bfc0-7c24-4104-89fe-0dbe4a163c05.jpeg\n",
      "[INFO] Copying food_photos/avocado/4bf9fdb5-30c5-4a6c-b73d-9d3a1d2ae7c8.jpeg to food_photos_processed/test/avocado/4bf9fdb5-30c5-4a6c-b73d-9d3a1d2ae7c8.jpeg\n",
      "[INFO] Copying food_photos/garlic/0cf3f597-faf3-4adf-85a7-dad94422dd93.jpeg to food_photos_processed/test/garlic/0cf3f597-faf3-4adf-85a7-dad94422dd93.jpeg\n",
      "[INFO] Copying food_photos/avocado/ed862664-aabc-4f52-b769-46dd88566e21.jpeg to food_photos_processed/test/avocado/ed862664-aabc-4f52-b769-46dd88566e21.jpeg\n",
      "[INFO] Copying food_photos/lime/ea1e55f7-c540-451e-bf2b-17910814a6a6.jpeg to food_photos_processed/test/lime/ea1e55f7-c540-451e-bf2b-17910814a6a6.jpeg\n",
      "[INFO] Copying food_photos/ice_coffee/6581fc68-11d9-4261-b1ea-0bf26f935491.jpeg to food_photos_processed/test/ice_coffee/6581fc68-11d9-4261-b1ea-0bf26f935491.jpeg\n",
      "[INFO] Copying food_photos/ice_coffee/3e0967ab-3a93-40bf-8827-e635c8ccc4d9.jpeg to food_photos_processed/test/ice_coffee/3e0967ab-3a93-40bf-8827-e635c8ccc4d9.jpeg\n",
      "[INFO] Copying food_photos/avocado/b0033752-2dd0-4e89-b47d-4c7fcad9c912.jpeg to food_photos_processed/test/avocado/b0033752-2dd0-4e89-b47d-4c7fcad9c912.jpeg\n",
      "[INFO] Copying food_photos/broccoli/ab7baf50-d04a-43ff-9ffc-86ebd3e219f4.jpeg to food_photos_processed/test/broccoli/ab7baf50-d04a-43ff-9ffc-86ebd3e219f4.jpeg\n",
      "[INFO] Copying food_photos/ice_coffee/0019725c-4518-43b3-b22b-e625bff3fabc.jpeg to food_photos_processed/test/ice_coffee/0019725c-4518-43b3-b22b-e625bff3fabc.jpeg\n",
      "[INFO] Copying food_photos/carrot/083b3761-f963-444f-8ad0-a66b4ef1f464.jpeg to food_photos_processed/test/carrot/083b3761-f963-444f-8ad0-a66b4ef1f464.jpeg\n",
      "[INFO] Copying food_photos/avocado/cb890db6-17eb-44ca-a2c8-670e6928ed65.jpeg to food_photos_processed/test/avocado/cb890db6-17eb-44ca-a2c8-670e6928ed65.jpeg\n",
      "[INFO] Copying food_photos/avocado/5f1a90df-d0a6-4dcc-993e-9637b2708338.jpeg to food_photos_processed/test/avocado/5f1a90df-d0a6-4dcc-993e-9637b2708338.jpeg\n",
      "[INFO] Copying food_photos/garlic/c62ac26b-bff1-42dc-948f-697a17d1a25f.jpeg to food_photos_processed/test/garlic/c62ac26b-bff1-42dc-948f-697a17d1a25f.jpeg\n",
      "[INFO] Copying food_photos/ice_coffee/33fc4c68-ee54-4e09-8e5a-f1b65b1e585e.jpeg to food_photos_processed/test/ice_coffee/33fc4c68-ee54-4e09-8e5a-f1b65b1e585e.jpeg\n",
      "[INFO] Copying food_photos/broccoli/16cd50f3-1bb3-412d-a5b2-0cfd0f1143d6.jpeg to food_photos_processed/test/broccoli/16cd50f3-1bb3-412d-a5b2-0cfd0f1143d6.jpeg\n",
      "[INFO] Copying food_photos/watermelon/c7e95498-8b2d-4800-99a9-525315af3b8d.jpeg to food_photos_processed/test/watermelon/c7e95498-8b2d-4800-99a9-525315af3b8d.jpeg\n",
      "[INFO] Copying food_photos/broccoli/2b62d475-25b6-4970-afcc-64e3317faca6.jpeg to food_photos_processed/test/broccoli/2b62d475-25b6-4970-afcc-64e3317faca6.jpeg\n",
      "[INFO] Copying food_photos/broccoli/51bf8c3c-89aa-486b-b359-e1dbf3a31979.jpeg to food_photos_processed/test/broccoli/51bf8c3c-89aa-486b-b359-e1dbf3a31979.jpeg\n",
      "[INFO] Copying food_photos/broccoli/0d565e0c-68f3-4cea-9c6c-68409524a92d.jpeg to food_photos_processed/test/broccoli/0d565e0c-68f3-4cea-9c6c-68409524a92d.jpeg\n"
     ]
    },
    {
     "name": "stderr",
     "output_type": "stream",
     "text": [
      "\n"
     ]
    }
   ],
   "source": [
    "# Copy all test paths to food_photos_processed/test\n",
    "for p in tqdm(test_paths):\n",
    "    src_path = p\n",
    "    dst_path = test_path / p.parent.name / p.name\n",
    "    print(f\"[INFO] Copying {src_path} to {dst_path}\")\n",
    "    shutil.copy(src_path, dst_path)"
   ]
  },
  {
   "cell_type": "code",
   "execution_count": 34,
   "metadata": {},
   "outputs": [
    {
     "data": {
      "text/plain": [
       "526"
      ]
     },
     "execution_count": 34,
     "metadata": {},
     "output_type": "execute_result"
    }
   ],
   "source": [
    "# Find the number of images in train_path\n",
    "train_path = Path('food_photos_processed/train')\n",
    "len(list(train_path.glob('*/*.jpeg')))"
   ]
  },
  {
   "cell_type": "code",
   "execution_count": 35,
   "metadata": {},
   "outputs": [
    {
     "data": {
      "text/plain": [
       "132"
      ]
     },
     "execution_count": 35,
     "metadata": {},
     "output_type": "execute_result"
    }
   ],
   "source": [
    "# Find the number of images in test_path\n",
    "test_path = Path('food_photos_processed/test')\n",
    "len(list(test_path.glob('*/*.jpeg')))"
   ]
  },
  {
   "cell_type": "code",
   "execution_count": 36,
   "metadata": {},
   "outputs": [
    {
     "data": {
      "text/plain": [
       "658"
      ]
     },
     "execution_count": 36,
     "metadata": {},
     "output_type": "execute_result"
    }
   ],
   "source": [
    "526+132"
   ]
  },
  {
   "cell_type": "markdown",
   "metadata": {},
   "source": [
    "## Download original labels from Weights & Biases"
   ]
  },
  {
   "cell_type": "code",
   "execution_count": 38,
   "metadata": {},
   "outputs": [
    {
     "name": "stdout",
     "output_type": "stream",
     "text": [
      "namespace(path_to_label_studio_api_key='utils/label_studio_api_key.json', path_to_gcp_credentials='utils/google-storage-key.json', gs_bucket_name='food_vision_bucket_with_object_versioning', gs_image_storage_path='https://storage.cloud.google.com/food_vision_bucket_with_object_versioning/all_images/', wandb_project='test_wandb_artifacts_by_reference', wandb_job_type='', wandb_run_notes='', wandb_run_tags=[''], wandb_model_artifact='trained_model:latest', wandb_dataset_artifact='food_vision_199_classes_images:latest', wandb_labels_artifact='food_vision_labels:latest', wandb_train_preds_artifact='train_predictions:latest', workers=16, input_size=224, auto_augment=True, model='coatnext_nano_rw_224', pretrained=True, batch_size=128, epochs=10, label_smoothing=0.1, learning_rate=0.001, use_mixed_precision=True, seed=42, num_to_try_and_autocorrect=1000, annotations_columns_to_export=['filename', 'image_name', 'class_name', 'label', 'split', 'clear_or_confusing', 'whole_food_or_dish', 'one_food_or_multiple', 'label_last_updated_at', 'label_source', 'image_source'])\n"
     ]
    }
   ],
   "source": [
    "# Get config\n",
    "from configs.default_config import config\n",
    "\n",
    "args = config\n",
    "print(args)"
   ]
  },
  {
   "cell_type": "code",
   "execution_count": 65,
   "metadata": {},
   "outputs": [
    {
     "name": "stdout",
     "output_type": "stream",
     "text": [
      "[INFO] GCP credentials set!\n",
      "[INFO] GCP connection successful! Access to GCP for saving/loading data and models available.\n"
     ]
    }
   ],
   "source": [
    "# Connect to GCP\n",
    "from utils.gcp_utils import set_gcp_credentials, test_gcp_connection\n",
    "set_gcp_credentials(path_to_key=\"../utils/google-storage-key.json\")\n",
    "test_gcp_connection()"
   ]
  },
  {
   "cell_type": "code",
   "execution_count": 39,
   "metadata": {},
   "outputs": [
    {
     "name": "stderr",
     "output_type": "stream",
     "text": [
      "Failed to detect the name of this notebook, you can set it manually with the WANDB_NOTEBOOK_NAME environment variable to enable code saving.\n",
      "\u001b[34m\u001b[1mwandb\u001b[0m: Currently logged in as: \u001b[33mmrdbourke\u001b[0m. Use \u001b[1m`wandb login --relogin`\u001b[0m to force relogin\n"
     ]
    },
    {
     "data": {
      "text/html": [
       "Tracking run with wandb version 0.13.9"
      ],
      "text/plain": [
       "<IPython.core.display.HTML object>"
      ]
     },
     "metadata": {},
     "output_type": "display_data"
    },
    {
     "data": {
      "text/html": [
       "Run data is saved locally in <code>/Users/daniel/code/nutrify/foodvision/notebooks/wandb/run-20230201_110803-q3hqkz3q</code>"
      ],
      "text/plain": [
       "<IPython.core.display.HTML object>"
      ]
     },
     "metadata": {},
     "output_type": "display_data"
    },
    {
     "data": {
      "text/html": [
       "Syncing run <strong><a href=\"https://wandb.ai/mrdbourke/test_wandb_artifacts_by_reference/runs/q3hqkz3q\" target=\"_blank\">incandescent-firecracker-333</a></strong> to <a href=\"https://wandb.ai/mrdbourke/test_wandb_artifacts_by_reference\" target=\"_blank\">Weights & Biases</a> (<a href=\"https://wandb.me/run\" target=\"_blank\">docs</a>)<br/>"
      ],
      "text/plain": [
       "<IPython.core.display.HTML object>"
      ]
     },
     "metadata": {},
     "output_type": "display_data"
    },
    {
     "data": {
      "text/html": [
       " View project at <a href=\"https://wandb.ai/mrdbourke/test_wandb_artifacts_by_reference\" target=\"_blank\">https://wandb.ai/mrdbourke/test_wandb_artifacts_by_reference</a>"
      ],
      "text/plain": [
       "<IPython.core.display.HTML object>"
      ]
     },
     "metadata": {},
     "output_type": "display_data"
    },
    {
     "data": {
      "text/html": [
       " View run at <a href=\"https://wandb.ai/mrdbourke/test_wandb_artifacts_by_reference/runs/q3hqkz3q\" target=\"_blank\">https://wandb.ai/mrdbourke/test_wandb_artifacts_by_reference/runs/q3hqkz3q</a>"
      ],
      "text/plain": [
       "<IPython.core.display.HTML object>"
      ]
     },
     "metadata": {},
     "output_type": "display_data"
    },
    {
     "name": "stderr",
     "output_type": "stream",
     "text": [
      "\u001b[34m\u001b[1mwandb\u001b[0m:   1 of 1 files downloaded.  \n"
     ]
    },
    {
     "name": "stdout",
     "output_type": "stream",
     "text": [
      "[INFO] Labels directory: ./artifacts/food_vision_labels:v16\n",
      "[INFO] Labels path: artifacts/food_vision_labels:v16/annotations.csv\n",
      "[INFO] Working with: 199 classes\n"
     ]
    }
   ],
   "source": [
    "import wandb\n",
    "\n",
    "# Initialize a new run\n",
    "from utils.wandb_utils import wandb_load_artifact, wandb_download_and_load_labels\n",
    "\n",
    "run = wandb.init(project=args.wandb_project, \n",
    "                 job_type=args.wandb_job_type,\n",
    "                 tags=['manual_photo_upload'],\n",
    "                 notes=\"add 658 manually taken photos to the training dataset\")\n",
    "\n",
    "annotations, class_names, class_dict, reverse_class_dict, labels_path = wandb_download_and_load_labels(wandb_run=run,\n",
    "wandb_labels_artifact_name=args.wandb_labels_artifact)"
   ]
  },
  {
   "cell_type": "code",
   "execution_count": 40,
   "metadata": {},
   "outputs": [],
   "source": [
    "# Make a copy of the annotations\n",
    "original_annotations = annotations.copy()"
   ]
  },
  {
   "cell_type": "code",
   "execution_count": 44,
   "metadata": {},
   "outputs": [
    {
     "data": {
      "text/plain": [
       "['filename',\n",
       " 'image_name',\n",
       " 'class_name',\n",
       " 'label',\n",
       " 'split',\n",
       " 'clear_or_confusing',\n",
       " 'whole_food_or_dish',\n",
       " 'one_food_or_multiple',\n",
       " 'label_last_updated_at',\n",
       " 'label_source',\n",
       " 'image_source']"
      ]
     },
     "execution_count": 44,
     "metadata": {},
     "output_type": "execute_result"
    }
   ],
   "source": [
    "# Get the columns of the annotations\n",
    "columns_to_create = list(original_annotations.columns)\n",
    "columns_to_create"
   ]
  },
  {
   "cell_type": "code",
   "execution_count": 43,
   "metadata": {},
   "outputs": [
    {
     "data": {
      "text/plain": [
       "658"
      ]
     },
     "execution_count": 43,
     "metadata": {},
     "output_type": "execute_result"
    }
   ],
   "source": [
    "# Get all the image paths from food_photos\n",
    "image_paths = list(Path('food_photos').glob('*/*.jpeg'))\n",
    "len(image_paths)"
   ]
  },
  {
   "cell_type": "code",
   "execution_count": 47,
   "metadata": {},
   "outputs": [
    {
     "data": {
      "text/html": [
       "<div>\n",
       "<style scoped>\n",
       "    .dataframe tbody tr th:only-of-type {\n",
       "        vertical-align: middle;\n",
       "    }\n",
       "\n",
       "    .dataframe tbody tr th {\n",
       "        vertical-align: top;\n",
       "    }\n",
       "\n",
       "    .dataframe thead th {\n",
       "        text-align: right;\n",
       "    }\n",
       "</style>\n",
       "<table border=\"1\" class=\"dataframe\">\n",
       "  <thead>\n",
       "    <tr style=\"text-align: right;\">\n",
       "      <th></th>\n",
       "      <th>filename</th>\n",
       "      <th>image_name</th>\n",
       "      <th>class_name</th>\n",
       "      <th>label</th>\n",
       "      <th>split</th>\n",
       "      <th>clear_or_confusing</th>\n",
       "      <th>whole_food_or_dish</th>\n",
       "      <th>one_food_or_multiple</th>\n",
       "      <th>label_last_updated_at</th>\n",
       "      <th>label_source</th>\n",
       "      <th>image_source</th>\n",
       "    </tr>\n",
       "  </thead>\n",
       "  <tbody>\n",
       "    <tr>\n",
       "      <th>0</th>\n",
       "      <td>food_photos/avocado/8739e2cb-7da9-4f86-9f6c-4a...</td>\n",
       "      <td>8739e2cb-7da9-4f86-9f6c-4ad91e62b496.jpeg</td>\n",
       "      <td>avocado</td>\n",
       "      <td>5</td>\n",
       "      <td>train</td>\n",
       "      <td>clear</td>\n",
       "      <td>whole_food</td>\n",
       "      <td>one_food</td>\n",
       "      <td>2023-02-01_11-14-22</td>\n",
       "      <td>manual_upload</td>\n",
       "      <td>manual_upload</td>\n",
       "    </tr>\n",
       "    <tr>\n",
       "      <th>1</th>\n",
       "      <td>food_photos/avocado/a90a0fd6-229a-4707-868f-95...</td>\n",
       "      <td>a90a0fd6-229a-4707-868f-95e4b6201b98.jpeg</td>\n",
       "      <td>avocado</td>\n",
       "      <td>5</td>\n",
       "      <td>train</td>\n",
       "      <td>clear</td>\n",
       "      <td>whole_food</td>\n",
       "      <td>one_food</td>\n",
       "      <td>2023-02-01_11-14-22</td>\n",
       "      <td>manual_upload</td>\n",
       "      <td>manual_upload</td>\n",
       "    </tr>\n",
       "    <tr>\n",
       "      <th>2</th>\n",
       "      <td>food_photos/avocado/3e77e6b6-2268-42bb-ae06-d7...</td>\n",
       "      <td>3e77e6b6-2268-42bb-ae06-d7b882699a00.jpeg</td>\n",
       "      <td>avocado</td>\n",
       "      <td>5</td>\n",
       "      <td>train</td>\n",
       "      <td>clear</td>\n",
       "      <td>whole_food</td>\n",
       "      <td>one_food</td>\n",
       "      <td>2023-02-01_11-14-22</td>\n",
       "      <td>manual_upload</td>\n",
       "      <td>manual_upload</td>\n",
       "    </tr>\n",
       "    <tr>\n",
       "      <th>3</th>\n",
       "      <td>food_photos/avocado/647914a7-285d-427f-8e89-0e...</td>\n",
       "      <td>647914a7-285d-427f-8e89-0ee17356fac0.jpeg</td>\n",
       "      <td>avocado</td>\n",
       "      <td>5</td>\n",
       "      <td>train</td>\n",
       "      <td>clear</td>\n",
       "      <td>whole_food</td>\n",
       "      <td>one_food</td>\n",
       "      <td>2023-02-01_11-14-22</td>\n",
       "      <td>manual_upload</td>\n",
       "      <td>manual_upload</td>\n",
       "    </tr>\n",
       "    <tr>\n",
       "      <th>4</th>\n",
       "      <td>food_photos/avocado/1fd4f434-0a0a-44a8-bc81-28...</td>\n",
       "      <td>1fd4f434-0a0a-44a8-bc81-280ae9710fcc.jpeg</td>\n",
       "      <td>avocado</td>\n",
       "      <td>5</td>\n",
       "      <td>train</td>\n",
       "      <td>clear</td>\n",
       "      <td>whole_food</td>\n",
       "      <td>one_food</td>\n",
       "      <td>2023-02-01_11-14-22</td>\n",
       "      <td>manual_upload</td>\n",
       "      <td>manual_upload</td>\n",
       "    </tr>\n",
       "  </tbody>\n",
       "</table>\n",
       "</div>"
      ],
      "text/plain": [
       "                                            filename  \\\n",
       "0  food_photos/avocado/8739e2cb-7da9-4f86-9f6c-4a...   \n",
       "1  food_photos/avocado/a90a0fd6-229a-4707-868f-95...   \n",
       "2  food_photos/avocado/3e77e6b6-2268-42bb-ae06-d7...   \n",
       "3  food_photos/avocado/647914a7-285d-427f-8e89-0e...   \n",
       "4  food_photos/avocado/1fd4f434-0a0a-44a8-bc81-28...   \n",
       "\n",
       "                                  image_name class_name  label  split  \\\n",
       "0  8739e2cb-7da9-4f86-9f6c-4ad91e62b496.jpeg    avocado      5  train   \n",
       "1  a90a0fd6-229a-4707-868f-95e4b6201b98.jpeg    avocado      5  train   \n",
       "2  3e77e6b6-2268-42bb-ae06-d7b882699a00.jpeg    avocado      5  train   \n",
       "3  647914a7-285d-427f-8e89-0ee17356fac0.jpeg    avocado      5  train   \n",
       "4  1fd4f434-0a0a-44a8-bc81-280ae9710fcc.jpeg    avocado      5  train   \n",
       "\n",
       "  clear_or_confusing whole_food_or_dish one_food_or_multiple  \\\n",
       "0              clear         whole_food             one_food   \n",
       "1              clear         whole_food             one_food   \n",
       "2              clear         whole_food             one_food   \n",
       "3              clear         whole_food             one_food   \n",
       "4              clear         whole_food             one_food   \n",
       "\n",
       "  label_last_updated_at   label_source   image_source  \n",
       "0   2023-02-01_11-14-22  manual_upload  manual_upload  \n",
       "1   2023-02-01_11-14-22  manual_upload  manual_upload  \n",
       "2   2023-02-01_11-14-22  manual_upload  manual_upload  \n",
       "3   2023-02-01_11-14-22  manual_upload  manual_upload  \n",
       "4   2023-02-01_11-14-22  manual_upload  manual_upload  "
      ]
     },
     "execution_count": 47,
     "metadata": {},
     "output_type": "execute_result"
    }
   ],
   "source": [
    "from utils.misc import get_now_time\n",
    "\n",
    "# Create a list of dictionaries and fill out the columns of the annotations\n",
    "columns = ['filename',\n",
    " 'image_name',\n",
    " 'class_name',\n",
    " 'label',\n",
    " 'split',\n",
    " 'clear_or_confusing',\n",
    " 'whole_food_or_dish',\n",
    " 'one_food_or_multiple',\n",
    " 'label_last_updated_at',\n",
    " 'label_source',\n",
    " 'image_source']\n",
    "\n",
    "food_image_dict_list = []\n",
    "for image_path in image_paths:\n",
    "    food_image_dict = {}\n",
    "    food_image_dict['filename'] = image_path\n",
    "    food_image_dict['image_name'] = image_path.name\n",
    "    food_image_dict['class_name'] = image_path.parent.name\n",
    "    food_image_dict['label'] = reverse_class_dict[image_path.parent.name]\n",
    "    food_image_dict['split'] = 'train'\n",
    "    food_image_dict['clear_or_confusing'] = 'clear'\n",
    "    food_image_dict['whole_food_or_dish'] = 'whole_food'\n",
    "    food_image_dict['one_food_or_multiple'] = 'one_food'\n",
    "    food_image_dict['label_last_updated_at'] = get_now_time()\n",
    "    food_image_dict['label_source'] = 'manual_upload'\n",
    "    food_image_dict['image_source'] = 'manual_upload'\n",
    "   \n",
    "    food_image_dict_list.append(food_image_dict)\n",
    "\n",
    "# Create a dataframe from the list of dictionaries\n",
    "import pandas as pd\n",
    "new_annotations = pd.DataFrame(food_image_dict_list)\n",
    "new_annotations.head()"
   ]
  },
  {
   "cell_type": "code",
   "execution_count": 48,
   "metadata": {},
   "outputs": [
    {
     "data": {
      "text/html": [
       "<div>\n",
       "<style scoped>\n",
       "    .dataframe tbody tr th:only-of-type {\n",
       "        vertical-align: middle;\n",
       "    }\n",
       "\n",
       "    .dataframe tbody tr th {\n",
       "        vertical-align: top;\n",
       "    }\n",
       "\n",
       "    .dataframe thead th {\n",
       "        text-align: right;\n",
       "    }\n",
       "</style>\n",
       "<table border=\"1\" class=\"dataframe\">\n",
       "  <thead>\n",
       "    <tr style=\"text-align: right;\">\n",
       "      <th></th>\n",
       "      <th>filename</th>\n",
       "      <th>image_name</th>\n",
       "      <th>class_name</th>\n",
       "      <th>label</th>\n",
       "      <th>split</th>\n",
       "      <th>clear_or_confusing</th>\n",
       "      <th>whole_food_or_dish</th>\n",
       "      <th>one_food_or_multiple</th>\n",
       "      <th>label_last_updated_at</th>\n",
       "      <th>label_source</th>\n",
       "      <th>image_source</th>\n",
       "    </tr>\n",
       "  </thead>\n",
       "  <tbody>\n",
       "    <tr>\n",
       "      <th>0</th>\n",
       "      <td>food_photos/avocado/8739e2cb-7da9-4f86-9f6c-4a...</td>\n",
       "      <td>8739e2cb-7da9-4f86-9f6c-4ad91e62b496.jpeg</td>\n",
       "      <td>avocado</td>\n",
       "      <td>5</td>\n",
       "      <td>train</td>\n",
       "      <td>clear</td>\n",
       "      <td>whole_food</td>\n",
       "      <td>one_food</td>\n",
       "      <td>2023-02-01_11-14-22</td>\n",
       "      <td>manual_upload</td>\n",
       "      <td>manual_upload</td>\n",
       "    </tr>\n",
       "    <tr>\n",
       "      <th>1</th>\n",
       "      <td>food_photos/avocado/a90a0fd6-229a-4707-868f-95...</td>\n",
       "      <td>a90a0fd6-229a-4707-868f-95e4b6201b98.jpeg</td>\n",
       "      <td>avocado</td>\n",
       "      <td>5</td>\n",
       "      <td>train</td>\n",
       "      <td>clear</td>\n",
       "      <td>whole_food</td>\n",
       "      <td>one_food</td>\n",
       "      <td>2023-02-01_11-14-22</td>\n",
       "      <td>manual_upload</td>\n",
       "      <td>manual_upload</td>\n",
       "    </tr>\n",
       "    <tr>\n",
       "      <th>2</th>\n",
       "      <td>food_photos/avocado/3e77e6b6-2268-42bb-ae06-d7...</td>\n",
       "      <td>3e77e6b6-2268-42bb-ae06-d7b882699a00.jpeg</td>\n",
       "      <td>avocado</td>\n",
       "      <td>5</td>\n",
       "      <td>train</td>\n",
       "      <td>clear</td>\n",
       "      <td>whole_food</td>\n",
       "      <td>one_food</td>\n",
       "      <td>2023-02-01_11-14-22</td>\n",
       "      <td>manual_upload</td>\n",
       "      <td>manual_upload</td>\n",
       "    </tr>\n",
       "    <tr>\n",
       "      <th>3</th>\n",
       "      <td>food_photos/avocado/647914a7-285d-427f-8e89-0e...</td>\n",
       "      <td>647914a7-285d-427f-8e89-0ee17356fac0.jpeg</td>\n",
       "      <td>avocado</td>\n",
       "      <td>5</td>\n",
       "      <td>train</td>\n",
       "      <td>clear</td>\n",
       "      <td>whole_food</td>\n",
       "      <td>one_food</td>\n",
       "      <td>2023-02-01_11-14-22</td>\n",
       "      <td>manual_upload</td>\n",
       "      <td>manual_upload</td>\n",
       "    </tr>\n",
       "    <tr>\n",
       "      <th>4</th>\n",
       "      <td>food_photos/avocado/1fd4f434-0a0a-44a8-bc81-28...</td>\n",
       "      <td>1fd4f434-0a0a-44a8-bc81-280ae9710fcc.jpeg</td>\n",
       "      <td>avocado</td>\n",
       "      <td>5</td>\n",
       "      <td>train</td>\n",
       "      <td>clear</td>\n",
       "      <td>whole_food</td>\n",
       "      <td>one_food</td>\n",
       "      <td>2023-02-01_11-14-22</td>\n",
       "      <td>manual_upload</td>\n",
       "      <td>manual_upload</td>\n",
       "    </tr>\n",
       "    <tr>\n",
       "      <th>...</th>\n",
       "      <td>...</td>\n",
       "      <td>...</td>\n",
       "      <td>...</td>\n",
       "      <td>...</td>\n",
       "      <td>...</td>\n",
       "      <td>...</td>\n",
       "      <td>...</td>\n",
       "      <td>...</td>\n",
       "      <td>...</td>\n",
       "      <td>...</td>\n",
       "      <td>...</td>\n",
       "    </tr>\n",
       "    <tr>\n",
       "      <th>653</th>\n",
       "      <td>food_photos/peach/bce7b593-13ff-42e0-bea3-4ad9...</td>\n",
       "      <td>bce7b593-13ff-42e0-bea3-4ad9bb727d30.jpeg</td>\n",
       "      <td>peach</td>\n",
       "      <td>129</td>\n",
       "      <td>train</td>\n",
       "      <td>clear</td>\n",
       "      <td>whole_food</td>\n",
       "      <td>one_food</td>\n",
       "      <td>2023-02-01_11-14-22</td>\n",
       "      <td>manual_upload</td>\n",
       "      <td>manual_upload</td>\n",
       "    </tr>\n",
       "    <tr>\n",
       "      <th>654</th>\n",
       "      <td>food_photos/peach/34a0f7d7-6520-405d-a05e-c22a...</td>\n",
       "      <td>34a0f7d7-6520-405d-a05e-c22a0e4916b1.jpeg</td>\n",
       "      <td>peach</td>\n",
       "      <td>129</td>\n",
       "      <td>train</td>\n",
       "      <td>clear</td>\n",
       "      <td>whole_food</td>\n",
       "      <td>one_food</td>\n",
       "      <td>2023-02-01_11-14-22</td>\n",
       "      <td>manual_upload</td>\n",
       "      <td>manual_upload</td>\n",
       "    </tr>\n",
       "    <tr>\n",
       "      <th>655</th>\n",
       "      <td>food_photos/peach/0e9ee994-4355-485a-b6ab-ca88...</td>\n",
       "      <td>0e9ee994-4355-485a-b6ab-ca88955e2bf7.jpeg</td>\n",
       "      <td>peach</td>\n",
       "      <td>129</td>\n",
       "      <td>train</td>\n",
       "      <td>clear</td>\n",
       "      <td>whole_food</td>\n",
       "      <td>one_food</td>\n",
       "      <td>2023-02-01_11-14-22</td>\n",
       "      <td>manual_upload</td>\n",
       "      <td>manual_upload</td>\n",
       "    </tr>\n",
       "    <tr>\n",
       "      <th>656</th>\n",
       "      <td>food_photos/peach/92cee889-cd88-4e09-b39a-dcfe...</td>\n",
       "      <td>92cee889-cd88-4e09-b39a-dcfebc503458.jpeg</td>\n",
       "      <td>peach</td>\n",
       "      <td>129</td>\n",
       "      <td>train</td>\n",
       "      <td>clear</td>\n",
       "      <td>whole_food</td>\n",
       "      <td>one_food</td>\n",
       "      <td>2023-02-01_11-14-22</td>\n",
       "      <td>manual_upload</td>\n",
       "      <td>manual_upload</td>\n",
       "    </tr>\n",
       "    <tr>\n",
       "      <th>657</th>\n",
       "      <td>food_photos/peach/855c9aa2-0302-4c72-94e3-c773...</td>\n",
       "      <td>855c9aa2-0302-4c72-94e3-c7734bb993a7.jpeg</td>\n",
       "      <td>peach</td>\n",
       "      <td>129</td>\n",
       "      <td>train</td>\n",
       "      <td>clear</td>\n",
       "      <td>whole_food</td>\n",
       "      <td>one_food</td>\n",
       "      <td>2023-02-01_11-14-22</td>\n",
       "      <td>manual_upload</td>\n",
       "      <td>manual_upload</td>\n",
       "    </tr>\n",
       "  </tbody>\n",
       "</table>\n",
       "<p>658 rows × 11 columns</p>\n",
       "</div>"
      ],
      "text/plain": [
       "                                              filename  \\\n",
       "0    food_photos/avocado/8739e2cb-7da9-4f86-9f6c-4a...   \n",
       "1    food_photos/avocado/a90a0fd6-229a-4707-868f-95...   \n",
       "2    food_photos/avocado/3e77e6b6-2268-42bb-ae06-d7...   \n",
       "3    food_photos/avocado/647914a7-285d-427f-8e89-0e...   \n",
       "4    food_photos/avocado/1fd4f434-0a0a-44a8-bc81-28...   \n",
       "..                                                 ...   \n",
       "653  food_photos/peach/bce7b593-13ff-42e0-bea3-4ad9...   \n",
       "654  food_photos/peach/34a0f7d7-6520-405d-a05e-c22a...   \n",
       "655  food_photos/peach/0e9ee994-4355-485a-b6ab-ca88...   \n",
       "656  food_photos/peach/92cee889-cd88-4e09-b39a-dcfe...   \n",
       "657  food_photos/peach/855c9aa2-0302-4c72-94e3-c773...   \n",
       "\n",
       "                                    image_name class_name  label  split  \\\n",
       "0    8739e2cb-7da9-4f86-9f6c-4ad91e62b496.jpeg    avocado      5  train   \n",
       "1    a90a0fd6-229a-4707-868f-95e4b6201b98.jpeg    avocado      5  train   \n",
       "2    3e77e6b6-2268-42bb-ae06-d7b882699a00.jpeg    avocado      5  train   \n",
       "3    647914a7-285d-427f-8e89-0ee17356fac0.jpeg    avocado      5  train   \n",
       "4    1fd4f434-0a0a-44a8-bc81-280ae9710fcc.jpeg    avocado      5  train   \n",
       "..                                         ...        ...    ...    ...   \n",
       "653  bce7b593-13ff-42e0-bea3-4ad9bb727d30.jpeg      peach    129  train   \n",
       "654  34a0f7d7-6520-405d-a05e-c22a0e4916b1.jpeg      peach    129  train   \n",
       "655  0e9ee994-4355-485a-b6ab-ca88955e2bf7.jpeg      peach    129  train   \n",
       "656  92cee889-cd88-4e09-b39a-dcfebc503458.jpeg      peach    129  train   \n",
       "657  855c9aa2-0302-4c72-94e3-c7734bb993a7.jpeg      peach    129  train   \n",
       "\n",
       "    clear_or_confusing whole_food_or_dish one_food_or_multiple  \\\n",
       "0                clear         whole_food             one_food   \n",
       "1                clear         whole_food             one_food   \n",
       "2                clear         whole_food             one_food   \n",
       "3                clear         whole_food             one_food   \n",
       "4                clear         whole_food             one_food   \n",
       "..                 ...                ...                  ...   \n",
       "653              clear         whole_food             one_food   \n",
       "654              clear         whole_food             one_food   \n",
       "655              clear         whole_food             one_food   \n",
       "656              clear         whole_food             one_food   \n",
       "657              clear         whole_food             one_food   \n",
       "\n",
       "    label_last_updated_at   label_source   image_source  \n",
       "0     2023-02-01_11-14-22  manual_upload  manual_upload  \n",
       "1     2023-02-01_11-14-22  manual_upload  manual_upload  \n",
       "2     2023-02-01_11-14-22  manual_upload  manual_upload  \n",
       "3     2023-02-01_11-14-22  manual_upload  manual_upload  \n",
       "4     2023-02-01_11-14-22  manual_upload  manual_upload  \n",
       "..                    ...            ...            ...  \n",
       "653   2023-02-01_11-14-22  manual_upload  manual_upload  \n",
       "654   2023-02-01_11-14-22  manual_upload  manual_upload  \n",
       "655   2023-02-01_11-14-22  manual_upload  manual_upload  \n",
       "656   2023-02-01_11-14-22  manual_upload  manual_upload  \n",
       "657   2023-02-01_11-14-22  manual_upload  manual_upload  \n",
       "\n",
       "[658 rows x 11 columns]"
      ]
     },
     "execution_count": 48,
     "metadata": {},
     "output_type": "execute_result"
    }
   ],
   "source": [
    "new_annotations"
   ]
  },
  {
   "cell_type": "code",
   "execution_count": 52,
   "metadata": {},
   "outputs": [
    {
     "data": {
      "text/plain": [
       "(23992, 658)"
      ]
     },
     "execution_count": 52,
     "metadata": {},
     "output_type": "execute_result"
    }
   ],
   "source": [
    "len(original_annotations), len(new_annotations)"
   ]
  },
  {
   "cell_type": "code",
   "execution_count": 53,
   "metadata": {},
   "outputs": [
    {
     "data": {
      "text/html": [
       "<div>\n",
       "<style scoped>\n",
       "    .dataframe tbody tr th:only-of-type {\n",
       "        vertical-align: middle;\n",
       "    }\n",
       "\n",
       "    .dataframe tbody tr th {\n",
       "        vertical-align: top;\n",
       "    }\n",
       "\n",
       "    .dataframe thead th {\n",
       "        text-align: right;\n",
       "    }\n",
       "</style>\n",
       "<table border=\"1\" class=\"dataframe\">\n",
       "  <thead>\n",
       "    <tr style=\"text-align: right;\">\n",
       "      <th></th>\n",
       "      <th>filename</th>\n",
       "      <th>image_name</th>\n",
       "      <th>class_name</th>\n",
       "      <th>label</th>\n",
       "      <th>split</th>\n",
       "      <th>clear_or_confusing</th>\n",
       "      <th>whole_food_or_dish</th>\n",
       "      <th>one_food_or_multiple</th>\n",
       "      <th>label_last_updated_at</th>\n",
       "      <th>label_source</th>\n",
       "      <th>image_source</th>\n",
       "    </tr>\n",
       "  </thead>\n",
       "  <tbody>\n",
       "    <tr>\n",
       "      <th>0</th>\n",
       "      <td>test/pain_au_chocolat/4fd7cb42-bd7f-48f1-bfdc-...</td>\n",
       "      <td>4fd7cb42-bd7f-48f1-bfdc-607c2f54b788.jpg</td>\n",
       "      <td>pain_au_chocolat</td>\n",
       "      <td>121</td>\n",
       "      <td>test</td>\n",
       "      <td>NaN</td>\n",
       "      <td>NaN</td>\n",
       "      <td>NaN</td>\n",
       "      <td>NaN</td>\n",
       "      <td>NaN</td>\n",
       "      <td>internet_download</td>\n",
       "    </tr>\n",
       "    <tr>\n",
       "      <th>1</th>\n",
       "      <td>test/pain_au_chocolat/2062f52a-781c-4e4f-b8a7-...</td>\n",
       "      <td>2062f52a-781c-4e4f-b8a7-0a108934f453.jpg</td>\n",
       "      <td>pain_au_chocolat</td>\n",
       "      <td>121</td>\n",
       "      <td>test</td>\n",
       "      <td>NaN</td>\n",
       "      <td>NaN</td>\n",
       "      <td>NaN</td>\n",
       "      <td>NaN</td>\n",
       "      <td>NaN</td>\n",
       "      <td>internet_download</td>\n",
       "    </tr>\n",
       "    <tr>\n",
       "      <th>2</th>\n",
       "      <td>test/pain_au_chocolat/8003e0f6-37e8-460d-9c14-...</td>\n",
       "      <td>8003e0f6-37e8-460d-9c14-e7c6fe44a37f.jpg</td>\n",
       "      <td>pain_au_chocolat</td>\n",
       "      <td>121</td>\n",
       "      <td>test</td>\n",
       "      <td>NaN</td>\n",
       "      <td>NaN</td>\n",
       "      <td>NaN</td>\n",
       "      <td>NaN</td>\n",
       "      <td>NaN</td>\n",
       "      <td>internet_download</td>\n",
       "    </tr>\n",
       "    <tr>\n",
       "      <th>3</th>\n",
       "      <td>test/pain_au_chocolat/839437c8-c643-408f-9f04-...</td>\n",
       "      <td>839437c8-c643-408f-9f04-d0d3bec238c3.jpg</td>\n",
       "      <td>pain_au_chocolat</td>\n",
       "      <td>121</td>\n",
       "      <td>test</td>\n",
       "      <td>NaN</td>\n",
       "      <td>NaN</td>\n",
       "      <td>NaN</td>\n",
       "      <td>NaN</td>\n",
       "      <td>NaN</td>\n",
       "      <td>internet_download</td>\n",
       "    </tr>\n",
       "    <tr>\n",
       "      <th>4</th>\n",
       "      <td>test/pain_au_chocolat/ca5c13ff-a535-4b69-9144-...</td>\n",
       "      <td>ca5c13ff-a535-4b69-9144-e06275e01e35.jpg</td>\n",
       "      <td>pain_au_chocolat</td>\n",
       "      <td>121</td>\n",
       "      <td>test</td>\n",
       "      <td>NaN</td>\n",
       "      <td>NaN</td>\n",
       "      <td>NaN</td>\n",
       "      <td>NaN</td>\n",
       "      <td>NaN</td>\n",
       "      <td>internet_download</td>\n",
       "    </tr>\n",
       "    <tr>\n",
       "      <th>...</th>\n",
       "      <td>...</td>\n",
       "      <td>...</td>\n",
       "      <td>...</td>\n",
       "      <td>...</td>\n",
       "      <td>...</td>\n",
       "      <td>...</td>\n",
       "      <td>...</td>\n",
       "      <td>...</td>\n",
       "      <td>...</td>\n",
       "      <td>...</td>\n",
       "      <td>...</td>\n",
       "    </tr>\n",
       "    <tr>\n",
       "      <th>24645</th>\n",
       "      <td>food_photos/peach/bce7b593-13ff-42e0-bea3-4ad9...</td>\n",
       "      <td>bce7b593-13ff-42e0-bea3-4ad9bb727d30.jpeg</td>\n",
       "      <td>peach</td>\n",
       "      <td>129</td>\n",
       "      <td>train</td>\n",
       "      <td>clear</td>\n",
       "      <td>whole_food</td>\n",
       "      <td>one_food</td>\n",
       "      <td>2023-02-01_11-14-22</td>\n",
       "      <td>manual_upload</td>\n",
       "      <td>manual_upload</td>\n",
       "    </tr>\n",
       "    <tr>\n",
       "      <th>24646</th>\n",
       "      <td>food_photos/peach/34a0f7d7-6520-405d-a05e-c22a...</td>\n",
       "      <td>34a0f7d7-6520-405d-a05e-c22a0e4916b1.jpeg</td>\n",
       "      <td>peach</td>\n",
       "      <td>129</td>\n",
       "      <td>train</td>\n",
       "      <td>clear</td>\n",
       "      <td>whole_food</td>\n",
       "      <td>one_food</td>\n",
       "      <td>2023-02-01_11-14-22</td>\n",
       "      <td>manual_upload</td>\n",
       "      <td>manual_upload</td>\n",
       "    </tr>\n",
       "    <tr>\n",
       "      <th>24647</th>\n",
       "      <td>food_photos/peach/0e9ee994-4355-485a-b6ab-ca88...</td>\n",
       "      <td>0e9ee994-4355-485a-b6ab-ca88955e2bf7.jpeg</td>\n",
       "      <td>peach</td>\n",
       "      <td>129</td>\n",
       "      <td>train</td>\n",
       "      <td>clear</td>\n",
       "      <td>whole_food</td>\n",
       "      <td>one_food</td>\n",
       "      <td>2023-02-01_11-14-22</td>\n",
       "      <td>manual_upload</td>\n",
       "      <td>manual_upload</td>\n",
       "    </tr>\n",
       "    <tr>\n",
       "      <th>24648</th>\n",
       "      <td>food_photos/peach/92cee889-cd88-4e09-b39a-dcfe...</td>\n",
       "      <td>92cee889-cd88-4e09-b39a-dcfebc503458.jpeg</td>\n",
       "      <td>peach</td>\n",
       "      <td>129</td>\n",
       "      <td>train</td>\n",
       "      <td>clear</td>\n",
       "      <td>whole_food</td>\n",
       "      <td>one_food</td>\n",
       "      <td>2023-02-01_11-14-22</td>\n",
       "      <td>manual_upload</td>\n",
       "      <td>manual_upload</td>\n",
       "    </tr>\n",
       "    <tr>\n",
       "      <th>24649</th>\n",
       "      <td>food_photos/peach/855c9aa2-0302-4c72-94e3-c773...</td>\n",
       "      <td>855c9aa2-0302-4c72-94e3-c7734bb993a7.jpeg</td>\n",
       "      <td>peach</td>\n",
       "      <td>129</td>\n",
       "      <td>train</td>\n",
       "      <td>clear</td>\n",
       "      <td>whole_food</td>\n",
       "      <td>one_food</td>\n",
       "      <td>2023-02-01_11-14-22</td>\n",
       "      <td>manual_upload</td>\n",
       "      <td>manual_upload</td>\n",
       "    </tr>\n",
       "  </tbody>\n",
       "</table>\n",
       "<p>24650 rows × 11 columns</p>\n",
       "</div>"
      ],
      "text/plain": [
       "                                                filename  \\\n",
       "0      test/pain_au_chocolat/4fd7cb42-bd7f-48f1-bfdc-...   \n",
       "1      test/pain_au_chocolat/2062f52a-781c-4e4f-b8a7-...   \n",
       "2      test/pain_au_chocolat/8003e0f6-37e8-460d-9c14-...   \n",
       "3      test/pain_au_chocolat/839437c8-c643-408f-9f04-...   \n",
       "4      test/pain_au_chocolat/ca5c13ff-a535-4b69-9144-...   \n",
       "...                                                  ...   \n",
       "24645  food_photos/peach/bce7b593-13ff-42e0-bea3-4ad9...   \n",
       "24646  food_photos/peach/34a0f7d7-6520-405d-a05e-c22a...   \n",
       "24647  food_photos/peach/0e9ee994-4355-485a-b6ab-ca88...   \n",
       "24648  food_photos/peach/92cee889-cd88-4e09-b39a-dcfe...   \n",
       "24649  food_photos/peach/855c9aa2-0302-4c72-94e3-c773...   \n",
       "\n",
       "                                      image_name        class_name  label  \\\n",
       "0       4fd7cb42-bd7f-48f1-bfdc-607c2f54b788.jpg  pain_au_chocolat    121   \n",
       "1       2062f52a-781c-4e4f-b8a7-0a108934f453.jpg  pain_au_chocolat    121   \n",
       "2       8003e0f6-37e8-460d-9c14-e7c6fe44a37f.jpg  pain_au_chocolat    121   \n",
       "3       839437c8-c643-408f-9f04-d0d3bec238c3.jpg  pain_au_chocolat    121   \n",
       "4       ca5c13ff-a535-4b69-9144-e06275e01e35.jpg  pain_au_chocolat    121   \n",
       "...                                          ...               ...    ...   \n",
       "24645  bce7b593-13ff-42e0-bea3-4ad9bb727d30.jpeg             peach    129   \n",
       "24646  34a0f7d7-6520-405d-a05e-c22a0e4916b1.jpeg             peach    129   \n",
       "24647  0e9ee994-4355-485a-b6ab-ca88955e2bf7.jpeg             peach    129   \n",
       "24648  92cee889-cd88-4e09-b39a-dcfebc503458.jpeg             peach    129   \n",
       "24649  855c9aa2-0302-4c72-94e3-c7734bb993a7.jpeg             peach    129   \n",
       "\n",
       "       split clear_or_confusing whole_food_or_dish one_food_or_multiple  \\\n",
       "0       test                NaN                NaN                  NaN   \n",
       "1       test                NaN                NaN                  NaN   \n",
       "2       test                NaN                NaN                  NaN   \n",
       "3       test                NaN                NaN                  NaN   \n",
       "4       test                NaN                NaN                  NaN   \n",
       "...      ...                ...                ...                  ...   \n",
       "24645  train              clear         whole_food             one_food   \n",
       "24646  train              clear         whole_food             one_food   \n",
       "24647  train              clear         whole_food             one_food   \n",
       "24648  train              clear         whole_food             one_food   \n",
       "24649  train              clear         whole_food             one_food   \n",
       "\n",
       "      label_last_updated_at   label_source       image_source  \n",
       "0                       NaN            NaN  internet_download  \n",
       "1                       NaN            NaN  internet_download  \n",
       "2                       NaN            NaN  internet_download  \n",
       "3                       NaN            NaN  internet_download  \n",
       "4                       NaN            NaN  internet_download  \n",
       "...                     ...            ...                ...  \n",
       "24645   2023-02-01_11-14-22  manual_upload      manual_upload  \n",
       "24646   2023-02-01_11-14-22  manual_upload      manual_upload  \n",
       "24647   2023-02-01_11-14-22  manual_upload      manual_upload  \n",
       "24648   2023-02-01_11-14-22  manual_upload      manual_upload  \n",
       "24649   2023-02-01_11-14-22  manual_upload      manual_upload  \n",
       "\n",
       "[24650 rows x 11 columns]"
      ]
     },
     "execution_count": 53,
     "metadata": {},
     "output_type": "execute_result"
    }
   ],
   "source": [
    "# Append the new_annotations to the original_annotations\n",
    "updated_annotations = pd.concat([original_annotations, new_annotations], ignore_index=True)\n",
    "# updated_annotations = original_annotations.(new_annotations, ignore_index=True)\n",
    "updated_annotations"
   ]
  },
  {
   "cell_type": "code",
   "execution_count": 60,
   "metadata": {},
   "outputs": [
    {
     "data": {
      "text/plain": [
       "658"
      ]
     },
     "execution_count": 60,
     "metadata": {},
     "output_type": "execute_result"
    }
   ],
   "source": [
    "# Check the difference in lengths between the original_annotations and updated_annotations\n",
    "num_differences = len(updated_annotations) - len(original_annotations)\n",
    "num_differences"
   ]
  },
  {
   "cell_type": "code",
   "execution_count": 66,
   "metadata": {},
   "outputs": [
    {
     "name": "stdout",
     "output_type": "stream",
     "text": [
      "[INFO] Exporting the following columns to updated_annotations.csv: ['filename', 'image_name', 'class_name', 'label', 'split', 'clear_or_confusing', 'whole_food_or_dish', 'one_food_or_multiple', 'label_last_updated_at', 'label_source', 'image_source']\n",
      "[INFO] 658 changes to annotations.csv, updated label files and original annotations are different, saving the updated annotations.csv\n",
      "[INFO] Uploading updated_annotations.csv to updated_annotations.csv...\n",
      "[INFO] Connected to Google Storage bucket: food_vision_bucket_with_object_versioning\n",
      "[INFO] File updated_annotations.csv uploaded to food_vision_bucket_with_object_versioning/updated_annotations.csv.\n",
      "[INFO] File size: 3516890 bytes\n",
      "[INFO] Blob annotations.csv has been renamed to old_annotations/2023-02-01_11-22-12_old_annotations.csv\n",
      "[INFO] Blob updated_annotations.csv has been renamed to annotations.csv\n",
      "[INFO] Logging 'food_vision_labels' from 'gs://food_vision_bucket_with_object_versioning/annotations.csv' to Weights & Biases...\n"
     ]
    }
   ],
   "source": [
    "# Upload the updated annotations to Google Storage and track the changes\n",
    "from utils.gcp_utils import upload_to_gs, rename_blob, delete_blob\n",
    "from utils.wandb_utils import wandb_add_artifact_with_reference\n",
    "from utils.misc import get_now_time\n",
    "import os\n",
    "\n",
    "GS_BUCKET_NAME = config.gs_bucket_name\n",
    "\n",
    "UPDATED_ANNOTATIONS_TARGET_FILENAME = \"updated_annotations.csv\"\n",
    "ORIGINAL_ANNOTATIONS_TARGET_FILENAME = \"annotations.csv\"\n",
    "\n",
    "# Export the updated annotations to a CSV\n",
    "columns_to_export = config.annotations_columns_to_export\n",
    "print(f\"[INFO] Exporting the following columns to {UPDATED_ANNOTATIONS_TARGET_FILENAME}: {columns_to_export}\")\n",
    "\n",
    "# TODO: Check if the updated_annotations_reset_index and the original_annotations actually differ, if so save them and upload them, else exit\n",
    "if num_differences > 0:\n",
    "    print(f\"[INFO] {num_differences} changes to annotations.csv, updated label files and original annotations are different, saving the updated annotations.csv\")\n",
    "\n",
    "    # Export the updated_annotations_reset_index to a csv\n",
    "    updated_annotations[columns_to_export].to_csv(UPDATED_ANNOTATIONS_TARGET_FILENAME, index=False)\n",
    "\n",
    "    # Upload the updated CSV to Google Storage\n",
    "    upload_to_gs(bucket_name=GS_BUCKET_NAME, \n",
    "                 source_file_name=UPDATED_ANNOTATIONS_TARGET_FILENAME, \n",
    "                 destination_blob_name=UPDATED_ANNOTATIONS_TARGET_FILENAME)\n",
    "\n",
    "    # Rename the old CSV on Google Storage\n",
    "    bucket_to_move_old_annotations_to = \"old_annotations\"\n",
    "    name_to_rename_old_annotations = os.path.join(bucket_to_move_old_annotations_to, f\"{get_now_time()}_old_annotations.csv\")\n",
    "\n",
    "    rename_blob(bucket_name=GS_BUCKET_NAME,\n",
    "                blob_name=ORIGINAL_ANNOTATIONS_TARGET_FILENAME,\n",
    "                new_name=name_to_rename_old_annotations)\n",
    "\n",
    "    # Rename the \"updated_annotations.csv\" on Google Storage to \"annotations.csv\" \n",
    "    rename_blob(bucket_name=GS_BUCKET_NAME,\n",
    "                blob_name=UPDATED_ANNOTATIONS_TARGET_FILENAME,\n",
    "                new_name=ORIGINAL_ANNOTATIONS_TARGET_FILENAME)\n",
    "\n",
    "    # Track the changes in the annotations with Weights & Biases\n",
    "    annotations_path_on_gcs = f\"gs://{GS_BUCKET_NAME}/{ORIGINAL_ANNOTATIONS_TARGET_FILENAME}\"\n",
    "    wandb_add_artifact_with_reference(wandb_run=run,\n",
    "                                      artifact_name=\"food_vision_labels\",\n",
    "                                      artifact_type=\"labels\",\n",
    "                                      description=\"Labels for FoodVision project\",\n",
    "                                      reference_path=annotations_path_on_gcs)\n",
    "else:\n",
    "    print(\"[INFO] No changes to annotations.csv, updated label files and original annotations are the same, try fixing/updating the label files via fix_labels.py and try again\")"
   ]
  },
  {
   "attachments": {},
   "cell_type": "markdown",
   "metadata": {},
   "source": [
    "## Upload all photos in food_photos to Google Storage"
   ]
  },
  {
   "cell_type": "code",
   "execution_count": 67,
   "metadata": {},
   "outputs": [
    {
     "name": "stdout",
     "output_type": "stream",
     "text": [
      "[INFO] There are 23992 images in the GCP bucket\n"
     ]
    }
   ],
   "source": [
    "from utils.gcp_utils import upload_to_gs, get_list_of_blobs\n",
    "\n",
    "# Get list of images already in GCP bucket\n",
    "gs_image_paths = get_list_of_blobs(bucket_name=GS_BUCKET_NAME, prefix=\"all_images\")\n",
    "print(f\"[INFO] There are {len(gs_image_paths)} images in the GCP bucket\")"
   ]
  },
  {
   "cell_type": "code",
   "execution_count": 70,
   "metadata": {},
   "outputs": [
    {
     "data": {
      "text/plain": [
       "['00045a69-b09f-4293-8c2e-a7ba27964fb6.jpg',\n",
       " '0009bea1-1577-4db5-bc60-b27eaed2d276.jpg',\n",
       " '000bd61c-f25c-415c-8cf1-3adc2d788320.jpg',\n",
       " '000cb663-06ac-4f96-8f9b-795cd05b5bcf.jpg',\n",
       " '000ec632-ee17-4988-9b32-8e4cb1421636.jpg',\n",
       " '0010ae4e-0879-4447-9610-e9d422caadd7.jpg',\n",
       " '0012b344-1bf9-421b-977e-d4ad8a6dcb7b.jpg',\n",
       " '00141b2a-0ed8-45b0-8823-8c0dbef3ac93.jpg',\n",
       " '0018f7dd-217b-478b-9858-289922cf9715.jpg',\n",
       " '00193056-355d-48dd-a132-746988022ea2.jpg']"
      ]
     },
     "execution_count": 70,
     "metadata": {},
     "output_type": "execute_result"
    }
   ],
   "source": [
    "gs_image_paths_name = [str(blob.name).split(\"/\")[-1] for blob in gs_image_paths]\n",
    "gs_image_paths_name[:10]"
   ]
  },
  {
   "cell_type": "code",
   "execution_count": 72,
   "metadata": {},
   "outputs": [
    {
     "name": "stdout",
     "output_type": "stream",
     "text": [
      "[INFO] Uploading food_photos/avocado/8739e2cb-7da9-4f86-9f6c-4ad91e62b496.jpeg to all_images/8739e2cb-7da9-4f86-9f6c-4ad91e62b496.jpeg...\n",
      "[INFO] Connected to Google Storage bucket: food_vision_bucket_with_object_versioning\n",
      "[INFO] File food_photos/avocado/8739e2cb-7da9-4f86-9f6c-4ad91e62b496.jpeg uploaded to food_vision_bucket_with_object_versioning/all_images/8739e2cb-7da9-4f86-9f6c-4ad91e62b496.jpeg.\n",
      "[INFO] File size: 2068824 bytes\n"
     ]
    },
    {
     "data": {
      "text/plain": [
       "'all_images/8739e2cb-7da9-4f86-9f6c-4ad91e62b496.jpeg'"
      ]
     },
     "execution_count": 72,
     "metadata": {},
     "output_type": "execute_result"
    }
   ],
   "source": [
    "# Test uploading of 1 image\n",
    "one_image = image_paths[0]\n",
    "\n",
    "# Upload the image to Google Storage\n",
    "upload_to_gs(bucket_name=GS_BUCKET_NAME,\n",
    "             source_file_name=one_image,\n",
    "             destination_blob_name=f\"all_images/{one_image.name}\")"
   ]
  },
  {
   "cell_type": "code",
   "execution_count": 73,
   "metadata": {},
   "outputs": [
    {
     "name": "stdout",
     "output_type": "stream",
     "text": [
      "[INFO] There are 23993 images in the GCP bucket\n"
     ]
    }
   ],
   "source": [
    "# Get list of images already in GCP bucket\n",
    "gs_image_paths = get_list_of_blobs(bucket_name=GS_BUCKET_NAME, prefix=\"all_images\")\n",
    "print(f\"[INFO] There are {len(gs_image_paths)} images in the GCP bucket\")"
   ]
  },
  {
   "cell_type": "code",
   "execution_count": 74,
   "metadata": {},
   "outputs": [
    {
     "data": {
      "text/plain": [
       "['00045a69-b09f-4293-8c2e-a7ba27964fb6.jpg',\n",
       " '0009bea1-1577-4db5-bc60-b27eaed2d276.jpg',\n",
       " '000bd61c-f25c-415c-8cf1-3adc2d788320.jpg',\n",
       " '000cb663-06ac-4f96-8f9b-795cd05b5bcf.jpg',\n",
       " '000ec632-ee17-4988-9b32-8e4cb1421636.jpg',\n",
       " '0010ae4e-0879-4447-9610-e9d422caadd7.jpg',\n",
       " '0012b344-1bf9-421b-977e-d4ad8a6dcb7b.jpg',\n",
       " '00141b2a-0ed8-45b0-8823-8c0dbef3ac93.jpg',\n",
       " '0018f7dd-217b-478b-9858-289922cf9715.jpg',\n",
       " '00193056-355d-48dd-a132-746988022ea2.jpg']"
      ]
     },
     "execution_count": 74,
     "metadata": {},
     "output_type": "execute_result"
    }
   ],
   "source": [
    "gs_image_paths_name = [str(blob.name).split(\"/\")[-1] for blob in gs_image_paths]\n",
    "gs_image_paths_name[:10]"
   ]
  },
  {
   "cell_type": "code",
   "execution_count": 75,
   "metadata": {},
   "outputs": [
    {
     "name": "stderr",
     "output_type": "stream",
     "text": [
      "  0%|          | 0/658 [00:00<?, ?it/s]"
     ]
    },
    {
     "name": "stdout",
     "output_type": "stream",
     "text": [
      "[INFO] Uploading food_photos/avocado/a90a0fd6-229a-4707-868f-95e4b6201b98.jpeg to all_images/a90a0fd6-229a-4707-868f-95e4b6201b98.jpeg...\n",
      "[INFO] Connected to Google Storage bucket: food_vision_bucket_with_object_versioning\n"
     ]
    },
    {
     "name": "stderr",
     "output_type": "stream",
     "text": [
      "  0%|          | 2/658 [00:01<09:41,  1.13it/s]"
     ]
    },
    {
     "name": "stdout",
     "output_type": "stream",
     "text": [
      "[INFO] File food_photos/avocado/a90a0fd6-229a-4707-868f-95e4b6201b98.jpeg uploaded to food_vision_bucket_with_object_versioning/all_images/a90a0fd6-229a-4707-868f-95e4b6201b98.jpeg.\n",
      "[INFO] File size: 1775189 bytes\n",
      "[INFO] Uploading food_photos/avocado/3e77e6b6-2268-42bb-ae06-d7b882699a00.jpeg to all_images/3e77e6b6-2268-42bb-ae06-d7b882699a00.jpeg...\n",
      "[INFO] Connected to Google Storage bucket: food_vision_bucket_with_object_versioning\n"
     ]
    },
    {
     "name": "stderr",
     "output_type": "stream",
     "text": [
      "  0%|          | 3/658 [00:05<23:20,  2.14s/it]"
     ]
    },
    {
     "name": "stdout",
     "output_type": "stream",
     "text": [
      "[INFO] File food_photos/avocado/3e77e6b6-2268-42bb-ae06-d7b882699a00.jpeg uploaded to food_vision_bucket_with_object_versioning/all_images/3e77e6b6-2268-42bb-ae06-d7b882699a00.jpeg.\n",
      "[INFO] File size: 2516657 bytes\n",
      "[INFO] Uploading food_photos/avocado/647914a7-285d-427f-8e89-0ee17356fac0.jpeg to all_images/647914a7-285d-427f-8e89-0ee17356fac0.jpeg...\n",
      "[INFO] Connected to Google Storage bucket: food_vision_bucket_with_object_versioning\n"
     ]
    },
    {
     "name": "stderr",
     "output_type": "stream",
     "text": [
      "  1%|          | 4/658 [00:08<26:17,  2.41s/it]"
     ]
    },
    {
     "name": "stdout",
     "output_type": "stream",
     "text": [
      "[INFO] File food_photos/avocado/647914a7-285d-427f-8e89-0ee17356fac0.jpeg uploaded to food_vision_bucket_with_object_versioning/all_images/647914a7-285d-427f-8e89-0ee17356fac0.jpeg.\n",
      "[INFO] File size: 1660153 bytes\n",
      "[INFO] Uploading food_photos/avocado/1fd4f434-0a0a-44a8-bc81-280ae9710fcc.jpeg to all_images/1fd4f434-0a0a-44a8-bc81-280ae9710fcc.jpeg...\n",
      "[INFO] Connected to Google Storage bucket: food_vision_bucket_with_object_versioning\n"
     ]
    },
    {
     "name": "stderr",
     "output_type": "stream",
     "text": [
      "  1%|          | 5/658 [00:11<29:19,  2.69s/it]"
     ]
    },
    {
     "name": "stdout",
     "output_type": "stream",
     "text": [
      "[INFO] File food_photos/avocado/1fd4f434-0a0a-44a8-bc81-280ae9710fcc.jpeg uploaded to food_vision_bucket_with_object_versioning/all_images/1fd4f434-0a0a-44a8-bc81-280ae9710fcc.jpeg.\n",
      "[INFO] File size: 2024824 bytes\n",
      "[INFO] Uploading food_photos/avocado/8d8e6204-3986-40de-96fe-469859871812.jpeg to all_images/8d8e6204-3986-40de-96fe-469859871812.jpeg...\n",
      "[INFO] Connected to Google Storage bucket: food_vision_bucket_with_object_versioning\n"
     ]
    },
    {
     "name": "stderr",
     "output_type": "stream",
     "text": [
      "  1%|          | 6/658 [00:13<26:54,  2.48s/it]"
     ]
    },
    {
     "name": "stdout",
     "output_type": "stream",
     "text": [
      "[INFO] File food_photos/avocado/8d8e6204-3986-40de-96fe-469859871812.jpeg uploaded to food_vision_bucket_with_object_versioning/all_images/8d8e6204-3986-40de-96fe-469859871812.jpeg.\n",
      "[INFO] File size: 1625343 bytes\n",
      "[INFO] Uploading food_photos/avocado/44b87eb1-8cfa-4963-a3c8-272767a32087.jpeg to all_images/44b87eb1-8cfa-4963-a3c8-272767a32087.jpeg...\n",
      "[INFO] Connected to Google Storage bucket: food_vision_bucket_with_object_versioning\n"
     ]
    },
    {
     "name": "stderr",
     "output_type": "stream",
     "text": [
      "  1%|          | 7/658 [00:16<26:00,  2.40s/it]"
     ]
    },
    {
     "name": "stdout",
     "output_type": "stream",
     "text": [
      "[INFO] File food_photos/avocado/44b87eb1-8cfa-4963-a3c8-272767a32087.jpeg uploaded to food_vision_bucket_with_object_versioning/all_images/44b87eb1-8cfa-4963-a3c8-272767a32087.jpeg.\n",
      "[INFO] File size: 1884404 bytes\n",
      "[INFO] Uploading food_photos/avocado/0bd39a39-96ba-4e50-8200-7ee905e5c735.jpeg to all_images/0bd39a39-96ba-4e50-8200-7ee905e5c735.jpeg...\n",
      "[INFO] Connected to Google Storage bucket: food_vision_bucket_with_object_versioning\n"
     ]
    },
    {
     "name": "stderr",
     "output_type": "stream",
     "text": [
      "  1%|          | 8/658 [00:19<28:52,  2.67s/it]"
     ]
    },
    {
     "name": "stdout",
     "output_type": "stream",
     "text": [
      "[INFO] File food_photos/avocado/0bd39a39-96ba-4e50-8200-7ee905e5c735.jpeg uploaded to food_vision_bucket_with_object_versioning/all_images/0bd39a39-96ba-4e50-8200-7ee905e5c735.jpeg.\n",
      "[INFO] File size: 2207752 bytes\n",
      "[INFO] Uploading food_photos/avocado/341ed89e-ce37-4de2-93a7-66d846125d30.jpeg to all_images/341ed89e-ce37-4de2-93a7-66d846125d30.jpeg...\n",
      "[INFO] Connected to Google Storage bucket: food_vision_bucket_with_object_versioning\n"
     ]
    },
    {
     "name": "stderr",
     "output_type": "stream",
     "text": [
      "  1%|▏         | 9/658 [00:21<26:24,  2.44s/it]"
     ]
    },
    {
     "name": "stdout",
     "output_type": "stream",
     "text": [
      "[INFO] File food_photos/avocado/341ed89e-ce37-4de2-93a7-66d846125d30.jpeg uploaded to food_vision_bucket_with_object_versioning/all_images/341ed89e-ce37-4de2-93a7-66d846125d30.jpeg.\n",
      "[INFO] File size: 2083929 bytes\n",
      "[INFO] Uploading food_photos/avocado/769c8ec4-54c3-4431-bbb2-d08e35dd0c7f.jpeg to all_images/769c8ec4-54c3-4431-bbb2-d08e35dd0c7f.jpeg...\n",
      "[INFO] Connected to Google Storage bucket: food_vision_bucket_with_object_versioning\n"
     ]
    },
    {
     "name": "stderr",
     "output_type": "stream",
     "text": [
      "  2%|▏         | 10/658 [00:23<25:06,  2.32s/it]"
     ]
    },
    {
     "name": "stdout",
     "output_type": "stream",
     "text": [
      "[INFO] File food_photos/avocado/769c8ec4-54c3-4431-bbb2-d08e35dd0c7f.jpeg uploaded to food_vision_bucket_with_object_versioning/all_images/769c8ec4-54c3-4431-bbb2-d08e35dd0c7f.jpeg.\n",
      "[INFO] File size: 1727257 bytes\n",
      "[INFO] Uploading food_photos/avocado/d29257b4-d46b-4c72-8a42-fb077a7f555e.jpeg to all_images/d29257b4-d46b-4c72-8a42-fb077a7f555e.jpeg...\n",
      "[INFO] Connected to Google Storage bucket: food_vision_bucket_with_object_versioning\n"
     ]
    },
    {
     "name": "stderr",
     "output_type": "stream",
     "text": [
      "  2%|▏         | 11/658 [00:25<24:52,  2.31s/it]"
     ]
    },
    {
     "name": "stdout",
     "output_type": "stream",
     "text": [
      "[INFO] File food_photos/avocado/d29257b4-d46b-4c72-8a42-fb077a7f555e.jpeg uploaded to food_vision_bucket_with_object_versioning/all_images/d29257b4-d46b-4c72-8a42-fb077a7f555e.jpeg.\n",
      "[INFO] File size: 1809080 bytes\n",
      "[INFO] Uploading food_photos/avocado/50958389-fde3-4165-8106-16cae18d61b1.jpeg to all_images/50958389-fde3-4165-8106-16cae18d61b1.jpeg...\n",
      "[INFO] Connected to Google Storage bucket: food_vision_bucket_with_object_versioning\n"
     ]
    },
    {
     "name": "stderr",
     "output_type": "stream",
     "text": [
      "  2%|▏         | 12/658 [00:27<25:00,  2.32s/it]"
     ]
    },
    {
     "name": "stdout",
     "output_type": "stream",
     "text": [
      "[INFO] File food_photos/avocado/50958389-fde3-4165-8106-16cae18d61b1.jpeg uploaded to food_vision_bucket_with_object_versioning/all_images/50958389-fde3-4165-8106-16cae18d61b1.jpeg.\n",
      "[INFO] File size: 2064466 bytes\n",
      "[INFO] Uploading food_photos/avocado/3050fc1e-9490-4573-86ff-adf308ef31ef.jpeg to all_images/3050fc1e-9490-4573-86ff-adf308ef31ef.jpeg...\n",
      "[INFO] Connected to Google Storage bucket: food_vision_bucket_with_object_versioning\n"
     ]
    },
    {
     "name": "stderr",
     "output_type": "stream",
     "text": [
      "  2%|▏         | 13/658 [00:29<22:15,  2.07s/it]"
     ]
    },
    {
     "name": "stdout",
     "output_type": "stream",
     "text": [
      "[INFO] File food_photos/avocado/3050fc1e-9490-4573-86ff-adf308ef31ef.jpeg uploaded to food_vision_bucket_with_object_versioning/all_images/3050fc1e-9490-4573-86ff-adf308ef31ef.jpeg.\n",
      "[INFO] File size: 1630157 bytes\n",
      "[INFO] Uploading food_photos/avocado/f396f488-da8e-47e9-acfd-c0ae3640b323.jpeg to all_images/f396f488-da8e-47e9-acfd-c0ae3640b323.jpeg...\n",
      "[INFO] Connected to Google Storage bucket: food_vision_bucket_with_object_versioning\n"
     ]
    },
    {
     "name": "stderr",
     "output_type": "stream",
     "text": [
      "  2%|▏         | 14/658 [00:32<24:55,  2.32s/it]"
     ]
    },
    {
     "name": "stdout",
     "output_type": "stream",
     "text": [
      "[INFO] File food_photos/avocado/f396f488-da8e-47e9-acfd-c0ae3640b323.jpeg uploaded to food_vision_bucket_with_object_versioning/all_images/f396f488-da8e-47e9-acfd-c0ae3640b323.jpeg.\n",
      "[INFO] File size: 2392523 bytes\n",
      "[INFO] Uploading food_photos/avocado/57015eea-a151-4b79-a2f3-cd1ec7dc1d4b.jpeg to all_images/57015eea-a151-4b79-a2f3-cd1ec7dc1d4b.jpeg...\n",
      "[INFO] Connected to Google Storage bucket: food_vision_bucket_with_object_versioning\n"
     ]
    },
    {
     "name": "stderr",
     "output_type": "stream",
     "text": [
      "  2%|▏         | 15/658 [00:34<26:01,  2.43s/it]"
     ]
    },
    {
     "name": "stdout",
     "output_type": "stream",
     "text": [
      "[INFO] File food_photos/avocado/57015eea-a151-4b79-a2f3-cd1ec7dc1d4b.jpeg uploaded to food_vision_bucket_with_object_versioning/all_images/57015eea-a151-4b79-a2f3-cd1ec7dc1d4b.jpeg.\n",
      "[INFO] File size: 2445515 bytes\n",
      "[INFO] Uploading food_photos/avocado/1288a8be-f34a-4b57-846f-96bef3ba9b86.jpeg to all_images/1288a8be-f34a-4b57-846f-96bef3ba9b86.jpeg...\n",
      "[INFO] Connected to Google Storage bucket: food_vision_bucket_with_object_versioning\n"
     ]
    },
    {
     "name": "stderr",
     "output_type": "stream",
     "text": [
      "  2%|▏         | 16/658 [00:36<23:44,  2.22s/it]"
     ]
    },
    {
     "name": "stdout",
     "output_type": "stream",
     "text": [
      "[INFO] File food_photos/avocado/1288a8be-f34a-4b57-846f-96bef3ba9b86.jpeg uploaded to food_vision_bucket_with_object_versioning/all_images/1288a8be-f34a-4b57-846f-96bef3ba9b86.jpeg.\n",
      "[INFO] File size: 2018323 bytes\n",
      "[INFO] Uploading food_photos/avocado/9139a083-96b4-4040-ab7f-b41a8478112f.jpeg to all_images/9139a083-96b4-4040-ab7f-b41a8478112f.jpeg...\n",
      "[INFO] Connected to Google Storage bucket: food_vision_bucket_with_object_versioning\n"
     ]
    },
    {
     "name": "stderr",
     "output_type": "stream",
     "text": [
      "  3%|▎         | 17/658 [00:40<27:58,  2.62s/it]"
     ]
    },
    {
     "name": "stdout",
     "output_type": "stream",
     "text": [
      "[INFO] File food_photos/avocado/9139a083-96b4-4040-ab7f-b41a8478112f.jpeg uploaded to food_vision_bucket_with_object_versioning/all_images/9139a083-96b4-4040-ab7f-b41a8478112f.jpeg.\n",
      "[INFO] File size: 3739244 bytes\n",
      "[INFO] Uploading food_photos/avocado/c71643ab-e52b-428f-be5a-a287f0bea292.jpeg to all_images/c71643ab-e52b-428f-be5a-a287f0bea292.jpeg...\n",
      "[INFO] Connected to Google Storage bucket: food_vision_bucket_with_object_versioning\n"
     ]
    },
    {
     "name": "stderr",
     "output_type": "stream",
     "text": [
      "  3%|▎         | 18/658 [00:43<30:25,  2.85s/it]"
     ]
    },
    {
     "name": "stdout",
     "output_type": "stream",
     "text": [
      "[INFO] File food_photos/avocado/c71643ab-e52b-428f-be5a-a287f0bea292.jpeg uploaded to food_vision_bucket_with_object_versioning/all_images/c71643ab-e52b-428f-be5a-a287f0bea292.jpeg.\n",
      "[INFO] File size: 2482741 bytes\n",
      "[INFO] Uploading food_photos/avocado/c3333275-8834-4822-bcc9-9bd588301fb6.jpeg to all_images/c3333275-8834-4822-bcc9-9bd588301fb6.jpeg...\n",
      "[INFO] Connected to Google Storage bucket: food_vision_bucket_with_object_versioning\n"
     ]
    },
    {
     "name": "stderr",
     "output_type": "stream",
     "text": [
      "  3%|▎         | 19/658 [00:45<26:55,  2.53s/it]"
     ]
    },
    {
     "name": "stdout",
     "output_type": "stream",
     "text": [
      "[INFO] File food_photos/avocado/c3333275-8834-4822-bcc9-9bd588301fb6.jpeg uploaded to food_vision_bucket_with_object_versioning/all_images/c3333275-8834-4822-bcc9-9bd588301fb6.jpeg.\n",
      "[INFO] File size: 1891249 bytes\n",
      "[INFO] Uploading food_photos/avocado/4c72edfa-713c-432b-bd29-98f77e309d24.jpeg to all_images/4c72edfa-713c-432b-bd29-98f77e309d24.jpeg...\n",
      "[INFO] Connected to Google Storage bucket: food_vision_bucket_with_object_versioning\n"
     ]
    },
    {
     "name": "stderr",
     "output_type": "stream",
     "text": [
      "  3%|▎         | 20/658 [00:47<25:11,  2.37s/it]"
     ]
    },
    {
     "name": "stdout",
     "output_type": "stream",
     "text": [
      "[INFO] File food_photos/avocado/4c72edfa-713c-432b-bd29-98f77e309d24.jpeg uploaded to food_vision_bucket_with_object_versioning/all_images/4c72edfa-713c-432b-bd29-98f77e309d24.jpeg.\n",
      "[INFO] File size: 2062912 bytes\n",
      "[INFO] Uploading food_photos/avocado/d9858e2d-16be-40cd-90c4-8e52d68f004d.jpeg to all_images/d9858e2d-16be-40cd-90c4-8e52d68f004d.jpeg...\n",
      "[INFO] Connected to Google Storage bucket: food_vision_bucket_with_object_versioning\n"
     ]
    },
    {
     "name": "stderr",
     "output_type": "stream",
     "text": [
      "  3%|▎         | 21/658 [00:49<22:52,  2.15s/it]"
     ]
    },
    {
     "name": "stdout",
     "output_type": "stream",
     "text": [
      "[INFO] File food_photos/avocado/d9858e2d-16be-40cd-90c4-8e52d68f004d.jpeg uploaded to food_vision_bucket_with_object_versioning/all_images/d9858e2d-16be-40cd-90c4-8e52d68f004d.jpeg.\n",
      "[INFO] File size: 1936340 bytes\n",
      "[INFO] Uploading food_photos/avocado/e4f9b402-9c2c-4bb0-b23d-f2abd92dcd5b.jpeg to all_images/e4f9b402-9c2c-4bb0-b23d-f2abd92dcd5b.jpeg...\n",
      "[INFO] Connected to Google Storage bucket: food_vision_bucket_with_object_versioning\n"
     ]
    },
    {
     "name": "stderr",
     "output_type": "stream",
     "text": [
      "  3%|▎         | 22/658 [00:52<25:57,  2.45s/it]"
     ]
    },
    {
     "name": "stdout",
     "output_type": "stream",
     "text": [
      "[INFO] File food_photos/avocado/e4f9b402-9c2c-4bb0-b23d-f2abd92dcd5b.jpeg uploaded to food_vision_bucket_with_object_versioning/all_images/e4f9b402-9c2c-4bb0-b23d-f2abd92dcd5b.jpeg.\n",
      "[INFO] File size: 2125903 bytes\n",
      "[INFO] Uploading food_photos/avocado/5f1a90df-d0a6-4dcc-993e-9637b2708338.jpeg to all_images/5f1a90df-d0a6-4dcc-993e-9637b2708338.jpeg...\n",
      "[INFO] Connected to Google Storage bucket: food_vision_bucket_with_object_versioning\n"
     ]
    },
    {
     "name": "stderr",
     "output_type": "stream",
     "text": [
      "  3%|▎         | 23/658 [00:55<29:39,  2.80s/it]"
     ]
    },
    {
     "name": "stdout",
     "output_type": "stream",
     "text": [
      "[INFO] File food_photos/avocado/5f1a90df-d0a6-4dcc-993e-9637b2708338.jpeg uploaded to food_vision_bucket_with_object_versioning/all_images/5f1a90df-d0a6-4dcc-993e-9637b2708338.jpeg.\n",
      "[INFO] File size: 3154207 bytes\n",
      "[INFO] Uploading food_photos/avocado/1b9339f6-2742-4b35-a5cd-9a5dc407dfe4.jpeg to all_images/1b9339f6-2742-4b35-a5cd-9a5dc407dfe4.jpeg...\n",
      "[INFO] Connected to Google Storage bucket: food_vision_bucket_with_object_versioning\n"
     ]
    },
    {
     "name": "stderr",
     "output_type": "stream",
     "text": [
      "  4%|▎         | 24/658 [00:59<31:26,  2.98s/it]"
     ]
    },
    {
     "name": "stdout",
     "output_type": "stream",
     "text": [
      "[INFO] File food_photos/avocado/1b9339f6-2742-4b35-a5cd-9a5dc407dfe4.jpeg uploaded to food_vision_bucket_with_object_versioning/all_images/1b9339f6-2742-4b35-a5cd-9a5dc407dfe4.jpeg.\n",
      "[INFO] File size: 2836657 bytes\n",
      "[INFO] Uploading food_photos/avocado/d414554f-439a-4792-875a-0c2462bd4e10.jpeg to all_images/d414554f-439a-4792-875a-0c2462bd4e10.jpeg...\n",
      "[INFO] Connected to Google Storage bucket: food_vision_bucket_with_object_versioning\n"
     ]
    },
    {
     "name": "stderr",
     "output_type": "stream",
     "text": [
      "  4%|▍         | 25/658 [01:01<28:12,  2.67s/it]"
     ]
    },
    {
     "name": "stdout",
     "output_type": "stream",
     "text": [
      "[INFO] File food_photos/avocado/d414554f-439a-4792-875a-0c2462bd4e10.jpeg uploaded to food_vision_bucket_with_object_versioning/all_images/d414554f-439a-4792-875a-0c2462bd4e10.jpeg.\n",
      "[INFO] File size: 1720979 bytes\n",
      "[INFO] Uploading food_photos/avocado/554e2764-fdf5-4ad8-8995-b6fd418fb041.jpeg to all_images/554e2764-fdf5-4ad8-8995-b6fd418fb041.jpeg...\n",
      "[INFO] Connected to Google Storage bucket: food_vision_bucket_with_object_versioning\n"
     ]
    },
    {
     "name": "stderr",
     "output_type": "stream",
     "text": [
      "  4%|▍         | 26/658 [01:04<29:00,  2.75s/it]"
     ]
    },
    {
     "name": "stdout",
     "output_type": "stream",
     "text": [
      "[INFO] File food_photos/avocado/554e2764-fdf5-4ad8-8995-b6fd418fb041.jpeg uploaded to food_vision_bucket_with_object_versioning/all_images/554e2764-fdf5-4ad8-8995-b6fd418fb041.jpeg.\n",
      "[INFO] File size: 1970041 bytes\n",
      "[INFO] Uploading food_photos/avocado/cb890db6-17eb-44ca-a2c8-670e6928ed65.jpeg to all_images/cb890db6-17eb-44ca-a2c8-670e6928ed65.jpeg...\n",
      "[INFO] Connected to Google Storage bucket: food_vision_bucket_with_object_versioning\n"
     ]
    },
    {
     "name": "stderr",
     "output_type": "stream",
     "text": [
      "  4%|▍         | 27/658 [01:06<26:38,  2.53s/it]"
     ]
    },
    {
     "name": "stdout",
     "output_type": "stream",
     "text": [
      "[INFO] File food_photos/avocado/cb890db6-17eb-44ca-a2c8-670e6928ed65.jpeg uploaded to food_vision_bucket_with_object_versioning/all_images/cb890db6-17eb-44ca-a2c8-670e6928ed65.jpeg.\n",
      "[INFO] File size: 2042845 bytes\n",
      "[INFO] Uploading food_photos/avocado/f42ba97e-6e0d-4976-a4e4-ff56f89bdfa0.jpeg to all_images/f42ba97e-6e0d-4976-a4e4-ff56f89bdfa0.jpeg...\n",
      "[INFO] Connected to Google Storage bucket: food_vision_bucket_with_object_versioning\n"
     ]
    },
    {
     "name": "stderr",
     "output_type": "stream",
     "text": [
      "  4%|▍         | 28/658 [01:10<33:23,  3.18s/it]"
     ]
    },
    {
     "name": "stdout",
     "output_type": "stream",
     "text": [
      "[INFO] File food_photos/avocado/f42ba97e-6e0d-4976-a4e4-ff56f89bdfa0.jpeg uploaded to food_vision_bucket_with_object_versioning/all_images/f42ba97e-6e0d-4976-a4e4-ff56f89bdfa0.jpeg.\n",
      "[INFO] File size: 3250326 bytes\n",
      "[INFO] Uploading food_photos/avocado/ebf8d230-e92e-4f72-8f41-538680d45e66.jpeg to all_images/ebf8d230-e92e-4f72-8f41-538680d45e66.jpeg...\n",
      "[INFO] Connected to Google Storage bucket: food_vision_bucket_with_object_versioning\n"
     ]
    },
    {
     "name": "stderr",
     "output_type": "stream",
     "text": [
      "  4%|▍         | 29/658 [01:14<33:54,  3.23s/it]"
     ]
    },
    {
     "name": "stdout",
     "output_type": "stream",
     "text": [
      "[INFO] File food_photos/avocado/ebf8d230-e92e-4f72-8f41-538680d45e66.jpeg uploaded to food_vision_bucket_with_object_versioning/all_images/ebf8d230-e92e-4f72-8f41-538680d45e66.jpeg.\n",
      "[INFO] File size: 2338255 bytes\n",
      "[INFO] Uploading food_photos/avocado/95c89305-e6d7-4cc2-b002-2b4fde5493da.jpeg to all_images/95c89305-e6d7-4cc2-b002-2b4fde5493da.jpeg...\n",
      "[INFO] Connected to Google Storage bucket: food_vision_bucket_with_object_versioning\n"
     ]
    },
    {
     "name": "stderr",
     "output_type": "stream",
     "text": [
      "  5%|▍         | 30/658 [01:17<34:55,  3.34s/it]"
     ]
    },
    {
     "name": "stdout",
     "output_type": "stream",
     "text": [
      "[INFO] File food_photos/avocado/95c89305-e6d7-4cc2-b002-2b4fde5493da.jpeg uploaded to food_vision_bucket_with_object_versioning/all_images/95c89305-e6d7-4cc2-b002-2b4fde5493da.jpeg.\n",
      "[INFO] File size: 2197928 bytes\n",
      "[INFO] Uploading food_photos/avocado/bd80fc8c-5232-4f7d-8424-62202831bde2.jpeg to all_images/bd80fc8c-5232-4f7d-8424-62202831bde2.jpeg...\n",
      "[INFO] Connected to Google Storage bucket: food_vision_bucket_with_object_versioning\n"
     ]
    },
    {
     "name": "stderr",
     "output_type": "stream",
     "text": [
      "  5%|▍         | 31/658 [01:21<35:23,  3.39s/it]"
     ]
    },
    {
     "name": "stdout",
     "output_type": "stream",
     "text": [
      "[INFO] File food_photos/avocado/bd80fc8c-5232-4f7d-8424-62202831bde2.jpeg uploaded to food_vision_bucket_with_object_versioning/all_images/bd80fc8c-5232-4f7d-8424-62202831bde2.jpeg.\n",
      "[INFO] File size: 2200442 bytes\n",
      "[INFO] Uploading food_photos/avocado/5cb36793-e390-47de-99c4-c27a247d9b7a.jpeg to all_images/5cb36793-e390-47de-99c4-c27a247d9b7a.jpeg...\n",
      "[INFO] Connected to Google Storage bucket: food_vision_bucket_with_object_versioning\n"
     ]
    },
    {
     "name": "stderr",
     "output_type": "stream",
     "text": [
      "  5%|▍         | 32/658 [01:24<34:30,  3.31s/it]"
     ]
    },
    {
     "name": "stdout",
     "output_type": "stream",
     "text": [
      "[INFO] File food_photos/avocado/5cb36793-e390-47de-99c4-c27a247d9b7a.jpeg uploaded to food_vision_bucket_with_object_versioning/all_images/5cb36793-e390-47de-99c4-c27a247d9b7a.jpeg.\n",
      "[INFO] File size: 2234645 bytes\n",
      "[INFO] Uploading food_photos/avocado/942a6aac-bd9f-4b6d-a822-ddccdc9cde09.jpeg to all_images/942a6aac-bd9f-4b6d-a822-ddccdc9cde09.jpeg...\n",
      "[INFO] Connected to Google Storage bucket: food_vision_bucket_with_object_versioning\n"
     ]
    },
    {
     "name": "stderr",
     "output_type": "stream",
     "text": [
      "  5%|▌         | 33/658 [01:25<29:05,  2.79s/it]"
     ]
    },
    {
     "name": "stdout",
     "output_type": "stream",
     "text": [
      "[INFO] File food_photos/avocado/942a6aac-bd9f-4b6d-a822-ddccdc9cde09.jpeg uploaded to food_vision_bucket_with_object_versioning/all_images/942a6aac-bd9f-4b6d-a822-ddccdc9cde09.jpeg.\n",
      "[INFO] File size: 1755940 bytes\n",
      "[INFO] Uploading food_photos/avocado/a36e70ae-6678-4076-84e2-63672429c858.jpeg to all_images/a36e70ae-6678-4076-84e2-63672429c858.jpeg...\n",
      "[INFO] Connected to Google Storage bucket: food_vision_bucket_with_object_versioning\n"
     ]
    },
    {
     "name": "stderr",
     "output_type": "stream",
     "text": [
      "  5%|▌         | 34/658 [01:29<30:45,  2.96s/it]"
     ]
    },
    {
     "name": "stdout",
     "output_type": "stream",
     "text": [
      "[INFO] File food_photos/avocado/a36e70ae-6678-4076-84e2-63672429c858.jpeg uploaded to food_vision_bucket_with_object_versioning/all_images/a36e70ae-6678-4076-84e2-63672429c858.jpeg.\n",
      "[INFO] File size: 2771152 bytes\n",
      "[INFO] Uploading food_photos/avocado/5dcddd4e-699f-47d3-aaf8-2c70338e7323.jpeg to all_images/5dcddd4e-699f-47d3-aaf8-2c70338e7323.jpeg...\n",
      "[INFO] Connected to Google Storage bucket: food_vision_bucket_with_object_versioning\n"
     ]
    },
    {
     "name": "stderr",
     "output_type": "stream",
     "text": [
      "  5%|▌         | 35/658 [01:32<31:25,  3.03s/it]"
     ]
    },
    {
     "name": "stdout",
     "output_type": "stream",
     "text": [
      "[INFO] File food_photos/avocado/5dcddd4e-699f-47d3-aaf8-2c70338e7323.jpeg uploaded to food_vision_bucket_with_object_versioning/all_images/5dcddd4e-699f-47d3-aaf8-2c70338e7323.jpeg.\n",
      "[INFO] File size: 2298693 bytes\n",
      "[INFO] Uploading food_photos/avocado/22b14e7d-4b91-433b-9e60-fcd209c0a3e6.jpeg to all_images/22b14e7d-4b91-433b-9e60-fcd209c0a3e6.jpeg...\n",
      "[INFO] Connected to Google Storage bucket: food_vision_bucket_with_object_versioning\n"
     ]
    },
    {
     "name": "stderr",
     "output_type": "stream",
     "text": [
      "  5%|▌         | 36/658 [01:35<31:36,  3.05s/it]"
     ]
    },
    {
     "name": "stdout",
     "output_type": "stream",
     "text": [
      "[INFO] File food_photos/avocado/22b14e7d-4b91-433b-9e60-fcd209c0a3e6.jpeg uploaded to food_vision_bucket_with_object_versioning/all_images/22b14e7d-4b91-433b-9e60-fcd209c0a3e6.jpeg.\n",
      "[INFO] File size: 2602422 bytes\n",
      "[INFO] Uploading food_photos/avocado/dc65163e-e2be-48e4-ba75-795c3aa93705.jpeg to all_images/dc65163e-e2be-48e4-ba75-795c3aa93705.jpeg...\n",
      "[INFO] Connected to Google Storage bucket: food_vision_bucket_with_object_versioning\n"
     ]
    },
    {
     "name": "stderr",
     "output_type": "stream",
     "text": [
      "  6%|▌         | 37/658 [01:37<28:31,  2.76s/it]"
     ]
    },
    {
     "name": "stdout",
     "output_type": "stream",
     "text": [
      "[INFO] File food_photos/avocado/dc65163e-e2be-48e4-ba75-795c3aa93705.jpeg uploaded to food_vision_bucket_with_object_versioning/all_images/dc65163e-e2be-48e4-ba75-795c3aa93705.jpeg.\n",
      "[INFO] File size: 2048316 bytes\n",
      "[INFO] Uploading food_photos/avocado/fa24bdae-4a7b-4dcc-9d34-b4cf6551f9fb.jpeg to all_images/fa24bdae-4a7b-4dcc-9d34-b4cf6551f9fb.jpeg...\n",
      "[INFO] Connected to Google Storage bucket: food_vision_bucket_with_object_versioning\n"
     ]
    },
    {
     "name": "stderr",
     "output_type": "stream",
     "text": [
      "  6%|▌         | 38/658 [01:39<24:59,  2.42s/it]"
     ]
    },
    {
     "name": "stdout",
     "output_type": "stream",
     "text": [
      "[INFO] File food_photos/avocado/fa24bdae-4a7b-4dcc-9d34-b4cf6551f9fb.jpeg uploaded to food_vision_bucket_with_object_versioning/all_images/fa24bdae-4a7b-4dcc-9d34-b4cf6551f9fb.jpeg.\n",
      "[INFO] File size: 1582257 bytes\n",
      "[INFO] Uploading food_photos/avocado/90c6d878-28bc-44e9-82bc-ecda940566a7.jpeg to all_images/90c6d878-28bc-44e9-82bc-ecda940566a7.jpeg...\n",
      "[INFO] Connected to Google Storage bucket: food_vision_bucket_with_object_versioning\n"
     ]
    },
    {
     "name": "stderr",
     "output_type": "stream",
     "text": [
      "  6%|▌         | 39/658 [01:41<23:31,  2.28s/it]"
     ]
    },
    {
     "name": "stdout",
     "output_type": "stream",
     "text": [
      "[INFO] File food_photos/avocado/90c6d878-28bc-44e9-82bc-ecda940566a7.jpeg uploaded to food_vision_bucket_with_object_versioning/all_images/90c6d878-28bc-44e9-82bc-ecda940566a7.jpeg.\n",
      "[INFO] File size: 2086569 bytes\n",
      "[INFO] Uploading food_photos/avocado/8d342c74-31ec-4756-8ea7-7b6a48834d9c.jpeg to all_images/8d342c74-31ec-4756-8ea7-7b6a48834d9c.jpeg...\n",
      "[INFO] Connected to Google Storage bucket: food_vision_bucket_with_object_versioning\n"
     ]
    },
    {
     "name": "stderr",
     "output_type": "stream",
     "text": [
      "  6%|▌         | 40/658 [01:44<25:56,  2.52s/it]"
     ]
    },
    {
     "name": "stdout",
     "output_type": "stream",
     "text": [
      "[INFO] File food_photos/avocado/8d342c74-31ec-4756-8ea7-7b6a48834d9c.jpeg uploaded to food_vision_bucket_with_object_versioning/all_images/8d342c74-31ec-4756-8ea7-7b6a48834d9c.jpeg.\n",
      "[INFO] File size: 2470370 bytes\n",
      "[INFO] Uploading food_photos/avocado/b0033752-2dd0-4e89-b47d-4c7fcad9c912.jpeg to all_images/b0033752-2dd0-4e89-b47d-4c7fcad9c912.jpeg...\n",
      "[INFO] Connected to Google Storage bucket: food_vision_bucket_with_object_versioning\n"
     ]
    },
    {
     "name": "stderr",
     "output_type": "stream",
     "text": [
      "  6%|▌         | 41/658 [01:46<24:21,  2.37s/it]"
     ]
    },
    {
     "name": "stdout",
     "output_type": "stream",
     "text": [
      "[INFO] File food_photos/avocado/b0033752-2dd0-4e89-b47d-4c7fcad9c912.jpeg uploaded to food_vision_bucket_with_object_versioning/all_images/b0033752-2dd0-4e89-b47d-4c7fcad9c912.jpeg.\n",
      "[INFO] File size: 2064888 bytes\n",
      "[INFO] Uploading food_photos/avocado/766b63c0-fe62-474b-b316-6dc1e40ecfd2.jpeg to all_images/766b63c0-fe62-474b-b316-6dc1e40ecfd2.jpeg...\n",
      "[INFO] Connected to Google Storage bucket: food_vision_bucket_with_object_versioning\n"
     ]
    },
    {
     "name": "stderr",
     "output_type": "stream",
     "text": [
      "  6%|▋         | 42/658 [01:49<25:24,  2.47s/it]"
     ]
    },
    {
     "name": "stdout",
     "output_type": "stream",
     "text": [
      "[INFO] File food_photos/avocado/766b63c0-fe62-474b-b316-6dc1e40ecfd2.jpeg uploaded to food_vision_bucket_with_object_versioning/all_images/766b63c0-fe62-474b-b316-6dc1e40ecfd2.jpeg.\n",
      "[INFO] File size: 2609664 bytes\n",
      "[INFO] Uploading food_photos/avocado/d8277779-ad30-4ecc-a9e5-132cfcc459e6.jpeg to all_images/d8277779-ad30-4ecc-a9e5-132cfcc459e6.jpeg...\n",
      "[INFO] Connected to Google Storage bucket: food_vision_bucket_with_object_versioning\n"
     ]
    },
    {
     "name": "stderr",
     "output_type": "stream",
     "text": [
      "  7%|▋         | 43/658 [01:50<23:23,  2.28s/it]"
     ]
    },
    {
     "name": "stdout",
     "output_type": "stream",
     "text": [
      "[INFO] File food_photos/avocado/d8277779-ad30-4ecc-a9e5-132cfcc459e6.jpeg uploaded to food_vision_bucket_with_object_versioning/all_images/d8277779-ad30-4ecc-a9e5-132cfcc459e6.jpeg.\n",
      "[INFO] File size: 1823643 bytes\n",
      "[INFO] Uploading food_photos/avocado/0af12764-d5f1-4815-ae41-8328fb63dd79.jpeg to all_images/0af12764-d5f1-4815-ae41-8328fb63dd79.jpeg...\n",
      "[INFO] Connected to Google Storage bucket: food_vision_bucket_with_object_versioning\n"
     ]
    },
    {
     "name": "stderr",
     "output_type": "stream",
     "text": [
      "  7%|▋         | 44/658 [01:52<22:15,  2.18s/it]"
     ]
    },
    {
     "name": "stdout",
     "output_type": "stream",
     "text": [
      "[INFO] File food_photos/avocado/0af12764-d5f1-4815-ae41-8328fb63dd79.jpeg uploaded to food_vision_bucket_with_object_versioning/all_images/0af12764-d5f1-4815-ae41-8328fb63dd79.jpeg.\n",
      "[INFO] File size: 2081786 bytes\n",
      "[INFO] Uploading food_photos/avocado/4bf9fdb5-30c5-4a6c-b73d-9d3a1d2ae7c8.jpeg to all_images/4bf9fdb5-30c5-4a6c-b73d-9d3a1d2ae7c8.jpeg...\n",
      "[INFO] Connected to Google Storage bucket: food_vision_bucket_with_object_versioning\n"
     ]
    },
    {
     "name": "stderr",
     "output_type": "stream",
     "text": [
      "  7%|▋         | 45/658 [01:54<20:45,  2.03s/it]"
     ]
    },
    {
     "name": "stdout",
     "output_type": "stream",
     "text": [
      "[INFO] File food_photos/avocado/4bf9fdb5-30c5-4a6c-b73d-9d3a1d2ae7c8.jpeg uploaded to food_vision_bucket_with_object_versioning/all_images/4bf9fdb5-30c5-4a6c-b73d-9d3a1d2ae7c8.jpeg.\n",
      "[INFO] File size: 1770632 bytes\n",
      "[INFO] Uploading food_photos/avocado/7a1aa403-9a96-4289-91e5-e382f9faeb0e.jpeg to all_images/7a1aa403-9a96-4289-91e5-e382f9faeb0e.jpeg...\n",
      "[INFO] Connected to Google Storage bucket: food_vision_bucket_with_object_versioning\n"
     ]
    },
    {
     "name": "stderr",
     "output_type": "stream",
     "text": [
      "  7%|▋         | 46/658 [01:57<22:31,  2.21s/it]"
     ]
    },
    {
     "name": "stdout",
     "output_type": "stream",
     "text": [
      "[INFO] File food_photos/avocado/7a1aa403-9a96-4289-91e5-e382f9faeb0e.jpeg uploaded to food_vision_bucket_with_object_versioning/all_images/7a1aa403-9a96-4289-91e5-e382f9faeb0e.jpeg.\n",
      "[INFO] File size: 1885493 bytes\n",
      "[INFO] Uploading food_photos/avocado/b8760691-92d7-4750-9388-18037fadc61f.jpeg to all_images/b8760691-92d7-4750-9388-18037fadc61f.jpeg...\n",
      "[INFO] Connected to Google Storage bucket: food_vision_bucket_with_object_versioning\n"
     ]
    },
    {
     "name": "stderr",
     "output_type": "stream",
     "text": [
      "  7%|▋         | 47/658 [02:00<27:00,  2.65s/it]"
     ]
    },
    {
     "name": "stdout",
     "output_type": "stream",
     "text": [
      "[INFO] File food_photos/avocado/b8760691-92d7-4750-9388-18037fadc61f.jpeg uploaded to food_vision_bucket_with_object_versioning/all_images/b8760691-92d7-4750-9388-18037fadc61f.jpeg.\n",
      "[INFO] File size: 2168779 bytes\n",
      "[INFO] Uploading food_photos/avocado/b1fbdabe-788e-4f45-8fb6-9bbe760f6c8e.jpeg to all_images/b1fbdabe-788e-4f45-8fb6-9bbe760f6c8e.jpeg...\n",
      "[INFO] Connected to Google Storage bucket: food_vision_bucket_with_object_versioning\n"
     ]
    },
    {
     "name": "stderr",
     "output_type": "stream",
     "text": [
      "  7%|▋         | 48/658 [02:04<30:30,  3.00s/it]"
     ]
    },
    {
     "name": "stdout",
     "output_type": "stream",
     "text": [
      "[INFO] File food_photos/avocado/b1fbdabe-788e-4f45-8fb6-9bbe760f6c8e.jpeg uploaded to food_vision_bucket_with_object_versioning/all_images/b1fbdabe-788e-4f45-8fb6-9bbe760f6c8e.jpeg.\n",
      "[INFO] File size: 3949247 bytes\n",
      "[INFO] Uploading food_photos/avocado/3c766b19-ba01-425d-8194-c7b3d0da7eff.jpeg to all_images/3c766b19-ba01-425d-8194-c7b3d0da7eff.jpeg...\n",
      "[INFO] Connected to Google Storage bucket: food_vision_bucket_with_object_versioning\n"
     ]
    },
    {
     "name": "stderr",
     "output_type": "stream",
     "text": [
      "  7%|▋         | 49/658 [02:06<26:06,  2.57s/it]"
     ]
    },
    {
     "name": "stdout",
     "output_type": "stream",
     "text": [
      "[INFO] File food_photos/avocado/3c766b19-ba01-425d-8194-c7b3d0da7eff.jpeg uploaded to food_vision_bucket_with_object_versioning/all_images/3c766b19-ba01-425d-8194-c7b3d0da7eff.jpeg.\n",
      "[INFO] File size: 1732111 bytes\n",
      "[INFO] Uploading food_photos/avocado/74106dc0-c8e5-47e2-9f71-96a28a744313.jpeg to all_images/74106dc0-c8e5-47e2-9f71-96a28a744313.jpeg...\n",
      "[INFO] Connected to Google Storage bucket: food_vision_bucket_with_object_versioning\n"
     ]
    },
    {
     "name": "stderr",
     "output_type": "stream",
     "text": [
      "  8%|▊         | 50/658 [02:09<28:56,  2.86s/it]"
     ]
    },
    {
     "name": "stdout",
     "output_type": "stream",
     "text": [
      "[INFO] File food_photos/avocado/74106dc0-c8e5-47e2-9f71-96a28a744313.jpeg uploaded to food_vision_bucket_with_object_versioning/all_images/74106dc0-c8e5-47e2-9f71-96a28a744313.jpeg.\n",
      "[INFO] File size: 2185192 bytes\n",
      "[INFO] Uploading food_photos/avocado/49482949-0216-4b57-aad1-c28db538cfcf.jpeg to all_images/49482949-0216-4b57-aad1-c28db538cfcf.jpeg...\n",
      "[INFO] Connected to Google Storage bucket: food_vision_bucket_with_object_versioning\n"
     ]
    },
    {
     "name": "stderr",
     "output_type": "stream",
     "text": [
      "  8%|▊         | 51/658 [02:11<25:22,  2.51s/it]"
     ]
    },
    {
     "name": "stdout",
     "output_type": "stream",
     "text": [
      "[INFO] File food_photos/avocado/49482949-0216-4b57-aad1-c28db538cfcf.jpeg uploaded to food_vision_bucket_with_object_versioning/all_images/49482949-0216-4b57-aad1-c28db538cfcf.jpeg.\n",
      "[INFO] File size: 1664324 bytes\n",
      "[INFO] Uploading food_photos/avocado/da461eee-acc9-4f0d-859a-52511ff834e5.jpeg to all_images/da461eee-acc9-4f0d-859a-52511ff834e5.jpeg...\n",
      "[INFO] Connected to Google Storage bucket: food_vision_bucket_with_object_versioning\n"
     ]
    },
    {
     "name": "stderr",
     "output_type": "stream",
     "text": [
      "  8%|▊         | 52/658 [02:14<26:59,  2.67s/it]"
     ]
    },
    {
     "name": "stdout",
     "output_type": "stream",
     "text": [
      "[INFO] File food_photos/avocado/da461eee-acc9-4f0d-859a-52511ff834e5.jpeg uploaded to food_vision_bucket_with_object_versioning/all_images/da461eee-acc9-4f0d-859a-52511ff834e5.jpeg.\n",
      "[INFO] File size: 2716391 bytes\n",
      "[INFO] Uploading food_photos/avocado/245223bb-ad0a-4cd5-8599-a90997d1444a.jpeg to all_images/245223bb-ad0a-4cd5-8599-a90997d1444a.jpeg...\n",
      "[INFO] Connected to Google Storage bucket: food_vision_bucket_with_object_versioning\n"
     ]
    },
    {
     "name": "stderr",
     "output_type": "stream",
     "text": [
      "  8%|▊         | 53/658 [02:16<23:39,  2.35s/it]"
     ]
    },
    {
     "name": "stdout",
     "output_type": "stream",
     "text": [
      "[INFO] File food_photos/avocado/245223bb-ad0a-4cd5-8599-a90997d1444a.jpeg uploaded to food_vision_bucket_with_object_versioning/all_images/245223bb-ad0a-4cd5-8599-a90997d1444a.jpeg.\n",
      "[INFO] File size: 1874340 bytes\n",
      "[INFO] Uploading food_photos/avocado/db536941-5539-434e-96cc-2ca97b84eaca.jpeg to all_images/db536941-5539-434e-96cc-2ca97b84eaca.jpeg...\n",
      "[INFO] Connected to Google Storage bucket: food_vision_bucket_with_object_versioning\n"
     ]
    },
    {
     "name": "stderr",
     "output_type": "stream",
     "text": [
      "  8%|▊         | 54/658 [02:17<21:49,  2.17s/it]"
     ]
    },
    {
     "name": "stdout",
     "output_type": "stream",
     "text": [
      "[INFO] File food_photos/avocado/db536941-5539-434e-96cc-2ca97b84eaca.jpeg uploaded to food_vision_bucket_with_object_versioning/all_images/db536941-5539-434e-96cc-2ca97b84eaca.jpeg.\n",
      "[INFO] File size: 2069353 bytes\n",
      "[INFO] Uploading food_photos/avocado/433790ce-f12d-49dd-a959-715a792c6bc2.jpeg to all_images/433790ce-f12d-49dd-a959-715a792c6bc2.jpeg...\n",
      "[INFO] Connected to Google Storage bucket: food_vision_bucket_with_object_versioning\n"
     ]
    },
    {
     "name": "stderr",
     "output_type": "stream",
     "text": [
      "  8%|▊         | 55/658 [02:20<24:11,  2.41s/it]"
     ]
    },
    {
     "name": "stdout",
     "output_type": "stream",
     "text": [
      "[INFO] File food_photos/avocado/433790ce-f12d-49dd-a959-715a792c6bc2.jpeg uploaded to food_vision_bucket_with_object_versioning/all_images/433790ce-f12d-49dd-a959-715a792c6bc2.jpeg.\n",
      "[INFO] File size: 2108358 bytes\n",
      "[INFO] Uploading food_photos/avocado/02340074-5f0b-4911-8b04-1247455f8162.jpeg to all_images/02340074-5f0b-4911-8b04-1247455f8162.jpeg...\n",
      "[INFO] Connected to Google Storage bucket: food_vision_bucket_with_object_versioning\n"
     ]
    },
    {
     "name": "stderr",
     "output_type": "stream",
     "text": [
      "  9%|▊         | 56/658 [02:23<25:54,  2.58s/it]"
     ]
    },
    {
     "name": "stdout",
     "output_type": "stream",
     "text": [
      "[INFO] File food_photos/avocado/02340074-5f0b-4911-8b04-1247455f8162.jpeg uploaded to food_vision_bucket_with_object_versioning/all_images/02340074-5f0b-4911-8b04-1247455f8162.jpeg.\n",
      "[INFO] File size: 2232496 bytes\n",
      "[INFO] Uploading food_photos/avocado/7dcdd160-77d7-4366-9ac8-eec70cc91734.jpeg to all_images/7dcdd160-77d7-4366-9ac8-eec70cc91734.jpeg...\n",
      "[INFO] Connected to Google Storage bucket: food_vision_bucket_with_object_versioning\n"
     ]
    },
    {
     "name": "stderr",
     "output_type": "stream",
     "text": [
      "  9%|▊         | 57/658 [02:25<23:01,  2.30s/it]"
     ]
    },
    {
     "name": "stdout",
     "output_type": "stream",
     "text": [
      "[INFO] File food_photos/avocado/7dcdd160-77d7-4366-9ac8-eec70cc91734.jpeg uploaded to food_vision_bucket_with_object_versioning/all_images/7dcdd160-77d7-4366-9ac8-eec70cc91734.jpeg.\n",
      "[INFO] File size: 2021153 bytes\n",
      "[INFO] Uploading food_photos/avocado/9647a009-2512-4fcf-b865-227c23fe4266.jpeg to all_images/9647a009-2512-4fcf-b865-227c23fe4266.jpeg...\n",
      "[INFO] Connected to Google Storage bucket: food_vision_bucket_with_object_versioning\n"
     ]
    },
    {
     "name": "stderr",
     "output_type": "stream",
     "text": [
      "  9%|▉         | 58/658 [02:28<26:01,  2.60s/it]"
     ]
    },
    {
     "name": "stdout",
     "output_type": "stream",
     "text": [
      "[INFO] File food_photos/avocado/9647a009-2512-4fcf-b865-227c23fe4266.jpeg uploaded to food_vision_bucket_with_object_versioning/all_images/9647a009-2512-4fcf-b865-227c23fe4266.jpeg.\n",
      "[INFO] File size: 2376152 bytes\n",
      "[INFO] Uploading food_photos/avocado/259b4160-0fea-4388-a26f-edcb24a78da4.jpeg to all_images/259b4160-0fea-4388-a26f-edcb24a78da4.jpeg...\n",
      "[INFO] Connected to Google Storage bucket: food_vision_bucket_with_object_versioning\n"
     ]
    },
    {
     "name": "stderr",
     "output_type": "stream",
     "text": [
      "  9%|▉         | 59/658 [02:31<27:08,  2.72s/it]"
     ]
    },
    {
     "name": "stdout",
     "output_type": "stream",
     "text": [
      "[INFO] File food_photos/avocado/259b4160-0fea-4388-a26f-edcb24a78da4.jpeg uploaded to food_vision_bucket_with_object_versioning/all_images/259b4160-0fea-4388-a26f-edcb24a78da4.jpeg.\n",
      "[INFO] File size: 2464849 bytes\n",
      "[INFO] Uploading food_photos/avocado/6a233285-bd4b-42a7-8801-7775fc65224d.jpeg to all_images/6a233285-bd4b-42a7-8801-7775fc65224d.jpeg...\n",
      "[INFO] Connected to Google Storage bucket: food_vision_bucket_with_object_versioning\n"
     ]
    },
    {
     "name": "stderr",
     "output_type": "stream",
     "text": [
      "  9%|▉         | 60/658 [02:33<23:29,  2.36s/it]"
     ]
    },
    {
     "name": "stdout",
     "output_type": "stream",
     "text": [
      "[INFO] File food_photos/avocado/6a233285-bd4b-42a7-8801-7775fc65224d.jpeg uploaded to food_vision_bucket_with_object_versioning/all_images/6a233285-bd4b-42a7-8801-7775fc65224d.jpeg.\n",
      "[INFO] File size: 1616426 bytes\n",
      "[INFO] Uploading food_photos/avocado/ed862664-aabc-4f52-b769-46dd88566e21.jpeg to all_images/ed862664-aabc-4f52-b769-46dd88566e21.jpeg...\n",
      "[INFO] Connected to Google Storage bucket: food_vision_bucket_with_object_versioning\n"
     ]
    },
    {
     "name": "stderr",
     "output_type": "stream",
     "text": [
      "  9%|▉         | 61/658 [02:34<21:11,  2.13s/it]"
     ]
    },
    {
     "name": "stdout",
     "output_type": "stream",
     "text": [
      "[INFO] File food_photos/avocado/ed862664-aabc-4f52-b769-46dd88566e21.jpeg uploaded to food_vision_bucket_with_object_versioning/all_images/ed862664-aabc-4f52-b769-46dd88566e21.jpeg.\n",
      "[INFO] File size: 1380282 bytes\n",
      "[INFO] Uploading food_photos/avocado/18d57cf4-5f25-4ce1-8a2a-08ecd4555b84.jpeg to all_images/18d57cf4-5f25-4ce1-8a2a-08ecd4555b84.jpeg...\n",
      "[INFO] Connected to Google Storage bucket: food_vision_bucket_with_object_versioning\n"
     ]
    },
    {
     "name": "stderr",
     "output_type": "stream",
     "text": [
      "  9%|▉         | 62/658 [02:38<24:51,  2.50s/it]"
     ]
    },
    {
     "name": "stdout",
     "output_type": "stream",
     "text": [
      "[INFO] File food_photos/avocado/18d57cf4-5f25-4ce1-8a2a-08ecd4555b84.jpeg uploaded to food_vision_bucket_with_object_versioning/all_images/18d57cf4-5f25-4ce1-8a2a-08ecd4555b84.jpeg.\n",
      "[INFO] File size: 3515633 bytes\n",
      "[INFO] Uploading food_photos/avocado/ca23e222-37f1-41ce-87e6-fd617c5baa94.jpeg to all_images/ca23e222-37f1-41ce-87e6-fd617c5baa94.jpeg...\n",
      "[INFO] Connected to Google Storage bucket: food_vision_bucket_with_object_versioning\n"
     ]
    },
    {
     "name": "stderr",
     "output_type": "stream",
     "text": [
      " 10%|▉         | 63/658 [02:40<22:56,  2.31s/it]"
     ]
    },
    {
     "name": "stdout",
     "output_type": "stream",
     "text": [
      "[INFO] File food_photos/avocado/ca23e222-37f1-41ce-87e6-fd617c5baa94.jpeg uploaded to food_vision_bucket_with_object_versioning/all_images/ca23e222-37f1-41ce-87e6-fd617c5baa94.jpeg.\n",
      "[INFO] File size: 1929851 bytes\n",
      "[INFO] Uploading food_photos/avocado/ee4859f3-4025-44bb-9669-38d9c1a7d31b.jpeg to all_images/ee4859f3-4025-44bb-9669-38d9c1a7d31b.jpeg...\n",
      "[INFO] Connected to Google Storage bucket: food_vision_bucket_with_object_versioning\n"
     ]
    },
    {
     "name": "stderr",
     "output_type": "stream",
     "text": [
      " 10%|▉         | 64/658 [02:43<25:32,  2.58s/it]"
     ]
    },
    {
     "name": "stdout",
     "output_type": "stream",
     "text": [
      "[INFO] File food_photos/avocado/ee4859f3-4025-44bb-9669-38d9c1a7d31b.jpeg uploaded to food_vision_bucket_with_object_versioning/all_images/ee4859f3-4025-44bb-9669-38d9c1a7d31b.jpeg.\n",
      "[INFO] File size: 2442980 bytes\n",
      "[INFO] Uploading food_photos/avocado/9a82ca34-e55e-4bc8-9e36-730c1463fae6.jpeg to all_images/9a82ca34-e55e-4bc8-9e36-730c1463fae6.jpeg...\n",
      "[INFO] Connected to Google Storage bucket: food_vision_bucket_with_object_versioning\n"
     ]
    },
    {
     "name": "stderr",
     "output_type": "stream",
     "text": [
      " 10%|▉         | 65/658 [02:47<29:13,  2.96s/it]"
     ]
    },
    {
     "name": "stdout",
     "output_type": "stream",
     "text": [
      "[INFO] File food_photos/avocado/9a82ca34-e55e-4bc8-9e36-730c1463fae6.jpeg uploaded to food_vision_bucket_with_object_versioning/all_images/9a82ca34-e55e-4bc8-9e36-730c1463fae6.jpeg.\n",
      "[INFO] File size: 3005285 bytes\n",
      "[INFO] Uploading food_photos/avocado/e7aa4e4a-7206-4730-a496-33f5122832cd.jpeg to all_images/e7aa4e4a-7206-4730-a496-33f5122832cd.jpeg...\n",
      "[INFO] Connected to Google Storage bucket: food_vision_bucket_with_object_versioning\n"
     ]
    },
    {
     "name": "stderr",
     "output_type": "stream",
     "text": [
      " 10%|█         | 66/658 [02:50<30:13,  3.06s/it]"
     ]
    },
    {
     "name": "stdout",
     "output_type": "stream",
     "text": [
      "[INFO] File food_photos/avocado/e7aa4e4a-7206-4730-a496-33f5122832cd.jpeg uploaded to food_vision_bucket_with_object_versioning/all_images/e7aa4e4a-7206-4730-a496-33f5122832cd.jpeg.\n",
      "[INFO] File size: 2615672 bytes\n",
      "[INFO] Uploading food_photos/avocado/531a724d-6b07-4319-9bba-1b387dfea1e0.jpeg to all_images/531a724d-6b07-4319-9bba-1b387dfea1e0.jpeg...\n",
      "[INFO] Connected to Google Storage bucket: food_vision_bucket_with_object_versioning\n"
     ]
    },
    {
     "name": "stderr",
     "output_type": "stream",
     "text": [
      " 10%|█         | 67/658 [02:53<29:59,  3.05s/it]"
     ]
    },
    {
     "name": "stdout",
     "output_type": "stream",
     "text": [
      "[INFO] File food_photos/avocado/531a724d-6b07-4319-9bba-1b387dfea1e0.jpeg uploaded to food_vision_bucket_with_object_versioning/all_images/531a724d-6b07-4319-9bba-1b387dfea1e0.jpeg.\n",
      "[INFO] File size: 2565691 bytes\n",
      "[INFO] Uploading food_photos/avocado/76ed8a56-9167-4dd0-9da5-1f21ec3c229b.jpeg to all_images/76ed8a56-9167-4dd0-9da5-1f21ec3c229b.jpeg...\n",
      "[INFO] Connected to Google Storage bucket: food_vision_bucket_with_object_versioning\n"
     ]
    },
    {
     "name": "stderr",
     "output_type": "stream",
     "text": [
      " 10%|█         | 68/658 [02:54<25:29,  2.59s/it]"
     ]
    },
    {
     "name": "stdout",
     "output_type": "stream",
     "text": [
      "[INFO] File food_photos/avocado/76ed8a56-9167-4dd0-9da5-1f21ec3c229b.jpeg uploaded to food_vision_bucket_with_object_versioning/all_images/76ed8a56-9167-4dd0-9da5-1f21ec3c229b.jpeg.\n",
      "[INFO] File size: 1593623 bytes\n",
      "[INFO] Uploading food_photos/avocado/33f66241-8a8b-4ea7-a027-e742680e1182.jpeg to all_images/33f66241-8a8b-4ea7-a027-e742680e1182.jpeg...\n",
      "[INFO] Connected to Google Storage bucket: food_vision_bucket_with_object_versioning\n"
     ]
    },
    {
     "name": "stderr",
     "output_type": "stream",
     "text": [
      " 10%|█         | 69/658 [02:58<27:55,  2.85s/it]"
     ]
    },
    {
     "name": "stdout",
     "output_type": "stream",
     "text": [
      "[INFO] File food_photos/avocado/33f66241-8a8b-4ea7-a027-e742680e1182.jpeg uploaded to food_vision_bucket_with_object_versioning/all_images/33f66241-8a8b-4ea7-a027-e742680e1182.jpeg.\n",
      "[INFO] File size: 2313870 bytes\n",
      "[INFO] Uploading food_photos/avocado/2a1cb9c9-be5f-457c-bb78-1bdee126efae.jpeg to all_images/2a1cb9c9-be5f-457c-bb78-1bdee126efae.jpeg...\n",
      "[INFO] Connected to Google Storage bucket: food_vision_bucket_with_object_versioning\n"
     ]
    },
    {
     "name": "stderr",
     "output_type": "stream",
     "text": [
      " 11%|█         | 70/658 [03:01<28:55,  2.95s/it]"
     ]
    },
    {
     "name": "stdout",
     "output_type": "stream",
     "text": [
      "[INFO] File food_photos/avocado/2a1cb9c9-be5f-457c-bb78-1bdee126efae.jpeg uploaded to food_vision_bucket_with_object_versioning/all_images/2a1cb9c9-be5f-457c-bb78-1bdee126efae.jpeg.\n",
      "[INFO] File size: 2285046 bytes\n",
      "[INFO] Uploading food_photos/avocado/bb2a79fd-08ec-4a45-9e02-6162491d4cd1.jpeg to all_images/bb2a79fd-08ec-4a45-9e02-6162491d4cd1.jpeg...\n",
      "[INFO] Connected to Google Storage bucket: food_vision_bucket_with_object_versioning\n"
     ]
    },
    {
     "name": "stderr",
     "output_type": "stream",
     "text": [
      " 11%|█         | 71/658 [03:05<31:13,  3.19s/it]"
     ]
    },
    {
     "name": "stdout",
     "output_type": "stream",
     "text": [
      "[INFO] File food_photos/avocado/bb2a79fd-08ec-4a45-9e02-6162491d4cd1.jpeg uploaded to food_vision_bucket_with_object_versioning/all_images/bb2a79fd-08ec-4a45-9e02-6162491d4cd1.jpeg.\n",
      "[INFO] File size: 2258735 bytes\n",
      "[INFO] Uploading food_photos/avocado/698770c3-65a7-4ce4-a551-010934a3b545.jpeg to all_images/698770c3-65a7-4ce4-a551-010934a3b545.jpeg...\n",
      "[INFO] Connected to Google Storage bucket: food_vision_bucket_with_object_versioning\n"
     ]
    },
    {
     "name": "stderr",
     "output_type": "stream",
     "text": [
      " 11%|█         | 72/658 [03:07<26:35,  2.72s/it]"
     ]
    },
    {
     "name": "stdout",
     "output_type": "stream",
     "text": [
      "[INFO] File food_photos/avocado/698770c3-65a7-4ce4-a551-010934a3b545.jpeg uploaded to food_vision_bucket_with_object_versioning/all_images/698770c3-65a7-4ce4-a551-010934a3b545.jpeg.\n",
      "[INFO] File size: 1804015 bytes\n",
      "[INFO] Uploading food_photos/avocado/25c27d1a-a9b7-48f2-a1b0-6ff8d8110067.jpeg to all_images/25c27d1a-a9b7-48f2-a1b0-6ff8d8110067.jpeg...\n",
      "[INFO] Connected to Google Storage bucket: food_vision_bucket_with_object_versioning\n"
     ]
    },
    {
     "name": "stderr",
     "output_type": "stream",
     "text": [
      " 11%|█         | 73/658 [03:08<23:59,  2.46s/it]"
     ]
    },
    {
     "name": "stdout",
     "output_type": "stream",
     "text": [
      "[INFO] File food_photos/avocado/25c27d1a-a9b7-48f2-a1b0-6ff8d8110067.jpeg uploaded to food_vision_bucket_with_object_versioning/all_images/25c27d1a-a9b7-48f2-a1b0-6ff8d8110067.jpeg.\n",
      "[INFO] File size: 2080261 bytes\n",
      "[INFO] Uploading food_photos/avocado/55282fe9-e86c-41c4-af85-00afd406beb9.jpeg to all_images/55282fe9-e86c-41c4-af85-00afd406beb9.jpeg...\n",
      "[INFO] Connected to Google Storage bucket: food_vision_bucket_with_object_versioning\n"
     ]
    },
    {
     "name": "stderr",
     "output_type": "stream",
     "text": [
      " 11%|█         | 74/658 [03:10<22:53,  2.35s/it]"
     ]
    },
    {
     "name": "stdout",
     "output_type": "stream",
     "text": [
      "[INFO] File food_photos/avocado/55282fe9-e86c-41c4-af85-00afd406beb9.jpeg uploaded to food_vision_bucket_with_object_versioning/all_images/55282fe9-e86c-41c4-af85-00afd406beb9.jpeg.\n",
      "[INFO] File size: 2040125 bytes\n",
      "[INFO] Uploading food_photos/avocado/38ef8718-3f44-4805-b3db-d8066e106201.jpeg to all_images/38ef8718-3f44-4805-b3db-d8066e106201.jpeg...\n",
      "[INFO] Connected to Google Storage bucket: food_vision_bucket_with_object_versioning\n"
     ]
    },
    {
     "name": "stderr",
     "output_type": "stream",
     "text": [
      " 11%|█▏        | 75/658 [03:12<21:47,  2.24s/it]"
     ]
    },
    {
     "name": "stdout",
     "output_type": "stream",
     "text": [
      "[INFO] File food_photos/avocado/38ef8718-3f44-4805-b3db-d8066e106201.jpeg uploaded to food_vision_bucket_with_object_versioning/all_images/38ef8718-3f44-4805-b3db-d8066e106201.jpeg.\n",
      "[INFO] File size: 1759863 bytes\n",
      "[INFO] Uploading food_photos/avocado/c5d94146-c680-4272-b25f-d71e0384b564.jpeg to all_images/c5d94146-c680-4272-b25f-d71e0384b564.jpeg...\n",
      "[INFO] Connected to Google Storage bucket: food_vision_bucket_with_object_versioning\n"
     ]
    },
    {
     "name": "stderr",
     "output_type": "stream",
     "text": [
      " 12%|█▏        | 76/658 [03:15<21:45,  2.24s/it]"
     ]
    },
    {
     "name": "stdout",
     "output_type": "stream",
     "text": [
      "[INFO] File food_photos/avocado/c5d94146-c680-4272-b25f-d71e0384b564.jpeg uploaded to food_vision_bucket_with_object_versioning/all_images/c5d94146-c680-4272-b25f-d71e0384b564.jpeg.\n",
      "[INFO] File size: 1851092 bytes\n",
      "[INFO] Uploading food_photos/avocado/f9f0fb3d-b313-4368-aaf1-6cdbc754f1a2.jpeg to all_images/f9f0fb3d-b313-4368-aaf1-6cdbc754f1a2.jpeg...\n",
      "[INFO] Connected to Google Storage bucket: food_vision_bucket_with_object_versioning\n"
     ]
    },
    {
     "name": "stderr",
     "output_type": "stream",
     "text": [
      " 12%|█▏        | 77/658 [03:17<21:08,  2.18s/it]"
     ]
    },
    {
     "name": "stdout",
     "output_type": "stream",
     "text": [
      "[INFO] File food_photos/avocado/f9f0fb3d-b313-4368-aaf1-6cdbc754f1a2.jpeg uploaded to food_vision_bucket_with_object_versioning/all_images/f9f0fb3d-b313-4368-aaf1-6cdbc754f1a2.jpeg.\n",
      "[INFO] File size: 2076458 bytes\n",
      "[INFO] Uploading food_photos/avocado/6ae7d23c-1c11-4e19-bb5f-f8c7580c9c3c.jpeg to all_images/6ae7d23c-1c11-4e19-bb5f-f8c7580c9c3c.jpeg...\n",
      "[INFO] Connected to Google Storage bucket: food_vision_bucket_with_object_versioning\n"
     ]
    },
    {
     "name": "stderr",
     "output_type": "stream",
     "text": [
      " 12%|█▏        | 78/658 [03:19<21:20,  2.21s/it]"
     ]
    },
    {
     "name": "stdout",
     "output_type": "stream",
     "text": [
      "[INFO] File food_photos/avocado/6ae7d23c-1c11-4e19-bb5f-f8c7580c9c3c.jpeg uploaded to food_vision_bucket_with_object_versioning/all_images/6ae7d23c-1c11-4e19-bb5f-f8c7580c9c3c.jpeg.\n",
      "[INFO] File size: 2047433 bytes\n",
      "[INFO] Uploading food_photos/nectarines/a1b057db-47cb-4bc6-8303-252dd5d4383f.jpeg to all_images/a1b057db-47cb-4bc6-8303-252dd5d4383f.jpeg...\n",
      "[INFO] Connected to Google Storage bucket: food_vision_bucket_with_object_versioning\n"
     ]
    },
    {
     "name": "stderr",
     "output_type": "stream",
     "text": [
      " 12%|█▏        | 79/658 [03:22<24:47,  2.57s/it]"
     ]
    },
    {
     "name": "stdout",
     "output_type": "stream",
     "text": [
      "[INFO] File food_photos/nectarines/a1b057db-47cb-4bc6-8303-252dd5d4383f.jpeg uploaded to food_vision_bucket_with_object_versioning/all_images/a1b057db-47cb-4bc6-8303-252dd5d4383f.jpeg.\n",
      "[INFO] File size: 2808383 bytes\n",
      "[INFO] Uploading food_photos/nectarines/6f5f6cf7-b750-4f52-beff-886060beca47.jpeg to all_images/6f5f6cf7-b750-4f52-beff-886060beca47.jpeg...\n",
      "[INFO] Connected to Google Storage bucket: food_vision_bucket_with_object_versioning\n"
     ]
    },
    {
     "name": "stderr",
     "output_type": "stream",
     "text": [
      " 12%|█▏        | 80/658 [03:26<27:22,  2.84s/it]"
     ]
    },
    {
     "name": "stdout",
     "output_type": "stream",
     "text": [
      "[INFO] File food_photos/nectarines/6f5f6cf7-b750-4f52-beff-886060beca47.jpeg uploaded to food_vision_bucket_with_object_versioning/all_images/6f5f6cf7-b750-4f52-beff-886060beca47.jpeg.\n",
      "[INFO] File size: 2916792 bytes\n",
      "[INFO] Uploading food_photos/nectarines/6012d7a3-32a9-4073-899e-a1b4f8886209.jpeg to all_images/6012d7a3-32a9-4073-899e-a1b4f8886209.jpeg...\n",
      "[INFO] Connected to Google Storage bucket: food_vision_bucket_with_object_versioning\n"
     ]
    },
    {
     "name": "stderr",
     "output_type": "stream",
     "text": [
      " 12%|█▏        | 81/658 [03:29<27:11,  2.83s/it]"
     ]
    },
    {
     "name": "stdout",
     "output_type": "stream",
     "text": [
      "[INFO] File food_photos/nectarines/6012d7a3-32a9-4073-899e-a1b4f8886209.jpeg uploaded to food_vision_bucket_with_object_versioning/all_images/6012d7a3-32a9-4073-899e-a1b4f8886209.jpeg.\n",
      "[INFO] File size: 2337068 bytes\n",
      "[INFO] Uploading food_photos/nectarines/1d8a76ea-9265-4924-9d10-a4976e5917f7.jpeg to all_images/1d8a76ea-9265-4924-9d10-a4976e5917f7.jpeg...\n",
      "[INFO] Connected to Google Storage bucket: food_vision_bucket_with_object_versioning\n"
     ]
    },
    {
     "name": "stderr",
     "output_type": "stream",
     "text": [
      " 12%|█▏        | 82/658 [03:31<26:59,  2.81s/it]"
     ]
    },
    {
     "name": "stdout",
     "output_type": "stream",
     "text": [
      "[INFO] File food_photos/nectarines/1d8a76ea-9265-4924-9d10-a4976e5917f7.jpeg uploaded to food_vision_bucket_with_object_versioning/all_images/1d8a76ea-9265-4924-9d10-a4976e5917f7.jpeg.\n",
      "[INFO] File size: 2600359 bytes\n",
      "[INFO] Uploading food_photos/nectarines/f96bd9c2-fc90-4479-8981-7f294c69f801.jpeg to all_images/f96bd9c2-fc90-4479-8981-7f294c69f801.jpeg...\n",
      "[INFO] Connected to Google Storage bucket: food_vision_bucket_with_object_versioning\n"
     ]
    },
    {
     "name": "stderr",
     "output_type": "stream",
     "text": [
      " 13%|█▎        | 83/658 [03:36<32:07,  3.35s/it]"
     ]
    },
    {
     "name": "stdout",
     "output_type": "stream",
     "text": [
      "[INFO] File food_photos/nectarines/f96bd9c2-fc90-4479-8981-7f294c69f801.jpeg uploaded to food_vision_bucket_with_object_versioning/all_images/f96bd9c2-fc90-4479-8981-7f294c69f801.jpeg.\n",
      "[INFO] File size: 2726481 bytes\n",
      "[INFO] Uploading food_photos/nectarines/31dbdb31-9521-4aec-9c39-78411497f9ff.jpeg to all_images/31dbdb31-9521-4aec-9c39-78411497f9ff.jpeg...\n",
      "[INFO] Connected to Google Storage bucket: food_vision_bucket_with_object_versioning\n"
     ]
    },
    {
     "name": "stderr",
     "output_type": "stream",
     "text": [
      " 13%|█▎        | 84/658 [03:40<34:53,  3.65s/it]"
     ]
    },
    {
     "name": "stdout",
     "output_type": "stream",
     "text": [
      "[INFO] File food_photos/nectarines/31dbdb31-9521-4aec-9c39-78411497f9ff.jpeg uploaded to food_vision_bucket_with_object_versioning/all_images/31dbdb31-9521-4aec-9c39-78411497f9ff.jpeg.\n",
      "[INFO] File size: 2877005 bytes\n",
      "[INFO] Uploading food_photos/nectarines/eebb3fa7-439f-4aef-82c5-cf99bb510850.jpeg to all_images/eebb3fa7-439f-4aef-82c5-cf99bb510850.jpeg...\n",
      "[INFO] Connected to Google Storage bucket: food_vision_bucket_with_object_versioning\n"
     ]
    },
    {
     "name": "stderr",
     "output_type": "stream",
     "text": [
      " 13%|█▎        | 85/658 [03:43<32:41,  3.42s/it]"
     ]
    },
    {
     "name": "stdout",
     "output_type": "stream",
     "text": [
      "[INFO] File food_photos/nectarines/eebb3fa7-439f-4aef-82c5-cf99bb510850.jpeg uploaded to food_vision_bucket_with_object_versioning/all_images/eebb3fa7-439f-4aef-82c5-cf99bb510850.jpeg.\n",
      "[INFO] File size: 2380620 bytes\n",
      "[INFO] Uploading food_photos/nectarines/54010381-c798-4a6f-a72f-47385d2d48b7.jpeg to all_images/54010381-c798-4a6f-a72f-47385d2d48b7.jpeg...\n",
      "[INFO] Connected to Google Storage bucket: food_vision_bucket_with_object_versioning\n"
     ]
    },
    {
     "name": "stderr",
     "output_type": "stream",
     "text": [
      " 13%|█▎        | 86/658 [03:49<40:25,  4.24s/it]"
     ]
    },
    {
     "name": "stdout",
     "output_type": "stream",
     "text": [
      "[INFO] File food_photos/nectarines/54010381-c798-4a6f-a72f-47385d2d48b7.jpeg uploaded to food_vision_bucket_with_object_versioning/all_images/54010381-c798-4a6f-a72f-47385d2d48b7.jpeg.\n",
      "[INFO] File size: 3582548 bytes\n",
      "[INFO] Uploading food_photos/nectarines/26dc1c70-35ca-4295-8d2f-4ef34fe5f35f.jpeg to all_images/26dc1c70-35ca-4295-8d2f-4ef34fe5f35f.jpeg...\n",
      "[INFO] Connected to Google Storage bucket: food_vision_bucket_with_object_versioning\n"
     ]
    },
    {
     "name": "stderr",
     "output_type": "stream",
     "text": [
      " 13%|█▎        | 87/658 [03:54<40:41,  4.28s/it]"
     ]
    },
    {
     "name": "stdout",
     "output_type": "stream",
     "text": [
      "[INFO] File food_photos/nectarines/26dc1c70-35ca-4295-8d2f-4ef34fe5f35f.jpeg uploaded to food_vision_bucket_with_object_versioning/all_images/26dc1c70-35ca-4295-8d2f-4ef34fe5f35f.jpeg.\n",
      "[INFO] File size: 2728595 bytes\n",
      "[INFO] Uploading food_photos/nectarines/5c0a5977-80ea-4699-906f-231962f6447a.jpeg to all_images/5c0a5977-80ea-4699-906f-231962f6447a.jpeg...\n",
      "[INFO] Connected to Google Storage bucket: food_vision_bucket_with_object_versioning\n"
     ]
    },
    {
     "name": "stderr",
     "output_type": "stream",
     "text": [
      " 13%|█▎        | 88/658 [03:57<38:10,  4.02s/it]"
     ]
    },
    {
     "name": "stdout",
     "output_type": "stream",
     "text": [
      "[INFO] File food_photos/nectarines/5c0a5977-80ea-4699-906f-231962f6447a.jpeg uploaded to food_vision_bucket_with_object_versioning/all_images/5c0a5977-80ea-4699-906f-231962f6447a.jpeg.\n",
      "[INFO] File size: 2366101 bytes\n",
      "[INFO] Uploading food_photos/nectarines/0cbc9cf3-aec6-4ee5-af67-38bc25c4c73a.jpeg to all_images/0cbc9cf3-aec6-4ee5-af67-38bc25c4c73a.jpeg...\n",
      "[INFO] Connected to Google Storage bucket: food_vision_bucket_with_object_versioning\n"
     ]
    },
    {
     "name": "stderr",
     "output_type": "stream",
     "text": [
      " 14%|█▎        | 89/658 [04:00<35:56,  3.79s/it]"
     ]
    },
    {
     "name": "stdout",
     "output_type": "stream",
     "text": [
      "[INFO] File food_photos/nectarines/0cbc9cf3-aec6-4ee5-af67-38bc25c4c73a.jpeg uploaded to food_vision_bucket_with_object_versioning/all_images/0cbc9cf3-aec6-4ee5-af67-38bc25c4c73a.jpeg.\n",
      "[INFO] File size: 2582438 bytes\n",
      "[INFO] Uploading food_photos/nectarines/e77b222a-74ee-4243-8a91-110836ec5e9b.jpeg to all_images/e77b222a-74ee-4243-8a91-110836ec5e9b.jpeg...\n",
      "[INFO] Connected to Google Storage bucket: food_vision_bucket_with_object_versioning\n"
     ]
    },
    {
     "name": "stderr",
     "output_type": "stream",
     "text": [
      " 14%|█▎        | 90/658 [04:05<38:33,  4.07s/it]"
     ]
    },
    {
     "name": "stdout",
     "output_type": "stream",
     "text": [
      "[INFO] File food_photos/nectarines/e77b222a-74ee-4243-8a91-110836ec5e9b.jpeg uploaded to food_vision_bucket_with_object_versioning/all_images/e77b222a-74ee-4243-8a91-110836ec5e9b.jpeg.\n",
      "[INFO] File size: 2587331 bytes\n",
      "[INFO] Uploading food_photos/nectarines/d72a428d-6af2-42f2-869e-80d0f884d9fd.jpeg to all_images/d72a428d-6af2-42f2-869e-80d0f884d9fd.jpeg...\n",
      "[INFO] Connected to Google Storage bucket: food_vision_bucket_with_object_versioning\n"
     ]
    },
    {
     "name": "stderr",
     "output_type": "stream",
     "text": [
      " 14%|█▍        | 91/658 [04:09<37:16,  3.94s/it]"
     ]
    },
    {
     "name": "stdout",
     "output_type": "stream",
     "text": [
      "[INFO] File food_photos/nectarines/d72a428d-6af2-42f2-869e-80d0f884d9fd.jpeg uploaded to food_vision_bucket_with_object_versioning/all_images/d72a428d-6af2-42f2-869e-80d0f884d9fd.jpeg.\n",
      "[INFO] File size: 3228359 bytes\n",
      "[INFO] Uploading food_photos/nectarines/3ce13e3a-f953-4826-9ec6-8ca8b672d519.jpeg to all_images/3ce13e3a-f953-4826-9ec6-8ca8b672d519.jpeg...\n",
      "[INFO] Connected to Google Storage bucket: food_vision_bucket_with_object_versioning\n"
     ]
    },
    {
     "name": "stderr",
     "output_type": "stream",
     "text": [
      " 14%|█▍        | 92/658 [04:13<37:51,  4.01s/it]"
     ]
    },
    {
     "name": "stdout",
     "output_type": "stream",
     "text": [
      "[INFO] File food_photos/nectarines/3ce13e3a-f953-4826-9ec6-8ca8b672d519.jpeg uploaded to food_vision_bucket_with_object_versioning/all_images/3ce13e3a-f953-4826-9ec6-8ca8b672d519.jpeg.\n",
      "[INFO] File size: 2713072 bytes\n",
      "[INFO] Uploading food_photos/nectarines/8933b6e0-24f4-40c4-969a-53c14065a3fd.jpeg to all_images/8933b6e0-24f4-40c4-969a-53c14065a3fd.jpeg...\n",
      "[INFO] Connected to Google Storage bucket: food_vision_bucket_with_object_versioning\n"
     ]
    },
    {
     "name": "stderr",
     "output_type": "stream",
     "text": [
      " 14%|█▍        | 93/658 [04:17<36:39,  3.89s/it]"
     ]
    },
    {
     "name": "stdout",
     "output_type": "stream",
     "text": [
      "[INFO] File food_photos/nectarines/8933b6e0-24f4-40c4-969a-53c14065a3fd.jpeg uploaded to food_vision_bucket_with_object_versioning/all_images/8933b6e0-24f4-40c4-969a-53c14065a3fd.jpeg.\n",
      "[INFO] File size: 2411902 bytes\n",
      "[INFO] Uploading food_photos/nectarines/cb1adf01-e95f-4636-b5f5-09ab63effd54.jpeg to all_images/cb1adf01-e95f-4636-b5f5-09ab63effd54.jpeg...\n",
      "[INFO] Connected to Google Storage bucket: food_vision_bucket_with_object_versioning\n"
     ]
    },
    {
     "name": "stderr",
     "output_type": "stream",
     "text": [
      " 14%|█▍        | 94/658 [04:20<35:40,  3.80s/it]"
     ]
    },
    {
     "name": "stdout",
     "output_type": "stream",
     "text": [
      "[INFO] File food_photos/nectarines/cb1adf01-e95f-4636-b5f5-09ab63effd54.jpeg uploaded to food_vision_bucket_with_object_versioning/all_images/cb1adf01-e95f-4636-b5f5-09ab63effd54.jpeg.\n",
      "[INFO] File size: 2221291 bytes\n",
      "[INFO] Uploading food_photos/nectarines/99b23c5f-1031-43a2-b86b-8598565e23d1.jpeg to all_images/99b23c5f-1031-43a2-b86b-8598565e23d1.jpeg...\n",
      "[INFO] Connected to Google Storage bucket: food_vision_bucket_with_object_versioning\n"
     ]
    },
    {
     "name": "stderr",
     "output_type": "stream",
     "text": [
      " 14%|█▍        | 95/658 [04:23<33:36,  3.58s/it]"
     ]
    },
    {
     "name": "stdout",
     "output_type": "stream",
     "text": [
      "[INFO] File food_photos/nectarines/99b23c5f-1031-43a2-b86b-8598565e23d1.jpeg uploaded to food_vision_bucket_with_object_versioning/all_images/99b23c5f-1031-43a2-b86b-8598565e23d1.jpeg.\n",
      "[INFO] File size: 2306403 bytes\n",
      "[INFO] Uploading food_photos/nectarines/ce51c561-3127-40b2-b057-ab37a9012e44.jpeg to all_images/ce51c561-3127-40b2-b057-ab37a9012e44.jpeg...\n",
      "[INFO] Connected to Google Storage bucket: food_vision_bucket_with_object_versioning\n"
     ]
    },
    {
     "name": "stderr",
     "output_type": "stream",
     "text": [
      " 15%|█▍        | 96/658 [04:27<34:24,  3.67s/it]"
     ]
    },
    {
     "name": "stdout",
     "output_type": "stream",
     "text": [
      "[INFO] File food_photos/nectarines/ce51c561-3127-40b2-b057-ab37a9012e44.jpeg uploaded to food_vision_bucket_with_object_versioning/all_images/ce51c561-3127-40b2-b057-ab37a9012e44.jpeg.\n",
      "[INFO] File size: 2496566 bytes\n",
      "[INFO] Uploading food_photos/nectarines/226bcd8d-cfc7-45e1-87e3-1d99ef18f29b.jpeg to all_images/226bcd8d-cfc7-45e1-87e3-1d99ef18f29b.jpeg...\n",
      "[INFO] Connected to Google Storage bucket: food_vision_bucket_with_object_versioning\n"
     ]
    },
    {
     "name": "stderr",
     "output_type": "stream",
     "text": [
      " 15%|█▍        | 97/658 [04:30<32:40,  3.49s/it]"
     ]
    },
    {
     "name": "stdout",
     "output_type": "stream",
     "text": [
      "[INFO] File food_photos/nectarines/226bcd8d-cfc7-45e1-87e3-1d99ef18f29b.jpeg uploaded to food_vision_bucket_with_object_versioning/all_images/226bcd8d-cfc7-45e1-87e3-1d99ef18f29b.jpeg.\n",
      "[INFO] File size: 3278747 bytes\n",
      "[INFO] Uploading food_photos/nectarines/5f7b6a71-30e3-44e0-9e32-104b07756010.jpeg to all_images/5f7b6a71-30e3-44e0-9e32-104b07756010.jpeg...\n",
      "[INFO] Connected to Google Storage bucket: food_vision_bucket_with_object_versioning\n"
     ]
    },
    {
     "name": "stderr",
     "output_type": "stream",
     "text": [
      " 15%|█▍        | 98/658 [04:32<28:17,  3.03s/it]"
     ]
    },
    {
     "name": "stdout",
     "output_type": "stream",
     "text": [
      "[INFO] File food_photos/nectarines/5f7b6a71-30e3-44e0-9e32-104b07756010.jpeg uploaded to food_vision_bucket_with_object_versioning/all_images/5f7b6a71-30e3-44e0-9e32-104b07756010.jpeg.\n",
      "[INFO] File size: 2062084 bytes\n",
      "[INFO] Uploading food_photos/plum/0d59cdf4-c2dd-493d-8f56-d318d91c887f.jpeg to all_images/0d59cdf4-c2dd-493d-8f56-d318d91c887f.jpeg...\n",
      "[INFO] Connected to Google Storage bucket: food_vision_bucket_with_object_versioning\n"
     ]
    },
    {
     "name": "stderr",
     "output_type": "stream",
     "text": [
      " 15%|█▌        | 99/658 [04:36<28:59,  3.11s/it]"
     ]
    },
    {
     "name": "stdout",
     "output_type": "stream",
     "text": [
      "[INFO] File food_photos/plum/0d59cdf4-c2dd-493d-8f56-d318d91c887f.jpeg uploaded to food_vision_bucket_with_object_versioning/all_images/0d59cdf4-c2dd-493d-8f56-d318d91c887f.jpeg.\n",
      "[INFO] File size: 2507527 bytes\n",
      "[INFO] Uploading food_photos/plum/8640973c-0f5d-4765-a290-a28b1c093e8e.jpeg to all_images/8640973c-0f5d-4765-a290-a28b1c093e8e.jpeg...\n",
      "[INFO] Connected to Google Storage bucket: food_vision_bucket_with_object_versioning\n"
     ]
    },
    {
     "name": "stderr",
     "output_type": "stream",
     "text": [
      " 15%|█▌        | 100/658 [04:39<29:09,  3.14s/it]"
     ]
    },
    {
     "name": "stdout",
     "output_type": "stream",
     "text": [
      "[INFO] File food_photos/plum/8640973c-0f5d-4765-a290-a28b1c093e8e.jpeg uploaded to food_vision_bucket_with_object_versioning/all_images/8640973c-0f5d-4765-a290-a28b1c093e8e.jpeg.\n",
      "[INFO] File size: 3823581 bytes\n",
      "[INFO] Uploading food_photos/plum/a92f13ea-01a2-4492-99d2-beae187d313d.jpeg to all_images/a92f13ea-01a2-4492-99d2-beae187d313d.jpeg...\n",
      "[INFO] Connected to Google Storage bucket: food_vision_bucket_with_object_versioning\n"
     ]
    },
    {
     "name": "stderr",
     "output_type": "stream",
     "text": [
      " 15%|█▌        | 101/658 [04:42<28:16,  3.05s/it]"
     ]
    },
    {
     "name": "stdout",
     "output_type": "stream",
     "text": [
      "[INFO] File food_photos/plum/a92f13ea-01a2-4492-99d2-beae187d313d.jpeg uploaded to food_vision_bucket_with_object_versioning/all_images/a92f13ea-01a2-4492-99d2-beae187d313d.jpeg.\n",
      "[INFO] File size: 2463968 bytes\n",
      "[INFO] Uploading food_photos/plum/dd887974-8d74-435b-bd4e-bab8c793c68f.jpeg to all_images/dd887974-8d74-435b-bd4e-bab8c793c68f.jpeg...\n",
      "[INFO] Connected to Google Storage bucket: food_vision_bucket_with_object_versioning\n"
     ]
    },
    {
     "name": "stderr",
     "output_type": "stream",
     "text": [
      " 16%|█▌        | 102/658 [04:45<29:26,  3.18s/it]"
     ]
    },
    {
     "name": "stdout",
     "output_type": "stream",
     "text": [
      "[INFO] File food_photos/plum/dd887974-8d74-435b-bd4e-bab8c793c68f.jpeg uploaded to food_vision_bucket_with_object_versioning/all_images/dd887974-8d74-435b-bd4e-bab8c793c68f.jpeg.\n",
      "[INFO] File size: 2481928 bytes\n",
      "[INFO] Uploading food_photos/plum/ee9b0a6b-ac0f-48dc-9e6f-b62a3cdb6356.jpeg to all_images/ee9b0a6b-ac0f-48dc-9e6f-b62a3cdb6356.jpeg...\n",
      "[INFO] Connected to Google Storage bucket: food_vision_bucket_with_object_versioning\n"
     ]
    },
    {
     "name": "stderr",
     "output_type": "stream",
     "text": [
      " 16%|█▌        | 103/658 [04:48<29:45,  3.22s/it]"
     ]
    },
    {
     "name": "stdout",
     "output_type": "stream",
     "text": [
      "[INFO] File food_photos/plum/ee9b0a6b-ac0f-48dc-9e6f-b62a3cdb6356.jpeg uploaded to food_vision_bucket_with_object_versioning/all_images/ee9b0a6b-ac0f-48dc-9e6f-b62a3cdb6356.jpeg.\n",
      "[INFO] File size: 2889213 bytes\n",
      "[INFO] Uploading food_photos/plum/ae45d296-8fed-4d28-beee-4198c720a651.jpeg to all_images/ae45d296-8fed-4d28-beee-4198c720a651.jpeg...\n",
      "[INFO] Connected to Google Storage bucket: food_vision_bucket_with_object_versioning\n"
     ]
    },
    {
     "name": "stderr",
     "output_type": "stream",
     "text": [
      " 16%|█▌        | 104/658 [04:51<28:54,  3.13s/it]"
     ]
    },
    {
     "name": "stdout",
     "output_type": "stream",
     "text": [
      "[INFO] File food_photos/plum/ae45d296-8fed-4d28-beee-4198c720a651.jpeg uploaded to food_vision_bucket_with_object_versioning/all_images/ae45d296-8fed-4d28-beee-4198c720a651.jpeg.\n",
      "[INFO] File size: 2816300 bytes\n",
      "[INFO] Uploading food_photos/plum/df712c87-2d99-4bac-8531-ee0de0068085.jpeg to all_images/df712c87-2d99-4bac-8531-ee0de0068085.jpeg...\n",
      "[INFO] Connected to Google Storage bucket: food_vision_bucket_with_object_versioning\n"
     ]
    },
    {
     "name": "stderr",
     "output_type": "stream",
     "text": [
      " 16%|█▌        | 105/658 [04:55<30:40,  3.33s/it]"
     ]
    },
    {
     "name": "stdout",
     "output_type": "stream",
     "text": [
      "[INFO] File food_photos/plum/df712c87-2d99-4bac-8531-ee0de0068085.jpeg uploaded to food_vision_bucket_with_object_versioning/all_images/df712c87-2d99-4bac-8531-ee0de0068085.jpeg.\n",
      "[INFO] File size: 2607482 bytes\n",
      "[INFO] Uploading food_photos/plum/ab688063-909e-4a72-84ba-acab2ede4b6d.jpeg to all_images/ab688063-909e-4a72-84ba-acab2ede4b6d.jpeg...\n",
      "[INFO] Connected to Google Storage bucket: food_vision_bucket_with_object_versioning\n"
     ]
    },
    {
     "name": "stderr",
     "output_type": "stream",
     "text": [
      " 16%|█▌        | 106/658 [04:58<30:34,  3.32s/it]"
     ]
    },
    {
     "name": "stdout",
     "output_type": "stream",
     "text": [
      "[INFO] File food_photos/plum/ab688063-909e-4a72-84ba-acab2ede4b6d.jpeg uploaded to food_vision_bucket_with_object_versioning/all_images/ab688063-909e-4a72-84ba-acab2ede4b6d.jpeg.\n",
      "[INFO] File size: 2976375 bytes\n",
      "[INFO] Uploading food_photos/plum/3181bad5-cb27-48a9-9aee-bc1db20cd61f.jpeg to all_images/3181bad5-cb27-48a9-9aee-bc1db20cd61f.jpeg...\n",
      "[INFO] Connected to Google Storage bucket: food_vision_bucket_with_object_versioning\n"
     ]
    },
    {
     "name": "stderr",
     "output_type": "stream",
     "text": [
      " 16%|█▋        | 107/658 [05:02<32:35,  3.55s/it]"
     ]
    },
    {
     "name": "stdout",
     "output_type": "stream",
     "text": [
      "[INFO] File food_photos/plum/3181bad5-cb27-48a9-9aee-bc1db20cd61f.jpeg uploaded to food_vision_bucket_with_object_versioning/all_images/3181bad5-cb27-48a9-9aee-bc1db20cd61f.jpeg.\n",
      "[INFO] File size: 2862536 bytes\n",
      "[INFO] Uploading food_photos/plum/a70ba39a-6a0a-40b3-a2d1-12757be08f92.jpeg to all_images/a70ba39a-6a0a-40b3-a2d1-12757be08f92.jpeg...\n",
      "[INFO] Connected to Google Storage bucket: food_vision_bucket_with_object_versioning\n"
     ]
    },
    {
     "name": "stderr",
     "output_type": "stream",
     "text": [
      " 16%|█▋        | 108/658 [05:06<31:10,  3.40s/it]"
     ]
    },
    {
     "name": "stdout",
     "output_type": "stream",
     "text": [
      "[INFO] File food_photos/plum/a70ba39a-6a0a-40b3-a2d1-12757be08f92.jpeg uploaded to food_vision_bucket_with_object_versioning/all_images/a70ba39a-6a0a-40b3-a2d1-12757be08f92.jpeg.\n",
      "[INFO] File size: 2468777 bytes\n",
      "[INFO] Uploading food_photos/plum/ffd773a4-d45c-4170-924c-0cee8da19384.jpeg to all_images/ffd773a4-d45c-4170-924c-0cee8da19384.jpeg...\n",
      "[INFO] Connected to Google Storage bucket: food_vision_bucket_with_object_versioning\n"
     ]
    },
    {
     "name": "stderr",
     "output_type": "stream",
     "text": [
      " 17%|█▋        | 109/658 [05:08<29:37,  3.24s/it]"
     ]
    },
    {
     "name": "stdout",
     "output_type": "stream",
     "text": [
      "[INFO] File food_photos/plum/ffd773a4-d45c-4170-924c-0cee8da19384.jpeg uploaded to food_vision_bucket_with_object_versioning/all_images/ffd773a4-d45c-4170-924c-0cee8da19384.jpeg.\n",
      "[INFO] File size: 3236214 bytes\n",
      "[INFO] Uploading food_photos/plum/ac5acf9a-f4ac-4076-8b92-404d19563ee8.jpeg to all_images/ac5acf9a-f4ac-4076-8b92-404d19563ee8.jpeg...\n",
      "[INFO] Connected to Google Storage bucket: food_vision_bucket_with_object_versioning\n"
     ]
    },
    {
     "name": "stderr",
     "output_type": "stream",
     "text": [
      " 17%|█▋        | 110/658 [05:12<31:38,  3.46s/it]"
     ]
    },
    {
     "name": "stdout",
     "output_type": "stream",
     "text": [
      "[INFO] File food_photos/plum/ac5acf9a-f4ac-4076-8b92-404d19563ee8.jpeg uploaded to food_vision_bucket_with_object_versioning/all_images/ac5acf9a-f4ac-4076-8b92-404d19563ee8.jpeg.\n",
      "[INFO] File size: 2810473 bytes\n",
      "[INFO] Uploading food_photos/plum/71cb3b6f-2f27-4ca7-9d8f-cbc423b98c55.jpeg to all_images/71cb3b6f-2f27-4ca7-9d8f-cbc423b98c55.jpeg...\n",
      "[INFO] Connected to Google Storage bucket: food_vision_bucket_with_object_versioning\n"
     ]
    },
    {
     "name": "stderr",
     "output_type": "stream",
     "text": [
      " 17%|█▋        | 111/658 [05:16<32:20,  3.55s/it]"
     ]
    },
    {
     "name": "stdout",
     "output_type": "stream",
     "text": [
      "[INFO] File food_photos/plum/71cb3b6f-2f27-4ca7-9d8f-cbc423b98c55.jpeg uploaded to food_vision_bucket_with_object_versioning/all_images/71cb3b6f-2f27-4ca7-9d8f-cbc423b98c55.jpeg.\n",
      "[INFO] File size: 3355289 bytes\n",
      "[INFO] Uploading food_photos/plum/7af4735b-ac91-424c-a60c-d4df52e17912.jpeg to all_images/7af4735b-ac91-424c-a60c-d4df52e17912.jpeg...\n",
      "[INFO] Connected to Google Storage bucket: food_vision_bucket_with_object_versioning\n"
     ]
    },
    {
     "name": "stderr",
     "output_type": "stream",
     "text": [
      " 17%|█▋        | 112/658 [05:18<27:21,  3.01s/it]"
     ]
    },
    {
     "name": "stdout",
     "output_type": "stream",
     "text": [
      "[INFO] File food_photos/plum/7af4735b-ac91-424c-a60c-d4df52e17912.jpeg uploaded to food_vision_bucket_with_object_versioning/all_images/7af4735b-ac91-424c-a60c-d4df52e17912.jpeg.\n",
      "[INFO] File size: 1977581 bytes\n",
      "[INFO] Uploading food_photos/plum/b5acdafb-9093-48d2-9691-9f5721506f3f.jpeg to all_images/b5acdafb-9093-48d2-9691-9f5721506f3f.jpeg...\n",
      "[INFO] Connected to Google Storage bucket: food_vision_bucket_with_object_versioning\n"
     ]
    },
    {
     "name": "stderr",
     "output_type": "stream",
     "text": [
      " 17%|█▋        | 113/658 [05:21<28:50,  3.18s/it]"
     ]
    },
    {
     "name": "stdout",
     "output_type": "stream",
     "text": [
      "[INFO] File food_photos/plum/b5acdafb-9093-48d2-9691-9f5721506f3f.jpeg uploaded to food_vision_bucket_with_object_versioning/all_images/b5acdafb-9093-48d2-9691-9f5721506f3f.jpeg.\n",
      "[INFO] File size: 3914073 bytes\n",
      "[INFO] Uploading food_photos/plum/f17982bf-3799-4635-b125-f759dfe867cd.jpeg to all_images/f17982bf-3799-4635-b125-f759dfe867cd.jpeg...\n",
      "[INFO] Connected to Google Storage bucket: food_vision_bucket_with_object_versioning\n"
     ]
    },
    {
     "name": "stderr",
     "output_type": "stream",
     "text": [
      " 17%|█▋        | 114/658 [05:25<29:13,  3.22s/it]"
     ]
    },
    {
     "name": "stdout",
     "output_type": "stream",
     "text": [
      "[INFO] File food_photos/plum/f17982bf-3799-4635-b125-f759dfe867cd.jpeg uploaded to food_vision_bucket_with_object_versioning/all_images/f17982bf-3799-4635-b125-f759dfe867cd.jpeg.\n",
      "[INFO] File size: 2593065 bytes\n",
      "[INFO] Uploading food_photos/plum/c3f6d5ce-25f3-4942-b612-df3496c653fa.jpeg to all_images/c3f6d5ce-25f3-4942-b612-df3496c653fa.jpeg...\n",
      "[INFO] Connected to Google Storage bucket: food_vision_bucket_with_object_versioning\n"
     ]
    },
    {
     "name": "stderr",
     "output_type": "stream",
     "text": [
      " 17%|█▋        | 115/658 [05:28<29:01,  3.21s/it]"
     ]
    },
    {
     "name": "stdout",
     "output_type": "stream",
     "text": [
      "[INFO] File food_photos/plum/c3f6d5ce-25f3-4942-b612-df3496c653fa.jpeg uploaded to food_vision_bucket_with_object_versioning/all_images/c3f6d5ce-25f3-4942-b612-df3496c653fa.jpeg.\n",
      "[INFO] File size: 2111742 bytes\n",
      "[INFO] Uploading food_photos/plum/48586e4d-f1cb-4214-b0c3-eb5d50cda8f1.jpeg to all_images/48586e4d-f1cb-4214-b0c3-eb5d50cda8f1.jpeg...\n",
      "[INFO] Connected to Google Storage bucket: food_vision_bucket_with_object_versioning\n"
     ]
    },
    {
     "name": "stderr",
     "output_type": "stream",
     "text": [
      " 18%|█▊        | 116/658 [05:31<29:21,  3.25s/it]"
     ]
    },
    {
     "name": "stdout",
     "output_type": "stream",
     "text": [
      "[INFO] File food_photos/plum/48586e4d-f1cb-4214-b0c3-eb5d50cda8f1.jpeg uploaded to food_vision_bucket_with_object_versioning/all_images/48586e4d-f1cb-4214-b0c3-eb5d50cda8f1.jpeg.\n",
      "[INFO] File size: 2480553 bytes\n",
      "[INFO] Uploading food_photos/plum/582a8a9b-8087-4abb-91ea-e38751667909.jpeg to all_images/582a8a9b-8087-4abb-91ea-e38751667909.jpeg...\n",
      "[INFO] Connected to Google Storage bucket: food_vision_bucket_with_object_versioning\n"
     ]
    },
    {
     "name": "stderr",
     "output_type": "stream",
     "text": [
      " 18%|█▊        | 117/658 [05:33<25:51,  2.87s/it]"
     ]
    },
    {
     "name": "stdout",
     "output_type": "stream",
     "text": [
      "[INFO] File food_photos/plum/582a8a9b-8087-4abb-91ea-e38751667909.jpeg uploaded to food_vision_bucket_with_object_versioning/all_images/582a8a9b-8087-4abb-91ea-e38751667909.jpeg.\n",
      "[INFO] File size: 1826917 bytes\n",
      "[INFO] Uploading food_photos/plum/52f57d89-7267-4832-8c9f-3c854c985158.jpeg to all_images/52f57d89-7267-4832-8c9f-3c854c985158.jpeg...\n",
      "[INFO] Connected to Google Storage bucket: food_vision_bucket_with_object_versioning\n"
     ]
    },
    {
     "name": "stderr",
     "output_type": "stream",
     "text": [
      " 18%|█▊        | 118/658 [05:35<23:21,  2.60s/it]"
     ]
    },
    {
     "name": "stdout",
     "output_type": "stream",
     "text": [
      "[INFO] File food_photos/plum/52f57d89-7267-4832-8c9f-3c854c985158.jpeg uploaded to food_vision_bucket_with_object_versioning/all_images/52f57d89-7267-4832-8c9f-3c854c985158.jpeg.\n",
      "[INFO] File size: 1731688 bytes\n",
      "[INFO] Uploading food_photos/plum/4d95274e-fc6a-467c-b776-0aac6179d978.jpeg to all_images/4d95274e-fc6a-467c-b776-0aac6179d978.jpeg...\n",
      "[INFO] Connected to Google Storage bucket: food_vision_bucket_with_object_versioning\n"
     ]
    },
    {
     "name": "stderr",
     "output_type": "stream",
     "text": [
      " 18%|█▊        | 119/658 [05:39<26:32,  2.95s/it]"
     ]
    },
    {
     "name": "stdout",
     "output_type": "stream",
     "text": [
      "[INFO] File food_photos/plum/4d95274e-fc6a-467c-b776-0aac6179d978.jpeg uploaded to food_vision_bucket_with_object_versioning/all_images/4d95274e-fc6a-467c-b776-0aac6179d978.jpeg.\n",
      "[INFO] File size: 2684527 bytes\n",
      "[INFO] Uploading food_photos/plum/049c6ad1-2eb5-4e01-9997-b1bbcb9792f9.jpeg to all_images/049c6ad1-2eb5-4e01-9997-b1bbcb9792f9.jpeg...\n",
      "[INFO] Connected to Google Storage bucket: food_vision_bucket_with_object_versioning\n"
     ]
    },
    {
     "name": "stderr",
     "output_type": "stream",
     "text": [
      " 18%|█▊        | 120/658 [05:42<25:54,  2.89s/it]"
     ]
    },
    {
     "name": "stdout",
     "output_type": "stream",
     "text": [
      "[INFO] File food_photos/plum/049c6ad1-2eb5-4e01-9997-b1bbcb9792f9.jpeg uploaded to food_vision_bucket_with_object_versioning/all_images/049c6ad1-2eb5-4e01-9997-b1bbcb9792f9.jpeg.\n",
      "[INFO] File size: 3328623 bytes\n",
      "[INFO] Uploading food_photos/plum/6488542d-d068-4230-9baf-f8433130b6d6.jpeg to all_images/6488542d-d068-4230-9baf-f8433130b6d6.jpeg...\n",
      "[INFO] Connected to Google Storage bucket: food_vision_bucket_with_object_versioning\n"
     ]
    },
    {
     "name": "stderr",
     "output_type": "stream",
     "text": [
      " 18%|█▊        | 121/658 [05:45<27:10,  3.04s/it]"
     ]
    },
    {
     "name": "stdout",
     "output_type": "stream",
     "text": [
      "[INFO] File food_photos/plum/6488542d-d068-4230-9baf-f8433130b6d6.jpeg uploaded to food_vision_bucket_with_object_versioning/all_images/6488542d-d068-4230-9baf-f8433130b6d6.jpeg.\n",
      "[INFO] File size: 2991564 bytes\n",
      "[INFO] Uploading food_photos/plum/9f6748a0-a2ba-4c95-96bd-5adbb670cf8f.jpeg to all_images/9f6748a0-a2ba-4c95-96bd-5adbb670cf8f.jpeg...\n",
      "[INFO] Connected to Google Storage bucket: food_vision_bucket_with_object_versioning\n"
     ]
    },
    {
     "name": "stderr",
     "output_type": "stream",
     "text": [
      " 19%|█▊        | 122/658 [05:47<23:34,  2.64s/it]"
     ]
    },
    {
     "name": "stdout",
     "output_type": "stream",
     "text": [
      "[INFO] File food_photos/plum/9f6748a0-a2ba-4c95-96bd-5adbb670cf8f.jpeg uploaded to food_vision_bucket_with_object_versioning/all_images/9f6748a0-a2ba-4c95-96bd-5adbb670cf8f.jpeg.\n",
      "[INFO] File size: 2006285 bytes\n",
      "[INFO] Uploading food_photos/plum/a012a69c-8b8c-42d6-ba60-f37a383d4758.jpeg to all_images/a012a69c-8b8c-42d6-ba60-f37a383d4758.jpeg...\n",
      "[INFO] Connected to Google Storage bucket: food_vision_bucket_with_object_versioning\n"
     ]
    },
    {
     "name": "stderr",
     "output_type": "stream",
     "text": [
      " 19%|█▊        | 123/658 [05:50<25:31,  2.86s/it]"
     ]
    },
    {
     "name": "stdout",
     "output_type": "stream",
     "text": [
      "[INFO] File food_photos/plum/a012a69c-8b8c-42d6-ba60-f37a383d4758.jpeg uploaded to food_vision_bucket_with_object_versioning/all_images/a012a69c-8b8c-42d6-ba60-f37a383d4758.jpeg.\n",
      "[INFO] File size: 2263742 bytes\n",
      "[INFO] Uploading food_photos/ice_coffee/0019725c-4518-43b3-b22b-e625bff3fabc.jpeg to all_images/0019725c-4518-43b3-b22b-e625bff3fabc.jpeg...\n",
      "[INFO] Connected to Google Storage bucket: food_vision_bucket_with_object_versioning\n"
     ]
    },
    {
     "name": "stderr",
     "output_type": "stream",
     "text": [
      " 19%|█▉        | 124/658 [05:54<26:55,  3.03s/it]"
     ]
    },
    {
     "name": "stdout",
     "output_type": "stream",
     "text": [
      "[INFO] File food_photos/ice_coffee/0019725c-4518-43b3-b22b-e625bff3fabc.jpeg uploaded to food_vision_bucket_with_object_versioning/all_images/0019725c-4518-43b3-b22b-e625bff3fabc.jpeg.\n",
      "[INFO] File size: 2880639 bytes\n",
      "[INFO] Uploading food_photos/ice_coffee/cfe86edf-6e5d-4c3d-817e-f328726140ca.jpeg to all_images/cfe86edf-6e5d-4c3d-817e-f328726140ca.jpeg...\n",
      "[INFO] Connected to Google Storage bucket: food_vision_bucket_with_object_versioning\n"
     ]
    },
    {
     "name": "stderr",
     "output_type": "stream",
     "text": [
      " 19%|█▉        | 125/658 [05:56<24:57,  2.81s/it]"
     ]
    },
    {
     "name": "stdout",
     "output_type": "stream",
     "text": [
      "[INFO] File food_photos/ice_coffee/cfe86edf-6e5d-4c3d-817e-f328726140ca.jpeg uploaded to food_vision_bucket_with_object_versioning/all_images/cfe86edf-6e5d-4c3d-817e-f328726140ca.jpeg.\n",
      "[INFO] File size: 1977599 bytes\n",
      "[INFO] Uploading food_photos/ice_coffee/06076a6f-4921-45d7-81c7-ab80001c8126.jpeg to all_images/06076a6f-4921-45d7-81c7-ab80001c8126.jpeg...\n",
      "[INFO] Connected to Google Storage bucket: food_vision_bucket_with_object_versioning\n"
     ]
    },
    {
     "name": "stderr",
     "output_type": "stream",
     "text": [
      " 19%|█▉        | 126/658 [05:59<25:36,  2.89s/it]"
     ]
    },
    {
     "name": "stdout",
     "output_type": "stream",
     "text": [
      "[INFO] File food_photos/ice_coffee/06076a6f-4921-45d7-81c7-ab80001c8126.jpeg uploaded to food_vision_bucket_with_object_versioning/all_images/06076a6f-4921-45d7-81c7-ab80001c8126.jpeg.\n",
      "[INFO] File size: 2694133 bytes\n",
      "[INFO] Uploading food_photos/ice_coffee/d59bf8ad-ae86-4c1b-ae64-6a88b65ecc8c.jpeg to all_images/d59bf8ad-ae86-4c1b-ae64-6a88b65ecc8c.jpeg...\n",
      "[INFO] Connected to Google Storage bucket: food_vision_bucket_with_object_versioning\n"
     ]
    },
    {
     "name": "stderr",
     "output_type": "stream",
     "text": [
      " 19%|█▉        | 127/658 [06:01<23:25,  2.65s/it]"
     ]
    },
    {
     "name": "stdout",
     "output_type": "stream",
     "text": [
      "[INFO] File food_photos/ice_coffee/d59bf8ad-ae86-4c1b-ae64-6a88b65ecc8c.jpeg uploaded to food_vision_bucket_with_object_versioning/all_images/d59bf8ad-ae86-4c1b-ae64-6a88b65ecc8c.jpeg.\n",
      "[INFO] File size: 1994319 bytes\n",
      "[INFO] Uploading food_photos/ice_coffee/d4fe09f7-8716-40c4-804c-dba37d0b2937.jpeg to all_images/d4fe09f7-8716-40c4-804c-dba37d0b2937.jpeg...\n",
      "[INFO] Connected to Google Storage bucket: food_vision_bucket_with_object_versioning\n"
     ]
    },
    {
     "name": "stderr",
     "output_type": "stream",
     "text": [
      " 19%|█▉        | 128/658 [06:04<25:22,  2.87s/it]"
     ]
    },
    {
     "name": "stdout",
     "output_type": "stream",
     "text": [
      "[INFO] File food_photos/ice_coffee/d4fe09f7-8716-40c4-804c-dba37d0b2937.jpeg uploaded to food_vision_bucket_with_object_versioning/all_images/d4fe09f7-8716-40c4-804c-dba37d0b2937.jpeg.\n",
      "[INFO] File size: 2237551 bytes\n",
      "[INFO] Uploading food_photos/ice_coffee/070def58-f51e-41a8-b0bd-14b26511c241.jpeg to all_images/070def58-f51e-41a8-b0bd-14b26511c241.jpeg...\n",
      "[INFO] Connected to Google Storage bucket: food_vision_bucket_with_object_versioning\n"
     ]
    },
    {
     "name": "stderr",
     "output_type": "stream",
     "text": [
      " 20%|█▉        | 129/658 [06:06<22:17,  2.53s/it]"
     ]
    },
    {
     "name": "stdout",
     "output_type": "stream",
     "text": [
      "[INFO] File food_photos/ice_coffee/070def58-f51e-41a8-b0bd-14b26511c241.jpeg uploaded to food_vision_bucket_with_object_versioning/all_images/070def58-f51e-41a8-b0bd-14b26511c241.jpeg.\n",
      "[INFO] File size: 1481335 bytes\n",
      "[INFO] Uploading food_photos/ice_coffee/1cb52e8f-65c5-4a0d-85a2-941eeb2f6b34.jpeg to all_images/1cb52e8f-65c5-4a0d-85a2-941eeb2f6b34.jpeg...\n",
      "[INFO] Connected to Google Storage bucket: food_vision_bucket_with_object_versioning\n"
     ]
    },
    {
     "name": "stderr",
     "output_type": "stream",
     "text": [
      " 20%|█▉        | 130/658 [06:09<23:59,  2.73s/it]"
     ]
    },
    {
     "name": "stdout",
     "output_type": "stream",
     "text": [
      "[INFO] File food_photos/ice_coffee/1cb52e8f-65c5-4a0d-85a2-941eeb2f6b34.jpeg uploaded to food_vision_bucket_with_object_versioning/all_images/1cb52e8f-65c5-4a0d-85a2-941eeb2f6b34.jpeg.\n",
      "[INFO] File size: 2140831 bytes\n",
      "[INFO] Uploading food_photos/ice_coffee/c2dd492c-568e-4413-887e-bd12c1b58ac1.jpeg to all_images/c2dd492c-568e-4413-887e-bd12c1b58ac1.jpeg...\n",
      "[INFO] Connected to Google Storage bucket: food_vision_bucket_with_object_versioning\n"
     ]
    },
    {
     "name": "stderr",
     "output_type": "stream",
     "text": [
      " 20%|█▉        | 131/658 [06:12<22:42,  2.58s/it]"
     ]
    },
    {
     "name": "stdout",
     "output_type": "stream",
     "text": [
      "[INFO] File food_photos/ice_coffee/c2dd492c-568e-4413-887e-bd12c1b58ac1.jpeg uploaded to food_vision_bucket_with_object_versioning/all_images/c2dd492c-568e-4413-887e-bd12c1b58ac1.jpeg.\n",
      "[INFO] File size: 2071521 bytes\n",
      "[INFO] Uploading food_photos/ice_coffee/86f54aba-862b-4767-b47e-d8394aed3215.jpeg to all_images/86f54aba-862b-4767-b47e-d8394aed3215.jpeg...\n",
      "[INFO] Connected to Google Storage bucket: food_vision_bucket_with_object_versioning\n"
     ]
    },
    {
     "name": "stderr",
     "output_type": "stream",
     "text": [
      " 20%|██        | 132/658 [06:15<24:37,  2.81s/it]"
     ]
    },
    {
     "name": "stdout",
     "output_type": "stream",
     "text": [
      "[INFO] File food_photos/ice_coffee/86f54aba-862b-4767-b47e-d8394aed3215.jpeg uploaded to food_vision_bucket_with_object_versioning/all_images/86f54aba-862b-4767-b47e-d8394aed3215.jpeg.\n",
      "[INFO] File size: 2401577 bytes\n",
      "[INFO] Uploading food_photos/ice_coffee/5fb8c07d-c457-438f-99b2-b75d6f83f378.jpeg to all_images/5fb8c07d-c457-438f-99b2-b75d6f83f378.jpeg...\n",
      "[INFO] Connected to Google Storage bucket: food_vision_bucket_with_object_versioning\n"
     ]
    },
    {
     "name": "stderr",
     "output_type": "stream",
     "text": [
      " 20%|██        | 133/658 [06:17<21:54,  2.50s/it]"
     ]
    },
    {
     "name": "stdout",
     "output_type": "stream",
     "text": [
      "[INFO] File food_photos/ice_coffee/5fb8c07d-c457-438f-99b2-b75d6f83f378.jpeg uploaded to food_vision_bucket_with_object_versioning/all_images/5fb8c07d-c457-438f-99b2-b75d6f83f378.jpeg.\n",
      "[INFO] File size: 1786014 bytes\n",
      "[INFO] Uploading food_photos/ice_coffee/cde8708c-5c5f-4d2a-97b6-75a637578ba7.jpeg to all_images/cde8708c-5c5f-4d2a-97b6-75a637578ba7.jpeg...\n",
      "[INFO] Connected to Google Storage bucket: food_vision_bucket_with_object_versioning\n"
     ]
    },
    {
     "name": "stderr",
     "output_type": "stream",
     "text": [
      " 20%|██        | 134/658 [06:20<24:24,  2.79s/it]"
     ]
    },
    {
     "name": "stdout",
     "output_type": "stream",
     "text": [
      "[INFO] File food_photos/ice_coffee/cde8708c-5c5f-4d2a-97b6-75a637578ba7.jpeg uploaded to food_vision_bucket_with_object_versioning/all_images/cde8708c-5c5f-4d2a-97b6-75a637578ba7.jpeg.\n",
      "[INFO] File size: 2562905 bytes\n",
      "[INFO] Uploading food_photos/ice_coffee/e31fe258-26f9-4a70-9bc4-841c1bddce2f.jpeg to all_images/e31fe258-26f9-4a70-9bc4-841c1bddce2f.jpeg...\n",
      "[INFO] Connected to Google Storage bucket: food_vision_bucket_with_object_versioning\n"
     ]
    },
    {
     "name": "stderr",
     "output_type": "stream",
     "text": [
      " 21%|██        | 135/658 [06:22<21:15,  2.44s/it]"
     ]
    },
    {
     "name": "stdout",
     "output_type": "stream",
     "text": [
      "[INFO] File food_photos/ice_coffee/e31fe258-26f9-4a70-9bc4-841c1bddce2f.jpeg uploaded to food_vision_bucket_with_object_versioning/all_images/e31fe258-26f9-4a70-9bc4-841c1bddce2f.jpeg.\n",
      "[INFO] File size: 1348006 bytes\n",
      "[INFO] Uploading food_photos/ice_coffee/0fc433b3-600b-4053-8293-afa2e9380ce1.jpeg to all_images/0fc433b3-600b-4053-8293-afa2e9380ce1.jpeg...\n",
      "[INFO] Connected to Google Storage bucket: food_vision_bucket_with_object_versioning\n"
     ]
    },
    {
     "name": "stderr",
     "output_type": "stream",
     "text": [
      " 21%|██        | 136/658 [06:26<24:26,  2.81s/it]"
     ]
    },
    {
     "name": "stdout",
     "output_type": "stream",
     "text": [
      "[INFO] File food_photos/ice_coffee/0fc433b3-600b-4053-8293-afa2e9380ce1.jpeg uploaded to food_vision_bucket_with_object_versioning/all_images/0fc433b3-600b-4053-8293-afa2e9380ce1.jpeg.\n",
      "[INFO] File size: 2840674 bytes\n",
      "[INFO] Uploading food_photos/ice_coffee/04676835-1a4e-4efa-955d-ad4ef7793d88.jpeg to all_images/04676835-1a4e-4efa-955d-ad4ef7793d88.jpeg...\n",
      "[INFO] Connected to Google Storage bucket: food_vision_bucket_with_object_versioning\n"
     ]
    },
    {
     "name": "stderr",
     "output_type": "stream",
     "text": [
      " 21%|██        | 137/658 [06:29<25:43,  2.96s/it]"
     ]
    },
    {
     "name": "stdout",
     "output_type": "stream",
     "text": [
      "[INFO] File food_photos/ice_coffee/04676835-1a4e-4efa-955d-ad4ef7793d88.jpeg uploaded to food_vision_bucket_with_object_versioning/all_images/04676835-1a4e-4efa-955d-ad4ef7793d88.jpeg.\n",
      "[INFO] File size: 2671434 bytes\n",
      "[INFO] Uploading food_photos/ice_coffee/0c667b98-0154-4e8f-84c4-ff27ecd7f5f2.jpeg to all_images/0c667b98-0154-4e8f-84c4-ff27ecd7f5f2.jpeg...\n",
      "[INFO] Connected to Google Storage bucket: food_vision_bucket_with_object_versioning\n"
     ]
    },
    {
     "name": "stderr",
     "output_type": "stream",
     "text": [
      " 21%|██        | 138/658 [06:30<22:14,  2.57s/it]"
     ]
    },
    {
     "name": "stdout",
     "output_type": "stream",
     "text": [
      "[INFO] File food_photos/ice_coffee/0c667b98-0154-4e8f-84c4-ff27ecd7f5f2.jpeg uploaded to food_vision_bucket_with_object_versioning/all_images/0c667b98-0154-4e8f-84c4-ff27ecd7f5f2.jpeg.\n",
      "[INFO] File size: 1779617 bytes\n",
      "[INFO] Uploading food_photos/ice_coffee/870d6c0e-ca17-4ae8-b9b0-91171c67c326.jpeg to all_images/870d6c0e-ca17-4ae8-b9b0-91171c67c326.jpeg...\n",
      "[INFO] Connected to Google Storage bucket: food_vision_bucket_with_object_versioning\n"
     ]
    },
    {
     "name": "stderr",
     "output_type": "stream",
     "text": [
      " 21%|██        | 139/658 [06:35<27:54,  3.23s/it]"
     ]
    },
    {
     "name": "stdout",
     "output_type": "stream",
     "text": [
      "[INFO] File food_photos/ice_coffee/870d6c0e-ca17-4ae8-b9b0-91171c67c326.jpeg uploaded to food_vision_bucket_with_object_versioning/all_images/870d6c0e-ca17-4ae8-b9b0-91171c67c326.jpeg.\n",
      "[INFO] File size: 3231884 bytes\n",
      "[INFO] Uploading food_photos/ice_coffee/cce2347f-5ded-472e-b059-185cbe99025f.jpeg to all_images/cce2347f-5ded-472e-b059-185cbe99025f.jpeg...\n",
      "[INFO] Connected to Google Storage bucket: food_vision_bucket_with_object_versioning\n"
     ]
    },
    {
     "name": "stderr",
     "output_type": "stream",
     "text": [
      " 21%|██▏       | 140/658 [06:38<27:50,  3.22s/it]"
     ]
    },
    {
     "name": "stdout",
     "output_type": "stream",
     "text": [
      "[INFO] File food_photos/ice_coffee/cce2347f-5ded-472e-b059-185cbe99025f.jpeg uploaded to food_vision_bucket_with_object_versioning/all_images/cce2347f-5ded-472e-b059-185cbe99025f.jpeg.\n",
      "[INFO] File size: 2350829 bytes\n",
      "[INFO] Uploading food_photos/ice_coffee/28594ab9-0303-4a58-b11b-e470bc9137c0.jpeg to all_images/28594ab9-0303-4a58-b11b-e470bc9137c0.jpeg...\n",
      "[INFO] Connected to Google Storage bucket: food_vision_bucket_with_object_versioning\n"
     ]
    },
    {
     "name": "stderr",
     "output_type": "stream",
     "text": [
      " 21%|██▏       | 141/658 [06:40<24:19,  2.82s/it]"
     ]
    },
    {
     "name": "stdout",
     "output_type": "stream",
     "text": [
      "[INFO] File food_photos/ice_coffee/28594ab9-0303-4a58-b11b-e470bc9137c0.jpeg uploaded to food_vision_bucket_with_object_versioning/all_images/28594ab9-0303-4a58-b11b-e470bc9137c0.jpeg.\n",
      "[INFO] File size: 2058786 bytes\n",
      "[INFO] Uploading food_photos/ice_coffee/e86b4450-b67b-4944-83f3-95eb750b2998.jpeg to all_images/e86b4450-b67b-4944-83f3-95eb750b2998.jpeg...\n",
      "[INFO] Connected to Google Storage bucket: food_vision_bucket_with_object_versioning\n"
     ]
    },
    {
     "name": "stderr",
     "output_type": "stream",
     "text": [
      " 22%|██▏       | 142/658 [06:43<24:16,  2.82s/it]"
     ]
    },
    {
     "name": "stdout",
     "output_type": "stream",
     "text": [
      "[INFO] File food_photos/ice_coffee/e86b4450-b67b-4944-83f3-95eb750b2998.jpeg uploaded to food_vision_bucket_with_object_versioning/all_images/e86b4450-b67b-4944-83f3-95eb750b2998.jpeg.\n",
      "[INFO] File size: 2521405 bytes\n",
      "[INFO] Uploading food_photos/ice_coffee/d144dbc3-d276-4351-84d9-063a87366040.jpeg to all_images/d144dbc3-d276-4351-84d9-063a87366040.jpeg...\n",
      "[INFO] Connected to Google Storage bucket: food_vision_bucket_with_object_versioning\n"
     ]
    },
    {
     "name": "stderr",
     "output_type": "stream",
     "text": [
      " 22%|██▏       | 143/658 [06:45<21:54,  2.55s/it]"
     ]
    },
    {
     "name": "stdout",
     "output_type": "stream",
     "text": [
      "[INFO] File food_photos/ice_coffee/d144dbc3-d276-4351-84d9-063a87366040.jpeg uploaded to food_vision_bucket_with_object_versioning/all_images/d144dbc3-d276-4351-84d9-063a87366040.jpeg.\n",
      "[INFO] File size: 2072754 bytes\n",
      "[INFO] Uploading food_photos/ice_coffee/eb52b480-460f-47ff-8bfd-7738137e6db9.jpeg to all_images/eb52b480-460f-47ff-8bfd-7738137e6db9.jpeg...\n",
      "[INFO] Connected to Google Storage bucket: food_vision_bucket_with_object_versioning\n"
     ]
    },
    {
     "name": "stderr",
     "output_type": "stream",
     "text": [
      " 22%|██▏       | 144/658 [06:47<20:12,  2.36s/it]"
     ]
    },
    {
     "name": "stdout",
     "output_type": "stream",
     "text": [
      "[INFO] File food_photos/ice_coffee/eb52b480-460f-47ff-8bfd-7738137e6db9.jpeg uploaded to food_vision_bucket_with_object_versioning/all_images/eb52b480-460f-47ff-8bfd-7738137e6db9.jpeg.\n",
      "[INFO] File size: 1738666 bytes\n",
      "[INFO] Uploading food_photos/ice_coffee/f1dd3f85-c2fb-43b6-8fdd-68eb15f6192f.jpeg to all_images/f1dd3f85-c2fb-43b6-8fdd-68eb15f6192f.jpeg...\n",
      "[INFO] Connected to Google Storage bucket: food_vision_bucket_with_object_versioning\n"
     ]
    },
    {
     "name": "stderr",
     "output_type": "stream",
     "text": [
      " 22%|██▏       | 145/658 [06:49<19:00,  2.22s/it]"
     ]
    },
    {
     "name": "stdout",
     "output_type": "stream",
     "text": [
      "[INFO] File food_photos/ice_coffee/f1dd3f85-c2fb-43b6-8fdd-68eb15f6192f.jpeg uploaded to food_vision_bucket_with_object_versioning/all_images/f1dd3f85-c2fb-43b6-8fdd-68eb15f6192f.jpeg.\n",
      "[INFO] File size: 1919252 bytes\n",
      "[INFO] Uploading food_photos/ice_coffee/1674d062-1436-4f49-8c7e-2e171f1578b7.jpeg to all_images/1674d062-1436-4f49-8c7e-2e171f1578b7.jpeg...\n",
      "[INFO] Connected to Google Storage bucket: food_vision_bucket_with_object_versioning\n"
     ]
    },
    {
     "name": "stderr",
     "output_type": "stream",
     "text": [
      " 22%|██▏       | 146/658 [06:52<21:43,  2.55s/it]"
     ]
    },
    {
     "name": "stdout",
     "output_type": "stream",
     "text": [
      "[INFO] File food_photos/ice_coffee/1674d062-1436-4f49-8c7e-2e171f1578b7.jpeg uploaded to food_vision_bucket_with_object_versioning/all_images/1674d062-1436-4f49-8c7e-2e171f1578b7.jpeg.\n",
      "[INFO] File size: 2117617 bytes\n",
      "[INFO] Uploading food_photos/ice_coffee/0455abea-bd9e-43ad-bddc-d14b8f2d81e2.jpeg to all_images/0455abea-bd9e-43ad-bddc-d14b8f2d81e2.jpeg...\n",
      "[INFO] Connected to Google Storage bucket: food_vision_bucket_with_object_versioning\n"
     ]
    },
    {
     "name": "stderr",
     "output_type": "stream",
     "text": [
      " 22%|██▏       | 147/658 [06:55<23:31,  2.76s/it]"
     ]
    },
    {
     "name": "stdout",
     "output_type": "stream",
     "text": [
      "[INFO] File food_photos/ice_coffee/0455abea-bd9e-43ad-bddc-d14b8f2d81e2.jpeg uploaded to food_vision_bucket_with_object_versioning/all_images/0455abea-bd9e-43ad-bddc-d14b8f2d81e2.jpeg.\n",
      "[INFO] File size: 2195635 bytes\n",
      "[INFO] Uploading food_photos/ice_coffee/3df7ee77-9ff5-409c-b575-a727a12285ec.jpeg to all_images/3df7ee77-9ff5-409c-b575-a727a12285ec.jpeg...\n",
      "[INFO] Connected to Google Storage bucket: food_vision_bucket_with_object_versioning\n"
     ]
    },
    {
     "name": "stderr",
     "output_type": "stream",
     "text": [
      " 22%|██▏       | 148/658 [06:59<24:25,  2.87s/it]"
     ]
    },
    {
     "name": "stdout",
     "output_type": "stream",
     "text": [
      "[INFO] File food_photos/ice_coffee/3df7ee77-9ff5-409c-b575-a727a12285ec.jpeg uploaded to food_vision_bucket_with_object_versioning/all_images/3df7ee77-9ff5-409c-b575-a727a12285ec.jpeg.\n",
      "[INFO] File size: 2248940 bytes\n",
      "[INFO] Uploading food_photos/ice_coffee/52b1aa18-9f8c-4f52-b8d2-2bdbb187bae7.jpeg to all_images/52b1aa18-9f8c-4f52-b8d2-2bdbb187bae7.jpeg...\n",
      "[INFO] Connected to Google Storage bucket: food_vision_bucket_with_object_versioning\n"
     ]
    },
    {
     "name": "stderr",
     "output_type": "stream",
     "text": [
      " 23%|██▎       | 149/658 [07:02<25:05,  2.96s/it]"
     ]
    },
    {
     "name": "stdout",
     "output_type": "stream",
     "text": [
      "[INFO] File food_photos/ice_coffee/52b1aa18-9f8c-4f52-b8d2-2bdbb187bae7.jpeg uploaded to food_vision_bucket_with_object_versioning/all_images/52b1aa18-9f8c-4f52-b8d2-2bdbb187bae7.jpeg.\n",
      "[INFO] File size: 2110842 bytes\n",
      "[INFO] Uploading food_photos/ice_coffee/6581fc68-11d9-4261-b1ea-0bf26f935491.jpeg to all_images/6581fc68-11d9-4261-b1ea-0bf26f935491.jpeg...\n",
      "[INFO] Connected to Google Storage bucket: food_vision_bucket_with_object_versioning\n"
     ]
    },
    {
     "name": "stderr",
     "output_type": "stream",
     "text": [
      " 23%|██▎       | 150/658 [07:05<25:37,  3.03s/it]"
     ]
    },
    {
     "name": "stdout",
     "output_type": "stream",
     "text": [
      "[INFO] File food_photos/ice_coffee/6581fc68-11d9-4261-b1ea-0bf26f935491.jpeg uploaded to food_vision_bucket_with_object_versioning/all_images/6581fc68-11d9-4261-b1ea-0bf26f935491.jpeg.\n",
      "[INFO] File size: 2474924 bytes\n",
      "[INFO] Uploading food_photos/ice_coffee/034e5399-de00-45d8-b16c-66f17eca1184.jpeg to all_images/034e5399-de00-45d8-b16c-66f17eca1184.jpeg...\n",
      "[INFO] Connected to Google Storage bucket: food_vision_bucket_with_object_versioning\n"
     ]
    },
    {
     "name": "stderr",
     "output_type": "stream",
     "text": [
      " 23%|██▎       | 151/658 [07:09<27:22,  3.24s/it]"
     ]
    },
    {
     "name": "stdout",
     "output_type": "stream",
     "text": [
      "[INFO] File food_photos/ice_coffee/034e5399-de00-45d8-b16c-66f17eca1184.jpeg uploaded to food_vision_bucket_with_object_versioning/all_images/034e5399-de00-45d8-b16c-66f17eca1184.jpeg.\n",
      "[INFO] File size: 2916301 bytes\n",
      "[INFO] Uploading food_photos/ice_coffee/68e1ccd2-8334-49d4-9dbe-f4d2dcd9c68d.jpeg to all_images/68e1ccd2-8334-49d4-9dbe-f4d2dcd9c68d.jpeg...\n",
      "[INFO] Connected to Google Storage bucket: food_vision_bucket_with_object_versioning\n"
     ]
    },
    {
     "name": "stderr",
     "output_type": "stream",
     "text": [
      " 23%|██▎       | 152/658 [07:11<26:04,  3.09s/it]"
     ]
    },
    {
     "name": "stdout",
     "output_type": "stream",
     "text": [
      "[INFO] File food_photos/ice_coffee/68e1ccd2-8334-49d4-9dbe-f4d2dcd9c68d.jpeg uploaded to food_vision_bucket_with_object_versioning/all_images/68e1ccd2-8334-49d4-9dbe-f4d2dcd9c68d.jpeg.\n",
      "[INFO] File size: 2797325 bytes\n",
      "[INFO] Uploading food_photos/ice_coffee/3a5da813-83cf-454c-a7f3-2428ddac7bcd.jpeg to all_images/3a5da813-83cf-454c-a7f3-2428ddac7bcd.jpeg...\n",
      "[INFO] Connected to Google Storage bucket: food_vision_bucket_with_object_versioning\n"
     ]
    },
    {
     "name": "stderr",
     "output_type": "stream",
     "text": [
      " 23%|██▎       | 153/658 [07:15<26:45,  3.18s/it]"
     ]
    },
    {
     "name": "stdout",
     "output_type": "stream",
     "text": [
      "[INFO] File food_photos/ice_coffee/3a5da813-83cf-454c-a7f3-2428ddac7bcd.jpeg uploaded to food_vision_bucket_with_object_versioning/all_images/3a5da813-83cf-454c-a7f3-2428ddac7bcd.jpeg.\n",
      "[INFO] File size: 2974847 bytes\n",
      "[INFO] Uploading food_photos/ice_coffee/8e04332a-c44d-4bd0-adc9-e7075157f1cc.jpeg to all_images/8e04332a-c44d-4bd0-adc9-e7075157f1cc.jpeg...\n",
      "[INFO] Connected to Google Storage bucket: food_vision_bucket_with_object_versioning\n"
     ]
    },
    {
     "name": "stderr",
     "output_type": "stream",
     "text": [
      " 23%|██▎       | 154/658 [07:17<23:38,  2.81s/it]"
     ]
    },
    {
     "name": "stdout",
     "output_type": "stream",
     "text": [
      "[INFO] File food_photos/ice_coffee/8e04332a-c44d-4bd0-adc9-e7075157f1cc.jpeg uploaded to food_vision_bucket_with_object_versioning/all_images/8e04332a-c44d-4bd0-adc9-e7075157f1cc.jpeg.\n",
      "[INFO] File size: 1693101 bytes\n",
      "[INFO] Uploading food_photos/ice_coffee/3e0967ab-3a93-40bf-8827-e635c8ccc4d9.jpeg to all_images/3e0967ab-3a93-40bf-8827-e635c8ccc4d9.jpeg...\n",
      "[INFO] Connected to Google Storage bucket: food_vision_bucket_with_object_versioning\n"
     ]
    },
    {
     "name": "stderr",
     "output_type": "stream",
     "text": [
      " 24%|██▎       | 155/658 [07:20<25:15,  3.01s/it]"
     ]
    },
    {
     "name": "stdout",
     "output_type": "stream",
     "text": [
      "[INFO] File food_photos/ice_coffee/3e0967ab-3a93-40bf-8827-e635c8ccc4d9.jpeg uploaded to food_vision_bucket_with_object_versioning/all_images/3e0967ab-3a93-40bf-8827-e635c8ccc4d9.jpeg.\n",
      "[INFO] File size: 2129090 bytes\n",
      "[INFO] Uploading food_photos/ice_coffee/33fc4c68-ee54-4e09-8e5a-f1b65b1e585e.jpeg to all_images/33fc4c68-ee54-4e09-8e5a-f1b65b1e585e.jpeg...\n",
      "[INFO] Connected to Google Storage bucket: food_vision_bucket_with_object_versioning\n"
     ]
    },
    {
     "name": "stderr",
     "output_type": "stream",
     "text": [
      " 24%|██▎       | 156/658 [07:23<25:11,  3.01s/it]"
     ]
    },
    {
     "name": "stdout",
     "output_type": "stream",
     "text": [
      "[INFO] File food_photos/ice_coffee/33fc4c68-ee54-4e09-8e5a-f1b65b1e585e.jpeg uploaded to food_vision_bucket_with_object_versioning/all_images/33fc4c68-ee54-4e09-8e5a-f1b65b1e585e.jpeg.\n",
      "[INFO] File size: 2767171 bytes\n",
      "[INFO] Uploading food_photos/ice_coffee/849602cf-53a7-4418-83f4-7ccb0403a4c2.jpeg to all_images/849602cf-53a7-4418-83f4-7ccb0403a4c2.jpeg...\n",
      "[INFO] Connected to Google Storage bucket: food_vision_bucket_with_object_versioning\n"
     ]
    },
    {
     "name": "stderr",
     "output_type": "stream",
     "text": [
      " 24%|██▍       | 157/658 [07:27<27:29,  3.29s/it]"
     ]
    },
    {
     "name": "stdout",
     "output_type": "stream",
     "text": [
      "[INFO] File food_photos/ice_coffee/849602cf-53a7-4418-83f4-7ccb0403a4c2.jpeg uploaded to food_vision_bucket_with_object_versioning/all_images/849602cf-53a7-4418-83f4-7ccb0403a4c2.jpeg.\n",
      "[INFO] File size: 2355490 bytes\n",
      "[INFO] Uploading food_photos/ice_coffee/bac322eb-19bd-4f90-a4ac-d7536786a09b.jpeg to all_images/bac322eb-19bd-4f90-a4ac-d7536786a09b.jpeg...\n",
      "[INFO] Connected to Google Storage bucket: food_vision_bucket_with_object_versioning\n"
     ]
    },
    {
     "name": "stderr",
     "output_type": "stream",
     "text": [
      " 24%|██▍       | 158/658 [07:29<24:31,  2.94s/it]"
     ]
    },
    {
     "name": "stdout",
     "output_type": "stream",
     "text": [
      "[INFO] File food_photos/ice_coffee/bac322eb-19bd-4f90-a4ac-d7536786a09b.jpeg uploaded to food_vision_bucket_with_object_versioning/all_images/bac322eb-19bd-4f90-a4ac-d7536786a09b.jpeg.\n",
      "[INFO] File size: 1119665 bytes\n",
      "[INFO] Uploading food_photos/ice_coffee/d60eb96b-fbc5-471c-ae6a-b0d2cac2d60f.jpeg to all_images/d60eb96b-fbc5-471c-ae6a-b0d2cac2d60f.jpeg...\n",
      "[INFO] Connected to Google Storage bucket: food_vision_bucket_with_object_versioning\n"
     ]
    },
    {
     "name": "stderr",
     "output_type": "stream",
     "text": [
      " 24%|██▍       | 159/658 [07:31<21:34,  2.59s/it]"
     ]
    },
    {
     "name": "stdout",
     "output_type": "stream",
     "text": [
      "[INFO] File food_photos/ice_coffee/d60eb96b-fbc5-471c-ae6a-b0d2cac2d60f.jpeg uploaded to food_vision_bucket_with_object_versioning/all_images/d60eb96b-fbc5-471c-ae6a-b0d2cac2d60f.jpeg.\n",
      "[INFO] File size: 1466813 bytes\n",
      "[INFO] Uploading food_photos/ice_coffee/45ad34af-cc79-46e7-8fbc-b662ad29daa3.jpeg to all_images/45ad34af-cc79-46e7-8fbc-b662ad29daa3.jpeg...\n",
      "[INFO] Connected to Google Storage bucket: food_vision_bucket_with_object_versioning\n"
     ]
    },
    {
     "name": "stderr",
     "output_type": "stream",
     "text": [
      " 24%|██▍       | 160/658 [07:35<23:50,  2.87s/it]"
     ]
    },
    {
     "name": "stdout",
     "output_type": "stream",
     "text": [
      "[INFO] File food_photos/ice_coffee/45ad34af-cc79-46e7-8fbc-b662ad29daa3.jpeg uploaded to food_vision_bucket_with_object_versioning/all_images/45ad34af-cc79-46e7-8fbc-b662ad29daa3.jpeg.\n",
      "[INFO] File size: 2718393 bytes\n",
      "[INFO] Uploading food_photos/ice_coffee/f3e701d0-04db-4bad-b7c7-8b224f26ec51.jpeg to all_images/f3e701d0-04db-4bad-b7c7-8b224f26ec51.jpeg...\n",
      "[INFO] Connected to Google Storage bucket: food_vision_bucket_with_object_versioning\n"
     ]
    },
    {
     "name": "stderr",
     "output_type": "stream",
     "text": [
      " 24%|██▍       | 161/658 [07:36<20:13,  2.44s/it]"
     ]
    },
    {
     "name": "stdout",
     "output_type": "stream",
     "text": [
      "[INFO] File food_photos/ice_coffee/f3e701d0-04db-4bad-b7c7-8b224f26ec51.jpeg uploaded to food_vision_bucket_with_object_versioning/all_images/f3e701d0-04db-4bad-b7c7-8b224f26ec51.jpeg.\n",
      "[INFO] File size: 1133842 bytes\n",
      "[INFO] Uploading food_photos/ice_coffee/6f5de65f-2769-4c4d-96c5-3db012b80bf8.jpeg to all_images/6f5de65f-2769-4c4d-96c5-3db012b80bf8.jpeg...\n",
      "[INFO] Connected to Google Storage bucket: food_vision_bucket_with_object_versioning\n"
     ]
    },
    {
     "name": "stderr",
     "output_type": "stream",
     "text": [
      " 25%|██▍       | 162/658 [07:40<23:21,  2.83s/it]"
     ]
    },
    {
     "name": "stdout",
     "output_type": "stream",
     "text": [
      "[INFO] File food_photos/ice_coffee/6f5de65f-2769-4c4d-96c5-3db012b80bf8.jpeg uploaded to food_vision_bucket_with_object_versioning/all_images/6f5de65f-2769-4c4d-96c5-3db012b80bf8.jpeg.\n",
      "[INFO] File size: 2311602 bytes\n",
      "[INFO] Uploading food_photos/ice_coffee/cbbd80b6-a0ce-40f6-bde1-9b982d5cb6d7.jpeg to all_images/cbbd80b6-a0ce-40f6-bde1-9b982d5cb6d7.jpeg...\n",
      "[INFO] Connected to Google Storage bucket: food_vision_bucket_with_object_versioning\n"
     ]
    },
    {
     "name": "stderr",
     "output_type": "stream",
     "text": [
      " 25%|██▍       | 163/658 [07:42<21:18,  2.58s/it]"
     ]
    },
    {
     "name": "stdout",
     "output_type": "stream",
     "text": [
      "[INFO] File food_photos/ice_coffee/cbbd80b6-a0ce-40f6-bde1-9b982d5cb6d7.jpeg uploaded to food_vision_bucket_with_object_versioning/all_images/cbbd80b6-a0ce-40f6-bde1-9b982d5cb6d7.jpeg.\n",
      "[INFO] File size: 1675324 bytes\n",
      "[INFO] Uploading food_photos/ice_coffee/7adbe752-5791-42a9-9c50-a995a2f92e84.jpeg to all_images/7adbe752-5791-42a9-9c50-a995a2f92e84.jpeg...\n",
      "[INFO] Connected to Google Storage bucket: food_vision_bucket_with_object_versioning\n"
     ]
    },
    {
     "name": "stderr",
     "output_type": "stream",
     "text": [
      " 25%|██▍       | 164/658 [07:46<24:21,  2.96s/it]"
     ]
    },
    {
     "name": "stdout",
     "output_type": "stream",
     "text": [
      "[INFO] File food_photos/ice_coffee/7adbe752-5791-42a9-9c50-a995a2f92e84.jpeg uploaded to food_vision_bucket_with_object_versioning/all_images/7adbe752-5791-42a9-9c50-a995a2f92e84.jpeg.\n",
      "[INFO] File size: 3346400 bytes\n",
      "[INFO] Uploading food_photos/ice_coffee/b010c743-799d-49f4-95e5-9b9d3d824582.jpeg to all_images/b010c743-799d-49f4-95e5-9b9d3d824582.jpeg...\n",
      "[INFO] Connected to Google Storage bucket: food_vision_bucket_with_object_versioning\n"
     ]
    },
    {
     "name": "stderr",
     "output_type": "stream",
     "text": [
      " 25%|██▌       | 165/658 [07:48<22:08,  2.69s/it]"
     ]
    },
    {
     "name": "stdout",
     "output_type": "stream",
     "text": [
      "[INFO] File food_photos/ice_coffee/b010c743-799d-49f4-95e5-9b9d3d824582.jpeg uploaded to food_vision_bucket_with_object_versioning/all_images/b010c743-799d-49f4-95e5-9b9d3d824582.jpeg.\n",
      "[INFO] File size: 1931915 bytes\n",
      "[INFO] Uploading food_photos/ice_coffee/f57c23fd-2061-4bc7-8df1-f8dbe3bbf775.jpeg to all_images/f57c23fd-2061-4bc7-8df1-f8dbe3bbf775.jpeg...\n",
      "[INFO] Connected to Google Storage bucket: food_vision_bucket_with_object_versioning\n"
     ]
    },
    {
     "name": "stderr",
     "output_type": "stream",
     "text": [
      " 25%|██▌       | 166/658 [07:50<19:58,  2.44s/it]"
     ]
    },
    {
     "name": "stdout",
     "output_type": "stream",
     "text": [
      "[INFO] File food_photos/ice_coffee/f57c23fd-2061-4bc7-8df1-f8dbe3bbf775.jpeg uploaded to food_vision_bucket_with_object_versioning/all_images/f57c23fd-2061-4bc7-8df1-f8dbe3bbf775.jpeg.\n",
      "[INFO] File size: 1941073 bytes\n",
      "[INFO] Uploading food_photos/ice_coffee/142daecd-ec81-4485-bca1-c1de9ccb589c.jpeg to all_images/142daecd-ec81-4485-bca1-c1de9ccb589c.jpeg...\n",
      "[INFO] Connected to Google Storage bucket: food_vision_bucket_with_object_versioning\n"
     ]
    },
    {
     "name": "stderr",
     "output_type": "stream",
     "text": [
      " 25%|██▌       | 167/658 [07:52<19:00,  2.32s/it]"
     ]
    },
    {
     "name": "stdout",
     "output_type": "stream",
     "text": [
      "[INFO] File food_photos/ice_coffee/142daecd-ec81-4485-bca1-c1de9ccb589c.jpeg uploaded to food_vision_bucket_with_object_versioning/all_images/142daecd-ec81-4485-bca1-c1de9ccb589c.jpeg.\n",
      "[INFO] File size: 1889219 bytes\n",
      "[INFO] Uploading food_photos/ice_coffee/d11ec030-a4af-45e6-95ff-cc503347cc7d.jpeg to all_images/d11ec030-a4af-45e6-95ff-cc503347cc7d.jpeg...\n",
      "[INFO] Connected to Google Storage bucket: food_vision_bucket_with_object_versioning\n"
     ]
    },
    {
     "name": "stderr",
     "output_type": "stream",
     "text": [
      " 26%|██▌       | 168/658 [07:55<21:16,  2.61s/it]"
     ]
    },
    {
     "name": "stdout",
     "output_type": "stream",
     "text": [
      "[INFO] File food_photos/ice_coffee/d11ec030-a4af-45e6-95ff-cc503347cc7d.jpeg uploaded to food_vision_bucket_with_object_versioning/all_images/d11ec030-a4af-45e6-95ff-cc503347cc7d.jpeg.\n",
      "[INFO] File size: 2544500 bytes\n",
      "[INFO] Uploading food_photos/ice_coffee/4fe7a8a2-e673-4ce4-a806-105468c0afc0.jpeg to all_images/4fe7a8a2-e673-4ce4-a806-105468c0afc0.jpeg...\n",
      "[INFO] Connected to Google Storage bucket: food_vision_bucket_with_object_versioning\n"
     ]
    },
    {
     "name": "stderr",
     "output_type": "stream",
     "text": [
      " 26%|██▌       | 169/658 [07:57<19:39,  2.41s/it]"
     ]
    },
    {
     "name": "stdout",
     "output_type": "stream",
     "text": [
      "[INFO] File food_photos/ice_coffee/4fe7a8a2-e673-4ce4-a806-105468c0afc0.jpeg uploaded to food_vision_bucket_with_object_versioning/all_images/4fe7a8a2-e673-4ce4-a806-105468c0afc0.jpeg.\n",
      "[INFO] File size: 1822172 bytes\n",
      "[INFO] Uploading food_photos/ice_coffee/8a3c7618-41a2-44f5-b382-065b6da2d936.jpeg to all_images/8a3c7618-41a2-44f5-b382-065b6da2d936.jpeg...\n",
      "[INFO] Connected to Google Storage bucket: food_vision_bucket_with_object_versioning\n"
     ]
    },
    {
     "name": "stderr",
     "output_type": "stream",
     "text": [
      " 26%|██▌       | 170/658 [08:00<21:12,  2.61s/it]"
     ]
    },
    {
     "name": "stdout",
     "output_type": "stream",
     "text": [
      "[INFO] File food_photos/ice_coffee/8a3c7618-41a2-44f5-b382-065b6da2d936.jpeg uploaded to food_vision_bucket_with_object_versioning/all_images/8a3c7618-41a2-44f5-b382-065b6da2d936.jpeg.\n",
      "[INFO] File size: 3040217 bytes\n",
      "[INFO] Uploading food_photos/ice_coffee/4c47adc8-5162-4650-a3bf-483ec1396d8c.jpeg to all_images/4c47adc8-5162-4650-a3bf-483ec1396d8c.jpeg...\n",
      "[INFO] Connected to Google Storage bucket: food_vision_bucket_with_object_versioning\n"
     ]
    },
    {
     "name": "stderr",
     "output_type": "stream",
     "text": [
      " 26%|██▌       | 171/658 [08:02<18:57,  2.34s/it]"
     ]
    },
    {
     "name": "stdout",
     "output_type": "stream",
     "text": [
      "[INFO] File food_photos/ice_coffee/4c47adc8-5162-4650-a3bf-483ec1396d8c.jpeg uploaded to food_vision_bucket_with_object_versioning/all_images/4c47adc8-5162-4650-a3bf-483ec1396d8c.jpeg.\n",
      "[INFO] File size: 1944615 bytes\n",
      "[INFO] Uploading food_photos/ice_coffee/ed7a394c-d1cd-4947-b6b8-868fb446e216.jpeg to all_images/ed7a394c-d1cd-4947-b6b8-868fb446e216.jpeg...\n",
      "[INFO] Connected to Google Storage bucket: food_vision_bucket_with_object_versioning\n"
     ]
    },
    {
     "name": "stderr",
     "output_type": "stream",
     "text": [
      " 26%|██▌       | 172/658 [08:03<16:58,  2.10s/it]"
     ]
    },
    {
     "name": "stdout",
     "output_type": "stream",
     "text": [
      "[INFO] File food_photos/ice_coffee/ed7a394c-d1cd-4947-b6b8-868fb446e216.jpeg uploaded to food_vision_bucket_with_object_versioning/all_images/ed7a394c-d1cd-4947-b6b8-868fb446e216.jpeg.\n",
      "[INFO] File size: 1553734 bytes\n",
      "[INFO] Uploading food_photos/ice_coffee/69f79304-f9f8-40e2-b59a-5ab42a01afa3.jpeg to all_images/69f79304-f9f8-40e2-b59a-5ab42a01afa3.jpeg...\n",
      "[INFO] Connected to Google Storage bucket: food_vision_bucket_with_object_versioning\n"
     ]
    },
    {
     "name": "stderr",
     "output_type": "stream",
     "text": [
      " 26%|██▋       | 173/658 [08:05<15:43,  1.95s/it]"
     ]
    },
    {
     "name": "stdout",
     "output_type": "stream",
     "text": [
      "[INFO] File food_photos/ice_coffee/69f79304-f9f8-40e2-b59a-5ab42a01afa3.jpeg uploaded to food_vision_bucket_with_object_versioning/all_images/69f79304-f9f8-40e2-b59a-5ab42a01afa3.jpeg.\n",
      "[INFO] File size: 1607547 bytes\n",
      "[INFO] Uploading food_photos/ice_coffee/e691a85c-589d-4a39-b632-09e1ec6bae9f.jpeg to all_images/e691a85c-589d-4a39-b632-09e1ec6bae9f.jpeg...\n",
      "[INFO] Connected to Google Storage bucket: food_vision_bucket_with_object_versioning\n"
     ]
    },
    {
     "name": "stderr",
     "output_type": "stream",
     "text": [
      " 26%|██▋       | 174/658 [08:06<14:28,  1.79s/it]"
     ]
    },
    {
     "name": "stdout",
     "output_type": "stream",
     "text": [
      "[INFO] File food_photos/ice_coffee/e691a85c-589d-4a39-b632-09e1ec6bae9f.jpeg uploaded to food_vision_bucket_with_object_versioning/all_images/e691a85c-589d-4a39-b632-09e1ec6bae9f.jpeg.\n",
      "[INFO] File size: 1160368 bytes\n",
      "[INFO] Uploading food_photos/ice_coffee/49544d1c-2fcc-4949-9df9-5e22c6a23aca.jpeg to all_images/49544d1c-2fcc-4949-9df9-5e22c6a23aca.jpeg...\n",
      "[INFO] Connected to Google Storage bucket: food_vision_bucket_with_object_versioning\n"
     ]
    },
    {
     "name": "stderr",
     "output_type": "stream",
     "text": [
      " 27%|██▋       | 175/658 [08:08<13:52,  1.72s/it]"
     ]
    },
    {
     "name": "stdout",
     "output_type": "stream",
     "text": [
      "[INFO] File food_photos/ice_coffee/49544d1c-2fcc-4949-9df9-5e22c6a23aca.jpeg uploaded to food_vision_bucket_with_object_versioning/all_images/49544d1c-2fcc-4949-9df9-5e22c6a23aca.jpeg.\n",
      "[INFO] File size: 1659370 bytes\n",
      "[INFO] Uploading food_photos/ice_coffee/a2deb855-490c-488c-8a35-6dd5968bdf80.jpeg to all_images/a2deb855-490c-488c-8a35-6dd5968bdf80.jpeg...\n",
      "[INFO] Connected to Google Storage bucket: food_vision_bucket_with_object_versioning\n"
     ]
    },
    {
     "name": "stderr",
     "output_type": "stream",
     "text": [
      " 27%|██▋       | 176/658 [08:09<13:19,  1.66s/it]"
     ]
    },
    {
     "name": "stdout",
     "output_type": "stream",
     "text": [
      "[INFO] File food_photos/ice_coffee/a2deb855-490c-488c-8a35-6dd5968bdf80.jpeg uploaded to food_vision_bucket_with_object_versioning/all_images/a2deb855-490c-488c-8a35-6dd5968bdf80.jpeg.\n",
      "[INFO] File size: 1358666 bytes\n",
      "[INFO] Uploading food_photos/ice_coffee/34fb9aae-1922-426f-b5d3-45538ce2c91f.jpeg to all_images/34fb9aae-1922-426f-b5d3-45538ce2c91f.jpeg...\n",
      "[INFO] Connected to Google Storage bucket: food_vision_bucket_with_object_versioning\n"
     ]
    },
    {
     "name": "stderr",
     "output_type": "stream",
     "text": [
      " 27%|██▋       | 177/658 [08:11<13:13,  1.65s/it]"
     ]
    },
    {
     "name": "stdout",
     "output_type": "stream",
     "text": [
      "[INFO] File food_photos/ice_coffee/34fb9aae-1922-426f-b5d3-45538ce2c91f.jpeg uploaded to food_vision_bucket_with_object_versioning/all_images/34fb9aae-1922-426f-b5d3-45538ce2c91f.jpeg.\n",
      "[INFO] File size: 1967779 bytes\n",
      "[INFO] Uploading food_photos/ice_coffee/23ae42db-6c47-4a6e-8310-959feea553d1.jpeg to all_images/23ae42db-6c47-4a6e-8310-959feea553d1.jpeg...\n",
      "[INFO] Connected to Google Storage bucket: food_vision_bucket_with_object_versioning\n"
     ]
    },
    {
     "name": "stderr",
     "output_type": "stream",
     "text": [
      " 27%|██▋       | 178/658 [08:13<13:32,  1.69s/it]"
     ]
    },
    {
     "name": "stdout",
     "output_type": "stream",
     "text": [
      "[INFO] File food_photos/ice_coffee/23ae42db-6c47-4a6e-8310-959feea553d1.jpeg uploaded to food_vision_bucket_with_object_versioning/all_images/23ae42db-6c47-4a6e-8310-959feea553d1.jpeg.\n",
      "[INFO] File size: 2038222 bytes\n",
      "[INFO] Uploading food_photos/ice_coffee/11e08755-4cda-45f0-85f1-1559c5ac37e7.jpeg to all_images/11e08755-4cda-45f0-85f1-1559c5ac37e7.jpeg...\n",
      "[INFO] Connected to Google Storage bucket: food_vision_bucket_with_object_versioning\n"
     ]
    },
    {
     "name": "stderr",
     "output_type": "stream",
     "text": [
      " 27%|██▋       | 179/658 [08:16<17:18,  2.17s/it]"
     ]
    },
    {
     "name": "stdout",
     "output_type": "stream",
     "text": [
      "[INFO] File food_photos/ice_coffee/11e08755-4cda-45f0-85f1-1559c5ac37e7.jpeg uploaded to food_vision_bucket_with_object_versioning/all_images/11e08755-4cda-45f0-85f1-1559c5ac37e7.jpeg.\n",
      "[INFO] File size: 2828685 bytes\n",
      "[INFO] Uploading food_photos/ice_coffee/d96ab7c3-4dbd-4ed9-b4a5-fe4f8e77008d.jpeg to all_images/d96ab7c3-4dbd-4ed9-b4a5-fe4f8e77008d.jpeg...\n",
      "[INFO] Connected to Google Storage bucket: food_vision_bucket_with_object_versioning\n"
     ]
    },
    {
     "name": "stderr",
     "output_type": "stream",
     "text": [
      " 27%|██▋       | 180/658 [08:18<16:15,  2.04s/it]"
     ]
    },
    {
     "name": "stdout",
     "output_type": "stream",
     "text": [
      "[INFO] File food_photos/ice_coffee/d96ab7c3-4dbd-4ed9-b4a5-fe4f8e77008d.jpeg uploaded to food_vision_bucket_with_object_versioning/all_images/d96ab7c3-4dbd-4ed9-b4a5-fe4f8e77008d.jpeg.\n",
      "[INFO] File size: 1503124 bytes\n",
      "[INFO] Uploading food_photos/ice_coffee/dfe3b353-1c4a-460d-80ef-c3cbb9ab4748.jpeg to all_images/dfe3b353-1c4a-460d-80ef-c3cbb9ab4748.jpeg...\n",
      "[INFO] Connected to Google Storage bucket: food_vision_bucket_with_object_versioning\n"
     ]
    },
    {
     "name": "stderr",
     "output_type": "stream",
     "text": [
      " 28%|██▊       | 181/658 [08:21<19:04,  2.40s/it]"
     ]
    },
    {
     "name": "stdout",
     "output_type": "stream",
     "text": [
      "[INFO] File food_photos/ice_coffee/dfe3b353-1c4a-460d-80ef-c3cbb9ab4748.jpeg uploaded to food_vision_bucket_with_object_versioning/all_images/dfe3b353-1c4a-460d-80ef-c3cbb9ab4748.jpeg.\n",
      "[INFO] File size: 2486246 bytes\n",
      "[INFO] Uploading food_photos/ice_coffee/f91928e5-5eeb-4c7b-ae76-bd85aac44ce5.jpeg to all_images/f91928e5-5eeb-4c7b-ae76-bd85aac44ce5.jpeg...\n",
      "[INFO] Connected to Google Storage bucket: food_vision_bucket_with_object_versioning\n"
     ]
    },
    {
     "name": "stderr",
     "output_type": "stream",
     "text": [
      " 28%|██▊       | 182/658 [08:23<17:48,  2.24s/it]"
     ]
    },
    {
     "name": "stdout",
     "output_type": "stream",
     "text": [
      "[INFO] File food_photos/ice_coffee/f91928e5-5eeb-4c7b-ae76-bd85aac44ce5.jpeg uploaded to food_vision_bucket_with_object_versioning/all_images/f91928e5-5eeb-4c7b-ae76-bd85aac44ce5.jpeg.\n",
      "[INFO] File size: 1600248 bytes\n",
      "[INFO] Uploading food_photos/ice_coffee/895ac779-c7a9-4332-ad04-5b5617bd3005.jpeg to all_images/895ac779-c7a9-4332-ad04-5b5617bd3005.jpeg...\n",
      "[INFO] Connected to Google Storage bucket: food_vision_bucket_with_object_versioning\n"
     ]
    },
    {
     "name": "stderr",
     "output_type": "stream",
     "text": [
      " 28%|██▊       | 183/658 [08:25<17:25,  2.20s/it]"
     ]
    },
    {
     "name": "stdout",
     "output_type": "stream",
     "text": [
      "[INFO] File food_photos/ice_coffee/895ac779-c7a9-4332-ad04-5b5617bd3005.jpeg uploaded to food_vision_bucket_with_object_versioning/all_images/895ac779-c7a9-4332-ad04-5b5617bd3005.jpeg.\n",
      "[INFO] File size: 2069326 bytes\n",
      "[INFO] Uploading food_photos/orange_juice/876afe56-b090-4e7d-9939-3c777c41698d.jpeg to all_images/876afe56-b090-4e7d-9939-3c777c41698d.jpeg...\n",
      "[INFO] Connected to Google Storage bucket: food_vision_bucket_with_object_versioning\n"
     ]
    },
    {
     "name": "stderr",
     "output_type": "stream",
     "text": [
      " 28%|██▊       | 184/658 [08:28<19:53,  2.52s/it]"
     ]
    },
    {
     "name": "stdout",
     "output_type": "stream",
     "text": [
      "[INFO] File food_photos/orange_juice/876afe56-b090-4e7d-9939-3c777c41698d.jpeg uploaded to food_vision_bucket_with_object_versioning/all_images/876afe56-b090-4e7d-9939-3c777c41698d.jpeg.\n",
      "[INFO] File size: 2210219 bytes\n",
      "[INFO] Uploading food_photos/orange_juice/c84559a7-e08c-4b8d-8b97-a3c36c5e2bb9.jpeg to all_images/c84559a7-e08c-4b8d-8b97-a3c36c5e2bb9.jpeg...\n",
      "[INFO] Connected to Google Storage bucket: food_vision_bucket_with_object_versioning\n"
     ]
    },
    {
     "name": "stderr",
     "output_type": "stream",
     "text": [
      " 28%|██▊       | 185/658 [08:31<21:28,  2.72s/it]"
     ]
    },
    {
     "name": "stdout",
     "output_type": "stream",
     "text": [
      "[INFO] File food_photos/orange_juice/c84559a7-e08c-4b8d-8b97-a3c36c5e2bb9.jpeg uploaded to food_vision_bucket_with_object_versioning/all_images/c84559a7-e08c-4b8d-8b97-a3c36c5e2bb9.jpeg.\n",
      "[INFO] File size: 2820001 bytes\n",
      "[INFO] Uploading food_photos/orange_juice/399cf4fe-94bc-4365-8507-ecdfcb18e4d4.jpeg to all_images/399cf4fe-94bc-4365-8507-ecdfcb18e4d4.jpeg...\n",
      "[INFO] Connected to Google Storage bucket: food_vision_bucket_with_object_versioning\n"
     ]
    },
    {
     "name": "stderr",
     "output_type": "stream",
     "text": [
      " 28%|██▊       | 186/658 [08:33<19:40,  2.50s/it]"
     ]
    },
    {
     "name": "stdout",
     "output_type": "stream",
     "text": [
      "[INFO] File food_photos/orange_juice/399cf4fe-94bc-4365-8507-ecdfcb18e4d4.jpeg uploaded to food_vision_bucket_with_object_versioning/all_images/399cf4fe-94bc-4365-8507-ecdfcb18e4d4.jpeg.\n",
      "[INFO] File size: 1776953 bytes\n",
      "[INFO] Uploading food_photos/orange_juice/4fff6ca4-e180-447a-89e0-48082906c525.jpeg to all_images/4fff6ca4-e180-447a-89e0-48082906c525.jpeg...\n",
      "[INFO] Connected to Google Storage bucket: food_vision_bucket_with_object_versioning\n"
     ]
    },
    {
     "name": "stderr",
     "output_type": "stream",
     "text": [
      " 28%|██▊       | 187/658 [08:37<22:50,  2.91s/it]"
     ]
    },
    {
     "name": "stdout",
     "output_type": "stream",
     "text": [
      "[INFO] File food_photos/orange_juice/4fff6ca4-e180-447a-89e0-48082906c525.jpeg uploaded to food_vision_bucket_with_object_versioning/all_images/4fff6ca4-e180-447a-89e0-48082906c525.jpeg.\n",
      "[INFO] File size: 2670107 bytes\n",
      "[INFO] Uploading food_photos/orange_juice/eafff5a9-de91-40f4-8115-91b71160b07e.jpeg to all_images/eafff5a9-de91-40f4-8115-91b71160b07e.jpeg...\n",
      "[INFO] Connected to Google Storage bucket: food_vision_bucket_with_object_versioning\n"
     ]
    },
    {
     "name": "stderr",
     "output_type": "stream",
     "text": [
      " 29%|██▊       | 188/658 [08:39<19:51,  2.53s/it]"
     ]
    },
    {
     "name": "stdout",
     "output_type": "stream",
     "text": [
      "[INFO] File food_photos/orange_juice/eafff5a9-de91-40f4-8115-91b71160b07e.jpeg uploaded to food_vision_bucket_with_object_versioning/all_images/eafff5a9-de91-40f4-8115-91b71160b07e.jpeg.\n",
      "[INFO] File size: 2004752 bytes\n",
      "[INFO] Uploading food_photos/orange_juice/4c56898a-7036-48ca-892b-8cdcaca7cac0.jpeg to all_images/4c56898a-7036-48ca-892b-8cdcaca7cac0.jpeg...\n",
      "[INFO] Connected to Google Storage bucket: food_vision_bucket_with_object_versioning\n"
     ]
    },
    {
     "name": "stderr",
     "output_type": "stream",
     "text": [
      " 29%|██▊       | 189/658 [08:43<23:07,  2.96s/it]"
     ]
    },
    {
     "name": "stdout",
     "output_type": "stream",
     "text": [
      "[INFO] File food_photos/orange_juice/4c56898a-7036-48ca-892b-8cdcaca7cac0.jpeg uploaded to food_vision_bucket_with_object_versioning/all_images/4c56898a-7036-48ca-892b-8cdcaca7cac0.jpeg.\n",
      "[INFO] File size: 2268527 bytes\n",
      "[INFO] Uploading food_photos/orange_juice/9c9990a1-0469-4eaf-9139-34aef7b64ad3.jpeg to all_images/9c9990a1-0469-4eaf-9139-34aef7b64ad3.jpeg...\n",
      "[INFO] Connected to Google Storage bucket: food_vision_bucket_with_object_versioning\n"
     ]
    },
    {
     "name": "stderr",
     "output_type": "stream",
     "text": [
      " 29%|██▉       | 190/658 [08:46<23:59,  3.08s/it]"
     ]
    },
    {
     "name": "stdout",
     "output_type": "stream",
     "text": [
      "[INFO] File food_photos/orange_juice/9c9990a1-0469-4eaf-9139-34aef7b64ad3.jpeg uploaded to food_vision_bucket_with_object_versioning/all_images/9c9990a1-0469-4eaf-9139-34aef7b64ad3.jpeg.\n",
      "[INFO] File size: 2377833 bytes\n",
      "[INFO] Uploading food_photos/orange_juice/62c489ba-2180-49a5-b910-45b49578a6cc.jpeg to all_images/62c489ba-2180-49a5-b910-45b49578a6cc.jpeg...\n",
      "[INFO] Connected to Google Storage bucket: food_vision_bucket_with_object_versioning\n"
     ]
    },
    {
     "name": "stderr",
     "output_type": "stream",
     "text": [
      " 29%|██▉       | 191/658 [08:50<24:55,  3.20s/it]"
     ]
    },
    {
     "name": "stdout",
     "output_type": "stream",
     "text": [
      "[INFO] File food_photos/orange_juice/62c489ba-2180-49a5-b910-45b49578a6cc.jpeg uploaded to food_vision_bucket_with_object_versioning/all_images/62c489ba-2180-49a5-b910-45b49578a6cc.jpeg.\n",
      "[INFO] File size: 2373826 bytes\n",
      "[INFO] Uploading food_photos/orange_juice/a6fdce4b-b1a7-48ca-b87c-2e4cba998e18.jpeg to all_images/a6fdce4b-b1a7-48ca-b87c-2e4cba998e18.jpeg...\n",
      "[INFO] Connected to Google Storage bucket: food_vision_bucket_with_object_versioning\n"
     ]
    },
    {
     "name": "stderr",
     "output_type": "stream",
     "text": [
      " 29%|██▉       | 192/658 [08:53<24:29,  3.15s/it]"
     ]
    },
    {
     "name": "stdout",
     "output_type": "stream",
     "text": [
      "[INFO] File food_photos/orange_juice/a6fdce4b-b1a7-48ca-b87c-2e4cba998e18.jpeg uploaded to food_vision_bucket_with_object_versioning/all_images/a6fdce4b-b1a7-48ca-b87c-2e4cba998e18.jpeg.\n",
      "[INFO] File size: 2493825 bytes\n",
      "[INFO] Uploading food_photos/orange_juice/dd38a045-3514-4f02-8e6a-79ac264cfc28.jpeg to all_images/dd38a045-3514-4f02-8e6a-79ac264cfc28.jpeg...\n",
      "[INFO] Connected to Google Storage bucket: food_vision_bucket_with_object_versioning\n"
     ]
    },
    {
     "name": "stderr",
     "output_type": "stream",
     "text": [
      " 29%|██▉       | 193/658 [08:56<24:02,  3.10s/it]"
     ]
    },
    {
     "name": "stdout",
     "output_type": "stream",
     "text": [
      "[INFO] File food_photos/orange_juice/dd38a045-3514-4f02-8e6a-79ac264cfc28.jpeg uploaded to food_vision_bucket_with_object_versioning/all_images/dd38a045-3514-4f02-8e6a-79ac264cfc28.jpeg.\n",
      "[INFO] File size: 2424577 bytes\n",
      "[INFO] Uploading food_photos/orange_juice/f390dd8e-89a7-4528-9f0c-d2c2051c0a6f.jpeg to all_images/f390dd8e-89a7-4528-9f0c-d2c2051c0a6f.jpeg...\n",
      "[INFO] Connected to Google Storage bucket: food_vision_bucket_with_object_versioning\n"
     ]
    },
    {
     "name": "stderr",
     "output_type": "stream",
     "text": [
      " 29%|██▉       | 194/658 [08:59<25:09,  3.25s/it]"
     ]
    },
    {
     "name": "stdout",
     "output_type": "stream",
     "text": [
      "[INFO] File food_photos/orange_juice/f390dd8e-89a7-4528-9f0c-d2c2051c0a6f.jpeg uploaded to food_vision_bucket_with_object_versioning/all_images/f390dd8e-89a7-4528-9f0c-d2c2051c0a6f.jpeg.\n",
      "[INFO] File size: 2275092 bytes\n",
      "[INFO] Uploading food_photos/watermelon/5b35407c-eb57-41aa-94de-cc970c0124e5.jpeg to all_images/5b35407c-eb57-41aa-94de-cc970c0124e5.jpeg...\n",
      "[INFO] Connected to Google Storage bucket: food_vision_bucket_with_object_versioning\n"
     ]
    },
    {
     "name": "stderr",
     "output_type": "stream",
     "text": [
      " 30%|██▉       | 195/658 [09:01<21:19,  2.76s/it]"
     ]
    },
    {
     "name": "stdout",
     "output_type": "stream",
     "text": [
      "[INFO] File food_photos/watermelon/5b35407c-eb57-41aa-94de-cc970c0124e5.jpeg uploaded to food_vision_bucket_with_object_versioning/all_images/5b35407c-eb57-41aa-94de-cc970c0124e5.jpeg.\n",
      "[INFO] File size: 1097745 bytes\n",
      "[INFO] Uploading food_photos/watermelon/5f2f04f7-5d58-43b1-bdae-7e3589912730.jpeg to all_images/5f2f04f7-5d58-43b1-bdae-7e3589912730.jpeg...\n",
      "[INFO] Connected to Google Storage bucket: food_vision_bucket_with_object_versioning\n"
     ]
    },
    {
     "name": "stderr",
     "output_type": "stream",
     "text": [
      " 30%|██▉       | 196/658 [09:03<19:00,  2.47s/it]"
     ]
    },
    {
     "name": "stdout",
     "output_type": "stream",
     "text": [
      "[INFO] File food_photos/watermelon/5f2f04f7-5d58-43b1-bdae-7e3589912730.jpeg uploaded to food_vision_bucket_with_object_versioning/all_images/5f2f04f7-5d58-43b1-bdae-7e3589912730.jpeg.\n",
      "[INFO] File size: 1427374 bytes\n",
      "[INFO] Uploading food_photos/watermelon/2f59d523-73b5-4926-84ad-fa9be8c092d4.jpeg to all_images/2f59d523-73b5-4926-84ad-fa9be8c092d4.jpeg...\n",
      "[INFO] Connected to Google Storage bucket: food_vision_bucket_with_object_versioning\n"
     ]
    },
    {
     "name": "stderr",
     "output_type": "stream",
     "text": [
      " 30%|██▉       | 197/658 [09:04<16:52,  2.20s/it]"
     ]
    },
    {
     "name": "stdout",
     "output_type": "stream",
     "text": [
      "[INFO] File food_photos/watermelon/2f59d523-73b5-4926-84ad-fa9be8c092d4.jpeg uploaded to food_vision_bucket_with_object_versioning/all_images/2f59d523-73b5-4926-84ad-fa9be8c092d4.jpeg.\n",
      "[INFO] File size: 1881413 bytes\n",
      "[INFO] Uploading food_photos/watermelon/168e1bc2-96f6-4d50-a152-30e2f1199fd8.jpeg to all_images/168e1bc2-96f6-4d50-a152-30e2f1199fd8.jpeg...\n",
      "[INFO] Connected to Google Storage bucket: food_vision_bucket_with_object_versioning\n"
     ]
    },
    {
     "name": "stderr",
     "output_type": "stream",
     "text": [
      " 30%|███       | 198/658 [09:06<16:01,  2.09s/it]"
     ]
    },
    {
     "name": "stdout",
     "output_type": "stream",
     "text": [
      "[INFO] File food_photos/watermelon/168e1bc2-96f6-4d50-a152-30e2f1199fd8.jpeg uploaded to food_vision_bucket_with_object_versioning/all_images/168e1bc2-96f6-4d50-a152-30e2f1199fd8.jpeg.\n",
      "[INFO] File size: 1654544 bytes\n",
      "[INFO] Uploading food_photos/watermelon/571b4da1-b6cf-43c8-be63-b74df4123553.jpeg to all_images/571b4da1-b6cf-43c8-be63-b74df4123553.jpeg...\n",
      "[INFO] Connected to Google Storage bucket: food_vision_bucket_with_object_versioning\n"
     ]
    },
    {
     "name": "stderr",
     "output_type": "stream",
     "text": [
      " 30%|███       | 199/658 [09:08<15:57,  2.09s/it]"
     ]
    },
    {
     "name": "stdout",
     "output_type": "stream",
     "text": [
      "[INFO] File food_photos/watermelon/571b4da1-b6cf-43c8-be63-b74df4123553.jpeg uploaded to food_vision_bucket_with_object_versioning/all_images/571b4da1-b6cf-43c8-be63-b74df4123553.jpeg.\n",
      "[INFO] File size: 1564331 bytes\n",
      "[INFO] Uploading food_photos/watermelon/9c49b0b5-b5ce-49b6-b86f-c25281fc2b93.jpeg to all_images/9c49b0b5-b5ce-49b6-b86f-c25281fc2b93.jpeg...\n",
      "[INFO] Connected to Google Storage bucket: food_vision_bucket_with_object_versioning\n"
     ]
    },
    {
     "name": "stderr",
     "output_type": "stream",
     "text": [
      " 30%|███       | 200/658 [09:10<14:44,  1.93s/it]"
     ]
    },
    {
     "name": "stdout",
     "output_type": "stream",
     "text": [
      "[INFO] File food_photos/watermelon/9c49b0b5-b5ce-49b6-b86f-c25281fc2b93.jpeg uploaded to food_vision_bucket_with_object_versioning/all_images/9c49b0b5-b5ce-49b6-b86f-c25281fc2b93.jpeg.\n",
      "[INFO] File size: 1569780 bytes\n",
      "[INFO] Uploading food_photos/watermelon/99ab5042-bd3e-40e4-93ff-3fd8e78c84f0.jpeg to all_images/99ab5042-bd3e-40e4-93ff-3fd8e78c84f0.jpeg...\n",
      "[INFO] Connected to Google Storage bucket: food_vision_bucket_with_object_versioning\n"
     ]
    },
    {
     "name": "stderr",
     "output_type": "stream",
     "text": [
      " 31%|███       | 201/658 [09:12<14:42,  1.93s/it]"
     ]
    },
    {
     "name": "stdout",
     "output_type": "stream",
     "text": [
      "[INFO] File food_photos/watermelon/99ab5042-bd3e-40e4-93ff-3fd8e78c84f0.jpeg uploaded to food_vision_bucket_with_object_versioning/all_images/99ab5042-bd3e-40e4-93ff-3fd8e78c84f0.jpeg.\n",
      "[INFO] File size: 1711379 bytes\n",
      "[INFO] Uploading food_photos/watermelon/76411671-627b-415c-abe0-141ad0019dae.jpeg to all_images/76411671-627b-415c-abe0-141ad0019dae.jpeg...\n",
      "[INFO] Connected to Google Storage bucket: food_vision_bucket_with_object_versioning\n"
     ]
    },
    {
     "name": "stderr",
     "output_type": "stream",
     "text": [
      " 31%|███       | 202/658 [09:13<13:52,  1.83s/it]"
     ]
    },
    {
     "name": "stdout",
     "output_type": "stream",
     "text": [
      "[INFO] File food_photos/watermelon/76411671-627b-415c-abe0-141ad0019dae.jpeg uploaded to food_vision_bucket_with_object_versioning/all_images/76411671-627b-415c-abe0-141ad0019dae.jpeg.\n",
      "[INFO] File size: 1829176 bytes\n",
      "[INFO] Uploading food_photos/watermelon/7d620b22-476b-44b4-8267-2287aac885cc.jpeg to all_images/7d620b22-476b-44b4-8267-2287aac885cc.jpeg...\n",
      "[INFO] Connected to Google Storage bucket: food_vision_bucket_with_object_versioning\n"
     ]
    },
    {
     "name": "stderr",
     "output_type": "stream",
     "text": [
      " 31%|███       | 203/658 [09:15<13:27,  1.78s/it]"
     ]
    },
    {
     "name": "stdout",
     "output_type": "stream",
     "text": [
      "[INFO] File food_photos/watermelon/7d620b22-476b-44b4-8267-2287aac885cc.jpeg uploaded to food_vision_bucket_with_object_versioning/all_images/7d620b22-476b-44b4-8267-2287aac885cc.jpeg.\n",
      "[INFO] File size: 1649445 bytes\n",
      "[INFO] Uploading food_photos/watermelon/b8407790-66d2-4fa8-a4ee-f79a30745f82.jpeg to all_images/b8407790-66d2-4fa8-a4ee-f79a30745f82.jpeg...\n",
      "[INFO] Connected to Google Storage bucket: food_vision_bucket_with_object_versioning\n"
     ]
    },
    {
     "name": "stderr",
     "output_type": "stream",
     "text": [
      " 31%|███       | 204/658 [09:17<13:19,  1.76s/it]"
     ]
    },
    {
     "name": "stdout",
     "output_type": "stream",
     "text": [
      "[INFO] File food_photos/watermelon/b8407790-66d2-4fa8-a4ee-f79a30745f82.jpeg uploaded to food_vision_bucket_with_object_versioning/all_images/b8407790-66d2-4fa8-a4ee-f79a30745f82.jpeg.\n",
      "[INFO] File size: 1306768 bytes\n",
      "[INFO] Uploading food_photos/watermelon/b2d4dd2d-f87f-4c09-bd58-5c343dd3955e.jpeg to all_images/b2d4dd2d-f87f-4c09-bd58-5c343dd3955e.jpeg...\n",
      "[INFO] Connected to Google Storage bucket: food_vision_bucket_with_object_versioning\n"
     ]
    },
    {
     "name": "stderr",
     "output_type": "stream",
     "text": [
      " 31%|███       | 205/658 [09:19<13:37,  1.80s/it]"
     ]
    },
    {
     "name": "stdout",
     "output_type": "stream",
     "text": [
      "[INFO] File food_photos/watermelon/b2d4dd2d-f87f-4c09-bd58-5c343dd3955e.jpeg uploaded to food_vision_bucket_with_object_versioning/all_images/b2d4dd2d-f87f-4c09-bd58-5c343dd3955e.jpeg.\n",
      "[INFO] File size: 1817071 bytes\n",
      "[INFO] Uploading food_photos/watermelon/35ac6510-568a-409d-b0da-9f847efbeada.jpeg to all_images/35ac6510-568a-409d-b0da-9f847efbeada.jpeg...\n",
      "[INFO] Connected to Google Storage bucket: food_vision_bucket_with_object_versioning\n"
     ]
    },
    {
     "name": "stderr",
     "output_type": "stream",
     "text": [
      " 31%|███▏      | 206/658 [09:20<13:18,  1.77s/it]"
     ]
    },
    {
     "name": "stdout",
     "output_type": "stream",
     "text": [
      "[INFO] File food_photos/watermelon/35ac6510-568a-409d-b0da-9f847efbeada.jpeg uploaded to food_vision_bucket_with_object_versioning/all_images/35ac6510-568a-409d-b0da-9f847efbeada.jpeg.\n",
      "[INFO] File size: 1773612 bytes\n",
      "[INFO] Uploading food_photos/watermelon/5ed97b79-44ee-4949-82a5-07974fcc18d1.jpeg to all_images/5ed97b79-44ee-4949-82a5-07974fcc18d1.jpeg...\n",
      "[INFO] Connected to Google Storage bucket: food_vision_bucket_with_object_versioning\n"
     ]
    },
    {
     "name": "stderr",
     "output_type": "stream",
     "text": [
      " 31%|███▏      | 207/658 [09:22<13:42,  1.82s/it]"
     ]
    },
    {
     "name": "stdout",
     "output_type": "stream",
     "text": [
      "[INFO] File food_photos/watermelon/5ed97b79-44ee-4949-82a5-07974fcc18d1.jpeg uploaded to food_vision_bucket_with_object_versioning/all_images/5ed97b79-44ee-4949-82a5-07974fcc18d1.jpeg.\n",
      "[INFO] File size: 1408359 bytes\n",
      "[INFO] Uploading food_photos/watermelon/e1ade3da-4864-4ea9-baeb-e78a98434014.jpeg to all_images/e1ade3da-4864-4ea9-baeb-e78a98434014.jpeg...\n",
      "[INFO] Connected to Google Storage bucket: food_vision_bucket_with_object_versioning\n"
     ]
    },
    {
     "name": "stderr",
     "output_type": "stream",
     "text": [
      " 32%|███▏      | 208/658 [09:24<13:33,  1.81s/it]"
     ]
    },
    {
     "name": "stdout",
     "output_type": "stream",
     "text": [
      "[INFO] File food_photos/watermelon/e1ade3da-4864-4ea9-baeb-e78a98434014.jpeg uploaded to food_vision_bucket_with_object_versioning/all_images/e1ade3da-4864-4ea9-baeb-e78a98434014.jpeg.\n",
      "[INFO] File size: 1296407 bytes\n",
      "[INFO] Uploading food_photos/watermelon/167761d1-de05-48c7-8359-b2dbd20ace4e.jpeg to all_images/167761d1-de05-48c7-8359-b2dbd20ace4e.jpeg...\n",
      "[INFO] Connected to Google Storage bucket: food_vision_bucket_with_object_versioning\n"
     ]
    },
    {
     "name": "stderr",
     "output_type": "stream",
     "text": [
      " 32%|███▏      | 209/658 [09:25<12:35,  1.68s/it]"
     ]
    },
    {
     "name": "stdout",
     "output_type": "stream",
     "text": [
      "[INFO] File food_photos/watermelon/167761d1-de05-48c7-8359-b2dbd20ace4e.jpeg uploaded to food_vision_bucket_with_object_versioning/all_images/167761d1-de05-48c7-8359-b2dbd20ace4e.jpeg.\n",
      "[INFO] File size: 1092623 bytes\n",
      "[INFO] Uploading food_photos/watermelon/6cb32566-1297-49c5-98cd-ff91bccc2dd9.jpeg to all_images/6cb32566-1297-49c5-98cd-ff91bccc2dd9.jpeg...\n",
      "[INFO] Connected to Google Storage bucket: food_vision_bucket_with_object_versioning\n"
     ]
    },
    {
     "name": "stderr",
     "output_type": "stream",
     "text": [
      " 32%|███▏      | 210/658 [09:27<12:16,  1.64s/it]"
     ]
    },
    {
     "name": "stdout",
     "output_type": "stream",
     "text": [
      "[INFO] File food_photos/watermelon/6cb32566-1297-49c5-98cd-ff91bccc2dd9.jpeg uploaded to food_vision_bucket_with_object_versioning/all_images/6cb32566-1297-49c5-98cd-ff91bccc2dd9.jpeg.\n",
      "[INFO] File size: 1566670 bytes\n",
      "[INFO] Uploading food_photos/watermelon/3777f7dc-35b3-444a-93be-147ffcdb0595.jpeg to all_images/3777f7dc-35b3-444a-93be-147ffcdb0595.jpeg...\n",
      "[INFO] Connected to Google Storage bucket: food_vision_bucket_with_object_versioning\n"
     ]
    },
    {
     "name": "stderr",
     "output_type": "stream",
     "text": [
      " 32%|███▏      | 211/658 [09:31<16:52,  2.27s/it]"
     ]
    },
    {
     "name": "stdout",
     "output_type": "stream",
     "text": [
      "[INFO] File food_photos/watermelon/3777f7dc-35b3-444a-93be-147ffcdb0595.jpeg uploaded to food_vision_bucket_with_object_versioning/all_images/3777f7dc-35b3-444a-93be-147ffcdb0595.jpeg.\n",
      "[INFO] File size: 2185927 bytes\n",
      "[INFO] Uploading food_photos/watermelon/5339fda7-910e-49eb-96a2-cc94d506a325.jpeg to all_images/5339fda7-910e-49eb-96a2-cc94d506a325.jpeg...\n",
      "[INFO] Connected to Google Storage bucket: food_vision_bucket_with_object_versioning\n"
     ]
    },
    {
     "name": "stderr",
     "output_type": "stream",
     "text": [
      " 32%|███▏      | 212/658 [09:34<18:26,  2.48s/it]"
     ]
    },
    {
     "name": "stdout",
     "output_type": "stream",
     "text": [
      "[INFO] File food_photos/watermelon/5339fda7-910e-49eb-96a2-cc94d506a325.jpeg uploaded to food_vision_bucket_with_object_versioning/all_images/5339fda7-910e-49eb-96a2-cc94d506a325.jpeg.\n",
      "[INFO] File size: 2331434 bytes\n",
      "[INFO] Uploading food_photos/watermelon/68e7a861-75bc-4eb5-8969-651a94c178ff.jpeg to all_images/68e7a861-75bc-4eb5-8969-651a94c178ff.jpeg...\n",
      "[INFO] Connected to Google Storage bucket: food_vision_bucket_with_object_versioning\n"
     ]
    },
    {
     "name": "stderr",
     "output_type": "stream",
     "text": [
      " 32%|███▏      | 213/658 [09:35<15:55,  2.15s/it]"
     ]
    },
    {
     "name": "stdout",
     "output_type": "stream",
     "text": [
      "[INFO] File food_photos/watermelon/68e7a861-75bc-4eb5-8969-651a94c178ff.jpeg uploaded to food_vision_bucket_with_object_versioning/all_images/68e7a861-75bc-4eb5-8969-651a94c178ff.jpeg.\n",
      "[INFO] File size: 1169119 bytes\n",
      "[INFO] Uploading food_photos/watermelon/11286f1a-59c8-4891-b966-fd695b59ae47.jpeg to all_images/11286f1a-59c8-4891-b966-fd695b59ae47.jpeg...\n",
      "[INFO] Connected to Google Storage bucket: food_vision_bucket_with_object_versioning\n"
     ]
    },
    {
     "name": "stderr",
     "output_type": "stream",
     "text": [
      " 33%|███▎      | 214/658 [09:37<14:43,  1.99s/it]"
     ]
    },
    {
     "name": "stdout",
     "output_type": "stream",
     "text": [
      "[INFO] File food_photos/watermelon/11286f1a-59c8-4891-b966-fd695b59ae47.jpeg uploaded to food_vision_bucket_with_object_versioning/all_images/11286f1a-59c8-4891-b966-fd695b59ae47.jpeg.\n",
      "[INFO] File size: 1631434 bytes\n",
      "[INFO] Uploading food_photos/watermelon/8c6cb691-085a-4bae-a27f-fa9606f642ea.jpeg to all_images/8c6cb691-085a-4bae-a27f-fa9606f642ea.jpeg...\n",
      "[INFO] Connected to Google Storage bucket: food_vision_bucket_with_object_versioning\n"
     ]
    },
    {
     "name": "stderr",
     "output_type": "stream",
     "text": [
      " 33%|███▎      | 215/658 [09:38<14:29,  1.96s/it]"
     ]
    },
    {
     "name": "stdout",
     "output_type": "stream",
     "text": [
      "[INFO] File food_photos/watermelon/8c6cb691-085a-4bae-a27f-fa9606f642ea.jpeg uploaded to food_vision_bucket_with_object_versioning/all_images/8c6cb691-085a-4bae-a27f-fa9606f642ea.jpeg.\n",
      "[INFO] File size: 1799592 bytes\n",
      "[INFO] Uploading food_photos/watermelon/a4d3afe8-e7b3-444f-8bd7-9e0861348a9f.jpeg to all_images/a4d3afe8-e7b3-444f-8bd7-9e0861348a9f.jpeg...\n",
      "[INFO] Connected to Google Storage bucket: food_vision_bucket_with_object_versioning\n"
     ]
    },
    {
     "name": "stderr",
     "output_type": "stream",
     "text": [
      " 33%|███▎      | 216/658 [09:40<14:23,  1.95s/it]"
     ]
    },
    {
     "name": "stdout",
     "output_type": "stream",
     "text": [
      "[INFO] File food_photos/watermelon/a4d3afe8-e7b3-444f-8bd7-9e0861348a9f.jpeg uploaded to food_vision_bucket_with_object_versioning/all_images/a4d3afe8-e7b3-444f-8bd7-9e0861348a9f.jpeg.\n",
      "[INFO] File size: 1850658 bytes\n",
      "[INFO] Uploading food_photos/watermelon/63e881e8-6a74-4e76-a056-290ae52fb17c.jpeg to all_images/63e881e8-6a74-4e76-a056-290ae52fb17c.jpeg...\n",
      "[INFO] Connected to Google Storage bucket: food_vision_bucket_with_object_versioning\n"
     ]
    },
    {
     "name": "stderr",
     "output_type": "stream",
     "text": [
      " 33%|███▎      | 217/658 [09:42<13:01,  1.77s/it]"
     ]
    },
    {
     "name": "stdout",
     "output_type": "stream",
     "text": [
      "[INFO] File food_photos/watermelon/63e881e8-6a74-4e76-a056-290ae52fb17c.jpeg uploaded to food_vision_bucket_with_object_versioning/all_images/63e881e8-6a74-4e76-a056-290ae52fb17c.jpeg.\n",
      "[INFO] File size: 1020080 bytes\n",
      "[INFO] Uploading food_photos/watermelon/90bc13f1-9dae-4996-ab1b-1451a78cd32c.jpeg to all_images/90bc13f1-9dae-4996-ab1b-1451a78cd32c.jpeg...\n",
      "[INFO] Connected to Google Storage bucket: food_vision_bucket_with_object_versioning\n"
     ]
    },
    {
     "name": "stderr",
     "output_type": "stream",
     "text": [
      " 33%|███▎      | 218/658 [09:44<13:36,  1.86s/it]"
     ]
    },
    {
     "name": "stdout",
     "output_type": "stream",
     "text": [
      "[INFO] File food_photos/watermelon/90bc13f1-9dae-4996-ab1b-1451a78cd32c.jpeg uploaded to food_vision_bucket_with_object_versioning/all_images/90bc13f1-9dae-4996-ab1b-1451a78cd32c.jpeg.\n",
      "[INFO] File size: 1565436 bytes\n",
      "[INFO] Uploading food_photos/watermelon/efd020b7-5f96-4c33-b7b6-34b95718710d.jpeg to all_images/efd020b7-5f96-4c33-b7b6-34b95718710d.jpeg...\n",
      "[INFO] Connected to Google Storage bucket: food_vision_bucket_with_object_versioning\n"
     ]
    },
    {
     "name": "stderr",
     "output_type": "stream",
     "text": [
      " 33%|███▎      | 219/658 [09:45<12:37,  1.73s/it]"
     ]
    },
    {
     "name": "stdout",
     "output_type": "stream",
     "text": [
      "[INFO] File food_photos/watermelon/efd020b7-5f96-4c33-b7b6-34b95718710d.jpeg uploaded to food_vision_bucket_with_object_versioning/all_images/efd020b7-5f96-4c33-b7b6-34b95718710d.jpeg.\n",
      "[INFO] File size: 1157226 bytes\n",
      "[INFO] Uploading food_photos/watermelon/87a4cd85-9185-4b30-a73b-685e2f23733f.jpeg to all_images/87a4cd85-9185-4b30-a73b-685e2f23733f.jpeg...\n",
      "[INFO] Connected to Google Storage bucket: food_vision_bucket_with_object_versioning\n"
     ]
    },
    {
     "name": "stderr",
     "output_type": "stream",
     "text": [
      " 33%|███▎      | 220/658 [09:49<16:52,  2.31s/it]"
     ]
    },
    {
     "name": "stdout",
     "output_type": "stream",
     "text": [
      "[INFO] File food_photos/watermelon/87a4cd85-9185-4b30-a73b-685e2f23733f.jpeg uploaded to food_vision_bucket_with_object_versioning/all_images/87a4cd85-9185-4b30-a73b-685e2f23733f.jpeg.\n",
      "[INFO] File size: 2204886 bytes\n",
      "[INFO] Uploading food_photos/watermelon/d32930d6-0930-4c22-9876-78f9d0bfc002.jpeg to all_images/d32930d6-0930-4c22-9876-78f9d0bfc002.jpeg...\n",
      "[INFO] Connected to Google Storage bucket: food_vision_bucket_with_object_versioning\n"
     ]
    },
    {
     "name": "stderr",
     "output_type": "stream",
     "text": [
      " 34%|███▎      | 221/658 [09:51<16:55,  2.32s/it]"
     ]
    },
    {
     "name": "stdout",
     "output_type": "stream",
     "text": [
      "[INFO] File food_photos/watermelon/d32930d6-0930-4c22-9876-78f9d0bfc002.jpeg uploaded to food_vision_bucket_with_object_versioning/all_images/d32930d6-0930-4c22-9876-78f9d0bfc002.jpeg.\n",
      "[INFO] File size: 1473340 bytes\n",
      "[INFO] Uploading food_photos/watermelon/3881a048-00ac-49b6-a0df-6c8a63edcae0.jpeg to all_images/3881a048-00ac-49b6-a0df-6c8a63edcae0.jpeg...\n",
      "[INFO] Connected to Google Storage bucket: food_vision_bucket_with_object_versioning\n"
     ]
    },
    {
     "name": "stderr",
     "output_type": "stream",
     "text": [
      " 34%|███▎      | 222/658 [09:53<15:30,  2.14s/it]"
     ]
    },
    {
     "name": "stdout",
     "output_type": "stream",
     "text": [
      "[INFO] File food_photos/watermelon/3881a048-00ac-49b6-a0df-6c8a63edcae0.jpeg uploaded to food_vision_bucket_with_object_versioning/all_images/3881a048-00ac-49b6-a0df-6c8a63edcae0.jpeg.\n",
      "[INFO] File size: 1863828 bytes\n",
      "[INFO] Uploading food_photos/watermelon/4f934985-0dd9-46b2-b9f7-106978764db8.jpeg to all_images/4f934985-0dd9-46b2-b9f7-106978764db8.jpeg...\n",
      "[INFO] Connected to Google Storage bucket: food_vision_bucket_with_object_versioning\n"
     ]
    },
    {
     "name": "stderr",
     "output_type": "stream",
     "text": [
      " 34%|███▍      | 223/658 [09:54<13:56,  1.92s/it]"
     ]
    },
    {
     "name": "stdout",
     "output_type": "stream",
     "text": [
      "[INFO] File food_photos/watermelon/4f934985-0dd9-46b2-b9f7-106978764db8.jpeg uploaded to food_vision_bucket_with_object_versioning/all_images/4f934985-0dd9-46b2-b9f7-106978764db8.jpeg.\n",
      "[INFO] File size: 1139333 bytes\n",
      "[INFO] Uploading food_photos/watermelon/7edda28c-4ec1-45d0-aada-5296b7e5d337.jpeg to all_images/7edda28c-4ec1-45d0-aada-5296b7e5d337.jpeg...\n",
      "[INFO] Connected to Google Storage bucket: food_vision_bucket_with_object_versioning\n"
     ]
    },
    {
     "name": "stderr",
     "output_type": "stream",
     "text": [
      " 34%|███▍      | 224/658 [09:56<14:17,  1.98s/it]"
     ]
    },
    {
     "name": "stdout",
     "output_type": "stream",
     "text": [
      "[INFO] File food_photos/watermelon/7edda28c-4ec1-45d0-aada-5296b7e5d337.jpeg uploaded to food_vision_bucket_with_object_versioning/all_images/7edda28c-4ec1-45d0-aada-5296b7e5d337.jpeg.\n",
      "[INFO] File size: 1920862 bytes\n",
      "[INFO] Uploading food_photos/watermelon/92a7e03b-bd6f-4658-aa60-498b003a5fa0.jpeg to all_images/92a7e03b-bd6f-4658-aa60-498b003a5fa0.jpeg...\n",
      "[INFO] Connected to Google Storage bucket: food_vision_bucket_with_object_versioning\n"
     ]
    },
    {
     "name": "stderr",
     "output_type": "stream",
     "text": [
      " 34%|███▍      | 225/658 [09:59<14:53,  2.06s/it]"
     ]
    },
    {
     "name": "stdout",
     "output_type": "stream",
     "text": [
      "[INFO] File food_photos/watermelon/92a7e03b-bd6f-4658-aa60-498b003a5fa0.jpeg uploaded to food_vision_bucket_with_object_versioning/all_images/92a7e03b-bd6f-4658-aa60-498b003a5fa0.jpeg.\n",
      "[INFO] File size: 1928808 bytes\n",
      "[INFO] Uploading food_photos/watermelon/f0c0b20d-4820-4e44-97ae-91262ba60ae1.jpeg to all_images/f0c0b20d-4820-4e44-97ae-91262ba60ae1.jpeg...\n",
      "[INFO] Connected to Google Storage bucket: food_vision_bucket_with_object_versioning\n"
     ]
    },
    {
     "name": "stderr",
     "output_type": "stream",
     "text": [
      " 34%|███▍      | 226/658 [10:01<14:12,  1.97s/it]"
     ]
    },
    {
     "name": "stdout",
     "output_type": "stream",
     "text": [
      "[INFO] File food_photos/watermelon/f0c0b20d-4820-4e44-97ae-91262ba60ae1.jpeg uploaded to food_vision_bucket_with_object_versioning/all_images/f0c0b20d-4820-4e44-97ae-91262ba60ae1.jpeg.\n",
      "[INFO] File size: 1459579 bytes\n",
      "[INFO] Uploading food_photos/watermelon/ff27350e-5c94-434c-aad1-fe3bd03a6be9.jpeg to all_images/ff27350e-5c94-434c-aad1-fe3bd03a6be9.jpeg...\n",
      "[INFO] Connected to Google Storage bucket: food_vision_bucket_with_object_versioning\n"
     ]
    },
    {
     "name": "stderr",
     "output_type": "stream",
     "text": [
      " 34%|███▍      | 227/658 [10:03<14:29,  2.02s/it]"
     ]
    },
    {
     "name": "stdout",
     "output_type": "stream",
     "text": [
      "[INFO] File food_photos/watermelon/ff27350e-5c94-434c-aad1-fe3bd03a6be9.jpeg uploaded to food_vision_bucket_with_object_versioning/all_images/ff27350e-5c94-434c-aad1-fe3bd03a6be9.jpeg.\n",
      "[INFO] File size: 1969246 bytes\n",
      "[INFO] Uploading food_photos/watermelon/9daa4755-26ab-4c4f-9688-1fc84fee8f7e.jpeg to all_images/9daa4755-26ab-4c4f-9688-1fc84fee8f7e.jpeg...\n",
      "[INFO] Connected to Google Storage bucket: food_vision_bucket_with_object_versioning\n"
     ]
    },
    {
     "name": "stderr",
     "output_type": "stream",
     "text": [
      " 35%|███▍      | 228/658 [10:05<14:10,  1.98s/it]"
     ]
    },
    {
     "name": "stdout",
     "output_type": "stream",
     "text": [
      "[INFO] File food_photos/watermelon/9daa4755-26ab-4c4f-9688-1fc84fee8f7e.jpeg uploaded to food_vision_bucket_with_object_versioning/all_images/9daa4755-26ab-4c4f-9688-1fc84fee8f7e.jpeg.\n",
      "[INFO] File size: 1875170 bytes\n",
      "[INFO] Uploading food_photos/watermelon/f3bcc5bd-23e2-4c42-b3c6-f61e6de6db57.jpeg to all_images/f3bcc5bd-23e2-4c42-b3c6-f61e6de6db57.jpeg...\n",
      "[INFO] Connected to Google Storage bucket: food_vision_bucket_with_object_versioning\n"
     ]
    },
    {
     "name": "stderr",
     "output_type": "stream",
     "text": [
      " 35%|███▍      | 229/658 [10:08<17:16,  2.42s/it]"
     ]
    },
    {
     "name": "stdout",
     "output_type": "stream",
     "text": [
      "[INFO] File food_photos/watermelon/f3bcc5bd-23e2-4c42-b3c6-f61e6de6db57.jpeg uploaded to food_vision_bucket_with_object_versioning/all_images/f3bcc5bd-23e2-4c42-b3c6-f61e6de6db57.jpeg.\n",
      "[INFO] File size: 2270303 bytes\n",
      "[INFO] Uploading food_photos/watermelon/b285a1d7-f0ac-4987-ad3e-f667284c5b05.jpeg to all_images/b285a1d7-f0ac-4987-ad3e-f667284c5b05.jpeg...\n",
      "[INFO] Connected to Google Storage bucket: food_vision_bucket_with_object_versioning\n"
     ]
    },
    {
     "name": "stderr",
     "output_type": "stream",
     "text": [
      " 35%|███▍      | 230/658 [10:10<15:26,  2.16s/it]"
     ]
    },
    {
     "name": "stdout",
     "output_type": "stream",
     "text": [
      "[INFO] File food_photos/watermelon/b285a1d7-f0ac-4987-ad3e-f667284c5b05.jpeg uploaded to food_vision_bucket_with_object_versioning/all_images/b285a1d7-f0ac-4987-ad3e-f667284c5b05.jpeg.\n",
      "[INFO] File size: 1850992 bytes\n",
      "[INFO] Uploading food_photos/watermelon/9616b7fa-df05-4d3a-8916-8c7dfb67ed91.jpeg to all_images/9616b7fa-df05-4d3a-8916-8c7dfb67ed91.jpeg...\n",
      "[INFO] Connected to Google Storage bucket: food_vision_bucket_with_object_versioning\n"
     ]
    },
    {
     "name": "stderr",
     "output_type": "stream",
     "text": [
      " 35%|███▌      | 231/658 [10:11<14:12,  2.00s/it]"
     ]
    },
    {
     "name": "stdout",
     "output_type": "stream",
     "text": [
      "[INFO] File food_photos/watermelon/9616b7fa-df05-4d3a-8916-8c7dfb67ed91.jpeg uploaded to food_vision_bucket_with_object_versioning/all_images/9616b7fa-df05-4d3a-8916-8c7dfb67ed91.jpeg.\n",
      "[INFO] File size: 1657020 bytes\n",
      "[INFO] Uploading food_photos/watermelon/8239c385-45bd-4514-983f-4b6b6ef36a3c.jpeg to all_images/8239c385-45bd-4514-983f-4b6b6ef36a3c.jpeg...\n",
      "[INFO] Connected to Google Storage bucket: food_vision_bucket_with_object_versioning\n"
     ]
    },
    {
     "name": "stderr",
     "output_type": "stream",
     "text": [
      " 35%|███▌      | 232/658 [10:13<13:58,  1.97s/it]"
     ]
    },
    {
     "name": "stdout",
     "output_type": "stream",
     "text": [
      "[INFO] File food_photos/watermelon/8239c385-45bd-4514-983f-4b6b6ef36a3c.jpeg uploaded to food_vision_bucket_with_object_versioning/all_images/8239c385-45bd-4514-983f-4b6b6ef36a3c.jpeg.\n",
      "[INFO] File size: 1832087 bytes\n",
      "[INFO] Uploading food_photos/watermelon/c7e95498-8b2d-4800-99a9-525315af3b8d.jpeg to all_images/c7e95498-8b2d-4800-99a9-525315af3b8d.jpeg...\n",
      "[INFO] Connected to Google Storage bucket: food_vision_bucket_with_object_versioning\n"
     ]
    },
    {
     "name": "stderr",
     "output_type": "stream",
     "text": [
      " 35%|███▌      | 233/658 [10:15<14:05,  1.99s/it]"
     ]
    },
    {
     "name": "stdout",
     "output_type": "stream",
     "text": [
      "[INFO] File food_photos/watermelon/c7e95498-8b2d-4800-99a9-525315af3b8d.jpeg uploaded to food_vision_bucket_with_object_versioning/all_images/c7e95498-8b2d-4800-99a9-525315af3b8d.jpeg.\n",
      "[INFO] File size: 1862878 bytes\n",
      "[INFO] Uploading food_photos/watermelon/b032d6db-fcd6-4f4f-8be0-66248e5f57c9.jpeg to all_images/b032d6db-fcd6-4f4f-8be0-66248e5f57c9.jpeg...\n",
      "[INFO] Connected to Google Storage bucket: food_vision_bucket_with_object_versioning\n"
     ]
    },
    {
     "name": "stderr",
     "output_type": "stream",
     "text": [
      " 36%|███▌      | 234/658 [10:17<14:16,  2.02s/it]"
     ]
    },
    {
     "name": "stdout",
     "output_type": "stream",
     "text": [
      "[INFO] File food_photos/watermelon/b032d6db-fcd6-4f4f-8be0-66248e5f57c9.jpeg uploaded to food_vision_bucket_with_object_versioning/all_images/b032d6db-fcd6-4f4f-8be0-66248e5f57c9.jpeg.\n",
      "[INFO] File size: 1840032 bytes\n",
      "[INFO] Uploading food_photos/watermelon/1734c6a1-0204-4bf1-9ea7-0ade33a49d4f.jpeg to all_images/1734c6a1-0204-4bf1-9ea7-0ade33a49d4f.jpeg...\n",
      "[INFO] Connected to Google Storage bucket: food_vision_bucket_with_object_versioning\n"
     ]
    },
    {
     "name": "stderr",
     "output_type": "stream",
     "text": [
      " 36%|███▌      | 235/658 [10:19<13:24,  1.90s/it]"
     ]
    },
    {
     "name": "stdout",
     "output_type": "stream",
     "text": [
      "[INFO] File food_photos/watermelon/1734c6a1-0204-4bf1-9ea7-0ade33a49d4f.jpeg uploaded to food_vision_bucket_with_object_versioning/all_images/1734c6a1-0204-4bf1-9ea7-0ade33a49d4f.jpeg.\n",
      "[INFO] File size: 1808306 bytes\n",
      "[INFO] Uploading food_photos/watermelon/7ab14c96-52d2-491d-a750-abc0c2719a17.jpeg to all_images/7ab14c96-52d2-491d-a750-abc0c2719a17.jpeg...\n",
      "[INFO] Connected to Google Storage bucket: food_vision_bucket_with_object_versioning\n"
     ]
    },
    {
     "name": "stderr",
     "output_type": "stream",
     "text": [
      " 36%|███▌      | 236/658 [10:20<12:08,  1.73s/it]"
     ]
    },
    {
     "name": "stdout",
     "output_type": "stream",
     "text": [
      "[INFO] File food_photos/watermelon/7ab14c96-52d2-491d-a750-abc0c2719a17.jpeg uploaded to food_vision_bucket_with_object_versioning/all_images/7ab14c96-52d2-491d-a750-abc0c2719a17.jpeg.\n",
      "[INFO] File size: 1040347 bytes\n",
      "[INFO] Uploading food_photos/watermelon/b2ced756-63cb-4e45-a9c4-3192255fcc35.jpeg to all_images/b2ced756-63cb-4e45-a9c4-3192255fcc35.jpeg...\n",
      "[INFO] Connected to Google Storage bucket: food_vision_bucket_with_object_versioning\n"
     ]
    },
    {
     "name": "stderr",
     "output_type": "stream",
     "text": [
      " 36%|███▌      | 237/658 [10:22<11:54,  1.70s/it]"
     ]
    },
    {
     "name": "stdout",
     "output_type": "stream",
     "text": [
      "[INFO] File food_photos/watermelon/b2ced756-63cb-4e45-a9c4-3192255fcc35.jpeg uploaded to food_vision_bucket_with_object_versioning/all_images/b2ced756-63cb-4e45-a9c4-3192255fcc35.jpeg.\n",
      "[INFO] File size: 1955683 bytes\n",
      "[INFO] Uploading food_photos/watermelon/1879ce4c-38a4-432d-ad6a-c0eab38b1670.jpeg to all_images/1879ce4c-38a4-432d-ad6a-c0eab38b1670.jpeg...\n",
      "[INFO] Connected to Google Storage bucket: food_vision_bucket_with_object_versioning\n"
     ]
    },
    {
     "name": "stderr",
     "output_type": "stream",
     "text": [
      " 36%|███▌      | 238/658 [10:24<12:42,  1.82s/it]"
     ]
    },
    {
     "name": "stdout",
     "output_type": "stream",
     "text": [
      "[INFO] File food_photos/watermelon/1879ce4c-38a4-432d-ad6a-c0eab38b1670.jpeg uploaded to food_vision_bucket_with_object_versioning/all_images/1879ce4c-38a4-432d-ad6a-c0eab38b1670.jpeg.\n",
      "[INFO] File size: 2041992 bytes\n",
      "[INFO] Uploading food_photos/watermelon/3226e1bf-4655-4815-9e1d-efdf5b1a4aae.jpeg to all_images/3226e1bf-4655-4815-9e1d-efdf5b1a4aae.jpeg...\n",
      "[INFO] Connected to Google Storage bucket: food_vision_bucket_with_object_versioning\n"
     ]
    },
    {
     "name": "stderr",
     "output_type": "stream",
     "text": [
      " 36%|███▋      | 239/658 [10:25<12:10,  1.74s/it]"
     ]
    },
    {
     "name": "stdout",
     "output_type": "stream",
     "text": [
      "[INFO] File food_photos/watermelon/3226e1bf-4655-4815-9e1d-efdf5b1a4aae.jpeg uploaded to food_vision_bucket_with_object_versioning/all_images/3226e1bf-4655-4815-9e1d-efdf5b1a4aae.jpeg.\n",
      "[INFO] File size: 1516727 bytes\n",
      "[INFO] Uploading food_photos/lime/b3d66c16-1faa-494e-918b-5e78f7f0c3d7.jpeg to all_images/b3d66c16-1faa-494e-918b-5e78f7f0c3d7.jpeg...\n",
      "[INFO] Connected to Google Storage bucket: food_vision_bucket_with_object_versioning\n"
     ]
    },
    {
     "name": "stderr",
     "output_type": "stream",
     "text": [
      " 36%|███▋      | 240/658 [10:28<14:13,  2.04s/it]"
     ]
    },
    {
     "name": "stdout",
     "output_type": "stream",
     "text": [
      "[INFO] File food_photos/lime/b3d66c16-1faa-494e-918b-5e78f7f0c3d7.jpeg uploaded to food_vision_bucket_with_object_versioning/all_images/b3d66c16-1faa-494e-918b-5e78f7f0c3d7.jpeg.\n",
      "[INFO] File size: 2236612 bytes\n",
      "[INFO] Uploading food_photos/lime/fc4e1051-e559-4fa1-ab9a-8f739efbc6d9.jpeg to all_images/fc4e1051-e559-4fa1-ab9a-8f739efbc6d9.jpeg...\n",
      "[INFO] Connected to Google Storage bucket: food_vision_bucket_with_object_versioning\n"
     ]
    },
    {
     "name": "stderr",
     "output_type": "stream",
     "text": [
      " 37%|███▋      | 241/658 [10:31<16:42,  2.40s/it]"
     ]
    },
    {
     "name": "stdout",
     "output_type": "stream",
     "text": [
      "[INFO] File food_photos/lime/fc4e1051-e559-4fa1-ab9a-8f739efbc6d9.jpeg uploaded to food_vision_bucket_with_object_versioning/all_images/fc4e1051-e559-4fa1-ab9a-8f739efbc6d9.jpeg.\n",
      "[INFO] File size: 2180637 bytes\n",
      "[INFO] Uploading food_photos/lime/14c33954-9f83-44ed-88b2-a45fa68f0811.jpeg to all_images/14c33954-9f83-44ed-88b2-a45fa68f0811.jpeg...\n",
      "[INFO] Connected to Google Storage bucket: food_vision_bucket_with_object_versioning\n"
     ]
    },
    {
     "name": "stderr",
     "output_type": "stream",
     "text": [
      " 37%|███▋      | 242/658 [10:33<14:44,  2.13s/it]"
     ]
    },
    {
     "name": "stdout",
     "output_type": "stream",
     "text": [
      "[INFO] File food_photos/lime/14c33954-9f83-44ed-88b2-a45fa68f0811.jpeg uploaded to food_vision_bucket_with_object_versioning/all_images/14c33954-9f83-44ed-88b2-a45fa68f0811.jpeg.\n",
      "[INFO] File size: 1198927 bytes\n",
      "[INFO] Uploading food_photos/lime/130d7bd4-cdfa-4e21-bc04-9455ec02b9d5.jpeg to all_images/130d7bd4-cdfa-4e21-bc04-9455ec02b9d5.jpeg...\n",
      "[INFO] Connected to Google Storage bucket: food_vision_bucket_with_object_versioning\n"
     ]
    },
    {
     "name": "stderr",
     "output_type": "stream",
     "text": [
      " 37%|███▋      | 243/658 [10:36<16:39,  2.41s/it]"
     ]
    },
    {
     "name": "stdout",
     "output_type": "stream",
     "text": [
      "[INFO] File food_photos/lime/130d7bd4-cdfa-4e21-bc04-9455ec02b9d5.jpeg uploaded to food_vision_bucket_with_object_versioning/all_images/130d7bd4-cdfa-4e21-bc04-9455ec02b9d5.jpeg.\n",
      "[INFO] File size: 2104877 bytes\n",
      "[INFO] Uploading food_photos/lime/6760ae77-b8b2-4735-9f19-064fb4e94437.jpeg to all_images/6760ae77-b8b2-4735-9f19-064fb4e94437.jpeg...\n",
      "[INFO] Connected to Google Storage bucket: food_vision_bucket_with_object_versioning\n"
     ]
    },
    {
     "name": "stderr",
     "output_type": "stream",
     "text": [
      " 37%|███▋      | 244/658 [10:39<17:57,  2.60s/it]"
     ]
    },
    {
     "name": "stdout",
     "output_type": "stream",
     "text": [
      "[INFO] File food_photos/lime/6760ae77-b8b2-4735-9f19-064fb4e94437.jpeg uploaded to food_vision_bucket_with_object_versioning/all_images/6760ae77-b8b2-4735-9f19-064fb4e94437.jpeg.\n",
      "[INFO] File size: 2472231 bytes\n",
      "[INFO] Uploading food_photos/lime/dbadfbb0-c56b-4867-b123-954bb676e480.jpeg to all_images/dbadfbb0-c56b-4867-b123-954bb676e480.jpeg...\n",
      "[INFO] Connected to Google Storage bucket: food_vision_bucket_with_object_versioning\n"
     ]
    },
    {
     "name": "stderr",
     "output_type": "stream",
     "text": [
      " 37%|███▋      | 245/658 [10:42<19:45,  2.87s/it]"
     ]
    },
    {
     "name": "stdout",
     "output_type": "stream",
     "text": [
      "[INFO] File food_photos/lime/dbadfbb0-c56b-4867-b123-954bb676e480.jpeg uploaded to food_vision_bucket_with_object_versioning/all_images/dbadfbb0-c56b-4867-b123-954bb676e480.jpeg.\n",
      "[INFO] File size: 2424572 bytes\n",
      "[INFO] Uploading food_photos/lime/3a844083-2f34-4786-a19f-ed4fdf487079.jpeg to all_images/3a844083-2f34-4786-a19f-ed4fdf487079.jpeg...\n",
      "[INFO] Connected to Google Storage bucket: food_vision_bucket_with_object_versioning\n"
     ]
    },
    {
     "name": "stderr",
     "output_type": "stream",
     "text": [
      " 37%|███▋      | 246/658 [10:46<21:14,  3.09s/it]"
     ]
    },
    {
     "name": "stdout",
     "output_type": "stream",
     "text": [
      "[INFO] File food_photos/lime/3a844083-2f34-4786-a19f-ed4fdf487079.jpeg uploaded to food_vision_bucket_with_object_versioning/all_images/3a844083-2f34-4786-a19f-ed4fdf487079.jpeg.\n",
      "[INFO] File size: 2356576 bytes\n",
      "[INFO] Uploading food_photos/lime/9f082595-6882-4e44-b7a2-168a7a1994c5.jpeg to all_images/9f082595-6882-4e44-b7a2-168a7a1994c5.jpeg...\n",
      "[INFO] Connected to Google Storage bucket: food_vision_bucket_with_object_versioning\n"
     ]
    },
    {
     "name": "stderr",
     "output_type": "stream",
     "text": [
      " 38%|███▊      | 247/658 [10:48<18:39,  2.72s/it]"
     ]
    },
    {
     "name": "stdout",
     "output_type": "stream",
     "text": [
      "[INFO] File food_photos/lime/9f082595-6882-4e44-b7a2-168a7a1994c5.jpeg uploaded to food_vision_bucket_with_object_versioning/all_images/9f082595-6882-4e44-b7a2-168a7a1994c5.jpeg.\n",
      "[INFO] File size: 1952207 bytes\n",
      "[INFO] Uploading food_photos/lime/280996ed-b9a8-4d9e-917d-1f6007033b08.jpeg to all_images/280996ed-b9a8-4d9e-917d-1f6007033b08.jpeg...\n",
      "[INFO] Connected to Google Storage bucket: food_vision_bucket_with_object_versioning\n"
     ]
    },
    {
     "name": "stderr",
     "output_type": "stream",
     "text": [
      " 38%|███▊      | 248/658 [10:51<19:57,  2.92s/it]"
     ]
    },
    {
     "name": "stdout",
     "output_type": "stream",
     "text": [
      "[INFO] File food_photos/lime/280996ed-b9a8-4d9e-917d-1f6007033b08.jpeg uploaded to food_vision_bucket_with_object_versioning/all_images/280996ed-b9a8-4d9e-917d-1f6007033b08.jpeg.\n",
      "[INFO] File size: 2373562 bytes\n",
      "[INFO] Uploading food_photos/lime/4dd64bab-346c-4cf0-9912-4bf9aea5c143.jpeg to all_images/4dd64bab-346c-4cf0-9912-4bf9aea5c143.jpeg...\n",
      "[INFO] Connected to Google Storage bucket: food_vision_bucket_with_object_versioning\n"
     ]
    },
    {
     "name": "stderr",
     "output_type": "stream",
     "text": [
      " 38%|███▊      | 249/658 [10:54<20:15,  2.97s/it]"
     ]
    },
    {
     "name": "stdout",
     "output_type": "stream",
     "text": [
      "[INFO] File food_photos/lime/4dd64bab-346c-4cf0-9912-4bf9aea5c143.jpeg uploaded to food_vision_bucket_with_object_versioning/all_images/4dd64bab-346c-4cf0-9912-4bf9aea5c143.jpeg.\n",
      "[INFO] File size: 2528583 bytes\n",
      "[INFO] Uploading food_photos/lime/a8c4562f-8a02-4cca-a04e-89188246e5af.jpeg to all_images/a8c4562f-8a02-4cca-a04e-89188246e5af.jpeg...\n",
      "[INFO] Connected to Google Storage bucket: food_vision_bucket_with_object_versioning\n"
     ]
    },
    {
     "name": "stderr",
     "output_type": "stream",
     "text": [
      " 38%|███▊      | 250/658 [10:58<20:32,  3.02s/it]"
     ]
    },
    {
     "name": "stdout",
     "output_type": "stream",
     "text": [
      "[INFO] File food_photos/lime/a8c4562f-8a02-4cca-a04e-89188246e5af.jpeg uploaded to food_vision_bucket_with_object_versioning/all_images/a8c4562f-8a02-4cca-a04e-89188246e5af.jpeg.\n",
      "[INFO] File size: 2624053 bytes\n",
      "[INFO] Uploading food_photos/lime/d9b81f8e-b7be-4782-ac7d-3a246d0f13f2.jpeg to all_images/d9b81f8e-b7be-4782-ac7d-3a246d0f13f2.jpeg...\n",
      "[INFO] Connected to Google Storage bucket: food_vision_bucket_with_object_versioning\n"
     ]
    },
    {
     "name": "stderr",
     "output_type": "stream",
     "text": [
      " 38%|███▊      | 251/658 [10:59<17:18,  2.55s/it]"
     ]
    },
    {
     "name": "stdout",
     "output_type": "stream",
     "text": [
      "[INFO] File food_photos/lime/d9b81f8e-b7be-4782-ac7d-3a246d0f13f2.jpeg uploaded to food_vision_bucket_with_object_versioning/all_images/d9b81f8e-b7be-4782-ac7d-3a246d0f13f2.jpeg.\n",
      "[INFO] File size: 1311280 bytes\n",
      "[INFO] Uploading food_photos/lime/31d11b2a-40f6-4df5-b89e-9de017f2432c.jpeg to all_images/31d11b2a-40f6-4df5-b89e-9de017f2432c.jpeg...\n",
      "[INFO] Connected to Google Storage bucket: food_vision_bucket_with_object_versioning\n"
     ]
    },
    {
     "name": "stderr",
     "output_type": "stream",
     "text": [
      " 38%|███▊      | 252/658 [11:02<18:43,  2.77s/it]"
     ]
    },
    {
     "name": "stdout",
     "output_type": "stream",
     "text": [
      "[INFO] File food_photos/lime/31d11b2a-40f6-4df5-b89e-9de017f2432c.jpeg uploaded to food_vision_bucket_with_object_versioning/all_images/31d11b2a-40f6-4df5-b89e-9de017f2432c.jpeg.\n",
      "[INFO] File size: 2672218 bytes\n",
      "[INFO] Uploading food_photos/lime/3b9c7e3e-aae3-4f30-82cd-c47a5f9cf52e.jpeg to all_images/3b9c7e3e-aae3-4f30-82cd-c47a5f9cf52e.jpeg...\n",
      "[INFO] Connected to Google Storage bucket: food_vision_bucket_with_object_versioning\n"
     ]
    },
    {
     "name": "stderr",
     "output_type": "stream",
     "text": [
      " 38%|███▊      | 253/658 [11:06<20:14,  3.00s/it]"
     ]
    },
    {
     "name": "stdout",
     "output_type": "stream",
     "text": [
      "[INFO] File food_photos/lime/3b9c7e3e-aae3-4f30-82cd-c47a5f9cf52e.jpeg uploaded to food_vision_bucket_with_object_versioning/all_images/3b9c7e3e-aae3-4f30-82cd-c47a5f9cf52e.jpeg.\n",
      "[INFO] File size: 2460905 bytes\n",
      "[INFO] Uploading food_photos/lime/a7321cf3-28e4-4ef7-bbe0-7a8b545d4a09.jpeg to all_images/a7321cf3-28e4-4ef7-bbe0-7a8b545d4a09.jpeg...\n",
      "[INFO] Connected to Google Storage bucket: food_vision_bucket_with_object_versioning\n"
     ]
    },
    {
     "name": "stderr",
     "output_type": "stream",
     "text": [
      " 39%|███▊      | 254/658 [11:09<21:11,  3.15s/it]"
     ]
    },
    {
     "name": "stdout",
     "output_type": "stream",
     "text": [
      "[INFO] File food_photos/lime/a7321cf3-28e4-4ef7-bbe0-7a8b545d4a09.jpeg uploaded to food_vision_bucket_with_object_versioning/all_images/a7321cf3-28e4-4ef7-bbe0-7a8b545d4a09.jpeg.\n",
      "[INFO] File size: 2820794 bytes\n",
      "[INFO] Uploading food_photos/lime/b1c8aa2c-a68f-4804-8030-c56ce4d77088.jpeg to all_images/b1c8aa2c-a68f-4804-8030-c56ce4d77088.jpeg...\n",
      "[INFO] Connected to Google Storage bucket: food_vision_bucket_with_object_versioning\n"
     ]
    },
    {
     "name": "stderr",
     "output_type": "stream",
     "text": [
      " 39%|███▉      | 255/658 [11:11<17:36,  2.62s/it]"
     ]
    },
    {
     "name": "stdout",
     "output_type": "stream",
     "text": [
      "[INFO] File food_photos/lime/b1c8aa2c-a68f-4804-8030-c56ce4d77088.jpeg uploaded to food_vision_bucket_with_object_versioning/all_images/b1c8aa2c-a68f-4804-8030-c56ce4d77088.jpeg.\n",
      "[INFO] File size: 1129878 bytes\n",
      "[INFO] Uploading food_photos/lime/fff9c738-49fc-4f69-9819-60deb4ba8dfe.jpeg to all_images/fff9c738-49fc-4f69-9819-60deb4ba8dfe.jpeg...\n",
      "[INFO] Connected to Google Storage bucket: food_vision_bucket_with_object_versioning\n"
     ]
    },
    {
     "name": "stderr",
     "output_type": "stream",
     "text": [
      " 39%|███▉      | 256/658 [11:13<16:33,  2.47s/it]"
     ]
    },
    {
     "name": "stdout",
     "output_type": "stream",
     "text": [
      "[INFO] File food_photos/lime/fff9c738-49fc-4f69-9819-60deb4ba8dfe.jpeg uploaded to food_vision_bucket_with_object_versioning/all_images/fff9c738-49fc-4f69-9819-60deb4ba8dfe.jpeg.\n",
      "[INFO] File size: 1991905 bytes\n",
      "[INFO] Uploading food_photos/lime/1006c747-d42a-4755-bdb0-8867314a87f3.jpeg to all_images/1006c747-d42a-4755-bdb0-8867314a87f3.jpeg...\n",
      "[INFO] Connected to Google Storage bucket: food_vision_bucket_with_object_versioning\n"
     ]
    },
    {
     "name": "stderr",
     "output_type": "stream",
     "text": [
      " 39%|███▉      | 257/658 [11:16<18:35,  2.78s/it]"
     ]
    },
    {
     "name": "stdout",
     "output_type": "stream",
     "text": [
      "[INFO] File food_photos/lime/1006c747-d42a-4755-bdb0-8867314a87f3.jpeg uploaded to food_vision_bucket_with_object_versioning/all_images/1006c747-d42a-4755-bdb0-8867314a87f3.jpeg.\n",
      "[INFO] File size: 2552491 bytes\n",
      "[INFO] Uploading food_photos/lime/f661ed97-4bca-4d6b-968c-e110fc0d807b.jpeg to all_images/f661ed97-4bca-4d6b-968c-e110fc0d807b.jpeg...\n",
      "[INFO] Connected to Google Storage bucket: food_vision_bucket_with_object_versioning\n"
     ]
    },
    {
     "name": "stderr",
     "output_type": "stream",
     "text": [
      " 39%|███▉      | 258/658 [11:18<16:56,  2.54s/it]"
     ]
    },
    {
     "name": "stdout",
     "output_type": "stream",
     "text": [
      "[INFO] File food_photos/lime/f661ed97-4bca-4d6b-968c-e110fc0d807b.jpeg uploaded to food_vision_bucket_with_object_versioning/all_images/f661ed97-4bca-4d6b-968c-e110fc0d807b.jpeg.\n",
      "[INFO] File size: 1958946 bytes\n",
      "[INFO] Uploading food_photos/lime/a9e80421-efdf-4949-82b2-240722acac59.jpeg to all_images/a9e80421-efdf-4949-82b2-240722acac59.jpeg...\n",
      "[INFO] Connected to Google Storage bucket: food_vision_bucket_with_object_versioning\n"
     ]
    },
    {
     "name": "stderr",
     "output_type": "stream",
     "text": [
      " 39%|███▉      | 259/658 [11:20<15:11,  2.28s/it]"
     ]
    },
    {
     "name": "stdout",
     "output_type": "stream",
     "text": [
      "[INFO] File food_photos/lime/a9e80421-efdf-4949-82b2-240722acac59.jpeg uploaded to food_vision_bucket_with_object_versioning/all_images/a9e80421-efdf-4949-82b2-240722acac59.jpeg.\n",
      "[INFO] File size: 2076270 bytes\n",
      "[INFO] Uploading food_photos/lime/604815ff-62cc-43d3-ad88-21e443cc298a.jpeg to all_images/604815ff-62cc-43d3-ad88-21e443cc298a.jpeg...\n",
      "[INFO] Connected to Google Storage bucket: food_vision_bucket_with_object_versioning\n"
     ]
    },
    {
     "name": "stderr",
     "output_type": "stream",
     "text": [
      " 40%|███▉      | 260/658 [11:23<16:45,  2.53s/it]"
     ]
    },
    {
     "name": "stdout",
     "output_type": "stream",
     "text": [
      "[INFO] File food_photos/lime/604815ff-62cc-43d3-ad88-21e443cc298a.jpeg uploaded to food_vision_bucket_with_object_versioning/all_images/604815ff-62cc-43d3-ad88-21e443cc298a.jpeg.\n",
      "[INFO] File size: 2798266 bytes\n",
      "[INFO] Uploading food_photos/lime/5460667c-d0aa-46a4-9ccc-05cd33bb7905.jpeg to all_images/5460667c-d0aa-46a4-9ccc-05cd33bb7905.jpeg...\n",
      "[INFO] Connected to Google Storage bucket: food_vision_bucket_with_object_versioning\n"
     ]
    },
    {
     "name": "stderr",
     "output_type": "stream",
     "text": [
      " 40%|███▉      | 261/658 [11:25<15:30,  2.34s/it]"
     ]
    },
    {
     "name": "stdout",
     "output_type": "stream",
     "text": [
      "[INFO] File food_photos/lime/5460667c-d0aa-46a4-9ccc-05cd33bb7905.jpeg uploaded to food_vision_bucket_with_object_versioning/all_images/5460667c-d0aa-46a4-9ccc-05cd33bb7905.jpeg.\n",
      "[INFO] File size: 1850054 bytes\n",
      "[INFO] Uploading food_photos/lime/82ee2aa8-4a5c-4dfa-abcf-e24a879100e1.jpeg to all_images/82ee2aa8-4a5c-4dfa-abcf-e24a879100e1.jpeg...\n",
      "[INFO] Connected to Google Storage bucket: food_vision_bucket_with_object_versioning\n"
     ]
    },
    {
     "name": "stderr",
     "output_type": "stream",
     "text": [
      " 40%|███▉      | 262/658 [11:28<17:35,  2.66s/it]"
     ]
    },
    {
     "name": "stdout",
     "output_type": "stream",
     "text": [
      "[INFO] File food_photos/lime/82ee2aa8-4a5c-4dfa-abcf-e24a879100e1.jpeg uploaded to food_vision_bucket_with_object_versioning/all_images/82ee2aa8-4a5c-4dfa-abcf-e24a879100e1.jpeg.\n",
      "[INFO] File size: 2599704 bytes\n",
      "[INFO] Uploading food_photos/lime/766a3708-5e44-40af-8957-1843a8cea76d.jpeg to all_images/766a3708-5e44-40af-8957-1843a8cea76d.jpeg...\n",
      "[INFO] Connected to Google Storage bucket: food_vision_bucket_with_object_versioning\n"
     ]
    },
    {
     "name": "stderr",
     "output_type": "stream",
     "text": [
      " 40%|███▉      | 263/658 [11:30<15:32,  2.36s/it]"
     ]
    },
    {
     "name": "stdout",
     "output_type": "stream",
     "text": [
      "[INFO] File food_photos/lime/766a3708-5e44-40af-8957-1843a8cea76d.jpeg uploaded to food_vision_bucket_with_object_versioning/all_images/766a3708-5e44-40af-8957-1843a8cea76d.jpeg.\n",
      "[INFO] File size: 1916642 bytes\n",
      "[INFO] Uploading food_photos/lime/f26f1e88-7e8c-441b-abf1-6113d998c5ec.jpeg to all_images/f26f1e88-7e8c-441b-abf1-6113d998c5ec.jpeg...\n",
      "[INFO] Connected to Google Storage bucket: food_vision_bucket_with_object_versioning\n"
     ]
    },
    {
     "name": "stderr",
     "output_type": "stream",
     "text": [
      " 40%|████      | 264/658 [11:33<17:00,  2.59s/it]"
     ]
    },
    {
     "name": "stdout",
     "output_type": "stream",
     "text": [
      "[INFO] File food_photos/lime/f26f1e88-7e8c-441b-abf1-6113d998c5ec.jpeg uploaded to food_vision_bucket_with_object_versioning/all_images/f26f1e88-7e8c-441b-abf1-6113d998c5ec.jpeg.\n",
      "[INFO] File size: 2387653 bytes\n",
      "[INFO] Uploading food_photos/lime/0d10c6f6-8ab0-4d36-bf8f-65940b248710.jpeg to all_images/0d10c6f6-8ab0-4d36-bf8f-65940b248710.jpeg...\n",
      "[INFO] Connected to Google Storage bucket: food_vision_bucket_with_object_versioning\n"
     ]
    },
    {
     "name": "stderr",
     "output_type": "stream",
     "text": [
      " 40%|████      | 265/658 [11:36<17:58,  2.74s/it]"
     ]
    },
    {
     "name": "stdout",
     "output_type": "stream",
     "text": [
      "[INFO] File food_photos/lime/0d10c6f6-8ab0-4d36-bf8f-65940b248710.jpeg uploaded to food_vision_bucket_with_object_versioning/all_images/0d10c6f6-8ab0-4d36-bf8f-65940b248710.jpeg.\n",
      "[INFO] File size: 2369398 bytes\n",
      "[INFO] Uploading food_photos/lime/af384b6e-3759-4622-973f-a05bb91d7c54.jpeg to all_images/af384b6e-3759-4622-973f-a05bb91d7c54.jpeg...\n",
      "[INFO] Connected to Google Storage bucket: food_vision_bucket_with_object_versioning\n"
     ]
    },
    {
     "name": "stderr",
     "output_type": "stream",
     "text": [
      " 40%|████      | 266/658 [11:38<16:12,  2.48s/it]"
     ]
    },
    {
     "name": "stdout",
     "output_type": "stream",
     "text": [
      "[INFO] File food_photos/lime/af384b6e-3759-4622-973f-a05bb91d7c54.jpeg uploaded to food_vision_bucket_with_object_versioning/all_images/af384b6e-3759-4622-973f-a05bb91d7c54.jpeg.\n",
      "[INFO] File size: 1813297 bytes\n",
      "[INFO] Uploading food_photos/lime/3cba0fda-f453-4db3-a05c-6bac3005520b.jpeg to all_images/3cba0fda-f453-4db3-a05c-6bac3005520b.jpeg...\n",
      "[INFO] Connected to Google Storage bucket: food_vision_bucket_with_object_versioning\n"
     ]
    },
    {
     "name": "stderr",
     "output_type": "stream",
     "text": [
      " 41%|████      | 267/658 [11:40<14:59,  2.30s/it]"
     ]
    },
    {
     "name": "stdout",
     "output_type": "stream",
     "text": [
      "[INFO] File food_photos/lime/3cba0fda-f453-4db3-a05c-6bac3005520b.jpeg uploaded to food_vision_bucket_with_object_versioning/all_images/3cba0fda-f453-4db3-a05c-6bac3005520b.jpeg.\n",
      "[INFO] File size: 1917446 bytes\n",
      "[INFO] Uploading food_photos/lime/ac2aade6-a42c-4c88-a176-95b7fac99571.jpeg to all_images/ac2aade6-a42c-4c88-a176-95b7fac99571.jpeg...\n",
      "[INFO] Connected to Google Storage bucket: food_vision_bucket_with_object_versioning\n"
     ]
    },
    {
     "name": "stderr",
     "output_type": "stream",
     "text": [
      " 41%|████      | 268/658 [11:42<14:32,  2.24s/it]"
     ]
    },
    {
     "name": "stdout",
     "output_type": "stream",
     "text": [
      "[INFO] File food_photos/lime/ac2aade6-a42c-4c88-a176-95b7fac99571.jpeg uploaded to food_vision_bucket_with_object_versioning/all_images/ac2aade6-a42c-4c88-a176-95b7fac99571.jpeg.\n",
      "[INFO] File size: 2023529 bytes\n",
      "[INFO] Uploading food_photos/lime/62958a75-b203-49f0-ab14-de2825a426b2.jpeg to all_images/62958a75-b203-49f0-ab14-de2825a426b2.jpeg...\n",
      "[INFO] Connected to Google Storage bucket: food_vision_bucket_with_object_versioning\n"
     ]
    },
    {
     "name": "stderr",
     "output_type": "stream",
     "text": [
      " 41%|████      | 269/658 [11:45<16:34,  2.56s/it]"
     ]
    },
    {
     "name": "stdout",
     "output_type": "stream",
     "text": [
      "[INFO] File food_photos/lime/62958a75-b203-49f0-ab14-de2825a426b2.jpeg uploaded to food_vision_bucket_with_object_versioning/all_images/62958a75-b203-49f0-ab14-de2825a426b2.jpeg.\n",
      "[INFO] File size: 2668970 bytes\n",
      "[INFO] Uploading food_photos/lime/ded259d1-b121-4a52-9674-3d79d9edc0f0.jpeg to all_images/ded259d1-b121-4a52-9674-3d79d9edc0f0.jpeg...\n",
      "[INFO] Connected to Google Storage bucket: food_vision_bucket_with_object_versioning\n"
     ]
    },
    {
     "name": "stderr",
     "output_type": "stream",
     "text": [
      " 41%|████      | 270/658 [11:47<14:19,  2.22s/it]"
     ]
    },
    {
     "name": "stdout",
     "output_type": "stream",
     "text": [
      "[INFO] File food_photos/lime/ded259d1-b121-4a52-9674-3d79d9edc0f0.jpeg uploaded to food_vision_bucket_with_object_versioning/all_images/ded259d1-b121-4a52-9674-3d79d9edc0f0.jpeg.\n",
      "[INFO] File size: 1085889 bytes\n",
      "[INFO] Uploading food_photos/lime/2e1e62e2-4c05-4e4e-b370-9a3e49c68a7f.jpeg to all_images/2e1e62e2-4c05-4e4e-b370-9a3e49c68a7f.jpeg...\n",
      "[INFO] Connected to Google Storage bucket: food_vision_bucket_with_object_versioning\n"
     ]
    },
    {
     "name": "stderr",
     "output_type": "stream",
     "text": [
      " 41%|████      | 271/658 [11:49<13:33,  2.10s/it]"
     ]
    },
    {
     "name": "stdout",
     "output_type": "stream",
     "text": [
      "[INFO] File food_photos/lime/2e1e62e2-4c05-4e4e-b370-9a3e49c68a7f.jpeg uploaded to food_vision_bucket_with_object_versioning/all_images/2e1e62e2-4c05-4e4e-b370-9a3e49c68a7f.jpeg.\n",
      "[INFO] File size: 1769428 bytes\n",
      "[INFO] Uploading food_photos/lime/3708da94-3c04-4942-8677-a737cdae4bcb.jpeg to all_images/3708da94-3c04-4942-8677-a737cdae4bcb.jpeg...\n",
      "[INFO] Connected to Google Storage bucket: food_vision_bucket_with_object_versioning\n"
     ]
    },
    {
     "name": "stderr",
     "output_type": "stream",
     "text": [
      " 41%|████▏     | 272/658 [11:53<17:08,  2.66s/it]"
     ]
    },
    {
     "name": "stdout",
     "output_type": "stream",
     "text": [
      "[INFO] File food_photos/lime/3708da94-3c04-4942-8677-a737cdae4bcb.jpeg uploaded to food_vision_bucket_with_object_versioning/all_images/3708da94-3c04-4942-8677-a737cdae4bcb.jpeg.\n",
      "[INFO] File size: 2287728 bytes\n",
      "[INFO] Uploading food_photos/lime/12a7baec-d2e2-4aec-82f9-71a5ec1988ba.jpeg to all_images/12a7baec-d2e2-4aec-82f9-71a5ec1988ba.jpeg...\n",
      "[INFO] Connected to Google Storage bucket: food_vision_bucket_with_object_versioning\n"
     ]
    },
    {
     "name": "stderr",
     "output_type": "stream",
     "text": [
      " 41%|████▏     | 273/658 [11:54<14:40,  2.29s/it]"
     ]
    },
    {
     "name": "stdout",
     "output_type": "stream",
     "text": [
      "[INFO] File food_photos/lime/12a7baec-d2e2-4aec-82f9-71a5ec1988ba.jpeg uploaded to food_vision_bucket_with_object_versioning/all_images/12a7baec-d2e2-4aec-82f9-71a5ec1988ba.jpeg.\n",
      "[INFO] File size: 1174597 bytes\n",
      "[INFO] Uploading food_photos/lime/cb869a5d-a2cc-4ed6-a056-9a4038c2f475.jpeg to all_images/cb869a5d-a2cc-4ed6-a056-9a4038c2f475.jpeg...\n",
      "[INFO] Connected to Google Storage bucket: food_vision_bucket_with_object_versioning\n"
     ]
    },
    {
     "name": "stderr",
     "output_type": "stream",
     "text": [
      " 42%|████▏     | 274/658 [11:58<17:17,  2.70s/it]"
     ]
    },
    {
     "name": "stdout",
     "output_type": "stream",
     "text": [
      "[INFO] File food_photos/lime/cb869a5d-a2cc-4ed6-a056-9a4038c2f475.jpeg uploaded to food_vision_bucket_with_object_versioning/all_images/cb869a5d-a2cc-4ed6-a056-9a4038c2f475.jpeg.\n",
      "[INFO] File size: 2132947 bytes\n",
      "[INFO] Uploading food_photos/lime/e31c53d0-8829-4323-8448-1b714428f9e0.jpeg to all_images/e31c53d0-8829-4323-8448-1b714428f9e0.jpeg...\n",
      "[INFO] Connected to Google Storage bucket: food_vision_bucket_with_object_versioning\n"
     ]
    },
    {
     "name": "stderr",
     "output_type": "stream",
     "text": [
      " 42%|████▏     | 275/658 [11:59<15:05,  2.36s/it]"
     ]
    },
    {
     "name": "stdout",
     "output_type": "stream",
     "text": [
      "[INFO] File food_photos/lime/e31c53d0-8829-4323-8448-1b714428f9e0.jpeg uploaded to food_vision_bucket_with_object_versioning/all_images/e31c53d0-8829-4323-8448-1b714428f9e0.jpeg.\n",
      "[INFO] File size: 1718272 bytes\n",
      "[INFO] Uploading food_photos/lime/010fb800-c0c8-4fb0-94ab-f7939b69075d.jpeg to all_images/010fb800-c0c8-4fb0-94ab-f7939b69075d.jpeg...\n",
      "[INFO] Connected to Google Storage bucket: food_vision_bucket_with_object_versioning\n"
     ]
    },
    {
     "name": "stderr",
     "output_type": "stream",
     "text": [
      " 42%|████▏     | 276/658 [12:01<13:11,  2.07s/it]"
     ]
    },
    {
     "name": "stdout",
     "output_type": "stream",
     "text": [
      "[INFO] File food_photos/lime/010fb800-c0c8-4fb0-94ab-f7939b69075d.jpeg uploaded to food_vision_bucket_with_object_versioning/all_images/010fb800-c0c8-4fb0-94ab-f7939b69075d.jpeg.\n",
      "[INFO] File size: 1220459 bytes\n",
      "[INFO] Uploading food_photos/lime/365f30c7-06a6-4e36-9cc5-0c5eba41005c.jpeg to all_images/365f30c7-06a6-4e36-9cc5-0c5eba41005c.jpeg...\n",
      "[INFO] Connected to Google Storage bucket: food_vision_bucket_with_object_versioning\n"
     ]
    },
    {
     "name": "stderr",
     "output_type": "stream",
     "text": [
      " 42%|████▏     | 277/658 [12:05<16:55,  2.67s/it]"
     ]
    },
    {
     "name": "stdout",
     "output_type": "stream",
     "text": [
      "[INFO] File food_photos/lime/365f30c7-06a6-4e36-9cc5-0c5eba41005c.jpeg uploaded to food_vision_bucket_with_object_versioning/all_images/365f30c7-06a6-4e36-9cc5-0c5eba41005c.jpeg.\n",
      "[INFO] File size: 2549738 bytes\n",
      "[INFO] Uploading food_photos/lime/63c85739-6734-4121-8ee9-ae4e61cd4ebd.jpeg to all_images/63c85739-6734-4121-8ee9-ae4e61cd4ebd.jpeg...\n",
      "[INFO] Connected to Google Storage bucket: food_vision_bucket_with_object_versioning\n"
     ]
    },
    {
     "name": "stderr",
     "output_type": "stream",
     "text": [
      " 42%|████▏     | 278/658 [12:07<16:50,  2.66s/it]"
     ]
    },
    {
     "name": "stdout",
     "output_type": "stream",
     "text": [
      "[INFO] File food_photos/lime/63c85739-6734-4121-8ee9-ae4e61cd4ebd.jpeg uploaded to food_vision_bucket_with_object_versioning/all_images/63c85739-6734-4121-8ee9-ae4e61cd4ebd.jpeg.\n",
      "[INFO] File size: 2098919 bytes\n",
      "[INFO] Uploading food_photos/lime/3fcef70f-8823-4e41-be8e-aeb339a43fbd.jpeg to all_images/3fcef70f-8823-4e41-be8e-aeb339a43fbd.jpeg...\n",
      "[INFO] Connected to Google Storage bucket: food_vision_bucket_with_object_versioning\n"
     ]
    },
    {
     "name": "stderr",
     "output_type": "stream",
     "text": [
      " 42%|████▏     | 279/658 [12:09<15:00,  2.38s/it]"
     ]
    },
    {
     "name": "stdout",
     "output_type": "stream",
     "text": [
      "[INFO] File food_photos/lime/3fcef70f-8823-4e41-be8e-aeb339a43fbd.jpeg uploaded to food_vision_bucket_with_object_versioning/all_images/3fcef70f-8823-4e41-be8e-aeb339a43fbd.jpeg.\n",
      "[INFO] File size: 975872 bytes\n",
      "[INFO] Uploading food_photos/lime/555540ab-37cb-4ff2-ab3f-774eb8951935.jpeg to all_images/555540ab-37cb-4ff2-ab3f-774eb8951935.jpeg...\n",
      "[INFO] Connected to Google Storage bucket: food_vision_bucket_with_object_versioning\n"
     ]
    },
    {
     "name": "stderr",
     "output_type": "stream",
     "text": [
      " 43%|████▎     | 280/658 [12:12<16:03,  2.55s/it]"
     ]
    },
    {
     "name": "stdout",
     "output_type": "stream",
     "text": [
      "[INFO] File food_photos/lime/555540ab-37cb-4ff2-ab3f-774eb8951935.jpeg uploaded to food_vision_bucket_with_object_versioning/all_images/555540ab-37cb-4ff2-ab3f-774eb8951935.jpeg.\n",
      "[INFO] File size: 2584251 bytes\n",
      "[INFO] Uploading food_photos/lime/e871d91f-c46e-40ae-8eb2-c1c17da7d1c7.jpeg to all_images/e871d91f-c46e-40ae-8eb2-c1c17da7d1c7.jpeg...\n",
      "[INFO] Connected to Google Storage bucket: food_vision_bucket_with_object_versioning\n"
     ]
    },
    {
     "name": "stderr",
     "output_type": "stream",
     "text": [
      " 43%|████▎     | 281/658 [12:15<17:11,  2.74s/it]"
     ]
    },
    {
     "name": "stdout",
     "output_type": "stream",
     "text": [
      "[INFO] File food_photos/lime/e871d91f-c46e-40ae-8eb2-c1c17da7d1c7.jpeg uploaded to food_vision_bucket_with_object_versioning/all_images/e871d91f-c46e-40ae-8eb2-c1c17da7d1c7.jpeg.\n",
      "[INFO] File size: 2343957 bytes\n",
      "[INFO] Uploading food_photos/lime/6a866a61-d46c-47e3-9416-63b23725bcea.jpeg to all_images/6a866a61-d46c-47e3-9416-63b23725bcea.jpeg...\n",
      "[INFO] Connected to Google Storage bucket: food_vision_bucket_with_object_versioning\n"
     ]
    },
    {
     "name": "stderr",
     "output_type": "stream",
     "text": [
      " 43%|████▎     | 282/658 [12:19<18:06,  2.89s/it]"
     ]
    },
    {
     "name": "stdout",
     "output_type": "stream",
     "text": [
      "[INFO] File food_photos/lime/6a866a61-d46c-47e3-9416-63b23725bcea.jpeg uploaded to food_vision_bucket_with_object_versioning/all_images/6a866a61-d46c-47e3-9416-63b23725bcea.jpeg.\n",
      "[INFO] File size: 2304467 bytes\n",
      "[INFO] Uploading food_photos/lime/6c6e6322-be99-44ec-8558-f3d75945e171.jpeg to all_images/6c6e6322-be99-44ec-8558-f3d75945e171.jpeg...\n",
      "[INFO] Connected to Google Storage bucket: food_vision_bucket_with_object_versioning\n"
     ]
    },
    {
     "name": "stderr",
     "output_type": "stream",
     "text": [
      " 43%|████▎     | 283/658 [12:21<16:30,  2.64s/it]"
     ]
    },
    {
     "name": "stdout",
     "output_type": "stream",
     "text": [
      "[INFO] File food_photos/lime/6c6e6322-be99-44ec-8558-f3d75945e171.jpeg uploaded to food_vision_bucket_with_object_versioning/all_images/6c6e6322-be99-44ec-8558-f3d75945e171.jpeg.\n",
      "[INFO] File size: 1929997 bytes\n",
      "[INFO] Uploading food_photos/lime/9617f00d-bd5f-4f54-86a6-280714c19225.jpeg to all_images/9617f00d-bd5f-4f54-86a6-280714c19225.jpeg...\n",
      "[INFO] Connected to Google Storage bucket: food_vision_bucket_with_object_versioning\n"
     ]
    },
    {
     "name": "stderr",
     "output_type": "stream",
     "text": [
      " 43%|████▎     | 284/658 [12:22<14:08,  2.27s/it]"
     ]
    },
    {
     "name": "stdout",
     "output_type": "stream",
     "text": [
      "[INFO] File food_photos/lime/9617f00d-bd5f-4f54-86a6-280714c19225.jpeg uploaded to food_vision_bucket_with_object_versioning/all_images/9617f00d-bd5f-4f54-86a6-280714c19225.jpeg.\n",
      "[INFO] File size: 1220167 bytes\n",
      "[INFO] Uploading food_photos/lime/d87b197c-c2d4-431a-8b52-27673f9ccd24.jpeg to all_images/d87b197c-c2d4-431a-8b52-27673f9ccd24.jpeg...\n",
      "[INFO] Connected to Google Storage bucket: food_vision_bucket_with_object_versioning\n"
     ]
    },
    {
     "name": "stderr",
     "output_type": "stream",
     "text": [
      " 43%|████▎     | 285/658 [12:24<12:51,  2.07s/it]"
     ]
    },
    {
     "name": "stdout",
     "output_type": "stream",
     "text": [
      "[INFO] File food_photos/lime/d87b197c-c2d4-431a-8b52-27673f9ccd24.jpeg uploaded to food_vision_bucket_with_object_versioning/all_images/d87b197c-c2d4-431a-8b52-27673f9ccd24.jpeg.\n",
      "[INFO] File size: 1314138 bytes\n",
      "[INFO] Uploading food_photos/lime/bc7a3594-6776-4ec6-9b29-0138dc14418b.jpeg to all_images/bc7a3594-6776-4ec6-9b29-0138dc14418b.jpeg...\n",
      "[INFO] Connected to Google Storage bucket: food_vision_bucket_with_object_versioning\n"
     ]
    },
    {
     "name": "stderr",
     "output_type": "stream",
     "text": [
      " 43%|████▎     | 286/658 [12:27<14:36,  2.36s/it]"
     ]
    },
    {
     "name": "stdout",
     "output_type": "stream",
     "text": [
      "[INFO] File food_photos/lime/bc7a3594-6776-4ec6-9b29-0138dc14418b.jpeg uploaded to food_vision_bucket_with_object_versioning/all_images/bc7a3594-6776-4ec6-9b29-0138dc14418b.jpeg.\n",
      "[INFO] File size: 2407437 bytes\n",
      "[INFO] Uploading food_photos/lime/f812f129-078e-426e-b503-623ab57b5c8a.jpeg to all_images/f812f129-078e-426e-b503-623ab57b5c8a.jpeg...\n",
      "[INFO] Connected to Google Storage bucket: food_vision_bucket_with_object_versioning\n"
     ]
    },
    {
     "name": "stderr",
     "output_type": "stream",
     "text": [
      " 44%|████▎     | 287/658 [12:28<13:10,  2.13s/it]"
     ]
    },
    {
     "name": "stdout",
     "output_type": "stream",
     "text": [
      "[INFO] File food_photos/lime/f812f129-078e-426e-b503-623ab57b5c8a.jpeg uploaded to food_vision_bucket_with_object_versioning/all_images/f812f129-078e-426e-b503-623ab57b5c8a.jpeg.\n",
      "[INFO] File size: 1670872 bytes\n",
      "[INFO] Uploading food_photos/lime/e6e175de-f565-4df2-bb48-c9e2e420eb75.jpeg to all_images/e6e175de-f565-4df2-bb48-c9e2e420eb75.jpeg...\n",
      "[INFO] Connected to Google Storage bucket: food_vision_bucket_with_object_versioning\n"
     ]
    },
    {
     "name": "stderr",
     "output_type": "stream",
     "text": [
      " 44%|████▍     | 288/658 [12:30<12:09,  1.97s/it]"
     ]
    },
    {
     "name": "stdout",
     "output_type": "stream",
     "text": [
      "[INFO] File food_photos/lime/e6e175de-f565-4df2-bb48-c9e2e420eb75.jpeg uploaded to food_vision_bucket_with_object_versioning/all_images/e6e175de-f565-4df2-bb48-c9e2e420eb75.jpeg.\n",
      "[INFO] File size: 1160233 bytes\n",
      "[INFO] Uploading food_photos/lime/ca373ad5-6e31-481c-a89f-02a96c2db38c.jpeg to all_images/ca373ad5-6e31-481c-a89f-02a96c2db38c.jpeg...\n",
      "[INFO] Connected to Google Storage bucket: food_vision_bucket_with_object_versioning\n"
     ]
    },
    {
     "name": "stderr",
     "output_type": "stream",
     "text": [
      " 44%|████▍     | 289/658 [12:32<12:01,  1.96s/it]"
     ]
    },
    {
     "name": "stdout",
     "output_type": "stream",
     "text": [
      "[INFO] File food_photos/lime/ca373ad5-6e31-481c-a89f-02a96c2db38c.jpeg uploaded to food_vision_bucket_with_object_versioning/all_images/ca373ad5-6e31-481c-a89f-02a96c2db38c.jpeg.\n",
      "[INFO] File size: 1981748 bytes\n",
      "[INFO] Uploading food_photos/lime/1116aaff-4009-4dbc-99d1-4937739140b6.jpeg to all_images/1116aaff-4009-4dbc-99d1-4937739140b6.jpeg...\n",
      "[INFO] Connected to Google Storage bucket: food_vision_bucket_with_object_versioning\n"
     ]
    },
    {
     "name": "stderr",
     "output_type": "stream",
     "text": [
      " 44%|████▍     | 290/658 [12:35<14:17,  2.33s/it]"
     ]
    },
    {
     "name": "stdout",
     "output_type": "stream",
     "text": [
      "[INFO] File food_photos/lime/1116aaff-4009-4dbc-99d1-4937739140b6.jpeg uploaded to food_vision_bucket_with_object_versioning/all_images/1116aaff-4009-4dbc-99d1-4937739140b6.jpeg.\n",
      "[INFO] File size: 2189066 bytes\n",
      "[INFO] Uploading food_photos/lime/6ebd8236-0f13-4b9e-9394-7d9c769e4813.jpeg to all_images/6ebd8236-0f13-4b9e-9394-7d9c769e4813.jpeg...\n",
      "[INFO] Connected to Google Storage bucket: food_vision_bucket_with_object_versioning\n"
     ]
    },
    {
     "name": "stderr",
     "output_type": "stream",
     "text": [
      " 44%|████▍     | 291/658 [12:36<12:47,  2.09s/it]"
     ]
    },
    {
     "name": "stdout",
     "output_type": "stream",
     "text": [
      "[INFO] File food_photos/lime/6ebd8236-0f13-4b9e-9394-7d9c769e4813.jpeg uploaded to food_vision_bucket_with_object_versioning/all_images/6ebd8236-0f13-4b9e-9394-7d9c769e4813.jpeg.\n",
      "[INFO] File size: 1262983 bytes\n",
      "[INFO] Uploading food_photos/lime/6151b392-df87-4a78-b795-a174dfb0dfce.jpeg to all_images/6151b392-df87-4a78-b795-a174dfb0dfce.jpeg...\n",
      "[INFO] Connected to Google Storage bucket: food_vision_bucket_with_object_versioning\n"
     ]
    },
    {
     "name": "stderr",
     "output_type": "stream",
     "text": [
      " 44%|████▍     | 292/658 [12:39<14:08,  2.32s/it]"
     ]
    },
    {
     "name": "stdout",
     "output_type": "stream",
     "text": [
      "[INFO] File food_photos/lime/6151b392-df87-4a78-b795-a174dfb0dfce.jpeg uploaded to food_vision_bucket_with_object_versioning/all_images/6151b392-df87-4a78-b795-a174dfb0dfce.jpeg.\n",
      "[INFO] File size: 2395775 bytes\n",
      "[INFO] Uploading food_photos/lime/ea1e55f7-c540-451e-bf2b-17910814a6a6.jpeg to all_images/ea1e55f7-c540-451e-bf2b-17910814a6a6.jpeg...\n",
      "[INFO] Connected to Google Storage bucket: food_vision_bucket_with_object_versioning\n"
     ]
    },
    {
     "name": "stderr",
     "output_type": "stream",
     "text": [
      " 45%|████▍     | 293/658 [12:42<14:49,  2.44s/it]"
     ]
    },
    {
     "name": "stdout",
     "output_type": "stream",
     "text": [
      "[INFO] File food_photos/lime/ea1e55f7-c540-451e-bf2b-17910814a6a6.jpeg uploaded to food_vision_bucket_with_object_versioning/all_images/ea1e55f7-c540-451e-bf2b-17910814a6a6.jpeg.\n",
      "[INFO] File size: 2679219 bytes\n",
      "[INFO] Uploading food_photos/lime/7e9754d0-73be-430d-a1ab-3ff09b61e1d3.jpeg to all_images/7e9754d0-73be-430d-a1ab-3ff09b61e1d3.jpeg...\n",
      "[INFO] Connected to Google Storage bucket: food_vision_bucket_with_object_versioning\n"
     ]
    },
    {
     "name": "stderr",
     "output_type": "stream",
     "text": [
      " 45%|████▍     | 294/658 [12:45<15:57,  2.63s/it]"
     ]
    },
    {
     "name": "stdout",
     "output_type": "stream",
     "text": [
      "[INFO] File food_photos/lime/7e9754d0-73be-430d-a1ab-3ff09b61e1d3.jpeg uploaded to food_vision_bucket_with_object_versioning/all_images/7e9754d0-73be-430d-a1ab-3ff09b61e1d3.jpeg.\n",
      "[INFO] File size: 2098375 bytes\n",
      "[INFO] Uploading food_photos/lime/6ae9c992-ede7-4143-a06a-3295171919a5.jpeg to all_images/6ae9c992-ede7-4143-a06a-3295171919a5.jpeg...\n",
      "[INFO] Connected to Google Storage bucket: food_vision_bucket_with_object_versioning\n"
     ]
    },
    {
     "name": "stderr",
     "output_type": "stream",
     "text": [
      " 45%|████▍     | 295/658 [12:48<16:43,  2.76s/it]"
     ]
    },
    {
     "name": "stdout",
     "output_type": "stream",
     "text": [
      "[INFO] File food_photos/lime/6ae9c992-ede7-4143-a06a-3295171919a5.jpeg uploaded to food_vision_bucket_with_object_versioning/all_images/6ae9c992-ede7-4143-a06a-3295171919a5.jpeg.\n",
      "[INFO] File size: 2968052 bytes\n",
      "[INFO] Uploading food_photos/lime/29d4ceaa-64ca-4ba9-9c44-f291094adea3.jpeg to all_images/29d4ceaa-64ca-4ba9-9c44-f291094adea3.jpeg...\n",
      "[INFO] Connected to Google Storage bucket: food_vision_bucket_with_object_versioning\n"
     ]
    },
    {
     "name": "stderr",
     "output_type": "stream",
     "text": [
      " 45%|████▍     | 296/658 [12:51<17:17,  2.87s/it]"
     ]
    },
    {
     "name": "stdout",
     "output_type": "stream",
     "text": [
      "[INFO] File food_photos/lime/29d4ceaa-64ca-4ba9-9c44-f291094adea3.jpeg uploaded to food_vision_bucket_with_object_versioning/all_images/29d4ceaa-64ca-4ba9-9c44-f291094adea3.jpeg.\n",
      "[INFO] File size: 2698630 bytes\n",
      "[INFO] Uploading food_photos/lime/4ac15f00-7e87-4b89-ab64-3dc7337ec50b.jpeg to all_images/4ac15f00-7e87-4b89-ab64-3dc7337ec50b.jpeg...\n",
      "[INFO] Connected to Google Storage bucket: food_vision_bucket_with_object_versioning\n"
     ]
    },
    {
     "name": "stderr",
     "output_type": "stream",
     "text": [
      " 45%|████▌     | 297/658 [12:53<15:02,  2.50s/it]"
     ]
    },
    {
     "name": "stdout",
     "output_type": "stream",
     "text": [
      "[INFO] File food_photos/lime/4ac15f00-7e87-4b89-ab64-3dc7337ec50b.jpeg uploaded to food_vision_bucket_with_object_versioning/all_images/4ac15f00-7e87-4b89-ab64-3dc7337ec50b.jpeg.\n",
      "[INFO] File size: 1140499 bytes\n",
      "[INFO] Uploading food_photos/lime/e647933b-218e-41e5-9695-7280bd6ac2bf.jpeg to all_images/e647933b-218e-41e5-9695-7280bd6ac2bf.jpeg...\n",
      "[INFO] Connected to Google Storage bucket: food_vision_bucket_with_object_versioning\n"
     ]
    },
    {
     "name": "stderr",
     "output_type": "stream",
     "text": [
      " 45%|████▌     | 298/658 [12:56<15:33,  2.59s/it]"
     ]
    },
    {
     "name": "stdout",
     "output_type": "stream",
     "text": [
      "[INFO] File food_photos/lime/e647933b-218e-41e5-9695-7280bd6ac2bf.jpeg uploaded to food_vision_bucket_with_object_versioning/all_images/e647933b-218e-41e5-9695-7280bd6ac2bf.jpeg.\n",
      "[INFO] File size: 2039456 bytes\n",
      "[INFO] Uploading food_photos/lime/7e885ddd-874c-420c-b70e-b94ef58a44b3.jpeg to all_images/7e885ddd-874c-420c-b70e-b94ef58a44b3.jpeg...\n",
      "[INFO] Connected to Google Storage bucket: food_vision_bucket_with_object_versioning\n"
     ]
    },
    {
     "name": "stderr",
     "output_type": "stream",
     "text": [
      " 45%|████▌     | 299/658 [12:59<16:53,  2.82s/it]"
     ]
    },
    {
     "name": "stdout",
     "output_type": "stream",
     "text": [
      "[INFO] File food_photos/lime/7e885ddd-874c-420c-b70e-b94ef58a44b3.jpeg uploaded to food_vision_bucket_with_object_versioning/all_images/7e885ddd-874c-420c-b70e-b94ef58a44b3.jpeg.\n",
      "[INFO] File size: 2702513 bytes\n",
      "[INFO] Uploading food_photos/lime/659cb878-bc89-4d47-9fad-fe904e4dfa91.jpeg to all_images/659cb878-bc89-4d47-9fad-fe904e4dfa91.jpeg...\n",
      "[INFO] Connected to Google Storage bucket: food_vision_bucket_with_object_versioning\n"
     ]
    },
    {
     "name": "stderr",
     "output_type": "stream",
     "text": [
      " 46%|████▌     | 300/658 [13:01<15:21,  2.58s/it]"
     ]
    },
    {
     "name": "stdout",
     "output_type": "stream",
     "text": [
      "[INFO] File food_photos/lime/659cb878-bc89-4d47-9fad-fe904e4dfa91.jpeg uploaded to food_vision_bucket_with_object_versioning/all_images/659cb878-bc89-4d47-9fad-fe904e4dfa91.jpeg.\n",
      "[INFO] File size: 1314814 bytes\n",
      "[INFO] Uploading food_photos/lime/2e0d9b34-afb4-4313-a643-11832d5e755c.jpeg to all_images/2e0d9b34-afb4-4313-a643-11832d5e755c.jpeg...\n",
      "[INFO] Connected to Google Storage bucket: food_vision_bucket_with_object_versioning\n"
     ]
    },
    {
     "name": "stderr",
     "output_type": "stream",
     "text": [
      " 46%|████▌     | 301/658 [13:04<15:50,  2.66s/it]"
     ]
    },
    {
     "name": "stdout",
     "output_type": "stream",
     "text": [
      "[INFO] File food_photos/lime/2e0d9b34-afb4-4313-a643-11832d5e755c.jpeg uploaded to food_vision_bucket_with_object_versioning/all_images/2e0d9b34-afb4-4313-a643-11832d5e755c.jpeg.\n",
      "[INFO] File size: 2491968 bytes\n",
      "[INFO] Uploading food_photos/lime/e1a1becc-102e-4496-9a2f-78a977b5d32d.jpeg to all_images/e1a1becc-102e-4496-9a2f-78a977b5d32d.jpeg...\n",
      "[INFO] Connected to Google Storage bucket: food_vision_bucket_with_object_versioning\n"
     ]
    },
    {
     "name": "stderr",
     "output_type": "stream",
     "text": [
      " 46%|████▌     | 302/658 [13:06<14:24,  2.43s/it]"
     ]
    },
    {
     "name": "stdout",
     "output_type": "stream",
     "text": [
      "[INFO] File food_photos/lime/e1a1becc-102e-4496-9a2f-78a977b5d32d.jpeg uploaded to food_vision_bucket_with_object_versioning/all_images/e1a1becc-102e-4496-9a2f-78a977b5d32d.jpeg.\n",
      "[INFO] File size: 1229078 bytes\n",
      "[INFO] Uploading food_photos/lime/1fbf5882-a0b3-486a-8998-714c6d836a75.jpeg to all_images/1fbf5882-a0b3-486a-8998-714c6d836a75.jpeg...\n",
      "[INFO] Connected to Google Storage bucket: food_vision_bucket_with_object_versioning\n"
     ]
    },
    {
     "name": "stderr",
     "output_type": "stream",
     "text": [
      " 46%|████▌     | 303/658 [13:09<16:21,  2.76s/it]"
     ]
    },
    {
     "name": "stdout",
     "output_type": "stream",
     "text": [
      "[INFO] File food_photos/lime/1fbf5882-a0b3-486a-8998-714c6d836a75.jpeg uploaded to food_vision_bucket_with_object_versioning/all_images/1fbf5882-a0b3-486a-8998-714c6d836a75.jpeg.\n",
      "[INFO] File size: 2499828 bytes\n",
      "[INFO] Uploading food_photos/lime/31798d69-e124-4815-aae3-27cce9fd26f4.jpeg to all_images/31798d69-e124-4815-aae3-27cce9fd26f4.jpeg...\n",
      "[INFO] Connected to Google Storage bucket: food_vision_bucket_with_object_versioning\n"
     ]
    },
    {
     "name": "stderr",
     "output_type": "stream",
     "text": [
      " 46%|████▌     | 304/658 [13:14<20:21,  3.45s/it]"
     ]
    },
    {
     "name": "stdout",
     "output_type": "stream",
     "text": [
      "[INFO] File food_photos/lime/31798d69-e124-4815-aae3-27cce9fd26f4.jpeg uploaded to food_vision_bucket_with_object_versioning/all_images/31798d69-e124-4815-aae3-27cce9fd26f4.jpeg.\n",
      "[INFO] File size: 2724322 bytes\n",
      "[INFO] Uploading food_photos/lime/3e5568bb-d0b0-46d6-8580-d2e757beb952.jpeg to all_images/3e5568bb-d0b0-46d6-8580-d2e757beb952.jpeg...\n",
      "[INFO] Connected to Google Storage bucket: food_vision_bucket_with_object_versioning\n"
     ]
    },
    {
     "name": "stderr",
     "output_type": "stream",
     "text": [
      " 46%|████▋     | 305/658 [13:18<21:10,  3.60s/it]"
     ]
    },
    {
     "name": "stdout",
     "output_type": "stream",
     "text": [
      "[INFO] File food_photos/lime/3e5568bb-d0b0-46d6-8580-d2e757beb952.jpeg uploaded to food_vision_bucket_with_object_versioning/all_images/3e5568bb-d0b0-46d6-8580-d2e757beb952.jpeg.\n",
      "[INFO] File size: 2759662 bytes\n",
      "[INFO] Uploading food_photos/lime/04cab115-8fd6-416e-b9e4-c3e82b6ada40.jpeg to all_images/04cab115-8fd6-416e-b9e4-c3e82b6ada40.jpeg...\n",
      "[INFO] Connected to Google Storage bucket: food_vision_bucket_with_object_versioning\n"
     ]
    },
    {
     "name": "stderr",
     "output_type": "stream",
     "text": [
      " 47%|████▋     | 306/658 [13:21<19:43,  3.36s/it]"
     ]
    },
    {
     "name": "stdout",
     "output_type": "stream",
     "text": [
      "[INFO] File food_photos/lime/04cab115-8fd6-416e-b9e4-c3e82b6ada40.jpeg uploaded to food_vision_bucket_with_object_versioning/all_images/04cab115-8fd6-416e-b9e4-c3e82b6ada40.jpeg.\n",
      "[INFO] File size: 2191830 bytes\n",
      "[INFO] Uploading food_photos/lime/19484298-8dbe-4dee-938f-0d8498fdb0b2.jpeg to all_images/19484298-8dbe-4dee-938f-0d8498fdb0b2.jpeg...\n",
      "[INFO] Connected to Google Storage bucket: food_vision_bucket_with_object_versioning\n"
     ]
    },
    {
     "name": "stderr",
     "output_type": "stream",
     "text": [
      " 47%|████▋     | 307/658 [13:26<22:52,  3.91s/it]"
     ]
    },
    {
     "name": "stdout",
     "output_type": "stream",
     "text": [
      "[INFO] File food_photos/lime/19484298-8dbe-4dee-938f-0d8498fdb0b2.jpeg uploaded to food_vision_bucket_with_object_versioning/all_images/19484298-8dbe-4dee-938f-0d8498fdb0b2.jpeg.\n",
      "[INFO] File size: 3432994 bytes\n",
      "[INFO] Uploading food_photos/lime/c0369c35-fea9-4af1-a1c4-e94e9bf19dd5.jpeg to all_images/c0369c35-fea9-4af1-a1c4-e94e9bf19dd5.jpeg...\n",
      "[INFO] Connected to Google Storage bucket: food_vision_bucket_with_object_versioning\n"
     ]
    },
    {
     "name": "stderr",
     "output_type": "stream",
     "text": [
      " 47%|████▋     | 308/658 [13:29<20:48,  3.57s/it]"
     ]
    },
    {
     "name": "stdout",
     "output_type": "stream",
     "text": [
      "[INFO] File food_photos/lime/c0369c35-fea9-4af1-a1c4-e94e9bf19dd5.jpeg uploaded to food_vision_bucket_with_object_versioning/all_images/c0369c35-fea9-4af1-a1c4-e94e9bf19dd5.jpeg.\n",
      "[INFO] File size: 2226880 bytes\n",
      "[INFO] Uploading food_photos/lime/ab8a1365-427f-4701-92e7-45f9d94f1c01.jpeg to all_images/ab8a1365-427f-4701-92e7-45f9d94f1c01.jpeg...\n",
      "[INFO] Connected to Google Storage bucket: food_vision_bucket_with_object_versioning\n"
     ]
    },
    {
     "name": "stderr",
     "output_type": "stream",
     "text": [
      " 47%|████▋     | 309/658 [13:33<20:26,  3.51s/it]"
     ]
    },
    {
     "name": "stdout",
     "output_type": "stream",
     "text": [
      "[INFO] File food_photos/lime/ab8a1365-427f-4701-92e7-45f9d94f1c01.jpeg uploaded to food_vision_bucket_with_object_versioning/all_images/ab8a1365-427f-4701-92e7-45f9d94f1c01.jpeg.\n",
      "[INFO] File size: 2489533 bytes\n",
      "[INFO] Uploading food_photos/lime/b30fc6cf-b5f8-4a1b-b597-0bf4c1671a7c.jpeg to all_images/b30fc6cf-b5f8-4a1b-b597-0bf4c1671a7c.jpeg...\n",
      "[INFO] Connected to Google Storage bucket: food_vision_bucket_with_object_versioning\n"
     ]
    },
    {
     "name": "stderr",
     "output_type": "stream",
     "text": [
      " 47%|████▋     | 310/658 [13:36<20:50,  3.59s/it]"
     ]
    },
    {
     "name": "stdout",
     "output_type": "stream",
     "text": [
      "[INFO] File food_photos/lime/b30fc6cf-b5f8-4a1b-b597-0bf4c1671a7c.jpeg uploaded to food_vision_bucket_with_object_versioning/all_images/b30fc6cf-b5f8-4a1b-b597-0bf4c1671a7c.jpeg.\n",
      "[INFO] File size: 3003380 bytes\n",
      "[INFO] Uploading food_photos/eggs/3040a798-05b6-477b-aa44-3ae50f15cded.jpeg to all_images/3040a798-05b6-477b-aa44-3ae50f15cded.jpeg...\n",
      "[INFO] Connected to Google Storage bucket: food_vision_bucket_with_object_versioning\n"
     ]
    },
    {
     "name": "stderr",
     "output_type": "stream",
     "text": [
      " 47%|████▋     | 311/658 [13:40<21:12,  3.67s/it]"
     ]
    },
    {
     "name": "stdout",
     "output_type": "stream",
     "text": [
      "[INFO] File food_photos/eggs/3040a798-05b6-477b-aa44-3ae50f15cded.jpeg uploaded to food_vision_bucket_with_object_versioning/all_images/3040a798-05b6-477b-aa44-3ae50f15cded.jpeg.\n",
      "[INFO] File size: 2973380 bytes\n",
      "[INFO] Uploading food_photos/eggs/ce833896-6322-488f-b53a-c1e648471642.jpeg to all_images/ce833896-6322-488f-b53a-c1e648471642.jpeg...\n",
      "[INFO] Connected to Google Storage bucket: food_vision_bucket_with_object_versioning\n"
     ]
    },
    {
     "name": "stderr",
     "output_type": "stream",
     "text": [
      " 47%|████▋     | 312/658 [13:43<19:29,  3.38s/it]"
     ]
    },
    {
     "name": "stdout",
     "output_type": "stream",
     "text": [
      "[INFO] File food_photos/eggs/ce833896-6322-488f-b53a-c1e648471642.jpeg uploaded to food_vision_bucket_with_object_versioning/all_images/ce833896-6322-488f-b53a-c1e648471642.jpeg.\n",
      "[INFO] File size: 2028028 bytes\n",
      "[INFO] Uploading food_photos/eggs/9f97bd7e-c9dc-4e16-a3f9-8d91f15d8996.jpeg to all_images/9f97bd7e-c9dc-4e16-a3f9-8d91f15d8996.jpeg...\n",
      "[INFO] Connected to Google Storage bucket: food_vision_bucket_with_object_versioning\n"
     ]
    },
    {
     "name": "stderr",
     "output_type": "stream",
     "text": [
      " 48%|████▊     | 313/658 [13:46<19:21,  3.37s/it]"
     ]
    },
    {
     "name": "stdout",
     "output_type": "stream",
     "text": [
      "[INFO] File food_photos/eggs/9f97bd7e-c9dc-4e16-a3f9-8d91f15d8996.jpeg uploaded to food_vision_bucket_with_object_versioning/all_images/9f97bd7e-c9dc-4e16-a3f9-8d91f15d8996.jpeg.\n",
      "[INFO] File size: 2712739 bytes\n",
      "[INFO] Uploading food_photos/eggs/51f97b31-eb25-4574-8033-4d3440725f21.jpeg to all_images/51f97b31-eb25-4574-8033-4d3440725f21.jpeg...\n",
      "[INFO] Connected to Google Storage bucket: food_vision_bucket_with_object_versioning\n"
     ]
    },
    {
     "name": "stderr",
     "output_type": "stream",
     "text": [
      " 48%|████▊     | 314/658 [13:49<18:30,  3.23s/it]"
     ]
    },
    {
     "name": "stdout",
     "output_type": "stream",
     "text": [
      "[INFO] File food_photos/eggs/51f97b31-eb25-4574-8033-4d3440725f21.jpeg uploaded to food_vision_bucket_with_object_versioning/all_images/51f97b31-eb25-4574-8033-4d3440725f21.jpeg.\n",
      "[INFO] File size: 2630749 bytes\n",
      "[INFO] Uploading food_photos/eggs/b3e5e355-7a6b-4780-9738-2255371d3275.jpeg to all_images/b3e5e355-7a6b-4780-9738-2255371d3275.jpeg...\n",
      "[INFO] Connected to Google Storage bucket: food_vision_bucket_with_object_versioning\n"
     ]
    },
    {
     "name": "stderr",
     "output_type": "stream",
     "text": [
      " 48%|████▊     | 315/658 [13:52<17:08,  3.00s/it]"
     ]
    },
    {
     "name": "stdout",
     "output_type": "stream",
     "text": [
      "[INFO] File food_photos/eggs/b3e5e355-7a6b-4780-9738-2255371d3275.jpeg uploaded to food_vision_bucket_with_object_versioning/all_images/b3e5e355-7a6b-4780-9738-2255371d3275.jpeg.\n",
      "[INFO] File size: 2091272 bytes\n",
      "[INFO] Uploading food_photos/eggs/60bf02d3-ead1-44cc-af33-fbeeceb460a9.jpeg to all_images/60bf02d3-ead1-44cc-af33-fbeeceb460a9.jpeg...\n",
      "[INFO] Connected to Google Storage bucket: food_vision_bucket_with_object_versioning\n"
     ]
    },
    {
     "name": "stderr",
     "output_type": "stream",
     "text": [
      " 48%|████▊     | 316/658 [13:55<18:09,  3.19s/it]"
     ]
    },
    {
     "name": "stdout",
     "output_type": "stream",
     "text": [
      "[INFO] File food_photos/eggs/60bf02d3-ead1-44cc-af33-fbeeceb460a9.jpeg uploaded to food_vision_bucket_with_object_versioning/all_images/60bf02d3-ead1-44cc-af33-fbeeceb460a9.jpeg.\n",
      "[INFO] File size: 2262373 bytes\n",
      "[INFO] Uploading food_photos/eggs/a75e2ea9-d25e-44bd-87b6-783173a8aec4.jpeg to all_images/a75e2ea9-d25e-44bd-87b6-783173a8aec4.jpeg...\n",
      "[INFO] Connected to Google Storage bucket: food_vision_bucket_with_object_versioning\n"
     ]
    },
    {
     "name": "stderr",
     "output_type": "stream",
     "text": [
      " 48%|████▊     | 317/658 [13:59<18:32,  3.26s/it]"
     ]
    },
    {
     "name": "stdout",
     "output_type": "stream",
     "text": [
      "[INFO] File food_photos/eggs/a75e2ea9-d25e-44bd-87b6-783173a8aec4.jpeg uploaded to food_vision_bucket_with_object_versioning/all_images/a75e2ea9-d25e-44bd-87b6-783173a8aec4.jpeg.\n",
      "[INFO] File size: 3205272 bytes\n",
      "[INFO] Uploading food_photos/eggs/0c460a2a-2cdd-41ca-aac7-5bdb642f68b8.jpeg to all_images/0c460a2a-2cdd-41ca-aac7-5bdb642f68b8.jpeg...\n",
      "[INFO] Connected to Google Storage bucket: food_vision_bucket_with_object_versioning\n"
     ]
    },
    {
     "name": "stderr",
     "output_type": "stream",
     "text": [
      " 48%|████▊     | 318/658 [14:01<16:08,  2.85s/it]"
     ]
    },
    {
     "name": "stdout",
     "output_type": "stream",
     "text": [
      "[INFO] File food_photos/eggs/0c460a2a-2cdd-41ca-aac7-5bdb642f68b8.jpeg uploaded to food_vision_bucket_with_object_versioning/all_images/0c460a2a-2cdd-41ca-aac7-5bdb642f68b8.jpeg.\n",
      "[INFO] File size: 1331908 bytes\n",
      "[INFO] Uploading food_photos/eggs/3791e39d-45cd-45d3-9383-6c7d86dcb6ee.jpeg to all_images/3791e39d-45cd-45d3-9383-6c7d86dcb6ee.jpeg...\n",
      "[INFO] Connected to Google Storage bucket: food_vision_bucket_with_object_versioning\n"
     ]
    },
    {
     "name": "stderr",
     "output_type": "stream",
     "text": [
      " 48%|████▊     | 319/658 [14:04<17:23,  3.08s/it]"
     ]
    },
    {
     "name": "stdout",
     "output_type": "stream",
     "text": [
      "[INFO] File food_photos/eggs/3791e39d-45cd-45d3-9383-6c7d86dcb6ee.jpeg uploaded to food_vision_bucket_with_object_versioning/all_images/3791e39d-45cd-45d3-9383-6c7d86dcb6ee.jpeg.\n",
      "[INFO] File size: 2712464 bytes\n",
      "[INFO] Uploading food_photos/eggs/a32bcdaa-d3dd-4900-aa9f-e73825035d5f.jpeg to all_images/a32bcdaa-d3dd-4900-aa9f-e73825035d5f.jpeg...\n",
      "[INFO] Connected to Google Storage bucket: food_vision_bucket_with_object_versioning\n"
     ]
    },
    {
     "name": "stderr",
     "output_type": "stream",
     "text": [
      " 49%|████▊     | 320/658 [14:06<15:02,  2.67s/it]"
     ]
    },
    {
     "name": "stdout",
     "output_type": "stream",
     "text": [
      "[INFO] File food_photos/eggs/a32bcdaa-d3dd-4900-aa9f-e73825035d5f.jpeg uploaded to food_vision_bucket_with_object_versioning/all_images/a32bcdaa-d3dd-4900-aa9f-e73825035d5f.jpeg.\n",
      "[INFO] File size: 1340592 bytes\n",
      "[INFO] Uploading food_photos/eggs/ada317c3-e8c2-4858-99f7-5d8205399d9a.jpeg to all_images/ada317c3-e8c2-4858-99f7-5d8205399d9a.jpeg...\n",
      "[INFO] Connected to Google Storage bucket: food_vision_bucket_with_object_versioning\n"
     ]
    },
    {
     "name": "stderr",
     "output_type": "stream",
     "text": [
      " 49%|████▉     | 321/658 [14:10<16:47,  2.99s/it]"
     ]
    },
    {
     "name": "stdout",
     "output_type": "stream",
     "text": [
      "[INFO] File food_photos/eggs/ada317c3-e8c2-4858-99f7-5d8205399d9a.jpeg uploaded to food_vision_bucket_with_object_versioning/all_images/ada317c3-e8c2-4858-99f7-5d8205399d9a.jpeg.\n",
      "[INFO] File size: 3304488 bytes\n",
      "[INFO] Uploading food_photos/eggs/f0353b91-2ee1-450f-8355-8d9ac1976a65.jpeg to all_images/f0353b91-2ee1-450f-8355-8d9ac1976a65.jpeg...\n",
      "[INFO] Connected to Google Storage bucket: food_vision_bucket_with_object_versioning\n"
     ]
    },
    {
     "name": "stderr",
     "output_type": "stream",
     "text": [
      " 49%|████▉     | 322/658 [14:14<19:49,  3.54s/it]"
     ]
    },
    {
     "name": "stdout",
     "output_type": "stream",
     "text": [
      "[INFO] File food_photos/eggs/f0353b91-2ee1-450f-8355-8d9ac1976a65.jpeg uploaded to food_vision_bucket_with_object_versioning/all_images/f0353b91-2ee1-450f-8355-8d9ac1976a65.jpeg.\n",
      "[INFO] File size: 3087118 bytes\n",
      "[INFO] Uploading food_photos/eggs/9f773ecd-194a-4382-a837-ed4f6ed92c74.jpeg to all_images/9f773ecd-194a-4382-a837-ed4f6ed92c74.jpeg...\n",
      "[INFO] Connected to Google Storage bucket: food_vision_bucket_with_object_versioning\n"
     ]
    },
    {
     "name": "stderr",
     "output_type": "stream",
     "text": [
      " 49%|████▉     | 323/658 [14:19<21:41,  3.88s/it]"
     ]
    },
    {
     "name": "stdout",
     "output_type": "stream",
     "text": [
      "[INFO] File food_photos/eggs/9f773ecd-194a-4382-a837-ed4f6ed92c74.jpeg uploaded to food_vision_bucket_with_object_versioning/all_images/9f773ecd-194a-4382-a837-ed4f6ed92c74.jpeg.\n",
      "[INFO] File size: 2693861 bytes\n",
      "[INFO] Uploading food_photos/eggs/d9b89139-1323-4f0e-9ec6-2e4886e45b6a.jpeg to all_images/d9b89139-1323-4f0e-9ec6-2e4886e45b6a.jpeg...\n",
      "[INFO] Connected to Google Storage bucket: food_vision_bucket_with_object_versioning\n"
     ]
    },
    {
     "name": "stderr",
     "output_type": "stream",
     "text": [
      " 49%|████▉     | 324/658 [14:23<22:00,  3.95s/it]"
     ]
    },
    {
     "name": "stdout",
     "output_type": "stream",
     "text": [
      "[INFO] File food_photos/eggs/d9b89139-1323-4f0e-9ec6-2e4886e45b6a.jpeg uploaded to food_vision_bucket_with_object_versioning/all_images/d9b89139-1323-4f0e-9ec6-2e4886e45b6a.jpeg.\n",
      "[INFO] File size: 3510855 bytes\n",
      "[INFO] Uploading food_photos/eggs/062a106b-3d47-4e09-99e8-7d86cc5ad842.jpeg to all_images/062a106b-3d47-4e09-99e8-7d86cc5ad842.jpeg...\n",
      "[INFO] Connected to Google Storage bucket: food_vision_bucket_with_object_versioning\n"
     ]
    },
    {
     "name": "stderr",
     "output_type": "stream",
     "text": [
      " 49%|████▉     | 325/658 [14:28<22:42,  4.09s/it]"
     ]
    },
    {
     "name": "stdout",
     "output_type": "stream",
     "text": [
      "[INFO] File food_photos/eggs/062a106b-3d47-4e09-99e8-7d86cc5ad842.jpeg uploaded to food_vision_bucket_with_object_versioning/all_images/062a106b-3d47-4e09-99e8-7d86cc5ad842.jpeg.\n",
      "[INFO] File size: 2972701 bytes\n",
      "[INFO] Uploading food_photos/eggs/8518ea38-7ab6-4df6-9d8b-7ccd683c73e4.jpeg to all_images/8518ea38-7ab6-4df6-9d8b-7ccd683c73e4.jpeg...\n",
      "[INFO] Connected to Google Storage bucket: food_vision_bucket_with_object_versioning\n"
     ]
    },
    {
     "name": "stderr",
     "output_type": "stream",
     "text": [
      " 50%|████▉     | 326/658 [14:32<23:38,  4.27s/it]"
     ]
    },
    {
     "name": "stdout",
     "output_type": "stream",
     "text": [
      "[INFO] File food_photos/eggs/8518ea38-7ab6-4df6-9d8b-7ccd683c73e4.jpeg uploaded to food_vision_bucket_with_object_versioning/all_images/8518ea38-7ab6-4df6-9d8b-7ccd683c73e4.jpeg.\n",
      "[INFO] File size: 2813665 bytes\n",
      "[INFO] Uploading food_photos/eggs/b2a61631-9f6b-4730-97d1-01e4c8189114.jpeg to all_images/b2a61631-9f6b-4730-97d1-01e4c8189114.jpeg...\n",
      "[INFO] Connected to Google Storage bucket: food_vision_bucket_with_object_versioning\n"
     ]
    },
    {
     "name": "stderr",
     "output_type": "stream",
     "text": [
      " 50%|████▉     | 327/658 [14:36<22:28,  4.07s/it]"
     ]
    },
    {
     "name": "stdout",
     "output_type": "stream",
     "text": [
      "[INFO] File food_photos/eggs/b2a61631-9f6b-4730-97d1-01e4c8189114.jpeg uploaded to food_vision_bucket_with_object_versioning/all_images/b2a61631-9f6b-4730-97d1-01e4c8189114.jpeg.\n",
      "[INFO] File size: 2572043 bytes\n",
      "[INFO] Uploading food_photos/eggs/4b3a62f4-2b9a-4266-93b0-3ee40ccc8ac2.jpeg to all_images/4b3a62f4-2b9a-4266-93b0-3ee40ccc8ac2.jpeg...\n",
      "[INFO] Connected to Google Storage bucket: food_vision_bucket_with_object_versioning\n"
     ]
    },
    {
     "name": "stderr",
     "output_type": "stream",
     "text": [
      " 50%|████▉     | 328/658 [14:40<22:04,  4.01s/it]"
     ]
    },
    {
     "name": "stdout",
     "output_type": "stream",
     "text": [
      "[INFO] File food_photos/eggs/4b3a62f4-2b9a-4266-93b0-3ee40ccc8ac2.jpeg uploaded to food_vision_bucket_with_object_versioning/all_images/4b3a62f4-2b9a-4266-93b0-3ee40ccc8ac2.jpeg.\n",
      "[INFO] File size: 2430143 bytes\n",
      "[INFO] Uploading food_photos/eggs/e0bdb0f6-7796-4c3a-9e3f-b4e30f2f6d11.jpeg to all_images/e0bdb0f6-7796-4c3a-9e3f-b4e30f2f6d11.jpeg...\n",
      "[INFO] Connected to Google Storage bucket: food_vision_bucket_with_object_versioning\n"
     ]
    },
    {
     "name": "stderr",
     "output_type": "stream",
     "text": [
      " 50%|█████     | 329/658 [14:43<20:37,  3.76s/it]"
     ]
    },
    {
     "name": "stdout",
     "output_type": "stream",
     "text": [
      "[INFO] File food_photos/eggs/e0bdb0f6-7796-4c3a-9e3f-b4e30f2f6d11.jpeg uploaded to food_vision_bucket_with_object_versioning/all_images/e0bdb0f6-7796-4c3a-9e3f-b4e30f2f6d11.jpeg.\n",
      "[INFO] File size: 2336220 bytes\n",
      "[INFO] Uploading food_photos/eggs/55d47ad9-a7e8-412c-9d7c-f19d20d69aef.jpeg to all_images/55d47ad9-a7e8-412c-9d7c-f19d20d69aef.jpeg...\n",
      "[INFO] Connected to Google Storage bucket: food_vision_bucket_with_object_versioning\n"
     ]
    },
    {
     "name": "stderr",
     "output_type": "stream",
     "text": [
      " 50%|█████     | 330/658 [14:46<19:41,  3.60s/it]"
     ]
    },
    {
     "name": "stdout",
     "output_type": "stream",
     "text": [
      "[INFO] File food_photos/eggs/55d47ad9-a7e8-412c-9d7c-f19d20d69aef.jpeg uploaded to food_vision_bucket_with_object_versioning/all_images/55d47ad9-a7e8-412c-9d7c-f19d20d69aef.jpeg.\n",
      "[INFO] File size: 2180690 bytes\n",
      "[INFO] Uploading food_photos/eggs/fec6cb2a-993d-4ac5-96ee-0db2cfb967d5.jpeg to all_images/fec6cb2a-993d-4ac5-96ee-0db2cfb967d5.jpeg...\n",
      "[INFO] Connected to Google Storage bucket: food_vision_bucket_with_object_versioning\n"
     ]
    },
    {
     "name": "stderr",
     "output_type": "stream",
     "text": [
      " 50%|█████     | 331/658 [14:50<19:19,  3.55s/it]"
     ]
    },
    {
     "name": "stdout",
     "output_type": "stream",
     "text": [
      "[INFO] File food_photos/eggs/fec6cb2a-993d-4ac5-96ee-0db2cfb967d5.jpeg uploaded to food_vision_bucket_with_object_versioning/all_images/fec6cb2a-993d-4ac5-96ee-0db2cfb967d5.jpeg.\n",
      "[INFO] File size: 2924459 bytes\n",
      "[INFO] Uploading food_photos/broccoli/d505ce02-a30c-4fa3-ae3d-d2ba679ffc80.jpeg to all_images/d505ce02-a30c-4fa3-ae3d-d2ba679ffc80.jpeg...\n",
      "[INFO] Connected to Google Storage bucket: food_vision_bucket_with_object_versioning\n"
     ]
    },
    {
     "name": "stderr",
     "output_type": "stream",
     "text": [
      " 50%|█████     | 332/658 [14:53<18:37,  3.43s/it]"
     ]
    },
    {
     "name": "stdout",
     "output_type": "stream",
     "text": [
      "[INFO] File food_photos/broccoli/d505ce02-a30c-4fa3-ae3d-d2ba679ffc80.jpeg uploaded to food_vision_bucket_with_object_versioning/all_images/d505ce02-a30c-4fa3-ae3d-d2ba679ffc80.jpeg.\n",
      "[INFO] File size: 2412738 bytes\n",
      "[INFO] Uploading food_photos/broccoli/17299602-876c-4312-8db0-0ed6388df642.jpeg to all_images/17299602-876c-4312-8db0-0ed6388df642.jpeg...\n",
      "[INFO] Connected to Google Storage bucket: food_vision_bucket_with_object_versioning\n"
     ]
    },
    {
     "name": "stderr",
     "output_type": "stream",
     "text": [
      " 51%|█████     | 333/658 [14:55<17:22,  3.21s/it]"
     ]
    },
    {
     "name": "stdout",
     "output_type": "stream",
     "text": [
      "[INFO] File food_photos/broccoli/17299602-876c-4312-8db0-0ed6388df642.jpeg uploaded to food_vision_bucket_with_object_versioning/all_images/17299602-876c-4312-8db0-0ed6388df642.jpeg.\n",
      "[INFO] File size: 1834365 bytes\n",
      "[INFO] Uploading food_photos/broccoli/b8ee2668-13d7-4545-99be-130b47928aa4.jpeg to all_images/b8ee2668-13d7-4545-99be-130b47928aa4.jpeg...\n",
      "[INFO] Connected to Google Storage bucket: food_vision_bucket_with_object_versioning\n"
     ]
    },
    {
     "name": "stderr",
     "output_type": "stream",
     "text": [
      " 51%|█████     | 334/658 [14:59<17:48,  3.30s/it]"
     ]
    },
    {
     "name": "stdout",
     "output_type": "stream",
     "text": [
      "[INFO] File food_photos/broccoli/b8ee2668-13d7-4545-99be-130b47928aa4.jpeg uploaded to food_vision_bucket_with_object_versioning/all_images/b8ee2668-13d7-4545-99be-130b47928aa4.jpeg.\n",
      "[INFO] File size: 2199030 bytes\n",
      "[INFO] Uploading food_photos/broccoli/b2f1f921-3fee-4ef3-9972-5aa74d75ed66.jpeg to all_images/b2f1f921-3fee-4ef3-9972-5aa74d75ed66.jpeg...\n",
      "[INFO] Connected to Google Storage bucket: food_vision_bucket_with_object_versioning\n"
     ]
    },
    {
     "name": "stderr",
     "output_type": "stream",
     "text": [
      " 51%|█████     | 335/658 [15:03<18:43,  3.48s/it]"
     ]
    },
    {
     "name": "stdout",
     "output_type": "stream",
     "text": [
      "[INFO] File food_photos/broccoli/b2f1f921-3fee-4ef3-9972-5aa74d75ed66.jpeg uploaded to food_vision_bucket_with_object_versioning/all_images/b2f1f921-3fee-4ef3-9972-5aa74d75ed66.jpeg.\n",
      "[INFO] File size: 2316133 bytes\n",
      "[INFO] Uploading food_photos/broccoli/088c00b7-20fc-4b38-8d2f-5534f2e015e6.jpeg to all_images/088c00b7-20fc-4b38-8d2f-5534f2e015e6.jpeg...\n",
      "[INFO] Connected to Google Storage bucket: food_vision_bucket_with_object_versioning\n"
     ]
    },
    {
     "name": "stderr",
     "output_type": "stream",
     "text": [
      " 51%|█████     | 336/658 [15:05<16:13,  3.02s/it]"
     ]
    },
    {
     "name": "stdout",
     "output_type": "stream",
     "text": [
      "[INFO] File food_photos/broccoli/088c00b7-20fc-4b38-8d2f-5534f2e015e6.jpeg uploaded to food_vision_bucket_with_object_versioning/all_images/088c00b7-20fc-4b38-8d2f-5534f2e015e6.jpeg.\n",
      "[INFO] File size: 2034998 bytes\n",
      "[INFO] Uploading food_photos/broccoli/ac28bb74-6f98-45c9-a1fd-1dc8ec60e14f.jpeg to all_images/ac28bb74-6f98-45c9-a1fd-1dc8ec60e14f.jpeg...\n",
      "[INFO] Connected to Google Storage bucket: food_vision_bucket_with_object_versioning\n"
     ]
    },
    {
     "name": "stderr",
     "output_type": "stream",
     "text": [
      " 51%|█████     | 337/658 [15:07<14:16,  2.67s/it]"
     ]
    },
    {
     "name": "stdout",
     "output_type": "stream",
     "text": [
      "[INFO] File food_photos/broccoli/ac28bb74-6f98-45c9-a1fd-1dc8ec60e14f.jpeg uploaded to food_vision_bucket_with_object_versioning/all_images/ac28bb74-6f98-45c9-a1fd-1dc8ec60e14f.jpeg.\n",
      "[INFO] File size: 1958210 bytes\n",
      "[INFO] Uploading food_photos/broccoli/6c41bfc0-7c24-4104-89fe-0dbe4a163c05.jpeg to all_images/6c41bfc0-7c24-4104-89fe-0dbe4a163c05.jpeg...\n",
      "[INFO] Connected to Google Storage bucket: food_vision_bucket_with_object_versioning\n"
     ]
    },
    {
     "name": "stderr",
     "output_type": "stream",
     "text": [
      " 51%|█████▏    | 338/658 [15:10<15:48,  2.96s/it]"
     ]
    },
    {
     "name": "stdout",
     "output_type": "stream",
     "text": [
      "[INFO] File food_photos/broccoli/6c41bfc0-7c24-4104-89fe-0dbe4a163c05.jpeg uploaded to food_vision_bucket_with_object_versioning/all_images/6c41bfc0-7c24-4104-89fe-0dbe4a163c05.jpeg.\n",
      "[INFO] File size: 2356224 bytes\n",
      "[INFO] Uploading food_photos/broccoli/51bf8c3c-89aa-486b-b359-e1dbf3a31979.jpeg to all_images/51bf8c3c-89aa-486b-b359-e1dbf3a31979.jpeg...\n",
      "[INFO] Connected to Google Storage bucket: food_vision_bucket_with_object_versioning\n"
     ]
    },
    {
     "name": "stderr",
     "output_type": "stream",
     "text": [
      " 52%|█████▏    | 339/658 [15:12<14:23,  2.71s/it]"
     ]
    },
    {
     "name": "stdout",
     "output_type": "stream",
     "text": [
      "[INFO] File food_photos/broccoli/51bf8c3c-89aa-486b-b359-e1dbf3a31979.jpeg uploaded to food_vision_bucket_with_object_versioning/all_images/51bf8c3c-89aa-486b-b359-e1dbf3a31979.jpeg.\n",
      "[INFO] File size: 1974093 bytes\n",
      "[INFO] Uploading food_photos/broccoli/fcf16d3d-ce1e-43c5-b4bf-4d6640ea74b0.jpeg to all_images/fcf16d3d-ce1e-43c5-b4bf-4d6640ea74b0.jpeg...\n",
      "[INFO] Connected to Google Storage bucket: food_vision_bucket_with_object_versioning\n"
     ]
    },
    {
     "name": "stderr",
     "output_type": "stream",
     "text": [
      " 52%|█████▏    | 340/658 [15:16<16:22,  3.09s/it]"
     ]
    },
    {
     "name": "stdout",
     "output_type": "stream",
     "text": [
      "[INFO] File food_photos/broccoli/fcf16d3d-ce1e-43c5-b4bf-4d6640ea74b0.jpeg uploaded to food_vision_bucket_with_object_versioning/all_images/fcf16d3d-ce1e-43c5-b4bf-4d6640ea74b0.jpeg.\n",
      "[INFO] File size: 3582986 bytes\n",
      "[INFO] Uploading food_photos/broccoli/7764e5a3-72c1-4a2b-a1e0-25de43005836.jpeg to all_images/7764e5a3-72c1-4a2b-a1e0-25de43005836.jpeg...\n",
      "[INFO] Connected to Google Storage bucket: food_vision_bucket_with_object_versioning\n"
     ]
    },
    {
     "name": "stderr",
     "output_type": "stream",
     "text": [
      " 52%|█████▏    | 341/658 [15:19<15:14,  2.88s/it]"
     ]
    },
    {
     "name": "stdout",
     "output_type": "stream",
     "text": [
      "[INFO] File food_photos/broccoli/7764e5a3-72c1-4a2b-a1e0-25de43005836.jpeg uploaded to food_vision_bucket_with_object_versioning/all_images/7764e5a3-72c1-4a2b-a1e0-25de43005836.jpeg.\n",
      "[INFO] File size: 2072737 bytes\n",
      "[INFO] Uploading food_photos/broccoli/809a87fc-a6a7-4ebc-bf6a-faf5fbaf3243.jpeg to all_images/809a87fc-a6a7-4ebc-bf6a-faf5fbaf3243.jpeg...\n",
      "[INFO] Connected to Google Storage bucket: food_vision_bucket_with_object_versioning\n"
     ]
    },
    {
     "name": "stderr",
     "output_type": "stream",
     "text": [
      " 52%|█████▏    | 342/658 [15:22<15:10,  2.88s/it]"
     ]
    },
    {
     "name": "stdout",
     "output_type": "stream",
     "text": [
      "[INFO] File food_photos/broccoli/809a87fc-a6a7-4ebc-bf6a-faf5fbaf3243.jpeg uploaded to food_vision_bucket_with_object_versioning/all_images/809a87fc-a6a7-4ebc-bf6a-faf5fbaf3243.jpeg.\n",
      "[INFO] File size: 1880950 bytes\n",
      "[INFO] Uploading food_photos/broccoli/2ac85561-62f7-40c6-9bf1-e178375d6c57.jpeg to all_images/2ac85561-62f7-40c6-9bf1-e178375d6c57.jpeg...\n",
      "[INFO] Connected to Google Storage bucket: food_vision_bucket_with_object_versioning\n"
     ]
    },
    {
     "name": "stderr",
     "output_type": "stream",
     "text": [
      " 52%|█████▏    | 343/658 [15:25<15:05,  2.87s/it]"
     ]
    },
    {
     "name": "stdout",
     "output_type": "stream",
     "text": [
      "[INFO] File food_photos/broccoli/2ac85561-62f7-40c6-9bf1-e178375d6c57.jpeg uploaded to food_vision_bucket_with_object_versioning/all_images/2ac85561-62f7-40c6-9bf1-e178375d6c57.jpeg.\n",
      "[INFO] File size: 1737749 bytes\n",
      "[INFO] Uploading food_photos/broccoli/e9601465-3ebc-4f9e-a5a4-901aa4b25b3a.jpeg to all_images/e9601465-3ebc-4f9e-a5a4-901aa4b25b3a.jpeg...\n",
      "[INFO] Connected to Google Storage bucket: food_vision_bucket_with_object_versioning\n"
     ]
    },
    {
     "name": "stderr",
     "output_type": "stream",
     "text": [
      " 52%|█████▏    | 344/658 [15:27<14:07,  2.70s/it]"
     ]
    },
    {
     "name": "stdout",
     "output_type": "stream",
     "text": [
      "[INFO] File food_photos/broccoli/e9601465-3ebc-4f9e-a5a4-901aa4b25b3a.jpeg uploaded to food_vision_bucket_with_object_versioning/all_images/e9601465-3ebc-4f9e-a5a4-901aa4b25b3a.jpeg.\n",
      "[INFO] File size: 1899594 bytes\n",
      "[INFO] Uploading food_photos/broccoli/f74b85fb-dff6-4ab9-a3ff-1a5f4eaada2b.jpeg to all_images/f74b85fb-dff6-4ab9-a3ff-1a5f4eaada2b.jpeg...\n",
      "[INFO] Connected to Google Storage bucket: food_vision_bucket_with_object_versioning\n"
     ]
    },
    {
     "name": "stderr",
     "output_type": "stream",
     "text": [
      " 52%|█████▏    | 345/658 [15:29<13:28,  2.58s/it]"
     ]
    },
    {
     "name": "stdout",
     "output_type": "stream",
     "text": [
      "[INFO] File food_photos/broccoli/f74b85fb-dff6-4ab9-a3ff-1a5f4eaada2b.jpeg uploaded to food_vision_bucket_with_object_versioning/all_images/f74b85fb-dff6-4ab9-a3ff-1a5f4eaada2b.jpeg.\n",
      "[INFO] File size: 2060924 bytes\n",
      "[INFO] Uploading food_photos/broccoli/d3f566cb-868d-4713-bb11-7ebe9fd41fce.jpeg to all_images/d3f566cb-868d-4713-bb11-7ebe9fd41fce.jpeg...\n",
      "[INFO] Connected to Google Storage bucket: food_vision_bucket_with_object_versioning\n"
     ]
    },
    {
     "name": "stderr",
     "output_type": "stream",
     "text": [
      " 53%|█████▎    | 346/658 [15:33<15:56,  3.06s/it]"
     ]
    },
    {
     "name": "stdout",
     "output_type": "stream",
     "text": [
      "[INFO] File food_photos/broccoli/d3f566cb-868d-4713-bb11-7ebe9fd41fce.jpeg uploaded to food_vision_bucket_with_object_versioning/all_images/d3f566cb-868d-4713-bb11-7ebe9fd41fce.jpeg.\n",
      "[INFO] File size: 2880638 bytes\n",
      "[INFO] Uploading food_photos/broccoli/160421da-b771-4f67-bcbf-bfaa419b97e8.jpeg to all_images/160421da-b771-4f67-bcbf-bfaa419b97e8.jpeg...\n",
      "[INFO] Connected to Google Storage bucket: food_vision_bucket_with_object_versioning\n"
     ]
    },
    {
     "name": "stderr",
     "output_type": "stream",
     "text": [
      " 53%|█████▎    | 347/658 [15:35<13:49,  2.67s/it]"
     ]
    },
    {
     "name": "stdout",
     "output_type": "stream",
     "text": [
      "[INFO] File food_photos/broccoli/160421da-b771-4f67-bcbf-bfaa419b97e8.jpeg uploaded to food_vision_bucket_with_object_versioning/all_images/160421da-b771-4f67-bcbf-bfaa419b97e8.jpeg.\n",
      "[INFO] File size: 1531055 bytes\n",
      "[INFO] Uploading food_photos/broccoli/9293d043-1a58-47ec-bd81-4ac2c7d58ea9.jpeg to all_images/9293d043-1a58-47ec-bd81-4ac2c7d58ea9.jpeg...\n",
      "[INFO] Connected to Google Storage bucket: food_vision_bucket_with_object_versioning\n"
     ]
    },
    {
     "name": "stderr",
     "output_type": "stream",
     "text": [
      " 53%|█████▎    | 348/658 [15:37<12:06,  2.34s/it]"
     ]
    },
    {
     "name": "stdout",
     "output_type": "stream",
     "text": [
      "[INFO] File food_photos/broccoli/9293d043-1a58-47ec-bd81-4ac2c7d58ea9.jpeg uploaded to food_vision_bucket_with_object_versioning/all_images/9293d043-1a58-47ec-bd81-4ac2c7d58ea9.jpeg.\n",
      "[INFO] File size: 1181392 bytes\n",
      "[INFO] Uploading food_photos/broccoli/52d95ef4-e8fb-4dff-b330-8053abb57397.jpeg to all_images/52d95ef4-e8fb-4dff-b330-8053abb57397.jpeg...\n",
      "[INFO] Connected to Google Storage bucket: food_vision_bucket_with_object_versioning\n"
     ]
    },
    {
     "name": "stderr",
     "output_type": "stream",
     "text": [
      " 53%|█████▎    | 349/658 [15:41<15:01,  2.92s/it]"
     ]
    },
    {
     "name": "stdout",
     "output_type": "stream",
     "text": [
      "[INFO] File food_photos/broccoli/52d95ef4-e8fb-4dff-b330-8053abb57397.jpeg uploaded to food_vision_bucket_with_object_versioning/all_images/52d95ef4-e8fb-4dff-b330-8053abb57397.jpeg.\n",
      "[INFO] File size: 2129381 bytes\n",
      "[INFO] Uploading food_photos/broccoli/b0694e36-ce4c-4ffc-8661-b7bdb4ab502d.jpeg to all_images/b0694e36-ce4c-4ffc-8661-b7bdb4ab502d.jpeg...\n",
      "[INFO] Connected to Google Storage bucket: food_vision_bucket_with_object_versioning\n"
     ]
    },
    {
     "name": "stderr",
     "output_type": "stream",
     "text": [
      " 53%|█████▎    | 350/658 [15:43<13:39,  2.66s/it]"
     ]
    },
    {
     "name": "stdout",
     "output_type": "stream",
     "text": [
      "[INFO] File food_photos/broccoli/b0694e36-ce4c-4ffc-8661-b7bdb4ab502d.jpeg uploaded to food_vision_bucket_with_object_versioning/all_images/b0694e36-ce4c-4ffc-8661-b7bdb4ab502d.jpeg.\n",
      "[INFO] File size: 1624301 bytes\n",
      "[INFO] Uploading food_photos/broccoli/161e7357-04a9-431b-b3d4-e680a5321129.jpeg to all_images/161e7357-04a9-431b-b3d4-e680a5321129.jpeg...\n",
      "[INFO] Connected to Google Storage bucket: food_vision_bucket_with_object_versioning\n"
     ]
    },
    {
     "name": "stderr",
     "output_type": "stream",
     "text": [
      " 53%|█████▎    | 351/658 [15:48<16:35,  3.24s/it]"
     ]
    },
    {
     "name": "stdout",
     "output_type": "stream",
     "text": [
      "[INFO] File food_photos/broccoli/161e7357-04a9-431b-b3d4-e680a5321129.jpeg uploaded to food_vision_bucket_with_object_versioning/all_images/161e7357-04a9-431b-b3d4-e680a5321129.jpeg.\n",
      "[INFO] File size: 2135207 bytes\n",
      "[INFO] Uploading food_photos/broccoli/6111d7f4-0792-442d-94ba-1e65d0fde699.jpeg to all_images/6111d7f4-0792-442d-94ba-1e65d0fde699.jpeg...\n",
      "[INFO] Connected to Google Storage bucket: food_vision_bucket_with_object_versioning\n"
     ]
    },
    {
     "name": "stderr",
     "output_type": "stream",
     "text": [
      " 53%|█████▎    | 352/658 [15:50<15:46,  3.09s/it]"
     ]
    },
    {
     "name": "stdout",
     "output_type": "stream",
     "text": [
      "[INFO] File food_photos/broccoli/6111d7f4-0792-442d-94ba-1e65d0fde699.jpeg uploaded to food_vision_bucket_with_object_versioning/all_images/6111d7f4-0792-442d-94ba-1e65d0fde699.jpeg.\n",
      "[INFO] File size: 1745284 bytes\n",
      "[INFO] Uploading food_photos/broccoli/c40352b6-8140-4816-baa2-3d13e2eeebeb.jpeg to all_images/c40352b6-8140-4816-baa2-3d13e2eeebeb.jpeg...\n",
      "[INFO] Connected to Google Storage bucket: food_vision_bucket_with_object_versioning\n"
     ]
    },
    {
     "name": "stderr",
     "output_type": "stream",
     "text": [
      " 54%|█████▎    | 353/658 [15:54<16:30,  3.25s/it]"
     ]
    },
    {
     "name": "stdout",
     "output_type": "stream",
     "text": [
      "[INFO] File food_photos/broccoli/c40352b6-8140-4816-baa2-3d13e2eeebeb.jpeg uploaded to food_vision_bucket_with_object_versioning/all_images/c40352b6-8140-4816-baa2-3d13e2eeebeb.jpeg.\n",
      "[INFO] File size: 2281269 bytes\n",
      "[INFO] Uploading food_photos/broccoli/c6d2f9cb-fb33-4706-aab0-fceb1b2d54de.jpeg to all_images/c6d2f9cb-fb33-4706-aab0-fceb1b2d54de.jpeg...\n",
      "[INFO] Connected to Google Storage bucket: food_vision_bucket_with_object_versioning\n"
     ]
    },
    {
     "name": "stderr",
     "output_type": "stream",
     "text": [
      " 54%|█████▍    | 354/658 [15:58<16:54,  3.34s/it]"
     ]
    },
    {
     "name": "stdout",
     "output_type": "stream",
     "text": [
      "[INFO] File food_photos/broccoli/c6d2f9cb-fb33-4706-aab0-fceb1b2d54de.jpeg uploaded to food_vision_bucket_with_object_versioning/all_images/c6d2f9cb-fb33-4706-aab0-fceb1b2d54de.jpeg.\n",
      "[INFO] File size: 1922719 bytes\n",
      "[INFO] Uploading food_photos/broccoli/60d49a6a-d2b0-4710-bfe8-a5bb213a6970.jpeg to all_images/60d49a6a-d2b0-4710-bfe8-a5bb213a6970.jpeg...\n",
      "[INFO] Connected to Google Storage bucket: food_vision_bucket_with_object_versioning\n"
     ]
    },
    {
     "name": "stderr",
     "output_type": "stream",
     "text": [
      " 54%|█████▍    | 355/658 [15:59<14:33,  2.88s/it]"
     ]
    },
    {
     "name": "stdout",
     "output_type": "stream",
     "text": [
      "[INFO] File food_photos/broccoli/60d49a6a-d2b0-4710-bfe8-a5bb213a6970.jpeg uploaded to food_vision_bucket_with_object_versioning/all_images/60d49a6a-d2b0-4710-bfe8-a5bb213a6970.jpeg.\n",
      "[INFO] File size: 1890365 bytes\n",
      "[INFO] Uploading food_photos/broccoli/e92e8cf2-2e19-4419-a749-15e18752d8f2.jpeg to all_images/e92e8cf2-2e19-4419-a749-15e18752d8f2.jpeg...\n",
      "[INFO] Connected to Google Storage bucket: food_vision_bucket_with_object_versioning\n"
     ]
    },
    {
     "name": "stderr",
     "output_type": "stream",
     "text": [
      " 54%|█████▍    | 356/658 [16:01<12:56,  2.57s/it]"
     ]
    },
    {
     "name": "stdout",
     "output_type": "stream",
     "text": [
      "[INFO] File food_photos/broccoli/e92e8cf2-2e19-4419-a749-15e18752d8f2.jpeg uploaded to food_vision_bucket_with_object_versioning/all_images/e92e8cf2-2e19-4419-a749-15e18752d8f2.jpeg.\n",
      "[INFO] File size: 1896611 bytes\n",
      "[INFO] Uploading food_photos/broccoli/d9bda599-32ac-4ef2-ae5a-d955ca6edcf7.jpeg to all_images/d9bda599-32ac-4ef2-ae5a-d955ca6edcf7.jpeg...\n",
      "[INFO] Connected to Google Storage bucket: food_vision_bucket_with_object_versioning\n"
     ]
    },
    {
     "name": "stderr",
     "output_type": "stream",
     "text": [
      " 54%|█████▍    | 357/658 [16:04<12:38,  2.52s/it]"
     ]
    },
    {
     "name": "stdout",
     "output_type": "stream",
     "text": [
      "[INFO] File food_photos/broccoli/d9bda599-32ac-4ef2-ae5a-d955ca6edcf7.jpeg uploaded to food_vision_bucket_with_object_versioning/all_images/d9bda599-32ac-4ef2-ae5a-d955ca6edcf7.jpeg.\n",
      "[INFO] File size: 1923479 bytes\n",
      "[INFO] Uploading food_photos/broccoli/8ebc365b-878a-4fce-8ad1-b8bee5c95ec7.jpeg to all_images/8ebc365b-878a-4fce-8ad1-b8bee5c95ec7.jpeg...\n",
      "[INFO] Connected to Google Storage bucket: food_vision_bucket_with_object_versioning\n"
     ]
    },
    {
     "name": "stderr",
     "output_type": "stream",
     "text": [
      " 54%|█████▍    | 358/658 [16:08<15:55,  3.19s/it]"
     ]
    },
    {
     "name": "stdout",
     "output_type": "stream",
     "text": [
      "[INFO] File food_photos/broccoli/8ebc365b-878a-4fce-8ad1-b8bee5c95ec7.jpeg uploaded to food_vision_bucket_with_object_versioning/all_images/8ebc365b-878a-4fce-8ad1-b8bee5c95ec7.jpeg.\n",
      "[INFO] File size: 2673732 bytes\n",
      "[INFO] Uploading food_photos/broccoli/16cd50f3-1bb3-412d-a5b2-0cfd0f1143d6.jpeg to all_images/16cd50f3-1bb3-412d-a5b2-0cfd0f1143d6.jpeg...\n",
      "[INFO] Connected to Google Storage bucket: food_vision_bucket_with_object_versioning\n"
     ]
    },
    {
     "name": "stderr",
     "output_type": "stream",
     "text": [
      " 55%|█████▍    | 359/658 [16:11<14:35,  2.93s/it]"
     ]
    },
    {
     "name": "stdout",
     "output_type": "stream",
     "text": [
      "[INFO] File food_photos/broccoli/16cd50f3-1bb3-412d-a5b2-0cfd0f1143d6.jpeg uploaded to food_vision_bucket_with_object_versioning/all_images/16cd50f3-1bb3-412d-a5b2-0cfd0f1143d6.jpeg.\n",
      "[INFO] File size: 2046634 bytes\n",
      "[INFO] Uploading food_photos/broccoli/0c837a3a-5489-4987-92d6-8aaaf9cd832f.jpeg to all_images/0c837a3a-5489-4987-92d6-8aaaf9cd832f.jpeg...\n",
      "[INFO] Connected to Google Storage bucket: food_vision_bucket_with_object_versioning\n"
     ]
    },
    {
     "name": "stderr",
     "output_type": "stream",
     "text": [
      " 55%|█████▍    | 360/658 [16:13<13:13,  2.66s/it]"
     ]
    },
    {
     "name": "stdout",
     "output_type": "stream",
     "text": [
      "[INFO] File food_photos/broccoli/0c837a3a-5489-4987-92d6-8aaaf9cd832f.jpeg uploaded to food_vision_bucket_with_object_versioning/all_images/0c837a3a-5489-4987-92d6-8aaaf9cd832f.jpeg.\n",
      "[INFO] File size: 1727613 bytes\n",
      "[INFO] Uploading food_photos/broccoli/f9959b45-02b1-4ad3-b805-821d96fff081.jpeg to all_images/f9959b45-02b1-4ad3-b805-821d96fff081.jpeg...\n",
      "[INFO] Connected to Google Storage bucket: food_vision_bucket_with_object_versioning\n"
     ]
    },
    {
     "name": "stderr",
     "output_type": "stream",
     "text": [
      " 55%|█████▍    | 361/658 [16:16<14:00,  2.83s/it]"
     ]
    },
    {
     "name": "stdout",
     "output_type": "stream",
     "text": [
      "[INFO] File food_photos/broccoli/f9959b45-02b1-4ad3-b805-821d96fff081.jpeg uploaded to food_vision_bucket_with_object_versioning/all_images/f9959b45-02b1-4ad3-b805-821d96fff081.jpeg.\n",
      "[INFO] File size: 2397843 bytes\n",
      "[INFO] Uploading food_photos/broccoli/22766830-deea-4851-82ec-4b57fcbee4b8.jpeg to all_images/22766830-deea-4851-82ec-4b57fcbee4b8.jpeg...\n",
      "[INFO] Connected to Google Storage bucket: food_vision_bucket_with_object_versioning\n"
     ]
    },
    {
     "name": "stderr",
     "output_type": "stream",
     "text": [
      " 55%|█████▌    | 362/658 [16:18<13:29,  2.73s/it]"
     ]
    },
    {
     "name": "stdout",
     "output_type": "stream",
     "text": [
      "[INFO] File food_photos/broccoli/22766830-deea-4851-82ec-4b57fcbee4b8.jpeg uploaded to food_vision_bucket_with_object_versioning/all_images/22766830-deea-4851-82ec-4b57fcbee4b8.jpeg.\n",
      "[INFO] File size: 1598593 bytes\n",
      "[INFO] Uploading food_photos/broccoli/d0cdb2c9-20b5-493b-8874-1a47f97d05d0.jpeg to all_images/d0cdb2c9-20b5-493b-8874-1a47f97d05d0.jpeg...\n",
      "[INFO] Connected to Google Storage bucket: food_vision_bucket_with_object_versioning\n"
     ]
    },
    {
     "name": "stderr",
     "output_type": "stream",
     "text": [
      " 55%|█████▌    | 363/658 [16:20<12:21,  2.51s/it]"
     ]
    },
    {
     "name": "stdout",
     "output_type": "stream",
     "text": [
      "[INFO] File food_photos/broccoli/d0cdb2c9-20b5-493b-8874-1a47f97d05d0.jpeg uploaded to food_vision_bucket_with_object_versioning/all_images/d0cdb2c9-20b5-493b-8874-1a47f97d05d0.jpeg.\n",
      "[INFO] File size: 1467555 bytes\n",
      "[INFO] Uploading food_photos/broccoli/4631b3e1-a6fb-47d4-b766-ddea8418c6fc.jpeg to all_images/4631b3e1-a6fb-47d4-b766-ddea8418c6fc.jpeg...\n",
      "[INFO] Connected to Google Storage bucket: food_vision_bucket_with_object_versioning\n"
     ]
    },
    {
     "name": "stderr",
     "output_type": "stream",
     "text": [
      " 55%|█████▌    | 364/658 [16:22<11:12,  2.29s/it]"
     ]
    },
    {
     "name": "stdout",
     "output_type": "stream",
     "text": [
      "[INFO] File food_photos/broccoli/4631b3e1-a6fb-47d4-b766-ddea8418c6fc.jpeg uploaded to food_vision_bucket_with_object_versioning/all_images/4631b3e1-a6fb-47d4-b766-ddea8418c6fc.jpeg.\n",
      "[INFO] File size: 1433769 bytes\n",
      "[INFO] Uploading food_photos/broccoli/a9b93710-003c-481d-9559-3043bdd5836e.jpeg to all_images/a9b93710-003c-481d-9559-3043bdd5836e.jpeg...\n",
      "[INFO] Connected to Google Storage bucket: food_vision_bucket_with_object_versioning\n"
     ]
    },
    {
     "name": "stderr",
     "output_type": "stream",
     "text": [
      " 55%|█████▌    | 365/658 [16:24<11:06,  2.28s/it]"
     ]
    },
    {
     "name": "stdout",
     "output_type": "stream",
     "text": [
      "[INFO] File food_photos/broccoli/a9b93710-003c-481d-9559-3043bdd5836e.jpeg uploaded to food_vision_bucket_with_object_versioning/all_images/a9b93710-003c-481d-9559-3043bdd5836e.jpeg.\n",
      "[INFO] File size: 1979538 bytes\n",
      "[INFO] Uploading food_photos/broccoli/c2e9a3a3-4596-49be-91b6-e7c08962d020.jpeg to all_images/c2e9a3a3-4596-49be-91b6-e7c08962d020.jpeg...\n",
      "[INFO] Connected to Google Storage bucket: food_vision_bucket_with_object_versioning\n"
     ]
    },
    {
     "name": "stderr",
     "output_type": "stream",
     "text": [
      " 56%|█████▌    | 366/658 [16:26<10:17,  2.11s/it]"
     ]
    },
    {
     "name": "stdout",
     "output_type": "stream",
     "text": [
      "[INFO] File food_photos/broccoli/c2e9a3a3-4596-49be-91b6-e7c08962d020.jpeg uploaded to food_vision_bucket_with_object_versioning/all_images/c2e9a3a3-4596-49be-91b6-e7c08962d020.jpeg.\n",
      "[INFO] File size: 1582826 bytes\n",
      "[INFO] Uploading food_photos/broccoli/7708a188-fc0d-466f-b1a9-05b44da16b8a.jpeg to all_images/7708a188-fc0d-466f-b1a9-05b44da16b8a.jpeg...\n",
      "[INFO] Connected to Google Storage bucket: food_vision_bucket_with_object_versioning\n"
     ]
    },
    {
     "name": "stderr",
     "output_type": "stream",
     "text": [
      " 56%|█████▌    | 367/658 [16:28<10:00,  2.06s/it]"
     ]
    },
    {
     "name": "stdout",
     "output_type": "stream",
     "text": [
      "[INFO] File food_photos/broccoli/7708a188-fc0d-466f-b1a9-05b44da16b8a.jpeg uploaded to food_vision_bucket_with_object_versioning/all_images/7708a188-fc0d-466f-b1a9-05b44da16b8a.jpeg.\n",
      "[INFO] File size: 1818292 bytes\n",
      "[INFO] Uploading food_photos/broccoli/7bcb8970-195a-44a1-a269-e078fcbc2cdd.jpeg to all_images/7bcb8970-195a-44a1-a269-e078fcbc2cdd.jpeg...\n",
      "[INFO] Connected to Google Storage bucket: food_vision_bucket_with_object_versioning\n"
     ]
    },
    {
     "name": "stderr",
     "output_type": "stream",
     "text": [
      " 56%|█████▌    | 368/658 [16:32<11:58,  2.48s/it]"
     ]
    },
    {
     "name": "stdout",
     "output_type": "stream",
     "text": [
      "[INFO] File food_photos/broccoli/7bcb8970-195a-44a1-a269-e078fcbc2cdd.jpeg uploaded to food_vision_bucket_with_object_versioning/all_images/7bcb8970-195a-44a1-a269-e078fcbc2cdd.jpeg.\n",
      "[INFO] File size: 2287655 bytes\n",
      "[INFO] Uploading food_photos/broccoli/5c496d37-7dfa-4ca9-9748-168f5e6adc6f.jpeg to all_images/5c496d37-7dfa-4ca9-9748-168f5e6adc6f.jpeg...\n",
      "[INFO] Connected to Google Storage bucket: food_vision_bucket_with_object_versioning\n"
     ]
    },
    {
     "name": "stderr",
     "output_type": "stream",
     "text": [
      " 56%|█████▌    | 369/658 [16:35<12:38,  2.63s/it]"
     ]
    },
    {
     "name": "stdout",
     "output_type": "stream",
     "text": [
      "[INFO] File food_photos/broccoli/5c496d37-7dfa-4ca9-9748-168f5e6adc6f.jpeg uploaded to food_vision_bucket_with_object_versioning/all_images/5c496d37-7dfa-4ca9-9748-168f5e6adc6f.jpeg.\n",
      "[INFO] File size: 2191231 bytes\n",
      "[INFO] Uploading food_photos/broccoli/d44a18b1-3902-43a4-be42-184db1d147c9.jpeg to all_images/d44a18b1-3902-43a4-be42-184db1d147c9.jpeg...\n",
      "[INFO] Connected to Google Storage bucket: food_vision_bucket_with_object_versioning\n"
     ]
    },
    {
     "name": "stderr",
     "output_type": "stream",
     "text": [
      " 56%|█████▌    | 370/658 [16:37<12:45,  2.66s/it]"
     ]
    },
    {
     "name": "stdout",
     "output_type": "stream",
     "text": [
      "[INFO] File food_photos/broccoli/d44a18b1-3902-43a4-be42-184db1d147c9.jpeg uploaded to food_vision_bucket_with_object_versioning/all_images/d44a18b1-3902-43a4-be42-184db1d147c9.jpeg.\n",
      "[INFO] File size: 1860681 bytes\n",
      "[INFO] Uploading food_photos/broccoli/bcb3887c-ccdb-4ab2-b7e8-b0bc24f433f5.jpeg to all_images/bcb3887c-ccdb-4ab2-b7e8-b0bc24f433f5.jpeg...\n",
      "[INFO] Connected to Google Storage bucket: food_vision_bucket_with_object_versioning\n"
     ]
    },
    {
     "name": "stderr",
     "output_type": "stream",
     "text": [
      " 56%|█████▋    | 371/658 [16:39<11:21,  2.37s/it]"
     ]
    },
    {
     "name": "stdout",
     "output_type": "stream",
     "text": [
      "[INFO] File food_photos/broccoli/bcb3887c-ccdb-4ab2-b7e8-b0bc24f433f5.jpeg uploaded to food_vision_bucket_with_object_versioning/all_images/bcb3887c-ccdb-4ab2-b7e8-b0bc24f433f5.jpeg.\n",
      "[INFO] File size: 1708280 bytes\n",
      "[INFO] Uploading food_photos/broccoli/b860f938-9c0e-4b3f-8e6e-ed47fb61a917.jpeg to all_images/b860f938-9c0e-4b3f-8e6e-ed47fb61a917.jpeg...\n",
      "[INFO] Connected to Google Storage bucket: food_vision_bucket_with_object_versioning\n"
     ]
    },
    {
     "name": "stderr",
     "output_type": "stream",
     "text": [
      " 57%|█████▋    | 372/658 [16:41<10:49,  2.27s/it]"
     ]
    },
    {
     "name": "stdout",
     "output_type": "stream",
     "text": [
      "[INFO] File food_photos/broccoli/b860f938-9c0e-4b3f-8e6e-ed47fb61a917.jpeg uploaded to food_vision_bucket_with_object_versioning/all_images/b860f938-9c0e-4b3f-8e6e-ed47fb61a917.jpeg.\n",
      "[INFO] File size: 1116681 bytes\n",
      "[INFO] Uploading food_photos/broccoli/8a1e8e1f-8429-4974-befe-834679248ff3.jpeg to all_images/8a1e8e1f-8429-4974-befe-834679248ff3.jpeg...\n",
      "[INFO] Connected to Google Storage bucket: food_vision_bucket_with_object_versioning\n"
     ]
    },
    {
     "name": "stderr",
     "output_type": "stream",
     "text": [
      " 57%|█████▋    | 373/658 [16:44<11:59,  2.53s/it]"
     ]
    },
    {
     "name": "stdout",
     "output_type": "stream",
     "text": [
      "[INFO] File food_photos/broccoli/8a1e8e1f-8429-4974-befe-834679248ff3.jpeg uploaded to food_vision_bucket_with_object_versioning/all_images/8a1e8e1f-8429-4974-befe-834679248ff3.jpeg.\n",
      "[INFO] File size: 2359174 bytes\n",
      "[INFO] Uploading food_photos/broccoli/424a1ced-cf39-4e1e-bd4f-c338e731fb7d.jpeg to all_images/424a1ced-cf39-4e1e-bd4f-c338e731fb7d.jpeg...\n",
      "[INFO] Connected to Google Storage bucket: food_vision_bucket_with_object_versioning\n"
     ]
    },
    {
     "name": "stderr",
     "output_type": "stream",
     "text": [
      " 57%|█████▋    | 374/658 [16:46<10:54,  2.31s/it]"
     ]
    },
    {
     "name": "stdout",
     "output_type": "stream",
     "text": [
      "[INFO] File food_photos/broccoli/424a1ced-cf39-4e1e-bd4f-c338e731fb7d.jpeg uploaded to food_vision_bucket_with_object_versioning/all_images/424a1ced-cf39-4e1e-bd4f-c338e731fb7d.jpeg.\n",
      "[INFO] File size: 1495878 bytes\n",
      "[INFO] Uploading food_photos/broccoli/8a54d937-963b-40fe-8d97-675ddc5ba9cc.jpeg to all_images/8a54d937-963b-40fe-8d97-675ddc5ba9cc.jpeg...\n",
      "[INFO] Connected to Google Storage bucket: food_vision_bucket_with_object_versioning\n"
     ]
    },
    {
     "name": "stderr",
     "output_type": "stream",
     "text": [
      " 57%|█████▋    | 375/658 [16:48<10:06,  2.14s/it]"
     ]
    },
    {
     "name": "stdout",
     "output_type": "stream",
     "text": [
      "[INFO] File food_photos/broccoli/8a54d937-963b-40fe-8d97-675ddc5ba9cc.jpeg uploaded to food_vision_bucket_with_object_versioning/all_images/8a54d937-963b-40fe-8d97-675ddc5ba9cc.jpeg.\n",
      "[INFO] File size: 1575548 bytes\n",
      "[INFO] Uploading food_photos/broccoli/f89e9fdb-da92-487b-92c2-ede1d9724e3f.jpeg to all_images/f89e9fdb-da92-487b-92c2-ede1d9724e3f.jpeg...\n",
      "[INFO] Connected to Google Storage bucket: food_vision_bucket_with_object_versioning\n"
     ]
    },
    {
     "name": "stderr",
     "output_type": "stream",
     "text": [
      " 57%|█████▋    | 376/658 [16:50<10:26,  2.22s/it]"
     ]
    },
    {
     "name": "stdout",
     "output_type": "stream",
     "text": [
      "[INFO] File food_photos/broccoli/f89e9fdb-da92-487b-92c2-ede1d9724e3f.jpeg uploaded to food_vision_bucket_with_object_versioning/all_images/f89e9fdb-da92-487b-92c2-ede1d9724e3f.jpeg.\n",
      "[INFO] File size: 1709126 bytes\n",
      "[INFO] Uploading food_photos/broccoli/7ea0caa2-77eb-468d-b9d6-9c27883c363f.jpeg to all_images/7ea0caa2-77eb-468d-b9d6-9c27883c363f.jpeg...\n",
      "[INFO] Connected to Google Storage bucket: food_vision_bucket_with_object_versioning\n"
     ]
    },
    {
     "name": "stderr",
     "output_type": "stream",
     "text": [
      " 57%|█████▋    | 377/658 [16:53<11:58,  2.56s/it]"
     ]
    },
    {
     "name": "stdout",
     "output_type": "stream",
     "text": [
      "[INFO] File food_photos/broccoli/7ea0caa2-77eb-468d-b9d6-9c27883c363f.jpeg uploaded to food_vision_bucket_with_object_versioning/all_images/7ea0caa2-77eb-468d-b9d6-9c27883c363f.jpeg.\n",
      "[INFO] File size: 2103417 bytes\n",
      "[INFO] Uploading food_photos/broccoli/8165ec5d-9cb4-4d85-82bb-2507cb35f72d.jpeg to all_images/8165ec5d-9cb4-4d85-82bb-2507cb35f72d.jpeg...\n",
      "[INFO] Connected to Google Storage bucket: food_vision_bucket_with_object_versioning\n"
     ]
    },
    {
     "name": "stderr",
     "output_type": "stream",
     "text": [
      " 57%|█████▋    | 378/658 [16:55<10:59,  2.35s/it]"
     ]
    },
    {
     "name": "stdout",
     "output_type": "stream",
     "text": [
      "[INFO] File food_photos/broccoli/8165ec5d-9cb4-4d85-82bb-2507cb35f72d.jpeg uploaded to food_vision_bucket_with_object_versioning/all_images/8165ec5d-9cb4-4d85-82bb-2507cb35f72d.jpeg.\n",
      "[INFO] File size: 1334108 bytes\n",
      "[INFO] Uploading food_photos/broccoli/570aafdb-e4ce-4ddf-9c68-75a955334bc1.jpeg to all_images/570aafdb-e4ce-4ddf-9c68-75a955334bc1.jpeg...\n",
      "[INFO] Connected to Google Storage bucket: food_vision_bucket_with_object_versioning\n"
     ]
    },
    {
     "name": "stderr",
     "output_type": "stream",
     "text": [
      " 58%|█████▊    | 379/658 [17:00<13:31,  2.91s/it]"
     ]
    },
    {
     "name": "stdout",
     "output_type": "stream",
     "text": [
      "[INFO] File food_photos/broccoli/570aafdb-e4ce-4ddf-9c68-75a955334bc1.jpeg uploaded to food_vision_bucket_with_object_versioning/all_images/570aafdb-e4ce-4ddf-9c68-75a955334bc1.jpeg.\n",
      "[INFO] File size: 2973892 bytes\n",
      "[INFO] Uploading food_photos/broccoli/a5e9f8d6-b8ec-485c-8ed2-65f007bb57f5.jpeg to all_images/a5e9f8d6-b8ec-485c-8ed2-65f007bb57f5.jpeg...\n",
      "[INFO] Connected to Google Storage bucket: food_vision_bucket_with_object_versioning\n"
     ]
    },
    {
     "name": "stderr",
     "output_type": "stream",
     "text": [
      " 58%|█████▊    | 380/658 [17:01<11:33,  2.50s/it]"
     ]
    },
    {
     "name": "stdout",
     "output_type": "stream",
     "text": [
      "[INFO] File food_photos/broccoli/a5e9f8d6-b8ec-485c-8ed2-65f007bb57f5.jpeg uploaded to food_vision_bucket_with_object_versioning/all_images/a5e9f8d6-b8ec-485c-8ed2-65f007bb57f5.jpeg.\n",
      "[INFO] File size: 1311109 bytes\n",
      "[INFO] Uploading food_photos/broccoli/2b9a0b10-2e92-48e5-ad33-6cc3f7d87b8d.jpeg to all_images/2b9a0b10-2e92-48e5-ad33-6cc3f7d87b8d.jpeg...\n",
      "[INFO] Connected to Google Storage bucket: food_vision_bucket_with_object_versioning\n"
     ]
    },
    {
     "name": "stderr",
     "output_type": "stream",
     "text": [
      " 58%|█████▊    | 381/658 [17:03<10:36,  2.30s/it]"
     ]
    },
    {
     "name": "stdout",
     "output_type": "stream",
     "text": [
      "[INFO] File food_photos/broccoli/2b9a0b10-2e92-48e5-ad33-6cc3f7d87b8d.jpeg uploaded to food_vision_bucket_with_object_versioning/all_images/2b9a0b10-2e92-48e5-ad33-6cc3f7d87b8d.jpeg.\n",
      "[INFO] File size: 1570554 bytes\n",
      "[INFO] Uploading food_photos/broccoli/ac1ec9d8-2b37-4218-acca-71bb1be68668.jpeg to all_images/ac1ec9d8-2b37-4218-acca-71bb1be68668.jpeg...\n",
      "[INFO] Connected to Google Storage bucket: food_vision_bucket_with_object_versioning\n"
     ]
    },
    {
     "name": "stderr",
     "output_type": "stream",
     "text": [
      " 58%|█████▊    | 382/658 [17:07<13:35,  2.96s/it]"
     ]
    },
    {
     "name": "stdout",
     "output_type": "stream",
     "text": [
      "[INFO] File food_photos/broccoli/ac1ec9d8-2b37-4218-acca-71bb1be68668.jpeg uploaded to food_vision_bucket_with_object_versioning/all_images/ac1ec9d8-2b37-4218-acca-71bb1be68668.jpeg.\n",
      "[INFO] File size: 2406761 bytes\n",
      "[INFO] Uploading food_photos/broccoli/ab7baf50-d04a-43ff-9ffc-86ebd3e219f4.jpeg to all_images/ab7baf50-d04a-43ff-9ffc-86ebd3e219f4.jpeg...\n",
      "[INFO] Connected to Google Storage bucket: food_vision_bucket_with_object_versioning\n"
     ]
    },
    {
     "name": "stderr",
     "output_type": "stream",
     "text": [
      " 58%|█████▊    | 383/658 [17:09<11:49,  2.58s/it]"
     ]
    },
    {
     "name": "stdout",
     "output_type": "stream",
     "text": [
      "[INFO] File food_photos/broccoli/ab7baf50-d04a-43ff-9ffc-86ebd3e219f4.jpeg uploaded to food_vision_bucket_with_object_versioning/all_images/ab7baf50-d04a-43ff-9ffc-86ebd3e219f4.jpeg.\n",
      "[INFO] File size: 1577212 bytes\n",
      "[INFO] Uploading food_photos/broccoli/04f45a84-0063-4b88-bcf0-3240fcc169fe.jpeg to all_images/04f45a84-0063-4b88-bcf0-3240fcc169fe.jpeg...\n",
      "[INFO] Connected to Google Storage bucket: food_vision_bucket_with_object_versioning\n"
     ]
    },
    {
     "name": "stderr",
     "output_type": "stream",
     "text": [
      " 58%|█████▊    | 384/658 [17:13<13:43,  3.00s/it]"
     ]
    },
    {
     "name": "stdout",
     "output_type": "stream",
     "text": [
      "[INFO] File food_photos/broccoli/04f45a84-0063-4b88-bcf0-3240fcc169fe.jpeg uploaded to food_vision_bucket_with_object_versioning/all_images/04f45a84-0063-4b88-bcf0-3240fcc169fe.jpeg.\n",
      "[INFO] File size: 2152257 bytes\n",
      "[INFO] Uploading food_photos/broccoli/d2052fb2-b152-4da8-b00c-406cae1e9757.jpeg to all_images/d2052fb2-b152-4da8-b00c-406cae1e9757.jpeg...\n",
      "[INFO] Connected to Google Storage bucket: food_vision_bucket_with_object_versioning\n"
     ]
    },
    {
     "name": "stderr",
     "output_type": "stream",
     "text": [
      " 59%|█████▊    | 385/658 [17:17<14:58,  3.29s/it]"
     ]
    },
    {
     "name": "stdout",
     "output_type": "stream",
     "text": [
      "[INFO] File food_photos/broccoli/d2052fb2-b152-4da8-b00c-406cae1e9757.jpeg uploaded to food_vision_bucket_with_object_versioning/all_images/d2052fb2-b152-4da8-b00c-406cae1e9757.jpeg.\n",
      "[INFO] File size: 2473716 bytes\n",
      "[INFO] Uploading food_photos/broccoli/99d35aa1-a124-44b7-9dc8-83516f53105f.jpeg to all_images/99d35aa1-a124-44b7-9dc8-83516f53105f.jpeg...\n",
      "[INFO] Connected to Google Storage bucket: food_vision_bucket_with_object_versioning\n"
     ]
    },
    {
     "name": "stderr",
     "output_type": "stream",
     "text": [
      " 59%|█████▊    | 386/658 [17:21<15:54,  3.51s/it]"
     ]
    },
    {
     "name": "stdout",
     "output_type": "stream",
     "text": [
      "[INFO] File food_photos/broccoli/99d35aa1-a124-44b7-9dc8-83516f53105f.jpeg uploaded to food_vision_bucket_with_object_versioning/all_images/99d35aa1-a124-44b7-9dc8-83516f53105f.jpeg.\n",
      "[INFO] File size: 2583198 bytes\n",
      "[INFO] Uploading food_photos/broccoli/37007f9d-5967-4d1e-bab7-0ecfddcc8df6.jpeg to all_images/37007f9d-5967-4d1e-bab7-0ecfddcc8df6.jpeg...\n",
      "[INFO] Connected to Google Storage bucket: food_vision_bucket_with_object_versioning\n"
     ]
    },
    {
     "name": "stderr",
     "output_type": "stream",
     "text": [
      " 59%|█████▉    | 387/658 [17:23<13:51,  3.07s/it]"
     ]
    },
    {
     "name": "stdout",
     "output_type": "stream",
     "text": [
      "[INFO] File food_photos/broccoli/37007f9d-5967-4d1e-bab7-0ecfddcc8df6.jpeg uploaded to food_vision_bucket_with_object_versioning/all_images/37007f9d-5967-4d1e-bab7-0ecfddcc8df6.jpeg.\n",
      "[INFO] File size: 2017359 bytes\n",
      "[INFO] Uploading food_photos/broccoli/a6ac6a7b-d440-45c2-827f-1e82bf5141c3.jpeg to all_images/a6ac6a7b-d440-45c2-827f-1e82bf5141c3.jpeg...\n",
      "[INFO] Connected to Google Storage bucket: food_vision_bucket_with_object_versioning\n"
     ]
    },
    {
     "name": "stderr",
     "output_type": "stream",
     "text": [
      " 59%|█████▉    | 388/658 [17:26<14:12,  3.16s/it]"
     ]
    },
    {
     "name": "stdout",
     "output_type": "stream",
     "text": [
      "[INFO] File food_photos/broccoli/a6ac6a7b-d440-45c2-827f-1e82bf5141c3.jpeg uploaded to food_vision_bucket_with_object_versioning/all_images/a6ac6a7b-d440-45c2-827f-1e82bf5141c3.jpeg.\n",
      "[INFO] File size: 2214556 bytes\n",
      "[INFO] Uploading food_photos/broccoli/f2d02381-cdf3-4a37-821f-5a6e4e7b6a2b.jpeg to all_images/f2d02381-cdf3-4a37-821f-5a6e4e7b6a2b.jpeg...\n",
      "[INFO] Connected to Google Storage bucket: food_vision_bucket_with_object_versioning\n"
     ]
    },
    {
     "name": "stderr",
     "output_type": "stream",
     "text": [
      " 59%|█████▉    | 389/658 [17:28<12:39,  2.82s/it]"
     ]
    },
    {
     "name": "stdout",
     "output_type": "stream",
     "text": [
      "[INFO] File food_photos/broccoli/f2d02381-cdf3-4a37-821f-5a6e4e7b6a2b.jpeg uploaded to food_vision_bucket_with_object_versioning/all_images/f2d02381-cdf3-4a37-821f-5a6e4e7b6a2b.jpeg.\n",
      "[INFO] File size: 1964341 bytes\n",
      "[INFO] Uploading food_photos/broccoli/5b868e17-667e-438e-a8ec-8b6d9ded86bf.jpeg to all_images/5b868e17-667e-438e-a8ec-8b6d9ded86bf.jpeg...\n",
      "[INFO] Connected to Google Storage bucket: food_vision_bucket_with_object_versioning\n"
     ]
    },
    {
     "name": "stderr",
     "output_type": "stream",
     "text": [
      " 59%|█████▉    | 390/658 [17:31<11:43,  2.62s/it]"
     ]
    },
    {
     "name": "stdout",
     "output_type": "stream",
     "text": [
      "[INFO] File food_photos/broccoli/5b868e17-667e-438e-a8ec-8b6d9ded86bf.jpeg uploaded to food_vision_bucket_with_object_versioning/all_images/5b868e17-667e-438e-a8ec-8b6d9ded86bf.jpeg.\n",
      "[INFO] File size: 1099630 bytes\n",
      "[INFO] Uploading food_photos/broccoli/b51ae810-2d27-4d48-8f7e-2f5868302e57.jpeg to all_images/b51ae810-2d27-4d48-8f7e-2f5868302e57.jpeg...\n",
      "[INFO] Connected to Google Storage bucket: food_vision_bucket_with_object_versioning\n"
     ]
    },
    {
     "name": "stderr",
     "output_type": "stream",
     "text": [
      " 59%|█████▉    | 391/658 [17:34<13:10,  2.96s/it]"
     ]
    },
    {
     "name": "stdout",
     "output_type": "stream",
     "text": [
      "[INFO] File food_photos/broccoli/b51ae810-2d27-4d48-8f7e-2f5868302e57.jpeg uploaded to food_vision_bucket_with_object_versioning/all_images/b51ae810-2d27-4d48-8f7e-2f5868302e57.jpeg.\n",
      "[INFO] File size: 2132706 bytes\n",
      "[INFO] Uploading food_photos/broccoli/0357088c-bc68-409a-9040-e9f2535af82e.jpeg to all_images/0357088c-bc68-409a-9040-e9f2535af82e.jpeg...\n",
      "[INFO] Connected to Google Storage bucket: food_vision_bucket_with_object_versioning\n"
     ]
    },
    {
     "name": "stderr",
     "output_type": "stream",
     "text": [
      " 60%|█████▉    | 392/658 [17:36<11:51,  2.68s/it]"
     ]
    },
    {
     "name": "stdout",
     "output_type": "stream",
     "text": [
      "[INFO] File food_photos/broccoli/0357088c-bc68-409a-9040-e9f2535af82e.jpeg uploaded to food_vision_bucket_with_object_versioning/all_images/0357088c-bc68-409a-9040-e9f2535af82e.jpeg.\n",
      "[INFO] File size: 1708319 bytes\n",
      "[INFO] Uploading food_photos/broccoli/dcddd956-24be-43c5-b1e5-7c69af7c510a.jpeg to all_images/dcddd956-24be-43c5-b1e5-7c69af7c510a.jpeg...\n",
      "[INFO] Connected to Google Storage bucket: food_vision_bucket_with_object_versioning\n"
     ]
    },
    {
     "name": "stderr",
     "output_type": "stream",
     "text": [
      " 60%|█████▉    | 393/658 [17:38<10:55,  2.47s/it]"
     ]
    },
    {
     "name": "stdout",
     "output_type": "stream",
     "text": [
      "[INFO] File food_photos/broccoli/dcddd956-24be-43c5-b1e5-7c69af7c510a.jpeg uploaded to food_vision_bucket_with_object_versioning/all_images/dcddd956-24be-43c5-b1e5-7c69af7c510a.jpeg.\n",
      "[INFO] File size: 1369639 bytes\n",
      "[INFO] Uploading food_photos/broccoli/512fce1a-eed2-4932-83a4-8243458557a8.jpeg to all_images/512fce1a-eed2-4932-83a4-8243458557a8.jpeg...\n",
      "[INFO] Connected to Google Storage bucket: food_vision_bucket_with_object_versioning\n"
     ]
    },
    {
     "name": "stderr",
     "output_type": "stream",
     "text": [
      " 60%|█████▉    | 394/658 [17:42<11:57,  2.72s/it]"
     ]
    },
    {
     "name": "stdout",
     "output_type": "stream",
     "text": [
      "[INFO] File food_photos/broccoli/512fce1a-eed2-4932-83a4-8243458557a8.jpeg uploaded to food_vision_bucket_with_object_versioning/all_images/512fce1a-eed2-4932-83a4-8243458557a8.jpeg.\n",
      "[INFO] File size: 2420776 bytes\n",
      "[INFO] Uploading food_photos/broccoli/4d38001a-b64f-4091-a771-29ebc602cd70.jpeg to all_images/4d38001a-b64f-4091-a771-29ebc602cd70.jpeg...\n",
      "[INFO] Connected to Google Storage bucket: food_vision_bucket_with_object_versioning\n"
     ]
    },
    {
     "name": "stderr",
     "output_type": "stream",
     "text": [
      " 60%|██████    | 395/658 [17:45<12:38,  2.88s/it]"
     ]
    },
    {
     "name": "stdout",
     "output_type": "stream",
     "text": [
      "[INFO] File food_photos/broccoli/4d38001a-b64f-4091-a771-29ebc602cd70.jpeg uploaded to food_vision_bucket_with_object_versioning/all_images/4d38001a-b64f-4091-a771-29ebc602cd70.jpeg.\n",
      "[INFO] File size: 1554751 bytes\n",
      "[INFO] Uploading food_photos/broccoli/a0fcd542-570f-4c36-a95f-e9a9b5d3e94d.jpeg to all_images/a0fcd542-570f-4c36-a95f-e9a9b5d3e94d.jpeg...\n",
      "[INFO] Connected to Google Storage bucket: food_vision_bucket_with_object_versioning\n"
     ]
    },
    {
     "name": "stderr",
     "output_type": "stream",
     "text": [
      " 60%|██████    | 396/658 [17:47<11:45,  2.69s/it]"
     ]
    },
    {
     "name": "stdout",
     "output_type": "stream",
     "text": [
      "[INFO] File food_photos/broccoli/a0fcd542-570f-4c36-a95f-e9a9b5d3e94d.jpeg uploaded to food_vision_bucket_with_object_versioning/all_images/a0fcd542-570f-4c36-a95f-e9a9b5d3e94d.jpeg.\n",
      "[INFO] File size: 1910695 bytes\n",
      "[INFO] Uploading food_photos/broccoli/cbd0e0c3-6604-4c66-9670-c942be8746eb.jpeg to all_images/cbd0e0c3-6604-4c66-9670-c942be8746eb.jpeg...\n",
      "[INFO] Connected to Google Storage bucket: food_vision_bucket_with_object_versioning\n"
     ]
    },
    {
     "name": "stderr",
     "output_type": "stream",
     "text": [
      " 60%|██████    | 397/658 [17:51<13:03,  3.00s/it]"
     ]
    },
    {
     "name": "stdout",
     "output_type": "stream",
     "text": [
      "[INFO] File food_photos/broccoli/cbd0e0c3-6604-4c66-9670-c942be8746eb.jpeg uploaded to food_vision_bucket_with_object_versioning/all_images/cbd0e0c3-6604-4c66-9670-c942be8746eb.jpeg.\n",
      "[INFO] File size: 2143102 bytes\n",
      "[INFO] Uploading food_photos/broccoli/2efe1008-389d-41e7-a11d-baf3319a504c.jpeg to all_images/2efe1008-389d-41e7-a11d-baf3319a504c.jpeg...\n",
      "[INFO] Connected to Google Storage bucket: food_vision_bucket_with_object_versioning\n"
     ]
    },
    {
     "name": "stderr",
     "output_type": "stream",
     "text": [
      " 60%|██████    | 398/658 [17:55<14:20,  3.31s/it]"
     ]
    },
    {
     "name": "stdout",
     "output_type": "stream",
     "text": [
      "[INFO] File food_photos/broccoli/2efe1008-389d-41e7-a11d-baf3319a504c.jpeg uploaded to food_vision_bucket_with_object_versioning/all_images/2efe1008-389d-41e7-a11d-baf3319a504c.jpeg.\n",
      "[INFO] File size: 1948453 bytes\n",
      "[INFO] Uploading food_photos/broccoli/f460af0a-938f-4a1b-ba35-63e2e7a8297b.jpeg to all_images/f460af0a-938f-4a1b-ba35-63e2e7a8297b.jpeg...\n",
      "[INFO] Connected to Google Storage bucket: food_vision_bucket_with_object_versioning\n"
     ]
    },
    {
     "name": "stderr",
     "output_type": "stream",
     "text": [
      " 61%|██████    | 399/658 [17:58<13:58,  3.24s/it]"
     ]
    },
    {
     "name": "stdout",
     "output_type": "stream",
     "text": [
      "[INFO] File food_photos/broccoli/f460af0a-938f-4a1b-ba35-63e2e7a8297b.jpeg uploaded to food_vision_bucket_with_object_versioning/all_images/f460af0a-938f-4a1b-ba35-63e2e7a8297b.jpeg.\n",
      "[INFO] File size: 2337511 bytes\n",
      "[INFO] Uploading food_photos/broccoli/8babf342-19bc-4c14-94e6-a80fa55c9bb4.jpeg to all_images/8babf342-19bc-4c14-94e6-a80fa55c9bb4.jpeg...\n",
      "[INFO] Connected to Google Storage bucket: food_vision_bucket_with_object_versioning\n"
     ]
    },
    {
     "name": "stderr",
     "output_type": "stream",
     "text": [
      " 61%|██████    | 400/658 [18:02<14:18,  3.33s/it]"
     ]
    },
    {
     "name": "stdout",
     "output_type": "stream",
     "text": [
      "[INFO] File food_photos/broccoli/8babf342-19bc-4c14-94e6-a80fa55c9bb4.jpeg uploaded to food_vision_bucket_with_object_versioning/all_images/8babf342-19bc-4c14-94e6-a80fa55c9bb4.jpeg.\n",
      "[INFO] File size: 2182244 bytes\n",
      "[INFO] Uploading food_photos/broccoli/041f2e6b-642e-4586-8178-b35cd1e17d6d.jpeg to all_images/041f2e6b-642e-4586-8178-b35cd1e17d6d.jpeg...\n",
      "[INFO] Connected to Google Storage bucket: food_vision_bucket_with_object_versioning\n"
     ]
    },
    {
     "name": "stderr",
     "output_type": "stream",
     "text": [
      " 61%|██████    | 401/658 [18:05<14:48,  3.46s/it]"
     ]
    },
    {
     "name": "stdout",
     "output_type": "stream",
     "text": [
      "[INFO] File food_photos/broccoli/041f2e6b-642e-4586-8178-b35cd1e17d6d.jpeg uploaded to food_vision_bucket_with_object_versioning/all_images/041f2e6b-642e-4586-8178-b35cd1e17d6d.jpeg.\n",
      "[INFO] File size: 2202083 bytes\n",
      "[INFO] Uploading food_photos/broccoli/0acb65c0-32bf-4b4e-9cd5-7ed47b142a4c.jpeg to all_images/0acb65c0-32bf-4b4e-9cd5-7ed47b142a4c.jpeg...\n",
      "[INFO] Connected to Google Storage bucket: food_vision_bucket_with_object_versioning\n"
     ]
    },
    {
     "name": "stderr",
     "output_type": "stream",
     "text": [
      " 61%|██████    | 402/658 [18:10<15:42,  3.68s/it]"
     ]
    },
    {
     "name": "stdout",
     "output_type": "stream",
     "text": [
      "[INFO] File food_photos/broccoli/0acb65c0-32bf-4b4e-9cd5-7ed47b142a4c.jpeg uploaded to food_vision_bucket_with_object_versioning/all_images/0acb65c0-32bf-4b4e-9cd5-7ed47b142a4c.jpeg.\n",
      "[INFO] File size: 2575533 bytes\n",
      "[INFO] Uploading food_photos/broccoli/5bc3c516-50b6-4c64-93bc-68aef28b8f8e.jpeg to all_images/5bc3c516-50b6-4c64-93bc-68aef28b8f8e.jpeg...\n",
      "[INFO] Connected to Google Storage bucket: food_vision_bucket_with_object_versioning\n"
     ]
    },
    {
     "name": "stderr",
     "output_type": "stream",
     "text": [
      " 61%|██████    | 403/658 [18:11<13:05,  3.08s/it]"
     ]
    },
    {
     "name": "stdout",
     "output_type": "stream",
     "text": [
      "[INFO] File food_photos/broccoli/5bc3c516-50b6-4c64-93bc-68aef28b8f8e.jpeg uploaded to food_vision_bucket_with_object_versioning/all_images/5bc3c516-50b6-4c64-93bc-68aef28b8f8e.jpeg.\n",
      "[INFO] File size: 1836442 bytes\n",
      "[INFO] Uploading food_photos/broccoli/446fbce5-8a8b-485d-9520-35bc261bfa26.jpeg to all_images/446fbce5-8a8b-485d-9520-35bc261bfa26.jpeg...\n",
      "[INFO] Connected to Google Storage bucket: food_vision_bucket_with_object_versioning\n"
     ]
    },
    {
     "name": "stderr",
     "output_type": "stream",
     "text": [
      " 61%|██████▏   | 404/658 [18:16<15:40,  3.70s/it]"
     ]
    },
    {
     "name": "stdout",
     "output_type": "stream",
     "text": [
      "[INFO] File food_photos/broccoli/446fbce5-8a8b-485d-9520-35bc261bfa26.jpeg uploaded to food_vision_bucket_with_object_versioning/all_images/446fbce5-8a8b-485d-9520-35bc261bfa26.jpeg.\n",
      "[INFO] File size: 2127816 bytes\n",
      "[INFO] Uploading food_photos/broccoli/ebf94a25-d227-47a6-8bd0-fa963d39b460.jpeg to all_images/ebf94a25-d227-47a6-8bd0-fa963d39b460.jpeg...\n",
      "[INFO] Connected to Google Storage bucket: food_vision_bucket_with_object_versioning\n"
     ]
    },
    {
     "name": "stderr",
     "output_type": "stream",
     "text": [
      " 62%|██████▏   | 405/658 [18:18<13:09,  3.12s/it]"
     ]
    },
    {
     "name": "stdout",
     "output_type": "stream",
     "text": [
      "[INFO] File food_photos/broccoli/ebf94a25-d227-47a6-8bd0-fa963d39b460.jpeg uploaded to food_vision_bucket_with_object_versioning/all_images/ebf94a25-d227-47a6-8bd0-fa963d39b460.jpeg.\n",
      "[INFO] File size: 1594435 bytes\n",
      "[INFO] Uploading food_photos/broccoli/54a2fa48-a97f-4780-ae50-cdd642bc777d.jpeg to all_images/54a2fa48-a97f-4780-ae50-cdd642bc777d.jpeg...\n",
      "[INFO] Connected to Google Storage bucket: food_vision_bucket_with_object_versioning\n"
     ]
    },
    {
     "name": "stderr",
     "output_type": "stream",
     "text": [
      " 62%|██████▏   | 406/658 [18:21<13:00,  3.10s/it]"
     ]
    },
    {
     "name": "stdout",
     "output_type": "stream",
     "text": [
      "[INFO] File food_photos/broccoli/54a2fa48-a97f-4780-ae50-cdd642bc777d.jpeg uploaded to food_vision_bucket_with_object_versioning/all_images/54a2fa48-a97f-4780-ae50-cdd642bc777d.jpeg.\n",
      "[INFO] File size: 2435701 bytes\n",
      "[INFO] Uploading food_photos/broccoli/2b3080e6-9671-4f76-bab6-72bd256c698d.jpeg to all_images/2b3080e6-9671-4f76-bab6-72bd256c698d.jpeg...\n",
      "[INFO] Connected to Google Storage bucket: food_vision_bucket_with_object_versioning\n"
     ]
    },
    {
     "name": "stderr",
     "output_type": "stream",
     "text": [
      " 62%|██████▏   | 407/658 [18:23<11:55,  2.85s/it]"
     ]
    },
    {
     "name": "stdout",
     "output_type": "stream",
     "text": [
      "[INFO] File food_photos/broccoli/2b3080e6-9671-4f76-bab6-72bd256c698d.jpeg uploaded to food_vision_bucket_with_object_versioning/all_images/2b3080e6-9671-4f76-bab6-72bd256c698d.jpeg.\n",
      "[INFO] File size: 1866742 bytes\n",
      "[INFO] Uploading food_photos/broccoli/48db759c-d4fa-411f-8ae7-37fc06d3d940.jpeg to all_images/48db759c-d4fa-411f-8ae7-37fc06d3d940.jpeg...\n",
      "[INFO] Connected to Google Storage bucket: food_vision_bucket_with_object_versioning\n"
     ]
    },
    {
     "name": "stderr",
     "output_type": "stream",
     "text": [
      " 62%|██████▏   | 408/658 [18:27<13:17,  3.19s/it]"
     ]
    },
    {
     "name": "stdout",
     "output_type": "stream",
     "text": [
      "[INFO] File food_photos/broccoli/48db759c-d4fa-411f-8ae7-37fc06d3d940.jpeg uploaded to food_vision_bucket_with_object_versioning/all_images/48db759c-d4fa-411f-8ae7-37fc06d3d940.jpeg.\n",
      "[INFO] File size: 2492576 bytes\n",
      "[INFO] Uploading food_photos/broccoli/ca7e6cff-f188-4215-97dc-cd0fe0c8d685.jpeg to all_images/ca7e6cff-f188-4215-97dc-cd0fe0c8d685.jpeg...\n",
      "[INFO] Connected to Google Storage bucket: food_vision_bucket_with_object_versioning\n"
     ]
    },
    {
     "name": "stderr",
     "output_type": "stream",
     "text": [
      " 62%|██████▏   | 409/658 [18:31<13:10,  3.17s/it]"
     ]
    },
    {
     "name": "stdout",
     "output_type": "stream",
     "text": [
      "[INFO] File food_photos/broccoli/ca7e6cff-f188-4215-97dc-cd0fe0c8d685.jpeg uploaded to food_vision_bucket_with_object_versioning/all_images/ca7e6cff-f188-4215-97dc-cd0fe0c8d685.jpeg.\n",
      "[INFO] File size: 2520465 bytes\n",
      "[INFO] Uploading food_photos/broccoli/e467183d-d471-442b-bd2e-852aeceba02a.jpeg to all_images/e467183d-d471-442b-bd2e-852aeceba02a.jpeg...\n",
      "[INFO] Connected to Google Storage bucket: food_vision_bucket_with_object_versioning\n"
     ]
    },
    {
     "name": "stderr",
     "output_type": "stream",
     "text": [
      " 62%|██████▏   | 410/658 [18:32<11:24,  2.76s/it]"
     ]
    },
    {
     "name": "stdout",
     "output_type": "stream",
     "text": [
      "[INFO] File food_photos/broccoli/e467183d-d471-442b-bd2e-852aeceba02a.jpeg uploaded to food_vision_bucket_with_object_versioning/all_images/e467183d-d471-442b-bd2e-852aeceba02a.jpeg.\n",
      "[INFO] File size: 1723383 bytes\n",
      "[INFO] Uploading food_photos/broccoli/a19b43a2-ccfb-43d0-a228-9eacc8fdf2ae.jpeg to all_images/a19b43a2-ccfb-43d0-a228-9eacc8fdf2ae.jpeg...\n",
      "[INFO] Connected to Google Storage bucket: food_vision_bucket_with_object_versioning\n"
     ]
    },
    {
     "name": "stderr",
     "output_type": "stream",
     "text": [
      " 62%|██████▏   | 411/658 [18:34<09:58,  2.42s/it]"
     ]
    },
    {
     "name": "stdout",
     "output_type": "stream",
     "text": [
      "[INFO] File food_photos/broccoli/a19b43a2-ccfb-43d0-a228-9eacc8fdf2ae.jpeg uploaded to food_vision_bucket_with_object_versioning/all_images/a19b43a2-ccfb-43d0-a228-9eacc8fdf2ae.jpeg.\n",
      "[INFO] File size: 1374010 bytes\n",
      "[INFO] Uploading food_photos/broccoli/ffc7797e-20b8-4d96-a50c-d21123924b9c.jpeg to all_images/ffc7797e-20b8-4d96-a50c-d21123924b9c.jpeg...\n",
      "[INFO] Connected to Google Storage bucket: food_vision_bucket_with_object_versioning\n"
     ]
    },
    {
     "name": "stderr",
     "output_type": "stream",
     "text": [
      " 63%|██████▎   | 412/658 [18:37<10:53,  2.66s/it]"
     ]
    },
    {
     "name": "stdout",
     "output_type": "stream",
     "text": [
      "[INFO] File food_photos/broccoli/ffc7797e-20b8-4d96-a50c-d21123924b9c.jpeg uploaded to food_vision_bucket_with_object_versioning/all_images/ffc7797e-20b8-4d96-a50c-d21123924b9c.jpeg.\n",
      "[INFO] File size: 1587952 bytes\n",
      "[INFO] Uploading food_photos/broccoli/e6979a03-649c-4820-bc8b-6861d9093c77.jpeg to all_images/e6979a03-649c-4820-bc8b-6861d9093c77.jpeg...\n",
      "[INFO] Connected to Google Storage bucket: food_vision_bucket_with_object_versioning\n"
     ]
    },
    {
     "name": "stderr",
     "output_type": "stream",
     "text": [
      " 63%|██████▎   | 413/658 [18:39<10:21,  2.54s/it]"
     ]
    },
    {
     "name": "stdout",
     "output_type": "stream",
     "text": [
      "[INFO] File food_photos/broccoli/e6979a03-649c-4820-bc8b-6861d9093c77.jpeg uploaded to food_vision_bucket_with_object_versioning/all_images/e6979a03-649c-4820-bc8b-6861d9093c77.jpeg.\n",
      "[INFO] File size: 2019943 bytes\n",
      "[INFO] Uploading food_photos/broccoli/22fbcc2e-5337-49ad-8c81-61a5ae5e7d82.jpeg to all_images/22fbcc2e-5337-49ad-8c81-61a5ae5e7d82.jpeg...\n",
      "[INFO] Connected to Google Storage bucket: food_vision_bucket_with_object_versioning\n"
     ]
    },
    {
     "name": "stderr",
     "output_type": "stream",
     "text": [
      " 63%|██████▎   | 414/658 [18:41<09:40,  2.38s/it]"
     ]
    },
    {
     "name": "stdout",
     "output_type": "stream",
     "text": [
      "[INFO] File food_photos/broccoli/22fbcc2e-5337-49ad-8c81-61a5ae5e7d82.jpeg uploaded to food_vision_bucket_with_object_versioning/all_images/22fbcc2e-5337-49ad-8c81-61a5ae5e7d82.jpeg.\n",
      "[INFO] File size: 1545473 bytes\n",
      "[INFO] Uploading food_photos/broccoli/20a0330b-6a66-453e-ab47-a851c480bd6b.jpeg to all_images/20a0330b-6a66-453e-ab47-a851c480bd6b.jpeg...\n",
      "[INFO] Connected to Google Storage bucket: food_vision_bucket_with_object_versioning\n"
     ]
    },
    {
     "name": "stderr",
     "output_type": "stream",
     "text": [
      " 63%|██████▎   | 415/658 [18:43<09:11,  2.27s/it]"
     ]
    },
    {
     "name": "stdout",
     "output_type": "stream",
     "text": [
      "[INFO] File food_photos/broccoli/20a0330b-6a66-453e-ab47-a851c480bd6b.jpeg uploaded to food_vision_bucket_with_object_versioning/all_images/20a0330b-6a66-453e-ab47-a851c480bd6b.jpeg.\n",
      "[INFO] File size: 1799163 bytes\n",
      "[INFO] Uploading food_photos/broccoli/a4decab8-36df-43da-9f5e-1e9d87d6442e.jpeg to all_images/a4decab8-36df-43da-9f5e-1e9d87d6442e.jpeg...\n",
      "[INFO] Connected to Google Storage bucket: food_vision_bucket_with_object_versioning\n"
     ]
    },
    {
     "name": "stderr",
     "output_type": "stream",
     "text": [
      " 63%|██████▎   | 416/658 [18:46<08:51,  2.20s/it]"
     ]
    },
    {
     "name": "stdout",
     "output_type": "stream",
     "text": [
      "[INFO] File food_photos/broccoli/a4decab8-36df-43da-9f5e-1e9d87d6442e.jpeg uploaded to food_vision_bucket_with_object_versioning/all_images/a4decab8-36df-43da-9f5e-1e9d87d6442e.jpeg.\n",
      "[INFO] File size: 1469265 bytes\n",
      "[INFO] Uploading food_photos/broccoli/d4332703-8aa0-426b-ac29-62e9060e261e.jpeg to all_images/d4332703-8aa0-426b-ac29-62e9060e261e.jpeg...\n",
      "[INFO] Connected to Google Storage bucket: food_vision_bucket_with_object_versioning\n"
     ]
    },
    {
     "name": "stderr",
     "output_type": "stream",
     "text": [
      " 63%|██████▎   | 417/658 [18:49<10:20,  2.57s/it]"
     ]
    },
    {
     "name": "stdout",
     "output_type": "stream",
     "text": [
      "[INFO] File food_photos/broccoli/d4332703-8aa0-426b-ac29-62e9060e261e.jpeg uploaded to food_vision_bucket_with_object_versioning/all_images/d4332703-8aa0-426b-ac29-62e9060e261e.jpeg.\n",
      "[INFO] File size: 1799745 bytes\n",
      "[INFO] Uploading food_photos/broccoli/6d8867eb-a183-4d7b-9fbf-5113b9d17e07.jpeg to all_images/6d8867eb-a183-4d7b-9fbf-5113b9d17e07.jpeg...\n",
      "[INFO] Connected to Google Storage bucket: food_vision_bucket_with_object_versioning\n"
     ]
    },
    {
     "name": "stderr",
     "output_type": "stream",
     "text": [
      " 64%|██████▎   | 418/658 [18:51<09:06,  2.28s/it]"
     ]
    },
    {
     "name": "stdout",
     "output_type": "stream",
     "text": [
      "[INFO] File food_photos/broccoli/6d8867eb-a183-4d7b-9fbf-5113b9d17e07.jpeg uploaded to food_vision_bucket_with_object_versioning/all_images/6d8867eb-a183-4d7b-9fbf-5113b9d17e07.jpeg.\n",
      "[INFO] File size: 1501941 bytes\n",
      "[INFO] Uploading food_photos/broccoli/0d565e0c-68f3-4cea-9c6c-68409524a92d.jpeg to all_images/0d565e0c-68f3-4cea-9c6c-68409524a92d.jpeg...\n",
      "[INFO] Connected to Google Storage bucket: food_vision_bucket_with_object_versioning\n"
     ]
    },
    {
     "name": "stderr",
     "output_type": "stream",
     "text": [
      " 64%|██████▎   | 419/658 [18:53<09:36,  2.41s/it]"
     ]
    },
    {
     "name": "stdout",
     "output_type": "stream",
     "text": [
      "[INFO] File food_photos/broccoli/0d565e0c-68f3-4cea-9c6c-68409524a92d.jpeg uploaded to food_vision_bucket_with_object_versioning/all_images/0d565e0c-68f3-4cea-9c6c-68409524a92d.jpeg.\n",
      "[INFO] File size: 1986811 bytes\n",
      "[INFO] Uploading food_photos/broccoli/9413b374-7485-45b8-addc-9c967c8310f9.jpeg to all_images/9413b374-7485-45b8-addc-9c967c8310f9.jpeg...\n",
      "[INFO] Connected to Google Storage bucket: food_vision_bucket_with_object_versioning\n"
     ]
    },
    {
     "name": "stderr",
     "output_type": "stream",
     "text": [
      " 64%|██████▍   | 420/658 [18:56<10:26,  2.63s/it]"
     ]
    },
    {
     "name": "stdout",
     "output_type": "stream",
     "text": [
      "[INFO] File food_photos/broccoli/9413b374-7485-45b8-addc-9c967c8310f9.jpeg uploaded to food_vision_bucket_with_object_versioning/all_images/9413b374-7485-45b8-addc-9c967c8310f9.jpeg.\n",
      "[INFO] File size: 1763044 bytes\n",
      "[INFO] Uploading food_photos/broccoli/030238ad-1f44-48dd-be2f-b14b30597302.jpeg to all_images/030238ad-1f44-48dd-be2f-b14b30597302.jpeg...\n",
      "[INFO] Connected to Google Storage bucket: food_vision_bucket_with_object_versioning\n"
     ]
    },
    {
     "name": "stderr",
     "output_type": "stream",
     "text": [
      " 64%|██████▍   | 421/658 [19:01<12:42,  3.22s/it]"
     ]
    },
    {
     "name": "stdout",
     "output_type": "stream",
     "text": [
      "[INFO] File food_photos/broccoli/030238ad-1f44-48dd-be2f-b14b30597302.jpeg uploaded to food_vision_bucket_with_object_versioning/all_images/030238ad-1f44-48dd-be2f-b14b30597302.jpeg.\n",
      "[INFO] File size: 2319878 bytes\n",
      "[INFO] Uploading food_photos/broccoli/2f4f0380-b3f0-4086-9663-8d905211bd29.jpeg to all_images/2f4f0380-b3f0-4086-9663-8d905211bd29.jpeg...\n",
      "[INFO] Connected to Google Storage bucket: food_vision_bucket_with_object_versioning\n"
     ]
    },
    {
     "name": "stderr",
     "output_type": "stream",
     "text": [
      " 64%|██████▍   | 422/658 [19:03<11:01,  2.80s/it]"
     ]
    },
    {
     "name": "stdout",
     "output_type": "stream",
     "text": [
      "[INFO] File food_photos/broccoli/2f4f0380-b3f0-4086-9663-8d905211bd29.jpeg uploaded to food_vision_bucket_with_object_versioning/all_images/2f4f0380-b3f0-4086-9663-8d905211bd29.jpeg.\n",
      "[INFO] File size: 2019255 bytes\n",
      "[INFO] Uploading food_photos/broccoli/22088dc2-fe67-4fac-bfc1-faee7fce0b72.jpeg to all_images/22088dc2-fe67-4fac-bfc1-faee7fce0b72.jpeg...\n",
      "[INFO] Connected to Google Storage bucket: food_vision_bucket_with_object_versioning\n"
     ]
    },
    {
     "name": "stderr",
     "output_type": "stream",
     "text": [
      " 64%|██████▍   | 423/658 [19:06<11:32,  2.95s/it]"
     ]
    },
    {
     "name": "stdout",
     "output_type": "stream",
     "text": [
      "[INFO] File food_photos/broccoli/22088dc2-fe67-4fac-bfc1-faee7fce0b72.jpeg uploaded to food_vision_bucket_with_object_versioning/all_images/22088dc2-fe67-4fac-bfc1-faee7fce0b72.jpeg.\n",
      "[INFO] File size: 2473115 bytes\n",
      "[INFO] Uploading food_photos/broccoli/2a65538e-89f5-45c7-ad77-33544cca247f.jpeg to all_images/2a65538e-89f5-45c7-ad77-33544cca247f.jpeg...\n",
      "[INFO] Connected to Google Storage bucket: food_vision_bucket_with_object_versioning\n"
     ]
    },
    {
     "name": "stderr",
     "output_type": "stream",
     "text": [
      " 64%|██████▍   | 424/658 [19:09<11:49,  3.03s/it]"
     ]
    },
    {
     "name": "stdout",
     "output_type": "stream",
     "text": [
      "[INFO] File food_photos/broccoli/2a65538e-89f5-45c7-ad77-33544cca247f.jpeg uploaded to food_vision_bucket_with_object_versioning/all_images/2a65538e-89f5-45c7-ad77-33544cca247f.jpeg.\n",
      "[INFO] File size: 2347497 bytes\n",
      "[INFO] Uploading food_photos/broccoli/98fee264-8758-403f-95b1-f81769b92a77.jpeg to all_images/98fee264-8758-403f-95b1-f81769b92a77.jpeg...\n",
      "[INFO] Connected to Google Storage bucket: food_vision_bucket_with_object_versioning\n"
     ]
    },
    {
     "name": "stderr",
     "output_type": "stream",
     "text": [
      " 65%|██████▍   | 425/658 [19:11<10:12,  2.63s/it]"
     ]
    },
    {
     "name": "stdout",
     "output_type": "stream",
     "text": [
      "[INFO] File food_photos/broccoli/98fee264-8758-403f-95b1-f81769b92a77.jpeg uploaded to food_vision_bucket_with_object_versioning/all_images/98fee264-8758-403f-95b1-f81769b92a77.jpeg.\n",
      "[INFO] File size: 1113988 bytes\n",
      "[INFO] Uploading food_photos/broccoli/81ae8a6a-5fe1-44f6-8276-5ee39d69244f.jpeg to all_images/81ae8a6a-5fe1-44f6-8276-5ee39d69244f.jpeg...\n",
      "[INFO] Connected to Google Storage bucket: food_vision_bucket_with_object_versioning\n"
     ]
    },
    {
     "name": "stderr",
     "output_type": "stream",
     "text": [
      " 65%|██████▍   | 426/658 [19:14<10:55,  2.83s/it]"
     ]
    },
    {
     "name": "stdout",
     "output_type": "stream",
     "text": [
      "[INFO] File food_photos/broccoli/81ae8a6a-5fe1-44f6-8276-5ee39d69244f.jpeg uploaded to food_vision_bucket_with_object_versioning/all_images/81ae8a6a-5fe1-44f6-8276-5ee39d69244f.jpeg.\n",
      "[INFO] File size: 2364381 bytes\n",
      "[INFO] Uploading food_photos/broccoli/587f1b2c-f426-45c0-bd8b-59d31fe7d28b.jpeg to all_images/587f1b2c-f426-45c0-bd8b-59d31fe7d28b.jpeg...\n",
      "[INFO] Connected to Google Storage bucket: food_vision_bucket_with_object_versioning\n"
     ]
    },
    {
     "name": "stderr",
     "output_type": "stream",
     "text": [
      " 65%|██████▍   | 427/658 [19:17<10:18,  2.68s/it]"
     ]
    },
    {
     "name": "stdout",
     "output_type": "stream",
     "text": [
      "[INFO] File food_photos/broccoli/587f1b2c-f426-45c0-bd8b-59d31fe7d28b.jpeg uploaded to food_vision_bucket_with_object_versioning/all_images/587f1b2c-f426-45c0-bd8b-59d31fe7d28b.jpeg.\n",
      "[INFO] File size: 1378253 bytes\n",
      "[INFO] Uploading food_photos/broccoli/025289ff-20de-467c-a585-4629038706ee.jpeg to all_images/025289ff-20de-467c-a585-4629038706ee.jpeg...\n",
      "[INFO] Connected to Google Storage bucket: food_vision_bucket_with_object_versioning\n"
     ]
    },
    {
     "name": "stderr",
     "output_type": "stream",
     "text": [
      " 65%|██████▌   | 428/658 [19:22<13:02,  3.40s/it]"
     ]
    },
    {
     "name": "stdout",
     "output_type": "stream",
     "text": [
      "[INFO] File food_photos/broccoli/025289ff-20de-467c-a585-4629038706ee.jpeg uploaded to food_vision_bucket_with_object_versioning/all_images/025289ff-20de-467c-a585-4629038706ee.jpeg.\n",
      "[INFO] File size: 2600238 bytes\n",
      "[INFO] Uploading food_photos/broccoli/04d93dc3-80e9-45c8-aef3-b5e0ebcd24a2.jpeg to all_images/04d93dc3-80e9-45c8-aef3-b5e0ebcd24a2.jpeg...\n",
      "[INFO] Connected to Google Storage bucket: food_vision_bucket_with_object_versioning\n"
     ]
    },
    {
     "name": "stderr",
     "output_type": "stream",
     "text": [
      " 65%|██████▌   | 429/658 [19:26<14:08,  3.71s/it]"
     ]
    },
    {
     "name": "stdout",
     "output_type": "stream",
     "text": [
      "[INFO] File food_photos/broccoli/04d93dc3-80e9-45c8-aef3-b5e0ebcd24a2.jpeg uploaded to food_vision_bucket_with_object_versioning/all_images/04d93dc3-80e9-45c8-aef3-b5e0ebcd24a2.jpeg.\n",
      "[INFO] File size: 2204491 bytes\n",
      "[INFO] Uploading food_photos/broccoli/3a9259be-3725-41ed-9060-3f48a97b3eac.jpeg to all_images/3a9259be-3725-41ed-9060-3f48a97b3eac.jpeg...\n",
      "[INFO] Connected to Google Storage bucket: food_vision_bucket_with_object_versioning\n"
     ]
    },
    {
     "name": "stderr",
     "output_type": "stream",
     "text": [
      " 65%|██████▌   | 430/658 [19:29<12:40,  3.33s/it]"
     ]
    },
    {
     "name": "stdout",
     "output_type": "stream",
     "text": [
      "[INFO] File food_photos/broccoli/3a9259be-3725-41ed-9060-3f48a97b3eac.jpeg uploaded to food_vision_bucket_with_object_versioning/all_images/3a9259be-3725-41ed-9060-3f48a97b3eac.jpeg.\n",
      "[INFO] File size: 2090666 bytes\n",
      "[INFO] Uploading food_photos/broccoli/85a244cc-e29c-4afa-9559-8af8bd596cfc.jpeg to all_images/85a244cc-e29c-4afa-9559-8af8bd596cfc.jpeg...\n",
      "[INFO] Connected to Google Storage bucket: food_vision_bucket_with_object_versioning\n"
     ]
    },
    {
     "name": "stderr",
     "output_type": "stream",
     "text": [
      " 66%|██████▌   | 431/658 [19:32<12:20,  3.26s/it]"
     ]
    },
    {
     "name": "stdout",
     "output_type": "stream",
     "text": [
      "[INFO] File food_photos/broccoli/85a244cc-e29c-4afa-9559-8af8bd596cfc.jpeg uploaded to food_vision_bucket_with_object_versioning/all_images/85a244cc-e29c-4afa-9559-8af8bd596cfc.jpeg.\n",
      "[INFO] File size: 2228404 bytes\n",
      "[INFO] Uploading food_photos/broccoli/bc394549-8e3f-4d29-bfc8-bad599c4bf8c.jpeg to all_images/bc394549-8e3f-4d29-bfc8-bad599c4bf8c.jpeg...\n",
      "[INFO] Connected to Google Storage bucket: food_vision_bucket_with_object_versioning\n"
     ]
    },
    {
     "name": "stderr",
     "output_type": "stream",
     "text": [
      " 66%|██████▌   | 432/658 [19:35<12:22,  3.29s/it]"
     ]
    },
    {
     "name": "stdout",
     "output_type": "stream",
     "text": [
      "[INFO] File food_photos/broccoli/bc394549-8e3f-4d29-bfc8-bad599c4bf8c.jpeg uploaded to food_vision_bucket_with_object_versioning/all_images/bc394549-8e3f-4d29-bfc8-bad599c4bf8c.jpeg.\n",
      "[INFO] File size: 2673440 bytes\n",
      "[INFO] Uploading food_photos/broccoli/ed6a5e09-7e60-4dad-bd0f-3fb38d3ddd0a.jpeg to all_images/ed6a5e09-7e60-4dad-bd0f-3fb38d3ddd0a.jpeg...\n",
      "[INFO] Connected to Google Storage bucket: food_vision_bucket_with_object_versioning\n"
     ]
    },
    {
     "name": "stderr",
     "output_type": "stream",
     "text": [
      " 66%|██████▌   | 433/658 [19:38<11:35,  3.09s/it]"
     ]
    },
    {
     "name": "stdout",
     "output_type": "stream",
     "text": [
      "[INFO] File food_photos/broccoli/ed6a5e09-7e60-4dad-bd0f-3fb38d3ddd0a.jpeg uploaded to food_vision_bucket_with_object_versioning/all_images/ed6a5e09-7e60-4dad-bd0f-3fb38d3ddd0a.jpeg.\n",
      "[INFO] File size: 1803887 bytes\n",
      "[INFO] Uploading food_photos/broccoli/3b81f150-4ee3-4472-ae18-08545a87e012.jpeg to all_images/3b81f150-4ee3-4472-ae18-08545a87e012.jpeg...\n",
      "[INFO] Connected to Google Storage bucket: food_vision_bucket_with_object_versioning\n"
     ]
    },
    {
     "name": "stderr",
     "output_type": "stream",
     "text": [
      " 66%|██████▌   | 434/658 [19:40<10:18,  2.76s/it]"
     ]
    },
    {
     "name": "stdout",
     "output_type": "stream",
     "text": [
      "[INFO] File food_photos/broccoli/3b81f150-4ee3-4472-ae18-08545a87e012.jpeg uploaded to food_vision_bucket_with_object_versioning/all_images/3b81f150-4ee3-4472-ae18-08545a87e012.jpeg.\n",
      "[INFO] File size: 1800644 bytes\n",
      "[INFO] Uploading food_photos/broccoli/93bf9f1d-1173-46e0-a430-9db0320f45b0.jpeg to all_images/93bf9f1d-1173-46e0-a430-9db0320f45b0.jpeg...\n",
      "[INFO] Connected to Google Storage bucket: food_vision_bucket_with_object_versioning\n"
     ]
    },
    {
     "name": "stderr",
     "output_type": "stream",
     "text": [
      " 66%|██████▌   | 435/658 [19:44<12:23,  3.34s/it]"
     ]
    },
    {
     "name": "stdout",
     "output_type": "stream",
     "text": [
      "[INFO] File food_photos/broccoli/93bf9f1d-1173-46e0-a430-9db0320f45b0.jpeg uploaded to food_vision_bucket_with_object_versioning/all_images/93bf9f1d-1173-46e0-a430-9db0320f45b0.jpeg.\n",
      "[INFO] File size: 2100248 bytes\n",
      "[INFO] Uploading food_photos/broccoli/21be0907-0eef-4f08-8fb8-0987982deae4.jpeg to all_images/21be0907-0eef-4f08-8fb8-0987982deae4.jpeg...\n",
      "[INFO] Connected to Google Storage bucket: food_vision_bucket_with_object_versioning\n"
     ]
    },
    {
     "name": "stderr",
     "output_type": "stream",
     "text": [
      " 66%|██████▋   | 436/658 [19:46<10:50,  2.93s/it]"
     ]
    },
    {
     "name": "stdout",
     "output_type": "stream",
     "text": [
      "[INFO] File food_photos/broccoli/21be0907-0eef-4f08-8fb8-0987982deae4.jpeg uploaded to food_vision_bucket_with_object_versioning/all_images/21be0907-0eef-4f08-8fb8-0987982deae4.jpeg.\n",
      "[INFO] File size: 2076407 bytes\n",
      "[INFO] Uploading food_photos/broccoli/942f4f4e-2b69-4333-b96d-d166efb215e4.jpeg to all_images/942f4f4e-2b69-4333-b96d-d166efb215e4.jpeg...\n",
      "[INFO] Connected to Google Storage bucket: food_vision_bucket_with_object_versioning\n"
     ]
    },
    {
     "name": "stderr",
     "output_type": "stream",
     "text": [
      " 66%|██████▋   | 437/658 [19:50<11:03,  3.00s/it]"
     ]
    },
    {
     "name": "stdout",
     "output_type": "stream",
     "text": [
      "[INFO] File food_photos/broccoli/942f4f4e-2b69-4333-b96d-d166efb215e4.jpeg uploaded to food_vision_bucket_with_object_versioning/all_images/942f4f4e-2b69-4333-b96d-d166efb215e4.jpeg.\n",
      "[INFO] File size: 1822075 bytes\n",
      "[INFO] Uploading food_photos/broccoli/bb36ad47-045f-4707-9c5e-a8b65d82a137.jpeg to all_images/bb36ad47-045f-4707-9c5e-a8b65d82a137.jpeg...\n",
      "[INFO] Connected to Google Storage bucket: food_vision_bucket_with_object_versioning\n"
     ]
    },
    {
     "name": "stderr",
     "output_type": "stream",
     "text": [
      " 67%|██████▋   | 438/658 [19:52<09:57,  2.72s/it]"
     ]
    },
    {
     "name": "stdout",
     "output_type": "stream",
     "text": [
      "[INFO] File food_photos/broccoli/bb36ad47-045f-4707-9c5e-a8b65d82a137.jpeg uploaded to food_vision_bucket_with_object_versioning/all_images/bb36ad47-045f-4707-9c5e-a8b65d82a137.jpeg.\n",
      "[INFO] File size: 1504921 bytes\n",
      "[INFO] Uploading food_photos/broccoli/e95e4a5a-37df-492d-a5bb-72d009536a10.jpeg to all_images/e95e4a5a-37df-492d-a5bb-72d009536a10.jpeg...\n",
      "[INFO] Connected to Google Storage bucket: food_vision_bucket_with_object_versioning\n"
     ]
    },
    {
     "name": "stderr",
     "output_type": "stream",
     "text": [
      " 67%|██████▋   | 439/658 [19:54<09:19,  2.55s/it]"
     ]
    },
    {
     "name": "stdout",
     "output_type": "stream",
     "text": [
      "[INFO] File food_photos/broccoli/e95e4a5a-37df-492d-a5bb-72d009536a10.jpeg uploaded to food_vision_bucket_with_object_versioning/all_images/e95e4a5a-37df-492d-a5bb-72d009536a10.jpeg.\n",
      "[INFO] File size: 2081588 bytes\n",
      "[INFO] Uploading food_photos/broccoli/a063dc7b-4cf8-4bf8-97f2-e7f6a0a4f983.jpeg to all_images/a063dc7b-4cf8-4bf8-97f2-e7f6a0a4f983.jpeg...\n",
      "[INFO] Connected to Google Storage bucket: food_vision_bucket_with_object_versioning\n"
     ]
    },
    {
     "name": "stderr",
     "output_type": "stream",
     "text": [
      " 67%|██████▋   | 440/658 [19:57<09:43,  2.68s/it]"
     ]
    },
    {
     "name": "stdout",
     "output_type": "stream",
     "text": [
      "[INFO] File food_photos/broccoli/a063dc7b-4cf8-4bf8-97f2-e7f6a0a4f983.jpeg uploaded to food_vision_bucket_with_object_versioning/all_images/a063dc7b-4cf8-4bf8-97f2-e7f6a0a4f983.jpeg.\n",
      "[INFO] File size: 1502686 bytes\n",
      "[INFO] Uploading food_photos/broccoli/a50f3b49-38fa-4597-916a-0e75fbc244a2.jpeg to all_images/a50f3b49-38fa-4597-916a-0e75fbc244a2.jpeg...\n",
      "[INFO] Connected to Google Storage bucket: food_vision_bucket_with_object_versioning\n"
     ]
    },
    {
     "name": "stderr",
     "output_type": "stream",
     "text": [
      " 67%|██████▋   | 441/658 [19:59<09:21,  2.59s/it]"
     ]
    },
    {
     "name": "stdout",
     "output_type": "stream",
     "text": [
      "[INFO] File food_photos/broccoli/a50f3b49-38fa-4597-916a-0e75fbc244a2.jpeg uploaded to food_vision_bucket_with_object_versioning/all_images/a50f3b49-38fa-4597-916a-0e75fbc244a2.jpeg.\n",
      "[INFO] File size: 1857568 bytes\n",
      "[INFO] Uploading food_photos/broccoli/4b398f1a-9a26-4426-a7ab-2d6d0056972b.jpeg to all_images/4b398f1a-9a26-4426-a7ab-2d6d0056972b.jpeg...\n",
      "[INFO] Connected to Google Storage bucket: food_vision_bucket_with_object_versioning\n"
     ]
    },
    {
     "name": "stderr",
     "output_type": "stream",
     "text": [
      " 67%|██████▋   | 442/658 [20:02<09:53,  2.75s/it]"
     ]
    },
    {
     "name": "stdout",
     "output_type": "stream",
     "text": [
      "[INFO] File food_photos/broccoli/4b398f1a-9a26-4426-a7ab-2d6d0056972b.jpeg uploaded to food_vision_bucket_with_object_versioning/all_images/4b398f1a-9a26-4426-a7ab-2d6d0056972b.jpeg.\n",
      "[INFO] File size: 2602565 bytes\n",
      "[INFO] Uploading food_photos/broccoli/2b62d475-25b6-4970-afcc-64e3317faca6.jpeg to all_images/2b62d475-25b6-4970-afcc-64e3317faca6.jpeg...\n",
      "[INFO] Connected to Google Storage bucket: food_vision_bucket_with_object_versioning\n"
     ]
    },
    {
     "name": "stderr",
     "output_type": "stream",
     "text": [
      " 67%|██████▋   | 443/658 [20:05<09:21,  2.61s/it]"
     ]
    },
    {
     "name": "stdout",
     "output_type": "stream",
     "text": [
      "[INFO] File food_photos/broccoli/2b62d475-25b6-4970-afcc-64e3317faca6.jpeg uploaded to food_vision_bucket_with_object_versioning/all_images/2b62d475-25b6-4970-afcc-64e3317faca6.jpeg.\n",
      "[INFO] File size: 1690082 bytes\n",
      "[INFO] Uploading food_photos/broccoli/fdba0322-00ca-4b28-ab30-948f02e09e0a.jpeg to all_images/fdba0322-00ca-4b28-ab30-948f02e09e0a.jpeg...\n",
      "[INFO] Connected to Google Storage bucket: food_vision_bucket_with_object_versioning\n"
     ]
    },
    {
     "name": "stderr",
     "output_type": "stream",
     "text": [
      " 67%|██████▋   | 444/658 [20:06<08:00,  2.25s/it]"
     ]
    },
    {
     "name": "stdout",
     "output_type": "stream",
     "text": [
      "[INFO] File food_photos/broccoli/fdba0322-00ca-4b28-ab30-948f02e09e0a.jpeg uploaded to food_vision_bucket_with_object_versioning/all_images/fdba0322-00ca-4b28-ab30-948f02e09e0a.jpeg.\n",
      "[INFO] File size: 908268 bytes\n",
      "[INFO] Uploading food_photos/broccoli/949f4b5a-d024-42b4-a153-291c0143da63.jpeg to all_images/949f4b5a-d024-42b4-a153-291c0143da63.jpeg...\n",
      "[INFO] Connected to Google Storage bucket: food_vision_bucket_with_object_versioning\n"
     ]
    },
    {
     "name": "stderr",
     "output_type": "stream",
     "text": [
      " 68%|██████▊   | 445/658 [20:07<07:14,  2.04s/it]"
     ]
    },
    {
     "name": "stdout",
     "output_type": "stream",
     "text": [
      "[INFO] File food_photos/broccoli/949f4b5a-d024-42b4-a153-291c0143da63.jpeg uploaded to food_vision_bucket_with_object_versioning/all_images/949f4b5a-d024-42b4-a153-291c0143da63.jpeg.\n",
      "[INFO] File size: 1594406 bytes\n",
      "[INFO] Uploading food_photos/broccoli/b8b8afcc-c14c-4da1-a1df-e1669716fdf9.jpeg to all_images/b8b8afcc-c14c-4da1-a1df-e1669716fdf9.jpeg...\n",
      "[INFO] Connected to Google Storage bucket: food_vision_bucket_with_object_versioning\n"
     ]
    },
    {
     "name": "stderr",
     "output_type": "stream",
     "text": [
      " 68%|██████▊   | 446/658 [20:09<06:53,  1.95s/it]"
     ]
    },
    {
     "name": "stdout",
     "output_type": "stream",
     "text": [
      "[INFO] File food_photos/broccoli/b8b8afcc-c14c-4da1-a1df-e1669716fdf9.jpeg uploaded to food_vision_bucket_with_object_versioning/all_images/b8b8afcc-c14c-4da1-a1df-e1669716fdf9.jpeg.\n",
      "[INFO] File size: 1237492 bytes\n",
      "[INFO] Uploading food_photos/broccoli/43ed73d1-c444-4ab2-bf49-bac198ba9c41.jpeg to all_images/43ed73d1-c444-4ab2-bf49-bac198ba9c41.jpeg...\n",
      "[INFO] Connected to Google Storage bucket: food_vision_bucket_with_object_versioning\n"
     ]
    },
    {
     "name": "stderr",
     "output_type": "stream",
     "text": [
      " 68%|██████▊   | 447/658 [20:12<07:59,  2.27s/it]"
     ]
    },
    {
     "name": "stdout",
     "output_type": "stream",
     "text": [
      "[INFO] File food_photos/broccoli/43ed73d1-c444-4ab2-bf49-bac198ba9c41.jpeg uploaded to food_vision_bucket_with_object_versioning/all_images/43ed73d1-c444-4ab2-bf49-bac198ba9c41.jpeg.\n",
      "[INFO] File size: 2018211 bytes\n",
      "[INFO] Uploading food_photos/broccoli/2a123147-b1e7-440d-a319-7b69c881b0e7.jpeg to all_images/2a123147-b1e7-440d-a319-7b69c881b0e7.jpeg...\n",
      "[INFO] Connected to Google Storage bucket: food_vision_bucket_with_object_versioning\n"
     ]
    },
    {
     "name": "stderr",
     "output_type": "stream",
     "text": [
      " 68%|██████▊   | 448/658 [20:14<07:54,  2.26s/it]"
     ]
    },
    {
     "name": "stdout",
     "output_type": "stream",
     "text": [
      "[INFO] File food_photos/broccoli/2a123147-b1e7-440d-a319-7b69c881b0e7.jpeg uploaded to food_vision_bucket_with_object_versioning/all_images/2a123147-b1e7-440d-a319-7b69c881b0e7.jpeg.\n",
      "[INFO] File size: 1243547 bytes\n",
      "[INFO] Uploading food_photos/broccoli/a17db0c9-2880-4ed7-877d-e980fd79643a.jpeg to all_images/a17db0c9-2880-4ed7-877d-e980fd79643a.jpeg...\n",
      "[INFO] Connected to Google Storage bucket: food_vision_bucket_with_object_versioning\n"
     ]
    },
    {
     "name": "stderr",
     "output_type": "stream",
     "text": [
      " 68%|██████▊   | 449/658 [20:17<07:43,  2.22s/it]"
     ]
    },
    {
     "name": "stdout",
     "output_type": "stream",
     "text": [
      "[INFO] File food_photos/broccoli/a17db0c9-2880-4ed7-877d-e980fd79643a.jpeg uploaded to food_vision_bucket_with_object_versioning/all_images/a17db0c9-2880-4ed7-877d-e980fd79643a.jpeg.\n",
      "[INFO] File size: 1657409 bytes\n",
      "[INFO] Uploading food_photos/broccoli/6d6b7b0b-bc0c-4962-a0ce-22d2b61d372c.jpeg to all_images/6d6b7b0b-bc0c-4962-a0ce-22d2b61d372c.jpeg...\n",
      "[INFO] Connected to Google Storage bucket: food_vision_bucket_with_object_versioning\n"
     ]
    },
    {
     "name": "stderr",
     "output_type": "stream",
     "text": [
      " 68%|██████▊   | 450/658 [20:21<09:57,  2.87s/it]"
     ]
    },
    {
     "name": "stdout",
     "output_type": "stream",
     "text": [
      "[INFO] File food_photos/broccoli/6d6b7b0b-bc0c-4962-a0ce-22d2b61d372c.jpeg uploaded to food_vision_bucket_with_object_versioning/all_images/6d6b7b0b-bc0c-4962-a0ce-22d2b61d372c.jpeg.\n",
      "[INFO] File size: 2378168 bytes\n",
      "[INFO] Uploading food_photos/broccoli/9aee072a-e6ab-4333-86b4-f82ace504371.jpeg to all_images/9aee072a-e6ab-4333-86b4-f82ace504371.jpeg...\n",
      "[INFO] Connected to Google Storage bucket: food_vision_bucket_with_object_versioning\n"
     ]
    },
    {
     "name": "stderr",
     "output_type": "stream",
     "text": [
      " 69%|██████▊   | 451/658 [20:24<10:16,  2.98s/it]"
     ]
    },
    {
     "name": "stdout",
     "output_type": "stream",
     "text": [
      "[INFO] File food_photos/broccoli/9aee072a-e6ab-4333-86b4-f82ace504371.jpeg uploaded to food_vision_bucket_with_object_versioning/all_images/9aee072a-e6ab-4333-86b4-f82ace504371.jpeg.\n",
      "[INFO] File size: 2258572 bytes\n",
      "[INFO] Uploading food_photos/broccoli/6fbc7a87-ada1-4ddc-b231-d64c62537878.jpeg to all_images/6fbc7a87-ada1-4ddc-b231-d64c62537878.jpeg...\n",
      "[INFO] Connected to Google Storage bucket: food_vision_bucket_with_object_versioning\n"
     ]
    },
    {
     "name": "stderr",
     "output_type": "stream",
     "text": [
      " 69%|██████▊   | 452/658 [20:30<13:26,  3.91s/it]"
     ]
    },
    {
     "name": "stdout",
     "output_type": "stream",
     "text": [
      "[INFO] File food_photos/broccoli/6fbc7a87-ada1-4ddc-b231-d64c62537878.jpeg uploaded to food_vision_bucket_with_object_versioning/all_images/6fbc7a87-ada1-4ddc-b231-d64c62537878.jpeg.\n",
      "[INFO] File size: 2478386 bytes\n",
      "[INFO] Uploading food_photos/broccoli/be182a28-cada-4a92-a192-aac5016930bf.jpeg to all_images/be182a28-cada-4a92-a192-aac5016930bf.jpeg...\n",
      "[INFO] Connected to Google Storage bucket: food_vision_bucket_with_object_versioning\n"
     ]
    },
    {
     "name": "stderr",
     "output_type": "stream",
     "text": [
      " 69%|██████▉   | 453/658 [20:32<11:21,  3.32s/it]"
     ]
    },
    {
     "name": "stdout",
     "output_type": "stream",
     "text": [
      "[INFO] File food_photos/broccoli/be182a28-cada-4a92-a192-aac5016930bf.jpeg uploaded to food_vision_bucket_with_object_versioning/all_images/be182a28-cada-4a92-a192-aac5016930bf.jpeg.\n",
      "[INFO] File size: 1789510 bytes\n",
      "[INFO] Uploading food_photos/broccoli/30eb8f45-6417-4f4a-b672-e7f047c1de77.jpeg to all_images/30eb8f45-6417-4f4a-b672-e7f047c1de77.jpeg...\n",
      "[INFO] Connected to Google Storage bucket: food_vision_bucket_with_object_versioning\n"
     ]
    },
    {
     "name": "stderr",
     "output_type": "stream",
     "text": [
      " 69%|██████▉   | 454/658 [20:34<10:03,  2.96s/it]"
     ]
    },
    {
     "name": "stdout",
     "output_type": "stream",
     "text": [
      "[INFO] File food_photos/broccoli/30eb8f45-6417-4f4a-b672-e7f047c1de77.jpeg uploaded to food_vision_bucket_with_object_versioning/all_images/30eb8f45-6417-4f4a-b672-e7f047c1de77.jpeg.\n",
      "[INFO] File size: 1761081 bytes\n",
      "[INFO] Uploading food_photos/broccoli/e98dcd7d-4c50-4228-abc1-69c91ec0ba28.jpeg to all_images/e98dcd7d-4c50-4228-abc1-69c91ec0ba28.jpeg...\n",
      "[INFO] Connected to Google Storage bucket: food_vision_bucket_with_object_versioning\n"
     ]
    },
    {
     "name": "stderr",
     "output_type": "stream",
     "text": [
      " 69%|██████▉   | 455/658 [20:37<09:52,  2.92s/it]"
     ]
    },
    {
     "name": "stdout",
     "output_type": "stream",
     "text": [
      "[INFO] File food_photos/broccoli/e98dcd7d-4c50-4228-abc1-69c91ec0ba28.jpeg uploaded to food_vision_bucket_with_object_versioning/all_images/e98dcd7d-4c50-4228-abc1-69c91ec0ba28.jpeg.\n",
      "[INFO] File size: 2216354 bytes\n",
      "[INFO] Uploading food_photos/broccoli/5f15a389-3bb4-4fe5-9520-958c442d6492.jpeg to all_images/5f15a389-3bb4-4fe5-9520-958c442d6492.jpeg...\n",
      "[INFO] Connected to Google Storage bucket: food_vision_bucket_with_object_versioning\n"
     ]
    },
    {
     "name": "stderr",
     "output_type": "stream",
     "text": [
      " 69%|██████▉   | 456/658 [20:41<11:12,  3.33s/it]"
     ]
    },
    {
     "name": "stdout",
     "output_type": "stream",
     "text": [
      "[INFO] File food_photos/broccoli/5f15a389-3bb4-4fe5-9520-958c442d6492.jpeg uploaded to food_vision_bucket_with_object_versioning/all_images/5f15a389-3bb4-4fe5-9520-958c442d6492.jpeg.\n",
      "[INFO] File size: 2882670 bytes\n",
      "[INFO] Uploading food_photos/broccoli/da15f0fc-f0d3-4d5a-9ee2-5694298ec0b2.jpeg to all_images/da15f0fc-f0d3-4d5a-9ee2-5694298ec0b2.jpeg...\n",
      "[INFO] Connected to Google Storage bucket: food_vision_bucket_with_object_versioning\n"
     ]
    },
    {
     "name": "stderr",
     "output_type": "stream",
     "text": [
      " 69%|██████▉   | 457/658 [20:46<12:05,  3.61s/it]"
     ]
    },
    {
     "name": "stdout",
     "output_type": "stream",
     "text": [
      "[INFO] File food_photos/broccoli/da15f0fc-f0d3-4d5a-9ee2-5694298ec0b2.jpeg uploaded to food_vision_bucket_with_object_versioning/all_images/da15f0fc-f0d3-4d5a-9ee2-5694298ec0b2.jpeg.\n",
      "[INFO] File size: 2157742 bytes\n",
      "[INFO] Uploading food_photos/garlic/3a269413-789c-4b66-9647-6997318961b2.jpeg to all_images/3a269413-789c-4b66-9647-6997318961b2.jpeg...\n",
      "[INFO] Connected to Google Storage bucket: food_vision_bucket_with_object_versioning\n"
     ]
    },
    {
     "name": "stderr",
     "output_type": "stream",
     "text": [
      " 70%|██████▉   | 458/658 [20:50<12:14,  3.67s/it]"
     ]
    },
    {
     "name": "stdout",
     "output_type": "stream",
     "text": [
      "[INFO] File food_photos/garlic/3a269413-789c-4b66-9647-6997318961b2.jpeg uploaded to food_vision_bucket_with_object_versioning/all_images/3a269413-789c-4b66-9647-6997318961b2.jpeg.\n",
      "[INFO] File size: 2297138 bytes\n",
      "[INFO] Uploading food_photos/garlic/5b0f4a9c-73cb-42fc-917a-83852cdc7ed8.jpeg to all_images/5b0f4a9c-73cb-42fc-917a-83852cdc7ed8.jpeg...\n",
      "[INFO] Connected to Google Storage bucket: food_vision_bucket_with_object_versioning\n"
     ]
    },
    {
     "name": "stderr",
     "output_type": "stream",
     "text": [
      " 70%|██████▉   | 459/658 [20:51<10:16,  3.10s/it]"
     ]
    },
    {
     "name": "stdout",
     "output_type": "stream",
     "text": [
      "[INFO] File food_photos/garlic/5b0f4a9c-73cb-42fc-917a-83852cdc7ed8.jpeg uploaded to food_vision_bucket_with_object_versioning/all_images/5b0f4a9c-73cb-42fc-917a-83852cdc7ed8.jpeg.\n",
      "[INFO] File size: 2092901 bytes\n",
      "[INFO] Uploading food_photos/garlic/4b20900d-f616-466b-92a4-945887657112.jpeg to all_images/4b20900d-f616-466b-92a4-945887657112.jpeg...\n",
      "[INFO] Connected to Google Storage bucket: food_vision_bucket_with_object_versioning\n"
     ]
    },
    {
     "name": "stderr",
     "output_type": "stream",
     "text": [
      " 70%|██████▉   | 460/658 [20:55<11:15,  3.41s/it]"
     ]
    },
    {
     "name": "stdout",
     "output_type": "stream",
     "text": [
      "[INFO] File food_photos/garlic/4b20900d-f616-466b-92a4-945887657112.jpeg uploaded to food_vision_bucket_with_object_versioning/all_images/4b20900d-f616-466b-92a4-945887657112.jpeg.\n",
      "[INFO] File size: 2167849 bytes\n",
      "[INFO] Uploading food_photos/garlic/18ca4942-9287-46f7-8cb2-fe4ca772849a.jpeg to all_images/18ca4942-9287-46f7-8cb2-fe4ca772849a.jpeg...\n",
      "[INFO] Connected to Google Storage bucket: food_vision_bucket_with_object_versioning\n"
     ]
    },
    {
     "name": "stderr",
     "output_type": "stream",
     "text": [
      " 70%|███████   | 461/658 [20:57<09:47,  2.98s/it]"
     ]
    },
    {
     "name": "stdout",
     "output_type": "stream",
     "text": [
      "[INFO] File food_photos/garlic/18ca4942-9287-46f7-8cb2-fe4ca772849a.jpeg uploaded to food_vision_bucket_with_object_versioning/all_images/18ca4942-9287-46f7-8cb2-fe4ca772849a.jpeg.\n",
      "[INFO] File size: 1673216 bytes\n",
      "[INFO] Uploading food_photos/garlic/2356979f-f6c8-42e0-829b-f343c3764043.jpeg to all_images/2356979f-f6c8-42e0-829b-f343c3764043.jpeg...\n",
      "[INFO] Connected to Google Storage bucket: food_vision_bucket_with_object_versioning\n"
     ]
    },
    {
     "name": "stderr",
     "output_type": "stream",
     "text": [
      " 70%|███████   | 462/658 [20:59<08:26,  2.58s/it]"
     ]
    },
    {
     "name": "stdout",
     "output_type": "stream",
     "text": [
      "[INFO] File food_photos/garlic/2356979f-f6c8-42e0-829b-f343c3764043.jpeg uploaded to food_vision_bucket_with_object_versioning/all_images/2356979f-f6c8-42e0-829b-f343c3764043.jpeg.\n",
      "[INFO] File size: 1840684 bytes\n",
      "[INFO] Uploading food_photos/garlic/9f8e0eb8-75c9-435b-b336-a63d6a64944c.jpeg to all_images/9f8e0eb8-75c9-435b-b336-a63d6a64944c.jpeg...\n",
      "[INFO] Connected to Google Storage bucket: food_vision_bucket_with_object_versioning\n"
     ]
    },
    {
     "name": "stderr",
     "output_type": "stream",
     "text": [
      " 70%|███████   | 463/658 [21:01<07:47,  2.40s/it]"
     ]
    },
    {
     "name": "stdout",
     "output_type": "stream",
     "text": [
      "[INFO] File food_photos/garlic/9f8e0eb8-75c9-435b-b336-a63d6a64944c.jpeg uploaded to food_vision_bucket_with_object_versioning/all_images/9f8e0eb8-75c9-435b-b336-a63d6a64944c.jpeg.\n",
      "[INFO] File size: 2038182 bytes\n",
      "[INFO] Uploading food_photos/garlic/e000061a-570d-47ed-bb04-e930254567a0.jpeg to all_images/e000061a-570d-47ed-bb04-e930254567a0.jpeg...\n",
      "[INFO] Connected to Google Storage bucket: food_vision_bucket_with_object_versioning\n"
     ]
    },
    {
     "name": "stderr",
     "output_type": "stream",
     "text": [
      " 71%|███████   | 464/658 [21:04<08:35,  2.66s/it]"
     ]
    },
    {
     "name": "stdout",
     "output_type": "stream",
     "text": [
      "[INFO] File food_photos/garlic/e000061a-570d-47ed-bb04-e930254567a0.jpeg uploaded to food_vision_bucket_with_object_versioning/all_images/e000061a-570d-47ed-bb04-e930254567a0.jpeg.\n",
      "[INFO] File size: 3296867 bytes\n",
      "[INFO] Uploading food_photos/garlic/52cabee7-d2c3-46fc-bb7a-72acd5a5c67c.jpeg to all_images/52cabee7-d2c3-46fc-bb7a-72acd5a5c67c.jpeg...\n",
      "[INFO] Connected to Google Storage bucket: food_vision_bucket_with_object_versioning\n"
     ]
    },
    {
     "name": "stderr",
     "output_type": "stream",
     "text": [
      " 71%|███████   | 465/658 [21:08<09:33,  2.97s/it]"
     ]
    },
    {
     "name": "stdout",
     "output_type": "stream",
     "text": [
      "[INFO] File food_photos/garlic/52cabee7-d2c3-46fc-bb7a-72acd5a5c67c.jpeg uploaded to food_vision_bucket_with_object_versioning/all_images/52cabee7-d2c3-46fc-bb7a-72acd5a5c67c.jpeg.\n",
      "[INFO] File size: 2490370 bytes\n",
      "[INFO] Uploading food_photos/garlic/4994f15e-559a-4026-ab78-55ddd991a90b.jpeg to all_images/4994f15e-559a-4026-ab78-55ddd991a90b.jpeg...\n",
      "[INFO] Connected to Google Storage bucket: food_vision_bucket_with_object_versioning\n"
     ]
    },
    {
     "name": "stderr",
     "output_type": "stream",
     "text": [
      " 71%|███████   | 466/658 [21:13<11:03,  3.46s/it]"
     ]
    },
    {
     "name": "stdout",
     "output_type": "stream",
     "text": [
      "[INFO] File food_photos/garlic/4994f15e-559a-4026-ab78-55ddd991a90b.jpeg uploaded to food_vision_bucket_with_object_versioning/all_images/4994f15e-559a-4026-ab78-55ddd991a90b.jpeg.\n",
      "[INFO] File size: 3377231 bytes\n",
      "[INFO] Uploading food_photos/garlic/3bd80df3-57cf-443d-8e26-36e4963a03bc.jpeg to all_images/3bd80df3-57cf-443d-8e26-36e4963a03bc.jpeg...\n",
      "[INFO] Connected to Google Storage bucket: food_vision_bucket_with_object_versioning\n"
     ]
    },
    {
     "name": "stderr",
     "output_type": "stream",
     "text": [
      " 71%|███████   | 467/658 [21:15<10:24,  3.27s/it]"
     ]
    },
    {
     "name": "stdout",
     "output_type": "stream",
     "text": [
      "[INFO] File food_photos/garlic/3bd80df3-57cf-443d-8e26-36e4963a03bc.jpeg uploaded to food_vision_bucket_with_object_versioning/all_images/3bd80df3-57cf-443d-8e26-36e4963a03bc.jpeg.\n",
      "[INFO] File size: 2904427 bytes\n",
      "[INFO] Uploading food_photos/garlic/5bd56ee6-f541-4b38-a837-a45429e16e9b.jpeg to all_images/5bd56ee6-f541-4b38-a837-a45429e16e9b.jpeg...\n",
      "[INFO] Connected to Google Storage bucket: food_vision_bucket_with_object_versioning\n"
     ]
    },
    {
     "name": "stderr",
     "output_type": "stream",
     "text": [
      " 71%|███████   | 468/658 [21:18<10:06,  3.19s/it]"
     ]
    },
    {
     "name": "stdout",
     "output_type": "stream",
     "text": [
      "[INFO] File food_photos/garlic/5bd56ee6-f541-4b38-a837-a45429e16e9b.jpeg uploaded to food_vision_bucket_with_object_versioning/all_images/5bd56ee6-f541-4b38-a837-a45429e16e9b.jpeg.\n",
      "[INFO] File size: 2103253 bytes\n",
      "[INFO] Uploading food_photos/garlic/b43a7239-2391-4a09-8128-4eaac7001e57.jpeg to all_images/b43a7239-2391-4a09-8128-4eaac7001e57.jpeg...\n",
      "[INFO] Connected to Google Storage bucket: food_vision_bucket_with_object_versioning\n"
     ]
    },
    {
     "name": "stderr",
     "output_type": "stream",
     "text": [
      " 71%|███████▏  | 469/658 [21:21<09:52,  3.13s/it]"
     ]
    },
    {
     "name": "stdout",
     "output_type": "stream",
     "text": [
      "[INFO] File food_photos/garlic/b43a7239-2391-4a09-8128-4eaac7001e57.jpeg uploaded to food_vision_bucket_with_object_versioning/all_images/b43a7239-2391-4a09-8128-4eaac7001e57.jpeg.\n",
      "[INFO] File size: 2916955 bytes\n",
      "[INFO] Uploading food_photos/garlic/3057f15e-55d3-4ef3-8466-1f96e9cad0e0.jpeg to all_images/3057f15e-55d3-4ef3-8466-1f96e9cad0e0.jpeg...\n",
      "[INFO] Connected to Google Storage bucket: food_vision_bucket_with_object_versioning\n"
     ]
    },
    {
     "name": "stderr",
     "output_type": "stream",
     "text": [
      " 71%|███████▏  | 470/658 [21:23<08:34,  2.74s/it]"
     ]
    },
    {
     "name": "stdout",
     "output_type": "stream",
     "text": [
      "[INFO] File food_photos/garlic/3057f15e-55d3-4ef3-8466-1f96e9cad0e0.jpeg uploaded to food_vision_bucket_with_object_versioning/all_images/3057f15e-55d3-4ef3-8466-1f96e9cad0e0.jpeg.\n",
      "[INFO] File size: 1934720 bytes\n",
      "[INFO] Uploading food_photos/garlic/7c8501f4-91fe-4729-8dc9-93793987be2e.jpeg to all_images/7c8501f4-91fe-4729-8dc9-93793987be2e.jpeg...\n",
      "[INFO] Connected to Google Storage bucket: food_vision_bucket_with_object_versioning\n"
     ]
    },
    {
     "name": "stderr",
     "output_type": "stream",
     "text": [
      " 72%|███████▏  | 471/658 [21:25<07:54,  2.54s/it]"
     ]
    },
    {
     "name": "stdout",
     "output_type": "stream",
     "text": [
      "[INFO] File food_photos/garlic/7c8501f4-91fe-4729-8dc9-93793987be2e.jpeg uploaded to food_vision_bucket_with_object_versioning/all_images/7c8501f4-91fe-4729-8dc9-93793987be2e.jpeg.\n",
      "[INFO] File size: 1922781 bytes\n",
      "[INFO] Uploading food_photos/garlic/acdb9c13-05f7-40bc-8874-d443385aa11f.jpeg to all_images/acdb9c13-05f7-40bc-8874-d443385aa11f.jpeg...\n",
      "[INFO] Connected to Google Storage bucket: food_vision_bucket_with_object_versioning\n"
     ]
    },
    {
     "name": "stderr",
     "output_type": "stream",
     "text": [
      " 72%|███████▏  | 472/658 [21:29<08:35,  2.77s/it]"
     ]
    },
    {
     "name": "stdout",
     "output_type": "stream",
     "text": [
      "[INFO] File food_photos/garlic/acdb9c13-05f7-40bc-8874-d443385aa11f.jpeg uploaded to food_vision_bucket_with_object_versioning/all_images/acdb9c13-05f7-40bc-8874-d443385aa11f.jpeg.\n",
      "[INFO] File size: 2658311 bytes\n",
      "[INFO] Uploading food_photos/garlic/d223960f-259a-4e69-a9a0-878296cb7bfb.jpeg to all_images/d223960f-259a-4e69-a9a0-878296cb7bfb.jpeg...\n",
      "[INFO] Connected to Google Storage bucket: food_vision_bucket_with_object_versioning\n"
     ]
    },
    {
     "name": "stderr",
     "output_type": "stream",
     "text": [
      " 72%|███████▏  | 473/658 [21:32<08:46,  2.85s/it]"
     ]
    },
    {
     "name": "stdout",
     "output_type": "stream",
     "text": [
      "[INFO] File food_photos/garlic/d223960f-259a-4e69-a9a0-878296cb7bfb.jpeg uploaded to food_vision_bucket_with_object_versioning/all_images/d223960f-259a-4e69-a9a0-878296cb7bfb.jpeg.\n",
      "[INFO] File size: 2170712 bytes\n",
      "[INFO] Uploading food_photos/garlic/0cf3f597-faf3-4adf-85a7-dad94422dd93.jpeg to all_images/0cf3f597-faf3-4adf-85a7-dad94422dd93.jpeg...\n",
      "[INFO] Connected to Google Storage bucket: food_vision_bucket_with_object_versioning\n"
     ]
    },
    {
     "name": "stderr",
     "output_type": "stream",
     "text": [
      " 72%|███████▏  | 474/658 [21:35<09:27,  3.09s/it]"
     ]
    },
    {
     "name": "stdout",
     "output_type": "stream",
     "text": [
      "[INFO] File food_photos/garlic/0cf3f597-faf3-4adf-85a7-dad94422dd93.jpeg uploaded to food_vision_bucket_with_object_versioning/all_images/0cf3f597-faf3-4adf-85a7-dad94422dd93.jpeg.\n",
      "[INFO] File size: 3251930 bytes\n",
      "[INFO] Uploading food_photos/garlic/f4e55f75-e6b9-4ae7-88b0-3595effeffd1.jpeg to all_images/f4e55f75-e6b9-4ae7-88b0-3595effeffd1.jpeg...\n",
      "[INFO] Connected to Google Storage bucket: food_vision_bucket_with_object_versioning\n"
     ]
    },
    {
     "name": "stderr",
     "output_type": "stream",
     "text": [
      " 72%|███████▏  | 475/658 [21:37<07:56,  2.61s/it]"
     ]
    },
    {
     "name": "stdout",
     "output_type": "stream",
     "text": [
      "[INFO] File food_photos/garlic/f4e55f75-e6b9-4ae7-88b0-3595effeffd1.jpeg uploaded to food_vision_bucket_with_object_versioning/all_images/f4e55f75-e6b9-4ae7-88b0-3595effeffd1.jpeg.\n",
      "[INFO] File size: 1619112 bytes\n",
      "[INFO] Uploading food_photos/garlic/c42bc68c-790d-4d54-b3f7-8bd53e90ed8f.jpeg to all_images/c42bc68c-790d-4d54-b3f7-8bd53e90ed8f.jpeg...\n",
      "[INFO] Connected to Google Storage bucket: food_vision_bucket_with_object_versioning\n"
     ]
    },
    {
     "name": "stderr",
     "output_type": "stream",
     "text": [
      " 72%|███████▏  | 476/658 [21:40<08:27,  2.79s/it]"
     ]
    },
    {
     "name": "stdout",
     "output_type": "stream",
     "text": [
      "[INFO] File food_photos/garlic/c42bc68c-790d-4d54-b3f7-8bd53e90ed8f.jpeg uploaded to food_vision_bucket_with_object_versioning/all_images/c42bc68c-790d-4d54-b3f7-8bd53e90ed8f.jpeg.\n",
      "[INFO] File size: 2583770 bytes\n",
      "[INFO] Uploading food_photos/garlic/e31a090c-227a-42ca-9e07-48fd769e36c3.jpeg to all_images/e31a090c-227a-42ca-9e07-48fd769e36c3.jpeg...\n",
      "[INFO] Connected to Google Storage bucket: food_vision_bucket_with_object_versioning\n"
     ]
    },
    {
     "name": "stderr",
     "output_type": "stream",
     "text": [
      " 72%|███████▏  | 477/658 [21:43<08:35,  2.85s/it]"
     ]
    },
    {
     "name": "stdout",
     "output_type": "stream",
     "text": [
      "[INFO] File food_photos/garlic/e31a090c-227a-42ca-9e07-48fd769e36c3.jpeg uploaded to food_vision_bucket_with_object_versioning/all_images/e31a090c-227a-42ca-9e07-48fd769e36c3.jpeg.\n",
      "[INFO] File size: 2846355 bytes\n",
      "[INFO] Uploading food_photos/garlic/d1f21233-6360-4051-9ab2-fdc3b2fa5e2b.jpeg to all_images/d1f21233-6360-4051-9ab2-fdc3b2fa5e2b.jpeg...\n",
      "[INFO] Connected to Google Storage bucket: food_vision_bucket_with_object_versioning\n"
     ]
    },
    {
     "name": "stderr",
     "output_type": "stream",
     "text": [
      " 73%|███████▎  | 478/658 [21:46<09:02,  3.01s/it]"
     ]
    },
    {
     "name": "stdout",
     "output_type": "stream",
     "text": [
      "[INFO] File food_photos/garlic/d1f21233-6360-4051-9ab2-fdc3b2fa5e2b.jpeg uploaded to food_vision_bucket_with_object_versioning/all_images/d1f21233-6360-4051-9ab2-fdc3b2fa5e2b.jpeg.\n",
      "[INFO] File size: 2251229 bytes\n",
      "[INFO] Uploading food_photos/garlic/d1c9a5c1-33ad-4e03-b24b-029a44d55261.jpeg to all_images/d1c9a5c1-33ad-4e03-b24b-029a44d55261.jpeg...\n",
      "[INFO] Connected to Google Storage bucket: food_vision_bucket_with_object_versioning\n"
     ]
    },
    {
     "name": "stderr",
     "output_type": "stream",
     "text": [
      " 73%|███████▎  | 479/658 [21:50<09:28,  3.18s/it]"
     ]
    },
    {
     "name": "stdout",
     "output_type": "stream",
     "text": [
      "[INFO] File food_photos/garlic/d1c9a5c1-33ad-4e03-b24b-029a44d55261.jpeg uploaded to food_vision_bucket_with_object_versioning/all_images/d1c9a5c1-33ad-4e03-b24b-029a44d55261.jpeg.\n",
      "[INFO] File size: 3411178 bytes\n",
      "[INFO] Uploading food_photos/garlic/2c9165a8-f571-4fb7-857c-e19f47010774.jpeg to all_images/2c9165a8-f571-4fb7-857c-e19f47010774.jpeg...\n",
      "[INFO] Connected to Google Storage bucket: food_vision_bucket_with_object_versioning\n"
     ]
    },
    {
     "name": "stderr",
     "output_type": "stream",
     "text": [
      " 73%|███████▎  | 480/658 [21:52<08:08,  2.74s/it]"
     ]
    },
    {
     "name": "stdout",
     "output_type": "stream",
     "text": [
      "[INFO] File food_photos/garlic/2c9165a8-f571-4fb7-857c-e19f47010774.jpeg uploaded to food_vision_bucket_with_object_versioning/all_images/2c9165a8-f571-4fb7-857c-e19f47010774.jpeg.\n",
      "[INFO] File size: 1871492 bytes\n",
      "[INFO] Uploading food_photos/garlic/e4dd4193-68e3-40ad-9fca-ff1de767c7c3.jpeg to all_images/e4dd4193-68e3-40ad-9fca-ff1de767c7c3.jpeg...\n",
      "[INFO] Connected to Google Storage bucket: food_vision_bucket_with_object_versioning\n"
     ]
    },
    {
     "name": "stderr",
     "output_type": "stream",
     "text": [
      " 73%|███████▎  | 481/658 [21:55<08:27,  2.87s/it]"
     ]
    },
    {
     "name": "stdout",
     "output_type": "stream",
     "text": [
      "[INFO] File food_photos/garlic/e4dd4193-68e3-40ad-9fca-ff1de767c7c3.jpeg uploaded to food_vision_bucket_with_object_versioning/all_images/e4dd4193-68e3-40ad-9fca-ff1de767c7c3.jpeg.\n",
      "[INFO] File size: 2913035 bytes\n",
      "[INFO] Uploading food_photos/garlic/c3730118-3827-414b-a373-1f638569fb44.jpeg to all_images/c3730118-3827-414b-a373-1f638569fb44.jpeg...\n",
      "[INFO] Connected to Google Storage bucket: food_vision_bucket_with_object_versioning\n"
     ]
    },
    {
     "name": "stderr",
     "output_type": "stream",
     "text": [
      " 73%|███████▎  | 482/658 [21:58<08:53,  3.03s/it]"
     ]
    },
    {
     "name": "stdout",
     "output_type": "stream",
     "text": [
      "[INFO] File food_photos/garlic/c3730118-3827-414b-a373-1f638569fb44.jpeg uploaded to food_vision_bucket_with_object_versioning/all_images/c3730118-3827-414b-a373-1f638569fb44.jpeg.\n",
      "[INFO] File size: 2463276 bytes\n",
      "[INFO] Uploading food_photos/garlic/377d2fec-2475-4a34-b63e-9f87a2488f7e.jpeg to all_images/377d2fec-2475-4a34-b63e-9f87a2488f7e.jpeg...\n",
      "[INFO] Connected to Google Storage bucket: food_vision_bucket_with_object_versioning\n"
     ]
    },
    {
     "name": "stderr",
     "output_type": "stream",
     "text": [
      " 73%|███████▎  | 483/658 [22:01<08:56,  3.07s/it]"
     ]
    },
    {
     "name": "stdout",
     "output_type": "stream",
     "text": [
      "[INFO] File food_photos/garlic/377d2fec-2475-4a34-b63e-9f87a2488f7e.jpeg uploaded to food_vision_bucket_with_object_versioning/all_images/377d2fec-2475-4a34-b63e-9f87a2488f7e.jpeg.\n",
      "[INFO] File size: 2329675 bytes\n",
      "[INFO] Uploading food_photos/garlic/1c44fb07-8f27-406a-9a2f-dbdf23866aed.jpeg to all_images/1c44fb07-8f27-406a-9a2f-dbdf23866aed.jpeg...\n",
      "[INFO] Connected to Google Storage bucket: food_vision_bucket_with_object_versioning\n"
     ]
    },
    {
     "name": "stderr",
     "output_type": "stream",
     "text": [
      " 74%|███████▎  | 484/658 [22:04<08:38,  2.98s/it]"
     ]
    },
    {
     "name": "stdout",
     "output_type": "stream",
     "text": [
      "[INFO] File food_photos/garlic/1c44fb07-8f27-406a-9a2f-dbdf23866aed.jpeg uploaded to food_vision_bucket_with_object_versioning/all_images/1c44fb07-8f27-406a-9a2f-dbdf23866aed.jpeg.\n",
      "[INFO] File size: 2537846 bytes\n",
      "[INFO] Uploading food_photos/garlic/65f20604-dd5b-4067-9844-41a5d0c8a335.jpeg to all_images/65f20604-dd5b-4067-9844-41a5d0c8a335.jpeg...\n",
      "[INFO] Connected to Google Storage bucket: food_vision_bucket_with_object_versioning\n"
     ]
    },
    {
     "name": "stderr",
     "output_type": "stream",
     "text": [
      " 74%|███████▎  | 485/658 [22:08<09:01,  3.13s/it]"
     ]
    },
    {
     "name": "stdout",
     "output_type": "stream",
     "text": [
      "[INFO] File food_photos/garlic/65f20604-dd5b-4067-9844-41a5d0c8a335.jpeg uploaded to food_vision_bucket_with_object_versioning/all_images/65f20604-dd5b-4067-9844-41a5d0c8a335.jpeg.\n",
      "[INFO] File size: 2754201 bytes\n",
      "[INFO] Uploading food_photos/garlic/2e7064c9-4d2b-437d-928d-3eeca24c39fc.jpeg to all_images/2e7064c9-4d2b-437d-928d-3eeca24c39fc.jpeg...\n",
      "[INFO] Connected to Google Storage bucket: food_vision_bucket_with_object_versioning\n"
     ]
    },
    {
     "name": "stderr",
     "output_type": "stream",
     "text": [
      " 74%|███████▍  | 486/658 [22:11<09:06,  3.17s/it]"
     ]
    },
    {
     "name": "stdout",
     "output_type": "stream",
     "text": [
      "[INFO] File food_photos/garlic/2e7064c9-4d2b-437d-928d-3eeca24c39fc.jpeg uploaded to food_vision_bucket_with_object_versioning/all_images/2e7064c9-4d2b-437d-928d-3eeca24c39fc.jpeg.\n",
      "[INFO] File size: 2080432 bytes\n",
      "[INFO] Uploading food_photos/garlic/8b685024-880b-4872-8fc4-3659dac7aa26.jpeg to all_images/8b685024-880b-4872-8fc4-3659dac7aa26.jpeg...\n",
      "[INFO] Connected to Google Storage bucket: food_vision_bucket_with_object_versioning\n"
     ]
    },
    {
     "name": "stderr",
     "output_type": "stream",
     "text": [
      " 74%|███████▍  | 487/658 [22:14<08:57,  3.14s/it]"
     ]
    },
    {
     "name": "stdout",
     "output_type": "stream",
     "text": [
      "[INFO] File food_photos/garlic/8b685024-880b-4872-8fc4-3659dac7aa26.jpeg uploaded to food_vision_bucket_with_object_versioning/all_images/8b685024-880b-4872-8fc4-3659dac7aa26.jpeg.\n",
      "[INFO] File size: 3040671 bytes\n",
      "[INFO] Uploading food_photos/garlic/2d1d3e95-b075-484a-8ac9-bcfa5540cf71.jpeg to all_images/2d1d3e95-b075-484a-8ac9-bcfa5540cf71.jpeg...\n",
      "[INFO] Connected to Google Storage bucket: food_vision_bucket_with_object_versioning\n"
     ]
    },
    {
     "name": "stderr",
     "output_type": "stream",
     "text": [
      " 74%|███████▍  | 488/658 [22:16<07:43,  2.73s/it]"
     ]
    },
    {
     "name": "stdout",
     "output_type": "stream",
     "text": [
      "[INFO] File food_photos/garlic/2d1d3e95-b075-484a-8ac9-bcfa5540cf71.jpeg uploaded to food_vision_bucket_with_object_versioning/all_images/2d1d3e95-b075-484a-8ac9-bcfa5540cf71.jpeg.\n",
      "[INFO] File size: 1967394 bytes\n",
      "[INFO] Uploading food_photos/garlic/c62ac26b-bff1-42dc-948f-697a17d1a25f.jpeg to all_images/c62ac26b-bff1-42dc-948f-697a17d1a25f.jpeg...\n",
      "[INFO] Connected to Google Storage bucket: food_vision_bucket_with_object_versioning\n"
     ]
    },
    {
     "name": "stderr",
     "output_type": "stream",
     "text": [
      " 74%|███████▍  | 489/658 [22:19<07:42,  2.74s/it]"
     ]
    },
    {
     "name": "stdout",
     "output_type": "stream",
     "text": [
      "[INFO] File food_photos/garlic/c62ac26b-bff1-42dc-948f-697a17d1a25f.jpeg uploaded to food_vision_bucket_with_object_versioning/all_images/c62ac26b-bff1-42dc-948f-697a17d1a25f.jpeg.\n",
      "[INFO] File size: 3611098 bytes\n",
      "[INFO] Uploading food_photos/garlic/3dffde75-1675-4955-800b-8d31e53acf09.jpeg to all_images/3dffde75-1675-4955-800b-8d31e53acf09.jpeg...\n",
      "[INFO] Connected to Google Storage bucket: food_vision_bucket_with_object_versioning\n"
     ]
    },
    {
     "name": "stderr",
     "output_type": "stream",
     "text": [
      " 74%|███████▍  | 490/658 [22:21<07:38,  2.73s/it]"
     ]
    },
    {
     "name": "stdout",
     "output_type": "stream",
     "text": [
      "[INFO] File food_photos/garlic/3dffde75-1675-4955-800b-8d31e53acf09.jpeg uploaded to food_vision_bucket_with_object_versioning/all_images/3dffde75-1675-4955-800b-8d31e53acf09.jpeg.\n",
      "[INFO] File size: 2828311 bytes\n",
      "[INFO] Uploading food_photos/garlic/85c1c806-ce86-499e-b06c-b43ee408c2ea.jpeg to all_images/85c1c806-ce86-499e-b06c-b43ee408c2ea.jpeg...\n",
      "[INFO] Connected to Google Storage bucket: food_vision_bucket_with_object_versioning\n"
     ]
    },
    {
     "name": "stderr",
     "output_type": "stream",
     "text": [
      " 75%|███████▍  | 491/658 [22:25<08:06,  2.92s/it]"
     ]
    },
    {
     "name": "stdout",
     "output_type": "stream",
     "text": [
      "[INFO] File food_photos/garlic/85c1c806-ce86-499e-b06c-b43ee408c2ea.jpeg uploaded to food_vision_bucket_with_object_versioning/all_images/85c1c806-ce86-499e-b06c-b43ee408c2ea.jpeg.\n",
      "[INFO] File size: 2450500 bytes\n",
      "[INFO] Uploading food_photos/garlic/4e106d4f-124a-4739-a5b9-72c1ce308765.jpeg to all_images/4e106d4f-124a-4739-a5b9-72c1ce308765.jpeg...\n",
      "[INFO] Connected to Google Storage bucket: food_vision_bucket_with_object_versioning\n"
     ]
    },
    {
     "name": "stderr",
     "output_type": "stream",
     "text": [
      " 75%|███████▍  | 492/658 [22:28<08:05,  2.92s/it]"
     ]
    },
    {
     "name": "stdout",
     "output_type": "stream",
     "text": [
      "[INFO] File food_photos/garlic/4e106d4f-124a-4739-a5b9-72c1ce308765.jpeg uploaded to food_vision_bucket_with_object_versioning/all_images/4e106d4f-124a-4739-a5b9-72c1ce308765.jpeg.\n",
      "[INFO] File size: 3194169 bytes\n",
      "[INFO] Uploading food_photos/garlic/41aa46f1-a9e5-4a68-9a24-740a68c28c33.jpeg to all_images/41aa46f1-a9e5-4a68-9a24-740a68c28c33.jpeg...\n",
      "[INFO] Connected to Google Storage bucket: food_vision_bucket_with_object_versioning\n"
     ]
    },
    {
     "name": "stderr",
     "output_type": "stream",
     "text": [
      " 75%|███████▍  | 493/658 [22:30<07:15,  2.64s/it]"
     ]
    },
    {
     "name": "stdout",
     "output_type": "stream",
     "text": [
      "[INFO] File food_photos/garlic/41aa46f1-a9e5-4a68-9a24-740a68c28c33.jpeg uploaded to food_vision_bucket_with_object_versioning/all_images/41aa46f1-a9e5-4a68-9a24-740a68c28c33.jpeg.\n",
      "[INFO] File size: 2028376 bytes\n",
      "[INFO] Uploading food_photos/garlic/64b304c2-cc2e-4a43-b4e5-726c59ac3df1.jpeg to all_images/64b304c2-cc2e-4a43-b4e5-726c59ac3df1.jpeg...\n",
      "[INFO] Connected to Google Storage bucket: food_vision_bucket_with_object_versioning\n"
     ]
    },
    {
     "name": "stderr",
     "output_type": "stream",
     "text": [
      " 75%|███████▌  | 494/658 [22:33<07:51,  2.87s/it]"
     ]
    },
    {
     "name": "stdout",
     "output_type": "stream",
     "text": [
      "[INFO] File food_photos/garlic/64b304c2-cc2e-4a43-b4e5-726c59ac3df1.jpeg uploaded to food_vision_bucket_with_object_versioning/all_images/64b304c2-cc2e-4a43-b4e5-726c59ac3df1.jpeg.\n",
      "[INFO] File size: 2664778 bytes\n",
      "[INFO] Uploading food_photos/garlic/bfff1eb7-9c97-4923-9452-3ebb5d5a6c4e.jpeg to all_images/bfff1eb7-9c97-4923-9452-3ebb5d5a6c4e.jpeg...\n",
      "[INFO] Connected to Google Storage bucket: food_vision_bucket_with_object_versioning\n"
     ]
    },
    {
     "name": "stderr",
     "output_type": "stream",
     "text": [
      " 75%|███████▌  | 495/658 [22:35<06:59,  2.57s/it]"
     ]
    },
    {
     "name": "stdout",
     "output_type": "stream",
     "text": [
      "[INFO] File food_photos/garlic/bfff1eb7-9c97-4923-9452-3ebb5d5a6c4e.jpeg uploaded to food_vision_bucket_with_object_versioning/all_images/bfff1eb7-9c97-4923-9452-3ebb5d5a6c4e.jpeg.\n",
      "[INFO] File size: 1933128 bytes\n",
      "[INFO] Uploading food_photos/garlic/ed843e1a-8e99-4a5a-b469-f4aee1526f06.jpeg to all_images/ed843e1a-8e99-4a5a-b469-f4aee1526f06.jpeg...\n",
      "[INFO] Connected to Google Storage bucket: food_vision_bucket_with_object_versioning\n"
     ]
    },
    {
     "name": "stderr",
     "output_type": "stream",
     "text": [
      " 75%|███████▌  | 496/658 [22:38<07:45,  2.88s/it]"
     ]
    },
    {
     "name": "stdout",
     "output_type": "stream",
     "text": [
      "[INFO] File food_photos/garlic/ed843e1a-8e99-4a5a-b469-f4aee1526f06.jpeg uploaded to food_vision_bucket_with_object_versioning/all_images/ed843e1a-8e99-4a5a-b469-f4aee1526f06.jpeg.\n",
      "[INFO] File size: 2793288 bytes\n",
      "[INFO] Uploading food_photos/garlic/d511bc23-9834-4ebb-abad-79cdf389504d.jpeg to all_images/d511bc23-9834-4ebb-abad-79cdf389504d.jpeg...\n",
      "[INFO] Connected to Google Storage bucket: food_vision_bucket_with_object_versioning\n"
     ]
    },
    {
     "name": "stderr",
     "output_type": "stream",
     "text": [
      " 76%|███████▌  | 497/658 [22:40<07:02,  2.62s/it]"
     ]
    },
    {
     "name": "stdout",
     "output_type": "stream",
     "text": [
      "[INFO] File food_photos/garlic/d511bc23-9834-4ebb-abad-79cdf389504d.jpeg uploaded to food_vision_bucket_with_object_versioning/all_images/d511bc23-9834-4ebb-abad-79cdf389504d.jpeg.\n",
      "[INFO] File size: 1953668 bytes\n",
      "[INFO] Uploading food_photos/garlic/d7cc9ede-5814-4623-bf8d-b1edf1928d7e.jpeg to all_images/d7cc9ede-5814-4623-bf8d-b1edf1928d7e.jpeg...\n",
      "[INFO] Connected to Google Storage bucket: food_vision_bucket_with_object_versioning\n"
     ]
    },
    {
     "name": "stderr",
     "output_type": "stream",
     "text": [
      " 76%|███████▌  | 498/658 [22:44<07:27,  2.80s/it]"
     ]
    },
    {
     "name": "stdout",
     "output_type": "stream",
     "text": [
      "[INFO] File food_photos/garlic/d7cc9ede-5814-4623-bf8d-b1edf1928d7e.jpeg uploaded to food_vision_bucket_with_object_versioning/all_images/d7cc9ede-5814-4623-bf8d-b1edf1928d7e.jpeg.\n",
      "[INFO] File size: 3825223 bytes\n",
      "[INFO] Uploading food_photos/garlic/f548d0cd-db8e-4f51-b08a-1c4be094dc62.jpeg to all_images/f548d0cd-db8e-4f51-b08a-1c4be094dc62.jpeg...\n",
      "[INFO] Connected to Google Storage bucket: food_vision_bucket_with_object_versioning\n"
     ]
    },
    {
     "name": "stderr",
     "output_type": "stream",
     "text": [
      " 76%|███████▌  | 499/658 [22:46<07:23,  2.79s/it]"
     ]
    },
    {
     "name": "stdout",
     "output_type": "stream",
     "text": [
      "[INFO] File food_photos/garlic/f548d0cd-db8e-4f51-b08a-1c4be094dc62.jpeg uploaded to food_vision_bucket_with_object_versioning/all_images/f548d0cd-db8e-4f51-b08a-1c4be094dc62.jpeg.\n",
      "[INFO] File size: 2584470 bytes\n",
      "[INFO] Uploading food_photos/garlic/970f763c-e9df-4d2e-993c-f8e21c7e75b1.jpeg to all_images/970f763c-e9df-4d2e-993c-f8e21c7e75b1.jpeg...\n",
      "[INFO] Connected to Google Storage bucket: food_vision_bucket_with_object_versioning\n"
     ]
    },
    {
     "name": "stderr",
     "output_type": "stream",
     "text": [
      " 76%|███████▌  | 500/658 [22:50<07:37,  2.89s/it]"
     ]
    },
    {
     "name": "stdout",
     "output_type": "stream",
     "text": [
      "[INFO] File food_photos/garlic/970f763c-e9df-4d2e-993c-f8e21c7e75b1.jpeg uploaded to food_vision_bucket_with_object_versioning/all_images/970f763c-e9df-4d2e-993c-f8e21c7e75b1.jpeg.\n",
      "[INFO] File size: 2187710 bytes\n",
      "[INFO] Uploading food_photos/garlic/533201ef-7a7c-498e-84f0-f42e2946bac2.jpeg to all_images/533201ef-7a7c-498e-84f0-f42e2946bac2.jpeg...\n",
      "[INFO] Connected to Google Storage bucket: food_vision_bucket_with_object_versioning\n"
     ]
    },
    {
     "name": "stderr",
     "output_type": "stream",
     "text": [
      " 76%|███████▌  | 501/658 [22:52<07:29,  2.86s/it]"
     ]
    },
    {
     "name": "stdout",
     "output_type": "stream",
     "text": [
      "[INFO] File food_photos/garlic/533201ef-7a7c-498e-84f0-f42e2946bac2.jpeg uploaded to food_vision_bucket_with_object_versioning/all_images/533201ef-7a7c-498e-84f0-f42e2946bac2.jpeg.\n",
      "[INFO] File size: 2478843 bytes\n",
      "[INFO] Uploading food_photos/garlic/bea08d70-c11e-4648-8f85-0c26ba2b275b.jpeg to all_images/bea08d70-c11e-4648-8f85-0c26ba2b275b.jpeg...\n",
      "[INFO] Connected to Google Storage bucket: food_vision_bucket_with_object_versioning\n"
     ]
    },
    {
     "name": "stderr",
     "output_type": "stream",
     "text": [
      " 76%|███████▋  | 502/658 [22:55<07:36,  2.93s/it]"
     ]
    },
    {
     "name": "stdout",
     "output_type": "stream",
     "text": [
      "[INFO] File food_photos/garlic/bea08d70-c11e-4648-8f85-0c26ba2b275b.jpeg uploaded to food_vision_bucket_with_object_versioning/all_images/bea08d70-c11e-4648-8f85-0c26ba2b275b.jpeg.\n",
      "[INFO] File size: 3210655 bytes\n",
      "[INFO] Uploading food_photos/garlic/996d460f-9c3c-4190-8762-83b74658de76.jpeg to all_images/996d460f-9c3c-4190-8762-83b74658de76.jpeg...\n",
      "[INFO] Connected to Google Storage bucket: food_vision_bucket_with_object_versioning\n"
     ]
    },
    {
     "name": "stderr",
     "output_type": "stream",
     "text": [
      " 76%|███████▋  | 503/658 [22:59<07:52,  3.05s/it]"
     ]
    },
    {
     "name": "stdout",
     "output_type": "stream",
     "text": [
      "[INFO] File food_photos/garlic/996d460f-9c3c-4190-8762-83b74658de76.jpeg uploaded to food_vision_bucket_with_object_versioning/all_images/996d460f-9c3c-4190-8762-83b74658de76.jpeg.\n",
      "[INFO] File size: 3611308 bytes\n",
      "[INFO] Uploading food_photos/garlic/6b740b72-6730-41c0-9d66-bd07d5186f22.jpeg to all_images/6b740b72-6730-41c0-9d66-bd07d5186f22.jpeg...\n",
      "[INFO] Connected to Google Storage bucket: food_vision_bucket_with_object_versioning\n"
     ]
    },
    {
     "name": "stderr",
     "output_type": "stream",
     "text": [
      " 77%|███████▋  | 504/658 [23:02<07:56,  3.09s/it]"
     ]
    },
    {
     "name": "stdout",
     "output_type": "stream",
     "text": [
      "[INFO] File food_photos/garlic/6b740b72-6730-41c0-9d66-bd07d5186f22.jpeg uploaded to food_vision_bucket_with_object_versioning/all_images/6b740b72-6730-41c0-9d66-bd07d5186f22.jpeg.\n",
      "[INFO] File size: 2132299 bytes\n",
      "[INFO] Uploading food_photos/garlic/2243efe9-a92d-4c23-8319-4ee155dbea38.jpeg to all_images/2243efe9-a92d-4c23-8319-4ee155dbea38.jpeg...\n",
      "[INFO] Connected to Google Storage bucket: food_vision_bucket_with_object_versioning\n"
     ]
    },
    {
     "name": "stderr",
     "output_type": "stream",
     "text": [
      " 77%|███████▋  | 505/658 [23:05<07:52,  3.09s/it]"
     ]
    },
    {
     "name": "stdout",
     "output_type": "stream",
     "text": [
      "[INFO] File food_photos/garlic/2243efe9-a92d-4c23-8319-4ee155dbea38.jpeg uploaded to food_vision_bucket_with_object_versioning/all_images/2243efe9-a92d-4c23-8319-4ee155dbea38.jpeg.\n",
      "[INFO] File size: 2742021 bytes\n",
      "[INFO] Uploading food_photos/garlic/44ef673c-5f89-4be3-8763-5470154d7194.jpeg to all_images/44ef673c-5f89-4be3-8763-5470154d7194.jpeg...\n",
      "[INFO] Connected to Google Storage bucket: food_vision_bucket_with_object_versioning\n"
     ]
    },
    {
     "name": "stderr",
     "output_type": "stream",
     "text": [
      " 77%|███████▋  | 506/658 [23:07<06:50,  2.70s/it]"
     ]
    },
    {
     "name": "stdout",
     "output_type": "stream",
     "text": [
      "[INFO] File food_photos/garlic/44ef673c-5f89-4be3-8763-5470154d7194.jpeg uploaded to food_vision_bucket_with_object_versioning/all_images/44ef673c-5f89-4be3-8763-5470154d7194.jpeg.\n",
      "[INFO] File size: 1867988 bytes\n",
      "[INFO] Uploading food_photos/garlic/bf40a515-eda5-4955-ba02-b18d91ab6a5d.jpeg to all_images/bf40a515-eda5-4955-ba02-b18d91ab6a5d.jpeg...\n",
      "[INFO] Connected to Google Storage bucket: food_vision_bucket_with_object_versioning\n"
     ]
    },
    {
     "name": "stderr",
     "output_type": "stream",
     "text": [
      " 77%|███████▋  | 507/658 [23:10<07:28,  2.97s/it]"
     ]
    },
    {
     "name": "stdout",
     "output_type": "stream",
     "text": [
      "[INFO] File food_photos/garlic/bf40a515-eda5-4955-ba02-b18d91ab6a5d.jpeg uploaded to food_vision_bucket_with_object_versioning/all_images/bf40a515-eda5-4955-ba02-b18d91ab6a5d.jpeg.\n",
      "[INFO] File size: 3629880 bytes\n",
      "[INFO] Uploading food_photos/garlic/c8b85209-6605-43cc-a0c5-00101f60451c.jpeg to all_images/c8b85209-6605-43cc-a0c5-00101f60451c.jpeg...\n",
      "[INFO] Connected to Google Storage bucket: food_vision_bucket_with_object_versioning\n"
     ]
    },
    {
     "name": "stderr",
     "output_type": "stream",
     "text": [
      " 77%|███████▋  | 508/658 [23:14<08:05,  3.23s/it]"
     ]
    },
    {
     "name": "stdout",
     "output_type": "stream",
     "text": [
      "[INFO] File food_photos/garlic/c8b85209-6605-43cc-a0c5-00101f60451c.jpeg uploaded to food_vision_bucket_with_object_versioning/all_images/c8b85209-6605-43cc-a0c5-00101f60451c.jpeg.\n",
      "[INFO] File size: 2785404 bytes\n",
      "[INFO] Uploading food_photos/garlic/59aeabe2-6570-415c-8aee-0ec95562b531.jpeg to all_images/59aeabe2-6570-415c-8aee-0ec95562b531.jpeg...\n",
      "[INFO] Connected to Google Storage bucket: food_vision_bucket_with_object_versioning\n"
     ]
    },
    {
     "name": "stderr",
     "output_type": "stream",
     "text": [
      " 77%|███████▋  | 509/658 [23:18<08:11,  3.30s/it]"
     ]
    },
    {
     "name": "stdout",
     "output_type": "stream",
     "text": [
      "[INFO] File food_photos/garlic/59aeabe2-6570-415c-8aee-0ec95562b531.jpeg uploaded to food_vision_bucket_with_object_versioning/all_images/59aeabe2-6570-415c-8aee-0ec95562b531.jpeg.\n",
      "[INFO] File size: 3484123 bytes\n",
      "[INFO] Uploading food_photos/garlic/f798d9d8-f137-4294-b2e0-6b9cb0b121ba.jpeg to all_images/f798d9d8-f137-4294-b2e0-6b9cb0b121ba.jpeg...\n",
      "[INFO] Connected to Google Storage bucket: food_vision_bucket_with_object_versioning\n"
     ]
    },
    {
     "name": "stderr",
     "output_type": "stream",
     "text": [
      " 78%|███████▊  | 510/658 [23:21<07:52,  3.19s/it]"
     ]
    },
    {
     "name": "stdout",
     "output_type": "stream",
     "text": [
      "[INFO] File food_photos/garlic/f798d9d8-f137-4294-b2e0-6b9cb0b121ba.jpeg uploaded to food_vision_bucket_with_object_versioning/all_images/f798d9d8-f137-4294-b2e0-6b9cb0b121ba.jpeg.\n",
      "[INFO] File size: 2533827 bytes\n",
      "[INFO] Uploading food_photos/garlic/eeb72b66-b3c8-4129-87d0-1291c3befd79.jpeg to all_images/eeb72b66-b3c8-4129-87d0-1291c3befd79.jpeg...\n",
      "[INFO] Connected to Google Storage bucket: food_vision_bucket_with_object_versioning\n"
     ]
    },
    {
     "name": "stderr",
     "output_type": "stream",
     "text": [
      " 78%|███████▊  | 511/658 [23:24<07:36,  3.10s/it]"
     ]
    },
    {
     "name": "stdout",
     "output_type": "stream",
     "text": [
      "[INFO] File food_photos/garlic/eeb72b66-b3c8-4129-87d0-1291c3befd79.jpeg uploaded to food_vision_bucket_with_object_versioning/all_images/eeb72b66-b3c8-4129-87d0-1291c3befd79.jpeg.\n",
      "[INFO] File size: 3199111 bytes\n",
      "[INFO] Uploading food_photos/garlic/da78caa8-535b-4c5e-b07e-0234d9a4de6e.jpeg to all_images/da78caa8-535b-4c5e-b07e-0234d9a4de6e.jpeg...\n",
      "[INFO] Connected to Google Storage bucket: food_vision_bucket_with_object_versioning\n"
     ]
    },
    {
     "name": "stderr",
     "output_type": "stream",
     "text": [
      " 78%|███████▊  | 512/658 [23:27<07:32,  3.10s/it]"
     ]
    },
    {
     "name": "stdout",
     "output_type": "stream",
     "text": [
      "[INFO] File food_photos/garlic/da78caa8-535b-4c5e-b07e-0234d9a4de6e.jpeg uploaded to food_vision_bucket_with_object_versioning/all_images/da78caa8-535b-4c5e-b07e-0234d9a4de6e.jpeg.\n",
      "[INFO] File size: 3115657 bytes\n",
      "[INFO] Uploading food_photos/garlic/97a577a9-2200-4478-a720-82fc8b0d7273.jpeg to all_images/97a577a9-2200-4478-a720-82fc8b0d7273.jpeg...\n",
      "[INFO] Connected to Google Storage bucket: food_vision_bucket_with_object_versioning\n"
     ]
    },
    {
     "name": "stderr",
     "output_type": "stream",
     "text": [
      " 78%|███████▊  | 513/658 [23:28<06:26,  2.66s/it]"
     ]
    },
    {
     "name": "stdout",
     "output_type": "stream",
     "text": [
      "[INFO] File food_photos/garlic/97a577a9-2200-4478-a720-82fc8b0d7273.jpeg uploaded to food_vision_bucket_with_object_versioning/all_images/97a577a9-2200-4478-a720-82fc8b0d7273.jpeg.\n",
      "[INFO] File size: 1933702 bytes\n",
      "[INFO] Uploading food_photos/garlic/7256a0f5-1016-4861-8417-fdc9c70ed26f.jpeg to all_images/7256a0f5-1016-4861-8417-fdc9c70ed26f.jpeg...\n",
      "[INFO] Connected to Google Storage bucket: food_vision_bucket_with_object_versioning\n"
     ]
    },
    {
     "name": "stderr",
     "output_type": "stream",
     "text": [
      " 78%|███████▊  | 514/658 [23:32<06:49,  2.85s/it]"
     ]
    },
    {
     "name": "stdout",
     "output_type": "stream",
     "text": [
      "[INFO] File food_photos/garlic/7256a0f5-1016-4861-8417-fdc9c70ed26f.jpeg uploaded to food_vision_bucket_with_object_versioning/all_images/7256a0f5-1016-4861-8417-fdc9c70ed26f.jpeg.\n",
      "[INFO] File size: 2523207 bytes\n",
      "[INFO] Uploading food_photos/garlic/cd0700b9-74b8-4db1-a2aa-360bfb7ceaa7.jpeg to all_images/cd0700b9-74b8-4db1-a2aa-360bfb7ceaa7.jpeg...\n",
      "[INFO] Connected to Google Storage bucket: food_vision_bucket_with_object_versioning\n"
     ]
    },
    {
     "name": "stderr",
     "output_type": "stream",
     "text": [
      " 78%|███████▊  | 515/658 [23:34<06:49,  2.86s/it]"
     ]
    },
    {
     "name": "stdout",
     "output_type": "stream",
     "text": [
      "[INFO] File food_photos/garlic/cd0700b9-74b8-4db1-a2aa-360bfb7ceaa7.jpeg uploaded to food_vision_bucket_with_object_versioning/all_images/cd0700b9-74b8-4db1-a2aa-360bfb7ceaa7.jpeg.\n",
      "[INFO] File size: 2476481 bytes\n",
      "[INFO] Uploading food_photos/garlic/1c889be2-6393-4daf-8e43-9a7cba1e7933.jpeg to all_images/1c889be2-6393-4daf-8e43-9a7cba1e7933.jpeg...\n",
      "[INFO] Connected to Google Storage bucket: food_vision_bucket_with_object_versioning\n"
     ]
    },
    {
     "name": "stderr",
     "output_type": "stream",
     "text": [
      " 78%|███████▊  | 516/658 [23:37<06:37,  2.80s/it]"
     ]
    },
    {
     "name": "stdout",
     "output_type": "stream",
     "text": [
      "[INFO] File food_photos/garlic/1c889be2-6393-4daf-8e43-9a7cba1e7933.jpeg uploaded to food_vision_bucket_with_object_versioning/all_images/1c889be2-6393-4daf-8e43-9a7cba1e7933.jpeg.\n",
      "[INFO] File size: 2737903 bytes\n",
      "[INFO] Uploading food_photos/garlic/dc9d34f5-c0fd-430c-bf32-e54cdd4efb74.jpeg to all_images/dc9d34f5-c0fd-430c-bf32-e54cdd4efb74.jpeg...\n",
      "[INFO] Connected to Google Storage bucket: food_vision_bucket_with_object_versioning\n"
     ]
    },
    {
     "name": "stderr",
     "output_type": "stream",
     "text": [
      " 79%|███████▊  | 517/658 [23:40<06:45,  2.87s/it]"
     ]
    },
    {
     "name": "stdout",
     "output_type": "stream",
     "text": [
      "[INFO] File food_photos/garlic/dc9d34f5-c0fd-430c-bf32-e54cdd4efb74.jpeg uploaded to food_vision_bucket_with_object_versioning/all_images/dc9d34f5-c0fd-430c-bf32-e54cdd4efb74.jpeg.\n",
      "[INFO] File size: 2620503 bytes\n",
      "[INFO] Uploading food_photos/garlic/e6aa0aed-54a8-4655-941e-21fe02aa318d.jpeg to all_images/e6aa0aed-54a8-4655-941e-21fe02aa318d.jpeg...\n",
      "[INFO] Connected to Google Storage bucket: food_vision_bucket_with_object_versioning\n"
     ]
    },
    {
     "name": "stderr",
     "output_type": "stream",
     "text": [
      " 79%|███████▊  | 518/658 [23:44<07:26,  3.19s/it]"
     ]
    },
    {
     "name": "stdout",
     "output_type": "stream",
     "text": [
      "[INFO] File food_photos/garlic/e6aa0aed-54a8-4655-941e-21fe02aa318d.jpeg uploaded to food_vision_bucket_with_object_versioning/all_images/e6aa0aed-54a8-4655-941e-21fe02aa318d.jpeg.\n",
      "[INFO] File size: 3306096 bytes\n",
      "[INFO] Uploading food_photos/carrot/1defe1ae-baa2-492c-b0a9-216cd58e2b8e.jpeg to all_images/1defe1ae-baa2-492c-b0a9-216cd58e2b8e.jpeg...\n",
      "[INFO] Connected to Google Storage bucket: food_vision_bucket_with_object_versioning\n"
     ]
    },
    {
     "name": "stderr",
     "output_type": "stream",
     "text": [
      " 79%|███████▉  | 519/658 [23:46<06:26,  2.78s/it]"
     ]
    },
    {
     "name": "stdout",
     "output_type": "stream",
     "text": [
      "[INFO] File food_photos/carrot/1defe1ae-baa2-492c-b0a9-216cd58e2b8e.jpeg uploaded to food_vision_bucket_with_object_versioning/all_images/1defe1ae-baa2-492c-b0a9-216cd58e2b8e.jpeg.\n",
      "[INFO] File size: 1250473 bytes\n",
      "[INFO] Uploading food_photos/carrot/7116cb06-4a4a-4936-a175-37d6b305126c.jpeg to all_images/7116cb06-4a4a-4936-a175-37d6b305126c.jpeg...\n",
      "[INFO] Connected to Google Storage bucket: food_vision_bucket_with_object_versioning\n"
     ]
    },
    {
     "name": "stderr",
     "output_type": "stream",
     "text": [
      " 79%|███████▉  | 520/658 [23:48<05:56,  2.59s/it]"
     ]
    },
    {
     "name": "stdout",
     "output_type": "stream",
     "text": [
      "[INFO] File food_photos/carrot/7116cb06-4a4a-4936-a175-37d6b305126c.jpeg uploaded to food_vision_bucket_with_object_versioning/all_images/7116cb06-4a4a-4936-a175-37d6b305126c.jpeg.\n",
      "[INFO] File size: 1585616 bytes\n",
      "[INFO] Uploading food_photos/carrot/f2741f62-f99d-4e16-b0b5-58bd1bdf06f1.jpeg to all_images/f2741f62-f99d-4e16-b0b5-58bd1bdf06f1.jpeg...\n",
      "[INFO] Connected to Google Storage bucket: food_vision_bucket_with_object_versioning\n"
     ]
    },
    {
     "name": "stderr",
     "output_type": "stream",
     "text": [
      " 79%|███████▉  | 521/658 [23:50<05:20,  2.34s/it]"
     ]
    },
    {
     "name": "stdout",
     "output_type": "stream",
     "text": [
      "[INFO] File food_photos/carrot/f2741f62-f99d-4e16-b0b5-58bd1bdf06f1.jpeg uploaded to food_vision_bucket_with_object_versioning/all_images/f2741f62-f99d-4e16-b0b5-58bd1bdf06f1.jpeg.\n",
      "[INFO] File size: 1349045 bytes\n",
      "[INFO] Uploading food_photos/carrot/48a47bd1-b381-440a-ac2d-3abeef3f6a56.jpeg to all_images/48a47bd1-b381-440a-ac2d-3abeef3f6a56.jpeg...\n",
      "[INFO] Connected to Google Storage bucket: food_vision_bucket_with_object_versioning\n"
     ]
    },
    {
     "name": "stderr",
     "output_type": "stream",
     "text": [
      " 79%|███████▉  | 522/658 [23:53<05:47,  2.55s/it]"
     ]
    },
    {
     "name": "stdout",
     "output_type": "stream",
     "text": [
      "[INFO] File food_photos/carrot/48a47bd1-b381-440a-ac2d-3abeef3f6a56.jpeg uploaded to food_vision_bucket_with_object_versioning/all_images/48a47bd1-b381-440a-ac2d-3abeef3f6a56.jpeg.\n",
      "[INFO] File size: 2271876 bytes\n",
      "[INFO] Uploading food_photos/carrot/d9a52328-bca2-4d3e-bcc3-08588e025236.jpeg to all_images/d9a52328-bca2-4d3e-bcc3-08588e025236.jpeg...\n",
      "[INFO] Connected to Google Storage bucket: food_vision_bucket_with_object_versioning\n"
     ]
    },
    {
     "name": "stderr",
     "output_type": "stream",
     "text": [
      " 79%|███████▉  | 523/658 [23:54<05:07,  2.28s/it]"
     ]
    },
    {
     "name": "stdout",
     "output_type": "stream",
     "text": [
      "[INFO] File food_photos/carrot/d9a52328-bca2-4d3e-bcc3-08588e025236.jpeg uploaded to food_vision_bucket_with_object_versioning/all_images/d9a52328-bca2-4d3e-bcc3-08588e025236.jpeg.\n",
      "[INFO] File size: 1226308 bytes\n",
      "[INFO] Uploading food_photos/carrot/1fda94b1-4ccc-4b78-8d6b-1ab7e46c06e0.jpeg to all_images/1fda94b1-4ccc-4b78-8d6b-1ab7e46c06e0.jpeg...\n",
      "[INFO] Connected to Google Storage bucket: food_vision_bucket_with_object_versioning\n"
     ]
    },
    {
     "name": "stderr",
     "output_type": "stream",
     "text": [
      " 80%|███████▉  | 524/658 [23:56<04:34,  2.05s/it]"
     ]
    },
    {
     "name": "stdout",
     "output_type": "stream",
     "text": [
      "[INFO] File food_photos/carrot/1fda94b1-4ccc-4b78-8d6b-1ab7e46c06e0.jpeg uploaded to food_vision_bucket_with_object_versioning/all_images/1fda94b1-4ccc-4b78-8d6b-1ab7e46c06e0.jpeg.\n",
      "[INFO] File size: 1355717 bytes\n",
      "[INFO] Uploading food_photos/carrot/cd4ff8e9-6f14-4017-8123-c587ea9e8a4f.jpeg to all_images/cd4ff8e9-6f14-4017-8123-c587ea9e8a4f.jpeg...\n",
      "[INFO] Connected to Google Storage bucket: food_vision_bucket_with_object_versioning\n"
     ]
    },
    {
     "name": "stderr",
     "output_type": "stream",
     "text": [
      " 80%|███████▉  | 525/658 [23:58<04:17,  1.93s/it]"
     ]
    },
    {
     "name": "stdout",
     "output_type": "stream",
     "text": [
      "[INFO] File food_photos/carrot/cd4ff8e9-6f14-4017-8123-c587ea9e8a4f.jpeg uploaded to food_vision_bucket_with_object_versioning/all_images/cd4ff8e9-6f14-4017-8123-c587ea9e8a4f.jpeg.\n",
      "[INFO] File size: 1267748 bytes\n",
      "[INFO] Uploading food_photos/carrot/215f8dc4-df30-46de-abbe-f19e69eb2f27.jpeg to all_images/215f8dc4-df30-46de-abbe-f19e69eb2f27.jpeg...\n",
      "[INFO] Connected to Google Storage bucket: food_vision_bucket_with_object_versioning\n"
     ]
    },
    {
     "name": "stderr",
     "output_type": "stream",
     "text": [
      " 80%|███████▉  | 526/658 [23:59<03:59,  1.81s/it]"
     ]
    },
    {
     "name": "stdout",
     "output_type": "stream",
     "text": [
      "[INFO] File food_photos/carrot/215f8dc4-df30-46de-abbe-f19e69eb2f27.jpeg uploaded to food_vision_bucket_with_object_versioning/all_images/215f8dc4-df30-46de-abbe-f19e69eb2f27.jpeg.\n",
      "[INFO] File size: 1193693 bytes\n",
      "[INFO] Uploading food_photos/carrot/dae22084-cd35-49c2-b973-0e6946e0ffcc.jpeg to all_images/dae22084-cd35-49c2-b973-0e6946e0ffcc.jpeg...\n",
      "[INFO] Connected to Google Storage bucket: food_vision_bucket_with_object_versioning\n"
     ]
    },
    {
     "name": "stderr",
     "output_type": "stream",
     "text": [
      " 80%|████████  | 527/658 [24:02<04:33,  2.09s/it]"
     ]
    },
    {
     "name": "stdout",
     "output_type": "stream",
     "text": [
      "[INFO] File food_photos/carrot/dae22084-cd35-49c2-b973-0e6946e0ffcc.jpeg uploaded to food_vision_bucket_with_object_versioning/all_images/dae22084-cd35-49c2-b973-0e6946e0ffcc.jpeg.\n",
      "[INFO] File size: 2359938 bytes\n",
      "[INFO] Uploading food_photos/carrot/687f5830-2324-433a-a92e-1de38bb38eab.jpeg to all_images/687f5830-2324-433a-a92e-1de38bb38eab.jpeg...\n",
      "[INFO] Connected to Google Storage bucket: food_vision_bucket_with_object_versioning\n"
     ]
    },
    {
     "name": "stderr",
     "output_type": "stream",
     "text": [
      " 80%|████████  | 528/658 [24:05<05:27,  2.52s/it]"
     ]
    },
    {
     "name": "stdout",
     "output_type": "stream",
     "text": [
      "[INFO] File food_photos/carrot/687f5830-2324-433a-a92e-1de38bb38eab.jpeg uploaded to food_vision_bucket_with_object_versioning/all_images/687f5830-2324-433a-a92e-1de38bb38eab.jpeg.\n",
      "[INFO] File size: 2645984 bytes\n",
      "[INFO] Uploading food_photos/carrot/c7b87f97-9f99-4c65-8a3b-582cafc122d5.jpeg to all_images/c7b87f97-9f99-4c65-8a3b-582cafc122d5.jpeg...\n",
      "[INFO] Connected to Google Storage bucket: food_vision_bucket_with_object_versioning\n"
     ]
    },
    {
     "name": "stderr",
     "output_type": "stream",
     "text": [
      " 80%|████████  | 529/658 [24:07<04:50,  2.25s/it]"
     ]
    },
    {
     "name": "stdout",
     "output_type": "stream",
     "text": [
      "[INFO] File food_photos/carrot/c7b87f97-9f99-4c65-8a3b-582cafc122d5.jpeg uploaded to food_vision_bucket_with_object_versioning/all_images/c7b87f97-9f99-4c65-8a3b-582cafc122d5.jpeg.\n",
      "[INFO] File size: 1971428 bytes\n",
      "[INFO] Uploading food_photos/carrot/41194d64-2b8d-4d2f-bcc9-bd48777d3c50.jpeg to all_images/41194d64-2b8d-4d2f-bcc9-bd48777d3c50.jpeg...\n",
      "[INFO] Connected to Google Storage bucket: food_vision_bucket_with_object_versioning\n"
     ]
    },
    {
     "name": "stderr",
     "output_type": "stream",
     "text": [
      " 81%|████████  | 530/658 [24:08<04:13,  1.98s/it]"
     ]
    },
    {
     "name": "stdout",
     "output_type": "stream",
     "text": [
      "[INFO] File food_photos/carrot/41194d64-2b8d-4d2f-bcc9-bd48777d3c50.jpeg uploaded to food_vision_bucket_with_object_versioning/all_images/41194d64-2b8d-4d2f-bcc9-bd48777d3c50.jpeg.\n",
      "[INFO] File size: 951974 bytes\n",
      "[INFO] Uploading food_photos/carrot/dfbfcaa4-1871-4349-b3fb-fd033f8f22c9.jpeg to all_images/dfbfcaa4-1871-4349-b3fb-fd033f8f22c9.jpeg...\n",
      "[INFO] Connected to Google Storage bucket: food_vision_bucket_with_object_versioning\n"
     ]
    },
    {
     "name": "stderr",
     "output_type": "stream",
     "text": [
      " 81%|████████  | 531/658 [24:10<03:47,  1.79s/it]"
     ]
    },
    {
     "name": "stdout",
     "output_type": "stream",
     "text": [
      "[INFO] File food_photos/carrot/dfbfcaa4-1871-4349-b3fb-fd033f8f22c9.jpeg uploaded to food_vision_bucket_with_object_versioning/all_images/dfbfcaa4-1871-4349-b3fb-fd033f8f22c9.jpeg.\n",
      "[INFO] File size: 957689 bytes\n",
      "[INFO] Uploading food_photos/carrot/3abcb261-d1e0-4eff-9a9f-3df0678065cc.jpeg to all_images/3abcb261-d1e0-4eff-9a9f-3df0678065cc.jpeg...\n",
      "[INFO] Connected to Google Storage bucket: food_vision_bucket_with_object_versioning\n"
     ]
    },
    {
     "name": "stderr",
     "output_type": "stream",
     "text": [
      " 81%|████████  | 532/658 [24:13<04:44,  2.26s/it]"
     ]
    },
    {
     "name": "stdout",
     "output_type": "stream",
     "text": [
      "[INFO] File food_photos/carrot/3abcb261-d1e0-4eff-9a9f-3df0678065cc.jpeg uploaded to food_vision_bucket_with_object_versioning/all_images/3abcb261-d1e0-4eff-9a9f-3df0678065cc.jpeg.\n",
      "[INFO] File size: 2885397 bytes\n",
      "[INFO] Uploading food_photos/carrot/b670ce67-ef1b-4028-98e3-1e2255f2431f.jpeg to all_images/b670ce67-ef1b-4028-98e3-1e2255f2431f.jpeg...\n",
      "[INFO] Connected to Google Storage bucket: food_vision_bucket_with_object_versioning\n"
     ]
    },
    {
     "name": "stderr",
     "output_type": "stream",
     "text": [
      " 81%|████████  | 533/658 [24:15<04:27,  2.14s/it]"
     ]
    },
    {
     "name": "stdout",
     "output_type": "stream",
     "text": [
      "[INFO] File food_photos/carrot/b670ce67-ef1b-4028-98e3-1e2255f2431f.jpeg uploaded to food_vision_bucket_with_object_versioning/all_images/b670ce67-ef1b-4028-98e3-1e2255f2431f.jpeg.\n",
      "[INFO] File size: 2059921 bytes\n",
      "[INFO] Uploading food_photos/carrot/cb9f132a-4772-4de2-bb59-00df930374fc.jpeg to all_images/cb9f132a-4772-4de2-bb59-00df930374fc.jpeg...\n",
      "[INFO] Connected to Google Storage bucket: food_vision_bucket_with_object_versioning\n"
     ]
    },
    {
     "name": "stderr",
     "output_type": "stream",
     "text": [
      " 81%|████████  | 534/658 [24:17<04:06,  1.98s/it]"
     ]
    },
    {
     "name": "stdout",
     "output_type": "stream",
     "text": [
      "[INFO] File food_photos/carrot/cb9f132a-4772-4de2-bb59-00df930374fc.jpeg uploaded to food_vision_bucket_with_object_versioning/all_images/cb9f132a-4772-4de2-bb59-00df930374fc.jpeg.\n",
      "[INFO] File size: 1753532 bytes\n",
      "[INFO] Uploading food_photos/carrot/74a2f3d1-4c66-4cda-8c73-fba0da488bf2.jpeg to all_images/74a2f3d1-4c66-4cda-8c73-fba0da488bf2.jpeg...\n",
      "[INFO] Connected to Google Storage bucket: food_vision_bucket_with_object_versioning\n"
     ]
    },
    {
     "name": "stderr",
     "output_type": "stream",
     "text": [
      " 81%|████████▏ | 535/658 [24:18<03:51,  1.88s/it]"
     ]
    },
    {
     "name": "stdout",
     "output_type": "stream",
     "text": [
      "[INFO] File food_photos/carrot/74a2f3d1-4c66-4cda-8c73-fba0da488bf2.jpeg uploaded to food_vision_bucket_with_object_versioning/all_images/74a2f3d1-4c66-4cda-8c73-fba0da488bf2.jpeg.\n",
      "[INFO] File size: 1858813 bytes\n",
      "[INFO] Uploading food_photos/carrot/c396ea91-6602-4531-98e0-acc8727e5a20.jpeg to all_images/c396ea91-6602-4531-98e0-acc8727e5a20.jpeg...\n",
      "[INFO] Connected to Google Storage bucket: food_vision_bucket_with_object_versioning\n"
     ]
    },
    {
     "name": "stderr",
     "output_type": "stream",
     "text": [
      " 81%|████████▏ | 536/658 [24:21<04:36,  2.27s/it]"
     ]
    },
    {
     "name": "stdout",
     "output_type": "stream",
     "text": [
      "[INFO] File food_photos/carrot/c396ea91-6602-4531-98e0-acc8727e5a20.jpeg uploaded to food_vision_bucket_with_object_versioning/all_images/c396ea91-6602-4531-98e0-acc8727e5a20.jpeg.\n",
      "[INFO] File size: 2188690 bytes\n",
      "[INFO] Uploading food_photos/carrot/68105e61-e05f-44bc-90e4-c4f6edbe1ebd.jpeg to all_images/68105e61-e05f-44bc-90e4-c4f6edbe1ebd.jpeg...\n",
      "[INFO] Connected to Google Storage bucket: food_vision_bucket_with_object_versioning\n"
     ]
    },
    {
     "name": "stderr",
     "output_type": "stream",
     "text": [
      " 82%|████████▏ | 537/658 [24:24<04:57,  2.46s/it]"
     ]
    },
    {
     "name": "stdout",
     "output_type": "stream",
     "text": [
      "[INFO] File food_photos/carrot/68105e61-e05f-44bc-90e4-c4f6edbe1ebd.jpeg uploaded to food_vision_bucket_with_object_versioning/all_images/68105e61-e05f-44bc-90e4-c4f6edbe1ebd.jpeg.\n",
      "[INFO] File size: 2235994 bytes\n",
      "[INFO] Uploading food_photos/carrot/6656b0ec-1243-4916-86fd-f313aa386db9.jpeg to all_images/6656b0ec-1243-4916-86fd-f313aa386db9.jpeg...\n",
      "[INFO] Connected to Google Storage bucket: food_vision_bucket_with_object_versioning\n"
     ]
    },
    {
     "name": "stderr",
     "output_type": "stream",
     "text": [
      " 82%|████████▏ | 538/658 [24:26<04:17,  2.15s/it]"
     ]
    },
    {
     "name": "stdout",
     "output_type": "stream",
     "text": [
      "[INFO] File food_photos/carrot/6656b0ec-1243-4916-86fd-f313aa386db9.jpeg uploaded to food_vision_bucket_with_object_versioning/all_images/6656b0ec-1243-4916-86fd-f313aa386db9.jpeg.\n",
      "[INFO] File size: 1181977 bytes\n",
      "[INFO] Uploading food_photos/carrot/73f37b9a-903b-42f6-a8d9-ca4ab23882b9.jpeg to all_images/73f37b9a-903b-42f6-a8d9-ca4ab23882b9.jpeg...\n",
      "[INFO] Connected to Google Storage bucket: food_vision_bucket_with_object_versioning\n"
     ]
    },
    {
     "name": "stderr",
     "output_type": "stream",
     "text": [
      " 82%|████████▏ | 539/658 [24:28<04:26,  2.24s/it]"
     ]
    },
    {
     "name": "stdout",
     "output_type": "stream",
     "text": [
      "[INFO] File food_photos/carrot/73f37b9a-903b-42f6-a8d9-ca4ab23882b9.jpeg uploaded to food_vision_bucket_with_object_versioning/all_images/73f37b9a-903b-42f6-a8d9-ca4ab23882b9.jpeg.\n",
      "[INFO] File size: 1882654 bytes\n",
      "[INFO] Uploading food_photos/carrot/b659f10f-1a18-4da0-a9e3-4913b31a4a28.jpeg to all_images/b659f10f-1a18-4da0-a9e3-4913b31a4a28.jpeg...\n",
      "[INFO] Connected to Google Storage bucket: food_vision_bucket_with_object_versioning\n"
     ]
    },
    {
     "name": "stderr",
     "output_type": "stream",
     "text": [
      " 82%|████████▏ | 540/658 [24:30<03:55,  1.99s/it]"
     ]
    },
    {
     "name": "stdout",
     "output_type": "stream",
     "text": [
      "[INFO] File food_photos/carrot/b659f10f-1a18-4da0-a9e3-4913b31a4a28.jpeg uploaded to food_vision_bucket_with_object_versioning/all_images/b659f10f-1a18-4da0-a9e3-4913b31a4a28.jpeg.\n",
      "[INFO] File size: 1108072 bytes\n",
      "[INFO] Uploading food_photos/carrot/9895a0b0-39d5-4d6b-a45c-96100374ae89.jpeg to all_images/9895a0b0-39d5-4d6b-a45c-96100374ae89.jpeg...\n",
      "[INFO] Connected to Google Storage bucket: food_vision_bucket_with_object_versioning\n"
     ]
    },
    {
     "name": "stderr",
     "output_type": "stream",
     "text": [
      " 82%|████████▏ | 541/658 [24:31<03:48,  1.95s/it]"
     ]
    },
    {
     "name": "stdout",
     "output_type": "stream",
     "text": [
      "[INFO] File food_photos/carrot/9895a0b0-39d5-4d6b-a45c-96100374ae89.jpeg uploaded to food_vision_bucket_with_object_versioning/all_images/9895a0b0-39d5-4d6b-a45c-96100374ae89.jpeg.\n",
      "[INFO] File size: 1947458 bytes\n",
      "[INFO] Uploading food_photos/carrot/80063c83-faa8-4c9d-b7a0-2534c6e37464.jpeg to all_images/80063c83-faa8-4c9d-b7a0-2534c6e37464.jpeg...\n",
      "[INFO] Connected to Google Storage bucket: food_vision_bucket_with_object_versioning\n"
     ]
    },
    {
     "name": "stderr",
     "output_type": "stream",
     "text": [
      " 82%|████████▏ | 542/658 [24:34<04:06,  2.12s/it]"
     ]
    },
    {
     "name": "stdout",
     "output_type": "stream",
     "text": [
      "[INFO] File food_photos/carrot/80063c83-faa8-4c9d-b7a0-2534c6e37464.jpeg uploaded to food_vision_bucket_with_object_versioning/all_images/80063c83-faa8-4c9d-b7a0-2534c6e37464.jpeg.\n",
      "[INFO] File size: 1203848 bytes\n",
      "[INFO] Uploading food_photos/carrot/5e3a967f-e96f-4d2c-afd4-d63feec9ed55.jpeg to all_images/5e3a967f-e96f-4d2c-afd4-d63feec9ed55.jpeg...\n",
      "[INFO] Connected to Google Storage bucket: food_vision_bucket_with_object_versioning\n"
     ]
    },
    {
     "name": "stderr",
     "output_type": "stream",
     "text": [
      " 83%|████████▎ | 543/658 [24:36<03:51,  2.01s/it]"
     ]
    },
    {
     "name": "stdout",
     "output_type": "stream",
     "text": [
      "[INFO] File food_photos/carrot/5e3a967f-e96f-4d2c-afd4-d63feec9ed55.jpeg uploaded to food_vision_bucket_with_object_versioning/all_images/5e3a967f-e96f-4d2c-afd4-d63feec9ed55.jpeg.\n",
      "[INFO] File size: 1503520 bytes\n",
      "[INFO] Uploading food_photos/carrot/47fb7202-ea80-4e63-9cdf-93a622b55b29.jpeg to all_images/47fb7202-ea80-4e63-9cdf-93a622b55b29.jpeg...\n",
      "[INFO] Connected to Google Storage bucket: food_vision_bucket_with_object_versioning\n"
     ]
    },
    {
     "name": "stderr",
     "output_type": "stream",
     "text": [
      " 83%|████████▎ | 544/658 [24:39<04:19,  2.27s/it]"
     ]
    },
    {
     "name": "stdout",
     "output_type": "stream",
     "text": [
      "[INFO] File food_photos/carrot/47fb7202-ea80-4e63-9cdf-93a622b55b29.jpeg uploaded to food_vision_bucket_with_object_versioning/all_images/47fb7202-ea80-4e63-9cdf-93a622b55b29.jpeg.\n",
      "[INFO] File size: 2523055 bytes\n",
      "[INFO] Uploading food_photos/carrot/ac988050-c756-466e-b08b-34efad871ea4.jpeg to all_images/ac988050-c756-466e-b08b-34efad871ea4.jpeg...\n",
      "[INFO] Connected to Google Storage bucket: food_vision_bucket_with_object_versioning\n"
     ]
    },
    {
     "name": "stderr",
     "output_type": "stream",
     "text": [
      " 83%|████████▎ | 545/658 [24:42<04:54,  2.61s/it]"
     ]
    },
    {
     "name": "stdout",
     "output_type": "stream",
     "text": [
      "[INFO] File food_photos/carrot/ac988050-c756-466e-b08b-34efad871ea4.jpeg uploaded to food_vision_bucket_with_object_versioning/all_images/ac988050-c756-466e-b08b-34efad871ea4.jpeg.\n",
      "[INFO] File size: 2604558 bytes\n",
      "[INFO] Uploading food_photos/carrot/6d6cb3a2-59dc-47bd-820d-e6ccdcaf29bc.jpeg to all_images/6d6cb3a2-59dc-47bd-820d-e6ccdcaf29bc.jpeg...\n",
      "[INFO] Connected to Google Storage bucket: food_vision_bucket_with_object_versioning\n"
     ]
    },
    {
     "name": "stderr",
     "output_type": "stream",
     "text": [
      " 83%|████████▎ | 546/658 [24:46<05:28,  2.93s/it]"
     ]
    },
    {
     "name": "stdout",
     "output_type": "stream",
     "text": [
      "[INFO] File food_photos/carrot/6d6cb3a2-59dc-47bd-820d-e6ccdcaf29bc.jpeg uploaded to food_vision_bucket_with_object_versioning/all_images/6d6cb3a2-59dc-47bd-820d-e6ccdcaf29bc.jpeg.\n",
      "[INFO] File size: 2503927 bytes\n",
      "[INFO] Uploading food_photos/carrot/3d7dfa7a-a6c9-49e8-bb4f-880a5da2f719.jpeg to all_images/3d7dfa7a-a6c9-49e8-bb4f-880a5da2f719.jpeg...\n",
      "[INFO] Connected to Google Storage bucket: food_vision_bucket_with_object_versioning\n"
     ]
    },
    {
     "name": "stderr",
     "output_type": "stream",
     "text": [
      " 83%|████████▎ | 547/658 [24:49<05:33,  3.00s/it]"
     ]
    },
    {
     "name": "stdout",
     "output_type": "stream",
     "text": [
      "[INFO] File food_photos/carrot/3d7dfa7a-a6c9-49e8-bb4f-880a5da2f719.jpeg uploaded to food_vision_bucket_with_object_versioning/all_images/3d7dfa7a-a6c9-49e8-bb4f-880a5da2f719.jpeg.\n",
      "[INFO] File size: 2338712 bytes\n",
      "[INFO] Uploading food_photos/carrot/8b454236-1389-419a-b6e5-14feaaed9e13.jpeg to all_images/8b454236-1389-419a-b6e5-14feaaed9e13.jpeg...\n",
      "[INFO] Connected to Google Storage bucket: food_vision_bucket_with_object_versioning\n"
     ]
    },
    {
     "name": "stderr",
     "output_type": "stream",
     "text": [
      " 83%|████████▎ | 548/658 [24:50<04:42,  2.57s/it]"
     ]
    },
    {
     "name": "stdout",
     "output_type": "stream",
     "text": [
      "[INFO] File food_photos/carrot/8b454236-1389-419a-b6e5-14feaaed9e13.jpeg uploaded to food_vision_bucket_with_object_versioning/all_images/8b454236-1389-419a-b6e5-14feaaed9e13.jpeg.\n",
      "[INFO] File size: 1061193 bytes\n",
      "[INFO] Uploading food_photos/carrot/315b4324-2148-42a9-adc4-d563a87155bd.jpeg to all_images/315b4324-2148-42a9-adc4-d563a87155bd.jpeg...\n",
      "[INFO] Connected to Google Storage bucket: food_vision_bucket_with_object_versioning\n"
     ]
    },
    {
     "name": "stderr",
     "output_type": "stream",
     "text": [
      " 83%|████████▎ | 549/658 [24:52<04:12,  2.31s/it]"
     ]
    },
    {
     "name": "stdout",
     "output_type": "stream",
     "text": [
      "[INFO] File food_photos/carrot/315b4324-2148-42a9-adc4-d563a87155bd.jpeg uploaded to food_vision_bucket_with_object_versioning/all_images/315b4324-2148-42a9-adc4-d563a87155bd.jpeg.\n",
      "[INFO] File size: 1910236 bytes\n",
      "[INFO] Uploading food_photos/carrot/4cdb84c7-ee69-46f8-b042-ef3c93d70708.jpeg to all_images/4cdb84c7-ee69-46f8-b042-ef3c93d70708.jpeg...\n",
      "[INFO] Connected to Google Storage bucket: food_vision_bucket_with_object_versioning\n"
     ]
    },
    {
     "name": "stderr",
     "output_type": "stream",
     "text": [
      " 84%|████████▎ | 550/658 [24:54<03:54,  2.17s/it]"
     ]
    },
    {
     "name": "stdout",
     "output_type": "stream",
     "text": [
      "[INFO] File food_photos/carrot/4cdb84c7-ee69-46f8-b042-ef3c93d70708.jpeg uploaded to food_vision_bucket_with_object_versioning/all_images/4cdb84c7-ee69-46f8-b042-ef3c93d70708.jpeg.\n",
      "[INFO] File size: 1808254 bytes\n",
      "[INFO] Uploading food_photos/carrot/4d566015-dbdf-4104-918b-f77c67b1aab7.jpeg to all_images/4d566015-dbdf-4104-918b-f77c67b1aab7.jpeg...\n",
      "[INFO] Connected to Google Storage bucket: food_vision_bucket_with_object_versioning\n"
     ]
    },
    {
     "name": "stderr",
     "output_type": "stream",
     "text": [
      " 84%|████████▎ | 551/658 [24:56<03:54,  2.20s/it]"
     ]
    },
    {
     "name": "stdout",
     "output_type": "stream",
     "text": [
      "[INFO] File food_photos/carrot/4d566015-dbdf-4104-918b-f77c67b1aab7.jpeg uploaded to food_vision_bucket_with_object_versioning/all_images/4d566015-dbdf-4104-918b-f77c67b1aab7.jpeg.\n",
      "[INFO] File size: 1259412 bytes\n",
      "[INFO] Uploading food_photos/carrot/13cb7f79-4188-48d4-a5cb-35f2e5d2d3b4.jpeg to all_images/13cb7f79-4188-48d4-a5cb-35f2e5d2d3b4.jpeg...\n",
      "[INFO] Connected to Google Storage bucket: food_vision_bucket_with_object_versioning\n"
     ]
    },
    {
     "name": "stderr",
     "output_type": "stream",
     "text": [
      " 84%|████████▍ | 552/658 [24:59<04:04,  2.31s/it]"
     ]
    },
    {
     "name": "stdout",
     "output_type": "stream",
     "text": [
      "[INFO] File food_photos/carrot/13cb7f79-4188-48d4-a5cb-35f2e5d2d3b4.jpeg uploaded to food_vision_bucket_with_object_versioning/all_images/13cb7f79-4188-48d4-a5cb-35f2e5d2d3b4.jpeg.\n",
      "[INFO] File size: 1938328 bytes\n",
      "[INFO] Uploading food_photos/carrot/881c9499-8e21-4cbe-8035-526a56c7f383.jpeg to all_images/881c9499-8e21-4cbe-8035-526a56c7f383.jpeg...\n",
      "[INFO] Connected to Google Storage bucket: food_vision_bucket_with_object_versioning\n"
     ]
    },
    {
     "name": "stderr",
     "output_type": "stream",
     "text": [
      " 84%|████████▍ | 553/658 [25:01<04:06,  2.34s/it]"
     ]
    },
    {
     "name": "stdout",
     "output_type": "stream",
     "text": [
      "[INFO] File food_photos/carrot/881c9499-8e21-4cbe-8035-526a56c7f383.jpeg uploaded to food_vision_bucket_with_object_versioning/all_images/881c9499-8e21-4cbe-8035-526a56c7f383.jpeg.\n",
      "[INFO] File size: 1820914 bytes\n",
      "[INFO] Uploading food_photos/carrot/bda6dae0-cb95-408b-9b60-eccee6dae23a.jpeg to all_images/bda6dae0-cb95-408b-9b60-eccee6dae23a.jpeg...\n",
      "[INFO] Connected to Google Storage bucket: food_vision_bucket_with_object_versioning\n"
     ]
    },
    {
     "name": "stderr",
     "output_type": "stream",
     "text": [
      " 84%|████████▍ | 554/658 [25:05<04:45,  2.74s/it]"
     ]
    },
    {
     "name": "stdout",
     "output_type": "stream",
     "text": [
      "[INFO] File food_photos/carrot/bda6dae0-cb95-408b-9b60-eccee6dae23a.jpeg uploaded to food_vision_bucket_with_object_versioning/all_images/bda6dae0-cb95-408b-9b60-eccee6dae23a.jpeg.\n",
      "[INFO] File size: 2525974 bytes\n",
      "[INFO] Uploading food_photos/carrot/09aa760b-560f-4a32-a5c5-b8dc3562ea8a.jpeg to all_images/09aa760b-560f-4a32-a5c5-b8dc3562ea8a.jpeg...\n",
      "[INFO] Connected to Google Storage bucket: food_vision_bucket_with_object_versioning\n"
     ]
    },
    {
     "name": "stderr",
     "output_type": "stream",
     "text": [
      " 84%|████████▍ | 555/658 [25:09<05:18,  3.09s/it]"
     ]
    },
    {
     "name": "stdout",
     "output_type": "stream",
     "text": [
      "[INFO] File food_photos/carrot/09aa760b-560f-4a32-a5c5-b8dc3562ea8a.jpeg uploaded to food_vision_bucket_with_object_versioning/all_images/09aa760b-560f-4a32-a5c5-b8dc3562ea8a.jpeg.\n",
      "[INFO] File size: 2479932 bytes\n",
      "[INFO] Uploading food_photos/carrot/cd2ea854-5227-486c-b27a-bdb3349b3ce5.jpeg to all_images/cd2ea854-5227-486c-b27a-bdb3349b3ce5.jpeg...\n",
      "[INFO] Connected to Google Storage bucket: food_vision_bucket_with_object_versioning\n"
     ]
    },
    {
     "name": "stderr",
     "output_type": "stream",
     "text": [
      " 84%|████████▍ | 556/658 [25:11<04:34,  2.69s/it]"
     ]
    },
    {
     "name": "stdout",
     "output_type": "stream",
     "text": [
      "[INFO] File food_photos/carrot/cd2ea854-5227-486c-b27a-bdb3349b3ce5.jpeg uploaded to food_vision_bucket_with_object_versioning/all_images/cd2ea854-5227-486c-b27a-bdb3349b3ce5.jpeg.\n",
      "[INFO] File size: 1083342 bytes\n",
      "[INFO] Uploading food_photos/carrot/005f73a9-24af-4e5d-8912-4e7157c6fdeb.jpeg to all_images/005f73a9-24af-4e5d-8912-4e7157c6fdeb.jpeg...\n",
      "[INFO] Connected to Google Storage bucket: food_vision_bucket_with_object_versioning\n"
     ]
    },
    {
     "name": "stderr",
     "output_type": "stream",
     "text": [
      " 85%|████████▍ | 557/658 [25:14<04:46,  2.84s/it]"
     ]
    },
    {
     "name": "stdout",
     "output_type": "stream",
     "text": [
      "[INFO] File food_photos/carrot/005f73a9-24af-4e5d-8912-4e7157c6fdeb.jpeg uploaded to food_vision_bucket_with_object_versioning/all_images/005f73a9-24af-4e5d-8912-4e7157c6fdeb.jpeg.\n",
      "[INFO] File size: 2571795 bytes\n",
      "[INFO] Uploading food_photos/carrot/3f3107eb-51f2-40d0-b231-94794d7112bb.jpeg to all_images/3f3107eb-51f2-40d0-b231-94794d7112bb.jpeg...\n",
      "[INFO] Connected to Google Storage bucket: food_vision_bucket_with_object_versioning\n"
     ]
    },
    {
     "name": "stderr",
     "output_type": "stream",
     "text": [
      " 85%|████████▍ | 558/658 [25:15<04:07,  2.48s/it]"
     ]
    },
    {
     "name": "stdout",
     "output_type": "stream",
     "text": [
      "[INFO] File food_photos/carrot/3f3107eb-51f2-40d0-b231-94794d7112bb.jpeg uploaded to food_vision_bucket_with_object_versioning/all_images/3f3107eb-51f2-40d0-b231-94794d7112bb.jpeg.\n",
      "[INFO] File size: 1459073 bytes\n",
      "[INFO] Uploading food_photos/carrot/48ea858d-304b-4d2a-b747-2ec391f9e437.jpeg to all_images/48ea858d-304b-4d2a-b747-2ec391f9e437.jpeg...\n",
      "[INFO] Connected to Google Storage bucket: food_vision_bucket_with_object_versioning\n"
     ]
    },
    {
     "name": "stderr",
     "output_type": "stream",
     "text": [
      " 85%|████████▍ | 559/658 [25:19<04:51,  2.94s/it]"
     ]
    },
    {
     "name": "stdout",
     "output_type": "stream",
     "text": [
      "[INFO] File food_photos/carrot/48ea858d-304b-4d2a-b747-2ec391f9e437.jpeg uploaded to food_vision_bucket_with_object_versioning/all_images/48ea858d-304b-4d2a-b747-2ec391f9e437.jpeg.\n",
      "[INFO] File size: 2633012 bytes\n",
      "[INFO] Uploading food_photos/carrot/bde26d59-375c-497a-a4d6-345976338d46.jpeg to all_images/bde26d59-375c-497a-a4d6-345976338d46.jpeg...\n",
      "[INFO] Connected to Google Storage bucket: food_vision_bucket_with_object_versioning\n"
     ]
    },
    {
     "name": "stderr",
     "output_type": "stream",
     "text": [
      " 85%|████████▌ | 560/658 [25:21<04:06,  2.52s/it]"
     ]
    },
    {
     "name": "stdout",
     "output_type": "stream",
     "text": [
      "[INFO] File food_photos/carrot/bde26d59-375c-497a-a4d6-345976338d46.jpeg uploaded to food_vision_bucket_with_object_versioning/all_images/bde26d59-375c-497a-a4d6-345976338d46.jpeg.\n",
      "[INFO] File size: 1197483 bytes\n",
      "[INFO] Uploading food_photos/carrot/e7f10cc8-0191-4e88-a1da-240f54dd7597.jpeg to all_images/e7f10cc8-0191-4e88-a1da-240f54dd7597.jpeg...\n",
      "[INFO] Connected to Google Storage bucket: food_vision_bucket_with_object_versioning\n"
     ]
    },
    {
     "name": "stderr",
     "output_type": "stream",
     "text": [
      " 85%|████████▌ | 561/658 [25:23<03:43,  2.31s/it]"
     ]
    },
    {
     "name": "stdout",
     "output_type": "stream",
     "text": [
      "[INFO] File food_photos/carrot/e7f10cc8-0191-4e88-a1da-240f54dd7597.jpeg uploaded to food_vision_bucket_with_object_versioning/all_images/e7f10cc8-0191-4e88-a1da-240f54dd7597.jpeg.\n",
      "[INFO] File size: 1209829 bytes\n",
      "[INFO] Uploading food_photos/carrot/e779812c-d936-4eba-b211-934c5a533810.jpeg to all_images/e779812c-d936-4eba-b211-934c5a533810.jpeg...\n",
      "[INFO] Connected to Google Storage bucket: food_vision_bucket_with_object_versioning\n"
     ]
    },
    {
     "name": "stderr",
     "output_type": "stream",
     "text": [
      " 85%|████████▌ | 562/658 [25:25<03:30,  2.20s/it]"
     ]
    },
    {
     "name": "stdout",
     "output_type": "stream",
     "text": [
      "[INFO] File food_photos/carrot/e779812c-d936-4eba-b211-934c5a533810.jpeg uploaded to food_vision_bucket_with_object_versioning/all_images/e779812c-d936-4eba-b211-934c5a533810.jpeg.\n",
      "[INFO] File size: 2002242 bytes\n",
      "[INFO] Uploading food_photos/carrot/924b8fa6-13b6-42d6-90d5-11858e3d31e5.jpeg to all_images/924b8fa6-13b6-42d6-90d5-11858e3d31e5.jpeg...\n",
      "[INFO] Connected to Google Storage bucket: food_vision_bucket_with_object_versioning\n"
     ]
    },
    {
     "name": "stderr",
     "output_type": "stream",
     "text": [
      " 86%|████████▌ | 563/658 [25:27<03:29,  2.21s/it]"
     ]
    },
    {
     "name": "stdout",
     "output_type": "stream",
     "text": [
      "[INFO] File food_photos/carrot/924b8fa6-13b6-42d6-90d5-11858e3d31e5.jpeg uploaded to food_vision_bucket_with_object_versioning/all_images/924b8fa6-13b6-42d6-90d5-11858e3d31e5.jpeg.\n",
      "[INFO] File size: 1936481 bytes\n",
      "[INFO] Uploading food_photos/carrot/41aee743-a001-4600-b0e0-f627672de4ee.jpeg to all_images/41aee743-a001-4600-b0e0-f627672de4ee.jpeg...\n",
      "[INFO] Connected to Google Storage bucket: food_vision_bucket_with_object_versioning\n"
     ]
    },
    {
     "name": "stderr",
     "output_type": "stream",
     "text": [
      " 86%|████████▌ | 564/658 [25:30<03:56,  2.51s/it]"
     ]
    },
    {
     "name": "stdout",
     "output_type": "stream",
     "text": [
      "[INFO] File food_photos/carrot/41aee743-a001-4600-b0e0-f627672de4ee.jpeg uploaded to food_vision_bucket_with_object_versioning/all_images/41aee743-a001-4600-b0e0-f627672de4ee.jpeg.\n",
      "[INFO] File size: 2617793 bytes\n",
      "[INFO] Uploading food_photos/carrot/155c896f-f458-4341-a770-9a3f1b0ea92c.jpeg to all_images/155c896f-f458-4341-a770-9a3f1b0ea92c.jpeg...\n",
      "[INFO] Connected to Google Storage bucket: food_vision_bucket_with_object_versioning\n"
     ]
    },
    {
     "name": "stderr",
     "output_type": "stream",
     "text": [
      " 86%|████████▌ | 565/658 [25:34<04:29,  2.90s/it]"
     ]
    },
    {
     "name": "stdout",
     "output_type": "stream",
     "text": [
      "[INFO] File food_photos/carrot/155c896f-f458-4341-a770-9a3f1b0ea92c.jpeg uploaded to food_vision_bucket_with_object_versioning/all_images/155c896f-f458-4341-a770-9a3f1b0ea92c.jpeg.\n",
      "[INFO] File size: 2523499 bytes\n",
      "[INFO] Uploading food_photos/carrot/3847355a-4dc7-49c7-91c1-ba8c6c98e008.jpeg to all_images/3847355a-4dc7-49c7-91c1-ba8c6c98e008.jpeg...\n",
      "[INFO] Connected to Google Storage bucket: food_vision_bucket_with_object_versioning\n"
     ]
    },
    {
     "name": "stderr",
     "output_type": "stream",
     "text": [
      " 86%|████████▌ | 566/658 [25:36<03:59,  2.60s/it]"
     ]
    },
    {
     "name": "stdout",
     "output_type": "stream",
     "text": [
      "[INFO] File food_photos/carrot/3847355a-4dc7-49c7-91c1-ba8c6c98e008.jpeg uploaded to food_vision_bucket_with_object_versioning/all_images/3847355a-4dc7-49c7-91c1-ba8c6c98e008.jpeg.\n",
      "[INFO] File size: 1132882 bytes\n",
      "[INFO] Uploading food_photos/carrot/eadcf5b2-6f6e-4d9b-b000-9f4f03ee6d72.jpeg to all_images/eadcf5b2-6f6e-4d9b-b000-9f4f03ee6d72.jpeg...\n",
      "[INFO] Connected to Google Storage bucket: food_vision_bucket_with_object_versioning\n"
     ]
    },
    {
     "name": "stderr",
     "output_type": "stream",
     "text": [
      " 86%|████████▌ | 567/658 [25:38<03:34,  2.36s/it]"
     ]
    },
    {
     "name": "stdout",
     "output_type": "stream",
     "text": [
      "[INFO] File food_photos/carrot/eadcf5b2-6f6e-4d9b-b000-9f4f03ee6d72.jpeg uploaded to food_vision_bucket_with_object_versioning/all_images/eadcf5b2-6f6e-4d9b-b000-9f4f03ee6d72.jpeg.\n",
      "[INFO] File size: 1968333 bytes\n",
      "[INFO] Uploading food_photos/carrot/05de618f-d3f7-4048-ae02-aa36af428c51.jpeg to all_images/05de618f-d3f7-4048-ae02-aa36af428c51.jpeg...\n",
      "[INFO] Connected to Google Storage bucket: food_vision_bucket_with_object_versioning\n"
     ]
    },
    {
     "name": "stderr",
     "output_type": "stream",
     "text": [
      " 86%|████████▋ | 568/658 [25:41<03:49,  2.55s/it]"
     ]
    },
    {
     "name": "stdout",
     "output_type": "stream",
     "text": [
      "[INFO] File food_photos/carrot/05de618f-d3f7-4048-ae02-aa36af428c51.jpeg uploaded to food_vision_bucket_with_object_versioning/all_images/05de618f-d3f7-4048-ae02-aa36af428c51.jpeg.\n",
      "[INFO] File size: 2434949 bytes\n",
      "[INFO] Uploading food_photos/carrot/2b4b077b-787b-4b99-8c9a-5cb84ca1eb97.jpeg to all_images/2b4b077b-787b-4b99-8c9a-5cb84ca1eb97.jpeg...\n",
      "[INFO] Connected to Google Storage bucket: food_vision_bucket_with_object_versioning\n"
     ]
    },
    {
     "name": "stderr",
     "output_type": "stream",
     "text": [
      " 86%|████████▋ | 569/658 [25:43<03:50,  2.59s/it]"
     ]
    },
    {
     "name": "stdout",
     "output_type": "stream",
     "text": [
      "[INFO] File food_photos/carrot/2b4b077b-787b-4b99-8c9a-5cb84ca1eb97.jpeg uploaded to food_vision_bucket_with_object_versioning/all_images/2b4b077b-787b-4b99-8c9a-5cb84ca1eb97.jpeg.\n",
      "[INFO] File size: 1485993 bytes\n",
      "[INFO] Uploading food_photos/carrot/e731235d-a45d-4e8a-8e1f-49ed421b96b9.jpeg to all_images/e731235d-a45d-4e8a-8e1f-49ed421b96b9.jpeg...\n",
      "[INFO] Connected to Google Storage bucket: food_vision_bucket_with_object_versioning\n"
     ]
    },
    {
     "name": "stderr",
     "output_type": "stream",
     "text": [
      " 87%|████████▋ | 570/658 [25:45<03:21,  2.28s/it]"
     ]
    },
    {
     "name": "stdout",
     "output_type": "stream",
     "text": [
      "[INFO] File food_photos/carrot/e731235d-a45d-4e8a-8e1f-49ed421b96b9.jpeg uploaded to food_vision_bucket_with_object_versioning/all_images/e731235d-a45d-4e8a-8e1f-49ed421b96b9.jpeg.\n",
      "[INFO] File size: 1291685 bytes\n",
      "[INFO] Uploading food_photos/carrot/08d55eea-959d-408c-afe5-2e300618b74a.jpeg to all_images/08d55eea-959d-408c-afe5-2e300618b74a.jpeg...\n",
      "[INFO] Connected to Google Storage bucket: food_vision_bucket_with_object_versioning\n"
     ]
    },
    {
     "name": "stderr",
     "output_type": "stream",
     "text": [
      " 87%|████████▋ | 571/658 [25:48<03:41,  2.54s/it]"
     ]
    },
    {
     "name": "stdout",
     "output_type": "stream",
     "text": [
      "[INFO] File food_photos/carrot/08d55eea-959d-408c-afe5-2e300618b74a.jpeg uploaded to food_vision_bucket_with_object_versioning/all_images/08d55eea-959d-408c-afe5-2e300618b74a.jpeg.\n",
      "[INFO] File size: 1894319 bytes\n",
      "[INFO] Uploading food_photos/carrot/a1d1ae7e-989a-4c9b-bde9-cdd636a63b33.jpeg to all_images/a1d1ae7e-989a-4c9b-bde9-cdd636a63b33.jpeg...\n",
      "[INFO] Connected to Google Storage bucket: food_vision_bucket_with_object_versioning\n"
     ]
    },
    {
     "name": "stderr",
     "output_type": "stream",
     "text": [
      " 87%|████████▋ | 572/658 [25:50<03:19,  2.33s/it]"
     ]
    },
    {
     "name": "stdout",
     "output_type": "stream",
     "text": [
      "[INFO] File food_photos/carrot/a1d1ae7e-989a-4c9b-bde9-cdd636a63b33.jpeg uploaded to food_vision_bucket_with_object_versioning/all_images/a1d1ae7e-989a-4c9b-bde9-cdd636a63b33.jpeg.\n",
      "[INFO] File size: 2004000 bytes\n",
      "[INFO] Uploading food_photos/carrot/fee39cb1-0971-4254-9f7a-58b520837ae5.jpeg to all_images/fee39cb1-0971-4254-9f7a-58b520837ae5.jpeg...\n",
      "[INFO] Connected to Google Storage bucket: food_vision_bucket_with_object_versioning\n"
     ]
    },
    {
     "name": "stderr",
     "output_type": "stream",
     "text": [
      " 87%|████████▋ | 573/658 [25:52<03:00,  2.12s/it]"
     ]
    },
    {
     "name": "stdout",
     "output_type": "stream",
     "text": [
      "[INFO] File food_photos/carrot/fee39cb1-0971-4254-9f7a-58b520837ae5.jpeg uploaded to food_vision_bucket_with_object_versioning/all_images/fee39cb1-0971-4254-9f7a-58b520837ae5.jpeg.\n",
      "[INFO] File size: 1348760 bytes\n",
      "[INFO] Uploading food_photos/carrot/11e40378-cfc6-4fe1-9b53-f9914451c988.jpeg to all_images/11e40378-cfc6-4fe1-9b53-f9914451c988.jpeg...\n",
      "[INFO] Connected to Google Storage bucket: food_vision_bucket_with_object_versioning\n"
     ]
    },
    {
     "name": "stderr",
     "output_type": "stream",
     "text": [
      " 87%|████████▋ | 574/658 [25:55<03:25,  2.45s/it]"
     ]
    },
    {
     "name": "stdout",
     "output_type": "stream",
     "text": [
      "[INFO] File food_photos/carrot/11e40378-cfc6-4fe1-9b53-f9914451c988.jpeg uploaded to food_vision_bucket_with_object_versioning/all_images/11e40378-cfc6-4fe1-9b53-f9914451c988.jpeg.\n",
      "[INFO] File size: 2375573 bytes\n",
      "[INFO] Uploading food_photos/carrot/4a7e569e-1e26-47e4-8681-dfa5864c41d4.jpeg to all_images/4a7e569e-1e26-47e4-8681-dfa5864c41d4.jpeg...\n",
      "[INFO] Connected to Google Storage bucket: food_vision_bucket_with_object_versioning\n"
     ]
    },
    {
     "name": "stderr",
     "output_type": "stream",
     "text": [
      " 87%|████████▋ | 575/658 [25:57<03:10,  2.29s/it]"
     ]
    },
    {
     "name": "stdout",
     "output_type": "stream",
     "text": [
      "[INFO] File food_photos/carrot/4a7e569e-1e26-47e4-8681-dfa5864c41d4.jpeg uploaded to food_vision_bucket_with_object_versioning/all_images/4a7e569e-1e26-47e4-8681-dfa5864c41d4.jpeg.\n",
      "[INFO] File size: 1966406 bytes\n",
      "[INFO] Uploading food_photos/carrot/84f32fc4-2b27-4b92-91ea-af75f88ff888.jpeg to all_images/84f32fc4-2b27-4b92-91ea-af75f88ff888.jpeg...\n",
      "[INFO] Connected to Google Storage bucket: food_vision_bucket_with_object_versioning\n"
     ]
    },
    {
     "name": "stderr",
     "output_type": "stream",
     "text": [
      " 88%|████████▊ | 576/658 [26:00<03:24,  2.49s/it]"
     ]
    },
    {
     "name": "stdout",
     "output_type": "stream",
     "text": [
      "[INFO] File food_photos/carrot/84f32fc4-2b27-4b92-91ea-af75f88ff888.jpeg uploaded to food_vision_bucket_with_object_versioning/all_images/84f32fc4-2b27-4b92-91ea-af75f88ff888.jpeg.\n",
      "[INFO] File size: 2349355 bytes\n",
      "[INFO] Uploading food_photos/carrot/4ea69ad9-71e0-421c-b790-f3cdd642d5e5.jpeg to all_images/4ea69ad9-71e0-421c-b790-f3cdd642d5e5.jpeg...\n",
      "[INFO] Connected to Google Storage bucket: food_vision_bucket_with_object_versioning\n"
     ]
    },
    {
     "name": "stderr",
     "output_type": "stream",
     "text": [
      " 88%|████████▊ | 577/658 [26:02<03:07,  2.32s/it]"
     ]
    },
    {
     "name": "stdout",
     "output_type": "stream",
     "text": [
      "[INFO] File food_photos/carrot/4ea69ad9-71e0-421c-b790-f3cdd642d5e5.jpeg uploaded to food_vision_bucket_with_object_versioning/all_images/4ea69ad9-71e0-421c-b790-f3cdd642d5e5.jpeg.\n",
      "[INFO] File size: 1230552 bytes\n",
      "[INFO] Uploading food_photos/carrot/0ed61e80-a2f0-4008-929f-676c87da76ab.jpeg to all_images/0ed61e80-a2f0-4008-929f-676c87da76ab.jpeg...\n",
      "[INFO] Connected to Google Storage bucket: food_vision_bucket_with_object_versioning\n"
     ]
    },
    {
     "name": "stderr",
     "output_type": "stream",
     "text": [
      " 88%|████████▊ | 578/658 [26:03<02:45,  2.06s/it]"
     ]
    },
    {
     "name": "stdout",
     "output_type": "stream",
     "text": [
      "[INFO] File food_photos/carrot/0ed61e80-a2f0-4008-929f-676c87da76ab.jpeg uploaded to food_vision_bucket_with_object_versioning/all_images/0ed61e80-a2f0-4008-929f-676c87da76ab.jpeg.\n",
      "[INFO] File size: 1218003 bytes\n",
      "[INFO] Uploading food_photos/carrot/2410e6ac-6502-47ad-a90c-9992bca46f91.jpeg to all_images/2410e6ac-6502-47ad-a90c-9992bca46f91.jpeg...\n",
      "[INFO] Connected to Google Storage bucket: food_vision_bucket_with_object_versioning\n"
     ]
    },
    {
     "name": "stderr",
     "output_type": "stream",
     "text": [
      " 88%|████████▊ | 579/658 [26:04<02:28,  1.88s/it]"
     ]
    },
    {
     "name": "stdout",
     "output_type": "stream",
     "text": [
      "[INFO] File food_photos/carrot/2410e6ac-6502-47ad-a90c-9992bca46f91.jpeg uploaded to food_vision_bucket_with_object_versioning/all_images/2410e6ac-6502-47ad-a90c-9992bca46f91.jpeg.\n",
      "[INFO] File size: 1165027 bytes\n",
      "[INFO] Uploading food_photos/carrot/083b3761-f963-444f-8ad0-a66b4ef1f464.jpeg to all_images/083b3761-f963-444f-8ad0-a66b4ef1f464.jpeg...\n",
      "[INFO] Connected to Google Storage bucket: food_vision_bucket_with_object_versioning\n"
     ]
    },
    {
     "name": "stderr",
     "output_type": "stream",
     "text": [
      " 88%|████████▊ | 580/658 [26:06<02:14,  1.72s/it]"
     ]
    },
    {
     "name": "stdout",
     "output_type": "stream",
     "text": [
      "[INFO] File food_photos/carrot/083b3761-f963-444f-8ad0-a66b4ef1f464.jpeg uploaded to food_vision_bucket_with_object_versioning/all_images/083b3761-f963-444f-8ad0-a66b4ef1f464.jpeg.\n",
      "[INFO] File size: 1150598 bytes\n",
      "[INFO] Uploading food_photos/carrot/45343d5d-4154-42bb-917f-e18730a31ea0.jpeg to all_images/45343d5d-4154-42bb-917f-e18730a31ea0.jpeg...\n",
      "[INFO] Connected to Google Storage bucket: food_vision_bucket_with_object_versioning\n"
     ]
    },
    {
     "name": "stderr",
     "output_type": "stream",
     "text": [
      " 88%|████████▊ | 581/658 [26:08<02:12,  1.72s/it]"
     ]
    },
    {
     "name": "stdout",
     "output_type": "stream",
     "text": [
      "[INFO] File food_photos/carrot/45343d5d-4154-42bb-917f-e18730a31ea0.jpeg uploaded to food_vision_bucket_with_object_versioning/all_images/45343d5d-4154-42bb-917f-e18730a31ea0.jpeg.\n",
      "[INFO] File size: 2005879 bytes\n",
      "[INFO] Uploading food_photos/carrot/dee0773b-3ccc-49db-9fc2-7e9c6c63c42c.jpeg to all_images/dee0773b-3ccc-49db-9fc2-7e9c6c63c42c.jpeg...\n",
      "[INFO] Connected to Google Storage bucket: food_vision_bucket_with_object_versioning\n"
     ]
    },
    {
     "name": "stderr",
     "output_type": "stream",
     "text": [
      " 88%|████████▊ | 582/658 [26:09<02:15,  1.79s/it]"
     ]
    },
    {
     "name": "stdout",
     "output_type": "stream",
     "text": [
      "[INFO] File food_photos/carrot/dee0773b-3ccc-49db-9fc2-7e9c6c63c42c.jpeg uploaded to food_vision_bucket_with_object_versioning/all_images/dee0773b-3ccc-49db-9fc2-7e9c6c63c42c.jpeg.\n",
      "[INFO] File size: 1806070 bytes\n",
      "[INFO] Uploading food_photos/carrot/4e04b679-0a00-4e65-872b-bccae1a2f2cd.jpeg to all_images/4e04b679-0a00-4e65-872b-bccae1a2f2cd.jpeg...\n",
      "[INFO] Connected to Google Storage bucket: food_vision_bucket_with_object_versioning\n"
     ]
    },
    {
     "name": "stderr",
     "output_type": "stream",
     "text": [
      " 89%|████████▊ | 583/658 [26:12<02:40,  2.14s/it]"
     ]
    },
    {
     "name": "stdout",
     "output_type": "stream",
     "text": [
      "[INFO] File food_photos/carrot/4e04b679-0a00-4e65-872b-bccae1a2f2cd.jpeg uploaded to food_vision_bucket_with_object_versioning/all_images/4e04b679-0a00-4e65-872b-bccae1a2f2cd.jpeg.\n",
      "[INFO] File size: 2591905 bytes\n",
      "[INFO] Uploading food_photos/carrot/5c7f6de2-3c65-4d09-94c4-f66985f6c0fb.jpeg to all_images/5c7f6de2-3c65-4d09-94c4-f66985f6c0fb.jpeg...\n",
      "[INFO] Connected to Google Storage bucket: food_vision_bucket_with_object_versioning\n"
     ]
    },
    {
     "name": "stderr",
     "output_type": "stream",
     "text": [
      " 89%|████████▉ | 584/658 [26:14<02:20,  1.90s/it]"
     ]
    },
    {
     "name": "stdout",
     "output_type": "stream",
     "text": [
      "[INFO] File food_photos/carrot/5c7f6de2-3c65-4d09-94c4-f66985f6c0fb.jpeg uploaded to food_vision_bucket_with_object_versioning/all_images/5c7f6de2-3c65-4d09-94c4-f66985f6c0fb.jpeg.\n",
      "[INFO] File size: 1135137 bytes\n",
      "[INFO] Uploading food_photos/carrot/25c07333-066e-43da-95dc-6cb2df819a06.jpeg to all_images/25c07333-066e-43da-95dc-6cb2df819a06.jpeg...\n",
      "[INFO] Connected to Google Storage bucket: food_vision_bucket_with_object_versioning\n"
     ]
    },
    {
     "name": "stderr",
     "output_type": "stream",
     "text": [
      " 89%|████████▉ | 585/658 [26:15<02:11,  1.80s/it]"
     ]
    },
    {
     "name": "stdout",
     "output_type": "stream",
     "text": [
      "[INFO] File food_photos/carrot/25c07333-066e-43da-95dc-6cb2df819a06.jpeg uploaded to food_vision_bucket_with_object_versioning/all_images/25c07333-066e-43da-95dc-6cb2df819a06.jpeg.\n",
      "[INFO] File size: 1588882 bytes\n",
      "[INFO] Uploading food_photos/carrot/ebbb0dde-7e85-4c25-87b4-360327a671d7.jpeg to all_images/ebbb0dde-7e85-4c25-87b4-360327a671d7.jpeg...\n",
      "[INFO] Connected to Google Storage bucket: food_vision_bucket_with_object_versioning\n"
     ]
    },
    {
     "name": "stderr",
     "output_type": "stream",
     "text": [
      " 89%|████████▉ | 586/658 [26:19<02:42,  2.26s/it]"
     ]
    },
    {
     "name": "stdout",
     "output_type": "stream",
     "text": [
      "[INFO] File food_photos/carrot/ebbb0dde-7e85-4c25-87b4-360327a671d7.jpeg uploaded to food_vision_bucket_with_object_versioning/all_images/ebbb0dde-7e85-4c25-87b4-360327a671d7.jpeg.\n",
      "[INFO] File size: 2623256 bytes\n",
      "[INFO] Uploading food_photos/carrot/f84425ae-b655-49c1-a367-87c22d0a6ce5.jpeg to all_images/f84425ae-b655-49c1-a367-87c22d0a6ce5.jpeg...\n",
      "[INFO] Connected to Google Storage bucket: food_vision_bucket_with_object_versioning\n"
     ]
    },
    {
     "name": "stderr",
     "output_type": "stream",
     "text": [
      " 89%|████████▉ | 587/658 [26:22<03:09,  2.67s/it]"
     ]
    },
    {
     "name": "stdout",
     "output_type": "stream",
     "text": [
      "[INFO] File food_photos/carrot/f84425ae-b655-49c1-a367-87c22d0a6ce5.jpeg uploaded to food_vision_bucket_with_object_versioning/all_images/f84425ae-b655-49c1-a367-87c22d0a6ce5.jpeg.\n",
      "[INFO] File size: 2370069 bytes\n",
      "[INFO] Uploading food_photos/carrot/4ec7151c-bb38-4f93-9c1c-d335b1512bf3.jpeg to all_images/4ec7151c-bb38-4f93-9c1c-d335b1512bf3.jpeg...\n",
      "[INFO] Connected to Google Storage bucket: food_vision_bucket_with_object_versioning\n"
     ]
    },
    {
     "name": "stderr",
     "output_type": "stream",
     "text": [
      " 89%|████████▉ | 588/658 [26:24<02:46,  2.38s/it]"
     ]
    },
    {
     "name": "stdout",
     "output_type": "stream",
     "text": [
      "[INFO] File food_photos/carrot/4ec7151c-bb38-4f93-9c1c-d335b1512bf3.jpeg uploaded to food_vision_bucket_with_object_versioning/all_images/4ec7151c-bb38-4f93-9c1c-d335b1512bf3.jpeg.\n",
      "[INFO] File size: 1978902 bytes\n",
      "[INFO] Uploading food_photos/carrot/d1c9d8fe-eafa-49eb-a3d9-11af2deb5764.jpeg to all_images/d1c9d8fe-eafa-49eb-a3d9-11af2deb5764.jpeg...\n",
      "[INFO] Connected to Google Storage bucket: food_vision_bucket_with_object_versioning\n"
     ]
    },
    {
     "name": "stderr",
     "output_type": "stream",
     "text": [
      " 90%|████████▉ | 589/658 [26:26<02:26,  2.13s/it]"
     ]
    },
    {
     "name": "stdout",
     "output_type": "stream",
     "text": [
      "[INFO] File food_photos/carrot/d1c9d8fe-eafa-49eb-a3d9-11af2deb5764.jpeg uploaded to food_vision_bucket_with_object_versioning/all_images/d1c9d8fe-eafa-49eb-a3d9-11af2deb5764.jpeg.\n",
      "[INFO] File size: 1563240 bytes\n",
      "[INFO] Uploading food_photos/carrot/c56e0d77-d17b-48a4-b814-291bb3555271.jpeg to all_images/c56e0d77-d17b-48a4-b814-291bb3555271.jpeg...\n",
      "[INFO] Connected to Google Storage bucket: food_vision_bucket_with_object_versioning\n"
     ]
    },
    {
     "name": "stderr",
     "output_type": "stream",
     "text": [
      " 90%|████████▉ | 590/658 [26:28<02:29,  2.20s/it]"
     ]
    },
    {
     "name": "stdout",
     "output_type": "stream",
     "text": [
      "[INFO] File food_photos/carrot/c56e0d77-d17b-48a4-b814-291bb3555271.jpeg uploaded to food_vision_bucket_with_object_versioning/all_images/c56e0d77-d17b-48a4-b814-291bb3555271.jpeg.\n",
      "[INFO] File size: 1766888 bytes\n",
      "[INFO] Uploading food_photos/carrot/ac2e100a-67c0-4739-b659-58ac8ade2b86.jpeg to all_images/ac2e100a-67c0-4739-b659-58ac8ade2b86.jpeg...\n",
      "[INFO] Connected to Google Storage bucket: food_vision_bucket_with_object_versioning\n"
     ]
    },
    {
     "name": "stderr",
     "output_type": "stream",
     "text": [
      " 90%|████████▉ | 591/658 [26:30<02:19,  2.09s/it]"
     ]
    },
    {
     "name": "stdout",
     "output_type": "stream",
     "text": [
      "[INFO] File food_photos/carrot/ac2e100a-67c0-4739-b659-58ac8ade2b86.jpeg uploaded to food_vision_bucket_with_object_versioning/all_images/ac2e100a-67c0-4739-b659-58ac8ade2b86.jpeg.\n",
      "[INFO] File size: 2088883 bytes\n",
      "[INFO] Uploading food_photos/carrot/967f8d4c-b64f-4a55-ae3e-2752539a5456.jpeg to all_images/967f8d4c-b64f-4a55-ae3e-2752539a5456.jpeg...\n",
      "[INFO] Connected to Google Storage bucket: food_vision_bucket_with_object_versioning\n"
     ]
    },
    {
     "name": "stderr",
     "output_type": "stream",
     "text": [
      " 90%|████████▉ | 592/658 [26:31<02:08,  1.95s/it]"
     ]
    },
    {
     "name": "stdout",
     "output_type": "stream",
     "text": [
      "[INFO] File food_photos/carrot/967f8d4c-b64f-4a55-ae3e-2752539a5456.jpeg uploaded to food_vision_bucket_with_object_versioning/all_images/967f8d4c-b64f-4a55-ae3e-2752539a5456.jpeg.\n",
      "[INFO] File size: 1568419 bytes\n",
      "[INFO] Uploading food_photos/carrot/43a58d7f-c4a9-4579-ac98-144b054f73e9.jpeg to all_images/43a58d7f-c4a9-4579-ac98-144b054f73e9.jpeg...\n",
      "[INFO] Connected to Google Storage bucket: food_vision_bucket_with_object_versioning\n"
     ]
    },
    {
     "name": "stderr",
     "output_type": "stream",
     "text": [
      " 90%|█████████ | 593/658 [26:33<01:59,  1.84s/it]"
     ]
    },
    {
     "name": "stdout",
     "output_type": "stream",
     "text": [
      "[INFO] File food_photos/carrot/43a58d7f-c4a9-4579-ac98-144b054f73e9.jpeg uploaded to food_vision_bucket_with_object_versioning/all_images/43a58d7f-c4a9-4579-ac98-144b054f73e9.jpeg.\n",
      "[INFO] File size: 1266401 bytes\n",
      "[INFO] Uploading food_photos/carrot/03c52e68-67d8-4143-874d-04d4efe3a108.jpeg to all_images/03c52e68-67d8-4143-874d-04d4efe3a108.jpeg...\n",
      "[INFO] Connected to Google Storage bucket: food_vision_bucket_with_object_versioning\n"
     ]
    },
    {
     "name": "stderr",
     "output_type": "stream",
     "text": [
      " 90%|█████████ | 594/658 [26:34<01:51,  1.74s/it]"
     ]
    },
    {
     "name": "stdout",
     "output_type": "stream",
     "text": [
      "[INFO] File food_photos/carrot/03c52e68-67d8-4143-874d-04d4efe3a108.jpeg uploaded to food_vision_bucket_with_object_versioning/all_images/03c52e68-67d8-4143-874d-04d4efe3a108.jpeg.\n",
      "[INFO] File size: 1114675 bytes\n",
      "[INFO] Uploading food_photos/carrot/cbc2929e-415e-41aa-a2aa-11fdf661d44f.jpeg to all_images/cbc2929e-415e-41aa-a2aa-11fdf661d44f.jpeg...\n",
      "[INFO] Connected to Google Storage bucket: food_vision_bucket_with_object_versioning\n"
     ]
    },
    {
     "name": "stderr",
     "output_type": "stream",
     "text": [
      " 90%|█████████ | 595/658 [26:38<02:19,  2.21s/it]"
     ]
    },
    {
     "name": "stdout",
     "output_type": "stream",
     "text": [
      "[INFO] File food_photos/carrot/cbc2929e-415e-41aa-a2aa-11fdf661d44f.jpeg uploaded to food_vision_bucket_with_object_versioning/all_images/cbc2929e-415e-41aa-a2aa-11fdf661d44f.jpeg.\n",
      "[INFO] File size: 2690444 bytes\n",
      "[INFO] Uploading food_photos/carrot/a09ad2e7-2cbc-44d1-adf3-0738277851f9.jpeg to all_images/a09ad2e7-2cbc-44d1-adf3-0738277851f9.jpeg...\n",
      "[INFO] Connected to Google Storage bucket: food_vision_bucket_with_object_versioning\n"
     ]
    },
    {
     "name": "stderr",
     "output_type": "stream",
     "text": [
      " 91%|█████████ | 596/658 [26:41<02:40,  2.59s/it]"
     ]
    },
    {
     "name": "stdout",
     "output_type": "stream",
     "text": [
      "[INFO] File food_photos/carrot/a09ad2e7-2cbc-44d1-adf3-0738277851f9.jpeg uploaded to food_vision_bucket_with_object_versioning/all_images/a09ad2e7-2cbc-44d1-adf3-0738277851f9.jpeg.\n",
      "[INFO] File size: 2857064 bytes\n",
      "[INFO] Uploading food_photos/carrot/446fadb3-8a4f-426a-9e38-8b2c93eecd7a.jpeg to all_images/446fadb3-8a4f-426a-9e38-8b2c93eecd7a.jpeg...\n",
      "[INFO] Connected to Google Storage bucket: food_vision_bucket_with_object_versioning\n"
     ]
    },
    {
     "name": "stderr",
     "output_type": "stream",
     "text": [
      " 91%|█████████ | 597/658 [26:43<02:19,  2.29s/it]"
     ]
    },
    {
     "name": "stdout",
     "output_type": "stream",
     "text": [
      "[INFO] File food_photos/carrot/446fadb3-8a4f-426a-9e38-8b2c93eecd7a.jpeg uploaded to food_vision_bucket_with_object_versioning/all_images/446fadb3-8a4f-426a-9e38-8b2c93eecd7a.jpeg.\n",
      "[INFO] File size: 1338478 bytes\n",
      "[INFO] Uploading food_photos/carrot/4cb0beeb-51f7-47a2-b53a-d8a45fcc0b73.jpeg to all_images/4cb0beeb-51f7-47a2-b53a-d8a45fcc0b73.jpeg...\n",
      "[INFO] Connected to Google Storage bucket: food_vision_bucket_with_object_versioning\n"
     ]
    },
    {
     "name": "stderr",
     "output_type": "stream",
     "text": [
      " 91%|█████████ | 598/658 [26:44<02:02,  2.05s/it]"
     ]
    },
    {
     "name": "stdout",
     "output_type": "stream",
     "text": [
      "[INFO] File food_photos/carrot/4cb0beeb-51f7-47a2-b53a-d8a45fcc0b73.jpeg uploaded to food_vision_bucket_with_object_versioning/all_images/4cb0beeb-51f7-47a2-b53a-d8a45fcc0b73.jpeg.\n",
      "[INFO] File size: 1525112 bytes\n",
      "[INFO] Uploading food_photos/carrot/fcbb9e9d-18e5-43ee-9048-d3c6dcfe3e39.jpeg to all_images/fcbb9e9d-18e5-43ee-9048-d3c6dcfe3e39.jpeg...\n",
      "[INFO] Connected to Google Storage bucket: food_vision_bucket_with_object_versioning\n"
     ]
    },
    {
     "name": "stderr",
     "output_type": "stream",
     "text": [
      " 91%|█████████ | 599/658 [26:46<01:57,  1.98s/it]"
     ]
    },
    {
     "name": "stdout",
     "output_type": "stream",
     "text": [
      "[INFO] File food_photos/carrot/fcbb9e9d-18e5-43ee-9048-d3c6dcfe3e39.jpeg uploaded to food_vision_bucket_with_object_versioning/all_images/fcbb9e9d-18e5-43ee-9048-d3c6dcfe3e39.jpeg.\n",
      "[INFO] File size: 1879127 bytes\n",
      "[INFO] Uploading food_photos/carrot/2f08307e-5f01-4d0d-9c47-739cee6acafd.jpeg to all_images/2f08307e-5f01-4d0d-9c47-739cee6acafd.jpeg...\n",
      "[INFO] Connected to Google Storage bucket: food_vision_bucket_with_object_versioning\n"
     ]
    },
    {
     "name": "stderr",
     "output_type": "stream",
     "text": [
      " 91%|█████████ | 600/658 [26:48<01:53,  1.95s/it]"
     ]
    },
    {
     "name": "stdout",
     "output_type": "stream",
     "text": [
      "[INFO] File food_photos/carrot/2f08307e-5f01-4d0d-9c47-739cee6acafd.jpeg uploaded to food_vision_bucket_with_object_versioning/all_images/2f08307e-5f01-4d0d-9c47-739cee6acafd.jpeg.\n",
      "[INFO] File size: 1699352 bytes\n",
      "[INFO] Uploading food_photos/carrot/41b71a83-2092-41f7-81b3-fb400ba62474.jpeg to all_images/41b71a83-2092-41f7-81b3-fb400ba62474.jpeg...\n",
      "[INFO] Connected to Google Storage bucket: food_vision_bucket_with_object_versioning\n"
     ]
    },
    {
     "name": "stderr",
     "output_type": "stream",
     "text": [
      " 91%|█████████▏| 601/658 [26:51<02:08,  2.26s/it]"
     ]
    },
    {
     "name": "stdout",
     "output_type": "stream",
     "text": [
      "[INFO] File food_photos/carrot/41b71a83-2092-41f7-81b3-fb400ba62474.jpeg uploaded to food_vision_bucket_with_object_versioning/all_images/41b71a83-2092-41f7-81b3-fb400ba62474.jpeg.\n",
      "[INFO] File size: 2497021 bytes\n",
      "[INFO] Uploading food_photos/carrot/e54f3f9b-3fbb-4c2d-9d69-1afa9f87c059.jpeg to all_images/e54f3f9b-3fbb-4c2d-9d69-1afa9f87c059.jpeg...\n",
      "[INFO] Connected to Google Storage bucket: food_vision_bucket_with_object_versioning\n"
     ]
    },
    {
     "name": "stderr",
     "output_type": "stream",
     "text": [
      " 91%|█████████▏| 602/658 [26:54<02:27,  2.64s/it]"
     ]
    },
    {
     "name": "stdout",
     "output_type": "stream",
     "text": [
      "[INFO] File food_photos/carrot/e54f3f9b-3fbb-4c2d-9d69-1afa9f87c059.jpeg uploaded to food_vision_bucket_with_object_versioning/all_images/e54f3f9b-3fbb-4c2d-9d69-1afa9f87c059.jpeg.\n",
      "[INFO] File size: 2693887 bytes\n",
      "[INFO] Uploading food_photos/carrot/ca00cf4e-b088-483a-a0bc-a9dd39a46b00.jpeg to all_images/ca00cf4e-b088-483a-a0bc-a9dd39a46b00.jpeg...\n",
      "[INFO] Connected to Google Storage bucket: food_vision_bucket_with_object_versioning\n"
     ]
    },
    {
     "name": "stderr",
     "output_type": "stream",
     "text": [
      " 92%|█████████▏| 603/658 [26:57<02:30,  2.74s/it]"
     ]
    },
    {
     "name": "stdout",
     "output_type": "stream",
     "text": [
      "[INFO] File food_photos/carrot/ca00cf4e-b088-483a-a0bc-a9dd39a46b00.jpeg uploaded to food_vision_bucket_with_object_versioning/all_images/ca00cf4e-b088-483a-a0bc-a9dd39a46b00.jpeg.\n",
      "[INFO] File size: 2718664 bytes\n",
      "[INFO] Uploading food_photos/carrot/8186b49c-d519-4d87-ace6-52d22605b10f.jpeg to all_images/8186b49c-d519-4d87-ace6-52d22605b10f.jpeg...\n",
      "[INFO] Connected to Google Storage bucket: food_vision_bucket_with_object_versioning\n"
     ]
    },
    {
     "name": "stderr",
     "output_type": "stream",
     "text": [
      " 92%|█████████▏| 604/658 [26:59<02:13,  2.47s/it]"
     ]
    },
    {
     "name": "stdout",
     "output_type": "stream",
     "text": [
      "[INFO] File food_photos/carrot/8186b49c-d519-4d87-ace6-52d22605b10f.jpeg uploaded to food_vision_bucket_with_object_versioning/all_images/8186b49c-d519-4d87-ace6-52d22605b10f.jpeg.\n",
      "[INFO] File size: 1906525 bytes\n",
      "[INFO] Uploading food_photos/carrot/d39c5e5e-8d63-4c91-ae5b-8b0a75dbf19a.jpeg to all_images/d39c5e5e-8d63-4c91-ae5b-8b0a75dbf19a.jpeg...\n",
      "[INFO] Connected to Google Storage bucket: food_vision_bucket_with_object_versioning\n"
     ]
    },
    {
     "name": "stderr",
     "output_type": "stream",
     "text": [
      " 92%|█████████▏| 605/658 [27:02<02:15,  2.56s/it]"
     ]
    },
    {
     "name": "stdout",
     "output_type": "stream",
     "text": [
      "[INFO] File food_photos/carrot/d39c5e5e-8d63-4c91-ae5b-8b0a75dbf19a.jpeg uploaded to food_vision_bucket_with_object_versioning/all_images/d39c5e5e-8d63-4c91-ae5b-8b0a75dbf19a.jpeg.\n",
      "[INFO] File size: 2134147 bytes\n",
      "[INFO] Uploading food_photos/carrot/4a3b5259-fd2c-40e6-8791-0eb5ba34ee23.jpeg to all_images/4a3b5259-fd2c-40e6-8791-0eb5ba34ee23.jpeg...\n",
      "[INFO] Connected to Google Storage bucket: food_vision_bucket_with_object_versioning\n"
     ]
    },
    {
     "name": "stderr",
     "output_type": "stream",
     "text": [
      " 92%|█████████▏| 606/658 [27:05<02:25,  2.80s/it]"
     ]
    },
    {
     "name": "stdout",
     "output_type": "stream",
     "text": [
      "[INFO] File food_photos/carrot/4a3b5259-fd2c-40e6-8791-0eb5ba34ee23.jpeg uploaded to food_vision_bucket_with_object_versioning/all_images/4a3b5259-fd2c-40e6-8791-0eb5ba34ee23.jpeg.\n",
      "[INFO] File size: 2447670 bytes\n",
      "[INFO] Uploading food_photos/carrot/2a854682-c428-46b1-bc3d-edbcc990cd63.jpeg to all_images/2a854682-c428-46b1-bc3d-edbcc990cd63.jpeg...\n",
      "[INFO] Connected to Google Storage bucket: food_vision_bucket_with_object_versioning\n"
     ]
    },
    {
     "name": "stderr",
     "output_type": "stream",
     "text": [
      " 92%|█████████▏| 607/658 [27:07<02:02,  2.41s/it]"
     ]
    },
    {
     "name": "stdout",
     "output_type": "stream",
     "text": [
      "[INFO] File food_photos/carrot/2a854682-c428-46b1-bc3d-edbcc990cd63.jpeg uploaded to food_vision_bucket_with_object_versioning/all_images/2a854682-c428-46b1-bc3d-edbcc990cd63.jpeg.\n",
      "[INFO] File size: 1272907 bytes\n",
      "[INFO] Uploading food_photos/carrot/ed06e9f6-5a94-430b-a9f5-1d43b0d585f8.jpeg to all_images/ed06e9f6-5a94-430b-a9f5-1d43b0d585f8.jpeg...\n",
      "[INFO] Connected to Google Storage bucket: food_vision_bucket_with_object_versioning\n"
     ]
    },
    {
     "name": "stderr",
     "output_type": "stream",
     "text": [
      " 92%|█████████▏| 608/658 [27:09<01:48,  2.17s/it]"
     ]
    },
    {
     "name": "stdout",
     "output_type": "stream",
     "text": [
      "[INFO] File food_photos/carrot/ed06e9f6-5a94-430b-a9f5-1d43b0d585f8.jpeg uploaded to food_vision_bucket_with_object_versioning/all_images/ed06e9f6-5a94-430b-a9f5-1d43b0d585f8.jpeg.\n",
      "[INFO] File size: 1283089 bytes\n",
      "[INFO] Uploading food_photos/carrot/84fe3b84-21ba-43c5-b379-bd9e370038c6.jpeg to all_images/84fe3b84-21ba-43c5-b379-bd9e370038c6.jpeg...\n",
      "[INFO] Connected to Google Storage bucket: food_vision_bucket_with_object_versioning\n"
     ]
    },
    {
     "name": "stderr",
     "output_type": "stream",
     "text": [
      " 93%|█████████▎| 609/658 [27:10<01:35,  1.95s/it]"
     ]
    },
    {
     "name": "stdout",
     "output_type": "stream",
     "text": [
      "[INFO] File food_photos/carrot/84fe3b84-21ba-43c5-b379-bd9e370038c6.jpeg uploaded to food_vision_bucket_with_object_versioning/all_images/84fe3b84-21ba-43c5-b379-bd9e370038c6.jpeg.\n",
      "[INFO] File size: 1147935 bytes\n",
      "[INFO] Uploading food_photos/carrot/95f3e167-ee76-4000-addb-53dfb317f608.jpeg to all_images/95f3e167-ee76-4000-addb-53dfb317f608.jpeg...\n",
      "[INFO] Connected to Google Storage bucket: food_vision_bucket_with_object_versioning\n"
     ]
    },
    {
     "name": "stderr",
     "output_type": "stream",
     "text": [
      " 93%|█████████▎| 610/658 [27:14<02:01,  2.53s/it]"
     ]
    },
    {
     "name": "stdout",
     "output_type": "stream",
     "text": [
      "[INFO] File food_photos/carrot/95f3e167-ee76-4000-addb-53dfb317f608.jpeg uploaded to food_vision_bucket_with_object_versioning/all_images/95f3e167-ee76-4000-addb-53dfb317f608.jpeg.\n",
      "[INFO] File size: 2325701 bytes\n",
      "[INFO] Uploading food_photos/carrot/e380664f-3186-4201-a2a9-1a309d7e279f.jpeg to all_images/e380664f-3186-4201-a2a9-1a309d7e279f.jpeg...\n",
      "[INFO] Connected to Google Storage bucket: food_vision_bucket_with_object_versioning\n"
     ]
    },
    {
     "name": "stderr",
     "output_type": "stream",
     "text": [
      " 93%|█████████▎| 611/658 [27:17<02:13,  2.85s/it]"
     ]
    },
    {
     "name": "stdout",
     "output_type": "stream",
     "text": [
      "[INFO] File food_photos/carrot/e380664f-3186-4201-a2a9-1a309d7e279f.jpeg uploaded to food_vision_bucket_with_object_versioning/all_images/e380664f-3186-4201-a2a9-1a309d7e279f.jpeg.\n",
      "[INFO] File size: 2357160 bytes\n",
      "[INFO] Uploading food_photos/carrot/31eb3ee2-5a84-41df-b4f6-42f6551292ab.jpeg to all_images/31eb3ee2-5a84-41df-b4f6-42f6551292ab.jpeg...\n",
      "[INFO] Connected to Google Storage bucket: food_vision_bucket_with_object_versioning\n"
     ]
    },
    {
     "name": "stderr",
     "output_type": "stream",
     "text": [
      " 93%|█████████▎| 612/658 [27:21<02:17,  3.00s/it]"
     ]
    },
    {
     "name": "stdout",
     "output_type": "stream",
     "text": [
      "[INFO] File food_photos/carrot/31eb3ee2-5a84-41df-b4f6-42f6551292ab.jpeg uploaded to food_vision_bucket_with_object_versioning/all_images/31eb3ee2-5a84-41df-b4f6-42f6551292ab.jpeg.\n",
      "[INFO] File size: 2197266 bytes\n",
      "[INFO] Uploading food_photos/carrot/1ecdbd5b-0fb2-4a15-a8ff-8e93e2ebdfa8.jpeg to all_images/1ecdbd5b-0fb2-4a15-a8ff-8e93e2ebdfa8.jpeg...\n",
      "[INFO] Connected to Google Storage bucket: food_vision_bucket_with_object_versioning\n"
     ]
    },
    {
     "name": "stderr",
     "output_type": "stream",
     "text": [
      " 93%|█████████▎| 613/658 [27:24<02:18,  3.08s/it]"
     ]
    },
    {
     "name": "stdout",
     "output_type": "stream",
     "text": [
      "[INFO] File food_photos/carrot/1ecdbd5b-0fb2-4a15-a8ff-8e93e2ebdfa8.jpeg uploaded to food_vision_bucket_with_object_versioning/all_images/1ecdbd5b-0fb2-4a15-a8ff-8e93e2ebdfa8.jpeg.\n",
      "[INFO] File size: 2179434 bytes\n",
      "[INFO] Uploading food_photos/carrot/a2cfedb0-78f5-4670-a49e-17d0e4b21569.jpeg to all_images/a2cfedb0-78f5-4670-a49e-17d0e4b21569.jpeg...\n",
      "[INFO] Connected to Google Storage bucket: food_vision_bucket_with_object_versioning\n"
     ]
    },
    {
     "name": "stderr",
     "output_type": "stream",
     "text": [
      " 93%|█████████▎| 614/658 [27:26<01:54,  2.59s/it]"
     ]
    },
    {
     "name": "stdout",
     "output_type": "stream",
     "text": [
      "[INFO] File food_photos/carrot/a2cfedb0-78f5-4670-a49e-17d0e4b21569.jpeg uploaded to food_vision_bucket_with_object_versioning/all_images/a2cfedb0-78f5-4670-a49e-17d0e4b21569.jpeg.\n",
      "[INFO] File size: 1169881 bytes\n",
      "[INFO] Uploading food_photos/carrot/d926d3dc-f52d-4fb4-93f8-7274a5589bda.jpeg to all_images/d926d3dc-f52d-4fb4-93f8-7274a5589bda.jpeg...\n",
      "[INFO] Connected to Google Storage bucket: food_vision_bucket_with_object_versioning\n"
     ]
    },
    {
     "name": "stderr",
     "output_type": "stream",
     "text": [
      " 93%|█████████▎| 615/658 [27:29<01:57,  2.74s/it]"
     ]
    },
    {
     "name": "stdout",
     "output_type": "stream",
     "text": [
      "[INFO] File food_photos/carrot/d926d3dc-f52d-4fb4-93f8-7274a5589bda.jpeg uploaded to food_vision_bucket_with_object_versioning/all_images/d926d3dc-f52d-4fb4-93f8-7274a5589bda.jpeg.\n",
      "[INFO] File size: 2190967 bytes\n",
      "[INFO] Uploading food_photos/carrot/6cebf671-a5ab-4206-8b0e-61eebbb4bae9.jpeg to all_images/6cebf671-a5ab-4206-8b0e-61eebbb4bae9.jpeg...\n",
      "[INFO] Connected to Google Storage bucket: food_vision_bucket_with_object_versioning\n"
     ]
    },
    {
     "name": "stderr",
     "output_type": "stream",
     "text": [
      " 94%|█████████▎| 616/658 [27:31<01:46,  2.53s/it]"
     ]
    },
    {
     "name": "stdout",
     "output_type": "stream",
     "text": [
      "[INFO] File food_photos/carrot/6cebf671-a5ab-4206-8b0e-61eebbb4bae9.jpeg uploaded to food_vision_bucket_with_object_versioning/all_images/6cebf671-a5ab-4206-8b0e-61eebbb4bae9.jpeg.\n",
      "[INFO] File size: 1895498 bytes\n",
      "[INFO] Uploading food_photos/carrot/09e106c0-7f62-441e-8167-04e874c1ac6f.jpeg to all_images/09e106c0-7f62-441e-8167-04e874c1ac6f.jpeg...\n",
      "[INFO] Connected to Google Storage bucket: food_vision_bucket_with_object_versioning\n"
     ]
    },
    {
     "name": "stderr",
     "output_type": "stream",
     "text": [
      " 94%|█████████▍| 617/658 [27:34<01:50,  2.69s/it]"
     ]
    },
    {
     "name": "stdout",
     "output_type": "stream",
     "text": [
      "[INFO] File food_photos/carrot/09e106c0-7f62-441e-8167-04e874c1ac6f.jpeg uploaded to food_vision_bucket_with_object_versioning/all_images/09e106c0-7f62-441e-8167-04e874c1ac6f.jpeg.\n",
      "[INFO] File size: 2619858 bytes\n",
      "[INFO] Uploading food_photos/carrot/ea30f547-1ad0-4a87-9fac-e878525cce7d.jpeg to all_images/ea30f547-1ad0-4a87-9fac-e878525cce7d.jpeg...\n",
      "[INFO] Connected to Google Storage bucket: food_vision_bucket_with_object_versioning\n"
     ]
    },
    {
     "name": "stderr",
     "output_type": "stream",
     "text": [
      " 94%|█████████▍| 618/658 [27:35<01:33,  2.34s/it]"
     ]
    },
    {
     "name": "stdout",
     "output_type": "stream",
     "text": [
      "[INFO] File food_photos/carrot/ea30f547-1ad0-4a87-9fac-e878525cce7d.jpeg uploaded to food_vision_bucket_with_object_versioning/all_images/ea30f547-1ad0-4a87-9fac-e878525cce7d.jpeg.\n",
      "[INFO] File size: 1124837 bytes\n",
      "[INFO] Uploading food_photos/carrot/f238505b-0886-4ee2-b50a-249ce8efc3cd.jpeg to all_images/f238505b-0886-4ee2-b50a-249ce8efc3cd.jpeg...\n",
      "[INFO] Connected to Google Storage bucket: food_vision_bucket_with_object_versioning\n"
     ]
    },
    {
     "name": "stderr",
     "output_type": "stream",
     "text": [
      " 94%|█████████▍| 619/658 [27:37<01:21,  2.10s/it]"
     ]
    },
    {
     "name": "stdout",
     "output_type": "stream",
     "text": [
      "[INFO] File food_photos/carrot/f238505b-0886-4ee2-b50a-249ce8efc3cd.jpeg uploaded to food_vision_bucket_with_object_versioning/all_images/f238505b-0886-4ee2-b50a-249ce8efc3cd.jpeg.\n",
      "[INFO] File size: 1080859 bytes\n",
      "[INFO] Uploading food_photos/carrot/6ee88d49-1e5e-4ba5-938f-0c1bfca4bbe0.jpeg to all_images/6ee88d49-1e5e-4ba5-938f-0c1bfca4bbe0.jpeg...\n",
      "[INFO] Connected to Google Storage bucket: food_vision_bucket_with_object_versioning\n"
     ]
    },
    {
     "name": "stderr",
     "output_type": "stream",
     "text": [
      " 94%|█████████▍| 620/658 [27:39<01:20,  2.13s/it]"
     ]
    },
    {
     "name": "stdout",
     "output_type": "stream",
     "text": [
      "[INFO] File food_photos/carrot/6ee88d49-1e5e-4ba5-938f-0c1bfca4bbe0.jpeg uploaded to food_vision_bucket_with_object_versioning/all_images/6ee88d49-1e5e-4ba5-938f-0c1bfca4bbe0.jpeg.\n",
      "[INFO] File size: 2083959 bytes\n",
      "[INFO] Uploading food_photos/carrot/1a26ec4f-8964-4b46-994b-41b60d730c86.jpeg to all_images/1a26ec4f-8964-4b46-994b-41b60d730c86.jpeg...\n",
      "[INFO] Connected to Google Storage bucket: food_vision_bucket_with_object_versioning\n"
     ]
    },
    {
     "name": "stderr",
     "output_type": "stream",
     "text": [
      " 94%|█████████▍| 621/658 [27:42<01:28,  2.40s/it]"
     ]
    },
    {
     "name": "stdout",
     "output_type": "stream",
     "text": [
      "[INFO] File food_photos/carrot/1a26ec4f-8964-4b46-994b-41b60d730c86.jpeg uploaded to food_vision_bucket_with_object_versioning/all_images/1a26ec4f-8964-4b46-994b-41b60d730c86.jpeg.\n",
      "[INFO] File size: 2123234 bytes\n",
      "[INFO] Uploading food_photos/carrot/738f35b1-2c58-48f7-a605-a3c87b919fd6.jpeg to all_images/738f35b1-2c58-48f7-a605-a3c87b919fd6.jpeg...\n",
      "[INFO] Connected to Google Storage bucket: food_vision_bucket_with_object_versioning\n"
     ]
    },
    {
     "name": "stderr",
     "output_type": "stream",
     "text": [
      " 95%|█████████▍| 622/658 [27:44<01:17,  2.14s/it]"
     ]
    },
    {
     "name": "stdout",
     "output_type": "stream",
     "text": [
      "[INFO] File food_photos/carrot/738f35b1-2c58-48f7-a605-a3c87b919fd6.jpeg uploaded to food_vision_bucket_with_object_versioning/all_images/738f35b1-2c58-48f7-a605-a3c87b919fd6.jpeg.\n",
      "[INFO] File size: 1146906 bytes\n",
      "[INFO] Uploading food_photos/carrot/e6296461-3c5b-43d2-b039-2f6248fb7ba9.jpeg to all_images/e6296461-3c5b-43d2-b039-2f6248fb7ba9.jpeg...\n",
      "[INFO] Connected to Google Storage bucket: food_vision_bucket_with_object_versioning\n"
     ]
    },
    {
     "name": "stderr",
     "output_type": "stream",
     "text": [
      " 95%|█████████▍| 623/658 [27:45<01:09,  1.99s/it]"
     ]
    },
    {
     "name": "stdout",
     "output_type": "stream",
     "text": [
      "[INFO] File food_photos/carrot/e6296461-3c5b-43d2-b039-2f6248fb7ba9.jpeg uploaded to food_vision_bucket_with_object_versioning/all_images/e6296461-3c5b-43d2-b039-2f6248fb7ba9.jpeg.\n",
      "[INFO] File size: 1318273 bytes\n",
      "[INFO] Uploading food_photos/carrot/3b0e42f3-16d1-4917-bc0d-64970172eeff.jpeg to all_images/3b0e42f3-16d1-4917-bc0d-64970172eeff.jpeg...\n",
      "[INFO] Connected to Google Storage bucket: food_vision_bucket_with_object_versioning\n"
     ]
    },
    {
     "name": "stderr",
     "output_type": "stream",
     "text": [
      " 95%|█████████▍| 624/658 [27:50<01:35,  2.80s/it]"
     ]
    },
    {
     "name": "stdout",
     "output_type": "stream",
     "text": [
      "[INFO] File food_photos/carrot/3b0e42f3-16d1-4917-bc0d-64970172eeff.jpeg uploaded to food_vision_bucket_with_object_versioning/all_images/3b0e42f3-16d1-4917-bc0d-64970172eeff.jpeg.\n",
      "[INFO] File size: 3936467 bytes\n",
      "[INFO] Uploading food_photos/carrot/7f8c107e-a551-4e3b-80ff-ea2c98e204fb.jpeg to all_images/7f8c107e-a551-4e3b-80ff-ea2c98e204fb.jpeg...\n",
      "[INFO] Connected to Google Storage bucket: food_vision_bucket_with_object_versioning\n"
     ]
    },
    {
     "name": "stderr",
     "output_type": "stream",
     "text": [
      " 95%|█████████▍| 625/658 [27:51<01:20,  2.44s/it]"
     ]
    },
    {
     "name": "stdout",
     "output_type": "stream",
     "text": [
      "[INFO] File food_photos/carrot/7f8c107e-a551-4e3b-80ff-ea2c98e204fb.jpeg uploaded to food_vision_bucket_with_object_versioning/all_images/7f8c107e-a551-4e3b-80ff-ea2c98e204fb.jpeg.\n",
      "[INFO] File size: 1157170 bytes\n",
      "[INFO] Uploading food_photos/carrot/bb23e2de-8402-4934-b099-00da385af106.jpeg to all_images/bb23e2de-8402-4934-b099-00da385af106.jpeg...\n",
      "[INFO] Connected to Google Storage bucket: food_vision_bucket_with_object_versioning\n"
     ]
    },
    {
     "name": "stderr",
     "output_type": "stream",
     "text": [
      " 95%|█████████▌| 626/658 [27:55<01:27,  2.74s/it]"
     ]
    },
    {
     "name": "stdout",
     "output_type": "stream",
     "text": [
      "[INFO] File food_photos/carrot/bb23e2de-8402-4934-b099-00da385af106.jpeg uploaded to food_vision_bucket_with_object_versioning/all_images/bb23e2de-8402-4934-b099-00da385af106.jpeg.\n",
      "[INFO] File size: 2517141 bytes\n",
      "[INFO] Uploading food_photos/carrot/cfe4b3c2-d3d6-4a99-8160-00c660c7dffe.jpeg to all_images/cfe4b3c2-d3d6-4a99-8160-00c660c7dffe.jpeg...\n",
      "[INFO] Connected to Google Storage bucket: food_vision_bucket_with_object_versioning\n"
     ]
    },
    {
     "name": "stderr",
     "output_type": "stream",
     "text": [
      " 95%|█████████▌| 627/658 [27:57<01:15,  2.44s/it]"
     ]
    },
    {
     "name": "stdout",
     "output_type": "stream",
     "text": [
      "[INFO] File food_photos/carrot/cfe4b3c2-d3d6-4a99-8160-00c660c7dffe.jpeg uploaded to food_vision_bucket_with_object_versioning/all_images/cfe4b3c2-d3d6-4a99-8160-00c660c7dffe.jpeg.\n",
      "[INFO] File size: 1619269 bytes\n",
      "[INFO] Uploading food_photos/carrot/58bc7a5a-8d02-498a-89a1-cce3e0c0a76b.jpeg to all_images/58bc7a5a-8d02-498a-89a1-cce3e0c0a76b.jpeg...\n",
      "[INFO] Connected to Google Storage bucket: food_vision_bucket_with_object_versioning\n"
     ]
    },
    {
     "name": "stderr",
     "output_type": "stream",
     "text": [
      " 95%|█████████▌| 628/658 [27:58<01:05,  2.17s/it]"
     ]
    },
    {
     "name": "stdout",
     "output_type": "stream",
     "text": [
      "[INFO] File food_photos/carrot/58bc7a5a-8d02-498a-89a1-cce3e0c0a76b.jpeg uploaded to food_vision_bucket_with_object_versioning/all_images/58bc7a5a-8d02-498a-89a1-cce3e0c0a76b.jpeg.\n",
      "[INFO] File size: 1253042 bytes\n",
      "[INFO] Uploading food_photos/carrot/d98801c9-bd3f-48ea-95f5-03cd0ef26f66.jpeg to all_images/d98801c9-bd3f-48ea-95f5-03cd0ef26f66.jpeg...\n",
      "[INFO] Connected to Google Storage bucket: food_vision_bucket_with_object_versioning\n"
     ]
    },
    {
     "name": "stderr",
     "output_type": "stream",
     "text": [
      " 96%|█████████▌| 629/658 [28:01<01:09,  2.41s/it]"
     ]
    },
    {
     "name": "stdout",
     "output_type": "stream",
     "text": [
      "[INFO] File food_photos/carrot/d98801c9-bd3f-48ea-95f5-03cd0ef26f66.jpeg uploaded to food_vision_bucket_with_object_versioning/all_images/d98801c9-bd3f-48ea-95f5-03cd0ef26f66.jpeg.\n",
      "[INFO] File size: 1855515 bytes\n",
      "[INFO] Uploading food_photos/carrot/2a5da898-16dd-4d91-a361-c193a5d1b729.jpeg to all_images/2a5da898-16dd-4d91-a361-c193a5d1b729.jpeg...\n",
      "[INFO] Connected to Google Storage bucket: food_vision_bucket_with_object_versioning\n"
     ]
    },
    {
     "name": "stderr",
     "output_type": "stream",
     "text": [
      " 96%|█████████▌| 630/658 [28:04<01:10,  2.52s/it]"
     ]
    },
    {
     "name": "stdout",
     "output_type": "stream",
     "text": [
      "[INFO] File food_photos/carrot/2a5da898-16dd-4d91-a361-c193a5d1b729.jpeg uploaded to food_vision_bucket_with_object_versioning/all_images/2a5da898-16dd-4d91-a361-c193a5d1b729.jpeg.\n",
      "[INFO] File size: 2209851 bytes\n",
      "[INFO] Uploading food_photos/carrot/e2894d69-3f47-4c05-bcb3-8c5dd81aad21.jpeg to all_images/e2894d69-3f47-4c05-bcb3-8c5dd81aad21.jpeg...\n",
      "[INFO] Connected to Google Storage bucket: food_vision_bucket_with_object_versioning\n"
     ]
    },
    {
     "name": "stderr",
     "output_type": "stream",
     "text": [
      " 96%|█████████▌| 631/658 [28:08<01:16,  2.84s/it]"
     ]
    },
    {
     "name": "stdout",
     "output_type": "stream",
     "text": [
      "[INFO] File food_photos/carrot/e2894d69-3f47-4c05-bcb3-8c5dd81aad21.jpeg uploaded to food_vision_bucket_with_object_versioning/all_images/e2894d69-3f47-4c05-bcb3-8c5dd81aad21.jpeg.\n",
      "[INFO] File size: 4142826 bytes\n",
      "[INFO] Uploading food_photos/carrot/b3e251fa-7a03-4b55-8dee-eef3b8ac703b.jpeg to all_images/b3e251fa-7a03-4b55-8dee-eef3b8ac703b.jpeg...\n",
      "[INFO] Connected to Google Storage bucket: food_vision_bucket_with_object_versioning\n"
     ]
    },
    {
     "name": "stderr",
     "output_type": "stream",
     "text": [
      " 96%|█████████▌| 632/658 [28:09<01:04,  2.49s/it]"
     ]
    },
    {
     "name": "stdout",
     "output_type": "stream",
     "text": [
      "[INFO] File food_photos/carrot/b3e251fa-7a03-4b55-8dee-eef3b8ac703b.jpeg uploaded to food_vision_bucket_with_object_versioning/all_images/b3e251fa-7a03-4b55-8dee-eef3b8ac703b.jpeg.\n",
      "[INFO] File size: 1973755 bytes\n",
      "[INFO] Uploading food_photos/carrot/45fe0224-1495-4e6c-a7ad-c0f07d5de413.jpeg to all_images/45fe0224-1495-4e6c-a7ad-c0f07d5de413.jpeg...\n",
      "[INFO] Connected to Google Storage bucket: food_vision_bucket_with_object_versioning\n"
     ]
    },
    {
     "name": "stderr",
     "output_type": "stream",
     "text": [
      " 96%|█████████▌| 633/658 [28:13<01:08,  2.74s/it]"
     ]
    },
    {
     "name": "stdout",
     "output_type": "stream",
     "text": [
      "[INFO] File food_photos/carrot/45fe0224-1495-4e6c-a7ad-c0f07d5de413.jpeg uploaded to food_vision_bucket_with_object_versioning/all_images/45fe0224-1495-4e6c-a7ad-c0f07d5de413.jpeg.\n",
      "[INFO] File size: 2293660 bytes\n",
      "[INFO] Uploading food_photos/carrot/cb69c6cf-88ca-4d5e-8acd-8d5f7dd1fb8a.jpeg to all_images/cb69c6cf-88ca-4d5e-8acd-8d5f7dd1fb8a.jpeg...\n",
      "[INFO] Connected to Google Storage bucket: food_vision_bucket_with_object_versioning\n"
     ]
    },
    {
     "name": "stderr",
     "output_type": "stream",
     "text": [
      " 96%|█████████▋| 634/658 [28:16<01:08,  2.86s/it]"
     ]
    },
    {
     "name": "stdout",
     "output_type": "stream",
     "text": [
      "[INFO] File food_photos/carrot/cb69c6cf-88ca-4d5e-8acd-8d5f7dd1fb8a.jpeg uploaded to food_vision_bucket_with_object_versioning/all_images/cb69c6cf-88ca-4d5e-8acd-8d5f7dd1fb8a.jpeg.\n",
      "[INFO] File size: 2686013 bytes\n",
      "[INFO] Uploading food_photos/carrot/396bf5dc-6224-4d82-8327-a69bfd990f4a.jpeg to all_images/396bf5dc-6224-4d82-8327-a69bfd990f4a.jpeg...\n",
      "[INFO] Connected to Google Storage bucket: food_vision_bucket_with_object_versioning\n"
     ]
    },
    {
     "name": "stderr",
     "output_type": "stream",
     "text": [
      " 97%|█████████▋| 635/658 [28:17<00:56,  2.44s/it]"
     ]
    },
    {
     "name": "stdout",
     "output_type": "stream",
     "text": [
      "[INFO] File food_photos/carrot/396bf5dc-6224-4d82-8327-a69bfd990f4a.jpeg uploaded to food_vision_bucket_with_object_versioning/all_images/396bf5dc-6224-4d82-8327-a69bfd990f4a.jpeg.\n",
      "[INFO] File size: 1222699 bytes\n",
      "[INFO] Uploading food_photos/carrot/3d58a59c-9dba-4250-8bda-faa0799a95fe.jpeg to all_images/3d58a59c-9dba-4250-8bda-faa0799a95fe.jpeg...\n",
      "[INFO] Connected to Google Storage bucket: food_vision_bucket_with_object_versioning\n"
     ]
    },
    {
     "name": "stderr",
     "output_type": "stream",
     "text": [
      " 97%|█████████▋| 636/658 [28:19<00:48,  2.21s/it]"
     ]
    },
    {
     "name": "stdout",
     "output_type": "stream",
     "text": [
      "[INFO] File food_photos/carrot/3d58a59c-9dba-4250-8bda-faa0799a95fe.jpeg uploaded to food_vision_bucket_with_object_versioning/all_images/3d58a59c-9dba-4250-8bda-faa0799a95fe.jpeg.\n",
      "[INFO] File size: 996822 bytes\n",
      "[INFO] Uploading food_photos/carrot/de073535-2585-433d-b2f6-342094bf2da8.jpeg to all_images/de073535-2585-433d-b2f6-342094bf2da8.jpeg...\n",
      "[INFO] Connected to Google Storage bucket: food_vision_bucket_with_object_versioning\n"
     ]
    },
    {
     "name": "stderr",
     "output_type": "stream",
     "text": [
      " 97%|█████████▋| 637/658 [28:20<00:42,  2.01s/it]"
     ]
    },
    {
     "name": "stdout",
     "output_type": "stream",
     "text": [
      "[INFO] File food_photos/carrot/de073535-2585-433d-b2f6-342094bf2da8.jpeg uploaded to food_vision_bucket_with_object_versioning/all_images/de073535-2585-433d-b2f6-342094bf2da8.jpeg.\n",
      "[INFO] File size: 1189259 bytes\n",
      "[INFO] Uploading food_photos/peach/b8d0ed2b-f909-4c93-b3d7-e1829ca4fcf3.jpeg to all_images/b8d0ed2b-f909-4c93-b3d7-e1829ca4fcf3.jpeg...\n",
      "[INFO] Connected to Google Storage bucket: food_vision_bucket_with_object_versioning\n"
     ]
    },
    {
     "name": "stderr",
     "output_type": "stream",
     "text": [
      " 97%|█████████▋| 638/658 [28:23<00:46,  2.32s/it]"
     ]
    },
    {
     "name": "stdout",
     "output_type": "stream",
     "text": [
      "[INFO] File food_photos/peach/b8d0ed2b-f909-4c93-b3d7-e1829ca4fcf3.jpeg uploaded to food_vision_bucket_with_object_versioning/all_images/b8d0ed2b-f909-4c93-b3d7-e1829ca4fcf3.jpeg.\n",
      "[INFO] File size: 2537242 bytes\n",
      "[INFO] Uploading food_photos/peach/f390b6ea-72ea-4969-ba18-0cd458851c2d.jpeg to all_images/f390b6ea-72ea-4969-ba18-0cd458851c2d.jpeg...\n",
      "[INFO] Connected to Google Storage bucket: food_vision_bucket_with_object_versioning\n"
     ]
    },
    {
     "name": "stderr",
     "output_type": "stream",
     "text": [
      " 97%|█████████▋| 639/658 [28:27<00:50,  2.67s/it]"
     ]
    },
    {
     "name": "stdout",
     "output_type": "stream",
     "text": [
      "[INFO] File food_photos/peach/f390b6ea-72ea-4969-ba18-0cd458851c2d.jpeg uploaded to food_vision_bucket_with_object_versioning/all_images/f390b6ea-72ea-4969-ba18-0cd458851c2d.jpeg.\n",
      "[INFO] File size: 2185398 bytes\n",
      "[INFO] Uploading food_photos/peach/32e23c19-132c-43ac-9bc1-ab3ddb1b234b.jpeg to all_images/32e23c19-132c-43ac-9bc1-ab3ddb1b234b.jpeg...\n",
      "[INFO] Connected to Google Storage bucket: food_vision_bucket_with_object_versioning\n"
     ]
    },
    {
     "name": "stderr",
     "output_type": "stream",
     "text": [
      " 97%|█████████▋| 640/658 [28:30<00:52,  2.92s/it]"
     ]
    },
    {
     "name": "stdout",
     "output_type": "stream",
     "text": [
      "[INFO] File food_photos/peach/32e23c19-132c-43ac-9bc1-ab3ddb1b234b.jpeg uploaded to food_vision_bucket_with_object_versioning/all_images/32e23c19-132c-43ac-9bc1-ab3ddb1b234b.jpeg.\n",
      "[INFO] File size: 1605195 bytes\n",
      "[INFO] Uploading food_photos/peach/d2f1e72d-5fd9-4a31-9ae4-ae815c9a6dc6.jpeg to all_images/d2f1e72d-5fd9-4a31-9ae4-ae815c9a6dc6.jpeg...\n",
      "[INFO] Connected to Google Storage bucket: food_vision_bucket_with_object_versioning\n"
     ]
    },
    {
     "name": "stderr",
     "output_type": "stream",
     "text": [
      " 97%|█████████▋| 641/658 [28:32<00:43,  2.59s/it]"
     ]
    },
    {
     "name": "stdout",
     "output_type": "stream",
     "text": [
      "[INFO] File food_photos/peach/d2f1e72d-5fd9-4a31-9ae4-ae815c9a6dc6.jpeg uploaded to food_vision_bucket_with_object_versioning/all_images/d2f1e72d-5fd9-4a31-9ae4-ae815c9a6dc6.jpeg.\n",
      "[INFO] File size: 1456297 bytes\n",
      "[INFO] Uploading food_photos/peach/e9e46648-b70b-46ce-99df-7cce44497ae1.jpeg to all_images/e9e46648-b70b-46ce-99df-7cce44497ae1.jpeg...\n",
      "[INFO] Connected to Google Storage bucket: food_vision_bucket_with_object_versioning\n"
     ]
    },
    {
     "name": "stderr",
     "output_type": "stream",
     "text": [
      " 98%|█████████▊| 642/658 [28:37<00:50,  3.17s/it]"
     ]
    },
    {
     "name": "stdout",
     "output_type": "stream",
     "text": [
      "[INFO] File food_photos/peach/e9e46648-b70b-46ce-99df-7cce44497ae1.jpeg uploaded to food_vision_bucket_with_object_versioning/all_images/e9e46648-b70b-46ce-99df-7cce44497ae1.jpeg.\n",
      "[INFO] File size: 2994800 bytes\n",
      "[INFO] Uploading food_photos/peach/e1469fa2-9d78-4a2b-9527-35c3016c0326.jpeg to all_images/e1469fa2-9d78-4a2b-9527-35c3016c0326.jpeg...\n",
      "[INFO] Connected to Google Storage bucket: food_vision_bucket_with_object_versioning\n"
     ]
    },
    {
     "name": "stderr",
     "output_type": "stream",
     "text": [
      " 98%|█████████▊| 643/658 [28:41<00:52,  3.50s/it]"
     ]
    },
    {
     "name": "stdout",
     "output_type": "stream",
     "text": [
      "[INFO] File food_photos/peach/e1469fa2-9d78-4a2b-9527-35c3016c0326.jpeg uploaded to food_vision_bucket_with_object_versioning/all_images/e1469fa2-9d78-4a2b-9527-35c3016c0326.jpeg.\n",
      "[INFO] File size: 2330337 bytes\n",
      "[INFO] Uploading food_photos/peach/59bd4788-8c90-46d2-95d8-52280cf5fb2e.jpeg to all_images/59bd4788-8c90-46d2-95d8-52280cf5fb2e.jpeg...\n",
      "[INFO] Connected to Google Storage bucket: food_vision_bucket_with_object_versioning\n"
     ]
    },
    {
     "name": "stderr",
     "output_type": "stream",
     "text": [
      " 98%|█████████▊| 644/658 [28:45<00:49,  3.52s/it]"
     ]
    },
    {
     "name": "stdout",
     "output_type": "stream",
     "text": [
      "[INFO] File food_photos/peach/59bd4788-8c90-46d2-95d8-52280cf5fb2e.jpeg uploaded to food_vision_bucket_with_object_versioning/all_images/59bd4788-8c90-46d2-95d8-52280cf5fb2e.jpeg.\n",
      "[INFO] File size: 2469417 bytes\n",
      "[INFO] Uploading food_photos/peach/bf5c1d29-8c14-4fdc-983e-724f549bb273.jpeg to all_images/bf5c1d29-8c14-4fdc-983e-724f549bb273.jpeg...\n",
      "[INFO] Connected to Google Storage bucket: food_vision_bucket_with_object_versioning\n"
     ]
    },
    {
     "name": "stderr",
     "output_type": "stream",
     "text": [
      " 98%|█████████▊| 645/658 [28:48<00:45,  3.48s/it]"
     ]
    },
    {
     "name": "stdout",
     "output_type": "stream",
     "text": [
      "[INFO] File food_photos/peach/bf5c1d29-8c14-4fdc-983e-724f549bb273.jpeg uploaded to food_vision_bucket_with_object_versioning/all_images/bf5c1d29-8c14-4fdc-983e-724f549bb273.jpeg.\n",
      "[INFO] File size: 3090474 bytes\n",
      "[INFO] Uploading food_photos/peach/35dcb758-3718-4a22-b979-d804dae4e574.jpeg to all_images/35dcb758-3718-4a22-b979-d804dae4e574.jpeg...\n",
      "[INFO] Connected to Google Storage bucket: food_vision_bucket_with_object_versioning\n"
     ]
    },
    {
     "name": "stderr",
     "output_type": "stream",
     "text": [
      " 98%|█████████▊| 646/658 [28:50<00:37,  3.13s/it]"
     ]
    },
    {
     "name": "stdout",
     "output_type": "stream",
     "text": [
      "[INFO] File food_photos/peach/35dcb758-3718-4a22-b979-d804dae4e574.jpeg uploaded to food_vision_bucket_with_object_versioning/all_images/35dcb758-3718-4a22-b979-d804dae4e574.jpeg.\n",
      "[INFO] File size: 1903851 bytes\n",
      "[INFO] Uploading food_photos/peach/0b2017ac-db12-4fa8-8b8a-9a9c53baee19.jpeg to all_images/0b2017ac-db12-4fa8-8b8a-9a9c53baee19.jpeg...\n",
      "[INFO] Connected to Google Storage bucket: food_vision_bucket_with_object_versioning\n"
     ]
    },
    {
     "name": "stderr",
     "output_type": "stream",
     "text": [
      " 98%|█████████▊| 647/658 [28:54<00:38,  3.47s/it]"
     ]
    },
    {
     "name": "stdout",
     "output_type": "stream",
     "text": [
      "[INFO] File food_photos/peach/0b2017ac-db12-4fa8-8b8a-9a9c53baee19.jpeg uploaded to food_vision_bucket_with_object_versioning/all_images/0b2017ac-db12-4fa8-8b8a-9a9c53baee19.jpeg.\n",
      "[INFO] File size: 2341930 bytes\n",
      "[INFO] Uploading food_photos/peach/39d58ec9-10a1-4a6f-aebd-edf8e5f7c575.jpeg to all_images/39d58ec9-10a1-4a6f-aebd-edf8e5f7c575.jpeg...\n",
      "[INFO] Connected to Google Storage bucket: food_vision_bucket_with_object_versioning\n"
     ]
    },
    {
     "name": "stderr",
     "output_type": "stream",
     "text": [
      " 98%|█████████▊| 648/658 [28:59<00:37,  3.78s/it]"
     ]
    },
    {
     "name": "stdout",
     "output_type": "stream",
     "text": [
      "[INFO] File food_photos/peach/39d58ec9-10a1-4a6f-aebd-edf8e5f7c575.jpeg uploaded to food_vision_bucket_with_object_versioning/all_images/39d58ec9-10a1-4a6f-aebd-edf8e5f7c575.jpeg.\n",
      "[INFO] File size: 2504193 bytes\n",
      "[INFO] Uploading food_photos/peach/73083846-9538-4802-9896-774a4d8ecb47.jpeg to all_images/73083846-9538-4802-9896-774a4d8ecb47.jpeg...\n",
      "[INFO] Connected to Google Storage bucket: food_vision_bucket_with_object_versioning\n"
     ]
    },
    {
     "name": "stderr",
     "output_type": "stream",
     "text": [
      " 99%|█████████▊| 649/658 [29:03<00:33,  3.73s/it]"
     ]
    },
    {
     "name": "stdout",
     "output_type": "stream",
     "text": [
      "[INFO] File food_photos/peach/73083846-9538-4802-9896-774a4d8ecb47.jpeg uploaded to food_vision_bucket_with_object_versioning/all_images/73083846-9538-4802-9896-774a4d8ecb47.jpeg.\n",
      "[INFO] File size: 3008046 bytes\n",
      "[INFO] Uploading food_photos/peach/66d535f2-2bc9-4646-a51e-7547fb3a953f.jpeg to all_images/66d535f2-2bc9-4646-a51e-7547fb3a953f.jpeg...\n",
      "[INFO] Connected to Google Storage bucket: food_vision_bucket_with_object_versioning\n"
     ]
    },
    {
     "name": "stderr",
     "output_type": "stream",
     "text": [
      " 99%|█████████▉| 650/658 [29:05<00:26,  3.28s/it]"
     ]
    },
    {
     "name": "stdout",
     "output_type": "stream",
     "text": [
      "[INFO] File food_photos/peach/66d535f2-2bc9-4646-a51e-7547fb3a953f.jpeg uploaded to food_vision_bucket_with_object_versioning/all_images/66d535f2-2bc9-4646-a51e-7547fb3a953f.jpeg.\n",
      "[INFO] File size: 1942543 bytes\n",
      "[INFO] Uploading food_photos/peach/67a676d9-ae84-4c29-93f0-aee36460128e.jpeg to all_images/67a676d9-ae84-4c29-93f0-aee36460128e.jpeg...\n",
      "[INFO] Connected to Google Storage bucket: food_vision_bucket_with_object_versioning\n"
     ]
    },
    {
     "name": "stderr",
     "output_type": "stream",
     "text": [
      " 99%|█████████▉| 651/658 [29:09<00:24,  3.57s/it]"
     ]
    },
    {
     "name": "stdout",
     "output_type": "stream",
     "text": [
      "[INFO] File food_photos/peach/67a676d9-ae84-4c29-93f0-aee36460128e.jpeg uploaded to food_vision_bucket_with_object_versioning/all_images/67a676d9-ae84-4c29-93f0-aee36460128e.jpeg.\n",
      "[INFO] File size: 2382237 bytes\n",
      "[INFO] Uploading food_photos/peach/59b8a307-7676-415f-94c2-d7ab4e4330d1.jpeg to all_images/59b8a307-7676-415f-94c2-d7ab4e4330d1.jpeg...\n",
      "[INFO] Connected to Google Storage bucket: food_vision_bucket_with_object_versioning\n"
     ]
    },
    {
     "name": "stderr",
     "output_type": "stream",
     "text": [
      " 99%|█████████▉| 652/658 [29:14<00:23,  3.91s/it]"
     ]
    },
    {
     "name": "stdout",
     "output_type": "stream",
     "text": [
      "[INFO] File food_photos/peach/59b8a307-7676-415f-94c2-d7ab4e4330d1.jpeg uploaded to food_vision_bucket_with_object_versioning/all_images/59b8a307-7676-415f-94c2-d7ab4e4330d1.jpeg.\n",
      "[INFO] File size: 3443763 bytes\n",
      "[INFO] Uploading food_photos/peach/1db7ae2f-72ab-48a9-b04a-362f243e31c7.jpeg to all_images/1db7ae2f-72ab-48a9-b04a-362f243e31c7.jpeg...\n",
      "[INFO] Connected to Google Storage bucket: food_vision_bucket_with_object_versioning\n"
     ]
    },
    {
     "name": "stderr",
     "output_type": "stream",
     "text": [
      " 99%|█████████▉| 653/658 [29:17<00:19,  3.81s/it]"
     ]
    },
    {
     "name": "stdout",
     "output_type": "stream",
     "text": [
      "[INFO] File food_photos/peach/1db7ae2f-72ab-48a9-b04a-362f243e31c7.jpeg uploaded to food_vision_bucket_with_object_versioning/all_images/1db7ae2f-72ab-48a9-b04a-362f243e31c7.jpeg.\n",
      "[INFO] File size: 3224776 bytes\n",
      "[INFO] Uploading food_photos/peach/bce7b593-13ff-42e0-bea3-4ad9bb727d30.jpeg to all_images/bce7b593-13ff-42e0-bea3-4ad9bb727d30.jpeg...\n",
      "[INFO] Connected to Google Storage bucket: food_vision_bucket_with_object_versioning\n"
     ]
    },
    {
     "name": "stderr",
     "output_type": "stream",
     "text": [
      " 99%|█████████▉| 654/658 [29:20<00:14,  3.56s/it]"
     ]
    },
    {
     "name": "stdout",
     "output_type": "stream",
     "text": [
      "[INFO] File food_photos/peach/bce7b593-13ff-42e0-bea3-4ad9bb727d30.jpeg uploaded to food_vision_bucket_with_object_versioning/all_images/bce7b593-13ff-42e0-bea3-4ad9bb727d30.jpeg.\n",
      "[INFO] File size: 3059730 bytes\n",
      "[INFO] Uploading food_photos/peach/34a0f7d7-6520-405d-a05e-c22a0e4916b1.jpeg to all_images/34a0f7d7-6520-405d-a05e-c22a0e4916b1.jpeg...\n",
      "[INFO] Connected to Google Storage bucket: food_vision_bucket_with_object_versioning\n"
     ]
    },
    {
     "name": "stderr",
     "output_type": "stream",
     "text": [
      "100%|█████████▉| 655/658 [29:24<00:10,  3.59s/it]"
     ]
    },
    {
     "name": "stdout",
     "output_type": "stream",
     "text": [
      "[INFO] File food_photos/peach/34a0f7d7-6520-405d-a05e-c22a0e4916b1.jpeg uploaded to food_vision_bucket_with_object_versioning/all_images/34a0f7d7-6520-405d-a05e-c22a0e4916b1.jpeg.\n",
      "[INFO] File size: 2342196 bytes\n",
      "[INFO] Uploading food_photos/peach/0e9ee994-4355-485a-b6ab-ca88955e2bf7.jpeg to all_images/0e9ee994-4355-485a-b6ab-ca88955e2bf7.jpeg...\n",
      "[INFO] Connected to Google Storage bucket: food_vision_bucket_with_object_versioning\n"
     ]
    },
    {
     "name": "stderr",
     "output_type": "stream",
     "text": [
      "100%|█████████▉| 656/658 [29:28<00:07,  3.72s/it]"
     ]
    },
    {
     "name": "stdout",
     "output_type": "stream",
     "text": [
      "[INFO] File food_photos/peach/0e9ee994-4355-485a-b6ab-ca88955e2bf7.jpeg uploaded to food_vision_bucket_with_object_versioning/all_images/0e9ee994-4355-485a-b6ab-ca88955e2bf7.jpeg.\n",
      "[INFO] File size: 2226431 bytes\n",
      "[INFO] Uploading food_photos/peach/92cee889-cd88-4e09-b39a-dcfebc503458.jpeg to all_images/92cee889-cd88-4e09-b39a-dcfebc503458.jpeg...\n",
      "[INFO] Connected to Google Storage bucket: food_vision_bucket_with_object_versioning\n"
     ]
    },
    {
     "name": "stderr",
     "output_type": "stream",
     "text": [
      "100%|█████████▉| 657/658 [29:31<00:03,  3.64s/it]"
     ]
    },
    {
     "name": "stdout",
     "output_type": "stream",
     "text": [
      "[INFO] File food_photos/peach/92cee889-cd88-4e09-b39a-dcfebc503458.jpeg uploaded to food_vision_bucket_with_object_versioning/all_images/92cee889-cd88-4e09-b39a-dcfebc503458.jpeg.\n",
      "[INFO] File size: 2531965 bytes\n",
      "[INFO] Uploading food_photos/peach/855c9aa2-0302-4c72-94e3-c7734bb993a7.jpeg to all_images/855c9aa2-0302-4c72-94e3-c7734bb993a7.jpeg...\n",
      "[INFO] Connected to Google Storage bucket: food_vision_bucket_with_object_versioning\n"
     ]
    },
    {
     "name": "stderr",
     "output_type": "stream",
     "text": [
      "100%|██████████| 658/658 [29:34<00:00,  2.70s/it]"
     ]
    },
    {
     "name": "stdout",
     "output_type": "stream",
     "text": [
      "[INFO] File food_photos/peach/855c9aa2-0302-4c72-94e3-c7734bb993a7.jpeg uploaded to food_vision_bucket_with_object_versioning/all_images/855c9aa2-0302-4c72-94e3-c7734bb993a7.jpeg.\n",
      "[INFO] File size: 1850907 bytes\n",
      "[INFO] Uploaded 657 images to GCP bucket\n"
     ]
    },
    {
     "name": "stderr",
     "output_type": "stream",
     "text": [
      "\n"
     ]
    }
   ],
   "source": [
    "# Loop through image_paths and upload the image as long as its name isn't in gs_image_paths_name\n",
    "from tqdm.auto import tqdm\n",
    "\n",
    "num_images_uploaded = 0\n",
    "for image_path in tqdm(image_paths):\n",
    "    if image_path.name not in gs_image_paths_name:\n",
    "        \n",
    "        # Upload the image to Google Storage\n",
    "        upload_to_gs(bucket_name=GS_BUCKET_NAME,\n",
    "                     source_file_name=image_path,\n",
    "                     destination_blob_name=f\"all_images/{image_path.name}\")\n",
    "        \n",
    "        num_images_uploaded += 1\n",
    "\n",
    "print(f\"[INFO] Uploaded {num_images_uploaded} images to GCP bucket\")"
   ]
  },
  {
   "cell_type": "code",
   "execution_count": 79,
   "metadata": {},
   "outputs": [],
   "source": [
    "# Track the changes to GCP bucket with Weights & Biases\n",
    "from utils.wandb_utils import wandb_add_artifact_with_reference"
   ]
  },
  {
   "cell_type": "code",
   "execution_count": 83,
   "metadata": {},
   "outputs": [],
   "source": [
    "def wandb_add_artifact_with_reference(wandb_run, artifact_name, artifact_type, description, reference_path):\n",
    "    print(f\"[INFO] Logging '{artifact_name}' from '{reference_path}' to Weights & Biases...\")\n",
    "    artifact = wandb.Artifact(name=artifact_name, \n",
    "                              type=artifact_type,\n",
    "                              description=description,\n",
    "                              )\n",
    "    artifact.add_reference(reference_path, max_objects=1e9) # default capability to track up to 1 billion images\n",
    "    wandb_run.log_artifact(artifact)"
   ]
  },
  {
   "cell_type": "code",
   "execution_count": 84,
   "metadata": {},
   "outputs": [
    {
     "name": "stdout",
     "output_type": "stream",
     "text": [
      "[INFO] Logging 'food_vision_199_classes_images' from 'gs://food_vision_bucket_with_object_versioning/all_images' to Weights & Biases...\n"
     ]
    },
    {
     "name": "stderr",
     "output_type": "stream",
     "text": [
      "\u001b[34m\u001b[1mwandb\u001b[0m: Generating checksum for up to 1000000000 objects with prefix \"all_images\"... Done. 6.3s\n"
     ]
    }
   ],
   "source": [
    "# Track updated images_dir in Weights & Biases\n",
    "food_images_path_on_gs = \"gs://food_vision_bucket_with_object_versioning/all_images\"\n",
    "\n",
    "wandb_add_artifact_with_reference(wandb_run=run,\n",
    "                                  artifact_name=\"food_vision_199_classes_images\",\n",
    "                                  artifact_type=\"dataset\",\n",
    "                                  description=\"Images for FoodVision project\",\n",
    "                                  reference_path=food_images_path_on_gs)"
   ]
  },
  {
   "cell_type": "code",
   "execution_count": 85,
   "metadata": {},
   "outputs": [
    {
     "data": {
      "text/plain": [
       "23993"
      ]
     },
     "execution_count": 85,
     "metadata": {},
     "output_type": "execute_result"
    }
   ],
   "source": [
    "original_num_images = len(gs_image_paths)\n",
    "original_num_images"
   ]
  },
  {
   "cell_type": "code",
   "execution_count": 86,
   "metadata": {},
   "outputs": [
    {
     "name": "stdout",
     "output_type": "stream",
     "text": [
      "[INFO] There are 24650 images in the GCP bucket\n"
     ]
    }
   ],
   "source": [
    "# Get list of images already in GCP bucket\n",
    "gs_image_paths = get_list_of_blobs(bucket_name=GS_BUCKET_NAME, prefix=\"all_images\")\n",
    "print(f\"[INFO] There are {len(gs_image_paths)} images in the GCP bucket\")"
   ]
  },
  {
   "cell_type": "code",
   "execution_count": null,
   "metadata": {},
   "outputs": [],
   "source": [
    "# Next:\n",
    "# Create labels CSV for all photos in food_photos ✅\n",
    "# Add labels CSV to original annotations ✅\n",
    "# Upload all photos in food_photos to GCP ✅\n",
    "# Track updates in W&B\n",
    "\n",
    "# Train a model and track how it performs (by only upgrading training data)"
   ]
  }
 ],
 "metadata": {
  "kernelspec": {
   "display_name": "Python 3",
   "language": "python",
   "name": "python3"
  },
  "language_info": {
   "codemirror_mode": {
    "name": "ipython",
    "version": 3
   },
   "file_extension": ".py",
   "mimetype": "text/x-python",
   "name": "python",
   "nbconvert_exporter": "python",
   "pygments_lexer": "ipython3",
   "version": "3.8.10 (default, Nov 26 2021, 20:14:08) \n[GCC 9.3.0]"
  },
  "orig_nbformat": 4,
  "vscode": {
   "interpreter": {
    "hash": "31f2aee4e71d21fbe5cf8b01ff0e069b9275f58929596ceb00d14d90e3e16cd6"
   }
  }
 },
 "nbformat": 4,
 "nbformat_minor": 2
}
