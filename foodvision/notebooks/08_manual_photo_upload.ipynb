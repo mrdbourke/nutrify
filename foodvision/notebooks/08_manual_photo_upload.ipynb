{
 "cells": [
  {
   "attachments": {},
   "cell_type": "markdown",
   "metadata": {},
   "source": [
    "## Manually label and upload photos to the database\n",
    "\n",
    "* **Input:** folder with classifc image classification format:\n",
    "\n",
    "```\n",
    "images/\n",
    "    class_1/\n",
    "        image_1.jpg\n",
    "        image_2.jpg\n",
    "        ...\n",
    "    class_2/\n",
    "        image_3.jpeg\n",
    "        image_4.jpeg\n",
    "        ...\n",
    "    ...\n",
    "```\n",
    "\n",
    "* **Output:** Labelled images stored in GCP and tracked with Weights & Biases Artifacts. \n"
   ]
  },
  {
   "cell_type": "code",
   "execution_count": 21,
   "metadata": {},
   "outputs": [],
   "source": [
    "# Append the upper level directory to sys\n",
    "import sys\n",
    "sys.path.append(\"..\")\n",
    "\n",
    "import pandas as pd\n",
    "import numpy as np\n",
    "\n",
    "from pathlib import Path"
   ]
  },
  {
   "cell_type": "code",
   "execution_count": 22,
   "metadata": {},
   "outputs": [],
   "source": [
    "# !rm -rf food_photos/*\n",
    "# !rm -rf _MACOSX/*"
   ]
  },
  {
   "cell_type": "code",
   "execution_count": 23,
   "metadata": {},
   "outputs": [],
   "source": [
    "# !unzip -q 2023-02-08-food_photos.zip"
   ]
  },
  {
   "cell_type": "code",
   "execution_count": 24,
   "metadata": {},
   "outputs": [
    {
     "data": {
      "text/plain": [
       "[PosixPath('food_photos/apple_green/02ff91bd-e0f6-4c45-8ff7-647c28e61892.jpeg'),\n",
       " PosixPath('food_photos/apple_green/146c487e-66c1-4eec-82c0-f55d63e6cd3e.jpeg'),\n",
       " PosixPath('food_photos/apple_green/15f9c8ae-0445-4bdf-8aa1-750466fb2f81.jpeg'),\n",
       " PosixPath('food_photos/apple_green/16b97ddc-2283-4869-81ab-87304ef686c0.jpeg'),\n",
       " PosixPath('food_photos/apple_green/1a1c3398-add7-467a-acf1-4422e76e32a2.jpeg'),\n",
       " PosixPath('food_photos/apple_green/258e04e8-a8ca-48c0-a81e-7174e85af4ae.jpeg'),\n",
       " PosixPath('food_photos/apple_green/27261ac1-45c9-4654-85b0-c8638c7d2887.jpeg'),\n",
       " PosixPath('food_photos/apple_green/296f8b26-0fb0-43d3-85c4-6165fa847415.jpeg'),\n",
       " PosixPath('food_photos/apple_green/29c2d5e4-9002-4119-961e-762faadd083c.jpeg'),\n",
       " PosixPath('food_photos/apple_green/29d088ed-9990-41b9-b2f4-a4b07a399e8d.jpeg')]"
      ]
     },
     "execution_count": 24,
     "metadata": {},
     "output_type": "execute_result"
    }
   ],
   "source": [
    "# Get list of all paths in food_photos directory\n",
    "path = Path('food_photos')\n",
    "all_paths = sorted(list(path.glob('*/*.jpeg')))\n",
    "all_paths[:10]"
   ]
  },
  {
   "cell_type": "code",
   "execution_count": 25,
   "metadata": {},
   "outputs": [
    {
     "data": {
      "text/plain": [
       "1257"
      ]
     },
     "execution_count": 25,
     "metadata": {},
     "output_type": "execute_result"
    }
   ],
   "source": [
    "len(all_paths)"
   ]
  },
  {
   "cell_type": "code",
   "execution_count": 26,
   "metadata": {},
   "outputs": [
    {
     "name": "stdout",
     "output_type": "stream",
     "text": [
      "some-file-name is not a valid UUID\n"
     ]
    }
   ],
   "source": [
    "import uuid\n",
    "\n",
    "def is_valid_uuid(string):\n",
    "    try:\n",
    "        uuid.UUID(string)\n",
    "        return True\n",
    "    except ValueError:\n",
    "        return False\n",
    "\n",
    "filename = \"some-file-name\"\n",
    "if is_valid_uuid(filename):\n",
    "    print(f\"{filename} is a valid UUID\")\n",
    "else:\n",
    "    print(f\"{filename} is not a valid UUID\")"
   ]
  },
  {
   "cell_type": "code",
   "execution_count": 27,
   "metadata": {},
   "outputs": [
    {
     "data": {
      "text/plain": [
       "[PosixPath('food_photos/apple_green/02ff91bd-e0f6-4c45-8ff7-647c28e61892.jpeg'),\n",
       " PosixPath('food_photos/apple_green/146c487e-66c1-4eec-82c0-f55d63e6cd3e.jpeg'),\n",
       " PosixPath('food_photos/apple_green/15f9c8ae-0445-4bdf-8aa1-750466fb2f81.jpeg'),\n",
       " PosixPath('food_photos/apple_green/16b97ddc-2283-4869-81ab-87304ef686c0.jpeg'),\n",
       " PosixPath('food_photos/apple_green/1a1c3398-add7-467a-acf1-4422e76e32a2.jpeg'),\n",
       " PosixPath('food_photos/apple_green/258e04e8-a8ca-48c0-a81e-7174e85af4ae.jpeg'),\n",
       " PosixPath('food_photos/apple_green/27261ac1-45c9-4654-85b0-c8638c7d2887.jpeg'),\n",
       " PosixPath('food_photos/apple_green/296f8b26-0fb0-43d3-85c4-6165fa847415.jpeg'),\n",
       " PosixPath('food_photos/apple_green/29c2d5e4-9002-4119-961e-762faadd083c.jpeg'),\n",
       " PosixPath('food_photos/apple_green/29d088ed-9990-41b9-b2f4-a4b07a399e8d.jpeg')]"
      ]
     },
     "execution_count": 27,
     "metadata": {},
     "output_type": "execute_result"
    }
   ],
   "source": [
    "# Loop through all_paths, if the path is a UUID, pass, if not, rename the file to a UUID\n",
    "for p in all_paths:\n",
    "    if not is_valid_uuid(p.stem):\n",
    "        new_name = uuid.uuid4()\n",
    "        # print(new_name)\n",
    "        new_path_name = p.parent / f'{new_name}.jpeg'\n",
    "        p.rename(new_path_name)\n",
    "\n",
    "# Get list of all paths in food_photos directory\n",
    "path = Path('food_photos')\n",
    "all_paths = sorted(list(path.glob('*/*.jpeg')))\n",
    "all_paths[:10]"
   ]
  },
  {
   "cell_type": "code",
   "execution_count": 28,
   "metadata": {},
   "outputs": [
    {
     "data": {
      "text/plain": [
       "['apple_green',\n",
       " 'apple_red',\n",
       " 'avocado',\n",
       " 'bacon',\n",
       " 'banana',\n",
       " 'banana_bread',\n",
       " 'beef_stir_fry',\n",
       " 'biltong',\n",
       " 'blueberries',\n",
       " 'bread',\n",
       " 'bread_naan',\n",
       " 'broccoli',\n",
       " 'broccolini',\n",
       " 'butter',\n",
       " 'capsicum',\n",
       " 'carrot',\n",
       " 'cheese',\n",
       " 'cheeseburger',\n",
       " 'cherries',\n",
       " 'chicken_thighs',\n",
       " 'coffee',\n",
       " 'coleslaw',\n",
       " 'corn',\n",
       " 'cucumber',\n",
       " 'curry_chicken',\n",
       " 'dates',\n",
       " 'eggs',\n",
       " 'fries',\n",
       " 'garlic',\n",
       " 'grapes',\n",
       " 'green_beans',\n",
       " 'honey',\n",
       " 'ice_coffee',\n",
       " 'kiwi_fruit',\n",
       " 'lemon',\n",
       " 'lime',\n",
       " 'lychee',\n",
       " 'mango',\n",
       " 'milk',\n",
       " 'mushrooms',\n",
       " 'nectarines',\n",
       " 'omelette',\n",
       " 'onion_brown',\n",
       " 'onion_red',\n",
       " 'onion_white',\n",
       " 'orange_juice',\n",
       " 'passionfruit',\n",
       " 'peach',\n",
       " 'plum',\n",
       " 'pomegranate',\n",
       " 'porridge',\n",
       " 'potato_bake',\n",
       " 'potato_brown',\n",
       " 'potato_white',\n",
       " 'pumpkin',\n",
       " 'rice',\n",
       " 'roast_pork',\n",
       " 'roast_potatoes',\n",
       " 'steak',\n",
       " 'tea',\n",
       " 'tomato',\n",
       " 'watermelon',\n",
       " 'yoghurt',\n",
       " 'zucchini']"
      ]
     },
     "execution_count": 28,
     "metadata": {},
     "output_type": "execute_result"
    }
   ],
   "source": [
    "# Get all food_types from all_paths\n",
    "food_types = sorted(list(set([p.parent.name for p in all_paths])))\n",
    "food_types"
   ]
  },
  {
   "cell_type": "markdown",
   "metadata": {},
   "source": [
    "## Download original labels from Weights & Biases"
   ]
  },
  {
   "cell_type": "code",
   "execution_count": 29,
   "metadata": {},
   "outputs": [
    {
     "name": "stdout",
     "output_type": "stream",
     "text": [
      "namespace(annotations_columns_to_export=['filename', 'image_name', 'class_name', 'label', 'split', 'clear_or_confusing', 'whole_food_or_dish', 'one_food_or_multiple', 'label_last_updated_at', 'label_source', 'image_source'], auto_augment=True, batch_size=128, epochs=10, gs_bucket_name='food_vision_bucket_with_object_versioning', gs_image_storage_path='https://storage.cloud.google.com/food_vision_bucket_with_object_versioning/all_images/', input_size=224, label_smoothing=0.1, learning_rate=0.001, model='coatnext_nano_rw_224', num_to_try_and_autocorrect=1000, path_to_gcp_credentials='utils/google-storage-key.json', path_to_label_studio_api_key='utils/label_studio_api_key.json', pretrained=True, seed=42, use_mixed_precision=True, wandb_dataset_artifact='food_vision_199_classes_images:latest', wandb_job_type='', wandb_labels_artifact='food_vision_labels:latest', wandb_model_artifact='trained_model:latest', wandb_project='test_wandb_artifacts_by_reference', wandb_run_notes='', wandb_run_tags=[''], wandb_train_preds_artifact='train_predictions:latest', workers=16)\n"
     ]
    }
   ],
   "source": [
    "# Get config\n",
    "from configs.default_config import config\n",
    "\n",
    "args = config\n",
    "print(args)"
   ]
  },
  {
   "cell_type": "code",
   "execution_count": 30,
   "metadata": {},
   "outputs": [
    {
     "name": "stdout",
     "output_type": "stream",
     "text": [
      "[INFO] GCP credentials set!\n",
      "[INFO] GCP connection successful! Access to GCP for saving/loading data and models available.\n"
     ]
    }
   ],
   "source": [
    "# Connect to GCP\n",
    "from utils.gcp_utils import set_gcp_credentials, test_gcp_connection\n",
    "set_gcp_credentials(path_to_key=\"../utils/google-storage-key.json\")\n",
    "test_gcp_connection()"
   ]
  },
  {
   "cell_type": "code",
   "execution_count": 43,
   "metadata": {},
   "outputs": [
    {
     "data": {
      "text/html": [
       "Finishing last run (ID:26vagck1) before initializing another..."
      ],
      "text/plain": [
       "<IPython.core.display.HTML object>"
      ]
     },
     "metadata": {},
     "output_type": "display_data"
    },
    {
     "data": {
      "text/html": [
       "Waiting for W&B process to finish... <strong style=\"color:green\">(success).</strong>"
      ],
      "text/plain": [
       "<IPython.core.display.HTML object>"
      ]
     },
     "metadata": {},
     "output_type": "display_data"
    },
    {
     "data": {
      "application/vnd.jupyter.widget-view+json": {
       "model_id": "bf4a80b2674d4ae2b4f5f8b0140cf000",
       "version_major": 2,
       "version_minor": 0
      },
      "text/plain": [
       "VBox(children=(Label(value='0.001 MB of 0.001 MB uploaded (0.000 MB deduped)\\r'), FloatProgress(value=1.0, max…"
      ]
     },
     "metadata": {},
     "output_type": "display_data"
    },
    {
     "data": {
      "text/html": [
       "Synced <strong style=\"color:#cdcd00\">peachy-frost-353</strong>: <a href=\"https://wandb.ai/mrdbourke/test_wandb_artifacts_by_reference/runs/26vagck1\" target=\"_blank\">https://wandb.ai/mrdbourke/test_wandb_artifacts_by_reference/runs/26vagck1</a><br/>Synced 6 W&B file(s), 0 media file(s), 0 artifact file(s) and 0 other file(s)"
      ],
      "text/plain": [
       "<IPython.core.display.HTML object>"
      ]
     },
     "metadata": {},
     "output_type": "display_data"
    },
    {
     "data": {
      "text/html": [
       "Find logs at: <code>./wandb/run-20230213_100344-26vagck1/logs</code>"
      ],
      "text/plain": [
       "<IPython.core.display.HTML object>"
      ]
     },
     "metadata": {},
     "output_type": "display_data"
    },
    {
     "data": {
      "text/html": [
       "Successfully finished last run (ID:26vagck1). Initializing new run:<br/>"
      ],
      "text/plain": [
       "<IPython.core.display.HTML object>"
      ]
     },
     "metadata": {},
     "output_type": "display_data"
    },
    {
     "data": {
      "text/html": [
       "wandb version 0.13.10 is available!  To upgrade, please run:\n",
       " $ pip install wandb --upgrade"
      ],
      "text/plain": [
       "<IPython.core.display.HTML object>"
      ]
     },
     "metadata": {},
     "output_type": "display_data"
    },
    {
     "data": {
      "text/html": [
       "Tracking run with wandb version 0.12.21"
      ],
      "text/plain": [
       "<IPython.core.display.HTML object>"
      ]
     },
     "metadata": {},
     "output_type": "display_data"
    },
    {
     "data": {
      "text/html": [
       "Run data is saved locally in <code>/home/daniel/code/nutrify/foodvision/notebooks/wandb/run-20230213_101300-3ifylz0d</code>"
      ],
      "text/plain": [
       "<IPython.core.display.HTML object>"
      ]
     },
     "metadata": {},
     "output_type": "display_data"
    },
    {
     "data": {
      "text/html": [
       "Syncing run <strong><a href=\"https://wandb.ai/mrdbourke/test_wandb_artifacts_by_reference/runs/3ifylz0d\" target=\"_blank\">rosy-dragon-354</a></strong> to <a href=\"https://wandb.ai/mrdbourke/test_wandb_artifacts_by_reference\" target=\"_blank\">Weights & Biases</a> (<a href=\"https://wandb.me/run\" target=\"_blank\">docs</a>)<br/>"
      ],
      "text/plain": [
       "<IPython.core.display.HTML object>"
      ]
     },
     "metadata": {},
     "output_type": "display_data"
    },
    {
     "name": "stdout",
     "output_type": "stream",
     "text": [
      "[INFO] Labels directory: ./artifacts/food_vision_labels:v21\n",
      "[INFO] Labels path: artifacts/food_vision_labels:v21/annotations.csv\n",
      "[INFO] Working with: 199 classes\n"
     ]
    }
   ],
   "source": [
    "import wandb\n",
    "\n",
    "# Initialize a new run\n",
    "from utils.wandb_utils import wandb_load_artifact, wandb_download_and_load_labels\n",
    "\n",
    "notes = f\"add {len(all_paths)} manually taken photos to the training dataset\"\n",
    "\n",
    "run = wandb.init(project=args.wandb_project, \n",
    "                 job_type=args.wandb_job_type,\n",
    "                 tags=['manual_photo_upload'],\n",
    "                 notes=notes)\n",
    "\n",
    "annotations, class_names, class_dict, reverse_class_dict, labels_path = wandb_download_and_load_labels(wandb_run=run,\n",
    "wandb_labels_artifact_name=args.wandb_labels_artifact)"
   ]
  },
  {
   "cell_type": "code",
   "execution_count": 44,
   "metadata": {},
   "outputs": [
    {
     "data": {
      "text/plain": [
       "{'almond_butter': 0,\n",
       " 'almonds': 1,\n",
       " 'apple_red': 2,\n",
       " 'apricot': 3,\n",
       " 'asparagus': 4,\n",
       " 'avocado': 5,\n",
       " 'bacon': 6,\n",
       " 'bacon_and_egg_burger': 7,\n",
       " 'bagel': 8,\n",
       " 'baklava': 9,\n",
       " 'banana': 10,\n",
       " 'banana_bread': 11,\n",
       " 'barbecue_sauce': 12,\n",
       " 'beans': 13,\n",
       " 'beef': 14,\n",
       " 'beef_curry': 15,\n",
       " 'beef_mince': 16,\n",
       " 'beef_stir_fry': 17,\n",
       " 'beer': 18,\n",
       " 'beetroot': 19,\n",
       " 'biltong': 20,\n",
       " 'blackberries': 21,\n",
       " 'blueberries': 22,\n",
       " 'bok_choy': 23,\n",
       " 'bread': 24,\n",
       " 'broccoli': 25,\n",
       " 'broccolini': 26,\n",
       " 'brownie': 27,\n",
       " 'brussel_sprouts': 28,\n",
       " 'burrito': 29,\n",
       " 'butter': 30,\n",
       " 'cabbage': 31,\n",
       " 'calamari': 32,\n",
       " 'candy': 33,\n",
       " 'capsicum': 34,\n",
       " 'carrot': 35,\n",
       " 'cashews': 36,\n",
       " 'cauliflower': 37,\n",
       " 'celery': 38,\n",
       " 'cheese': 39,\n",
       " 'cheeseburger': 40,\n",
       " 'cherries': 41,\n",
       " 'chicken_breast': 42,\n",
       " 'chicken_thighs': 43,\n",
       " 'chicken_wings': 44,\n",
       " 'chilli': 45,\n",
       " 'chimichurri': 46,\n",
       " 'chocolate': 47,\n",
       " 'chocolate_cake': 48,\n",
       " 'coconut': 49,\n",
       " 'coffee': 50,\n",
       " 'coleslaw': 51,\n",
       " 'cookies': 52,\n",
       " 'coriander': 53,\n",
       " 'corn': 54,\n",
       " 'corn_chips': 55,\n",
       " 'cream': 56,\n",
       " 'croissant': 57,\n",
       " 'crumbed_chicken': 58,\n",
       " 'cucumber': 59,\n",
       " 'cupcake': 60,\n",
       " 'daikon_radish': 61,\n",
       " 'dates': 62,\n",
       " 'donuts': 63,\n",
       " 'dragonfruit': 64,\n",
       " 'eggplant': 65,\n",
       " 'eggs': 66,\n",
       " 'enoki_mushroom': 67,\n",
       " 'fennel': 68,\n",
       " 'figs': 69,\n",
       " 'french_toast': 70,\n",
       " 'fried_rice': 71,\n",
       " 'fries': 72,\n",
       " 'fruit_juice': 73,\n",
       " 'garlic': 74,\n",
       " 'garlic_bread': 75,\n",
       " 'ginger': 76,\n",
       " 'goji_berries': 77,\n",
       " 'granola': 78,\n",
       " 'grapefruit': 79,\n",
       " 'grapes': 80,\n",
       " 'green_beans': 81,\n",
       " 'onion_green': 82,\n",
       " 'guacamole': 83,\n",
       " 'guava': 84,\n",
       " 'gyoza': 85,\n",
       " 'ham': 86,\n",
       " 'honey': 87,\n",
       " 'hot_chocolate': 88,\n",
       " 'ice_coffee': 89,\n",
       " 'ice_cream': 90,\n",
       " 'iceberg_lettuce': 91,\n",
       " 'jerusalem_artichoke': 92,\n",
       " 'kale': 93,\n",
       " 'karaage_chicken': 94,\n",
       " 'kimchi': 95,\n",
       " 'kiwi_fruit': 96,\n",
       " 'lamb_chops': 97,\n",
       " 'leek': 98,\n",
       " 'lemon': 99,\n",
       " 'lentils': 100,\n",
       " 'lettuce': 101,\n",
       " 'lime': 102,\n",
       " 'mandarin': 103,\n",
       " 'mango': 104,\n",
       " 'maple_syrup': 105,\n",
       " 'mashed_potato': 106,\n",
       " 'mayonnaise': 107,\n",
       " 'milk': 108,\n",
       " 'miso_soup': 109,\n",
       " 'mushrooms': 110,\n",
       " 'nectarines': 111,\n",
       " 'noodles': 112,\n",
       " 'nuts': 113,\n",
       " 'olive_oil': 114,\n",
       " 'olives': 115,\n",
       " 'omelette': 116,\n",
       " 'onion_brown': 117,\n",
       " 'orange': 118,\n",
       " 'orange_juice': 119,\n",
       " 'oysters': 120,\n",
       " 'pain_au_chocolat': 121,\n",
       " 'pancakes': 122,\n",
       " 'papaya': 123,\n",
       " 'parsley': 124,\n",
       " 'parsnips': 125,\n",
       " 'passionfruit': 126,\n",
       " 'pasta': 127,\n",
       " 'pawpaw': 128,\n",
       " 'peach': 129,\n",
       " 'pear': 130,\n",
       " 'peas': 131,\n",
       " 'pickles': 132,\n",
       " 'pineapple': 133,\n",
       " 'pizza': 134,\n",
       " 'plum': 135,\n",
       " 'pomegranate': 136,\n",
       " 'popcorn': 137,\n",
       " 'pork_belly': 138,\n",
       " 'pork_chop': 139,\n",
       " 'pork_loins': 140,\n",
       " 'porridge': 141,\n",
       " 'potato_bake': 142,\n",
       " 'potato_chips': 143,\n",
       " 'potato_scallop': 144,\n",
       " 'potato_brown': 145,\n",
       " 'prawns': 146,\n",
       " 'pumpkin': 147,\n",
       " 'radish': 148,\n",
       " 'ramen': 149,\n",
       " 'raspberries': 150,\n",
       " 'onion_red': 151,\n",
       " 'red_wine': 152,\n",
       " 'rhubarb': 153,\n",
       " 'rice': 154,\n",
       " 'roast_beef': 155,\n",
       " 'roast_pork': 156,\n",
       " 'roast_potatoes': 157,\n",
       " 'rockmelon': 158,\n",
       " 'rosemary': 159,\n",
       " 'salad': 160,\n",
       " 'salami': 161,\n",
       " 'salmon': 162,\n",
       " 'salsa': 163,\n",
       " 'salt': 164,\n",
       " 'sandwich': 165,\n",
       " 'sardines': 166,\n",
       " 'sausage_roll': 167,\n",
       " 'sausages': 168,\n",
       " 'scrambled_eggs': 169,\n",
       " 'seaweed': 170,\n",
       " 'shallots': 171,\n",
       " 'snow_peas': 172,\n",
       " 'soda': 173,\n",
       " 'soy_sauce': 174,\n",
       " 'spaghetti_bolognese': 175,\n",
       " 'spinach': 176,\n",
       " 'sports_drink': 177,\n",
       " 'squash': 178,\n",
       " 'starfruit': 179,\n",
       " 'steak': 180,\n",
       " 'strawberries': 181,\n",
       " 'sushi': 182,\n",
       " 'sweet_potato': 183,\n",
       " 'tacos': 184,\n",
       " 'tamarillo': 185,\n",
       " 'taro': 186,\n",
       " 'tea': 187,\n",
       " 'toast': 188,\n",
       " 'tofu': 189,\n",
       " 'tomato': 190,\n",
       " 'tomato_chutney': 191,\n",
       " 'tomato_sauce': 192,\n",
       " 'turnip': 193,\n",
       " 'watermelon': 194,\n",
       " 'onion_white': 195,\n",
       " 'white_wine': 196,\n",
       " 'yoghurt': 197,\n",
       " 'zucchini': 198}"
      ]
     },
     "execution_count": 44,
     "metadata": {},
     "output_type": "execute_result"
    }
   ],
   "source": [
    "reverse_class_dict"
   ]
  },
  {
   "cell_type": "code",
   "execution_count": 45,
   "metadata": {},
   "outputs": [],
   "source": [
    "# Make a copy of the annotations\n",
    "original_annotations = annotations.copy()"
   ]
  },
  {
   "cell_type": "code",
   "execution_count": 46,
   "metadata": {},
   "outputs": [
    {
     "data": {
      "text/plain": [
       "['filename',\n",
       " 'image_name',\n",
       " 'class_name',\n",
       " 'label',\n",
       " 'split',\n",
       " 'clear_or_confusing',\n",
       " 'whole_food_or_dish',\n",
       " 'one_food_or_multiple',\n",
       " 'label_last_updated_at',\n",
       " 'label_source',\n",
       " 'image_source']"
      ]
     },
     "execution_count": 46,
     "metadata": {},
     "output_type": "execute_result"
    }
   ],
   "source": [
    "# Get the columns of the annotations\n",
    "columns_to_create = list(original_annotations.columns)\n",
    "columns_to_create"
   ]
  },
  {
   "cell_type": "code",
   "execution_count": 47,
   "metadata": {},
   "outputs": [
    {
     "data": {
      "text/plain": [
       "1257"
      ]
     },
     "execution_count": 47,
     "metadata": {},
     "output_type": "execute_result"
    }
   ],
   "source": [
    "# Get all the image paths from food_photos\n",
    "image_paths = list(Path('food_photos').glob('*/*.jpeg'))\n",
    "len(image_paths)"
   ]
  },
  {
   "cell_type": "code",
   "execution_count": 48,
   "metadata": {},
   "outputs": [
    {
     "data": {
      "text/plain": [
       "59"
      ]
     },
     "execution_count": 48,
     "metadata": {},
     "output_type": "execute_result"
    }
   ],
   "source": [
    "# Check to see what food_types are in class_names\n",
    "food_types_in_class_names = [food_type for food_type in food_types if food_type in class_names]\n",
    "\n",
    "# Check to see what food_types are not in class_names\n",
    "food_types_not_in_class_names = [food_type for food_type in food_types if food_type not in class_names]\n",
    "len(food_types_in_class_names)"
   ]
  },
  {
   "cell_type": "code",
   "execution_count": 62,
   "metadata": {},
   "outputs": [
    {
     "data": {
      "text/plain": [
       "['apple_green', 'bread_naan', 'curry_chicken', 'lychee', 'potato_white']"
      ]
     },
     "execution_count": 62,
     "metadata": {},
     "output_type": "execute_result"
    }
   ],
   "source": [
    "food_types_not_in_class_names"
   ]
  },
  {
   "cell_type": "code",
   "execution_count": 63,
   "metadata": {},
   "outputs": [],
   "source": [
    "# How to slot new classes into existing class_dict?\n",
    "# Then update the existing annotations with the new class labels (e.g. \"apple_green\" -> 2, \"apple_red\" -> 3)\n",
    "\n",
    "# Add new classes to class_dict\n",
    "for food_type in food_types_not_in_class_names:\n",
    "    class_dict[len(class_dict)] = food_type\n",
    "    class_names.append(food_type)\n",
    "    reverse_class_dict[food_type] = len(class_dict)-1"
   ]
  },
  {
   "cell_type": "code",
   "execution_count": 64,
   "metadata": {},
   "outputs": [
    {
     "data": {
      "text/html": [
       "<div>\n",
       "<style scoped>\n",
       "    .dataframe tbody tr th:only-of-type {\n",
       "        vertical-align: middle;\n",
       "    }\n",
       "\n",
       "    .dataframe tbody tr th {\n",
       "        vertical-align: top;\n",
       "    }\n",
       "\n",
       "    .dataframe thead th {\n",
       "        text-align: right;\n",
       "    }\n",
       "</style>\n",
       "<table border=\"1\" class=\"dataframe\">\n",
       "  <thead>\n",
       "    <tr style=\"text-align: right;\">\n",
       "      <th></th>\n",
       "      <th>filename</th>\n",
       "      <th>image_name</th>\n",
       "      <th>class_name</th>\n",
       "      <th>label</th>\n",
       "      <th>split</th>\n",
       "      <th>clear_or_confusing</th>\n",
       "      <th>whole_food_or_dish</th>\n",
       "      <th>one_food_or_multiple</th>\n",
       "      <th>label_last_updated_at</th>\n",
       "      <th>label_source</th>\n",
       "      <th>image_source</th>\n",
       "    </tr>\n",
       "  </thead>\n",
       "  <tbody>\n",
       "    <tr>\n",
       "      <th>0</th>\n",
       "      <td>food_photos/watermelon/913bb78d-c704-4dfe-9f18...</td>\n",
       "      <td>913bb78d-c704-4dfe-9f18-e8223f4fe888.jpeg</td>\n",
       "      <td>watermelon</td>\n",
       "      <td>194</td>\n",
       "      <td>train</td>\n",
       "      <td>clear</td>\n",
       "      <td>whole_food</td>\n",
       "      <td>one_food</td>\n",
       "      <td>2023-02-13_10-18-08</td>\n",
       "      <td>manual_upload</td>\n",
       "      <td>manual_upload</td>\n",
       "    </tr>\n",
       "    <tr>\n",
       "      <th>1</th>\n",
       "      <td>food_photos/watermelon/25660bf7-b26f-4976-9905...</td>\n",
       "      <td>25660bf7-b26f-4976-9905-fb73249506cb.jpeg</td>\n",
       "      <td>watermelon</td>\n",
       "      <td>194</td>\n",
       "      <td>train</td>\n",
       "      <td>clear</td>\n",
       "      <td>whole_food</td>\n",
       "      <td>one_food</td>\n",
       "      <td>2023-02-13_10-18-08</td>\n",
       "      <td>manual_upload</td>\n",
       "      <td>manual_upload</td>\n",
       "    </tr>\n",
       "    <tr>\n",
       "      <th>2</th>\n",
       "      <td>food_photos/watermelon/3a220ede-65a6-4fcd-aed4...</td>\n",
       "      <td>3a220ede-65a6-4fcd-aed4-f956c7c3bce9.jpeg</td>\n",
       "      <td>watermelon</td>\n",
       "      <td>194</td>\n",
       "      <td>train</td>\n",
       "      <td>clear</td>\n",
       "      <td>whole_food</td>\n",
       "      <td>one_food</td>\n",
       "      <td>2023-02-13_10-18-08</td>\n",
       "      <td>manual_upload</td>\n",
       "      <td>manual_upload</td>\n",
       "    </tr>\n",
       "    <tr>\n",
       "      <th>3</th>\n",
       "      <td>food_photos/watermelon/7d86f328-ffcd-46b0-8bbe...</td>\n",
       "      <td>7d86f328-ffcd-46b0-8bbe-8dd3bc11fc03.jpeg</td>\n",
       "      <td>watermelon</td>\n",
       "      <td>194</td>\n",
       "      <td>train</td>\n",
       "      <td>clear</td>\n",
       "      <td>whole_food</td>\n",
       "      <td>one_food</td>\n",
       "      <td>2023-02-13_10-18-08</td>\n",
       "      <td>manual_upload</td>\n",
       "      <td>manual_upload</td>\n",
       "    </tr>\n",
       "    <tr>\n",
       "      <th>4</th>\n",
       "      <td>food_photos/watermelon/3205f1ea-6c4f-41cb-ae2c...</td>\n",
       "      <td>3205f1ea-6c4f-41cb-ae2c-5c1c8dfaec53.jpeg</td>\n",
       "      <td>watermelon</td>\n",
       "      <td>194</td>\n",
       "      <td>train</td>\n",
       "      <td>clear</td>\n",
       "      <td>whole_food</td>\n",
       "      <td>one_food</td>\n",
       "      <td>2023-02-13_10-18-08</td>\n",
       "      <td>manual_upload</td>\n",
       "      <td>manual_upload</td>\n",
       "    </tr>\n",
       "  </tbody>\n",
       "</table>\n",
       "</div>"
      ],
      "text/plain": [
       "                                            filename  \\\n",
       "0  food_photos/watermelon/913bb78d-c704-4dfe-9f18...   \n",
       "1  food_photos/watermelon/25660bf7-b26f-4976-9905...   \n",
       "2  food_photos/watermelon/3a220ede-65a6-4fcd-aed4...   \n",
       "3  food_photos/watermelon/7d86f328-ffcd-46b0-8bbe...   \n",
       "4  food_photos/watermelon/3205f1ea-6c4f-41cb-ae2c...   \n",
       "\n",
       "                                  image_name  class_name  label  split  \\\n",
       "0  913bb78d-c704-4dfe-9f18-e8223f4fe888.jpeg  watermelon    194  train   \n",
       "1  25660bf7-b26f-4976-9905-fb73249506cb.jpeg  watermelon    194  train   \n",
       "2  3a220ede-65a6-4fcd-aed4-f956c7c3bce9.jpeg  watermelon    194  train   \n",
       "3  7d86f328-ffcd-46b0-8bbe-8dd3bc11fc03.jpeg  watermelon    194  train   \n",
       "4  3205f1ea-6c4f-41cb-ae2c-5c1c8dfaec53.jpeg  watermelon    194  train   \n",
       "\n",
       "  clear_or_confusing whole_food_or_dish one_food_or_multiple  \\\n",
       "0              clear         whole_food             one_food   \n",
       "1              clear         whole_food             one_food   \n",
       "2              clear         whole_food             one_food   \n",
       "3              clear         whole_food             one_food   \n",
       "4              clear         whole_food             one_food   \n",
       "\n",
       "  label_last_updated_at   label_source   image_source  \n",
       "0   2023-02-13_10-18-08  manual_upload  manual_upload  \n",
       "1   2023-02-13_10-18-08  manual_upload  manual_upload  \n",
       "2   2023-02-13_10-18-08  manual_upload  manual_upload  \n",
       "3   2023-02-13_10-18-08  manual_upload  manual_upload  \n",
       "4   2023-02-13_10-18-08  manual_upload  manual_upload  "
      ]
     },
     "execution_count": 64,
     "metadata": {},
     "output_type": "execute_result"
    }
   ],
   "source": [
    "from utils.misc import get_now_time\n",
    "\n",
    "# Create a list of dictionaries and fill out the columns of the annotations\n",
    "columns = ['filename',\n",
    " 'image_name',\n",
    " 'class_name',\n",
    " 'label',\n",
    " 'split',\n",
    " 'clear_or_confusing',\n",
    " 'whole_food_or_dish',\n",
    " 'one_food_or_multiple',\n",
    " 'label_last_updated_at',\n",
    " 'label_source',\n",
    " 'image_source']\n",
    "\n",
    "food_image_dict_list = []\n",
    "\n",
    "for image_path in image_paths:\n",
    "    food_image_dict = {}\n",
    "    food_image_dict['filename'] = image_path\n",
    "    food_image_dict['image_name'] = image_path.name\n",
    "    food_image_dict['class_name'] = image_path.parent.name\n",
    "    food_image_dict['label'] = reverse_class_dict[image_path.parent.name]\n",
    "    # food_image_dict['split'] = 'train'\n",
    "    # Label 20% of the images as test\n",
    "    if np.random.random() < 0.2:\n",
    "        food_image_dict['split'] = 'test'\n",
    "    else:\n",
    "        food_image_dict['split'] = 'train'\n",
    "    food_image_dict['clear_or_confusing'] = 'clear'\n",
    "    food_image_dict['whole_food_or_dish'] = 'whole_food'\n",
    "    food_image_dict['one_food_or_multiple'] = 'one_food'\n",
    "    food_image_dict['label_last_updated_at'] = get_now_time()\n",
    "    food_image_dict['label_source'] = 'manual_upload'\n",
    "    food_image_dict['image_source'] = 'manual_upload'\n",
    "\n",
    "    food_image_dict_list.append(food_image_dict)\n",
    "\n",
    "# Create a dataframe from the list of dictionaries\n",
    "import pandas as pd\n",
    "new_annotations = pd.DataFrame(food_image_dict_list)\n",
    "new_annotations.head()"
   ]
  },
  {
   "cell_type": "code",
   "execution_count": 65,
   "metadata": {},
   "outputs": [
    {
     "data": {
      "text/plain": [
       "train    990\n",
       "test     267\n",
       "Name: split, dtype: int64"
      ]
     },
     "execution_count": 65,
     "metadata": {},
     "output_type": "execute_result"
    }
   ],
   "source": [
    "# Print how many images are train/test in new_annotations\n",
    "new_annotations['split'].value_counts()"
   ]
  },
  {
   "cell_type": "code",
   "execution_count": 70,
   "metadata": {},
   "outputs": [
    {
     "data": {
      "text/html": [
       "<div>\n",
       "<style scoped>\n",
       "    .dataframe tbody tr th:only-of-type {\n",
       "        vertical-align: middle;\n",
       "    }\n",
       "\n",
       "    .dataframe tbody tr th {\n",
       "        vertical-align: top;\n",
       "    }\n",
       "\n",
       "    .dataframe thead th {\n",
       "        text-align: right;\n",
       "    }\n",
       "</style>\n",
       "<table border=\"1\" class=\"dataframe\">\n",
       "  <thead>\n",
       "    <tr style=\"text-align: right;\">\n",
       "      <th></th>\n",
       "      <th>filename</th>\n",
       "      <th>image_name</th>\n",
       "      <th>class_name</th>\n",
       "      <th>label</th>\n",
       "      <th>split</th>\n",
       "      <th>clear_or_confusing</th>\n",
       "      <th>whole_food_or_dish</th>\n",
       "      <th>one_food_or_multiple</th>\n",
       "      <th>label_last_updated_at</th>\n",
       "      <th>label_source</th>\n",
       "      <th>image_source</th>\n",
       "    </tr>\n",
       "  </thead>\n",
       "  <tbody>\n",
       "    <tr>\n",
       "      <th>173</th>\n",
       "      <td>food_photos/potato_white/e32c92c4-8cf1-410f-94...</td>\n",
       "      <td>e32c92c4-8cf1-410f-94ee-6452986a0b92.jpeg</td>\n",
       "      <td>potato_white</td>\n",
       "      <td>203</td>\n",
       "      <td>train</td>\n",
       "      <td>clear</td>\n",
       "      <td>whole_food</td>\n",
       "      <td>one_food</td>\n",
       "      <td>2023-02-13_10-18-08</td>\n",
       "      <td>manual_upload</td>\n",
       "      <td>manual_upload</td>\n",
       "    </tr>\n",
       "    <tr>\n",
       "      <th>207</th>\n",
       "      <td>food_photos/potato_white/733e1c6d-11da-44bf-a5...</td>\n",
       "      <td>733e1c6d-11da-44bf-a57b-50791eed7144.jpeg</td>\n",
       "      <td>potato_white</td>\n",
       "      <td>203</td>\n",
       "      <td>train</td>\n",
       "      <td>clear</td>\n",
       "      <td>whole_food</td>\n",
       "      <td>one_food</td>\n",
       "      <td>2023-02-13_10-18-08</td>\n",
       "      <td>manual_upload</td>\n",
       "      <td>manual_upload</td>\n",
       "    </tr>\n",
       "    <tr>\n",
       "      <th>273</th>\n",
       "      <td>food_photos/potato_white/2059b910-5a6b-4625-a4...</td>\n",
       "      <td>2059b910-5a6b-4625-a4e9-b938603bacb0.jpeg</td>\n",
       "      <td>potato_white</td>\n",
       "      <td>203</td>\n",
       "      <td>train</td>\n",
       "      <td>clear</td>\n",
       "      <td>whole_food</td>\n",
       "      <td>one_food</td>\n",
       "      <td>2023-02-13_10-18-08</td>\n",
       "      <td>manual_upload</td>\n",
       "      <td>manual_upload</td>\n",
       "    </tr>\n",
       "    <tr>\n",
       "      <th>642</th>\n",
       "      <td>food_photos/apple_green/79b7cb67-a15d-4847-b4e...</td>\n",
       "      <td>79b7cb67-a15d-4847-b4e9-5b5ff209c9d1.jpeg</td>\n",
       "      <td>apple_green</td>\n",
       "      <td>199</td>\n",
       "      <td>train</td>\n",
       "      <td>clear</td>\n",
       "      <td>whole_food</td>\n",
       "      <td>one_food</td>\n",
       "      <td>2023-02-13_10-18-08</td>\n",
       "      <td>manual_upload</td>\n",
       "      <td>manual_upload</td>\n",
       "    </tr>\n",
       "    <tr>\n",
       "      <th>115</th>\n",
       "      <td>food_photos/potato_white/dbcd463b-42c9-46e0-ad...</td>\n",
       "      <td>dbcd463b-42c9-46e0-ada8-a5e65f60cb31.jpeg</td>\n",
       "      <td>potato_white</td>\n",
       "      <td>203</td>\n",
       "      <td>train</td>\n",
       "      <td>clear</td>\n",
       "      <td>whole_food</td>\n",
       "      <td>one_food</td>\n",
       "      <td>2023-02-13_10-18-08</td>\n",
       "      <td>manual_upload</td>\n",
       "      <td>manual_upload</td>\n",
       "    </tr>\n",
       "    <tr>\n",
       "      <th>266</th>\n",
       "      <td>food_photos/potato_white/6a17483a-8076-4279-9a...</td>\n",
       "      <td>6a17483a-8076-4279-9a35-b142b2634d80.jpeg</td>\n",
       "      <td>potato_white</td>\n",
       "      <td>203</td>\n",
       "      <td>train</td>\n",
       "      <td>clear</td>\n",
       "      <td>whole_food</td>\n",
       "      <td>one_food</td>\n",
       "      <td>2023-02-13_10-18-08</td>\n",
       "      <td>manual_upload</td>\n",
       "      <td>manual_upload</td>\n",
       "    </tr>\n",
       "    <tr>\n",
       "      <th>194</th>\n",
       "      <td>food_photos/potato_white/b0ccb561-4a6a-4abf-ad...</td>\n",
       "      <td>b0ccb561-4a6a-4abf-ad61-ac6ba6185ad9.jpeg</td>\n",
       "      <td>potato_white</td>\n",
       "      <td>203</td>\n",
       "      <td>test</td>\n",
       "      <td>clear</td>\n",
       "      <td>whole_food</td>\n",
       "      <td>one_food</td>\n",
       "      <td>2023-02-13_10-18-08</td>\n",
       "      <td>manual_upload</td>\n",
       "      <td>manual_upload</td>\n",
       "    </tr>\n",
       "    <tr>\n",
       "      <th>662</th>\n",
       "      <td>food_photos/apple_green/296f8b26-0fb0-43d3-85c...</td>\n",
       "      <td>296f8b26-0fb0-43d3-85c4-6165fa847415.jpeg</td>\n",
       "      <td>apple_green</td>\n",
       "      <td>199</td>\n",
       "      <td>train</td>\n",
       "      <td>clear</td>\n",
       "      <td>whole_food</td>\n",
       "      <td>one_food</td>\n",
       "      <td>2023-02-13_10-18-08</td>\n",
       "      <td>manual_upload</td>\n",
       "      <td>manual_upload</td>\n",
       "    </tr>\n",
       "    <tr>\n",
       "      <th>160</th>\n",
       "      <td>food_photos/potato_white/7470c8bf-eeb1-44ba-b8...</td>\n",
       "      <td>7470c8bf-eeb1-44ba-b874-29dfb331a4e1.jpeg</td>\n",
       "      <td>potato_white</td>\n",
       "      <td>203</td>\n",
       "      <td>train</td>\n",
       "      <td>clear</td>\n",
       "      <td>whole_food</td>\n",
       "      <td>one_food</td>\n",
       "      <td>2023-02-13_10-18-08</td>\n",
       "      <td>manual_upload</td>\n",
       "      <td>manual_upload</td>\n",
       "    </tr>\n",
       "    <tr>\n",
       "      <th>129</th>\n",
       "      <td>food_photos/potato_white/428b9b26-94c0-4946-88...</td>\n",
       "      <td>428b9b26-94c0-4946-88ab-db7bb413ac2e.jpeg</td>\n",
       "      <td>potato_white</td>\n",
       "      <td>203</td>\n",
       "      <td>test</td>\n",
       "      <td>clear</td>\n",
       "      <td>whole_food</td>\n",
       "      <td>one_food</td>\n",
       "      <td>2023-02-13_10-18-08</td>\n",
       "      <td>manual_upload</td>\n",
       "      <td>manual_upload</td>\n",
       "    </tr>\n",
       "  </tbody>\n",
       "</table>\n",
       "</div>"
      ],
      "text/plain": [
       "                                              filename  \\\n",
       "173  food_photos/potato_white/e32c92c4-8cf1-410f-94...   \n",
       "207  food_photos/potato_white/733e1c6d-11da-44bf-a5...   \n",
       "273  food_photos/potato_white/2059b910-5a6b-4625-a4...   \n",
       "642  food_photos/apple_green/79b7cb67-a15d-4847-b4e...   \n",
       "115  food_photos/potato_white/dbcd463b-42c9-46e0-ad...   \n",
       "266  food_photos/potato_white/6a17483a-8076-4279-9a...   \n",
       "194  food_photos/potato_white/b0ccb561-4a6a-4abf-ad...   \n",
       "662  food_photos/apple_green/296f8b26-0fb0-43d3-85c...   \n",
       "160  food_photos/potato_white/7470c8bf-eeb1-44ba-b8...   \n",
       "129  food_photos/potato_white/428b9b26-94c0-4946-88...   \n",
       "\n",
       "                                    image_name    class_name  label  split  \\\n",
       "173  e32c92c4-8cf1-410f-94ee-6452986a0b92.jpeg  potato_white    203  train   \n",
       "207  733e1c6d-11da-44bf-a57b-50791eed7144.jpeg  potato_white    203  train   \n",
       "273  2059b910-5a6b-4625-a4e9-b938603bacb0.jpeg  potato_white    203  train   \n",
       "642  79b7cb67-a15d-4847-b4e9-5b5ff209c9d1.jpeg   apple_green    199  train   \n",
       "115  dbcd463b-42c9-46e0-ada8-a5e65f60cb31.jpeg  potato_white    203  train   \n",
       "266  6a17483a-8076-4279-9a35-b142b2634d80.jpeg  potato_white    203  train   \n",
       "194  b0ccb561-4a6a-4abf-ad61-ac6ba6185ad9.jpeg  potato_white    203   test   \n",
       "662  296f8b26-0fb0-43d3-85c4-6165fa847415.jpeg   apple_green    199  train   \n",
       "160  7470c8bf-eeb1-44ba-b874-29dfb331a4e1.jpeg  potato_white    203  train   \n",
       "129  428b9b26-94c0-4946-88ab-db7bb413ac2e.jpeg  potato_white    203   test   \n",
       "\n",
       "    clear_or_confusing whole_food_or_dish one_food_or_multiple  \\\n",
       "173              clear         whole_food             one_food   \n",
       "207              clear         whole_food             one_food   \n",
       "273              clear         whole_food             one_food   \n",
       "642              clear         whole_food             one_food   \n",
       "115              clear         whole_food             one_food   \n",
       "266              clear         whole_food             one_food   \n",
       "194              clear         whole_food             one_food   \n",
       "662              clear         whole_food             one_food   \n",
       "160              clear         whole_food             one_food   \n",
       "129              clear         whole_food             one_food   \n",
       "\n",
       "    label_last_updated_at   label_source   image_source  \n",
       "173   2023-02-13_10-18-08  manual_upload  manual_upload  \n",
       "207   2023-02-13_10-18-08  manual_upload  manual_upload  \n",
       "273   2023-02-13_10-18-08  manual_upload  manual_upload  \n",
       "642   2023-02-13_10-18-08  manual_upload  manual_upload  \n",
       "115   2023-02-13_10-18-08  manual_upload  manual_upload  \n",
       "266   2023-02-13_10-18-08  manual_upload  manual_upload  \n",
       "194   2023-02-13_10-18-08  manual_upload  manual_upload  \n",
       "662   2023-02-13_10-18-08  manual_upload  manual_upload  \n",
       "160   2023-02-13_10-18-08  manual_upload  manual_upload  \n",
       "129   2023-02-13_10-18-08  manual_upload  manual_upload  "
      ]
     },
     "execution_count": 70,
     "metadata": {},
     "output_type": "execute_result"
    }
   ],
   "source": [
    "# Find a random sample of 10 images where the label value is 199 or higher\n",
    "new_annotations[new_annotations['label'] >= 199].sample(10)"
   ]
  },
  {
   "cell_type": "code",
   "execution_count": 72,
   "metadata": {},
   "outputs": [
    {
     "data": {
      "text/plain": [
       "(25528, 1257)"
      ]
     },
     "execution_count": 72,
     "metadata": {},
     "output_type": "execute_result"
    }
   ],
   "source": [
    "len(original_annotations), len(new_annotations)"
   ]
  },
  {
   "cell_type": "code",
   "execution_count": 73,
   "metadata": {},
   "outputs": [
    {
     "data": {
      "text/html": [
       "<div>\n",
       "<style scoped>\n",
       "    .dataframe tbody tr th:only-of-type {\n",
       "        vertical-align: middle;\n",
       "    }\n",
       "\n",
       "    .dataframe tbody tr th {\n",
       "        vertical-align: top;\n",
       "    }\n",
       "\n",
       "    .dataframe thead th {\n",
       "        text-align: right;\n",
       "    }\n",
       "</style>\n",
       "<table border=\"1\" class=\"dataframe\">\n",
       "  <thead>\n",
       "    <tr style=\"text-align: right;\">\n",
       "      <th></th>\n",
       "      <th>filename</th>\n",
       "      <th>image_name</th>\n",
       "      <th>class_name</th>\n",
       "      <th>label</th>\n",
       "      <th>split</th>\n",
       "      <th>clear_or_confusing</th>\n",
       "      <th>whole_food_or_dish</th>\n",
       "      <th>one_food_or_multiple</th>\n",
       "      <th>label_last_updated_at</th>\n",
       "      <th>label_source</th>\n",
       "      <th>image_source</th>\n",
       "    </tr>\n",
       "  </thead>\n",
       "  <tbody>\n",
       "    <tr>\n",
       "      <th>0</th>\n",
       "      <td>test/pain_au_chocolat/4fd7cb42-bd7f-48f1-bfdc-...</td>\n",
       "      <td>4fd7cb42-bd7f-48f1-bfdc-607c2f54b788.jpg</td>\n",
       "      <td>pain_au_chocolat</td>\n",
       "      <td>121</td>\n",
       "      <td>test</td>\n",
       "      <td>NaN</td>\n",
       "      <td>NaN</td>\n",
       "      <td>NaN</td>\n",
       "      <td>NaN</td>\n",
       "      <td>NaN</td>\n",
       "      <td>internet_download</td>\n",
       "    </tr>\n",
       "    <tr>\n",
       "      <th>1</th>\n",
       "      <td>test/pain_au_chocolat/2062f52a-781c-4e4f-b8a7-...</td>\n",
       "      <td>2062f52a-781c-4e4f-b8a7-0a108934f453.jpg</td>\n",
       "      <td>pain_au_chocolat</td>\n",
       "      <td>121</td>\n",
       "      <td>test</td>\n",
       "      <td>NaN</td>\n",
       "      <td>NaN</td>\n",
       "      <td>NaN</td>\n",
       "      <td>NaN</td>\n",
       "      <td>NaN</td>\n",
       "      <td>internet_download</td>\n",
       "    </tr>\n",
       "    <tr>\n",
       "      <th>2</th>\n",
       "      <td>test/pain_au_chocolat/8003e0f6-37e8-460d-9c14-...</td>\n",
       "      <td>8003e0f6-37e8-460d-9c14-e7c6fe44a37f.jpg</td>\n",
       "      <td>pain_au_chocolat</td>\n",
       "      <td>121</td>\n",
       "      <td>test</td>\n",
       "      <td>NaN</td>\n",
       "      <td>NaN</td>\n",
       "      <td>NaN</td>\n",
       "      <td>NaN</td>\n",
       "      <td>NaN</td>\n",
       "      <td>internet_download</td>\n",
       "    </tr>\n",
       "    <tr>\n",
       "      <th>3</th>\n",
       "      <td>test/pain_au_chocolat/839437c8-c643-408f-9f04-...</td>\n",
       "      <td>839437c8-c643-408f-9f04-d0d3bec238c3.jpg</td>\n",
       "      <td>pain_au_chocolat</td>\n",
       "      <td>121</td>\n",
       "      <td>test</td>\n",
       "      <td>NaN</td>\n",
       "      <td>NaN</td>\n",
       "      <td>NaN</td>\n",
       "      <td>NaN</td>\n",
       "      <td>NaN</td>\n",
       "      <td>internet_download</td>\n",
       "    </tr>\n",
       "    <tr>\n",
       "      <th>4</th>\n",
       "      <td>test/pain_au_chocolat/ca5c13ff-a535-4b69-9144-...</td>\n",
       "      <td>ca5c13ff-a535-4b69-9144-e06275e01e35.jpg</td>\n",
       "      <td>pain_au_chocolat</td>\n",
       "      <td>121</td>\n",
       "      <td>test</td>\n",
       "      <td>NaN</td>\n",
       "      <td>NaN</td>\n",
       "      <td>NaN</td>\n",
       "      <td>NaN</td>\n",
       "      <td>NaN</td>\n",
       "      <td>internet_download</td>\n",
       "    </tr>\n",
       "    <tr>\n",
       "      <th>...</th>\n",
       "      <td>...</td>\n",
       "      <td>...</td>\n",
       "      <td>...</td>\n",
       "      <td>...</td>\n",
       "      <td>...</td>\n",
       "      <td>...</td>\n",
       "      <td>...</td>\n",
       "      <td>...</td>\n",
       "      <td>...</td>\n",
       "      <td>...</td>\n",
       "      <td>...</td>\n",
       "    </tr>\n",
       "    <tr>\n",
       "      <th>26780</th>\n",
       "      <td>food_photos/onion_brown/e6e3c735-bcb6-4fce-a0e...</td>\n",
       "      <td>e6e3c735-bcb6-4fce-a0e4-42a0b89449ff.jpeg</td>\n",
       "      <td>onion_brown</td>\n",
       "      <td>117</td>\n",
       "      <td>train</td>\n",
       "      <td>clear</td>\n",
       "      <td>whole_food</td>\n",
       "      <td>one_food</td>\n",
       "      <td>2023-02-13_10-18-08</td>\n",
       "      <td>manual_upload</td>\n",
       "      <td>manual_upload</td>\n",
       "    </tr>\n",
       "    <tr>\n",
       "      <th>26781</th>\n",
       "      <td>food_photos/onion_brown/3bff4352-6f0d-4832-92b...</td>\n",
       "      <td>3bff4352-6f0d-4832-92b2-12d2ba684abb.jpeg</td>\n",
       "      <td>onion_brown</td>\n",
       "      <td>117</td>\n",
       "      <td>test</td>\n",
       "      <td>clear</td>\n",
       "      <td>whole_food</td>\n",
       "      <td>one_food</td>\n",
       "      <td>2023-02-13_10-18-08</td>\n",
       "      <td>manual_upload</td>\n",
       "      <td>manual_upload</td>\n",
       "    </tr>\n",
       "    <tr>\n",
       "      <th>26782</th>\n",
       "      <td>food_photos/onion_brown/1b68f896-8471-4a79-9d4...</td>\n",
       "      <td>1b68f896-8471-4a79-9d45-9a1fbfabcee2.jpeg</td>\n",
       "      <td>onion_brown</td>\n",
       "      <td>117</td>\n",
       "      <td>train</td>\n",
       "      <td>clear</td>\n",
       "      <td>whole_food</td>\n",
       "      <td>one_food</td>\n",
       "      <td>2023-02-13_10-18-08</td>\n",
       "      <td>manual_upload</td>\n",
       "      <td>manual_upload</td>\n",
       "    </tr>\n",
       "    <tr>\n",
       "      <th>26783</th>\n",
       "      <td>food_photos/onion_brown/8d391321-0b96-4696-840...</td>\n",
       "      <td>8d391321-0b96-4696-840b-53745ca4c848.jpeg</td>\n",
       "      <td>onion_brown</td>\n",
       "      <td>117</td>\n",
       "      <td>train</td>\n",
       "      <td>clear</td>\n",
       "      <td>whole_food</td>\n",
       "      <td>one_food</td>\n",
       "      <td>2023-02-13_10-18-08</td>\n",
       "      <td>manual_upload</td>\n",
       "      <td>manual_upload</td>\n",
       "    </tr>\n",
       "    <tr>\n",
       "      <th>26784</th>\n",
       "      <td>food_photos/onion_brown/e435ecd5-83f0-4296-b23...</td>\n",
       "      <td>e435ecd5-83f0-4296-b23b-f11f9336e925.jpeg</td>\n",
       "      <td>onion_brown</td>\n",
       "      <td>117</td>\n",
       "      <td>train</td>\n",
       "      <td>clear</td>\n",
       "      <td>whole_food</td>\n",
       "      <td>one_food</td>\n",
       "      <td>2023-02-13_10-18-08</td>\n",
       "      <td>manual_upload</td>\n",
       "      <td>manual_upload</td>\n",
       "    </tr>\n",
       "  </tbody>\n",
       "</table>\n",
       "<p>26785 rows × 11 columns</p>\n",
       "</div>"
      ],
      "text/plain": [
       "                                                filename  \\\n",
       "0      test/pain_au_chocolat/4fd7cb42-bd7f-48f1-bfdc-...   \n",
       "1      test/pain_au_chocolat/2062f52a-781c-4e4f-b8a7-...   \n",
       "2      test/pain_au_chocolat/8003e0f6-37e8-460d-9c14-...   \n",
       "3      test/pain_au_chocolat/839437c8-c643-408f-9f04-...   \n",
       "4      test/pain_au_chocolat/ca5c13ff-a535-4b69-9144-...   \n",
       "...                                                  ...   \n",
       "26780  food_photos/onion_brown/e6e3c735-bcb6-4fce-a0e...   \n",
       "26781  food_photos/onion_brown/3bff4352-6f0d-4832-92b...   \n",
       "26782  food_photos/onion_brown/1b68f896-8471-4a79-9d4...   \n",
       "26783  food_photos/onion_brown/8d391321-0b96-4696-840...   \n",
       "26784  food_photos/onion_brown/e435ecd5-83f0-4296-b23...   \n",
       "\n",
       "                                      image_name        class_name  label  \\\n",
       "0       4fd7cb42-bd7f-48f1-bfdc-607c2f54b788.jpg  pain_au_chocolat    121   \n",
       "1       2062f52a-781c-4e4f-b8a7-0a108934f453.jpg  pain_au_chocolat    121   \n",
       "2       8003e0f6-37e8-460d-9c14-e7c6fe44a37f.jpg  pain_au_chocolat    121   \n",
       "3       839437c8-c643-408f-9f04-d0d3bec238c3.jpg  pain_au_chocolat    121   \n",
       "4       ca5c13ff-a535-4b69-9144-e06275e01e35.jpg  pain_au_chocolat    121   \n",
       "...                                          ...               ...    ...   \n",
       "26780  e6e3c735-bcb6-4fce-a0e4-42a0b89449ff.jpeg       onion_brown    117   \n",
       "26781  3bff4352-6f0d-4832-92b2-12d2ba684abb.jpeg       onion_brown    117   \n",
       "26782  1b68f896-8471-4a79-9d45-9a1fbfabcee2.jpeg       onion_brown    117   \n",
       "26783  8d391321-0b96-4696-840b-53745ca4c848.jpeg       onion_brown    117   \n",
       "26784  e435ecd5-83f0-4296-b23b-f11f9336e925.jpeg       onion_brown    117   \n",
       "\n",
       "       split clear_or_confusing whole_food_or_dish one_food_or_multiple  \\\n",
       "0       test                NaN                NaN                  NaN   \n",
       "1       test                NaN                NaN                  NaN   \n",
       "2       test                NaN                NaN                  NaN   \n",
       "3       test                NaN                NaN                  NaN   \n",
       "4       test                NaN                NaN                  NaN   \n",
       "...      ...                ...                ...                  ...   \n",
       "26780  train              clear         whole_food             one_food   \n",
       "26781   test              clear         whole_food             one_food   \n",
       "26782  train              clear         whole_food             one_food   \n",
       "26783  train              clear         whole_food             one_food   \n",
       "26784  train              clear         whole_food             one_food   \n",
       "\n",
       "      label_last_updated_at   label_source       image_source  \n",
       "0                       NaN            NaN  internet_download  \n",
       "1                       NaN            NaN  internet_download  \n",
       "2                       NaN            NaN  internet_download  \n",
       "3                       NaN            NaN  internet_download  \n",
       "4                       NaN            NaN  internet_download  \n",
       "...                     ...            ...                ...  \n",
       "26780   2023-02-13_10-18-08  manual_upload      manual_upload  \n",
       "26781   2023-02-13_10-18-08  manual_upload      manual_upload  \n",
       "26782   2023-02-13_10-18-08  manual_upload      manual_upload  \n",
       "26783   2023-02-13_10-18-08  manual_upload      manual_upload  \n",
       "26784   2023-02-13_10-18-08  manual_upload      manual_upload  \n",
       "\n",
       "[26785 rows x 11 columns]"
      ]
     },
     "execution_count": 73,
     "metadata": {},
     "output_type": "execute_result"
    }
   ],
   "source": [
    "# Append the new_annotations to the original_annotations\n",
    "updated_annotations = pd.concat([original_annotations, new_annotations], ignore_index=True)\n",
    "# updated_annotations = original_annotations.(new_annotations, ignore_index=True)\n",
    "updated_annotations"
   ]
  },
  {
   "cell_type": "code",
   "execution_count": 78,
   "metadata": {},
   "outputs": [
    {
     "data": {
      "text/plain": [
       "199"
      ]
     },
     "execution_count": 78,
     "metadata": {},
     "output_type": "execute_result"
    }
   ],
   "source": [
    "# How many unique class_names are in original_annotations?\n",
    "len(original_annotations['class_name'].unique())"
   ]
  },
  {
   "cell_type": "code",
   "execution_count": 76,
   "metadata": {},
   "outputs": [
    {
     "data": {
      "text/plain": [
       "204"
      ]
     },
     "execution_count": 76,
     "metadata": {},
     "output_type": "execute_result"
    }
   ],
   "source": [
    "# How many unique class_names are in updated_annotations?\n",
    "len(updated_annotations['class_name'].unique())"
   ]
  },
  {
   "cell_type": "code",
   "execution_count": 75,
   "metadata": {},
   "outputs": [
    {
     "data": {
      "text/plain": [
       "1257"
      ]
     },
     "execution_count": 75,
     "metadata": {},
     "output_type": "execute_result"
    }
   ],
   "source": [
    "# Check the difference in lengths between the original_annotations and updated_annotations\n",
    "num_differences = len(updated_annotations) - len(original_annotations)\n",
    "num_differences"
   ]
  },
  {
   "cell_type": "code",
   "execution_count": 79,
   "metadata": {},
   "outputs": [
    {
     "name": "stdout",
     "output_type": "stream",
     "text": [
      "[INFO] Exporting the following columns to updated_annotations.csv: ['filename', 'image_name', 'class_name', 'label', 'split', 'clear_or_confusing', 'whole_food_or_dish', 'one_food_or_multiple', 'label_last_updated_at', 'label_source', 'image_source']\n",
      "[INFO] 1257 changes to annotations.csv, updated label files and original annotations are different, saving the updated annotations.csv\n",
      "[INFO] Uploading updated_annotations.csv to updated_annotations.csv...\n",
      "[INFO] Connected to Google Storage bucket: food_vision_bucket_with_object_versioning\n",
      "[INFO] File updated_annotations.csv uploaded to food_vision_bucket_with_object_versioning/updated_annotations.csv.\n",
      "[INFO] File size: 3938455 bytes\n",
      "[INFO] Blob annotations.csv has been renamed to old_annotations/2023-02-13_10-24-00_old_annotations.csv\n",
      "[INFO] Blob updated_annotations.csv has been renamed to annotations.csv\n",
      "[INFO] Logging 'food_vision_labels' from 'gs://food_vision_bucket_with_object_versioning/annotations.csv' to Weights & Biases...\n"
     ]
    }
   ],
   "source": [
    "# Upload the updated annotations to Google Storage and track the changes\n",
    "from utils.gcp_utils import upload_to_gs, rename_blob, delete_blob\n",
    "from utils.wandb_utils import wandb_add_artifact_with_reference\n",
    "from utils.misc import get_now_time\n",
    "import os\n",
    "\n",
    "GS_BUCKET_NAME = config.gs_bucket_name\n",
    "\n",
    "UPDATED_ANNOTATIONS_TARGET_FILENAME = \"updated_annotations.csv\"\n",
    "ORIGINAL_ANNOTATIONS_TARGET_FILENAME = \"annotations.csv\"\n",
    "\n",
    "# Export the updated annotations to a CSV\n",
    "columns_to_export = config.annotations_columns_to_export\n",
    "print(f\"[INFO] Exporting the following columns to {UPDATED_ANNOTATIONS_TARGET_FILENAME}: {columns_to_export}\")\n",
    "\n",
    "# TODO: Check if the updated_annotations_reset_index and the original_annotations actually differ, if so save them and upload them, else exit\n",
    "if num_differences > 0:\n",
    "    print(f\"[INFO] {num_differences} changes to annotations.csv, updated label files and original annotations are different, saving the updated annotations.csv\")\n",
    "\n",
    "    # Export the updated_annotations_reset_index to a csv\n",
    "    updated_annotations[columns_to_export].to_csv(UPDATED_ANNOTATIONS_TARGET_FILENAME, index=False)\n",
    "\n",
    "    # Upload the updated CSV to Google Storage\n",
    "    upload_to_gs(bucket_name=GS_BUCKET_NAME, \n",
    "                 source_file_name=UPDATED_ANNOTATIONS_TARGET_FILENAME, \n",
    "                 destination_blob_name=UPDATED_ANNOTATIONS_TARGET_FILENAME)\n",
    "\n",
    "    # Rename the old CSV on Google Storage\n",
    "    bucket_to_move_old_annotations_to = \"old_annotations\"\n",
    "    name_to_rename_old_annotations = os.path.join(bucket_to_move_old_annotations_to, f\"{get_now_time()}_old_annotations.csv\")\n",
    "\n",
    "    rename_blob(bucket_name=GS_BUCKET_NAME,\n",
    "                blob_name=ORIGINAL_ANNOTATIONS_TARGET_FILENAME,\n",
    "                new_name=name_to_rename_old_annotations)\n",
    "\n",
    "    # Rename the \"updated_annotations.csv\" on Google Storage to \"annotations.csv\" \n",
    "    rename_blob(bucket_name=GS_BUCKET_NAME,\n",
    "                blob_name=UPDATED_ANNOTATIONS_TARGET_FILENAME,\n",
    "                new_name=ORIGINAL_ANNOTATIONS_TARGET_FILENAME)\n",
    "\n",
    "    # Track the changes in the annotations with Weights & Biases\n",
    "    annotations_path_on_gcs = f\"gs://{GS_BUCKET_NAME}/{ORIGINAL_ANNOTATIONS_TARGET_FILENAME}\"\n",
    "    wandb_add_artifact_with_reference(wandb_run=run,\n",
    "                                      artifact_name=\"food_vision_labels\",\n",
    "                                      artifact_type=\"labels\",\n",
    "                                      description=\"Labels for FoodVision project\",\n",
    "                                      reference_path=annotations_path_on_gcs)\n",
    "else:\n",
    "    print(\"[INFO] No changes to annotations.csv, updated label files and original annotations are the same, try fixing/updating the label files and try again\")"
   ]
  },
  {
   "attachments": {},
   "cell_type": "markdown",
   "metadata": {},
   "source": [
    "## Upload all photos in food_photos to Google Storage"
   ]
  },
  {
   "cell_type": "code",
   "execution_count": 80,
   "metadata": {},
   "outputs": [
    {
     "name": "stdout",
     "output_type": "stream",
     "text": [
      "[INFO] There are 25907 images in the GCP bucket\n"
     ]
    }
   ],
   "source": [
    "from utils.gcp_utils import upload_to_gs, get_list_of_blobs\n",
    "\n",
    "# Get list of images already in GCP bucket\n",
    "gs_image_paths = get_list_of_blobs(bucket_name=GS_BUCKET_NAME, prefix=\"all_images\")\n",
    "print(f\"[INFO] There are {len(gs_image_paths)} images in the GCP bucket\")"
   ]
  },
  {
   "cell_type": "code",
   "execution_count": 81,
   "metadata": {},
   "outputs": [
    {
     "data": {
      "text/plain": [
       "['00045a69-b09f-4293-8c2e-a7ba27964fb6.jpg',\n",
       " '0009bea1-1577-4db5-bc60-b27eaed2d276.jpg',\n",
       " '000bd61c-f25c-415c-8cf1-3adc2d788320.jpg',\n",
       " '000cb663-06ac-4f96-8f9b-795cd05b5bcf.jpg',\n",
       " '000ec632-ee17-4988-9b32-8e4cb1421636.jpg',\n",
       " '0010ae4e-0879-4447-9610-e9d422caadd7.jpg',\n",
       " '0012b344-1bf9-421b-977e-d4ad8a6dcb7b.jpg',\n",
       " '00141b2a-0ed8-45b0-8823-8c0dbef3ac93.jpg',\n",
       " '0018f7dd-217b-478b-9858-289922cf9715.jpg',\n",
       " '00193056-355d-48dd-a132-746988022ea2.jpg']"
      ]
     },
     "execution_count": 81,
     "metadata": {},
     "output_type": "execute_result"
    }
   ],
   "source": [
    "gs_image_paths_name = [str(blob.name).split(\"/\")[-1] for blob in gs_image_paths]\n",
    "gs_image_paths_name[:10]"
   ]
  },
  {
   "cell_type": "code",
   "execution_count": 82,
   "metadata": {},
   "outputs": [
    {
     "name": "stdout",
     "output_type": "stream",
     "text": [
      "[INFO] Uploading food_photos/watermelon/913bb78d-c704-4dfe-9f18-e8223f4fe888.jpeg to all_images/913bb78d-c704-4dfe-9f18-e8223f4fe888.jpeg...\n",
      "[INFO] Connected to Google Storage bucket: food_vision_bucket_with_object_versioning\n",
      "[INFO] File food_photos/watermelon/913bb78d-c704-4dfe-9f18-e8223f4fe888.jpeg uploaded to food_vision_bucket_with_object_versioning/all_images/913bb78d-c704-4dfe-9f18-e8223f4fe888.jpeg.\n",
      "[INFO] File size: 177891 bytes\n"
     ]
    },
    {
     "data": {
      "text/plain": [
       "'all_images/913bb78d-c704-4dfe-9f18-e8223f4fe888.jpeg'"
      ]
     },
     "execution_count": 82,
     "metadata": {},
     "output_type": "execute_result"
    }
   ],
   "source": [
    "# Test uploading of 1 image\n",
    "one_image = image_paths[0]\n",
    "\n",
    "# Upload the image to Google Storage\n",
    "upload_to_gs(bucket_name=GS_BUCKET_NAME,\n",
    "             source_file_name=one_image,\n",
    "             destination_blob_name=f\"all_images/{one_image.name}\")"
   ]
  },
  {
   "cell_type": "code",
   "execution_count": 83,
   "metadata": {},
   "outputs": [
    {
     "name": "stdout",
     "output_type": "stream",
     "text": [
      "[INFO] There are 25907 images in the GCP bucket\n"
     ]
    }
   ],
   "source": [
    "# Get list of images already in GCP bucket\n",
    "gs_image_paths = get_list_of_blobs(bucket_name=GS_BUCKET_NAME, prefix=\"all_images\")\n",
    "print(f\"[INFO] There are {len(gs_image_paths)} images in the GCP bucket\")"
   ]
  },
  {
   "cell_type": "code",
   "execution_count": 85,
   "metadata": {},
   "outputs": [
    {
     "data": {
      "text/plain": [
       "['00045a69-b09f-4293-8c2e-a7ba27964fb6.jpg',\n",
       " '0009bea1-1577-4db5-bc60-b27eaed2d276.jpg',\n",
       " '000bd61c-f25c-415c-8cf1-3adc2d788320.jpg',\n",
       " '000cb663-06ac-4f96-8f9b-795cd05b5bcf.jpg',\n",
       " '000ec632-ee17-4988-9b32-8e4cb1421636.jpg',\n",
       " '0010ae4e-0879-4447-9610-e9d422caadd7.jpg',\n",
       " '0012b344-1bf9-421b-977e-d4ad8a6dcb7b.jpg',\n",
       " '00141b2a-0ed8-45b0-8823-8c0dbef3ac93.jpg',\n",
       " '0018f7dd-217b-478b-9858-289922cf9715.jpg',\n",
       " '00193056-355d-48dd-a132-746988022ea2.jpg']"
      ]
     },
     "execution_count": 85,
     "metadata": {},
     "output_type": "execute_result"
    }
   ],
   "source": [
    "gs_image_paths_name = [str(blob.name).split(\"/\")[-1] for blob in gs_image_paths]\n",
    "gs_image_paths_name[:10]"
   ]
  },
  {
   "cell_type": "code",
   "execution_count": 86,
   "metadata": {},
   "outputs": [
    {
     "data": {
      "application/vnd.jupyter.widget-view+json": {
       "model_id": "5cacc8917b074dcf8ced02a49268918c",
       "version_major": 2,
       "version_minor": 0
      },
      "text/plain": [
       "  0%|          | 0/1257 [00:00<?, ?it/s]"
      ]
     },
     "metadata": {},
     "output_type": "display_data"
    },
    {
     "name": "stdout",
     "output_type": "stream",
     "text": [
      "[INFO] Uploaded 0 images to GCP bucket\n"
     ]
    }
   ],
   "source": [
    "# Loop through image_paths and upload the image as long as its name isn't in gs_image_paths_name\n",
    "from tqdm.auto import tqdm\n",
    "\n",
    "num_images_uploaded = 0\n",
    "for image_path in tqdm(image_paths):\n",
    "    if image_path.name not in gs_image_paths_name:\n",
    "        \n",
    "        # Upload the image to Google Storage\n",
    "        upload_to_gs(bucket_name=GS_BUCKET_NAME,\n",
    "                     source_file_name=image_path,\n",
    "                     destination_blob_name=f\"all_images/{image_path.name}\")\n",
    "        \n",
    "        num_images_uploaded += 1\n",
    "\n",
    "print(f\"[INFO] Uploaded {num_images_uploaded} images to GCP bucket\")"
   ]
  },
  {
   "cell_type": "code",
   "execution_count": 87,
   "metadata": {},
   "outputs": [],
   "source": [
    "# Track the changes to GCP bucket with Weights & Biases\n",
    "from utils.wandb_utils import wandb_add_artifact_with_reference"
   ]
  },
  {
   "cell_type": "code",
   "execution_count": 88,
   "metadata": {},
   "outputs": [],
   "source": [
    "def wandb_add_artifact_with_reference(wandb_run, artifact_name, artifact_type, description, reference_path):\n",
    "    print(f\"[INFO] Logging '{artifact_name}' from '{reference_path}' to Weights & Biases...\")\n",
    "    artifact = wandb.Artifact(name=artifact_name, \n",
    "                              type=artifact_type,\n",
    "                              description=description,\n",
    "                              )\n",
    "    artifact.add_reference(reference_path, max_objects=1e9) # default capability to track up to 1 billion images\n",
    "    wandb_run.log_artifact(artifact)"
   ]
  },
  {
   "cell_type": "code",
   "execution_count": 89,
   "metadata": {},
   "outputs": [
    {
     "name": "stdout",
     "output_type": "stream",
     "text": [
      "[INFO] Logging 'food_vision_199_classes_images' from 'gs://food_vision_bucket_with_object_versioning/all_images' to Weights & Biases...\n"
     ]
    },
    {
     "name": "stderr",
     "output_type": "stream",
     "text": [
      "\u001b[34m\u001b[1mwandb\u001b[0m: Generating checksum for up to 1000000000 objects with prefix \"all_images\"... Done. 6.8s\n"
     ]
    }
   ],
   "source": [
    "# Track updated images_dir in Weights & Biases\n",
    "food_images_path_on_gs = \"gs://food_vision_bucket_with_object_versioning/all_images\"\n",
    "\n",
    "wandb_add_artifact_with_reference(wandb_run=run,\n",
    "                                  artifact_name=\"food_vision_199_classes_images\",\n",
    "                                  artifact_type=\"dataset\",\n",
    "                                  description=\"Images for FoodVision project\",\n",
    "                                  reference_path=food_images_path_on_gs)"
   ]
  },
  {
   "cell_type": "code",
   "execution_count": 90,
   "metadata": {},
   "outputs": [
    {
     "data": {
      "text/plain": [
       "25907"
      ]
     },
     "execution_count": 90,
     "metadata": {},
     "output_type": "execute_result"
    }
   ],
   "source": [
    "original_num_images = len(gs_image_paths)\n",
    "original_num_images"
   ]
  },
  {
   "cell_type": "code",
   "execution_count": 91,
   "metadata": {},
   "outputs": [
    {
     "name": "stdout",
     "output_type": "stream",
     "text": [
      "[INFO] There are 25907 images in the GCP bucket\n"
     ]
    }
   ],
   "source": [
    "# Get list of images already in GCP bucket\n",
    "gs_image_paths = get_list_of_blobs(bucket_name=GS_BUCKET_NAME, prefix=\"all_images\")\n",
    "print(f\"[INFO] There are {len(gs_image_paths)} images in the GCP bucket\")"
   ]
  },
  {
   "cell_type": "code",
   "execution_count": null,
   "metadata": {},
   "outputs": [],
   "source": [
    "# Next:\n",
    "# Create labels CSV for all photos in food_photos ✅\n",
    "# Add labels CSV to original annotations ✅\n",
    "# Upload all photos in food_photos to GCP ✅\n",
    "# Track updates in W&B ✅\n",
    "\n",
    "# Train a model and track how it performs (by only upgrading training data)"
   ]
  }
 ],
 "metadata": {
  "kernelspec": {
   "display_name": "Python 3",
   "language": "python",
   "name": "python3"
  },
  "language_info": {
   "codemirror_mode": {
    "name": "ipython",
    "version": 3
   },
   "file_extension": ".py",
   "mimetype": "text/x-python",
   "name": "python",
   "nbconvert_exporter": "python",
   "pygments_lexer": "ipython3",
   "version": "3.8.13"
  },
  "orig_nbformat": 4,
  "vscode": {
   "interpreter": {
    "hash": "3fbe1355223f7b2ffc113ba3ade6a2b520cadace5d5ec3e828c83ce02eb221bf"
   }
  }
 },
 "nbformat": 4,
 "nbformat_minor": 2
}
