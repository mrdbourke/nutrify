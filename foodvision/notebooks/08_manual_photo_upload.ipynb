{
 "cells": [
  {
   "attachments": {},
   "cell_type": "markdown",
   "metadata": {},
   "source": [
    "## Manually label and upload photos to the database\n",
    "\n",
    "* **Input:** folder with classifc image classification format:\n",
    "\n",
    "```\n",
    "images/\n",
    "    class_1/\n",
    "        image_1.jpg\n",
    "        image_2.jpg\n",
    "        ...\n",
    "    class_2/\n",
    "        image_3.jpeg\n",
    "        image_4.jpeg\n",
    "        ...\n",
    "    ...\n",
    "```\n",
    "\n",
    "* **Output:** Labelled images stored in GCP and tracked with Weights & Biases Artifacts. \n"
   ]
  },
  {
   "cell_type": "code",
   "execution_count": 1,
   "metadata": {},
   "outputs": [],
   "source": [
    "# Append the upper level directory to sys\n",
    "import sys\n",
    "sys.path.append(\"..\")\n",
    "\n",
    "import pandas as pd\n",
    "import numpy as np\n",
    "\n",
    "from pathlib import Path"
   ]
  },
  {
   "cell_type": "code",
   "execution_count": 2,
   "metadata": {},
   "outputs": [],
   "source": [
    "# !rm -rf food_photos/*\n",
    "# !rm -rf _MACOSX\n",
    "# !rm -rf _MACOSX/*"
   ]
  },
  {
   "cell_type": "code",
   "execution_count": 4,
   "metadata": {},
   "outputs": [],
   "source": [
    "# !unzip -q 2023-02-15-food_photos.zip"
   ]
  },
  {
   "cell_type": "code",
   "execution_count": 3,
   "metadata": {},
   "outputs": [
    {
     "data": {
      "text/plain": [
       "[PosixPath('2023-03-14-food_photos/apple_custard/65d69064-ac2f-419e-bbcd-a23b7bc5453c.jpeg'),\n",
       " PosixPath('2023-03-14-food_photos/apple_red/19966794-7257-4568-be81-ef05666cbb84.jpeg'),\n",
       " PosixPath('2023-03-14-food_photos/apple_red/1b51c45e-d711-48b9-aff1-05ea4d7bdc68.jpeg'),\n",
       " PosixPath('2023-03-14-food_photos/apple_red/1f013e0b-50c8-4222-b59b-5afe569d060a.jpeg'),\n",
       " PosixPath('2023-03-14-food_photos/apple_red/35b33e12-7644-4729-9b01-59f388b075e7.jpeg'),\n",
       " PosixPath('2023-03-14-food_photos/apple_red/3e612fdc-6fea-4ea0-b196-728beea40947.jpeg'),\n",
       " PosixPath('2023-03-14-food_photos/apple_red/3fb07b94-0909-469f-b9c3-4f6cb7a7b0df.jpeg'),\n",
       " PosixPath('2023-03-14-food_photos/apple_red/431c10c1-583d-434b-ba1a-3b3033a39104.jpeg'),\n",
       " PosixPath('2023-03-14-food_photos/apple_red/474da89c-bcdc-4d72-96a1-150cae32aafd.jpeg'),\n",
       " PosixPath('2023-03-14-food_photos/apple_red/6290a638-d664-42b2-8eb6-93133eb85bc2.jpeg')]"
      ]
     },
     "execution_count": 3,
     "metadata": {},
     "output_type": "execute_result"
    }
   ],
   "source": [
    "# Get list of all paths in food_photos directory\n",
    "target_dir = '2023-03-14-food_photos'\n",
    "path = Path(target_dir)\n",
    "all_paths = sorted(list(path.glob('*/*.jp*g')))\n",
    "all_paths[:10]"
   ]
  },
  {
   "cell_type": "code",
   "execution_count": 4,
   "metadata": {},
   "outputs": [
    {
     "data": {
      "text/plain": [
       "190"
      ]
     },
     "execution_count": 4,
     "metadata": {},
     "output_type": "execute_result"
    }
   ],
   "source": [
    "len(all_paths)"
   ]
  },
  {
   "cell_type": "code",
   "execution_count": 5,
   "metadata": {},
   "outputs": [
    {
     "name": "stdout",
     "output_type": "stream",
     "text": [
      "some-file-name is not a valid UUID\n"
     ]
    }
   ],
   "source": [
    "import uuid\n",
    "\n",
    "def is_valid_uuid(string):\n",
    "    try:\n",
    "        uuid.UUID(string)\n",
    "        return True\n",
    "    except ValueError:\n",
    "        return False\n",
    "\n",
    "filename = \"some-file-name\"\n",
    "if is_valid_uuid(filename):\n",
    "    print(f\"{filename} is a valid UUID\")\n",
    "else:\n",
    "    print(f\"{filename} is not a valid UUID\")"
   ]
  },
  {
   "cell_type": "code",
   "execution_count": 6,
   "metadata": {},
   "outputs": [
    {
     "data": {
      "text/plain": [
       "[PosixPath('2023-03-14-food_photos/apple_custard/65d69064-ac2f-419e-bbcd-a23b7bc5453c.jpeg'),\n",
       " PosixPath('2023-03-14-food_photos/apple_red/19966794-7257-4568-be81-ef05666cbb84.jpeg'),\n",
       " PosixPath('2023-03-14-food_photos/apple_red/1b51c45e-d711-48b9-aff1-05ea4d7bdc68.jpeg'),\n",
       " PosixPath('2023-03-14-food_photos/apple_red/1f013e0b-50c8-4222-b59b-5afe569d060a.jpeg'),\n",
       " PosixPath('2023-03-14-food_photos/apple_red/35b33e12-7644-4729-9b01-59f388b075e7.jpeg'),\n",
       " PosixPath('2023-03-14-food_photos/apple_red/3e612fdc-6fea-4ea0-b196-728beea40947.jpeg'),\n",
       " PosixPath('2023-03-14-food_photos/apple_red/3fb07b94-0909-469f-b9c3-4f6cb7a7b0df.jpeg'),\n",
       " PosixPath('2023-03-14-food_photos/apple_red/431c10c1-583d-434b-ba1a-3b3033a39104.jpeg'),\n",
       " PosixPath('2023-03-14-food_photos/apple_red/474da89c-bcdc-4d72-96a1-150cae32aafd.jpeg'),\n",
       " PosixPath('2023-03-14-food_photos/apple_red/6290a638-d664-42b2-8eb6-93133eb85bc2.jpeg')]"
      ]
     },
     "execution_count": 6,
     "metadata": {},
     "output_type": "execute_result"
    }
   ],
   "source": [
    "# Loop through all_paths, if the path is a UUID, pass, if not, rename the file to a UUID\n",
    "for path in all_paths:\n",
    "    if not is_valid_uuid(path.stem):\n",
    "        print(f\"[INFO] {path} isn't valud UUID, renaming to UUID...\")\n",
    "        new_name = f\"{uuid.uuid4()}.jpeg\"\n",
    "        new_path_name = path.parent / new_name\n",
    "        path.rename(new_path_name)\n",
    "        print(f\"[INFO] Renamed {path} to {new_path_name}\")\n",
    "\n",
    "# Get list of all paths in food_photos directory\n",
    "path = Path(target_dir)\n",
    "all_paths = sorted(list(path.glob('*/*.jpeg')))\n",
    "all_paths[:10]"
   ]
  },
  {
   "cell_type": "code",
   "execution_count": 7,
   "metadata": {},
   "outputs": [
    {
     "data": {
      "text/plain": [
       "{'apple_custard': 1,\n",
       " 'apple_red': 15,\n",
       " 'avocado': 4,\n",
       " 'bacon': 4,\n",
       " 'banana': 2,\n",
       " 'beef_patty': 1,\n",
       " 'beetroot': 1,\n",
       " 'black_pepper': 2,\n",
       " 'bread': 3,\n",
       " 'broccolini': 2,\n",
       " 'butter': 3,\n",
       " 'cabbage_green': 1,\n",
       " 'cabbage_red': 1,\n",
       " 'capsicum_green': 1,\n",
       " 'cashews': 2,\n",
       " 'celery': 1,\n",
       " 'cheese': 2,\n",
       " 'chicken_breast': 1,\n",
       " 'chicken_stir_fry': 5,\n",
       " 'chilli': 1,\n",
       " 'chocolate': 2,\n",
       " 'coconut': 1,\n",
       " 'coffee': 2,\n",
       " 'corn': 1,\n",
       " 'croissant': 2,\n",
       " 'cucumber': 3,\n",
       " 'eggplant': 1,\n",
       " 'eggs': 2,\n",
       " 'garlic': 6,\n",
       " 'ginger': 2,\n",
       " 'grapefruit': 1,\n",
       " 'grapes_white': 2,\n",
       " 'green_beans': 1,\n",
       " 'guacamole': 3,\n",
       " 'ice': 1,\n",
       " 'ice_coffee': 1,\n",
       " 'kiwi_fruit': 1,\n",
       " 'lemon': 1,\n",
       " 'lettuce_iceberg': 1,\n",
       " 'lime': 3,\n",
       " 'macadamia': 1,\n",
       " 'mango': 1,\n",
       " 'maple_syrup': 1,\n",
       " 'mushroom_portobello': 1,\n",
       " 'mushroom_white_cups': 1,\n",
       " 'nectarine': 3,\n",
       " 'olives': 1,\n",
       " 'onion_brown': 2,\n",
       " 'onion_red': 1,\n",
       " 'onion_white': 1,\n",
       " 'orange': 1,\n",
       " 'orange_juice': 1,\n",
       " 'papaya': 2,\n",
       " 'passionfruit': 5,\n",
       " 'pawpaw': 3,\n",
       " 'peach': 3,\n",
       " 'pear': 1,\n",
       " 'pineapple': 2,\n",
       " 'plum': 6,\n",
       " 'popcorn': 2,\n",
       " 'potato_brown': 1,\n",
       " 'potato_chips': 3,\n",
       " 'potato_kipfler': 1,\n",
       " 'potato_purple_sweet': 1,\n",
       " 'potato_sweet': 3,\n",
       " 'potato_white_sweet': 3,\n",
       " 'pumpkin': 2,\n",
       " 'rambutan': 3,\n",
       " 'rhubarb': 1,\n",
       " 'rice_white': 11,\n",
       " 'rockmelon': 1,\n",
       " 'salsa': 1,\n",
       " 'salt': 2,\n",
       " 'sandwich': 1,\n",
       " 'silverbeet': 2,\n",
       " 'squash_butternut': 3,\n",
       " 'steak': 2,\n",
       " 'tea': 1,\n",
       " 'tomato': 1,\n",
       " 'turmeric': 1,\n",
       " 'watermelon': 2,\n",
       " 'yoghurt': 1,\n",
       " 'zucchini': 14}"
      ]
     },
     "execution_count": 7,
     "metadata": {},
     "output_type": "execute_result"
    }
   ],
   "source": [
    "# Find the number of .jpeg images in each subfolder of food_photos and create a dictionary mapping the subfolder name to the number of images\n",
    "subfolder_to_num_images = {}\n",
    "for p in all_paths:\n",
    "    subfolder = p.parent.stem\n",
    "    if subfolder in subfolder_to_num_images:\n",
    "        subfolder_to_num_images[subfolder] += 1\n",
    "    else:\n",
    "        subfolder_to_num_images[subfolder] = 1\n",
    "subfolder_to_num_images"
   ]
  },
  {
   "cell_type": "code",
   "execution_count": 8,
   "metadata": {},
   "outputs": [
    {
     "data": {
      "text/plain": [
       "83"
      ]
     },
     "execution_count": 8,
     "metadata": {},
     "output_type": "execute_result"
    }
   ],
   "source": [
    "len(subfolder_to_num_images)"
   ]
  },
  {
   "cell_type": "code",
   "execution_count": 9,
   "metadata": {},
   "outputs": [
    {
     "data": {
      "text/plain": [
       "['apple_custard',\n",
       " 'apple_red',\n",
       " 'avocado',\n",
       " 'bacon',\n",
       " 'banana',\n",
       " 'beef_patty',\n",
       " 'beetroot',\n",
       " 'black_pepper',\n",
       " 'bread',\n",
       " 'broccolini',\n",
       " 'butter',\n",
       " 'cabbage_green',\n",
       " 'cabbage_red',\n",
       " 'capsicum_green',\n",
       " 'cashews',\n",
       " 'celery',\n",
       " 'cheese',\n",
       " 'chicken_breast',\n",
       " 'chicken_stir_fry',\n",
       " 'chilli',\n",
       " 'chocolate',\n",
       " 'coconut',\n",
       " 'coffee',\n",
       " 'corn',\n",
       " 'croissant',\n",
       " 'cucumber',\n",
       " 'eggplant',\n",
       " 'eggs',\n",
       " 'garlic',\n",
       " 'ginger',\n",
       " 'grapefruit',\n",
       " 'grapes_white',\n",
       " 'green_beans',\n",
       " 'guacamole',\n",
       " 'ice',\n",
       " 'ice_coffee',\n",
       " 'kiwi_fruit',\n",
       " 'lemon',\n",
       " 'lettuce_iceberg',\n",
       " 'lime',\n",
       " 'macadamia',\n",
       " 'mango',\n",
       " 'maple_syrup',\n",
       " 'mushroom_portobello',\n",
       " 'mushroom_white_cups',\n",
       " 'nectarine',\n",
       " 'olives',\n",
       " 'onion_brown',\n",
       " 'onion_red',\n",
       " 'onion_white',\n",
       " 'orange',\n",
       " 'orange_juice',\n",
       " 'papaya',\n",
       " 'passionfruit',\n",
       " 'pawpaw',\n",
       " 'peach',\n",
       " 'pear',\n",
       " 'pineapple',\n",
       " 'plum',\n",
       " 'popcorn',\n",
       " 'potato_brown',\n",
       " 'potato_chips',\n",
       " 'potato_kipfler',\n",
       " 'potato_purple_sweet',\n",
       " 'potato_sweet',\n",
       " 'potato_white_sweet',\n",
       " 'pumpkin',\n",
       " 'rambutan',\n",
       " 'rhubarb',\n",
       " 'rice_white',\n",
       " 'rockmelon',\n",
       " 'salsa',\n",
       " 'salt',\n",
       " 'sandwich',\n",
       " 'silverbeet',\n",
       " 'squash_butternut',\n",
       " 'steak',\n",
       " 'tea',\n",
       " 'tomato',\n",
       " 'turmeric',\n",
       " 'watermelon',\n",
       " 'yoghurt',\n",
       " 'zucchini']"
      ]
     },
     "execution_count": 9,
     "metadata": {},
     "output_type": "execute_result"
    }
   ],
   "source": [
    "# Get all food_types from all_paths\n",
    "food_types = sorted(list(set([p.parent.name for p in all_paths])))\n",
    "food_types"
   ]
  },
  {
   "cell_type": "markdown",
   "metadata": {},
   "source": [
    "## Download original labels from Weights & Biases"
   ]
  },
  {
   "cell_type": "code",
   "execution_count": 10,
   "metadata": {},
   "outputs": [
    {
     "name": "stdout",
     "output_type": "stream",
     "text": [
      "namespace(annotations_columns_to_export=['filename', 'image_name', 'class_name', 'label', 'split', 'clear_or_confusing', 'whole_food_or_dish', 'one_food_or_multiple', 'label_last_updated_at', 'label_source', 'image_source'], auto_augment=True, batch_size=128, epochs=10, gs_bucket_name='food_vision_bucket_with_object_versioning', gs_image_storage_path='https://storage.cloud.google.com/food_vision_bucket_with_object_versioning/all_images/', input_size=224, label_smoothing=0.1, learning_rate=0.001, model='coatnext_nano_rw_224', num_to_try_and_autocorrect=1000, num_top_n_preds=5, path_to_gcp_credentials='utils/google-storage-key.json', path_to_label_studio_api_key='utils/label_studio_api_key.json', pretrained=True, seed=42, use_mixed_precision=True, wandb_dataset_artifact='food_vision_199_classes_images:latest', wandb_job_type='', wandb_labels_artifact='food_vision_labels:latest', wandb_model_artifact='trained_model:latest', wandb_project='test_wandb_artifacts_by_reference', wandb_run_notes='', wandb_run_tags=[''], wandb_train_preds_artifact='train_predictions:latest', workers=16)\n"
     ]
    }
   ],
   "source": [
    "# Get config\n",
    "from configs.default_config import config\n",
    "\n",
    "args = config\n",
    "print(args)"
   ]
  },
  {
   "cell_type": "code",
   "execution_count": 11,
   "metadata": {},
   "outputs": [
    {
     "name": "stdout",
     "output_type": "stream",
     "text": [
      "[INFO] GCP credentials set!\n",
      "[INFO] GCP connection successful! Access to GCP for saving/loading data and models available.\n"
     ]
    }
   ],
   "source": [
    "# Connect to GCP\n",
    "from utils.gcp_utils import set_gcp_credentials, test_gcp_connection\n",
    "set_gcp_credentials(path_to_key=\"../utils/google-storage-key.json\")\n",
    "test_gcp_connection()"
   ]
  },
  {
   "cell_type": "code",
   "execution_count": 12,
   "metadata": {},
   "outputs": [
    {
     "name": "stderr",
     "output_type": "stream",
     "text": [
      "Failed to detect the name of this notebook, you can set it manually with the WANDB_NOTEBOOK_NAME environment variable to enable code saving.\n",
      "\u001b[34m\u001b[1mwandb\u001b[0m: Currently logged in as: \u001b[33mmrdbourke\u001b[0m. Use \u001b[1m`wandb login --relogin`\u001b[0m to force relogin\n"
     ]
    },
    {
     "data": {
      "text/html": [
       "wandb version 0.13.11 is available!  To upgrade, please run:\n",
       " $ pip install wandb --upgrade"
      ],
      "text/plain": [
       "<IPython.core.display.HTML object>"
      ]
     },
     "metadata": {},
     "output_type": "display_data"
    },
    {
     "data": {
      "text/html": [
       "Tracking run with wandb version 0.12.21"
      ],
      "text/plain": [
       "<IPython.core.display.HTML object>"
      ]
     },
     "metadata": {},
     "output_type": "display_data"
    },
    {
     "data": {
      "text/html": [
       "Run data is saved locally in <code>/home/daniel/code/nutrify/foodvision/notebooks/wandb/run-20230314_102435-xdjw9p02</code>"
      ],
      "text/plain": [
       "<IPython.core.display.HTML object>"
      ]
     },
     "metadata": {},
     "output_type": "display_data"
    },
    {
     "data": {
      "text/html": [
       "Syncing run <strong><a href=\"https://wandb.ai/mrdbourke/test_wandb_artifacts_by_reference/runs/xdjw9p02\" target=\"_blank\">hazelnut-crumble-504</a></strong> to <a href=\"https://wandb.ai/mrdbourke/test_wandb_artifacts_by_reference\" target=\"_blank\">Weights & Biases</a> (<a href=\"https://wandb.me/run\" target=\"_blank\">docs</a>)<br/>"
      ],
      "text/plain": [
       "<IPython.core.display.HTML object>"
      ]
     },
     "metadata": {},
     "output_type": "display_data"
    },
    {
     "name": "stdout",
     "output_type": "stream",
     "text": [
      "[INFO] Labels directory: ./artifacts/food_vision_labels:v47\n",
      "[INFO] Labels path: artifacts/food_vision_labels:v47/annotations.csv\n",
      "[INFO] Working with: 278 classes\n"
     ]
    },
    {
     "name": "stderr",
     "output_type": "stream",
     "text": [
      "/home/daniel/code/nutrify/foodvision/notebooks/../utils/wandb_utils.py:33: DtypeWarning: Columns (5,6,7) have mixed types. Specify dtype option on import or set low_memory=False.\n",
      "  annotations = pd.read_csv(labels_path)\n"
     ]
    }
   ],
   "source": [
    "import wandb\n",
    "\n",
    "# Initialize a new run\n",
    "from utils.wandb_utils import wandb_load_artifact, wandb_download_and_load_labels\n",
    "\n",
    "notes = f\"add {len(all_paths)} manually taken photos to the training dataset\"\n",
    "\n",
    "run = wandb.init(project=args.wandb_project, \n",
    "                 job_type=args.wandb_job_type,\n",
    "                 tags=['manual_photo_upload'],\n",
    "                 notes=notes)\n",
    "\n",
    "annotations, class_names, class_dict, reverse_class_dict, labels_path = wandb_download_and_load_labels(wandb_run=run,\n",
    "wandb_labels_artifact_name=args.wandb_labels_artifact)"
   ]
  },
  {
   "cell_type": "code",
   "execution_count": 13,
   "metadata": {},
   "outputs": [
    {
     "data": {
      "text/plain": [
       "278"
      ]
     },
     "execution_count": 13,
     "metadata": {},
     "output_type": "execute_result"
    }
   ],
   "source": [
    "len(annotations.label.unique())"
   ]
  },
  {
   "cell_type": "code",
   "execution_count": 14,
   "metadata": {},
   "outputs": [],
   "source": [
    "# Make a copy of the annotations\n",
    "original_annotations = annotations.copy()"
   ]
  },
  {
   "cell_type": "code",
   "execution_count": 15,
   "metadata": {},
   "outputs": [
    {
     "data": {
      "text/plain": [
       "['filename',\n",
       " 'image_name',\n",
       " 'class_name',\n",
       " 'label',\n",
       " 'split',\n",
       " 'clear_or_confusing',\n",
       " 'whole_food_or_dish',\n",
       " 'one_food_or_multiple',\n",
       " 'label_last_updated_at',\n",
       " 'label_source',\n",
       " 'image_source']"
      ]
     },
     "execution_count": 15,
     "metadata": {},
     "output_type": "execute_result"
    }
   ],
   "source": [
    "# Get the columns of the annotations\n",
    "columns_to_create = list(original_annotations.columns)\n",
    "columns_to_create"
   ]
  },
  {
   "cell_type": "code",
   "execution_count": 16,
   "metadata": {},
   "outputs": [
    {
     "data": {
      "text/plain": [
       "190"
      ]
     },
     "execution_count": 16,
     "metadata": {},
     "output_type": "execute_result"
    }
   ],
   "source": [
    "# Get all the image paths from food_photos\n",
    "image_paths = list(Path(target_dir).glob('*/*.jpeg'))\n",
    "len(image_paths)"
   ]
  },
  {
   "cell_type": "code",
   "execution_count": 17,
   "metadata": {},
   "outputs": [
    {
     "data": {
      "text/plain": [
       "77"
      ]
     },
     "execution_count": 17,
     "metadata": {},
     "output_type": "execute_result"
    }
   ],
   "source": [
    "# Check to see what food_types are in class_names\n",
    "food_types_in_class_names = [food_type for food_type in food_types if food_type in class_names]\n",
    "\n",
    "# Check to see what food_types are not in class_names\n",
    "food_types_not_in_class_names = [food_type for food_type in food_types if food_type not in class_names]\n",
    "len(food_types_in_class_names)"
   ]
  },
  {
   "cell_type": "code",
   "execution_count": 18,
   "metadata": {},
   "outputs": [
    {
     "data": {
      "text/plain": [
       "['apple_red',\n",
       " 'avocado',\n",
       " 'bacon',\n",
       " 'banana',\n",
       " 'beef_patty',\n",
       " 'beetroot',\n",
       " 'bread',\n",
       " 'broccolini',\n",
       " 'butter',\n",
       " 'cabbage_green',\n",
       " 'cabbage_red',\n",
       " 'capsicum_green',\n",
       " 'cashews',\n",
       " 'celery',\n",
       " 'cheese',\n",
       " 'chicken_breast',\n",
       " 'chilli',\n",
       " 'chocolate',\n",
       " 'coconut',\n",
       " 'coffee',\n",
       " 'corn',\n",
       " 'croissant',\n",
       " 'cucumber',\n",
       " 'eggplant',\n",
       " 'eggs',\n",
       " 'garlic',\n",
       " 'ginger',\n",
       " 'grapefruit',\n",
       " 'grapes_white',\n",
       " 'green_beans',\n",
       " 'guacamole',\n",
       " 'ice_coffee',\n",
       " 'kiwi_fruit',\n",
       " 'lemon',\n",
       " 'lettuce_iceberg',\n",
       " 'lime',\n",
       " 'macadamia',\n",
       " 'mango',\n",
       " 'maple_syrup',\n",
       " 'mushroom_portobello',\n",
       " 'mushroom_white_cups',\n",
       " 'nectarine',\n",
       " 'olives',\n",
       " 'onion_brown',\n",
       " 'onion_red',\n",
       " 'onion_white',\n",
       " 'orange',\n",
       " 'orange_juice',\n",
       " 'papaya',\n",
       " 'passionfruit',\n",
       " 'pawpaw',\n",
       " 'peach',\n",
       " 'pear',\n",
       " 'pineapple',\n",
       " 'plum',\n",
       " 'popcorn',\n",
       " 'potato_brown',\n",
       " 'potato_chips',\n",
       " 'potato_kipfler',\n",
       " 'potato_purple_sweet',\n",
       " 'potato_sweet',\n",
       " 'pumpkin',\n",
       " 'rhubarb',\n",
       " 'rice_white',\n",
       " 'rockmelon',\n",
       " 'salsa',\n",
       " 'salt',\n",
       " 'sandwich',\n",
       " 'silverbeet',\n",
       " 'squash_butternut',\n",
       " 'steak',\n",
       " 'tea',\n",
       " 'tomato',\n",
       " 'turmeric',\n",
       " 'watermelon',\n",
       " 'yoghurt',\n",
       " 'zucchini']"
      ]
     },
     "execution_count": 18,
     "metadata": {},
     "output_type": "execute_result"
    }
   ],
   "source": [
    "food_types_in_class_names"
   ]
  },
  {
   "cell_type": "code",
   "execution_count": 19,
   "metadata": {},
   "outputs": [
    {
     "data": {
      "text/plain": [
       "['apple_custard',\n",
       " 'black_pepper',\n",
       " 'chicken_stir_fry',\n",
       " 'ice',\n",
       " 'potato_white_sweet',\n",
       " 'rambutan']"
      ]
     },
     "execution_count": 19,
     "metadata": {},
     "output_type": "execute_result"
    }
   ],
   "source": [
    "food_types_not_in_class_names"
   ]
  },
  {
   "cell_type": "code",
   "execution_count": 20,
   "metadata": {},
   "outputs": [
    {
     "data": {
      "text/plain": [
       "['pistachio']"
      ]
     },
     "execution_count": 20,
     "metadata": {},
     "output_type": "execute_result"
    }
   ],
   "source": [
    "# Check to see if \"macadamia\" in class_names\n",
    "[class_name for class_name in class_names if \"pis\" in class_name]"
   ]
  },
  {
   "cell_type": "code",
   "execution_count": 21,
   "metadata": {},
   "outputs": [],
   "source": [
    "# How to slot new classes into existing class_dict?\n",
    "# Then update the existing annotations with the new class labels (e.g. \"apple_green\" -> 2, \"apple_red\" -> 3)\n",
    "\n",
    "# Add new classes to class_dict\n",
    "for food_type in food_types_not_in_class_names:\n",
    "    class_dict[len(class_dict)] = food_type\n",
    "    class_names.append(food_type)\n",
    "    reverse_class_dict[food_type] = len(class_dict)-1"
   ]
  },
  {
   "cell_type": "code",
   "execution_count": 22,
   "metadata": {},
   "outputs": [
    {
     "data": {
      "text/plain": [
       "284"
      ]
     },
     "execution_count": 22,
     "metadata": {},
     "output_type": "execute_result"
    }
   ],
   "source": [
    "len(class_dict)"
   ]
  },
  {
   "cell_type": "code",
   "execution_count": 23,
   "metadata": {},
   "outputs": [
    {
     "data": {
      "text/html": [
       "<div>\n",
       "<style scoped>\n",
       "    .dataframe tbody tr th:only-of-type {\n",
       "        vertical-align: middle;\n",
       "    }\n",
       "\n",
       "    .dataframe tbody tr th {\n",
       "        vertical-align: top;\n",
       "    }\n",
       "\n",
       "    .dataframe thead th {\n",
       "        text-align: right;\n",
       "    }\n",
       "</style>\n",
       "<table border=\"1\" class=\"dataframe\">\n",
       "  <thead>\n",
       "    <tr style=\"text-align: right;\">\n",
       "      <th></th>\n",
       "      <th>filename</th>\n",
       "      <th>image_name</th>\n",
       "      <th>class_name</th>\n",
       "      <th>label</th>\n",
       "      <th>split</th>\n",
       "      <th>clear_or_confusing</th>\n",
       "      <th>whole_food_or_dish</th>\n",
       "      <th>one_food_or_multiple</th>\n",
       "      <th>label_last_updated_at</th>\n",
       "      <th>label_source</th>\n",
       "      <th>image_source</th>\n",
       "    </tr>\n",
       "  </thead>\n",
       "  <tbody>\n",
       "    <tr>\n",
       "      <th>0</th>\n",
       "      <td>2023-03-14-food_photos/watermelon/7e7adb76-a8e...</td>\n",
       "      <td>7e7adb76-a8ed-4f2d-b408-07468854ff63.jpeg</td>\n",
       "      <td>watermelon</td>\n",
       "      <td>272</td>\n",
       "      <td>test</td>\n",
       "      <td>clear</td>\n",
       "      <td>whole_food</td>\n",
       "      <td>one_food</td>\n",
       "      <td>2023-03-14_10-25-03</td>\n",
       "      <td>manual_upload</td>\n",
       "      <td>manual_upload</td>\n",
       "    </tr>\n",
       "    <tr>\n",
       "      <th>1</th>\n",
       "      <td>2023-03-14-food_photos/watermelon/e1c1c319-486...</td>\n",
       "      <td>e1c1c319-4862-439b-95d6-81694afddaa1.jpeg</td>\n",
       "      <td>watermelon</td>\n",
       "      <td>272</td>\n",
       "      <td>test</td>\n",
       "      <td>clear</td>\n",
       "      <td>whole_food</td>\n",
       "      <td>one_food</td>\n",
       "      <td>2023-03-14_10-25-03</td>\n",
       "      <td>manual_upload</td>\n",
       "      <td>manual_upload</td>\n",
       "    </tr>\n",
       "    <tr>\n",
       "      <th>2</th>\n",
       "      <td>2023-03-14-food_photos/salt/36bab3c9-2ec0-41a2...</td>\n",
       "      <td>36bab3c9-2ec0-41a2-a733-e13d883e7e44.jpeg</td>\n",
       "      <td>salt</td>\n",
       "      <td>232</td>\n",
       "      <td>test</td>\n",
       "      <td>clear</td>\n",
       "      <td>whole_food</td>\n",
       "      <td>one_food</td>\n",
       "      <td>2023-03-14_10-25-03</td>\n",
       "      <td>manual_upload</td>\n",
       "      <td>manual_upload</td>\n",
       "    </tr>\n",
       "    <tr>\n",
       "      <th>3</th>\n",
       "      <td>2023-03-14-food_photos/salt/f061158a-352c-4471...</td>\n",
       "      <td>f061158a-352c-4471-8cb7-71d3209ee5f2.jpeg</td>\n",
       "      <td>salt</td>\n",
       "      <td>232</td>\n",
       "      <td>train</td>\n",
       "      <td>clear</td>\n",
       "      <td>whole_food</td>\n",
       "      <td>one_food</td>\n",
       "      <td>2023-03-14_10-25-03</td>\n",
       "      <td>manual_upload</td>\n",
       "      <td>manual_upload</td>\n",
       "    </tr>\n",
       "    <tr>\n",
       "      <th>4</th>\n",
       "      <td>2023-03-14-food_photos/chicken_stir_fry/db1912...</td>\n",
       "      <td>db1912c2-b1f3-48fa-bb51-d5b199ebd2d8.jpeg</td>\n",
       "      <td>chicken_stir_fry</td>\n",
       "      <td>280</td>\n",
       "      <td>train</td>\n",
       "      <td>clear</td>\n",
       "      <td>whole_food</td>\n",
       "      <td>one_food</td>\n",
       "      <td>2023-03-14_10-25-03</td>\n",
       "      <td>manual_upload</td>\n",
       "      <td>manual_upload</td>\n",
       "    </tr>\n",
       "  </tbody>\n",
       "</table>\n",
       "</div>"
      ],
      "text/plain": [
       "                                            filename  \\\n",
       "0  2023-03-14-food_photos/watermelon/7e7adb76-a8e...   \n",
       "1  2023-03-14-food_photos/watermelon/e1c1c319-486...   \n",
       "2  2023-03-14-food_photos/salt/36bab3c9-2ec0-41a2...   \n",
       "3  2023-03-14-food_photos/salt/f061158a-352c-4471...   \n",
       "4  2023-03-14-food_photos/chicken_stir_fry/db1912...   \n",
       "\n",
       "                                  image_name        class_name  label  split  \\\n",
       "0  7e7adb76-a8ed-4f2d-b408-07468854ff63.jpeg        watermelon    272   test   \n",
       "1  e1c1c319-4862-439b-95d6-81694afddaa1.jpeg        watermelon    272   test   \n",
       "2  36bab3c9-2ec0-41a2-a733-e13d883e7e44.jpeg              salt    232   test   \n",
       "3  f061158a-352c-4471-8cb7-71d3209ee5f2.jpeg              salt    232  train   \n",
       "4  db1912c2-b1f3-48fa-bb51-d5b199ebd2d8.jpeg  chicken_stir_fry    280  train   \n",
       "\n",
       "  clear_or_confusing whole_food_or_dish one_food_or_multiple  \\\n",
       "0              clear         whole_food             one_food   \n",
       "1              clear         whole_food             one_food   \n",
       "2              clear         whole_food             one_food   \n",
       "3              clear         whole_food             one_food   \n",
       "4              clear         whole_food             one_food   \n",
       "\n",
       "  label_last_updated_at   label_source   image_source  \n",
       "0   2023-03-14_10-25-03  manual_upload  manual_upload  \n",
       "1   2023-03-14_10-25-03  manual_upload  manual_upload  \n",
       "2   2023-03-14_10-25-03  manual_upload  manual_upload  \n",
       "3   2023-03-14_10-25-03  manual_upload  manual_upload  \n",
       "4   2023-03-14_10-25-03  manual_upload  manual_upload  "
      ]
     },
     "execution_count": 23,
     "metadata": {},
     "output_type": "execute_result"
    }
   ],
   "source": [
    "from utils.misc import get_now_time\n",
    "\n",
    "# Create a list of dictionaries and fill out the columns of the annotations\n",
    "columns = ['filename',\n",
    " 'image_name',\n",
    " 'class_name',\n",
    " 'label',\n",
    " 'split',\n",
    " 'clear_or_confusing',\n",
    " 'whole_food_or_dish',\n",
    " 'one_food_or_multiple',\n",
    " 'label_last_updated_at',\n",
    " 'label_source',\n",
    " 'image_source']\n",
    "\n",
    "food_image_dict_list = []\n",
    "\n",
    "LABEL_SOURCE = \"manual_upload\"\n",
    "IMAGE_SOURCE = \"manual_upload\"\n",
    "LABEL_LAST_UPDATED_AT = get_now_time()\n",
    "\n",
    "for image_path in image_paths:\n",
    "    food_image_dict = {}\n",
    "    food_image_dict['filename'] = image_path\n",
    "    food_image_dict['image_name'] = image_path.name\n",
    "    food_image_dict['class_name'] = image_path.parent.name\n",
    "    food_image_dict['label'] = reverse_class_dict[image_path.parent.name]\n",
    "    # food_image_dict['split'] = 'train'\n",
    "    # Label 20% of the images as test\n",
    "    if np.random.random() < 0.2:\n",
    "        food_image_dict['split'] = 'test'\n",
    "    else:\n",
    "        food_image_dict['split'] = 'train'\n",
    "    food_image_dict['clear_or_confusing'] = 'clear'\n",
    "    food_image_dict['whole_food_or_dish'] = 'whole_food'\n",
    "    food_image_dict['one_food_or_multiple'] = 'one_food'\n",
    "    food_image_dict['label_last_updated_at'] = LABEL_LAST_UPDATED_AT\n",
    "    food_image_dict['label_source'] = LABEL_SOURCE\n",
    "    food_image_dict['image_source'] = IMAGE_SOURCE\n",
    "\n",
    "    food_image_dict_list.append(food_image_dict)\n",
    "\n",
    "# Create a dataframe from the list of dictionaries\n",
    "import pandas as pd\n",
    "new_annotations = pd.DataFrame(food_image_dict_list)\n",
    "new_annotations.head()"
   ]
  },
  {
   "cell_type": "code",
   "execution_count": 24,
   "metadata": {},
   "outputs": [
    {
     "data": {
      "text/plain": [
       "train    154\n",
       "test      36\n",
       "Name: split, dtype: int64"
      ]
     },
     "execution_count": 24,
     "metadata": {},
     "output_type": "execute_result"
    }
   ],
   "source": [
    "# Print how many images are train/test in new_annotations\n",
    "new_annotations['split'].value_counts()"
   ]
  },
  {
   "cell_type": "code",
   "execution_count": 25,
   "metadata": {},
   "outputs": [
    {
     "data": {
      "text/html": [
       "<div>\n",
       "<style scoped>\n",
       "    .dataframe tbody tr th:only-of-type {\n",
       "        vertical-align: middle;\n",
       "    }\n",
       "\n",
       "    .dataframe tbody tr th {\n",
       "        vertical-align: top;\n",
       "    }\n",
       "\n",
       "    .dataframe thead th {\n",
       "        text-align: right;\n",
       "    }\n",
       "</style>\n",
       "<table border=\"1\" class=\"dataframe\">\n",
       "  <thead>\n",
       "    <tr style=\"text-align: right;\">\n",
       "      <th></th>\n",
       "      <th>filename</th>\n",
       "      <th>image_name</th>\n",
       "      <th>class_name</th>\n",
       "      <th>label</th>\n",
       "      <th>split</th>\n",
       "      <th>clear_or_confusing</th>\n",
       "      <th>whole_food_or_dish</th>\n",
       "      <th>one_food_or_multiple</th>\n",
       "      <th>label_last_updated_at</th>\n",
       "      <th>label_source</th>\n",
       "      <th>image_source</th>\n",
       "    </tr>\n",
       "  </thead>\n",
       "  <tbody>\n",
       "    <tr>\n",
       "      <th>47</th>\n",
       "      <td>2023-03-14-food_photos/rice_white/2e9a2530-bed...</td>\n",
       "      <td>2e9a2530-bed0-49e6-90a3-cffed479297d.jpeg</td>\n",
       "      <td>rice_white</td>\n",
       "      <td>223</td>\n",
       "      <td>train</td>\n",
       "      <td>clear</td>\n",
       "      <td>whole_food</td>\n",
       "      <td>one_food</td>\n",
       "      <td>2023-03-14_10-25-03</td>\n",
       "      <td>manual_upload</td>\n",
       "      <td>manual_upload</td>\n",
       "    </tr>\n",
       "    <tr>\n",
       "      <th>8</th>\n",
       "      <td>2023-03-14-food_photos/chicken_stir_fry/1e81fe...</td>\n",
       "      <td>1e81fe96-0999-4497-8cb4-d0b5ce2d5e36.jpeg</td>\n",
       "      <td>chicken_stir_fry</td>\n",
       "      <td>280</td>\n",
       "      <td>train</td>\n",
       "      <td>clear</td>\n",
       "      <td>whole_food</td>\n",
       "      <td>one_food</td>\n",
       "      <td>2023-03-14_10-25-03</td>\n",
       "      <td>manual_upload</td>\n",
       "      <td>manual_upload</td>\n",
       "    </tr>\n",
       "    <tr>\n",
       "      <th>43</th>\n",
       "      <td>2023-03-14-food_photos/rice_white/02330fc6-aad...</td>\n",
       "      <td>02330fc6-aada-4ab8-93b1-58a194d1f093.jpeg</td>\n",
       "      <td>rice_white</td>\n",
       "      <td>223</td>\n",
       "      <td>test</td>\n",
       "      <td>clear</td>\n",
       "      <td>whole_food</td>\n",
       "      <td>one_food</td>\n",
       "      <td>2023-03-14_10-25-03</td>\n",
       "      <td>manual_upload</td>\n",
       "      <td>manual_upload</td>\n",
       "    </tr>\n",
       "    <tr>\n",
       "      <th>29</th>\n",
       "      <td>2023-03-14-food_photos/zucchini/589fce5d-8592-...</td>\n",
       "      <td>589fce5d-8592-4359-a97f-56f7a2f6d7d9.jpeg</td>\n",
       "      <td>zucchini</td>\n",
       "      <td>277</td>\n",
       "      <td>test</td>\n",
       "      <td>clear</td>\n",
       "      <td>whole_food</td>\n",
       "      <td>one_food</td>\n",
       "      <td>2023-03-14_10-25-03</td>\n",
       "      <td>manual_upload</td>\n",
       "      <td>manual_upload</td>\n",
       "    </tr>\n",
       "    <tr>\n",
       "      <th>36</th>\n",
       "      <td>2023-03-14-food_photos/zucchini/3cc5deab-0526-...</td>\n",
       "      <td>3cc5deab-0526-47d6-8cdf-d8b1392bf611.jpeg</td>\n",
       "      <td>zucchini</td>\n",
       "      <td>277</td>\n",
       "      <td>test</td>\n",
       "      <td>clear</td>\n",
       "      <td>whole_food</td>\n",
       "      <td>one_food</td>\n",
       "      <td>2023-03-14_10-25-03</td>\n",
       "      <td>manual_upload</td>\n",
       "      <td>manual_upload</td>\n",
       "    </tr>\n",
       "    <tr>\n",
       "      <th>7</th>\n",
       "      <td>2023-03-14-food_photos/chicken_stir_fry/6caaf9...</td>\n",
       "      <td>6caaf985-4eac-470e-9dbf-2d983d29afe9.jpeg</td>\n",
       "      <td>chicken_stir_fry</td>\n",
       "      <td>280</td>\n",
       "      <td>train</td>\n",
       "      <td>clear</td>\n",
       "      <td>whole_food</td>\n",
       "      <td>one_food</td>\n",
       "      <td>2023-03-14_10-25-03</td>\n",
       "      <td>manual_upload</td>\n",
       "      <td>manual_upload</td>\n",
       "    </tr>\n",
       "    <tr>\n",
       "      <th>44</th>\n",
       "      <td>2023-03-14-food_photos/rice_white/1731b41c-d1e...</td>\n",
       "      <td>1731b41c-d1ec-4781-b830-268f4f99a9d0.jpeg</td>\n",
       "      <td>rice_white</td>\n",
       "      <td>223</td>\n",
       "      <td>train</td>\n",
       "      <td>clear</td>\n",
       "      <td>whole_food</td>\n",
       "      <td>one_food</td>\n",
       "      <td>2023-03-14_10-25-03</td>\n",
       "      <td>manual_upload</td>\n",
       "      <td>manual_upload</td>\n",
       "    </tr>\n",
       "    <tr>\n",
       "      <th>114</th>\n",
       "      <td>2023-03-14-food_photos/potato_sweet/71a490ca-7...</td>\n",
       "      <td>71a490ca-7c47-48a2-8450-69c21999328c.jpeg</td>\n",
       "      <td>potato_sweet</td>\n",
       "      <td>209</td>\n",
       "      <td>train</td>\n",
       "      <td>clear</td>\n",
       "      <td>whole_food</td>\n",
       "      <td>one_food</td>\n",
       "      <td>2023-03-14_10-25-03</td>\n",
       "      <td>manual_upload</td>\n",
       "      <td>manual_upload</td>\n",
       "    </tr>\n",
       "    <tr>\n",
       "      <th>117</th>\n",
       "      <td>2023-03-14-food_photos/potato_purple_sweet/f3a...</td>\n",
       "      <td>f3a55544-dddd-4839-986a-2b893782f286.jpeg</td>\n",
       "      <td>potato_purple_sweet</td>\n",
       "      <td>205</td>\n",
       "      <td>test</td>\n",
       "      <td>clear</td>\n",
       "      <td>whole_food</td>\n",
       "      <td>one_food</td>\n",
       "      <td>2023-03-14_10-25-03</td>\n",
       "      <td>manual_upload</td>\n",
       "      <td>manual_upload</td>\n",
       "    </tr>\n",
       "    <tr>\n",
       "      <th>161</th>\n",
       "      <td>2023-03-14-food_photos/potato_chips/88f799be-b...</td>\n",
       "      <td>88f799be-b80d-41d4-805c-744e9db1584c.jpeg</td>\n",
       "      <td>potato_chips</td>\n",
       "      <td>202</td>\n",
       "      <td>train</td>\n",
       "      <td>clear</td>\n",
       "      <td>whole_food</td>\n",
       "      <td>one_food</td>\n",
       "      <td>2023-03-14_10-25-03</td>\n",
       "      <td>manual_upload</td>\n",
       "      <td>manual_upload</td>\n",
       "    </tr>\n",
       "  </tbody>\n",
       "</table>\n",
       "</div>"
      ],
      "text/plain": [
       "                                              filename  \\\n",
       "47   2023-03-14-food_photos/rice_white/2e9a2530-bed...   \n",
       "8    2023-03-14-food_photos/chicken_stir_fry/1e81fe...   \n",
       "43   2023-03-14-food_photos/rice_white/02330fc6-aad...   \n",
       "29   2023-03-14-food_photos/zucchini/589fce5d-8592-...   \n",
       "36   2023-03-14-food_photos/zucchini/3cc5deab-0526-...   \n",
       "7    2023-03-14-food_photos/chicken_stir_fry/6caaf9...   \n",
       "44   2023-03-14-food_photos/rice_white/1731b41c-d1e...   \n",
       "114  2023-03-14-food_photos/potato_sweet/71a490ca-7...   \n",
       "117  2023-03-14-food_photos/potato_purple_sweet/f3a...   \n",
       "161  2023-03-14-food_photos/potato_chips/88f799be-b...   \n",
       "\n",
       "                                    image_name           class_name  label  \\\n",
       "47   2e9a2530-bed0-49e6-90a3-cffed479297d.jpeg           rice_white    223   \n",
       "8    1e81fe96-0999-4497-8cb4-d0b5ce2d5e36.jpeg     chicken_stir_fry    280   \n",
       "43   02330fc6-aada-4ab8-93b1-58a194d1f093.jpeg           rice_white    223   \n",
       "29   589fce5d-8592-4359-a97f-56f7a2f6d7d9.jpeg             zucchini    277   \n",
       "36   3cc5deab-0526-47d6-8cdf-d8b1392bf611.jpeg             zucchini    277   \n",
       "7    6caaf985-4eac-470e-9dbf-2d983d29afe9.jpeg     chicken_stir_fry    280   \n",
       "44   1731b41c-d1ec-4781-b830-268f4f99a9d0.jpeg           rice_white    223   \n",
       "114  71a490ca-7c47-48a2-8450-69c21999328c.jpeg         potato_sweet    209   \n",
       "117  f3a55544-dddd-4839-986a-2b893782f286.jpeg  potato_purple_sweet    205   \n",
       "161  88f799be-b80d-41d4-805c-744e9db1584c.jpeg         potato_chips    202   \n",
       "\n",
       "     split clear_or_confusing whole_food_or_dish one_food_or_multiple  \\\n",
       "47   train              clear         whole_food             one_food   \n",
       "8    train              clear         whole_food             one_food   \n",
       "43    test              clear         whole_food             one_food   \n",
       "29    test              clear         whole_food             one_food   \n",
       "36    test              clear         whole_food             one_food   \n",
       "7    train              clear         whole_food             one_food   \n",
       "44   train              clear         whole_food             one_food   \n",
       "114  train              clear         whole_food             one_food   \n",
       "117   test              clear         whole_food             one_food   \n",
       "161  train              clear         whole_food             one_food   \n",
       "\n",
       "    label_last_updated_at   label_source   image_source  \n",
       "47    2023-03-14_10-25-03  manual_upload  manual_upload  \n",
       "8     2023-03-14_10-25-03  manual_upload  manual_upload  \n",
       "43    2023-03-14_10-25-03  manual_upload  manual_upload  \n",
       "29    2023-03-14_10-25-03  manual_upload  manual_upload  \n",
       "36    2023-03-14_10-25-03  manual_upload  manual_upload  \n",
       "7     2023-03-14_10-25-03  manual_upload  manual_upload  \n",
       "44    2023-03-14_10-25-03  manual_upload  manual_upload  \n",
       "114   2023-03-14_10-25-03  manual_upload  manual_upload  \n",
       "117   2023-03-14_10-25-03  manual_upload  manual_upload  \n",
       "161   2023-03-14_10-25-03  manual_upload  manual_upload  "
      ]
     },
     "execution_count": 25,
     "metadata": {},
     "output_type": "execute_result"
    }
   ],
   "source": [
    "# Find a random sample of 10 images where the label value is 199 or higher\n",
    "new_annotations[new_annotations['label'] >= 199].sample(10)"
   ]
  },
  {
   "cell_type": "code",
   "execution_count": 26,
   "metadata": {},
   "outputs": [
    {
     "data": {
      "text/plain": [
       "(132198, 190)"
      ]
     },
     "execution_count": 26,
     "metadata": {},
     "output_type": "execute_result"
    }
   ],
   "source": [
    "len(original_annotations), len(new_annotations)"
   ]
  },
  {
   "cell_type": "code",
   "execution_count": 27,
   "metadata": {},
   "outputs": [
    {
     "data": {
      "text/html": [
       "<div>\n",
       "<style scoped>\n",
       "    .dataframe tbody tr th:only-of-type {\n",
       "        vertical-align: middle;\n",
       "    }\n",
       "\n",
       "    .dataframe tbody tr th {\n",
       "        vertical-align: top;\n",
       "    }\n",
       "\n",
       "    .dataframe thead th {\n",
       "        text-align: right;\n",
       "    }\n",
       "</style>\n",
       "<table border=\"1\" class=\"dataframe\">\n",
       "  <thead>\n",
       "    <tr style=\"text-align: right;\">\n",
       "      <th></th>\n",
       "      <th>filename</th>\n",
       "      <th>image_name</th>\n",
       "      <th>class_name</th>\n",
       "      <th>label</th>\n",
       "      <th>split</th>\n",
       "      <th>clear_or_confusing</th>\n",
       "      <th>whole_food_or_dish</th>\n",
       "      <th>one_food_or_multiple</th>\n",
       "      <th>label_last_updated_at</th>\n",
       "      <th>label_source</th>\n",
       "      <th>image_source</th>\n",
       "    </tr>\n",
       "  </thead>\n",
       "  <tbody>\n",
       "    <tr>\n",
       "      <th>0</th>\n",
       "      <td>test/pain_au_chocolat/4fd7cb42-bd7f-48f1-bfdc-...</td>\n",
       "      <td>4fd7cb42-bd7f-48f1-bfdc-607c2f54b788.jpg</td>\n",
       "      <td>pain_au_chocolat</td>\n",
       "      <td>170</td>\n",
       "      <td>test</td>\n",
       "      <td>NaN</td>\n",
       "      <td>NaN</td>\n",
       "      <td>NaN</td>\n",
       "      <td>NaN</td>\n",
       "      <td>NaN</td>\n",
       "      <td>internet_download</td>\n",
       "    </tr>\n",
       "    <tr>\n",
       "      <th>1</th>\n",
       "      <td>test/pain_au_chocolat/2062f52a-781c-4e4f-b8a7-...</td>\n",
       "      <td>2062f52a-781c-4e4f-b8a7-0a108934f453.jpg</td>\n",
       "      <td>pain_au_chocolat</td>\n",
       "      <td>170</td>\n",
       "      <td>test</td>\n",
       "      <td>NaN</td>\n",
       "      <td>NaN</td>\n",
       "      <td>NaN</td>\n",
       "      <td>NaN</td>\n",
       "      <td>NaN</td>\n",
       "      <td>internet_download</td>\n",
       "    </tr>\n",
       "    <tr>\n",
       "      <th>2</th>\n",
       "      <td>test/pain_au_chocolat/8003e0f6-37e8-460d-9c14-...</td>\n",
       "      <td>8003e0f6-37e8-460d-9c14-e7c6fe44a37f.jpg</td>\n",
       "      <td>pain_au_chocolat</td>\n",
       "      <td>170</td>\n",
       "      <td>test</td>\n",
       "      <td>NaN</td>\n",
       "      <td>NaN</td>\n",
       "      <td>NaN</td>\n",
       "      <td>NaN</td>\n",
       "      <td>NaN</td>\n",
       "      <td>internet_download</td>\n",
       "    </tr>\n",
       "    <tr>\n",
       "      <th>3</th>\n",
       "      <td>test/pain_au_chocolat/839437c8-c643-408f-9f04-...</td>\n",
       "      <td>839437c8-c643-408f-9f04-d0d3bec238c3.jpg</td>\n",
       "      <td>pain_au_chocolat</td>\n",
       "      <td>170</td>\n",
       "      <td>test</td>\n",
       "      <td>NaN</td>\n",
       "      <td>NaN</td>\n",
       "      <td>NaN</td>\n",
       "      <td>NaN</td>\n",
       "      <td>NaN</td>\n",
       "      <td>internet_download</td>\n",
       "    </tr>\n",
       "    <tr>\n",
       "      <th>4</th>\n",
       "      <td>test/pain_au_chocolat/ca5c13ff-a535-4b69-9144-...</td>\n",
       "      <td>ca5c13ff-a535-4b69-9144-e06275e01e35.jpg</td>\n",
       "      <td>pain_au_chocolat</td>\n",
       "      <td>170</td>\n",
       "      <td>test</td>\n",
       "      <td>NaN</td>\n",
       "      <td>NaN</td>\n",
       "      <td>NaN</td>\n",
       "      <td>NaN</td>\n",
       "      <td>NaN</td>\n",
       "      <td>internet_download</td>\n",
       "    </tr>\n",
       "    <tr>\n",
       "      <th>...</th>\n",
       "      <td>...</td>\n",
       "      <td>...</td>\n",
       "      <td>...</td>\n",
       "      <td>...</td>\n",
       "      <td>...</td>\n",
       "      <td>...</td>\n",
       "      <td>...</td>\n",
       "      <td>...</td>\n",
       "      <td>...</td>\n",
       "      <td>...</td>\n",
       "      <td>...</td>\n",
       "    </tr>\n",
       "    <tr>\n",
       "      <th>132383</th>\n",
       "      <td>2023-03-14-food_photos/guacamole/16007af8-6b4b...</td>\n",
       "      <td>16007af8-6b4b-483e-8e8a-87cd864a8ec4.jpeg</td>\n",
       "      <td>guacamole</td>\n",
       "      <td>108</td>\n",
       "      <td>test</td>\n",
       "      <td>clear</td>\n",
       "      <td>whole_food</td>\n",
       "      <td>one_food</td>\n",
       "      <td>2023-03-14_10-25-03</td>\n",
       "      <td>manual_upload</td>\n",
       "      <td>manual_upload</td>\n",
       "    </tr>\n",
       "    <tr>\n",
       "      <th>132384</th>\n",
       "      <td>2023-03-14-food_photos/guacamole/369cdf67-4382...</td>\n",
       "      <td>369cdf67-4382-4b1f-b9ab-d7f206c0a8a4.jpeg</td>\n",
       "      <td>guacamole</td>\n",
       "      <td>108</td>\n",
       "      <td>test</td>\n",
       "      <td>clear</td>\n",
       "      <td>whole_food</td>\n",
       "      <td>one_food</td>\n",
       "      <td>2023-03-14_10-25-03</td>\n",
       "      <td>manual_upload</td>\n",
       "      <td>manual_upload</td>\n",
       "    </tr>\n",
       "    <tr>\n",
       "      <th>132385</th>\n",
       "      <td>2023-03-14-food_photos/ice_coffee/2e466ef8-809...</td>\n",
       "      <td>2e466ef8-8090-429f-80be-43682da2abae.jpeg</td>\n",
       "      <td>ice_coffee</td>\n",
       "      <td>116</td>\n",
       "      <td>train</td>\n",
       "      <td>clear</td>\n",
       "      <td>whole_food</td>\n",
       "      <td>one_food</td>\n",
       "      <td>2023-03-14_10-25-03</td>\n",
       "      <td>manual_upload</td>\n",
       "      <td>manual_upload</td>\n",
       "    </tr>\n",
       "    <tr>\n",
       "      <th>132386</th>\n",
       "      <td>2023-03-14-food_photos/onion_brown/08cc18d2-62...</td>\n",
       "      <td>08cc18d2-6217-49a6-b41e-01614e3dc5a5.jpeg</td>\n",
       "      <td>onion_brown</td>\n",
       "      <td>162</td>\n",
       "      <td>train</td>\n",
       "      <td>clear</td>\n",
       "      <td>whole_food</td>\n",
       "      <td>one_food</td>\n",
       "      <td>2023-03-14_10-25-03</td>\n",
       "      <td>manual_upload</td>\n",
       "      <td>manual_upload</td>\n",
       "    </tr>\n",
       "    <tr>\n",
       "      <th>132387</th>\n",
       "      <td>2023-03-14-food_photos/onion_brown/692d59f1-20...</td>\n",
       "      <td>692d59f1-20d7-42f9-bd6f-8a1e346e27d3.jpeg</td>\n",
       "      <td>onion_brown</td>\n",
       "      <td>162</td>\n",
       "      <td>train</td>\n",
       "      <td>clear</td>\n",
       "      <td>whole_food</td>\n",
       "      <td>one_food</td>\n",
       "      <td>2023-03-14_10-25-03</td>\n",
       "      <td>manual_upload</td>\n",
       "      <td>manual_upload</td>\n",
       "    </tr>\n",
       "  </tbody>\n",
       "</table>\n",
       "<p>132388 rows × 11 columns</p>\n",
       "</div>"
      ],
      "text/plain": [
       "                                                 filename  \\\n",
       "0       test/pain_au_chocolat/4fd7cb42-bd7f-48f1-bfdc-...   \n",
       "1       test/pain_au_chocolat/2062f52a-781c-4e4f-b8a7-...   \n",
       "2       test/pain_au_chocolat/8003e0f6-37e8-460d-9c14-...   \n",
       "3       test/pain_au_chocolat/839437c8-c643-408f-9f04-...   \n",
       "4       test/pain_au_chocolat/ca5c13ff-a535-4b69-9144-...   \n",
       "...                                                   ...   \n",
       "132383  2023-03-14-food_photos/guacamole/16007af8-6b4b...   \n",
       "132384  2023-03-14-food_photos/guacamole/369cdf67-4382...   \n",
       "132385  2023-03-14-food_photos/ice_coffee/2e466ef8-809...   \n",
       "132386  2023-03-14-food_photos/onion_brown/08cc18d2-62...   \n",
       "132387  2023-03-14-food_photos/onion_brown/692d59f1-20...   \n",
       "\n",
       "                                       image_name        class_name  label  \\\n",
       "0        4fd7cb42-bd7f-48f1-bfdc-607c2f54b788.jpg  pain_au_chocolat    170   \n",
       "1        2062f52a-781c-4e4f-b8a7-0a108934f453.jpg  pain_au_chocolat    170   \n",
       "2        8003e0f6-37e8-460d-9c14-e7c6fe44a37f.jpg  pain_au_chocolat    170   \n",
       "3        839437c8-c643-408f-9f04-d0d3bec238c3.jpg  pain_au_chocolat    170   \n",
       "4        ca5c13ff-a535-4b69-9144-e06275e01e35.jpg  pain_au_chocolat    170   \n",
       "...                                           ...               ...    ...   \n",
       "132383  16007af8-6b4b-483e-8e8a-87cd864a8ec4.jpeg         guacamole    108   \n",
       "132384  369cdf67-4382-4b1f-b9ab-d7f206c0a8a4.jpeg         guacamole    108   \n",
       "132385  2e466ef8-8090-429f-80be-43682da2abae.jpeg        ice_coffee    116   \n",
       "132386  08cc18d2-6217-49a6-b41e-01614e3dc5a5.jpeg       onion_brown    162   \n",
       "132387  692d59f1-20d7-42f9-bd6f-8a1e346e27d3.jpeg       onion_brown    162   \n",
       "\n",
       "        split clear_or_confusing whole_food_or_dish one_food_or_multiple  \\\n",
       "0        test                NaN                NaN                  NaN   \n",
       "1        test                NaN                NaN                  NaN   \n",
       "2        test                NaN                NaN                  NaN   \n",
       "3        test                NaN                NaN                  NaN   \n",
       "4        test                NaN                NaN                  NaN   \n",
       "...       ...                ...                ...                  ...   \n",
       "132383   test              clear         whole_food             one_food   \n",
       "132384   test              clear         whole_food             one_food   \n",
       "132385  train              clear         whole_food             one_food   \n",
       "132386  train              clear         whole_food             one_food   \n",
       "132387  train              clear         whole_food             one_food   \n",
       "\n",
       "       label_last_updated_at   label_source       image_source  \n",
       "0                        NaN            NaN  internet_download  \n",
       "1                        NaN            NaN  internet_download  \n",
       "2                        NaN            NaN  internet_download  \n",
       "3                        NaN            NaN  internet_download  \n",
       "4                        NaN            NaN  internet_download  \n",
       "...                      ...            ...                ...  \n",
       "132383   2023-03-14_10-25-03  manual_upload      manual_upload  \n",
       "132384   2023-03-14_10-25-03  manual_upload      manual_upload  \n",
       "132385   2023-03-14_10-25-03  manual_upload      manual_upload  \n",
       "132386   2023-03-14_10-25-03  manual_upload      manual_upload  \n",
       "132387   2023-03-14_10-25-03  manual_upload      manual_upload  \n",
       "\n",
       "[132388 rows x 11 columns]"
      ]
     },
     "execution_count": 27,
     "metadata": {},
     "output_type": "execute_result"
    }
   ],
   "source": [
    "# Append the new_annotations to the original_annotations\n",
    "updated_annotations = pd.concat([original_annotations, new_annotations], ignore_index=True)\n",
    "\n",
    "# updated_annotations = original_annotations.(new_annotations, ignore_index=True)\n",
    "updated_annotations"
   ]
  },
  {
   "cell_type": "code",
   "execution_count": 28,
   "metadata": {},
   "outputs": [
    {
     "data": {
      "text/plain": [
       "278"
      ]
     },
     "execution_count": 28,
     "metadata": {},
     "output_type": "execute_result"
    }
   ],
   "source": [
    "# How many unique class_names are in original_annotations?\n",
    "len(original_annotations['class_name'].unique())"
   ]
  },
  {
   "cell_type": "code",
   "execution_count": 29,
   "metadata": {},
   "outputs": [
    {
     "data": {
      "text/plain": [
       "284"
      ]
     },
     "execution_count": 29,
     "metadata": {},
     "output_type": "execute_result"
    }
   ],
   "source": [
    "# How many unique class_names are in updated_annotations?\n",
    "len(updated_annotations['class_name'].unique())"
   ]
  },
  {
   "cell_type": "code",
   "execution_count": 30,
   "metadata": {},
   "outputs": [],
   "source": [
    "from typing import List, Dict, Tuple\n",
    "\n",
    "def get_updated_class_names_class_dict_and_reverse_class_dict(df: pd.DataFrame) -> Tuple[List[str], Dict[int, str], Dict[str, int]]:\n",
    "    \"\"\"Get an updated class names list, class dict and reverse class dict from a dataframe.\"\"\"\n",
    "    updated_class_names = sorted(df.class_name.unique())\n",
    "    updated_class_dict = {i: class_name for i, class_name in enumerate(updated_class_names)}\n",
    "    updated_reverse_class_dict = {class_name: i for i, class_name in enumerate(updated_class_names)}\n",
    "    assert len(updated_class_dict) == len(updated_reverse_class_dict), \"Class dict and reverse class dict are not the same length\"\n",
    "    return updated_class_names, updated_class_dict, updated_reverse_class_dict\n",
    "\n",
    "def map_updated_class_dict_to_updated_annotations(df: pd.DataFrame, updated_reverse_class_dict: Dict[str, int]) -> pd.DataFrame:\n",
    "    \"\"\"Map updated class dict to updated annotations dataframe.\n",
    "    \n",
    "    For example, go from {\"apple_red\": 1} -> df[\"label\"] = 1\n",
    "    \"\"\"\n",
    "    updated_annotations = df.copy()\n",
    "    updated_annotations.loc[:, 'label'] = updated_annotations['class_name'].map(updated_reverse_class_dict)\n",
    "    assert len(updated_annotations.label.unique()) == len(updated_reverse_class_dict), \"Number of unique labels in updated annotations does not match number of unique class names in updated reverse class dict\"\n",
    "    return updated_annotations"
   ]
  },
  {
   "cell_type": "code",
   "execution_count": 31,
   "metadata": {},
   "outputs": [
    {
     "data": {
      "text/plain": [
       "(284,\n",
       " ['almond_butter',\n",
       "  'almonds',\n",
       "  'apple_custard',\n",
       "  'apple_green',\n",
       "  'apple_red',\n",
       "  'apricot',\n",
       "  'artichoke',\n",
       "  'asparagus',\n",
       "  'avocado',\n",
       "  'bacon'])"
      ]
     },
     "execution_count": 31,
     "metadata": {},
     "output_type": "execute_result"
    }
   ],
   "source": [
    "updated_class_names, updated_class_dict, updated_reverse_class_dict = get_updated_class_names_class_dict_and_reverse_class_dict(updated_annotations)\n",
    "\n",
    "updated_annotations = map_updated_class_dict_to_updated_annotations(updated_annotations, updated_reverse_class_dict)\n",
    "\n",
    "len(updated_class_names), updated_class_names[:10]"
   ]
  },
  {
   "cell_type": "code",
   "execution_count": 33,
   "metadata": {},
   "outputs": [
    {
     "name": "stdout",
     "output_type": "stream",
     "text": [
      "Number of intersecting columns: 11\n",
      "Checking for differences accross the following columns: ['filename', 'image_name', 'class_name', 'label', 'split', 'clear_or_confusing', 'whole_food_or_dish', 'one_food_or_multiple', 'label_last_updated_at', 'label_source', 'image_source']\n",
      "Error: Can only compare identically-labeled DataFrame objects\n",
      "Couldn't compare via pandas.DataFrame.compare, trying via lengths...\n",
      "Difference in dataframe lengths: 190 (aboslute value of 132198 - 132388)\n"
     ]
    },
    {
     "data": {
      "text/plain": [
       "190"
      ]
     },
     "execution_count": 33,
     "metadata": {},
     "output_type": "execute_result"
    }
   ],
   "source": [
    "# Check the difference in lengths between the original_annotations and updated_annotations\n",
    "from utils.misc import check_for_differences_between_df\n",
    "num_differences = check_for_differences_between_df(original_annotations, updated_annotations)\n",
    "# num_differences = len(updated_annotations) - len(original_annotations)\n",
    "num_differences"
   ]
  },
  {
   "cell_type": "code",
   "execution_count": 34,
   "metadata": {},
   "outputs": [
    {
     "name": "stdout",
     "output_type": "stream",
     "text": [
      "[INFO] Exporting the following columns to updated_annotations.csv: ['filename', 'image_name', 'class_name', 'label', 'split', 'clear_or_confusing', 'whole_food_or_dish', 'one_food_or_multiple', 'label_last_updated_at', 'label_source', 'image_source']\n",
      "[INFO] 190 changes to annotations.csv, updated label files and original annotations are different, saving the updated annotations.csv\n",
      "[INFO] Uploading updated_annotations.csv to updated_annotations.csv...\n",
      "[INFO] Connected to Google Storage bucket: food_vision_bucket_with_object_versioning\n",
      "[INFO] File updated_annotations.csv uploaded to food_vision_bucket_with_object_versioning/updated_annotations.csv.\n",
      "[INFO] File size: 26443341 bytes\n",
      "[INFO] Blob annotations.csv has been renamed to old_annotations/2023-03-14_10-26-19_old_annotations.csv\n",
      "[INFO] Blob updated_annotations.csv has been renamed to annotations.csv\n",
      "[INFO] Logging 'food_vision_labels' from 'gs://food_vision_bucket_with_object_versioning/annotations.csv' to Weights & Biases...\n"
     ]
    }
   ],
   "source": [
    "# Upload the updated annotations to Google Storage and track the changes\n",
    "from utils.gcp_utils import upload_to_gs, rename_blob, delete_blob\n",
    "from utils.wandb_utils import wandb_add_artifact_with_reference\n",
    "from utils.misc import get_now_time\n",
    "import os\n",
    "\n",
    "GS_BUCKET_NAME = config.gs_bucket_name\n",
    "\n",
    "UPDATED_ANNOTATIONS_TARGET_FILENAME = \"updated_annotations.csv\"\n",
    "ORIGINAL_ANNOTATIONS_TARGET_FILENAME = \"annotations.csv\"\n",
    "\n",
    "# Export the updated annotations to a CSV\n",
    "columns_to_export = config.annotations_columns_to_export\n",
    "print(f\"[INFO] Exporting the following columns to {UPDATED_ANNOTATIONS_TARGET_FILENAME}: {columns_to_export}\")\n",
    "\n",
    "# TODO: Check if the updated_annotations_reset_index and the original_annotations actually differ, if so save them and upload them, else exit\n",
    "if num_differences > 0:\n",
    "    print(f\"[INFO] {num_differences} changes to annotations.csv, updated label files and original annotations are different, saving the updated annotations.csv\")\n",
    "\n",
    "    # Export the updated_annotations_reset_index to a csv\n",
    "    updated_annotations[columns_to_export].to_csv(UPDATED_ANNOTATIONS_TARGET_FILENAME, index=False)\n",
    "\n",
    "    # Upload the updated CSV to Google Storage\n",
    "    upload_to_gs(bucket_name=GS_BUCKET_NAME, \n",
    "                 source_file_name=UPDATED_ANNOTATIONS_TARGET_FILENAME, \n",
    "                 destination_blob_name=UPDATED_ANNOTATIONS_TARGET_FILENAME)\n",
    "\n",
    "    # Rename the old CSV on Google Storage\n",
    "    bucket_to_move_old_annotations_to = \"old_annotations\"\n",
    "    name_to_rename_old_annotations = os.path.join(bucket_to_move_old_annotations_to, f\"{get_now_time()}_old_annotations.csv\")\n",
    "\n",
    "    rename_blob(bucket_name=GS_BUCKET_NAME,\n",
    "                blob_name=ORIGINAL_ANNOTATIONS_TARGET_FILENAME,\n",
    "                new_name=name_to_rename_old_annotations)\n",
    "\n",
    "    # Rename the \"updated_annotations.csv\" on Google Storage to \"annotations.csv\" \n",
    "    rename_blob(bucket_name=GS_BUCKET_NAME,\n",
    "                blob_name=UPDATED_ANNOTATIONS_TARGET_FILENAME,\n",
    "                new_name=ORIGINAL_ANNOTATIONS_TARGET_FILENAME)\n",
    "\n",
    "    # Track the changes in the annotations with Weights & Biases\n",
    "    annotations_path_on_gcs = f\"gs://{GS_BUCKET_NAME}/{ORIGINAL_ANNOTATIONS_TARGET_FILENAME}\"\n",
    "    wandb_add_artifact_with_reference(wandb_run=run,\n",
    "                                      artifact_name=\"food_vision_labels\",\n",
    "                                      artifact_type=\"labels\",\n",
    "                                      description=\"Labels for FoodVision project\",\n",
    "                                      reference_path=annotations_path_on_gcs)\n",
    "else:\n",
    "    print(\"[INFO] No changes to annotations.csv, updated label files and original annotations are the same, try fixing/updating the label files and try again\")"
   ]
  },
  {
   "attachments": {},
   "cell_type": "markdown",
   "metadata": {},
   "source": [
    "## Upload all photos in food_photos to Google Storage"
   ]
  },
  {
   "cell_type": "code",
   "execution_count": 35,
   "metadata": {},
   "outputs": [
    {
     "name": "stdout",
     "output_type": "stream",
     "text": [
      "[INFO] There are 139522 images in the GCP bucket\n"
     ]
    }
   ],
   "source": [
    "from utils.gcp_utils import upload_to_gs, get_list_of_blobs\n",
    "\n",
    "# Get list of images already in GCP bucket\n",
    "gs_image_paths = get_list_of_blobs(bucket_name=GS_BUCKET_NAME, prefix=\"all_images\")\n",
    "print(f\"[INFO] There are {len(gs_image_paths)} images in the GCP bucket\")"
   ]
  },
  {
   "cell_type": "code",
   "execution_count": 36,
   "metadata": {},
   "outputs": [
    {
     "data": {
      "text/plain": [
       "['000000000.jpg',\n",
       " '000000003.jpg',\n",
       " '000000005.jpg',\n",
       " '000000006.jpg',\n",
       " '000000008.jpg',\n",
       " '000000010.jpg',\n",
       " '000000015.jpg',\n",
       " '000000019.jpg',\n",
       " '000000025.jpg',\n",
       " '000000070.jpg']"
      ]
     },
     "execution_count": 36,
     "metadata": {},
     "output_type": "execute_result"
    }
   ],
   "source": [
    "gs_image_paths_name = [str(blob.name).split(\"/\")[-1] for blob in gs_image_paths]\n",
    "gs_image_paths_name[:10]"
   ]
  },
  {
   "cell_type": "code",
   "execution_count": 37,
   "metadata": {},
   "outputs": [
    {
     "data": {
      "text/plain": [
       "139522"
      ]
     },
     "execution_count": 37,
     "metadata": {},
     "output_type": "execute_result"
    }
   ],
   "source": [
    "len(gs_image_paths_name)"
   ]
  },
  {
   "cell_type": "code",
   "execution_count": 38,
   "metadata": {},
   "outputs": [
    {
     "name": "stdout",
     "output_type": "stream",
     "text": [
      "2023-03-14-food_photos\n"
     ]
    }
   ],
   "source": [
    "print(target_dir)"
   ]
  },
  {
   "cell_type": "code",
   "execution_count": 39,
   "metadata": {},
   "outputs": [
    {
     "name": "stdout",
     "output_type": "stream",
     "text": [
      "Copying file://2023-03-14-food_photos/apple_custard/65d69064-ac2f-419e-bbcd-a23b7bc5453c.jpeg [Content-Type=image/jpeg]...\n",
      "Copying file://2023-03-14-food_photos/apple_red/19966794-7257-4568-be81-ef05666cbb84.jpeg [Content-Type=image/jpeg]...\n",
      "Copying file://2023-03-14-food_photos/apple_red/1b51c45e-d711-48b9-aff1-05ea4d7bdc68.jpeg [Content-Type=image/jpeg]...\n",
      "Copying file://2023-03-14-food_photos/apple_red/1f013e0b-50c8-4222-b59b-5afe569d060a.jpeg [Content-Type=image/jpeg]...\n",
      "Copying file://2023-03-14-food_photos/apple_red/35b33e12-7644-4729-9b01-59f388b075e7.jpeg [Content-Type=image/jpeg]...\n",
      "Copying file://2023-03-14-food_photos/apple_red/3e612fdc-6fea-4ea0-b196-728beea40947.jpeg [Content-Type=image/jpeg]...\n",
      "Copying file://2023-03-14-food_photos/apple_red/3fb07b94-0909-469f-b9c3-4f6cb7a7b0df.jpeg [Content-Type=image/jpeg]...\n",
      "Copying file://2023-03-14-food_photos/apple_red/431c10c1-583d-434b-ba1a-3b3033a39104.jpeg [Content-Type=image/jpeg]...\n",
      "Copying file://2023-03-14-food_photos/apple_red/474da89c-bcdc-4d72-96a1-150cae32aafd.jpeg [Content-Type=image/jpeg]...\n",
      "Copying file://2023-03-14-food_photos/apple_red/8043c031-8e49-4f55-8cbc-8cd0a4520e48.jpeg [Content-Type=image/jpeg]...\n",
      "Copying file://2023-03-14-food_photos/apple_red/94e556c8-76db-46d4-864c-6901b6e058ce.jpeg [Content-Type=image/jpeg]...\n",
      "Copying file://2023-03-14-food_photos/apple_red/6290a638-d664-42b2-8eb6-93133eb85bc2.jpeg [Content-Type=image/jpeg]...\n",
      "Copying file://2023-03-14-food_photos/apple_red/c0924bf6-b0c6-4a26-bd40-8c4542b27657.jpeg [Content-Type=image/jpeg]...\n",
      "Copying file://2023-03-14-food_photos/apple_red/c150aa17-9ad5-41cc-bdbf-e630f778ca4f.jpeg [Content-Type=image/jpeg]...\n",
      "Copying file://2023-03-14-food_photos/apple_red/cf08e921-e17b-48a9-bb4b-24da58995181.jpeg [Content-Type=image/jpeg]...\n",
      "Copying file://2023-03-14-food_photos/butter/58185375-a0a4-456f-909a-8f13443ec6ad.jpeg [Content-Type=image/jpeg]...\n",
      "Copying file://2023-03-14-food_photos/capsicum_green/d79a2829-7def-4a97-8df7-62afe4a58443.jpeg [Content-Type=image/jpeg]...\n",
      "Copying file://2023-03-14-food_photos/apple_red/f7d217c4-d894-475e-a9af-21758cbe7f77.jpeg [Content-Type=image/jpeg]...\n",
      "Copying file://2023-03-14-food_photos/avocado/229e8053-9c96-49d7-9237-8e8cb36a5090.jpeg [Content-Type=image/jpeg]...\n",
      "Copying file://2023-03-14-food_photos/bacon/5d10cb98-dac4-47f4-b4bd-eaf806a58908.jpeg [Content-Type=image/jpeg]...\n",
      "Copying file://2023-03-14-food_photos/avocado/b883ad83-b695-4e5f-8fd6-ad1a8e993b87.jpeg [Content-Type=image/jpeg]...\n",
      "Copying file://2023-03-14-food_photos/bacon/c7d5e04a-23e9-42d6-8683-11a949a43b84.jpeg [Content-Type=image/jpeg]...\n",
      "Copying file://2023-03-14-food_photos/avocado/c2189d4d-13c9-47d1-b0c6-ce06d5e07b30.jpeg [Content-Type=image/jpeg]...\n",
      "Copying file://2023-03-14-food_photos/bacon/edaeaaaa-5a59-47c6-8f1a-c9770a60fc59.jpeg [Content-Type=image/jpeg]...\n",
      "Copying file://2023-03-14-food_photos/bacon/ffbdbafd-1d81-4a2e-bb25-10ff9f148784.jpeg [Content-Type=image/jpeg]...\n",
      "Copying file://2023-03-14-food_photos/avocado/cb19fd32-9ada-4127-b2e6-94807e9409e2.jpeg [Content-Type=image/jpeg]...\n",
      "Copying file://2023-03-14-food_photos/banana/21fa5d19-27ee-4008-90ff-ad9077605172.jpeg [Content-Type=image/jpeg]...\n",
      "Copying file://2023-03-14-food_photos/banana/453830f1-6134-4d51-8797-9f954adacf93.jpeg [Content-Type=image/jpeg]...\n",
      "Copying file://2023-03-14-food_photos/beef_patty/3bb2ac24-8f63-413c-86f2-04650814dd65.jpeg [Content-Type=image/jpeg]...\n",
      "Copying file://2023-03-14-food_photos/black_pepper/5534e3ce-120a-4167-b530-975fafcf1211.jpeg [Content-Type=image/jpeg]...\n",
      "Copying file://2023-03-14-food_photos/beetroot/e925c3e1-104a-4e2b-acce-00dc2f5949c7.jpeg [Content-Type=image/jpeg]...\n",
      "Copying file://2023-03-14-food_photos/bread/9dac07af-ceab-41cc-bf1a-8d0058f10fec.jpeg [Content-Type=image/jpeg]...\n",
      "Copying file://2023-03-14-food_photos/black_pepper/c93c0e88-8ed5-4182-87da-325e3fe6a557.jpeg [Content-Type=image/jpeg]...\n",
      "Copying file://2023-03-14-food_photos/bread/33a97aa8-e20e-4e4b-9265-80efdce5b468.jpeg [Content-Type=image/jpeg]...\n",
      "Copying file://2023-03-14-food_photos/butter/6753e8c5-046a-496d-ac48-f9a9edccddae.jpeg [Content-Type=image/jpeg]...\n",
      "Copying file://2023-03-14-food_photos/cashews/31ad464a-669d-41de-b514-b147dd54d6f5.jpeg [Content-Type=image/jpeg]...\n",
      "Copying file://2023-03-14-food_photos/bread/cf204321-0431-44a5-8977-477dff561a8d.jpeg [Content-Type=image/jpeg]...\n",
      "Copying file://2023-03-14-food_photos/butter/faeee23d-75f8-4821-86d5-ad6e2be22a70.jpeg [Content-Type=image/jpeg]...\n",
      "Copying file://2023-03-14-food_photos/cashews/7eec7f67-f96f-4cbc-b0b0-529d77bb0662.jpeg [Content-Type=image/jpeg]...\n",
      "Copying file://2023-03-14-food_photos/cabbage_green/27916bfd-0d39-4bd5-a5a7-a759064d446c.jpeg [Content-Type=image/jpeg]...\n",
      "Copying file://2023-03-14-food_photos/celery/9da18be6-3be3-42f4-91d4-88bf6abf62e6.jpeg [Content-Type=image/jpeg]...\n",
      "Copying file://2023-03-14-food_photos/broccolini/813dedb1-b254-4525-9bfd-16c5c76e1c1e.jpeg [Content-Type=image/jpeg]...\n",
      "Copying file://2023-03-14-food_photos/cheese/dd2690e8-a2e3-4659-9fc9-e22e08cedfdc.jpeg [Content-Type=image/jpeg]...\n",
      "Copying file://2023-03-14-food_photos/chicken_breast/c72c4ce8-d093-460b-82b0-6927260e74df.jpeg [Content-Type=image/jpeg]...\n",
      "Copying file://2023-03-14-food_photos/chicken_stir_fry/08f497c1-9e01-4559-9c03-7a343a916740.jpeg [Content-Type=image/jpeg]...\n",
      "Copying file://2023-03-14-food_photos/chicken_stir_fry/1e81fe96-0999-4497-8cb4-d0b5ce2d5e36.jpeg [Content-Type=image/jpeg]...\n",
      "Copying file://2023-03-14-food_photos/broccolini/da85cda4-669e-42ee-a759-3d5bc53c633f.jpeg [Content-Type=image/jpeg]...\n",
      "Copying file://2023-03-14-food_photos/cheese/7eceeecc-11e0-4e1a-8aaa-8a05c784492c.jpeg [Content-Type=image/jpeg]...\n",
      "Copying file://2023-03-14-food_photos/cabbage_red/e875062e-e5a8-4235-b1b5-adf7987b59b3.jpeg [Content-Type=image/jpeg]...\n",
      "Copying file://2023-03-14-food_photos/chicken_stir_fry/23f272b4-a9e4-4aa5-9159-2b6524a2fdb1.jpeg [Content-Type=image/jpeg]...\n",
      "Copying file://2023-03-14-food_photos/chicken_stir_fry/6caaf985-4eac-470e-9dbf-2d983d29afe9.jpeg [Content-Type=image/jpeg]...\n",
      "Copying file://2023-03-14-food_photos/coconut/d9e62fd0-4868-4acf-b610-b739c13b9c54.jpeg [Content-Type=image/jpeg]...\n",
      "Copying file://2023-03-14-food_photos/chilli/fe95126e-ca02-484a-8e73-99a59a584380.jpeg [Content-Type=image/jpeg]...\n",
      "Copying file://2023-03-14-food_photos/chocolate/1c2c8bd8-f96d-40ad-8762-9d978b4ea284.jpeg [Content-Type=image/jpeg]...\n",
      "Copying file://2023-03-14-food_photos/coffee/47f3f033-d713-47f0-b836-e4519b7a4d0d.jpeg [Content-Type=image/jpeg]...\n",
      "Copying file://2023-03-14-food_photos/chicken_stir_fry/db1912c2-b1f3-48fa-bb51-d5b199ebd2d8.jpeg [Content-Type=image/jpeg]...\n",
      "Copying file://2023-03-14-food_photos/coffee/ef13226e-b73f-4daa-ade3-9cb42a4daf48.jpeg [Content-Type=image/jpeg]...\n",
      "Copying file://2023-03-14-food_photos/chocolate/3ad4cd9c-a393-423a-b800-8d493b7da011.jpeg [Content-Type=image/jpeg]...\n",
      "Copying file://2023-03-14-food_photos/corn/c784884a-0a84-468d-92ee-fa2f4df32abd.jpeg [Content-Type=image/jpeg]...\n",
      "Copying file://2023-03-14-food_photos/croissant/58c9aae2-b8a0-48db-9678-51b1cf5cf51f.jpeg [Content-Type=image/jpeg]...\n",
      "Copying file://2023-03-14-food_photos/croissant/c1764f10-4ac3-4766-9779-4370ad6d1c92.jpeg [Content-Type=image/jpeg]...\n",
      "Copying file://2023-03-14-food_photos/cucumber/1470458c-c835-4a29-8f7a-c7f1e61ba3a9.jpeg [Content-Type=image/jpeg]...\n",
      "Copying file://2023-03-14-food_photos/cucumber/b5fd23b9-b0b3-4e79-a58f-40cc144d011b.jpeg [Content-Type=image/jpeg]...\n",
      "Copying file://2023-03-14-food_photos/eggs/2394b9e6-bb9a-4b80-be04-ea3d9c916b17.jpeg [Content-Type=image/jpeg]...\n",
      "Copying file://2023-03-14-food_photos/cucumber/9c3ddbe8-daad-417b-9590-67bb2bce70c6.jpeg [Content-Type=image/jpeg]...\n",
      "Copying file://2023-03-14-food_photos/eggs/55c1b0e1-0270-40fe-8e14-3d0224c88494.jpeg [Content-Type=image/jpeg]...\n",
      "Copying file://2023-03-14-food_photos/grapefruit/3617317b-8c7b-498f-9578-e2c9df66a5b0.jpeg [Content-Type=image/jpeg]...\n",
      "Copying file://2023-03-14-food_photos/garlic/1dcb9987-06a2-4dc3-b005-7b64d7359618.jpeg [Content-Type=image/jpeg]...\n",
      "Copying file://2023-03-14-food_photos/garlic/02c7773f-43e2-4147-9a34-a2198a1c7fce.jpeg [Content-Type=image/jpeg]...\n",
      "Copying file://2023-03-14-food_photos/grapes_white/33a77100-e3c4-4d9b-8f81-bbe67cc84a50.jpeg [Content-Type=image/jpeg]...\n",
      "Copying file://2023-03-14-food_photos/garlic/669e8bde-1b65-4839-84f4-d552dbab1dd7.jpeg [Content-Type=image/jpeg]...\n",
      "Copying file://2023-03-14-food_photos/grapes_white/59df5e13-a5a9-41e4-a767-9a892fadd358.jpeg [Content-Type=image/jpeg]...\n",
      "Copying file://2023-03-14-food_photos/garlic/81be8930-1dfa-4a0c-91e9-98c38464f392.jpeg [Content-Type=image/jpeg]...\n",
      "Copying file://2023-03-14-food_photos/eggplant/2720da8a-f065-4619-9597-3a880eb8f9b9.jpeg [Content-Type=image/jpeg]...\n",
      "Copying file://2023-03-14-food_photos/garlic/9f34460b-7991-4f27-a25f-2eb021c41544.jpeg [Content-Type=image/jpeg]...\n",
      "Copying file://2023-03-14-food_photos/garlic/b18659ca-ed4d-4556-9594-1d04b619bc31.jpeg [Content-Type=image/jpeg]...\n",
      "Copying file://2023-03-14-food_photos/green_beans/dd272759-9dcd-4009-bf98-6a25a04c0300.jpeg [Content-Type=image/jpeg]...\n",
      "Copying file://2023-03-14-food_photos/ginger/087390d2-c590-4c4f-b4c1-2e27ae8edfaa.jpeg [Content-Type=image/jpeg]...\n",
      "Copying file://2023-03-14-food_photos/guacamole/16007af8-6b4b-483e-8e8a-87cd864a8ec4.jpeg [Content-Type=image/jpeg]...\n",
      "Copying file://2023-03-14-food_photos/ginger/37bced85-fc45-466e-8856-1c0bbe5b72b1.jpeg [Content-Type=image/jpeg]...\n",
      "Copying file://2023-03-14-food_photos/guacamole/369cdf67-4382-4b1f-b9ab-d7f206c0a8a4.jpeg [Content-Type=image/jpeg]...\n",
      "Copying file://2023-03-14-food_photos/guacamole/f9dde51d-a0fb-4bec-bd48-c0bd3fd1bd40.jpeg [Content-Type=image/jpeg]...\n",
      "Copying file://2023-03-14-food_photos/ice/ca1a3489-5530-4b1f-8fa1-daabf3a32bf6.jpeg [Content-Type=image/jpeg]...\n",
      "Copying file://2023-03-14-food_photos/ice_coffee/2e466ef8-8090-429f-80be-43682da2abae.jpeg [Content-Type=image/jpeg]...\n",
      "Copying file://2023-03-14-food_photos/kiwi_fruit/e95344cf-c699-4fbf-8c50-eaf6272e4c05.jpeg [Content-Type=image/jpeg]...\n",
      "Copying file://2023-03-14-food_photos/lemon/f1a17ad6-070a-4aa9-a15e-82f2af776e30.jpeg [Content-Type=image/jpeg]...\n",
      "Copying file://2023-03-14-food_photos/lettuce_iceberg/63727c71-fdf1-4e7e-be36-ca0d73e6dac2.jpeg [Content-Type=image/jpeg]...\n",
      "Copying file://2023-03-14-food_photos/lime/6a511828-848c-4590-865b-1a947ca48368.jpeg [Content-Type=image/jpeg]...\n",
      "Copying file://2023-03-14-food_photos/lime/beb13e52-5edb-4398-b079-b8b4a645afd5.jpeg [Content-Type=image/jpeg]...\n",
      "Copying file://2023-03-14-food_photos/lime/c7ccc093-4499-46e7-98b9-3dbad4ef0acd.jpeg [Content-Type=image/jpeg]...\n",
      "Copying file://2023-03-14-food_photos/macadamia/db4ae514-51ce-4698-88b8-89ef3e5cf3be.jpeg [Content-Type=image/jpeg]...\n",
      "Copying file://2023-03-14-food_photos/mango/f68159a1-d00e-42d9-ba50-6c78fd7a0772.jpeg [Content-Type=image/jpeg]...\n",
      "Copying file://2023-03-14-food_photos/maple_syrup/b6238f7a-70be-460e-b088-284f5d5b6d04.jpeg [Content-Type=image/jpeg]...\n",
      "Copying file://2023-03-14-food_photos/mushroom_portobello/571e49ee-b86c-4d8e-acf4-533a6e8c0d1c.jpeg [Content-Type=image/jpeg]...\n",
      "Copying file://2023-03-14-food_photos/mushroom_white_cups/6ca0cf00-3e11-4887-94b1-e2626f2d8310.jpeg [Content-Type=image/jpeg]...\n",
      "Copying file://2023-03-14-food_photos/nectarine/4044a2ec-f363-4b0f-8e1c-f6d6f9c7727d.jpeg [Content-Type=image/jpeg]...\n",
      "Copying file://2023-03-14-food_photos/nectarine/41f086c8-7c55-457f-b1ba-828739721b9a.jpeg [Content-Type=image/jpeg]...\n",
      "Copying file://2023-03-14-food_photos/nectarine/764db719-8e9e-4616-8c1e-c1d71438cf16.jpeg [Content-Type=image/jpeg]...\n",
      "Copying file://2023-03-14-food_photos/olives/cea4e689-b644-42eb-a568-265ac0c661f0.jpeg [Content-Type=image/jpeg]...\n",
      "Copying file://2023-03-14-food_photos/onion_brown/08cc18d2-6217-49a6-b41e-01614e3dc5a5.jpeg [Content-Type=image/jpeg]...\n",
      "Copying file://2023-03-14-food_photos/onion_brown/692d59f1-20d7-42f9-bd6f-8a1e346e27d3.jpeg [Content-Type=image/jpeg]...\n",
      "Copying file://2023-03-14-food_photos/onion_red/f85b6c72-4182-42eb-a32e-eb937bc0606a.jpeg [Content-Type=image/jpeg]...\n",
      "Copying file://2023-03-14-food_photos/onion_white/84ede757-51a1-441c-ad16-1a3323cead26.jpeg [Content-Type=image/jpeg]...\n",
      "Copying file://2023-03-14-food_photos/orange/c6a58034-267d-4d29-a0f9-255252a49318.jpeg [Content-Type=image/jpeg]...\n",
      "Copying file://2023-03-14-food_photos/orange_juice/7879fdd0-51d0-4126-84db-02b5a80bba62.jpeg [Content-Type=image/jpeg]...\n",
      "Copying file://2023-03-14-food_photos/papaya/22397bdb-b57d-4a14-8c92-ad1e6fe9bf00.jpeg [Content-Type=image/jpeg]...\n",
      "Copying file://2023-03-14-food_photos/papaya/51508146-ba4a-4cd2-a34e-e10b1b38ec0d.jpeg [Content-Type=image/jpeg]...\n",
      "Copying file://2023-03-14-food_photos/passionfruit/154d15fb-3741-483b-b79d-3ba0a40a558d.jpeg [Content-Type=image/jpeg]...\n",
      "Copying file://2023-03-14-food_photos/passionfruit/1c4d1728-7bba-4c69-a77f-b437701b2865.jpeg [Content-Type=image/jpeg]...\n",
      "Copying file://2023-03-14-food_photos/passionfruit/54ec8fb6-441f-4751-9ec1-364265afb07b.jpeg [Content-Type=image/jpeg]...\n",
      "Copying file://2023-03-14-food_photos/passionfruit/b385ccd6-a85d-4125-ae1a-aaeae14fbce0.jpeg [Content-Type=image/jpeg]...\n",
      "Copying file://2023-03-14-food_photos/passionfruit/dd0f8a3f-a3a8-4330-bf5d-88e824a63a3b.jpeg [Content-Type=image/jpeg]...\n",
      "Copying file://2023-03-14-food_photos/pawpaw/1e627da7-34b5-4bc2-bbfd-72a473cc992b.jpeg [Content-Type=image/jpeg]...\n",
      "Copying file://2023-03-14-food_photos/pawpaw/65bc6a11-2d76-42e5-9235-ff407f8ddc9f.jpeg [Content-Type=image/jpeg]...\n",
      "Copying file://2023-03-14-food_photos/pawpaw/c1504e59-58ff-4c1b-b304-6baa1476a0d7.jpeg [Content-Type=image/jpeg]...\n",
      "Copying file://2023-03-14-food_photos/peach/76dfde16-9be7-4ddd-91c4-fc719a741aad.jpeg [Content-Type=image/jpeg]...\n",
      "Copying file://2023-03-14-food_photos/peach/7a975196-fea1-4dc7-b1b1-333f1fbe168f.jpeg [Content-Type=image/jpeg]...\n",
      "Copying file://2023-03-14-food_photos/peach/e5c148aa-1804-4215-aa52-1dbe3b8239c1.jpeg [Content-Type=image/jpeg]...\n",
      "Copying file://2023-03-14-food_photos/pear/50956b76-5ebe-40a6-a8bf-9c3477d12cc5.jpeg [Content-Type=image/jpeg]...\n",
      "Copying file://2023-03-14-food_photos/pineapple/49d1d999-db18-45ea-9dc2-381372909cb1.jpeg [Content-Type=image/jpeg]...\n",
      "Copying file://2023-03-14-food_photos/pineapple/a87ed908-5e7b-404c-aab1-47453019f8aa.jpeg [Content-Type=image/jpeg]...\n",
      "Copying file://2023-03-14-food_photos/plum/3e94b1b0-3eea-4208-b1cd-15773bc1e2a7.jpeg [Content-Type=image/jpeg]...\n",
      "Copying file://2023-03-14-food_photos/plum/505c843f-d24c-4578-abae-fbe9544d7bc7.jpeg [Content-Type=image/jpeg]...\n",
      "Copying file://2023-03-14-food_photos/plum/7fa4165d-5cb5-406a-9b5e-cdde6c3f7b02.jpeg [Content-Type=image/jpeg]...\n",
      "Copying file://2023-03-14-food_photos/plum/9bed4e1b-be4d-4ad2-bf81-35c0044dd0c8.jpeg [Content-Type=image/jpeg]...\n",
      "Copying file://2023-03-14-food_photos/plum/9faa2387-b39e-4a78-8e50-9b616c393903.jpeg [Content-Type=image/jpeg]...\n",
      "Copying file://2023-03-14-food_photos/plum/b3e6234a-bb7f-434c-9ff0-eddac50e3a1c.jpeg [Content-Type=image/jpeg]...\n",
      "Copying file://2023-03-14-food_photos/popcorn/9c15c6ee-3392-4862-98b2-aaf28bbacc9b.jpeg [Content-Type=image/jpeg]...\n",
      "Copying file://2023-03-14-food_photos/popcorn/ffc240e7-4580-4cb6-b595-3612b3810774.jpeg [Content-Type=image/jpeg]...\n",
      "Copying file://2023-03-14-food_photos/potato_brown/245c909c-b714-422a-9923-06050a6262b6.jpeg [Content-Type=image/jpeg]...\n",
      "Copying file://2023-03-14-food_photos/potato_chips/3f8d5e3b-1c8e-408d-bb2f-41a2df0e50fb.jpeg [Content-Type=image/jpeg]...\n",
      "Copying file://2023-03-14-food_photos/potato_chips/40e2431f-2587-406f-8eef-2d21aa9324f3.jpeg [Content-Type=image/jpeg]...\n",
      "Copying file://2023-03-14-food_photos/potato_chips/88f799be-b80d-41d4-805c-744e9db1584c.jpeg [Content-Type=image/jpeg]...\n",
      "Copying file://2023-03-14-food_photos/potato_kipfler/0ab03b94-9982-4064-ab28-a34b5a039378.jpeg [Content-Type=image/jpeg]...\n",
      "Copying file://2023-03-14-food_photos/potato_purple_sweet/f3a55544-dddd-4839-986a-2b893782f286.jpeg [Content-Type=image/jpeg]...\n",
      "Copying file://2023-03-14-food_photos/potato_sweet/49dd70a1-1c22-46b0-85f4-ba7fac4ad1b3.jpeg [Content-Type=image/jpeg]...\n",
      "Copying file://2023-03-14-food_photos/potato_sweet/71a490ca-7c47-48a2-8450-69c21999328c.jpeg [Content-Type=image/jpeg]...\n",
      "Copying file://2023-03-14-food_photos/potato_sweet/89097046-3e5f-48ee-993e-dd1fb6150e9d.jpeg [Content-Type=image/jpeg]...\n",
      "Copying file://2023-03-14-food_photos/potato_white_sweet/02bc6f38-2a46-4f63-bac0-6b4cc505eef1.jpeg [Content-Type=image/jpeg]...\n",
      "Copying file://2023-03-14-food_photos/potato_white_sweet/618af925-b51a-4b32-bea3-58982af4f88c.jpeg [Content-Type=image/jpeg]...\n",
      "Copying file://2023-03-14-food_photos/potato_white_sweet/fd31e248-fa31-4f68-b046-55049cad13f0.jpeg [Content-Type=image/jpeg]...\n",
      "Copying file://2023-03-14-food_photos/pumpkin/36c67d52-edb3-4c2a-a4ca-47e79e37481c.jpeg [Content-Type=image/jpeg]...\n",
      "Copying file://2023-03-14-food_photos/pumpkin/6fc63e81-ef33-4f98-bc50-bd3682ca82c2.jpeg [Content-Type=image/jpeg]...\n",
      "Copying file://2023-03-14-food_photos/rambutan/14559605-a6bf-4d2f-8d96-17f49b2089f6.jpeg [Content-Type=image/jpeg]...\n",
      "Copying file://2023-03-14-food_photos/rambutan/408822fc-8869-4ea9-81ff-95fbf12840a7.jpeg [Content-Type=image/jpeg]...\n",
      "Copying file://2023-03-14-food_photos/rambutan/8e593865-8d6d-498a-bfe7-fddab1317dea.jpeg [Content-Type=image/jpeg]...\n",
      "Copying file://2023-03-14-food_photos/rhubarb/102f322d-2719-4bc2-b484-f42de9123a07.jpeg [Content-Type=image/jpeg]...\n",
      "Copying file://2023-03-14-food_photos/rice_white/0080d0c6-7463-477a-ae2f-4d77eff4a137.jpeg [Content-Type=image/jpeg]...\n",
      "Copying file://2023-03-14-food_photos/rice_white/02330fc6-aada-4ab8-93b1-58a194d1f093.jpeg [Content-Type=image/jpeg]...\n",
      "Copying file://2023-03-14-food_photos/rice_white/06f5b70b-74bd-4262-816e-718c5b7ccf0c.jpeg [Content-Type=image/jpeg]...\n",
      "Copying file://2023-03-14-food_photos/rice_white/0b096aab-b211-4783-b879-a3c0e55f1460.jpeg [Content-Type=image/jpeg]...\n",
      "Copying file://2023-03-14-food_photos/rice_white/1731b41c-d1ec-4781-b830-268f4f99a9d0.jpeg [Content-Type=image/jpeg]...\n",
      "Copying file://2023-03-14-food_photos/rice_white/2e9a2530-bed0-49e6-90a3-cffed479297d.jpeg [Content-Type=image/jpeg]...\n",
      "Copying file://2023-03-14-food_photos/rice_white/417bd82b-e5b4-4340-b5f3-cceb0cc06bd6.jpeg [Content-Type=image/jpeg]...\n",
      "Copying file://2023-03-14-food_photos/rice_white/80eb0ac1-d3df-4c14-ae65-31a1be8f030b.jpeg [Content-Type=image/jpeg]...\n",
      "Copying file://2023-03-14-food_photos/rice_white/86f9a7a7-2160-4e5c-b57a-36a20f2ec816.jpeg [Content-Type=image/jpeg]...\n",
      "Copying file://2023-03-14-food_photos/rice_white/93ced08f-4f3a-43ae-9268-98636e30c64b.jpeg [Content-Type=image/jpeg]...\n",
      "Copying file://2023-03-14-food_photos/rice_white/b0a110e1-82b1-42a6-8c0a-080d11781f65.jpeg [Content-Type=image/jpeg]...\n",
      "Copying file://2023-03-14-food_photos/rockmelon/b6ad5343-a002-42ca-a2e9-1dd4e6dea826.jpeg [Content-Type=image/jpeg]...\n",
      "Copying file://2023-03-14-food_photos/salsa/7bc73510-177e-41a6-a372-3d1e0bced641.jpeg [Content-Type=image/jpeg]...\n",
      "Copying file://2023-03-14-food_photos/salt/36bab3c9-2ec0-41a2-a733-e13d883e7e44.jpeg [Content-Type=image/jpeg]...\n",
      "Copying file://2023-03-14-food_photos/salt/f061158a-352c-4471-8cb7-71d3209ee5f2.jpeg [Content-Type=image/jpeg]...\n",
      "Copying file://2023-03-14-food_photos/sandwich/13bf7e72-9bd7-47bd-bb17-8b7d8ee95d40.jpeg [Content-Type=image/jpeg]...\n",
      "Copying file://2023-03-14-food_photos/silverbeet/0f39fc90-f2b5-4e2b-8576-51632f7f2968.jpeg [Content-Type=image/jpeg]...\n",
      "Copying file://2023-03-14-food_photos/silverbeet/9d295888-cb92-4bc3-b706-90f3a3cacab1.jpeg [Content-Type=image/jpeg]...\n",
      "Copying file://2023-03-14-food_photos/squash_butternut/10c5e817-a77c-4d5e-9acd-e42f3d1cb14b.jpeg [Content-Type=image/jpeg]...\n",
      "Copying file://2023-03-14-food_photos/squash_butternut/1c813990-67fe-4ed2-9366-47efeaef64f4.jpeg [Content-Type=image/jpeg]...\n",
      "Copying file://2023-03-14-food_photos/squash_butternut/940681b9-46db-46d4-9b0f-86a3a0ea9fb0.jpeg [Content-Type=image/jpeg]...\n",
      "Copying file://2023-03-14-food_photos/steak/a0984d41-aa0a-49d8-9722-0416cc9d2ca2.jpeg [Content-Type=image/jpeg]...\n",
      "Copying file://2023-03-14-food_photos/steak/f8c1f13d-873b-4935-b932-7a117a31e2a3.jpeg [Content-Type=image/jpeg]...\n",
      "Copying file://2023-03-14-food_photos/tea/0c2cebf2-7ab7-449d-9cfe-10cd5f5ce946.jpeg [Content-Type=image/jpeg]...\n",
      "Copying file://2023-03-14-food_photos/tomato/9af81a72-874d-45a7-9525-35be62dbbcdc.jpeg [Content-Type=image/jpeg]...\n",
      "Copying file://2023-03-14-food_photos/turmeric/9e18b091-a713-40e6-9d55-d97b69af1222.jpeg [Content-Type=image/jpeg]...\n",
      "Copying file://2023-03-14-food_photos/watermelon/7e7adb76-a8ed-4f2d-b408-07468854ff63.jpeg [Content-Type=image/jpeg]...\n",
      "Copying file://2023-03-14-food_photos/watermelon/e1c1c319-4862-439b-95d6-81694afddaa1.jpeg [Content-Type=image/jpeg]...\n",
      "Copying file://2023-03-14-food_photos/yoghurt/feed5416-bac7-4bd8-8fe2-837d1438cb7d.jpeg [Content-Type=image/jpeg]...\n",
      "Copying file://2023-03-14-food_photos/zucchini/07e1dcaf-1b81-424f-9085-5b96472652df.jpeg [Content-Type=image/jpeg]...\n",
      "Copying file://2023-03-14-food_photos/zucchini/0b5f2eba-76d5-4ec7-b7c5-654f43c5c45a.jpeg [Content-Type=image/jpeg]...\n",
      "Copying file://2023-03-14-food_photos/zucchini/33d8cacb-c78c-4cf0-8b46-86d7c2c97275.jpeg [Content-Type=image/jpeg]...\n",
      "Copying file://2023-03-14-food_photos/zucchini/3cc5deab-0526-47d6-8cdf-d8b1392bf611.jpeg [Content-Type=image/jpeg]...\n",
      "Copying file://2023-03-14-food_photos/zucchini/413a6a20-b4f0-44b7-ac37-55ce37ae553c.jpeg [Content-Type=image/jpeg]...\n",
      "Copying file://2023-03-14-food_photos/zucchini/589fce5d-8592-4359-a97f-56f7a2f6d7d9.jpeg [Content-Type=image/jpeg]...\n",
      "Copying file://2023-03-14-food_photos/zucchini/639f69a4-e4aa-458e-ab46-8e3e3e9ae020.jpeg [Content-Type=image/jpeg]...\n",
      "Copying file://2023-03-14-food_photos/zucchini/6fd2f9ea-429d-42da-8db2-fd0f0ef4a974.jpeg [Content-Type=image/jpeg]...\n",
      "Copying file://2023-03-14-food_photos/zucchini/87c5d447-0cbc-4686-8abe-2e909887f187.jpeg [Content-Type=image/jpeg]...\n",
      "Copying file://2023-03-14-food_photos/zucchini/91cc5be8-aa82-4c85-a464-7b4c8caf0af7.jpeg [Content-Type=image/jpeg]...\n",
      "Copying file://2023-03-14-food_photos/zucchini/ac3fe38e-f97d-4b77-aef7-30bfa40816d0.jpeg [Content-Type=image/jpeg]...\n",
      "Copying file://2023-03-14-food_photos/zucchini/c9aee453-ed4b-4441-8578-da400677e529.jpeg [Content-Type=image/jpeg]...\n",
      "Copying file://2023-03-14-food_photos/zucchini/cec704f7-2649-4183-bd29-b6732156ebd9.jpeg [Content-Type=image/jpeg]...\n",
      "Copying file://2023-03-14-food_photos/zucchini/e7dcb60c-140d-4352-9905-19c09f1bcd51.jpeg [Content-Type=image/jpeg]...\n",
      "\\ [190/190 files][ 60.6 MiB/ 60.6 MiB] 100% Done   3.6 MiB/s ETA 00:00:00       \n",
      "Operation completed over 190 objects/60.6 MiB.                                   \n",
      "CommandException: No URLs matched: gs://food_vision_bucket_with_object_versioning/all_images/*/*\n",
      "CommandException: 1 file/object could not be transferred.\n"
     ]
    }
   ],
   "source": [
    "# Upload the images to Google Storage\n",
    "!gsutil -m cp -r $target_dir/*/*.jp*g gs://$GS_BUCKET_NAME/all_images/\n",
    "\n",
    "# Make sure all photos are in top level directory of all_images/\n",
    "!gsutil -m mv gs://$GS_BUCKET_NAME/all_images/*/* gs://$GS_BUCKET_NAME/all_images/"
   ]
  },
  {
   "cell_type": "code",
   "execution_count": 40,
   "metadata": {},
   "outputs": [
    {
     "name": "stdout",
     "output_type": "stream",
     "text": [
      "[INFO] There are 139712 images in the GCP bucket\n"
     ]
    }
   ],
   "source": [
    "# Get list of images already in GCP bucket\n",
    "gs_image_paths = get_list_of_blobs(bucket_name=GS_BUCKET_NAME, prefix=\"all_images\")\n",
    "print(f\"[INFO] There are {len(gs_image_paths)} images in the GCP bucket\")"
   ]
  },
  {
   "cell_type": "code",
   "execution_count": 42,
   "metadata": {},
   "outputs": [
    {
     "data": {
      "text/plain": [
       "['000000000.jpg',\n",
       " '000000003.jpg',\n",
       " '000000005.jpg',\n",
       " '000000006.jpg',\n",
       " '000000008.jpg',\n",
       " '000000010.jpg',\n",
       " '000000015.jpg',\n",
       " '000000019.jpg',\n",
       " '000000025.jpg',\n",
       " '000000070.jpg']"
      ]
     },
     "execution_count": 42,
     "metadata": {},
     "output_type": "execute_result"
    }
   ],
   "source": [
    "gs_image_paths_name = [str(blob.name).split(\"/\")[-1] for blob in gs_image_paths]\n",
    "gs_image_paths_name[:10]"
   ]
  },
  {
   "cell_type": "code",
   "execution_count": 43,
   "metadata": {},
   "outputs": [],
   "source": [
    "# Track the changes to GCP bucket with Weights & Biases\n",
    "from utils.wandb_utils import wandb_add_artifact_with_reference"
   ]
  },
  {
   "cell_type": "code",
   "execution_count": 44,
   "metadata": {},
   "outputs": [
    {
     "name": "stdout",
     "output_type": "stream",
     "text": [
      "[INFO] Logging 'food_vision_199_classes_images' from 'gs://food_vision_bucket_with_object_versioning/all_images' to Weights & Biases...\n"
     ]
    },
    {
     "name": "stderr",
     "output_type": "stream",
     "text": [
      "\u001b[34m\u001b[1mwandb\u001b[0m: Generating checksum for up to 1000000000 objects with prefix \"all_images\"... Done. 31.2s\n"
     ]
    }
   ],
   "source": [
    "# Track updated images_dir in Weights & Biases\n",
    "food_images_path_on_gs = \"gs://food_vision_bucket_with_object_versioning/all_images\"\n",
    "\n",
    "wandb_add_artifact_with_reference(wandb_run=run,\n",
    "                                  artifact_name=\"food_vision_199_classes_images\",\n",
    "                                  artifact_type=\"dataset\",\n",
    "                                  description=\"Images for FoodVision project\",\n",
    "                                  reference_path=food_images_path_on_gs)"
   ]
  },
  {
   "cell_type": "code",
   "execution_count": 45,
   "metadata": {},
   "outputs": [
    {
     "name": "stdout",
     "output_type": "stream",
     "text": [
      "[INFO] There are 139712 images in the GCP bucket\n"
     ]
    }
   ],
   "source": [
    "# Get list of images already in GCP bucket\n",
    "gs_image_paths = get_list_of_blobs(bucket_name=GS_BUCKET_NAME, prefix=\"all_images\")\n",
    "print(f\"[INFO] There are {len(gs_image_paths)} images in the GCP bucket\")"
   ]
  },
  {
   "cell_type": "code",
   "execution_count": 62,
   "metadata": {},
   "outputs": [
    {
     "data": {
      "text/plain": [
       "'all_images/000226a7-5332-4f45-b0e9-6760e9bd6d3e.jpeg'"
      ]
     },
     "execution_count": 62,
     "metadata": {},
     "output_type": "execute_result"
    }
   ],
   "source": [
    "gs_image_paths[0].name"
   ]
  },
  {
   "cell_type": "code",
   "execution_count": null,
   "metadata": {},
   "outputs": [],
   "source": [
    "# Next:\n",
    "# Create labels CSV for all photos in food_photos ✅\n",
    "# Add labels CSV to original annotations ✅\n",
    "# Upload all photos in food_photos to GCP ✅\n",
    "# Track updates in W&B ✅\n",
    "\n",
    "# Train a model and track how it performs (by only upgrading training data)"
   ]
  }
 ],
 "metadata": {
  "kernelspec": {
   "display_name": "Python 3",
   "language": "python",
   "name": "python3"
  },
  "language_info": {
   "codemirror_mode": {
    "name": "ipython",
    "version": 3
   },
   "file_extension": ".py",
   "mimetype": "text/x-python",
   "name": "python",
   "nbconvert_exporter": "python",
   "pygments_lexer": "ipython3",
   "version": "3.8.13"
  },
  "orig_nbformat": 4,
  "vscode": {
   "interpreter": {
    "hash": "3fbe1355223f7b2ffc113ba3ade6a2b520cadace5d5ec3e828c83ce02eb221bf"
   }
  }
 },
 "nbformat": 4,
 "nbformat_minor": 2
}
