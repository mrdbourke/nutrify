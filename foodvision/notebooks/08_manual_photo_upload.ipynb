{
 "cells": [
  {
   "attachments": {},
   "cell_type": "markdown",
   "metadata": {},
   "source": [
    "## Manually label and upload photos to the database\n",
    "\n",
    "* **Input:** folder with classifc image classification format:\n",
    "\n",
    "```\n",
    "images/\n",
    "    class_1/\n",
    "        image_1.jpg\n",
    "        image_2.jpg\n",
    "        ...\n",
    "    class_2/\n",
    "        image_3.jpeg\n",
    "        image_4.jpeg\n",
    "        ...\n",
    "    ...\n",
    "```\n",
    "\n",
    "* **Output:** Labelled images stored in GCP and tracked with Weights & Biases Artifacts. \n"
   ]
  },
  {
   "cell_type": "code",
   "execution_count": 88,
   "metadata": {},
   "outputs": [],
   "source": [
    "# Append the upper level directory to sys\n",
    "import sys\n",
    "sys.path.append(\"..\")\n",
    "\n",
    "import pandas as pd\n",
    "import numpy as np\n",
    "\n",
    "from pathlib import Path"
   ]
  },
  {
   "cell_type": "code",
   "execution_count": 89,
   "metadata": {},
   "outputs": [],
   "source": [
    "# !rm -rf food_photos/*\n",
    "# !rm -rf _MACOSX\n",
    "# !rm -rf _MACOSX/*"
   ]
  },
  {
   "cell_type": "code",
   "execution_count": 90,
   "metadata": {},
   "outputs": [],
   "source": [
    "# !unzip -q 2023-02-15-food_photos.zip"
   ]
  },
  {
   "cell_type": "code",
   "execution_count": 91,
   "metadata": {},
   "outputs": [
    {
     "data": {
      "text/plain": [
       "[PosixPath('2023-03-04-food_photos/almonds/004b2ffe-bf33-4694-a14e-bb1be127b69f.jpeg'),\n",
       " PosixPath('2023-03-04-food_photos/almonds/01cfd148-9f25-4f9c-a2ad-a613db055536.jpeg'),\n",
       " PosixPath('2023-03-04-food_photos/almonds/022bb17d-685c-4551-b4c2-2dafddc8ac31.jpeg'),\n",
       " PosixPath('2023-03-04-food_photos/almonds/0278f758-ba9b-43c1-ad93-55d13277f783.jpeg'),\n",
       " PosixPath('2023-03-04-food_photos/almonds/0439a887-1f2d-4f8b-93a7-2dacdc821da4.jpeg'),\n",
       " PosixPath('2023-03-04-food_photos/almonds/0464e873-1d7f-4bb4-8d39-995241264b58.jpeg'),\n",
       " PosixPath('2023-03-04-food_photos/almonds/06747748-46c8-43fc-8fca-4b8d70fd1c12.jpeg'),\n",
       " PosixPath('2023-03-04-food_photos/almonds/08cf5fda-5d7d-4d13-8dec-8bd050734f3c.jpeg'),\n",
       " PosixPath('2023-03-04-food_photos/almonds/0b69fa2f-f9e3-4e04-a11c-5289d56a0d28.jpeg'),\n",
       " PosixPath('2023-03-04-food_photos/almonds/0d38fd02-11e6-47bc-bfcf-0bd4fecd7e2c.jpeg')]"
      ]
     },
     "execution_count": 91,
     "metadata": {},
     "output_type": "execute_result"
    }
   ],
   "source": [
    "# Get list of all paths in food_photos directory\n",
    "target_dir = '2023-03-04-food_photos'\n",
    "path = Path(target_dir)\n",
    "all_paths = sorted(list(path.glob('*/*.jp*g')))\n",
    "all_paths[:10]"
   ]
  },
  {
   "cell_type": "code",
   "execution_count": 92,
   "metadata": {},
   "outputs": [
    {
     "data": {
      "text/plain": [
       "900"
      ]
     },
     "execution_count": 92,
     "metadata": {},
     "output_type": "execute_result"
    }
   ],
   "source": [
    "len(all_paths)"
   ]
  },
  {
   "cell_type": "code",
   "execution_count": 93,
   "metadata": {},
   "outputs": [
    {
     "name": "stdout",
     "output_type": "stream",
     "text": [
      "some-file-name is not a valid UUID\n"
     ]
    }
   ],
   "source": [
    "import uuid\n",
    "\n",
    "def is_valid_uuid(string):\n",
    "    try:\n",
    "        uuid.UUID(string)\n",
    "        return True\n",
    "    except ValueError:\n",
    "        return False\n",
    "\n",
    "filename = \"some-file-name\"\n",
    "if is_valid_uuid(filename):\n",
    "    print(f\"{filename} is a valid UUID\")\n",
    "else:\n",
    "    print(f\"{filename} is not a valid UUID\")"
   ]
  },
  {
   "cell_type": "code",
   "execution_count": 94,
   "metadata": {},
   "outputs": [
    {
     "data": {
      "text/plain": [
       "[PosixPath('2023-03-04-food_photos/almonds/004b2ffe-bf33-4694-a14e-bb1be127b69f.jpeg'),\n",
       " PosixPath('2023-03-04-food_photos/almonds/01cfd148-9f25-4f9c-a2ad-a613db055536.jpeg'),\n",
       " PosixPath('2023-03-04-food_photos/almonds/022bb17d-685c-4551-b4c2-2dafddc8ac31.jpeg'),\n",
       " PosixPath('2023-03-04-food_photos/almonds/0278f758-ba9b-43c1-ad93-55d13277f783.jpeg'),\n",
       " PosixPath('2023-03-04-food_photos/almonds/0439a887-1f2d-4f8b-93a7-2dacdc821da4.jpeg'),\n",
       " PosixPath('2023-03-04-food_photos/almonds/0464e873-1d7f-4bb4-8d39-995241264b58.jpeg'),\n",
       " PosixPath('2023-03-04-food_photos/almonds/06747748-46c8-43fc-8fca-4b8d70fd1c12.jpeg'),\n",
       " PosixPath('2023-03-04-food_photos/almonds/08cf5fda-5d7d-4d13-8dec-8bd050734f3c.jpeg'),\n",
       " PosixPath('2023-03-04-food_photos/almonds/0b69fa2f-f9e3-4e04-a11c-5289d56a0d28.jpeg'),\n",
       " PosixPath('2023-03-04-food_photos/almonds/0d38fd02-11e6-47bc-bfcf-0bd4fecd7e2c.jpeg')]"
      ]
     },
     "execution_count": 94,
     "metadata": {},
     "output_type": "execute_result"
    }
   ],
   "source": [
    "# Loop through all_paths, if the path is a UUID, pass, if not, rename the file to a UUID\n",
    "for path in all_paths:\n",
    "    if not is_valid_uuid(path.stem):\n",
    "        print(f\"[INFO] {path} isn't valud UUID, renaming to UUID...\")\n",
    "        new_name = f\"{uuid.uuid4()}.jpeg\"\n",
    "        new_path_name = path.parent / new_name\n",
    "        path.rename(new_path_name)\n",
    "        print(f\"[INFO] Renamed {path} to {new_path_name}\")\n",
    "\n",
    "# Get list of all paths in food_photos directory\n",
    "path = Path(target_dir)\n",
    "all_paths = sorted(list(path.glob('*/*.jpeg')))\n",
    "all_paths[:10]"
   ]
  },
  {
   "cell_type": "code",
   "execution_count": 95,
   "metadata": {},
   "outputs": [
    {
     "data": {
      "text/plain": [
       "{'almonds': 159,\n",
       " 'cashews': 177,\n",
       " 'macadamia': 5,\n",
       " 'peanuts': 4,\n",
       " 'pecans': 214,\n",
       " 'pistachios': 158,\n",
       " 'walnuts': 183}"
      ]
     },
     "execution_count": 95,
     "metadata": {},
     "output_type": "execute_result"
    }
   ],
   "source": [
    "# Find the number of .jpeg images in each subfolder of food_photos and create a dictionary mapping the subfolder name to the number of images\n",
    "subfolder_to_num_images = {}\n",
    "for p in all_paths:\n",
    "    subfolder = p.parent.stem\n",
    "    if subfolder in subfolder_to_num_images:\n",
    "        subfolder_to_num_images[subfolder] += 1\n",
    "    else:\n",
    "        subfolder_to_num_images[subfolder] = 1\n",
    "subfolder_to_num_images"
   ]
  },
  {
   "cell_type": "code",
   "execution_count": 96,
   "metadata": {},
   "outputs": [
    {
     "data": {
      "text/plain": [
       "7"
      ]
     },
     "execution_count": 96,
     "metadata": {},
     "output_type": "execute_result"
    }
   ],
   "source": [
    "len(subfolder_to_num_images)"
   ]
  },
  {
   "cell_type": "code",
   "execution_count": 97,
   "metadata": {},
   "outputs": [
    {
     "data": {
      "text/plain": [
       "['almonds',\n",
       " 'cashews',\n",
       " 'macadamia',\n",
       " 'peanuts',\n",
       " 'pecans',\n",
       " 'pistachios',\n",
       " 'walnuts']"
      ]
     },
     "execution_count": 97,
     "metadata": {},
     "output_type": "execute_result"
    }
   ],
   "source": [
    "# Get all food_types from all_paths\n",
    "food_types = sorted(list(set([p.parent.name for p in all_paths])))\n",
    "food_types"
   ]
  },
  {
   "cell_type": "markdown",
   "metadata": {},
   "source": [
    "## Download original labels from Weights & Biases"
   ]
  },
  {
   "cell_type": "code",
   "execution_count": 98,
   "metadata": {},
   "outputs": [
    {
     "name": "stdout",
     "output_type": "stream",
     "text": [
      "namespace(annotations_columns_to_export=['filename', 'image_name', 'class_name', 'label', 'split', 'clear_or_confusing', 'whole_food_or_dish', 'one_food_or_multiple', 'label_last_updated_at', 'label_source', 'image_source'], auto_augment=True, batch_size=128, epochs=10, gs_bucket_name='food_vision_bucket_with_object_versioning', gs_image_storage_path='https://storage.cloud.google.com/food_vision_bucket_with_object_versioning/all_images/', input_size=224, label_smoothing=0.1, learning_rate=0.001, model='coatnext_nano_rw_224', num_to_try_and_autocorrect=1000, num_top_n_preds=5, path_to_gcp_credentials='utils/google-storage-key.json', path_to_label_studio_api_key='utils/label_studio_api_key.json', pretrained=True, seed=42, use_mixed_precision=True, wandb_dataset_artifact='food_vision_199_classes_images:latest', wandb_job_type='', wandb_labels_artifact='food_vision_labels:latest', wandb_model_artifact='trained_model:latest', wandb_project='test_wandb_artifacts_by_reference', wandb_run_notes='', wandb_run_tags=[''], wandb_train_preds_artifact='train_predictions:latest', workers=16)\n"
     ]
    }
   ],
   "source": [
    "# Get config\n",
    "from configs.default_config import config\n",
    "\n",
    "args = config\n",
    "print(args)"
   ]
  },
  {
   "cell_type": "code",
   "execution_count": 99,
   "metadata": {},
   "outputs": [
    {
     "name": "stdout",
     "output_type": "stream",
     "text": [
      "[INFO] GCP credentials set!\n",
      "[INFO] GCP connection successful! Access to GCP for saving/loading data and models available.\n"
     ]
    }
   ],
   "source": [
    "# Connect to GCP\n",
    "from utils.gcp_utils import set_gcp_credentials, test_gcp_connection\n",
    "set_gcp_credentials(path_to_key=\"../utils/google-storage-key.json\")\n",
    "test_gcp_connection()"
   ]
  },
  {
   "cell_type": "code",
   "execution_count": 100,
   "metadata": {},
   "outputs": [
    {
     "data": {
      "text/html": [
       "Finishing last run (ID:4x60i73y) before initializing another..."
      ],
      "text/plain": [
       "<IPython.core.display.HTML object>"
      ]
     },
     "metadata": {},
     "output_type": "display_data"
    },
    {
     "data": {
      "text/html": [
       "Waiting for W&B process to finish... <strong style=\"color:green\">(success).</strong>"
      ],
      "text/plain": [
       "<IPython.core.display.HTML object>"
      ]
     },
     "metadata": {},
     "output_type": "display_data"
    },
    {
     "data": {
      "application/vnd.jupyter.widget-view+json": {
       "model_id": "9b15a020e28d4d37b084d0041708ae43",
       "version_major": 2,
       "version_minor": 0
      },
      "text/plain": [
       "VBox(children=(Label(value='0.001 MB of 0.001 MB uploaded (0.000 MB deduped)\\r'), FloatProgress(value=1.0, max…"
      ]
     },
     "metadata": {},
     "output_type": "display_data"
    },
    {
     "data": {
      "text/html": [
       "Synced <strong style=\"color:#cdcd00\">wandering-hill-422</strong>: <a href=\"https://wandb.ai/mrdbourke/test_wandb_artifacts_by_reference/runs/4x60i73y\" target=\"_blank\">https://wandb.ai/mrdbourke/test_wandb_artifacts_by_reference/runs/4x60i73y</a><br/>Synced 6 W&B file(s), 0 media file(s), 0 artifact file(s) and 0 other file(s)"
      ],
      "text/plain": [
       "<IPython.core.display.HTML object>"
      ]
     },
     "metadata": {},
     "output_type": "display_data"
    },
    {
     "data": {
      "text/html": [
       "Find logs at: <code>./wandb/run-20230303_213043-4x60i73y/logs</code>"
      ],
      "text/plain": [
       "<IPython.core.display.HTML object>"
      ]
     },
     "metadata": {},
     "output_type": "display_data"
    },
    {
     "data": {
      "text/html": [
       "Successfully finished last run (ID:4x60i73y). Initializing new run:<br/>"
      ],
      "text/plain": [
       "<IPython.core.display.HTML object>"
      ]
     },
     "metadata": {},
     "output_type": "display_data"
    },
    {
     "data": {
      "text/html": [
       "wandb version 0.13.10 is available!  To upgrade, please run:\n",
       " $ pip install wandb --upgrade"
      ],
      "text/plain": [
       "<IPython.core.display.HTML object>"
      ]
     },
     "metadata": {},
     "output_type": "display_data"
    },
    {
     "data": {
      "text/html": [
       "Tracking run with wandb version 0.12.21"
      ],
      "text/plain": [
       "<IPython.core.display.HTML object>"
      ]
     },
     "metadata": {},
     "output_type": "display_data"
    },
    {
     "data": {
      "text/html": [
       "Run data is saved locally in <code>/home/daniel/code/nutrify/foodvision/notebooks/wandb/run-20230303_213325-20zhmf8k</code>"
      ],
      "text/plain": [
       "<IPython.core.display.HTML object>"
      ]
     },
     "metadata": {},
     "output_type": "display_data"
    },
    {
     "data": {
      "text/html": [
       "Syncing run <strong><a href=\"https://wandb.ai/mrdbourke/test_wandb_artifacts_by_reference/runs/20zhmf8k\" target=\"_blank\">effortless-totem-423</a></strong> to <a href=\"https://wandb.ai/mrdbourke/test_wandb_artifacts_by_reference\" target=\"_blank\">Weights & Biases</a> (<a href=\"https://wandb.me/run\" target=\"_blank\">docs</a>)<br/>"
      ],
      "text/plain": [
       "<IPython.core.display.HTML object>"
      ]
     },
     "metadata": {},
     "output_type": "display_data"
    },
    {
     "name": "stdout",
     "output_type": "stream",
     "text": [
      "[INFO] Labels directory: ./artifacts/food_vision_labels:v31\n",
      "[INFO] Labels path: artifacts/food_vision_labels:v31/annotations.csv\n",
      "[INFO] Working with: 245 classes\n"
     ]
    }
   ],
   "source": [
    "import wandb\n",
    "\n",
    "# Initialize a new run\n",
    "from utils.wandb_utils import wandb_load_artifact, wandb_download_and_load_labels\n",
    "\n",
    "notes = f\"add {len(all_paths)} manually taken photos to the training dataset\"\n",
    "\n",
    "run = wandb.init(project=args.wandb_project, \n",
    "                 job_type=args.wandb_job_type,\n",
    "                 tags=['manual_photo_upload'],\n",
    "                 notes=notes)\n",
    "\n",
    "annotations, class_names, class_dict, reverse_class_dict, labels_path = wandb_download_and_load_labels(wandb_run=run,\n",
    "wandb_labels_artifact_name=args.wandb_labels_artifact)"
   ]
  },
  {
   "cell_type": "code",
   "execution_count": 101,
   "metadata": {},
   "outputs": [
    {
     "data": {
      "text/plain": [
       "245"
      ]
     },
     "execution_count": 101,
     "metadata": {},
     "output_type": "execute_result"
    }
   ],
   "source": [
    "len(annotations.label.unique())"
   ]
  },
  {
   "cell_type": "code",
   "execution_count": 102,
   "metadata": {},
   "outputs": [],
   "source": [
    "# Make a copy of the annotations\n",
    "original_annotations = annotations.copy()"
   ]
  },
  {
   "cell_type": "code",
   "execution_count": 103,
   "metadata": {},
   "outputs": [
    {
     "data": {
      "text/plain": [
       "['filename',\n",
       " 'image_name',\n",
       " 'class_name',\n",
       " 'label',\n",
       " 'split',\n",
       " 'clear_or_confusing',\n",
       " 'whole_food_or_dish',\n",
       " 'one_food_or_multiple',\n",
       " 'label_last_updated_at',\n",
       " 'label_source',\n",
       " 'image_source']"
      ]
     },
     "execution_count": 103,
     "metadata": {},
     "output_type": "execute_result"
    }
   ],
   "source": [
    "# Get the columns of the annotations\n",
    "columns_to_create = list(original_annotations.columns)\n",
    "columns_to_create"
   ]
  },
  {
   "cell_type": "code",
   "execution_count": 104,
   "metadata": {},
   "outputs": [
    {
     "data": {
      "text/plain": [
       "900"
      ]
     },
     "execution_count": 104,
     "metadata": {},
     "output_type": "execute_result"
    }
   ],
   "source": [
    "# Get all the image paths from food_photos\n",
    "image_paths = list(Path(target_dir).glob('*/*.jpeg'))\n",
    "len(image_paths)"
   ]
  },
  {
   "cell_type": "code",
   "execution_count": 105,
   "metadata": {},
   "outputs": [
    {
     "data": {
      "text/plain": [
       "6"
      ]
     },
     "execution_count": 105,
     "metadata": {},
     "output_type": "execute_result"
    }
   ],
   "source": [
    "# Check to see what food_types are in class_names\n",
    "food_types_in_class_names = [food_type for food_type in food_types if food_type in class_names]\n",
    "\n",
    "# Check to see what food_types are not in class_names\n",
    "food_types_not_in_class_names = [food_type for food_type in food_types if food_type not in class_names]\n",
    "len(food_types_in_class_names)"
   ]
  },
  {
   "cell_type": "code",
   "execution_count": 106,
   "metadata": {},
   "outputs": [
    {
     "data": {
      "text/plain": [
       "['almonds', 'cashews', 'macadamia', 'pecans', 'pistachios', 'walnuts']"
      ]
     },
     "execution_count": 106,
     "metadata": {},
     "output_type": "execute_result"
    }
   ],
   "source": [
    "food_types_in_class_names"
   ]
  },
  {
   "cell_type": "code",
   "execution_count": 107,
   "metadata": {},
   "outputs": [
    {
     "data": {
      "text/plain": [
       "['peanuts']"
      ]
     },
     "execution_count": 107,
     "metadata": {},
     "output_type": "execute_result"
    }
   ],
   "source": [
    "food_types_not_in_class_names"
   ]
  },
  {
   "cell_type": "code",
   "execution_count": 108,
   "metadata": {},
   "outputs": [
    {
     "data": {
      "text/plain": [
       "['pistachio', 'pistachios']"
      ]
     },
     "execution_count": 108,
     "metadata": {},
     "output_type": "execute_result"
    }
   ],
   "source": [
    "# Check to see if \"macadamia\" in class_names\n",
    "[class_name for class_name in class_names if \"pis\" in class_name]"
   ]
  },
  {
   "cell_type": "code",
   "execution_count": 109,
   "metadata": {},
   "outputs": [],
   "source": [
    "# How to slot new classes into existing class_dict?\n",
    "# Then update the existing annotations with the new class labels (e.g. \"apple_green\" -> 2, \"apple_red\" -> 3)\n",
    "\n",
    "# Add new classes to class_dict\n",
    "for food_type in food_types_not_in_class_names:\n",
    "    class_dict[len(class_dict)] = food_type\n",
    "    class_names.append(food_type)\n",
    "    reverse_class_dict[food_type] = len(class_dict)-1"
   ]
  },
  {
   "cell_type": "code",
   "execution_count": 110,
   "metadata": {},
   "outputs": [
    {
     "data": {
      "text/plain": [
       "246"
      ]
     },
     "execution_count": 110,
     "metadata": {},
     "output_type": "execute_result"
    }
   ],
   "source": [
    "len(class_dict)"
   ]
  },
  {
   "cell_type": "code",
   "execution_count": 111,
   "metadata": {},
   "outputs": [
    {
     "data": {
      "text/html": [
       "<div>\n",
       "<style scoped>\n",
       "    .dataframe tbody tr th:only-of-type {\n",
       "        vertical-align: middle;\n",
       "    }\n",
       "\n",
       "    .dataframe tbody tr th {\n",
       "        vertical-align: top;\n",
       "    }\n",
       "\n",
       "    .dataframe thead th {\n",
       "        text-align: right;\n",
       "    }\n",
       "</style>\n",
       "<table border=\"1\" class=\"dataframe\">\n",
       "  <thead>\n",
       "    <tr style=\"text-align: right;\">\n",
       "      <th></th>\n",
       "      <th>filename</th>\n",
       "      <th>image_name</th>\n",
       "      <th>class_name</th>\n",
       "      <th>label</th>\n",
       "      <th>split</th>\n",
       "      <th>clear_or_confusing</th>\n",
       "      <th>whole_food_or_dish</th>\n",
       "      <th>one_food_or_multiple</th>\n",
       "      <th>label_last_updated_at</th>\n",
       "      <th>label_source</th>\n",
       "      <th>image_source</th>\n",
       "    </tr>\n",
       "  </thead>\n",
       "  <tbody>\n",
       "    <tr>\n",
       "      <th>0</th>\n",
       "      <td>2023-03-04-food_photos/macadamia/d041fc31-5d69...</td>\n",
       "      <td>d041fc31-5d69-499a-a697-572cbd5b8575.jpeg</td>\n",
       "      <td>macadamia</td>\n",
       "      <td>124</td>\n",
       "      <td>train</td>\n",
       "      <td>clear</td>\n",
       "      <td>whole_food</td>\n",
       "      <td>one_food</td>\n",
       "      <td>2023-03-03_21-33-46</td>\n",
       "      <td>manual_upload</td>\n",
       "      <td>manual_upload</td>\n",
       "    </tr>\n",
       "    <tr>\n",
       "      <th>1</th>\n",
       "      <td>2023-03-04-food_photos/macadamia/af18c02a-171b...</td>\n",
       "      <td>af18c02a-171b-4b52-8f36-9c0f54972e1e.jpeg</td>\n",
       "      <td>macadamia</td>\n",
       "      <td>124</td>\n",
       "      <td>test</td>\n",
       "      <td>clear</td>\n",
       "      <td>whole_food</td>\n",
       "      <td>one_food</td>\n",
       "      <td>2023-03-03_21-33-46</td>\n",
       "      <td>manual_upload</td>\n",
       "      <td>manual_upload</td>\n",
       "    </tr>\n",
       "    <tr>\n",
       "      <th>2</th>\n",
       "      <td>2023-03-04-food_photos/macadamia/9d20fbb3-f7f4...</td>\n",
       "      <td>9d20fbb3-f7f4-4a14-999b-24a19103c008.jpeg</td>\n",
       "      <td>macadamia</td>\n",
       "      <td>124</td>\n",
       "      <td>train</td>\n",
       "      <td>clear</td>\n",
       "      <td>whole_food</td>\n",
       "      <td>one_food</td>\n",
       "      <td>2023-03-03_21-33-46</td>\n",
       "      <td>manual_upload</td>\n",
       "      <td>manual_upload</td>\n",
       "    </tr>\n",
       "    <tr>\n",
       "      <th>3</th>\n",
       "      <td>2023-03-04-food_photos/macadamia/78b08628-75e2...</td>\n",
       "      <td>78b08628-75e2-4715-ba46-570eaeb1dc3d.jpeg</td>\n",
       "      <td>macadamia</td>\n",
       "      <td>124</td>\n",
       "      <td>train</td>\n",
       "      <td>clear</td>\n",
       "      <td>whole_food</td>\n",
       "      <td>one_food</td>\n",
       "      <td>2023-03-03_21-33-46</td>\n",
       "      <td>manual_upload</td>\n",
       "      <td>manual_upload</td>\n",
       "    </tr>\n",
       "    <tr>\n",
       "      <th>4</th>\n",
       "      <td>2023-03-04-food_photos/macadamia/da455e2a-40d5...</td>\n",
       "      <td>da455e2a-40d5-430b-bfed-13d51335db2a.jpeg</td>\n",
       "      <td>macadamia</td>\n",
       "      <td>124</td>\n",
       "      <td>train</td>\n",
       "      <td>clear</td>\n",
       "      <td>whole_food</td>\n",
       "      <td>one_food</td>\n",
       "      <td>2023-03-03_21-33-46</td>\n",
       "      <td>manual_upload</td>\n",
       "      <td>manual_upload</td>\n",
       "    </tr>\n",
       "  </tbody>\n",
       "</table>\n",
       "</div>"
      ],
      "text/plain": [
       "                                            filename  \\\n",
       "0  2023-03-04-food_photos/macadamia/d041fc31-5d69...   \n",
       "1  2023-03-04-food_photos/macadamia/af18c02a-171b...   \n",
       "2  2023-03-04-food_photos/macadamia/9d20fbb3-f7f4...   \n",
       "3  2023-03-04-food_photos/macadamia/78b08628-75e2...   \n",
       "4  2023-03-04-food_photos/macadamia/da455e2a-40d5...   \n",
       "\n",
       "                                  image_name class_name  label  split  \\\n",
       "0  d041fc31-5d69-499a-a697-572cbd5b8575.jpeg  macadamia    124  train   \n",
       "1  af18c02a-171b-4b52-8f36-9c0f54972e1e.jpeg  macadamia    124   test   \n",
       "2  9d20fbb3-f7f4-4a14-999b-24a19103c008.jpeg  macadamia    124  train   \n",
       "3  78b08628-75e2-4715-ba46-570eaeb1dc3d.jpeg  macadamia    124  train   \n",
       "4  da455e2a-40d5-430b-bfed-13d51335db2a.jpeg  macadamia    124  train   \n",
       "\n",
       "  clear_or_confusing whole_food_or_dish one_food_or_multiple  \\\n",
       "0              clear         whole_food             one_food   \n",
       "1              clear         whole_food             one_food   \n",
       "2              clear         whole_food             one_food   \n",
       "3              clear         whole_food             one_food   \n",
       "4              clear         whole_food             one_food   \n",
       "\n",
       "  label_last_updated_at   label_source   image_source  \n",
       "0   2023-03-03_21-33-46  manual_upload  manual_upload  \n",
       "1   2023-03-03_21-33-46  manual_upload  manual_upload  \n",
       "2   2023-03-03_21-33-46  manual_upload  manual_upload  \n",
       "3   2023-03-03_21-33-46  manual_upload  manual_upload  \n",
       "4   2023-03-03_21-33-46  manual_upload  manual_upload  "
      ]
     },
     "execution_count": 111,
     "metadata": {},
     "output_type": "execute_result"
    }
   ],
   "source": [
    "from utils.misc import get_now_time\n",
    "\n",
    "# Create a list of dictionaries and fill out the columns of the annotations\n",
    "columns = ['filename',\n",
    " 'image_name',\n",
    " 'class_name',\n",
    " 'label',\n",
    " 'split',\n",
    " 'clear_or_confusing',\n",
    " 'whole_food_or_dish',\n",
    " 'one_food_or_multiple',\n",
    " 'label_last_updated_at',\n",
    " 'label_source',\n",
    " 'image_source']\n",
    "\n",
    "food_image_dict_list = []\n",
    "\n",
    "LABEL_SOURCE = \"manual_upload\"\n",
    "IMAGE_SOURCE = \"manual_upload\"\n",
    "LABEL_LAST_UPDATED_AT = get_now_time()\n",
    "\n",
    "for image_path in image_paths:\n",
    "    food_image_dict = {}\n",
    "    food_image_dict['filename'] = image_path\n",
    "    food_image_dict['image_name'] = image_path.name\n",
    "    food_image_dict['class_name'] = image_path.parent.name\n",
    "    food_image_dict['label'] = reverse_class_dict[image_path.parent.name]\n",
    "    # food_image_dict['split'] = 'train'\n",
    "    # Label 20% of the images as test\n",
    "    if np.random.random() < 0.2:\n",
    "        food_image_dict['split'] = 'test'\n",
    "    else:\n",
    "        food_image_dict['split'] = 'train'\n",
    "    food_image_dict['clear_or_confusing'] = 'clear'\n",
    "    food_image_dict['whole_food_or_dish'] = 'whole_food'\n",
    "    food_image_dict['one_food_or_multiple'] = 'one_food'\n",
    "    food_image_dict['label_last_updated_at'] = LABEL_LAST_UPDATED_AT\n",
    "    food_image_dict['label_source'] = LABEL_SOURCE\n",
    "    food_image_dict['image_source'] = IMAGE_SOURCE\n",
    "\n",
    "    food_image_dict_list.append(food_image_dict)\n",
    "\n",
    "# Create a dataframe from the list of dictionaries\n",
    "import pandas as pd\n",
    "new_annotations = pd.DataFrame(food_image_dict_list)\n",
    "new_annotations.head()"
   ]
  },
  {
   "cell_type": "code",
   "execution_count": 112,
   "metadata": {},
   "outputs": [
    {
     "data": {
      "text/plain": [
       "train    719\n",
       "test     181\n",
       "Name: split, dtype: int64"
      ]
     },
     "execution_count": 112,
     "metadata": {},
     "output_type": "execute_result"
    }
   ],
   "source": [
    "# Print how many images are train/test in new_annotations\n",
    "new_annotations['split'].value_counts()"
   ]
  },
  {
   "cell_type": "code",
   "execution_count": 113,
   "metadata": {},
   "outputs": [
    {
     "data": {
      "text/html": [
       "<div>\n",
       "<style scoped>\n",
       "    .dataframe tbody tr th:only-of-type {\n",
       "        vertical-align: middle;\n",
       "    }\n",
       "\n",
       "    .dataframe tbody tr th {\n",
       "        vertical-align: top;\n",
       "    }\n",
       "\n",
       "    .dataframe thead th {\n",
       "        text-align: right;\n",
       "    }\n",
       "</style>\n",
       "<table border=\"1\" class=\"dataframe\">\n",
       "  <thead>\n",
       "    <tr style=\"text-align: right;\">\n",
       "      <th></th>\n",
       "      <th>filename</th>\n",
       "      <th>image_name</th>\n",
       "      <th>class_name</th>\n",
       "      <th>label</th>\n",
       "      <th>split</th>\n",
       "      <th>clear_or_confusing</th>\n",
       "      <th>whole_food_or_dish</th>\n",
       "      <th>one_food_or_multiple</th>\n",
       "      <th>label_last_updated_at</th>\n",
       "      <th>label_source</th>\n",
       "      <th>image_source</th>\n",
       "    </tr>\n",
       "  </thead>\n",
       "  <tbody>\n",
       "    <tr>\n",
       "      <th>277</th>\n",
       "      <td>2023-03-04-food_photos/walnuts/c2368180-a6a2-4...</td>\n",
       "      <td>c2368180-a6a2-4b13-a722-cacc89214ad7.jpeg</td>\n",
       "      <td>walnuts</td>\n",
       "      <td>237</td>\n",
       "      <td>test</td>\n",
       "      <td>clear</td>\n",
       "      <td>whole_food</td>\n",
       "      <td>one_food</td>\n",
       "      <td>2023-03-03_21-33-46</td>\n",
       "      <td>manual_upload</td>\n",
       "      <td>manual_upload</td>\n",
       "    </tr>\n",
       "    <tr>\n",
       "      <th>315</th>\n",
       "      <td>2023-03-04-food_photos/walnuts/9a9803d5-3a29-4...</td>\n",
       "      <td>9a9803d5-3a29-4b79-851a-f5bf5cb10d13.jpeg</td>\n",
       "      <td>walnuts</td>\n",
       "      <td>237</td>\n",
       "      <td>train</td>\n",
       "      <td>clear</td>\n",
       "      <td>whole_food</td>\n",
       "      <td>one_food</td>\n",
       "      <td>2023-03-03_21-33-46</td>\n",
       "      <td>manual_upload</td>\n",
       "      <td>manual_upload</td>\n",
       "    </tr>\n",
       "    <tr>\n",
       "      <th>226</th>\n",
       "      <td>2023-03-04-food_photos/walnuts/601ca544-9500-4...</td>\n",
       "      <td>601ca544-9500-4ba2-b53a-26fddd60ee46.jpeg</td>\n",
       "      <td>walnuts</td>\n",
       "      <td>237</td>\n",
       "      <td>train</td>\n",
       "      <td>clear</td>\n",
       "      <td>whole_food</td>\n",
       "      <td>one_food</td>\n",
       "      <td>2023-03-03_21-33-46</td>\n",
       "      <td>manual_upload</td>\n",
       "      <td>manual_upload</td>\n",
       "    </tr>\n",
       "    <tr>\n",
       "      <th>248</th>\n",
       "      <td>2023-03-04-food_photos/walnuts/8d5af2f7-1f80-4...</td>\n",
       "      <td>8d5af2f7-1f80-4b64-87d5-a8d816e22ac7.jpeg</td>\n",
       "      <td>walnuts</td>\n",
       "      <td>237</td>\n",
       "      <td>train</td>\n",
       "      <td>clear</td>\n",
       "      <td>whole_food</td>\n",
       "      <td>one_food</td>\n",
       "      <td>2023-03-03_21-33-46</td>\n",
       "      <td>manual_upload</td>\n",
       "      <td>manual_upload</td>\n",
       "    </tr>\n",
       "    <tr>\n",
       "      <th>234</th>\n",
       "      <td>2023-03-04-food_photos/walnuts/c378e03e-a954-4...</td>\n",
       "      <td>c378e03e-a954-4744-baea-25d810945dc5.jpeg</td>\n",
       "      <td>walnuts</td>\n",
       "      <td>237</td>\n",
       "      <td>train</td>\n",
       "      <td>clear</td>\n",
       "      <td>whole_food</td>\n",
       "      <td>one_food</td>\n",
       "      <td>2023-03-03_21-33-46</td>\n",
       "      <td>manual_upload</td>\n",
       "      <td>manual_upload</td>\n",
       "    </tr>\n",
       "    <tr>\n",
       "      <th>300</th>\n",
       "      <td>2023-03-04-food_photos/walnuts/174d135d-809f-4...</td>\n",
       "      <td>174d135d-809f-40fc-8101-12d33e02bec6.jpeg</td>\n",
       "      <td>walnuts</td>\n",
       "      <td>237</td>\n",
       "      <td>test</td>\n",
       "      <td>clear</td>\n",
       "      <td>whole_food</td>\n",
       "      <td>one_food</td>\n",
       "      <td>2023-03-03_21-33-46</td>\n",
       "      <td>manual_upload</td>\n",
       "      <td>manual_upload</td>\n",
       "    </tr>\n",
       "    <tr>\n",
       "      <th>211</th>\n",
       "      <td>2023-03-04-food_photos/walnuts/af31bbcb-c62f-4...</td>\n",
       "      <td>af31bbcb-c62f-4d45-be2a-4fb3328ceb23.jpeg</td>\n",
       "      <td>walnuts</td>\n",
       "      <td>237</td>\n",
       "      <td>train</td>\n",
       "      <td>clear</td>\n",
       "      <td>whole_food</td>\n",
       "      <td>one_food</td>\n",
       "      <td>2023-03-03_21-33-46</td>\n",
       "      <td>manual_upload</td>\n",
       "      <td>manual_upload</td>\n",
       "    </tr>\n",
       "    <tr>\n",
       "      <th>254</th>\n",
       "      <td>2023-03-04-food_photos/walnuts/92091f26-130a-4...</td>\n",
       "      <td>92091f26-130a-48d9-9c99-11bbc86ae93a.jpeg</td>\n",
       "      <td>walnuts</td>\n",
       "      <td>237</td>\n",
       "      <td>train</td>\n",
       "      <td>clear</td>\n",
       "      <td>whole_food</td>\n",
       "      <td>one_food</td>\n",
       "      <td>2023-03-03_21-33-46</td>\n",
       "      <td>manual_upload</td>\n",
       "      <td>manual_upload</td>\n",
       "    </tr>\n",
       "    <tr>\n",
       "      <th>346</th>\n",
       "      <td>2023-03-04-food_photos/walnuts/192894c5-8fdb-4...</td>\n",
       "      <td>192894c5-8fdb-4d5b-b285-c57797115dfa.jpeg</td>\n",
       "      <td>walnuts</td>\n",
       "      <td>237</td>\n",
       "      <td>train</td>\n",
       "      <td>clear</td>\n",
       "      <td>whole_food</td>\n",
       "      <td>one_food</td>\n",
       "      <td>2023-03-03_21-33-46</td>\n",
       "      <td>manual_upload</td>\n",
       "      <td>manual_upload</td>\n",
       "    </tr>\n",
       "    <tr>\n",
       "      <th>313</th>\n",
       "      <td>2023-03-04-food_photos/walnuts/aee4aa48-2fc1-4...</td>\n",
       "      <td>aee4aa48-2fc1-4c4e-8c80-6482bd27b343.jpeg</td>\n",
       "      <td>walnuts</td>\n",
       "      <td>237</td>\n",
       "      <td>train</td>\n",
       "      <td>clear</td>\n",
       "      <td>whole_food</td>\n",
       "      <td>one_food</td>\n",
       "      <td>2023-03-03_21-33-46</td>\n",
       "      <td>manual_upload</td>\n",
       "      <td>manual_upload</td>\n",
       "    </tr>\n",
       "  </tbody>\n",
       "</table>\n",
       "</div>"
      ],
      "text/plain": [
       "                                              filename  \\\n",
       "277  2023-03-04-food_photos/walnuts/c2368180-a6a2-4...   \n",
       "315  2023-03-04-food_photos/walnuts/9a9803d5-3a29-4...   \n",
       "226  2023-03-04-food_photos/walnuts/601ca544-9500-4...   \n",
       "248  2023-03-04-food_photos/walnuts/8d5af2f7-1f80-4...   \n",
       "234  2023-03-04-food_photos/walnuts/c378e03e-a954-4...   \n",
       "300  2023-03-04-food_photos/walnuts/174d135d-809f-4...   \n",
       "211  2023-03-04-food_photos/walnuts/af31bbcb-c62f-4...   \n",
       "254  2023-03-04-food_photos/walnuts/92091f26-130a-4...   \n",
       "346  2023-03-04-food_photos/walnuts/192894c5-8fdb-4...   \n",
       "313  2023-03-04-food_photos/walnuts/aee4aa48-2fc1-4...   \n",
       "\n",
       "                                    image_name class_name  label  split  \\\n",
       "277  c2368180-a6a2-4b13-a722-cacc89214ad7.jpeg    walnuts    237   test   \n",
       "315  9a9803d5-3a29-4b79-851a-f5bf5cb10d13.jpeg    walnuts    237  train   \n",
       "226  601ca544-9500-4ba2-b53a-26fddd60ee46.jpeg    walnuts    237  train   \n",
       "248  8d5af2f7-1f80-4b64-87d5-a8d816e22ac7.jpeg    walnuts    237  train   \n",
       "234  c378e03e-a954-4744-baea-25d810945dc5.jpeg    walnuts    237  train   \n",
       "300  174d135d-809f-40fc-8101-12d33e02bec6.jpeg    walnuts    237   test   \n",
       "211  af31bbcb-c62f-4d45-be2a-4fb3328ceb23.jpeg    walnuts    237  train   \n",
       "254  92091f26-130a-48d9-9c99-11bbc86ae93a.jpeg    walnuts    237  train   \n",
       "346  192894c5-8fdb-4d5b-b285-c57797115dfa.jpeg    walnuts    237  train   \n",
       "313  aee4aa48-2fc1-4c4e-8c80-6482bd27b343.jpeg    walnuts    237  train   \n",
       "\n",
       "    clear_or_confusing whole_food_or_dish one_food_or_multiple  \\\n",
       "277              clear         whole_food             one_food   \n",
       "315              clear         whole_food             one_food   \n",
       "226              clear         whole_food             one_food   \n",
       "248              clear         whole_food             one_food   \n",
       "234              clear         whole_food             one_food   \n",
       "300              clear         whole_food             one_food   \n",
       "211              clear         whole_food             one_food   \n",
       "254              clear         whole_food             one_food   \n",
       "346              clear         whole_food             one_food   \n",
       "313              clear         whole_food             one_food   \n",
       "\n",
       "    label_last_updated_at   label_source   image_source  \n",
       "277   2023-03-03_21-33-46  manual_upload  manual_upload  \n",
       "315   2023-03-03_21-33-46  manual_upload  manual_upload  \n",
       "226   2023-03-03_21-33-46  manual_upload  manual_upload  \n",
       "248   2023-03-03_21-33-46  manual_upload  manual_upload  \n",
       "234   2023-03-03_21-33-46  manual_upload  manual_upload  \n",
       "300   2023-03-03_21-33-46  manual_upload  manual_upload  \n",
       "211   2023-03-03_21-33-46  manual_upload  manual_upload  \n",
       "254   2023-03-03_21-33-46  manual_upload  manual_upload  \n",
       "346   2023-03-03_21-33-46  manual_upload  manual_upload  \n",
       "313   2023-03-03_21-33-46  manual_upload  manual_upload  "
      ]
     },
     "execution_count": 113,
     "metadata": {},
     "output_type": "execute_result"
    }
   ],
   "source": [
    "# Find a random sample of 10 images where the label value is 199 or higher\n",
    "new_annotations[new_annotations['label'] >= 199].sample(10)"
   ]
  },
  {
   "cell_type": "code",
   "execution_count": 114,
   "metadata": {},
   "outputs": [
    {
     "data": {
      "text/plain": [
       "(110276, 900)"
      ]
     },
     "execution_count": 114,
     "metadata": {},
     "output_type": "execute_result"
    }
   ],
   "source": [
    "len(original_annotations), len(new_annotations)"
   ]
  },
  {
   "cell_type": "code",
   "execution_count": 115,
   "metadata": {},
   "outputs": [
    {
     "data": {
      "text/html": [
       "<div>\n",
       "<style scoped>\n",
       "    .dataframe tbody tr th:only-of-type {\n",
       "        vertical-align: middle;\n",
       "    }\n",
       "\n",
       "    .dataframe tbody tr th {\n",
       "        vertical-align: top;\n",
       "    }\n",
       "\n",
       "    .dataframe thead th {\n",
       "        text-align: right;\n",
       "    }\n",
       "</style>\n",
       "<table border=\"1\" class=\"dataframe\">\n",
       "  <thead>\n",
       "    <tr style=\"text-align: right;\">\n",
       "      <th></th>\n",
       "      <th>filename</th>\n",
       "      <th>image_name</th>\n",
       "      <th>class_name</th>\n",
       "      <th>label</th>\n",
       "      <th>split</th>\n",
       "      <th>clear_or_confusing</th>\n",
       "      <th>whole_food_or_dish</th>\n",
       "      <th>one_food_or_multiple</th>\n",
       "      <th>label_last_updated_at</th>\n",
       "      <th>label_source</th>\n",
       "      <th>image_source</th>\n",
       "    </tr>\n",
       "  </thead>\n",
       "  <tbody>\n",
       "    <tr>\n",
       "      <th>0</th>\n",
       "      <td>test/pain_au_chocolat/4fd7cb42-bd7f-48f1-bfdc-...</td>\n",
       "      <td>4fd7cb42-bd7f-48f1-bfdc-607c2f54b788.jpg</td>\n",
       "      <td>pain_au_chocolat</td>\n",
       "      <td>149</td>\n",
       "      <td>test</td>\n",
       "      <td>NaN</td>\n",
       "      <td>NaN</td>\n",
       "      <td>NaN</td>\n",
       "      <td>NaN</td>\n",
       "      <td>NaN</td>\n",
       "      <td>internet_download</td>\n",
       "    </tr>\n",
       "    <tr>\n",
       "      <th>1</th>\n",
       "      <td>test/pain_au_chocolat/2062f52a-781c-4e4f-b8a7-...</td>\n",
       "      <td>2062f52a-781c-4e4f-b8a7-0a108934f453.jpg</td>\n",
       "      <td>pain_au_chocolat</td>\n",
       "      <td>149</td>\n",
       "      <td>test</td>\n",
       "      <td>NaN</td>\n",
       "      <td>NaN</td>\n",
       "      <td>NaN</td>\n",
       "      <td>NaN</td>\n",
       "      <td>NaN</td>\n",
       "      <td>internet_download</td>\n",
       "    </tr>\n",
       "    <tr>\n",
       "      <th>2</th>\n",
       "      <td>test/pain_au_chocolat/8003e0f6-37e8-460d-9c14-...</td>\n",
       "      <td>8003e0f6-37e8-460d-9c14-e7c6fe44a37f.jpg</td>\n",
       "      <td>pain_au_chocolat</td>\n",
       "      <td>149</td>\n",
       "      <td>test</td>\n",
       "      <td>NaN</td>\n",
       "      <td>NaN</td>\n",
       "      <td>NaN</td>\n",
       "      <td>NaN</td>\n",
       "      <td>NaN</td>\n",
       "      <td>internet_download</td>\n",
       "    </tr>\n",
       "    <tr>\n",
       "      <th>3</th>\n",
       "      <td>test/pain_au_chocolat/839437c8-c643-408f-9f04-...</td>\n",
       "      <td>839437c8-c643-408f-9f04-d0d3bec238c3.jpg</td>\n",
       "      <td>pain_au_chocolat</td>\n",
       "      <td>149</td>\n",
       "      <td>test</td>\n",
       "      <td>NaN</td>\n",
       "      <td>NaN</td>\n",
       "      <td>NaN</td>\n",
       "      <td>NaN</td>\n",
       "      <td>NaN</td>\n",
       "      <td>internet_download</td>\n",
       "    </tr>\n",
       "    <tr>\n",
       "      <th>4</th>\n",
       "      <td>test/pain_au_chocolat/ca5c13ff-a535-4b69-9144-...</td>\n",
       "      <td>ca5c13ff-a535-4b69-9144-e06275e01e35.jpg</td>\n",
       "      <td>pain_au_chocolat</td>\n",
       "      <td>149</td>\n",
       "      <td>test</td>\n",
       "      <td>NaN</td>\n",
       "      <td>NaN</td>\n",
       "      <td>NaN</td>\n",
       "      <td>NaN</td>\n",
       "      <td>NaN</td>\n",
       "      <td>internet_download</td>\n",
       "    </tr>\n",
       "    <tr>\n",
       "      <th>...</th>\n",
       "      <td>...</td>\n",
       "      <td>...</td>\n",
       "      <td>...</td>\n",
       "      <td>...</td>\n",
       "      <td>...</td>\n",
       "      <td>...</td>\n",
       "      <td>...</td>\n",
       "      <td>...</td>\n",
       "      <td>...</td>\n",
       "      <td>...</td>\n",
       "      <td>...</td>\n",
       "    </tr>\n",
       "    <tr>\n",
       "      <th>111171</th>\n",
       "      <td>2023-03-04-food_photos/pistachios/03b6bef7-bd8...</td>\n",
       "      <td>03b6bef7-bd8d-455a-aa75-7ec8899846d7.jpeg</td>\n",
       "      <td>pistachios</td>\n",
       "      <td>166</td>\n",
       "      <td>train</td>\n",
       "      <td>clear</td>\n",
       "      <td>whole_food</td>\n",
       "      <td>one_food</td>\n",
       "      <td>2023-03-03_21-33-46</td>\n",
       "      <td>manual_upload</td>\n",
       "      <td>manual_upload</td>\n",
       "    </tr>\n",
       "    <tr>\n",
       "      <th>111172</th>\n",
       "      <td>2023-03-04-food_photos/pistachios/37f17b35-d40...</td>\n",
       "      <td>37f17b35-d404-4eb5-af31-07d9fd3ae1ef.jpeg</td>\n",
       "      <td>pistachios</td>\n",
       "      <td>166</td>\n",
       "      <td>train</td>\n",
       "      <td>clear</td>\n",
       "      <td>whole_food</td>\n",
       "      <td>one_food</td>\n",
       "      <td>2023-03-03_21-33-46</td>\n",
       "      <td>manual_upload</td>\n",
       "      <td>manual_upload</td>\n",
       "    </tr>\n",
       "    <tr>\n",
       "      <th>111173</th>\n",
       "      <td>2023-03-04-food_photos/pistachios/7455682e-b74...</td>\n",
       "      <td>7455682e-b746-4de7-bf86-2d2caa3d9a05.jpeg</td>\n",
       "      <td>pistachios</td>\n",
       "      <td>166</td>\n",
       "      <td>test</td>\n",
       "      <td>clear</td>\n",
       "      <td>whole_food</td>\n",
       "      <td>one_food</td>\n",
       "      <td>2023-03-03_21-33-46</td>\n",
       "      <td>manual_upload</td>\n",
       "      <td>manual_upload</td>\n",
       "    </tr>\n",
       "    <tr>\n",
       "      <th>111174</th>\n",
       "      <td>2023-03-04-food_photos/pistachios/46f386e9-e90...</td>\n",
       "      <td>46f386e9-e903-4bf8-a8df-0fb0f72431cb.jpeg</td>\n",
       "      <td>pistachios</td>\n",
       "      <td>166</td>\n",
       "      <td>train</td>\n",
       "      <td>clear</td>\n",
       "      <td>whole_food</td>\n",
       "      <td>one_food</td>\n",
       "      <td>2023-03-03_21-33-46</td>\n",
       "      <td>manual_upload</td>\n",
       "      <td>manual_upload</td>\n",
       "    </tr>\n",
       "    <tr>\n",
       "      <th>111175</th>\n",
       "      <td>2023-03-04-food_photos/pistachios/cd6ddcad-599...</td>\n",
       "      <td>cd6ddcad-599a-479b-922d-d103f1d78502.jpeg</td>\n",
       "      <td>pistachios</td>\n",
       "      <td>166</td>\n",
       "      <td>train</td>\n",
       "      <td>clear</td>\n",
       "      <td>whole_food</td>\n",
       "      <td>one_food</td>\n",
       "      <td>2023-03-03_21-33-46</td>\n",
       "      <td>manual_upload</td>\n",
       "      <td>manual_upload</td>\n",
       "    </tr>\n",
       "  </tbody>\n",
       "</table>\n",
       "<p>111176 rows × 11 columns</p>\n",
       "</div>"
      ],
      "text/plain": [
       "                                                 filename  \\\n",
       "0       test/pain_au_chocolat/4fd7cb42-bd7f-48f1-bfdc-...   \n",
       "1       test/pain_au_chocolat/2062f52a-781c-4e4f-b8a7-...   \n",
       "2       test/pain_au_chocolat/8003e0f6-37e8-460d-9c14-...   \n",
       "3       test/pain_au_chocolat/839437c8-c643-408f-9f04-...   \n",
       "4       test/pain_au_chocolat/ca5c13ff-a535-4b69-9144-...   \n",
       "...                                                   ...   \n",
       "111171  2023-03-04-food_photos/pistachios/03b6bef7-bd8...   \n",
       "111172  2023-03-04-food_photos/pistachios/37f17b35-d40...   \n",
       "111173  2023-03-04-food_photos/pistachios/7455682e-b74...   \n",
       "111174  2023-03-04-food_photos/pistachios/46f386e9-e90...   \n",
       "111175  2023-03-04-food_photos/pistachios/cd6ddcad-599...   \n",
       "\n",
       "                                       image_name        class_name  label  \\\n",
       "0        4fd7cb42-bd7f-48f1-bfdc-607c2f54b788.jpg  pain_au_chocolat    149   \n",
       "1        2062f52a-781c-4e4f-b8a7-0a108934f453.jpg  pain_au_chocolat    149   \n",
       "2        8003e0f6-37e8-460d-9c14-e7c6fe44a37f.jpg  pain_au_chocolat    149   \n",
       "3        839437c8-c643-408f-9f04-d0d3bec238c3.jpg  pain_au_chocolat    149   \n",
       "4        ca5c13ff-a535-4b69-9144-e06275e01e35.jpg  pain_au_chocolat    149   \n",
       "...                                           ...               ...    ...   \n",
       "111171  03b6bef7-bd8d-455a-aa75-7ec8899846d7.jpeg        pistachios    166   \n",
       "111172  37f17b35-d404-4eb5-af31-07d9fd3ae1ef.jpeg        pistachios    166   \n",
       "111173  7455682e-b746-4de7-bf86-2d2caa3d9a05.jpeg        pistachios    166   \n",
       "111174  46f386e9-e903-4bf8-a8df-0fb0f72431cb.jpeg        pistachios    166   \n",
       "111175  cd6ddcad-599a-479b-922d-d103f1d78502.jpeg        pistachios    166   \n",
       "\n",
       "        split clear_or_confusing whole_food_or_dish one_food_or_multiple  \\\n",
       "0        test                NaN                NaN                  NaN   \n",
       "1        test                NaN                NaN                  NaN   \n",
       "2        test                NaN                NaN                  NaN   \n",
       "3        test                NaN                NaN                  NaN   \n",
       "4        test                NaN                NaN                  NaN   \n",
       "...       ...                ...                ...                  ...   \n",
       "111171  train              clear         whole_food             one_food   \n",
       "111172  train              clear         whole_food             one_food   \n",
       "111173   test              clear         whole_food             one_food   \n",
       "111174  train              clear         whole_food             one_food   \n",
       "111175  train              clear         whole_food             one_food   \n",
       "\n",
       "       label_last_updated_at   label_source       image_source  \n",
       "0                        NaN            NaN  internet_download  \n",
       "1                        NaN            NaN  internet_download  \n",
       "2                        NaN            NaN  internet_download  \n",
       "3                        NaN            NaN  internet_download  \n",
       "4                        NaN            NaN  internet_download  \n",
       "...                      ...            ...                ...  \n",
       "111171   2023-03-03_21-33-46  manual_upload      manual_upload  \n",
       "111172   2023-03-03_21-33-46  manual_upload      manual_upload  \n",
       "111173   2023-03-03_21-33-46  manual_upload      manual_upload  \n",
       "111174   2023-03-03_21-33-46  manual_upload      manual_upload  \n",
       "111175   2023-03-03_21-33-46  manual_upload      manual_upload  \n",
       "\n",
       "[111176 rows x 11 columns]"
      ]
     },
     "execution_count": 115,
     "metadata": {},
     "output_type": "execute_result"
    }
   ],
   "source": [
    "# Append the new_annotations to the original_annotations\n",
    "updated_annotations = pd.concat([original_annotations, new_annotations], ignore_index=True)\n",
    "\n",
    "# updated_annotations = original_annotations.(new_annotations, ignore_index=True)\n",
    "updated_annotations"
   ]
  },
  {
   "cell_type": "code",
   "execution_count": 116,
   "metadata": {},
   "outputs": [
    {
     "data": {
      "text/plain": [
       "245"
      ]
     },
     "execution_count": 116,
     "metadata": {},
     "output_type": "execute_result"
    }
   ],
   "source": [
    "# How many unique class_names are in original_annotations?\n",
    "len(original_annotations['class_name'].unique())"
   ]
  },
  {
   "cell_type": "code",
   "execution_count": 117,
   "metadata": {},
   "outputs": [
    {
     "data": {
      "text/plain": [
       "246"
      ]
     },
     "execution_count": 117,
     "metadata": {},
     "output_type": "execute_result"
    }
   ],
   "source": [
    "# How many unique class_names are in updated_annotations?\n",
    "len(updated_annotations['class_name'].unique())"
   ]
  },
  {
   "cell_type": "code",
   "execution_count": 118,
   "metadata": {},
   "outputs": [],
   "source": [
    "from typing import List, Dict, Tuple\n",
    "\n",
    "def get_updated_class_names_class_dict_and_reverse_class_dict(df: pd.DataFrame) -> Tuple[List[str], Dict[int, str], Dict[str, int]]:\n",
    "    \"\"\"Get an updated class names list, class dict and reverse class dict from a dataframe.\"\"\"\n",
    "    updated_class_names = sorted(df.class_name.unique())\n",
    "    updated_class_dict = {i: class_name for i, class_name in enumerate(updated_class_names)}\n",
    "    updated_reverse_class_dict = {class_name: i for i, class_name in enumerate(updated_class_names)}\n",
    "    assert len(updated_class_dict) == len(updated_reverse_class_dict), \"Class dict and reverse class dict are not the same length\"\n",
    "    return updated_class_names, updated_class_dict, updated_reverse_class_dict\n",
    "\n",
    "def map_updated_class_dict_to_updated_annotations(df: pd.DataFrame, updated_reverse_class_dict: Dict[str, int]) -> pd.DataFrame:\n",
    "    \"\"\"Map updated class dict to updated annotations dataframe.\n",
    "    \n",
    "    For example, go from {\"apple_red\": 1} -> df[\"label\"] = 1\n",
    "    \"\"\"\n",
    "    updated_annotations = df.copy()\n",
    "    updated_annotations.loc[:, 'label'] = updated_annotations['class_name'].map(updated_reverse_class_dict)\n",
    "    assert len(updated_annotations.label.unique()) == len(updated_reverse_class_dict), \"Number of unique labels in updated annotations does not match number of unique class names in updated reverse class dict\"\n",
    "    return updated_annotations"
   ]
  },
  {
   "cell_type": "code",
   "execution_count": 119,
   "metadata": {},
   "outputs": [
    {
     "data": {
      "text/plain": [
       "(246,\n",
       " ['almond_butter',\n",
       "  'almonds',\n",
       "  'apple_green',\n",
       "  'apple_red',\n",
       "  'apricot',\n",
       "  'asparagus',\n",
       "  'avocado',\n",
       "  'bacon',\n",
       "  'bacon_and_egg_burger',\n",
       "  'bagel'])"
      ]
     },
     "execution_count": 119,
     "metadata": {},
     "output_type": "execute_result"
    }
   ],
   "source": [
    "updated_class_names, updated_class_dict, updated_reverse_class_dict = get_updated_class_names_class_dict_and_reverse_class_dict(updated_annotations)\n",
    "\n",
    "updated_annotations = map_updated_class_dict_to_updated_annotations(updated_annotations, updated_reverse_class_dict)\n",
    "\n",
    "len(updated_class_names), updated_class_names[:10]"
   ]
  },
  {
   "cell_type": "code",
   "execution_count": 120,
   "metadata": {},
   "outputs": [
    {
     "data": {
      "text/plain": [
       "900"
      ]
     },
     "execution_count": 120,
     "metadata": {},
     "output_type": "execute_result"
    }
   ],
   "source": [
    "# Check the difference in lengths between the original_annotations and updated_annotations\n",
    "num_differences = len(updated_annotations) - len(original_annotations)\n",
    "num_differences"
   ]
  },
  {
   "cell_type": "code",
   "execution_count": 121,
   "metadata": {},
   "outputs": [
    {
     "name": "stdout",
     "output_type": "stream",
     "text": [
      "[INFO] Exporting the following columns to updated_annotations.csv: ['filename', 'image_name', 'class_name', 'label', 'split', 'clear_or_confusing', 'whole_food_or_dish', 'one_food_or_multiple', 'label_last_updated_at', 'label_source', 'image_source']\n",
      "[INFO] 900 changes to annotations.csv, updated label files and original annotations are different, saving the updated annotations.csv\n",
      "[INFO] Uploading updated_annotations.csv to updated_annotations.csv...\n",
      "[INFO] Connected to Google Storage bucket: food_vision_bucket_with_object_versioning\n",
      "[INFO] File updated_annotations.csv uploaded to food_vision_bucket_with_object_versioning/updated_annotations.csv.\n",
      "[INFO] File size: 21333560 bytes\n",
      "[INFO] Blob annotations.csv has been renamed to old_annotations/2023-03-03_21-34-14_old_annotations.csv\n",
      "[INFO] Blob updated_annotations.csv has been renamed to annotations.csv\n",
      "[INFO] Logging 'food_vision_labels' from 'gs://food_vision_bucket_with_object_versioning/annotations.csv' to Weights & Biases...\n"
     ]
    }
   ],
   "source": [
    "# Upload the updated annotations to Google Storage and track the changes\n",
    "from utils.gcp_utils import upload_to_gs, rename_blob, delete_blob\n",
    "from utils.wandb_utils import wandb_add_artifact_with_reference\n",
    "from utils.misc import get_now_time\n",
    "import os\n",
    "\n",
    "GS_BUCKET_NAME = config.gs_bucket_name\n",
    "\n",
    "UPDATED_ANNOTATIONS_TARGET_FILENAME = \"updated_annotations.csv\"\n",
    "ORIGINAL_ANNOTATIONS_TARGET_FILENAME = \"annotations.csv\"\n",
    "\n",
    "# Export the updated annotations to a CSV\n",
    "columns_to_export = config.annotations_columns_to_export\n",
    "print(f\"[INFO] Exporting the following columns to {UPDATED_ANNOTATIONS_TARGET_FILENAME}: {columns_to_export}\")\n",
    "\n",
    "# TODO: Check if the updated_annotations_reset_index and the original_annotations actually differ, if so save them and upload them, else exit\n",
    "if num_differences > 0:\n",
    "    print(f\"[INFO] {num_differences} changes to annotations.csv, updated label files and original annotations are different, saving the updated annotations.csv\")\n",
    "\n",
    "    # Export the updated_annotations_reset_index to a csv\n",
    "    updated_annotations[columns_to_export].to_csv(UPDATED_ANNOTATIONS_TARGET_FILENAME, index=False)\n",
    "\n",
    "    # Upload the updated CSV to Google Storage\n",
    "    upload_to_gs(bucket_name=GS_BUCKET_NAME, \n",
    "                 source_file_name=UPDATED_ANNOTATIONS_TARGET_FILENAME, \n",
    "                 destination_blob_name=UPDATED_ANNOTATIONS_TARGET_FILENAME)\n",
    "\n",
    "    # Rename the old CSV on Google Storage\n",
    "    bucket_to_move_old_annotations_to = \"old_annotations\"\n",
    "    name_to_rename_old_annotations = os.path.join(bucket_to_move_old_annotations_to, f\"{get_now_time()}_old_annotations.csv\")\n",
    "\n",
    "    rename_blob(bucket_name=GS_BUCKET_NAME,\n",
    "                blob_name=ORIGINAL_ANNOTATIONS_TARGET_FILENAME,\n",
    "                new_name=name_to_rename_old_annotations)\n",
    "\n",
    "    # Rename the \"updated_annotations.csv\" on Google Storage to \"annotations.csv\" \n",
    "    rename_blob(bucket_name=GS_BUCKET_NAME,\n",
    "                blob_name=UPDATED_ANNOTATIONS_TARGET_FILENAME,\n",
    "                new_name=ORIGINAL_ANNOTATIONS_TARGET_FILENAME)\n",
    "\n",
    "    # Track the changes in the annotations with Weights & Biases\n",
    "    annotations_path_on_gcs = f\"gs://{GS_BUCKET_NAME}/{ORIGINAL_ANNOTATIONS_TARGET_FILENAME}\"\n",
    "    wandb_add_artifact_with_reference(wandb_run=run,\n",
    "                                      artifact_name=\"food_vision_labels\",\n",
    "                                      artifact_type=\"labels\",\n",
    "                                      description=\"Labels for FoodVision project\",\n",
    "                                      reference_path=annotations_path_on_gcs)\n",
    "else:\n",
    "    print(\"[INFO] No changes to annotations.csv, updated label files and original annotations are the same, try fixing/updating the label files and try again\")"
   ]
  },
  {
   "attachments": {},
   "cell_type": "markdown",
   "metadata": {},
   "source": [
    "## Upload all photos in food_photos to Google Storage"
   ]
  },
  {
   "cell_type": "code",
   "execution_count": 122,
   "metadata": {},
   "outputs": [
    {
     "name": "stdout",
     "output_type": "stream",
     "text": [
      "[INFO] There are 109409 images in the GCP bucket\n"
     ]
    }
   ],
   "source": [
    "from utils.gcp_utils import upload_to_gs, get_list_of_blobs\n",
    "\n",
    "# Get list of images already in GCP bucket\n",
    "gs_image_paths = get_list_of_blobs(bucket_name=GS_BUCKET_NAME, prefix=\"all_images\")\n",
    "print(f\"[INFO] There are {len(gs_image_paths)} images in the GCP bucket\")"
   ]
  },
  {
   "cell_type": "code",
   "execution_count": 123,
   "metadata": {},
   "outputs": [
    {
     "data": {
      "text/plain": [
       "['000226a7-5332-4f45-b0e9-6760e9bd6d3e.jpeg',\n",
       " '0003c8a1-7f64-4540-9256-3252f0981035.jpeg',\n",
       " '00045a69-b09f-4293-8c2e-a7ba27964fb6.jpg',\n",
       " '0004a23a-88b3-4aae-a1b0-c9ebe77d31b8.jpeg',\n",
       " '00065302-c0e7-4634-ab63-5ddd16bfdeb8.jpeg',\n",
       " '0008eda8-cd90-4394-bdac-aa1574f7738d.jpeg',\n",
       " '0009bea1-1577-4db5-bc60-b27eaed2d276.jpg',\n",
       " '000b5cca-0b52-452b-9a11-12c44bfaab12.jpeg',\n",
       " '000b9348-2afc-425d-91a8-765c04483a41.jpeg',\n",
       " '000bd61c-f25c-415c-8cf1-3adc2d788320.jpg']"
      ]
     },
     "execution_count": 123,
     "metadata": {},
     "output_type": "execute_result"
    }
   ],
   "source": [
    "gs_image_paths_name = [str(blob.name).split(\"/\")[-1] for blob in gs_image_paths]\n",
    "gs_image_paths_name[:10]"
   ]
  },
  {
   "cell_type": "code",
   "execution_count": 124,
   "metadata": {},
   "outputs": [
    {
     "data": {
      "text/plain": [
       "109409"
      ]
     },
     "execution_count": 124,
     "metadata": {},
     "output_type": "execute_result"
    }
   ],
   "source": [
    "len(gs_image_paths_name)"
   ]
  },
  {
   "cell_type": "code",
   "execution_count": 125,
   "metadata": {},
   "outputs": [
    {
     "name": "stdout",
     "output_type": "stream",
     "text": [
      "2023-03-04-food_photos\n"
     ]
    }
   ],
   "source": [
    "print(target_dir)"
   ]
  },
  {
   "cell_type": "code",
   "execution_count": 126,
   "metadata": {},
   "outputs": [
    {
     "name": "stdout",
     "output_type": "stream",
     "text": [
      "Copying file://2023-03-04-food_photos/almonds/004b2ffe-bf33-4694-a14e-bb1be127b69f.jpeg [Content-Type=image/jpeg]...\n",
      "Copying file://2023-03-04-food_photos/almonds/01cfd148-9f25-4f9c-a2ad-a613db055536.jpeg [Content-Type=image/jpeg]...\n",
      "Copying file://2023-03-04-food_photos/almonds/022bb17d-685c-4551-b4c2-2dafddc8ac31.jpeg [Content-Type=image/jpeg]...\n",
      "Copying file://2023-03-04-food_photos/almonds/0278f758-ba9b-43c1-ad93-55d13277f783.jpeg [Content-Type=image/jpeg]...\n",
      "Copying file://2023-03-04-food_photos/almonds/0439a887-1f2d-4f8b-93a7-2dacdc821da4.jpeg [Content-Type=image/jpeg]...\n",
      "Copying file://2023-03-04-food_photos/almonds/0464e873-1d7f-4bb4-8d39-995241264b58.jpeg [Content-Type=image/jpeg]...\n",
      "Copying file://2023-03-04-food_photos/almonds/06747748-46c8-43fc-8fca-4b8d70fd1c12.jpeg [Content-Type=image/jpeg]...\n",
      "Copying file://2023-03-04-food_photos/almonds/08cf5fda-5d7d-4d13-8dec-8bd050734f3c.jpeg [Content-Type=image/jpeg]...\n",
      "Copying file://2023-03-04-food_photos/almonds/0e568230-c8bf-432b-9782-84af9ae53593.jpeg [Content-Type=image/jpeg]...\n",
      "Copying file://2023-03-04-food_photos/almonds/0ff14594-1756-4ce5-a316-aae9f73f07c3.jpeg [Content-Type=image/jpeg]...\n",
      "Copying file://2023-03-04-food_photos/almonds/119ad9f1-d0de-462a-935b-9928ef20219c.jpeg [Content-Type=image/jpeg]...\n",
      "Copying file://2023-03-04-food_photos/almonds/13c5bdc3-b3aa-4c7a-b649-c49611ab2243.jpeg [Content-Type=image/jpeg]...\n",
      "Copying file://2023-03-04-food_photos/almonds/0b69fa2f-f9e3-4e04-a11c-5289d56a0d28.jpeg [Content-Type=image/jpeg]...\n",
      "Copying file://2023-03-04-food_photos/almonds/16b46e06-cc07-4578-96f3-0a56b2790f65.jpeg [Content-Type=image/jpeg]...\n",
      "Copying file://2023-03-04-food_photos/almonds/0d38fd02-11e6-47bc-bfcf-0bd4fecd7e2c.jpeg [Content-Type=image/jpeg]...\n",
      "Copying file://2023-03-04-food_photos/almonds/16f6db2f-71da-4c07-aa3e-44104835d8b3.jpeg [Content-Type=image/jpeg]...\n",
      "Copying file://2023-03-04-food_photos/almonds/19418f03-7b9b-464c-af53-7edce8eb5bed.jpeg [Content-Type=image/jpeg]...\n",
      "Copying file://2023-03-04-food_photos/almonds/1f2de2af-1f4a-4719-884a-80468a316da8.jpeg [Content-Type=image/jpeg]...\n",
      "Copying file://2023-03-04-food_photos/almonds/1d9eddbc-e805-43a7-86a0-cbf3fb731c92.jpeg [Content-Type=image/jpeg]...\n",
      "Copying file://2023-03-04-food_photos/almonds/1fd035bf-5c2f-4242-81ad-b46408397b5f.jpeg [Content-Type=image/jpeg]...\n",
      "Copying file://2023-03-04-food_photos/almonds/20be87a1-673b-42bd-a5d0-dd4e738ed390.jpeg [Content-Type=image/jpeg]...\n",
      "Copying file://2023-03-04-food_photos/almonds/20d31546-2fca-411c-97df-140093314b7f.jpeg [Content-Type=image/jpeg]...\n",
      "Copying file://2023-03-04-food_photos/almonds/21163881-b7f0-41af-ad48-77d0a2d50c35.jpeg [Content-Type=image/jpeg]...\n",
      "Copying file://2023-03-04-food_photos/almonds/217de80c-f9ad-42e3-a11e-c6a9fcd42374.jpeg [Content-Type=image/jpeg]...\n",
      "Copying file://2023-03-04-food_photos/almonds/219b6367-e53b-4424-ab78-168335d2c6ca.jpeg [Content-Type=image/jpeg]...\n",
      "Copying file://2023-03-04-food_photos/almonds/25cbfef3-3c8b-4de6-af45-74234a2867c2.jpeg [Content-Type=image/jpeg]...\n",
      "Copying file://2023-03-04-food_photos/almonds/26fdb475-6345-4bec-a702-7f39dc016fd9.jpeg [Content-Type=image/jpeg]...\n",
      "Copying file://2023-03-04-food_photos/almonds/1e81f452-b3d0-45a4-85bb-e72f5def7f76.jpeg [Content-Type=image/jpeg]...\n",
      "Copying file://2023-03-04-food_photos/almonds/277c3b10-bcd1-49ab-8511-110e29379b75.jpeg [Content-Type=image/jpeg]...\n",
      "Copying file://2023-03-04-food_photos/almonds/1a45a303-af83-47b5-b7a2-6810b6ef6a7e.jpeg [Content-Type=image/jpeg]...\n",
      "Copying file://2023-03-04-food_photos/almonds/2a929d91-e006-48de-9ca5-2d57b5297ee9.jpeg [Content-Type=image/jpeg]...\n",
      "Copying file://2023-03-04-food_photos/almonds/2a9a73f1-b919-44c4-ac1b-bba8fc416539.jpeg [Content-Type=image/jpeg]...\n",
      "Copying file://2023-03-04-food_photos/almonds/2bd0f1b1-42d1-4049-8dbe-1fdda57948b4.jpeg [Content-Type=image/jpeg]...\n",
      "Copying file://2023-03-04-food_photos/almonds/2cafe4ab-ec6e-483f-a193-7f02823b7290.jpeg [Content-Type=image/jpeg]...\n",
      "Copying file://2023-03-04-food_photos/almonds/31a08846-cd3a-4367-8119-7ba899d7ad20.jpeg [Content-Type=image/jpeg]...\n",
      "Copying file://2023-03-04-food_photos/almonds/3286a5a5-c8d2-4034-9491-9659d9d5608d.jpeg [Content-Type=image/jpeg]...\n",
      "Copying file://2023-03-04-food_photos/almonds/2c9933eb-1dee-4b25-aee3-8d1ca4f6d19e.jpeg [Content-Type=image/jpeg]...\n",
      "Copying file://2023-03-04-food_photos/almonds/3394f9ae-d6ce-4c10-9c6f-db6797c4d12f.jpeg [Content-Type=image/jpeg]...\n",
      "Copying file://2023-03-04-food_photos/almonds/354776e6-0c66-4bd0-8561-d6bba850ecdd.jpeg [Content-Type=image/jpeg]...\n",
      "Copying file://2023-03-04-food_photos/almonds/36881351-c033-4477-b135-f08b0395271b.jpeg [Content-Type=image/jpeg]...\n",
      "Copying file://2023-03-04-food_photos/almonds/376d16ce-2adc-4a7f-a844-19a3a6426f9c.jpeg [Content-Type=image/jpeg]...\n",
      "Copying file://2023-03-04-food_photos/almonds/38211c27-e362-48a4-a114-2b011e6a92bc.jpeg [Content-Type=image/jpeg]...\n",
      "Copying file://2023-03-04-food_photos/almonds/37aa2b44-740c-4ecb-8b56-255e883ad043.jpeg [Content-Type=image/jpeg]...\n",
      "Copying file://2023-03-04-food_photos/almonds/3856bbce-1eac-447c-ae0f-0ae7bd7946b7.jpeg [Content-Type=image/jpeg]...\n",
      "Copying file://2023-03-04-food_photos/almonds/3915f133-af80-4bc8-bf00-a79c42416d9f.jpeg [Content-Type=image/jpeg]...\n",
      "Copying file://2023-03-04-food_photos/almonds/311214a9-a974-4dd9-9ece-9444c7f11865.jpeg [Content-Type=image/jpeg]...\n",
      "Copying file://2023-03-04-food_photos/almonds/3a25b30e-dc9d-410e-bd2d-b6944ab99c82.jpeg [Content-Type=image/jpeg]...\n",
      "Copying file://2023-03-04-food_photos/almonds/3a0320e2-14b0-4ec3-a570-a9248451cbcc.jpeg [Content-Type=image/jpeg]...\n",
      "Copying file://2023-03-04-food_photos/almonds/3f8c1d44-591e-4095-8c74-deb2d02bc9ba.jpeg [Content-Type=image/jpeg]...\n",
      "Copying file://2023-03-04-food_photos/almonds/44db1006-c56a-4038-b664-ae6cbf6cd38a.jpeg [Content-Type=image/jpeg]...\n",
      "Copying file://2023-03-04-food_photos/almonds/474d939c-7fb9-4e16-b1c2-189fdb9f231e.jpeg [Content-Type=image/jpeg]...\n",
      "Copying file://2023-03-04-food_photos/almonds/48db60bc-46e8-4a80-90a8-5183b65bef4f.jpeg [Content-Type=image/jpeg]...\n",
      "Copying file://2023-03-04-food_photos/almonds/48f4692f-4879-49b6-b448-d518ef80fb3b.jpeg [Content-Type=image/jpeg]...\n",
      "Copying file://2023-03-04-food_photos/almonds/49f1f0cd-f8fb-4fc4-86f5-a384ab81befd.jpeg [Content-Type=image/jpeg]...\n",
      "Copying file://2023-03-04-food_photos/almonds/4d8d03e2-f1d7-4ec0-b145-7ffa08a473ab.jpeg [Content-Type=image/jpeg]...\n",
      "Copying file://2023-03-04-food_photos/almonds/4b823f01-5d82-454f-a9fb-efa9194c1539.jpeg [Content-Type=image/jpeg]...\n",
      "Copying file://2023-03-04-food_photos/almonds/530f9d0c-07a0-480e-95dc-3c7f5da0d80b.jpeg [Content-Type=image/jpeg]...\n",
      "Copying file://2023-03-04-food_photos/almonds/547e49f7-d876-437f-ae6a-0d67a74940d1.jpeg [Content-Type=image/jpeg]...\n",
      "Copying file://2023-03-04-food_photos/almonds/577f1189-2068-436c-9ac4-a67088a02399.jpeg [Content-Type=image/jpeg]...\n",
      "Copying file://2023-03-04-food_photos/almonds/56da78c1-5579-435a-b7be-f3798217a613.jpeg [Content-Type=image/jpeg]...\n",
      "Copying file://2023-03-04-food_photos/almonds/5760df64-e497-4d95-aa01-6fc0cedd6b8f.jpeg [Content-Type=image/jpeg]...\n",
      "Copying file://2023-03-04-food_photos/almonds/5c1a5af0-1ccf-430e-88da-50c5fd6aa750.jpeg [Content-Type=image/jpeg]...\n",
      "Copying file://2023-03-04-food_photos/almonds/5d29a2e6-4036-4918-ac6e-f7cecde93c3a.jpeg [Content-Type=image/jpeg]...\n",
      "Copying file://2023-03-04-food_photos/almonds/601cba63-d917-43e8-a7cc-a6a251aa3481.jpeg [Content-Type=image/jpeg]...\n",
      "Copying file://2023-03-04-food_photos/almonds/63c6ab68-9e4b-4528-9b6a-bdaa284753a3.jpeg [Content-Type=image/jpeg]...\n",
      "Copying file://2023-03-04-food_photos/almonds/606f8bfb-72e5-4061-a2cc-cc106922a4df.jpeg [Content-Type=image/jpeg]...\n",
      "Copying file://2023-03-04-food_photos/almonds/6a5b60d2-e34c-4efe-bc02-c169e8605040.jpeg [Content-Type=image/jpeg]...\n",
      "Copying file://2023-03-04-food_photos/almonds/6c5bdf4b-d405-42c5-b065-b6dc83c05ba0.jpeg [Content-Type=image/jpeg]...\n",
      "Copying file://2023-03-04-food_photos/almonds/6edf0a35-dc42-4796-85cd-950001ab9a3a.jpeg [Content-Type=image/jpeg]...\n",
      "Copying file://2023-03-04-food_photos/almonds/6d74a4db-7f3b-439c-801c-cf1172c24697.jpeg [Content-Type=image/jpeg]...\n",
      "Copying file://2023-03-04-food_photos/almonds/6f710a8b-0a01-4278-9bb4-f38224c76007.jpeg [Content-Type=image/jpeg]...\n",
      "Copying file://2023-03-04-food_photos/almonds/6ead5a92-99fb-49ed-86a9-298fbe74c6c5.jpeg [Content-Type=image/jpeg]...\n",
      "Copying file://2023-03-04-food_photos/almonds/6f2e1507-90e4-4df9-aa3a-c2f298936e37.jpeg [Content-Type=image/jpeg]...\n",
      "Copying file://2023-03-04-food_photos/almonds/6ef8e912-73de-45c9-b410-c8f3f9e51df2.jpeg [Content-Type=image/jpeg]...\n",
      "Copying file://2023-03-04-food_photos/almonds/68fbfa06-eb26-4914-b9d4-0e83dee736bc.jpeg [Content-Type=image/jpeg]...\n",
      "Copying file://2023-03-04-food_photos/almonds/7038402a-8af0-4dd5-9726-1bf59704cc69.jpeg [Content-Type=image/jpeg]...\n",
      "Copying file://2023-03-04-food_photos/almonds/6fa8b6c2-413e-43b8-8e93-231a477b4633.jpeg [Content-Type=image/jpeg]...\n",
      "Copying file://2023-03-04-food_photos/almonds/72a9e9e1-7f95-4ce4-85e3-60eb88e41b68.jpeg [Content-Type=image/jpeg]...\n",
      "Copying file://2023-03-04-food_photos/almonds/7323443c-08ef-460b-99cc-9a7ecc70d06e.jpeg [Content-Type=image/jpeg]...\n",
      "Copying file://2023-03-04-food_photos/almonds/734be1c6-8112-4078-b678-054bcf63aaca.jpeg [Content-Type=image/jpeg]...\n",
      "Copying file://2023-03-04-food_photos/almonds/7471b71d-7514-4a85-b4f5-a5a39c4294ca.jpeg [Content-Type=image/jpeg]...\n",
      "Copying file://2023-03-04-food_photos/almonds/74c94205-9269-4139-9029-bdb5c381d8ea.jpeg [Content-Type=image/jpeg]...\n",
      "Copying file://2023-03-04-food_photos/almonds/7a25dbdc-25e9-45d1-ab8f-730b79aec806.jpeg [Content-Type=image/jpeg]...\n",
      "Copying file://2023-03-04-food_photos/almonds/7c7ddc99-382e-41dd-91bc-7c713f9cc417.jpeg [Content-Type=image/jpeg]...\n",
      "Copying file://2023-03-04-food_photos/almonds/7d2d8990-fad9-4e0e-98d0-c37dfddacf38.jpeg [Content-Type=image/jpeg]...\n",
      "Copying file://2023-03-04-food_photos/almonds/7d708ef8-8aee-4f0f-84cc-2b4c3ab6b307.jpeg [Content-Type=image/jpeg]...\n",
      "Copying file://2023-03-04-food_photos/almonds/832ac99e-af28-4fe4-b8fd-16a62ddb5951.jpeg [Content-Type=image/jpeg]...\n",
      "Copying file://2023-03-04-food_photos/almonds/8522a4df-3060-48c1-a60a-7018f7a6782b.jpeg [Content-Type=image/jpeg]...\n",
      "Copying file://2023-03-04-food_photos/almonds/86831d3b-4dd6-4640-9a95-170ac6205cd5.jpeg [Content-Type=image/jpeg]...\n",
      "Copying file://2023-03-04-food_photos/almonds/86bcd0b3-4abb-4e8f-9cc8-ba4f4849322e.jpeg [Content-Type=image/jpeg]...\n",
      "Copying file://2023-03-04-food_photos/almonds/89172deb-3407-48c0-9df4-7dced60a6198.jpeg [Content-Type=image/jpeg]...\n",
      "Copying file://2023-03-04-food_photos/almonds/8b06e1d0-0b6c-4bc2-83c8-051fa5b8efb3.jpeg [Content-Type=image/jpeg]...\n",
      "Copying file://2023-03-04-food_photos/almonds/8ed7a54d-3b34-436e-b288-7f799d283ede.jpeg [Content-Type=image/jpeg]...\n",
      "Copying file://2023-03-04-food_photos/almonds/8eed83a9-2aac-4b36-a097-a17c17c3965f.jpeg [Content-Type=image/jpeg]...\n",
      "Copying file://2023-03-04-food_photos/almonds/8f1e10b5-0dc9-4ea9-b9e9-6472b6bd2789.jpeg [Content-Type=image/jpeg]...\n",
      "Copying file://2023-03-04-food_photos/almonds/8fcd5e1e-c460-40fd-b742-5d8a72a90ef7.jpeg [Content-Type=image/jpeg]...\n",
      "Copying file://2023-03-04-food_photos/almonds/90c7ee71-0995-4c56-bb78-390410147ae3.jpeg [Content-Type=image/jpeg]...\n",
      "Copying file://2023-03-04-food_photos/almonds/94a9375b-e07a-412c-8fa0-e9ecb42968eb.jpeg [Content-Type=image/jpeg]...\n",
      "Copying file://2023-03-04-food_photos/almonds/9613ef2d-4887-4411-8aa5-d1f6f10b5ef5.jpeg [Content-Type=image/jpeg]...\n",
      "Copying file://2023-03-04-food_photos/almonds/9795a491-f289-4a3c-8151-cdaf2658b70a.jpeg [Content-Type=image/jpeg]...\n",
      "Copying file://2023-03-04-food_photos/almonds/98b23ea5-a4c4-4104-ad07-39c5daea580f.jpeg [Content-Type=image/jpeg]...\n",
      "Copying file://2023-03-04-food_photos/almonds/9940937f-e809-4eaf-91d9-c7871e1fbf57.jpeg [Content-Type=image/jpeg]...\n",
      "Copying file://2023-03-04-food_photos/almonds/997f26e3-31e5-484d-a74a-7f03da72358b.jpeg [Content-Type=image/jpeg]...\n",
      "Copying file://2023-03-04-food_photos/almonds/99c50f3f-d419-426f-851b-b02a97c44f22.jpeg [Content-Type=image/jpeg]...\n",
      "Copying file://2023-03-04-food_photos/almonds/9b3b7da1-22c5-4cb5-96b2-1faeeba773f1.jpeg [Content-Type=image/jpeg]...\n",
      "Copying file://2023-03-04-food_photos/almonds/9c614399-0b6f-4ac2-9bdc-bc82d1f295fe.jpeg [Content-Type=image/jpeg]...\n",
      "Copying file://2023-03-04-food_photos/almonds/9e40391e-7c8e-45ab-9ebd-e0b5867e1fec.jpeg [Content-Type=image/jpeg]...\n",
      "Copying file://2023-03-04-food_photos/almonds/9f44a15a-09c5-495b-a7ad-fac68435654c.jpeg [Content-Type=image/jpeg]...\n",
      "Copying file://2023-03-04-food_photos/almonds/a5e24b42-4eb2-4eae-82a3-b3decb3958d5.jpeg [Content-Type=image/jpeg]...\n",
      "Copying file://2023-03-04-food_photos/almonds/a705e197-e1f6-4b4a-87ca-6c21372ace31.jpeg [Content-Type=image/jpeg]...\n",
      "Copying file://2023-03-04-food_photos/almonds/aa8c1baf-ce77-4e76-8f36-ffb200d380bd.jpeg [Content-Type=image/jpeg]...\n",
      "Copying file://2023-03-04-food_photos/almonds/aabe9e89-78c1-4347-b009-b7634af3915e.jpeg [Content-Type=image/jpeg]...\n",
      "Copying file://2023-03-04-food_photos/almonds/adc421df-a22d-44e9-b30e-758d1913dfd0.jpeg [Content-Type=image/jpeg]...\n",
      "Copying file://2023-03-04-food_photos/almonds/ae0eda1f-0eef-4380-b058-fc2076d3b4db.jpeg [Content-Type=image/jpeg]...\n",
      "Copying file://2023-03-04-food_photos/almonds/b0d688aa-f243-4a3a-8ba6-125120e459ee.jpeg [Content-Type=image/jpeg]...\n",
      "Copying file://2023-03-04-food_photos/almonds/b101ef0b-2d86-4131-ba1a-d482d6bae095.jpeg [Content-Type=image/jpeg]...\n",
      "Copying file://2023-03-04-food_photos/almonds/b3ab8d53-3b2c-473e-9218-e0d926416dea.jpeg [Content-Type=image/jpeg]...\n",
      "Copying file://2023-03-04-food_photos/almonds/b5e3a335-6fbe-4e5b-b972-a684f4bbd29e.jpeg [Content-Type=image/jpeg]...\n",
      "Copying file://2023-03-04-food_photos/almonds/b80c8031-1129-4e9a-8da1-58aab2be03f4.jpeg [Content-Type=image/jpeg]...\n",
      "Copying file://2023-03-04-food_photos/almonds/ba1e238f-e589-4b65-b259-ad8f0a7ad89e.jpeg [Content-Type=image/jpeg]...\n",
      "Copying file://2023-03-04-food_photos/almonds/bb455617-dde2-43ee-bc76-220e39b9bf31.jpeg [Content-Type=image/jpeg]...\n",
      "Copying file://2023-03-04-food_photos/almonds/bea99023-41f2-42d6-b606-204c6359a6a3.jpeg [Content-Type=image/jpeg]...\n",
      "Copying file://2023-03-04-food_photos/almonds/c18aba52-9c02-4e04-a20c-fb2ae2b38fad.jpeg [Content-Type=image/jpeg]...\n",
      "Copying file://2023-03-04-food_photos/almonds/c2306eba-423c-4cbb-93dc-714edd50d736.jpeg [Content-Type=image/jpeg]...\n",
      "Copying file://2023-03-04-food_photos/almonds/c2876d14-7475-4ac6-83e5-62717749f34f.jpeg [Content-Type=image/jpeg]...\n",
      "Copying file://2023-03-04-food_photos/almonds/c4194f1c-0b5f-48d3-bcc4-4ace98f9a353.jpeg [Content-Type=image/jpeg]...\n",
      "Copying file://2023-03-04-food_photos/almonds/c8952a86-1f91-45dc-9cd8-f95361b31809.jpeg [Content-Type=image/jpeg]...\n",
      "Copying file://2023-03-04-food_photos/almonds/ca41cfe9-df55-4872-92b2-b3028b21ea11.jpeg [Content-Type=image/jpeg]...\n",
      "Copying file://2023-03-04-food_photos/almonds/ccaebadd-ab3a-4d60-8a23-101477d5448b.jpeg [Content-Type=image/jpeg]...\n",
      "Copying file://2023-03-04-food_photos/almonds/ce1dbd6c-64c6-47c3-b86f-1a73ce9b87f8.jpeg [Content-Type=image/jpeg]...\n",
      "Copying file://2023-03-04-food_photos/almonds/ce821d3b-282a-4b1f-9dee-a709ec7f9f4a.jpeg [Content-Type=image/jpeg]...\n",
      "Copying file://2023-03-04-food_photos/almonds/cf6973b6-0f44-40b3-909b-d82f08ab4a16.jpeg [Content-Type=image/jpeg]...\n",
      "Copying file://2023-03-04-food_photos/almonds/cf9c313b-c85c-40e3-9176-26371d0f65e7.jpeg [Content-Type=image/jpeg]...\n",
      "Copying file://2023-03-04-food_photos/almonds/cfaf4dfd-5e18-4fe0-a4b6-6490e8a3dce0.jpeg [Content-Type=image/jpeg]...\n",
      "Copying file://2023-03-04-food_photos/almonds/d13cb9f9-fb18-4d91-98d7-84fcf8e0bddc.jpeg [Content-Type=image/jpeg]...\n",
      "Copying file://2023-03-04-food_photos/almonds/d4eb473c-45b2-4e0b-aa20-a61a6b966f55.jpeg [Content-Type=image/jpeg]...\n",
      "Copying file://2023-03-04-food_photos/almonds/d706e03b-2dad-46fe-a58b-2d03a7b416b3.jpeg [Content-Type=image/jpeg]...\n",
      "Copying file://2023-03-04-food_photos/almonds/d9ebcb98-6bb4-4f91-9e5f-b377f94214bf.jpeg [Content-Type=image/jpeg]...\n",
      "Copying file://2023-03-04-food_photos/almonds/da69cd8b-82a3-4c6c-9fdf-cf103c0f315f.jpeg [Content-Type=image/jpeg]...\n",
      "Copying file://2023-03-04-food_photos/almonds/dac8404d-b2c7-42e2-abdf-b9f51c52cae9.jpeg [Content-Type=image/jpeg]...\n",
      "Copying file://2023-03-04-food_photos/almonds/dd674926-aece-4af7-a835-08b95f5a51ad.jpeg [Content-Type=image/jpeg]...\n",
      "Copying file://2023-03-04-food_photos/almonds/ddeebbf7-625e-4976-a661-a77ec15f12fe.jpeg [Content-Type=image/jpeg]...\n",
      "Copying file://2023-03-04-food_photos/almonds/e3cd254e-258e-4a89-a662-d73bb1c927cb.jpeg [Content-Type=image/jpeg]...\n",
      "Copying file://2023-03-04-food_photos/almonds/e50e9f07-c209-481d-8e7d-7f3231e49138.jpeg [Content-Type=image/jpeg]...\n",
      "Copying file://2023-03-04-food_photos/almonds/e73a4736-242d-4ffc-a18a-c55484dec688.jpeg [Content-Type=image/jpeg]...\n",
      "Copying file://2023-03-04-food_photos/almonds/e854b049-3687-4d8c-a09f-d1aacd911382.jpeg [Content-Type=image/jpeg]...\n",
      "Copying file://2023-03-04-food_photos/almonds/e8d5346a-822d-4128-9d6b-98dffd498acc.jpeg [Content-Type=image/jpeg]...\n",
      "Copying file://2023-03-04-food_photos/almonds/e9efdf59-6c07-4473-842a-a864318e03a9.jpeg [Content-Type=image/jpeg]...\n",
      "Copying file://2023-03-04-food_photos/almonds/ebc12826-45f8-4d9c-bdf7-69a866e1bc15.jpeg [Content-Type=image/jpeg]...\n",
      "Copying file://2023-03-04-food_photos/almonds/ec6d0c21-9c62-442a-86a0-a1daee2b19f7.jpeg [Content-Type=image/jpeg]...\n",
      "Copying file://2023-03-04-food_photos/almonds/ecc81deb-e8b4-42ba-8e8f-c047c9a20b53.jpeg [Content-Type=image/jpeg]...\n",
      "Copying file://2023-03-04-food_photos/almonds/ee9899fc-3305-426a-995e-35893f66b4bd.jpeg [Content-Type=image/jpeg]...\n",
      "Copying file://2023-03-04-food_photos/almonds/f19ddd1e-e861-48f7-8279-78e8e63b6bb8.jpeg [Content-Type=image/jpeg]...\n",
      "Copying file://2023-03-04-food_photos/almonds/f32535b9-311e-4964-b410-1839d9bdbb24.jpeg [Content-Type=image/jpeg]...\n",
      "Copying file://2023-03-04-food_photos/almonds/f5e100f1-5188-4dbd-b327-d2ed8811542d.jpeg [Content-Type=image/jpeg]...\n",
      "Copying file://2023-03-04-food_photos/almonds/f8d2e62f-cc74-458d-8a8d-e9b068a6b7b7.jpeg [Content-Type=image/jpeg]...\n",
      "Copying file://2023-03-04-food_photos/almonds/fb687eee-b7bc-462a-ab5a-9d1dfdd1ba25.jpeg [Content-Type=image/jpeg]...\n",
      "Copying file://2023-03-04-food_photos/almonds/fea8d1fb-049a-4e46-9bc0-125a99d0244e.jpeg [Content-Type=image/jpeg]...\n",
      "Copying file://2023-03-04-food_photos/almonds/ff068b10-9922-4dd3-a13f-d4e674c1e96e.jpeg [Content-Type=image/jpeg]...\n",
      "Copying file://2023-03-04-food_photos/cashews/0420ccac-77b3-4bba-86b3-3ed6d26d9726.jpeg [Content-Type=image/jpeg]...\n",
      "Copying file://2023-03-04-food_photos/cashews/060ec112-a9dc-4197-968b-e8ca0f600f22.jpeg [Content-Type=image/jpeg]...\n",
      "Copying file://2023-03-04-food_photos/cashews/0752cb38-2da1-4bd2-8061-47196c100a50.jpeg [Content-Type=image/jpeg]...\n",
      "Copying file://2023-03-04-food_photos/cashews/07a4f977-15cb-4662-915e-67bacc432d52.jpeg [Content-Type=image/jpeg]...\n",
      "Copying file://2023-03-04-food_photos/cashews/0818296f-98c7-4540-a65c-58b53a2cee00.jpeg [Content-Type=image/jpeg]...\n",
      "Copying file://2023-03-04-food_photos/cashews/096ccbe8-d448-4e61-a025-fa38c409861e.jpeg [Content-Type=image/jpeg]...\n",
      "Copying file://2023-03-04-food_photos/cashews/0cbf7ce7-f289-4118-ac5a-36f29971551d.jpeg [Content-Type=image/jpeg]...\n",
      "Copying file://2023-03-04-food_photos/cashews/0848a62d-3838-4622-8f99-fb8524fa9ec3.jpeg [Content-Type=image/jpeg]...\n",
      "Copying file://2023-03-04-food_photos/cashews/0cda5b21-19c4-4c5d-b356-c406d2e6d94e.jpeg [Content-Type=image/jpeg]...\n",
      "Copying file://2023-03-04-food_photos/cashews/0f99d8cb-c956-4fac-b666-f4f451e6e65e.jpeg [Content-Type=image/jpeg]...\n",
      "Copying file://2023-03-04-food_photos/cashews/1189742c-fc38-49f6-910c-8d1304433d81.jpeg [Content-Type=image/jpeg]...\n",
      "Copying file://2023-03-04-food_photos/cashews/17ccbaaf-5368-420b-bb42-5e56b03c1b71.jpeg [Content-Type=image/jpeg]...\n",
      "Copying file://2023-03-04-food_photos/cashews/1807e95f-e9ce-47fb-8a00-e67a61c4e5f1.jpeg [Content-Type=image/jpeg]...\n",
      "Copying file://2023-03-04-food_photos/cashews/19956656-7d03-40db-96db-e17357d61f44.jpeg [Content-Type=image/jpeg]...\n",
      "Copying file://2023-03-04-food_photos/cashews/1a0e7a70-a872-4f92-9606-a2f09a644f02.jpeg [Content-Type=image/jpeg]...\n",
      "Copying file://2023-03-04-food_photos/cashews/1d35b6d4-cf55-4e92-a530-6a8e8959c870.jpeg [Content-Type=image/jpeg]...\n",
      "Copying file://2023-03-04-food_photos/cashews/1f847ead-9f3b-4a33-84f5-7b8f9806fca0.jpeg [Content-Type=image/jpeg]...\n",
      "Copying file://2023-03-04-food_photos/cashews/1fb3b752-29b5-4089-823a-73a6d8c75e0d.jpeg [Content-Type=image/jpeg]...\n",
      "Copying file://2023-03-04-food_photos/cashews/24ef8edb-7f9d-4c49-b65a-6ee9756d86e5.jpeg [Content-Type=image/jpeg]...\n",
      "Copying file://2023-03-04-food_photos/cashews/25ca4a76-f228-4aec-a0dc-e257fc659326.jpeg [Content-Type=image/jpeg]...\n",
      "Copying file://2023-03-04-food_photos/cashews/27fbc440-65cb-43d8-8e5a-639fc94d610f.jpeg [Content-Type=image/jpeg]...\n",
      "Copying file://2023-03-04-food_photos/cashews/292f949d-8cc4-4836-9c7f-003cbb79f0c9.jpeg [Content-Type=image/jpeg]...\n",
      "Copying file://2023-03-04-food_photos/cashews/2c74ef64-65ef-49dc-af5d-a0580dc35118.jpeg [Content-Type=image/jpeg]...\n",
      "Copying file://2023-03-04-food_photos/cashews/2cd3b7cb-749c-4633-83f0-9f749547e550.jpeg [Content-Type=image/jpeg]...\n",
      "Copying file://2023-03-04-food_photos/cashews/2d5413f2-3c44-4e51-8324-78fba904d206.jpeg [Content-Type=image/jpeg]...\n",
      "Copying file://2023-03-04-food_photos/cashews/2e46479a-6e84-4d75-9030-29168a2bdc1c.jpeg [Content-Type=image/jpeg]...\n",
      "Copying file://2023-03-04-food_photos/cashews/31dc6c8a-54bb-4d9d-92dc-247472e54182.jpeg [Content-Type=image/jpeg]...\n",
      "Copying file://2023-03-04-food_photos/cashews/31e0d3e5-ed8e-4194-a7cd-35a06efe1930.jpeg [Content-Type=image/jpeg]...\n",
      "Copying file://2023-03-04-food_photos/cashews/32b5a2e5-e36d-4f90-a91d-4579a852663e.jpeg [Content-Type=image/jpeg]...\n",
      "Copying file://2023-03-04-food_photos/cashews/33016ac1-6156-47aa-8f24-3f6b7b79312c.jpeg [Content-Type=image/jpeg]...\n",
      "Copying file://2023-03-04-food_photos/cashews/33bb2e58-3024-4eba-bb87-ccf16fe6fb4a.jpeg [Content-Type=image/jpeg]...\n",
      "Copying file://2023-03-04-food_photos/cashews/341e5963-1744-4aa6-bb9f-c831991dbcaf.jpeg [Content-Type=image/jpeg]...\n",
      "Copying file://2023-03-04-food_photos/cashews/35426fa4-4c0a-4c86-8321-059eca989025.jpeg [Content-Type=image/jpeg]...\n",
      "Copying file://2023-03-04-food_photos/cashews/3700662d-be1f-4d40-8a1d-5a0a8be20246.jpeg [Content-Type=image/jpeg]...\n",
      "Copying file://2023-03-04-food_photos/cashews/37b7d92c-612c-42d9-b8d8-79a8a4296835.jpeg [Content-Type=image/jpeg]...\n",
      "Copying file://2023-03-04-food_photos/cashews/38a827d7-8372-4f88-9768-5db2cc26a284.jpeg [Content-Type=image/jpeg]...\n",
      "Copying file://2023-03-04-food_photos/cashews/398dc45a-a1a4-44b2-9fa7-06152770da12.jpeg [Content-Type=image/jpeg]...\n",
      "Copying file://2023-03-04-food_photos/cashews/3c11b389-a5ae-483a-8591-197ea911d0de.jpeg [Content-Type=image/jpeg]...\n",
      "Copying file://2023-03-04-food_photos/cashews/3edbbd48-f791-4ff3-9f9e-91e4e6e9f3a0.jpeg [Content-Type=image/jpeg]...\n",
      "Copying file://2023-03-04-food_photos/cashews/3f436726-1405-4bc0-8570-c44c10dedc57.jpeg [Content-Type=image/jpeg]...\n",
      "Copying file://2023-03-04-food_photos/cashews/40a85b1c-b8ee-4849-a2df-4995b98dd104.jpeg [Content-Type=image/jpeg]...\n",
      "Copying file://2023-03-04-food_photos/cashews/43685b70-cd42-45ed-939e-5f1e600edb79.jpeg [Content-Type=image/jpeg]...\n",
      "Copying file://2023-03-04-food_photos/cashews/4acefa85-53cb-4387-9898-a9b6efa1714b.jpeg [Content-Type=image/jpeg]...\n",
      "Copying file://2023-03-04-food_photos/cashews/5036a1fd-e2bc-406d-a9ff-f476e0040e5f.jpeg [Content-Type=image/jpeg]...\n",
      "Copying file://2023-03-04-food_photos/cashews/50675aa0-b82e-4aab-b2b5-42ac44e00392.jpeg [Content-Type=image/jpeg]...\n",
      "Copying file://2023-03-04-food_photos/cashews/523e59de-3af1-40f9-811d-a9537c42917e.jpeg [Content-Type=image/jpeg]...\n",
      "Copying file://2023-03-04-food_photos/cashews/52782273-64dc-4205-8e31-7167c0f9e9a6.jpeg [Content-Type=image/jpeg]...\n",
      "Copying file://2023-03-04-food_photos/cashews/5b9ea9e2-3459-42ab-a402-9ea3ea982e4b.jpeg [Content-Type=image/jpeg]...\n",
      "Copying file://2023-03-04-food_photos/cashews/5bf97382-d7cd-47f6-b5ac-80f2f7fd3163.jpeg [Content-Type=image/jpeg]...\n",
      "Copying file://2023-03-04-food_photos/cashews/629a7094-b33f-4ba4-881d-4003898dbe8e.jpeg [Content-Type=image/jpeg]...\n",
      "Copying file://2023-03-04-food_photos/cashews/63a23c57-6283-469d-97fc-7c310df87b4a.jpeg [Content-Type=image/jpeg]...\n",
      "Copying file://2023-03-04-food_photos/cashews/63aee1d9-f7cf-4e4a-b07b-40830bfe4c95.jpeg [Content-Type=image/jpeg]...\n",
      "Copying file://2023-03-04-food_photos/cashews/6511f3e3-5143-4058-aef3-7c0017538c27.jpeg [Content-Type=image/jpeg]...\n",
      "Copying file://2023-03-04-food_photos/cashews/657e4186-4469-437f-bf17-6d3b99612c31.jpeg [Content-Type=image/jpeg]...\n",
      "Copying file://2023-03-04-food_photos/cashews/66e2d692-586c-4ca9-bd68-e964576ac204.jpeg [Content-Type=image/jpeg]...\n",
      "Copying file://2023-03-04-food_photos/cashews/681331d0-7d76-4597-a5b8-40bc46e29cd9.jpeg [Content-Type=image/jpeg]...\n",
      "Copying file://2023-03-04-food_photos/cashews/6a0f52ab-f06f-4165-963a-bb438fa6b7f2.jpeg [Content-Type=image/jpeg]...\n",
      "Copying file://2023-03-04-food_photos/cashews/6a48ad8e-b7ac-4ede-ac9a-4f390096e8f0.jpeg [Content-Type=image/jpeg]...\n",
      "Copying file://2023-03-04-food_photos/cashews/6b0ac6d9-bbb2-4eeb-9724-cfe877221745.jpeg [Content-Type=image/jpeg]...\n",
      "Copying file://2023-03-04-food_photos/cashews/6bc6cba1-563b-4948-bba2-a98935c7f508.jpeg [Content-Type=image/jpeg]...\n",
      "Copying file://2023-03-04-food_photos/cashews/6c5b7fb5-8a33-4110-a555-623a07bf067b.jpeg [Content-Type=image/jpeg]...\n",
      "Copying file://2023-03-04-food_photos/cashews/6d41fee2-c152-4309-9d93-0d73aa805bae.jpeg [Content-Type=image/jpeg]...\n",
      "Copying file://2023-03-04-food_photos/cashews/6e99140d-2bce-4d1d-afd5-00ca1b6cb899.jpeg [Content-Type=image/jpeg]...\n",
      "Copying file://2023-03-04-food_photos/cashews/6f17ba0b-b85a-4a96-92b0-5b8db0d6e881.jpeg [Content-Type=image/jpeg]...\n",
      "Copying file://2023-03-04-food_photos/cashews/6f33755c-e908-4aa1-bd05-2699466fd7d2.jpeg [Content-Type=image/jpeg]...\n",
      "Copying file://2023-03-04-food_photos/cashews/710bc370-e8ce-4df0-94d6-b6c12f7306b9.jpeg [Content-Type=image/jpeg]...\n",
      "Copying file://2023-03-04-food_photos/cashews/71af5292-145b-46b6-b929-8835d28df724.jpeg [Content-Type=image/jpeg]...\n",
      "Copying file://2023-03-04-food_photos/cashews/735f84b8-5ae7-42e2-9bb6-28b156fe3229.jpeg [Content-Type=image/jpeg]...\n",
      "Copying file://2023-03-04-food_photos/cashews/73645388-2ffd-4f2f-b8d0-0586c84e4988.jpeg [Content-Type=image/jpeg]...\n",
      "Copying file://2023-03-04-food_photos/cashews/7524b34a-c1ec-46c1-a8ca-5c0f14949496.jpeg [Content-Type=image/jpeg]...\n",
      "Copying file://2023-03-04-food_photos/cashews/75db6528-3b83-4858-a64d-b6561e47d191.jpeg [Content-Type=image/jpeg]...\n",
      "Copying file://2023-03-04-food_photos/cashews/78a5eb41-c642-4850-bfc5-60866c1322ea.jpeg [Content-Type=image/jpeg]...\n",
      "Copying file://2023-03-04-food_photos/cashews/7a8c5eb6-f73e-4e46-aba3-c18ec5de34ee.jpeg [Content-Type=image/jpeg]...\n",
      "Copying file://2023-03-04-food_photos/cashews/7b1789b6-af7b-41f5-9dfc-9ab379d2436e.jpeg [Content-Type=image/jpeg]...\n",
      "Copying file://2023-03-04-food_photos/cashews/7c3ce8a3-7cc8-4b97-9ed4-69b749e6d638.jpeg [Content-Type=image/jpeg]...\n",
      "Copying file://2023-03-04-food_photos/cashews/7cd8e808-3470-40df-89fa-4ab7830875af.jpeg [Content-Type=image/jpeg]...\n",
      "Copying file://2023-03-04-food_photos/cashews/7d2db223-dfb9-4a20-9941-821faab757d8.jpeg [Content-Type=image/jpeg]...\n",
      "Copying file://2023-03-04-food_photos/cashews/7df8c5e3-489e-4994-9a91-d31c612c16bf.jpeg [Content-Type=image/jpeg]...\n",
      "Copying file://2023-03-04-food_photos/cashews/7e3a55fb-a307-44b6-a556-a35e38cd0b56.jpeg [Content-Type=image/jpeg]...\n",
      "Copying file://2023-03-04-food_photos/cashews/7e6e9842-9b79-4ce1-9299-e4757b1281d6.jpeg [Content-Type=image/jpeg]...\n",
      "Copying file://2023-03-04-food_photos/cashews/7e70f592-1db8-43f1-885f-a139e909dc0d.jpeg [Content-Type=image/jpeg]...\n",
      "Copying file://2023-03-04-food_photos/cashews/85bea3bf-4bb0-4247-b391-c4cc0ee27678.jpeg [Content-Type=image/jpeg]...\n",
      "Copying file://2023-03-04-food_photos/cashews/867c8b90-e02d-4d85-a7d5-48ba24f1ea6a.jpeg [Content-Type=image/jpeg]...\n",
      "Copying file://2023-03-04-food_photos/cashews/87351146-11c6-48fd-b720-eff9b5000a8f.jpeg [Content-Type=image/jpeg]...\n",
      "Copying file://2023-03-04-food_photos/cashews/8a0508e3-4a73-4b3c-96ef-d0400c1a3990.jpeg [Content-Type=image/jpeg]...\n",
      "Copying file://2023-03-04-food_photos/cashews/8ced4580-f0fa-47e4-86a2-4be31059e048.jpeg [Content-Type=image/jpeg]...\n",
      "Copying file://2023-03-04-food_photos/cashews/8d006d3b-47ef-464f-82ae-33b4703138c8.jpeg [Content-Type=image/jpeg]...\n",
      "Copying file://2023-03-04-food_photos/cashews/8d71150a-b5ce-4222-9e20-c08e5590dfc2.jpeg [Content-Type=image/jpeg]...\n",
      "Copying file://2023-03-04-food_photos/cashews/9060884e-421f-4692-860a-e32d4b82532e.jpeg [Content-Type=image/jpeg]...\n",
      "Copying file://2023-03-04-food_photos/cashews/90858daf-804a-4cce-b227-f34cbc739b90.jpeg [Content-Type=image/jpeg]...\n",
      "Copying file://2023-03-04-food_photos/cashews/92c0c727-ee4b-42eb-8a6e-649b5c2a5104.jpeg [Content-Type=image/jpeg]...\n",
      "Copying file://2023-03-04-food_photos/cashews/9340a8de-b4c3-42fa-86c7-59597f310c55.jpeg [Content-Type=image/jpeg]...\n",
      "Copying file://2023-03-04-food_photos/cashews/938345f7-3bf1-4da2-8273-17fa28b2e311.jpeg [Content-Type=image/jpeg]...\n",
      "Copying file://2023-03-04-food_photos/cashews/96d9543c-d2ad-4f0d-9e7c-7a4ef9b6d873.jpeg [Content-Type=image/jpeg]...\n",
      "Copying file://2023-03-04-food_photos/cashews/975db0a2-9b77-4dee-8bc9-5e3a97bf0fc8.jpeg [Content-Type=image/jpeg]...\n",
      "Copying file://2023-03-04-food_photos/cashews/9765534b-ec5a-452c-b6ff-6b3392345cbc.jpeg [Content-Type=image/jpeg]...\n",
      "Copying file://2023-03-04-food_photos/cashews/9906b5dd-d842-4085-b2b9-40906bf2d844.jpeg [Content-Type=image/jpeg]...\n",
      "Copying file://2023-03-04-food_photos/cashews/994a8f8f-b1ce-4e5b-8970-d32319e642c2.jpeg [Content-Type=image/jpeg]...\n",
      "Copying file://2023-03-04-food_photos/cashews/9a97a8a3-0bdf-439a-b5ee-cc89a3e7c54b.jpeg [Content-Type=image/jpeg]...\n",
      "Copying file://2023-03-04-food_photos/cashews/9dd2456c-a0e5-4f1a-9b66-dc48b94c72db.jpeg [Content-Type=image/jpeg]...\n",
      "Copying file://2023-03-04-food_photos/cashews/9e54f3e5-babe-47df-a2ab-557cab21ce97.jpeg [Content-Type=image/jpeg]...\n",
      "Copying file://2023-03-04-food_photos/cashews/9f78c510-1169-4af7-93d7-1ec29501cea3.jpeg [Content-Type=image/jpeg]...\n",
      "Copying file://2023-03-04-food_photos/cashews/a2b4dcfe-dcd3-4c17-b048-98980fb3b996.jpeg [Content-Type=image/jpeg]...\n",
      "Copying file://2023-03-04-food_photos/cashews/a2feb4f6-896e-45c4-8b4c-21329be9c8ea.jpeg [Content-Type=image/jpeg]...\n",
      "Copying file://2023-03-04-food_photos/cashews/a314568c-12ec-4a6a-a834-76106653207d.jpeg [Content-Type=image/jpeg]...\n",
      "Copying file://2023-03-04-food_photos/cashews/a38413a7-9fbe-4801-9a81-abd0dd594cb9.jpeg [Content-Type=image/jpeg]...\n",
      "Copying file://2023-03-04-food_photos/cashews/a384cfbb-1b3b-4447-b795-e0a182033d29.jpeg [Content-Type=image/jpeg]...\n",
      "Copying file://2023-03-04-food_photos/cashews/a39bd797-165b-4cab-a6cb-2a26af1147b1.jpeg [Content-Type=image/jpeg]...\n",
      "Copying file://2023-03-04-food_photos/cashews/a5789b71-15c3-427e-93b4-f005fb693350.jpeg [Content-Type=image/jpeg]...\n",
      "Copying file://2023-03-04-food_photos/cashews/a5d4f4b4-e0f4-433f-8105-822270965d63.jpeg [Content-Type=image/jpeg]...\n",
      "Copying file://2023-03-04-food_photos/cashews/a719e007-9e54-4644-bd53-9ce6b6a76d81.jpeg [Content-Type=image/jpeg]...\n",
      "Copying file://2023-03-04-food_photos/cashews/a75a1f0e-da2d-47a5-a814-21134db930de.jpeg [Content-Type=image/jpeg]...\n",
      "Copying file://2023-03-04-food_photos/cashews/a771f5e1-c9ce-492d-a288-10153d7f6f2a.jpeg [Content-Type=image/jpeg]...\n",
      "Copying file://2023-03-04-food_photos/cashews/a942d4ea-cd46-4dbf-b674-727172725216.jpeg [Content-Type=image/jpeg]...\n",
      "Copying file://2023-03-04-food_photos/cashews/a96414ca-6fba-48e4-a3e6-4032fb460aff.jpeg [Content-Type=image/jpeg]...\n",
      "Copying file://2023-03-04-food_photos/cashews/adeb01f4-06fe-4a49-8de3-e4f78805eb76.jpeg [Content-Type=image/jpeg]...\n",
      "Copying file://2023-03-04-food_photos/cashews/ae0f3dbc-28da-4057-9f40-511a1095cf81.jpeg [Content-Type=image/jpeg]...\n",
      "Copying file://2023-03-04-food_photos/cashews/b034832d-a602-42e2-88b3-801ea207a9e0.jpeg [Content-Type=image/jpeg]...\n",
      "Copying file://2023-03-04-food_photos/cashews/b14f1fa6-fae7-461f-a3e7-36b92d5d68ac.jpeg [Content-Type=image/jpeg]...\n",
      "Copying file://2023-03-04-food_photos/cashews/b3912f96-bf8f-4a58-836e-2286343ea06e.jpeg [Content-Type=image/jpeg]...\n",
      "Copying file://2023-03-04-food_photos/cashews/b3d9aa50-e314-46ac-849c-3ea9de545218.jpeg [Content-Type=image/jpeg]...\n",
      "Copying file://2023-03-04-food_photos/cashews/b413d37b-2017-446e-aa5e-7931796f4fe9.jpeg [Content-Type=image/jpeg]...\n",
      "Copying file://2023-03-04-food_photos/cashews/b4358aaa-9675-45f6-8081-43b9928a2bda.jpeg [Content-Type=image/jpeg]...\n",
      "Copying file://2023-03-04-food_photos/cashews/b7ca43c7-b28d-404b-914f-51fe03e0d891.jpeg [Content-Type=image/jpeg]...\n",
      "Copying file://2023-03-04-food_photos/cashews/b8b24e9c-64d2-4a53-b7a9-679226284903.jpeg [Content-Type=image/jpeg]...\n",
      "Copying file://2023-03-04-food_photos/cashews/b93ef55f-a113-4762-b531-59da4f38d87d.jpeg [Content-Type=image/jpeg]...\n",
      "Copying file://2023-03-04-food_photos/cashews/ba85377a-26ea-48a3-94f6-e90735504a58.jpeg [Content-Type=image/jpeg]...\n",
      "Copying file://2023-03-04-food_photos/cashews/bac5924c-5102-4cea-8227-ba3e3613bece.jpeg [Content-Type=image/jpeg]...\n",
      "Copying file://2023-03-04-food_photos/cashews/bd4b4aeb-b28f-4f15-9511-bea57857b4f7.jpeg [Content-Type=image/jpeg]...\n",
      "Copying file://2023-03-04-food_photos/cashews/bd4ff2c0-2eeb-4606-9256-4155dde1d05d.jpeg [Content-Type=image/jpeg]...\n",
      "Copying file://2023-03-04-food_photos/cashews/bf4a0785-ebea-4a61-b2b2-b9d77d229241.jpeg [Content-Type=image/jpeg]...\n",
      "Copying file://2023-03-04-food_photos/cashews/c089194f-94e8-4a93-b23d-5977991be69d.jpeg [Content-Type=image/jpeg]...\n",
      "Copying file://2023-03-04-food_photos/cashews/c091fe96-f109-4eb8-8f81-0e473bf641c5.jpeg [Content-Type=image/jpeg]...\n",
      "Copying file://2023-03-04-food_photos/cashews/c0938c84-c76c-4933-b017-76edc6b42864.jpeg [Content-Type=image/jpeg]...\n",
      "Copying file://2023-03-04-food_photos/cashews/c1bbd8a2-1d38-48a9-bb7d-2905a915e362.jpeg [Content-Type=image/jpeg]...\n",
      "Copying file://2023-03-04-food_photos/cashews/c235c7f3-9834-47f3-9847-89eb5caf9ee6.jpeg [Content-Type=image/jpeg]...\n",
      "Copying file://2023-03-04-food_photos/cashews/c29daca1-04c6-4cdd-b6f1-5ddf7366cf7f.jpeg [Content-Type=image/jpeg]...\n",
      "Copying file://2023-03-04-food_photos/cashews/c32eb948-06bc-4823-b220-4843992a231b.jpeg [Content-Type=image/jpeg]...\n",
      "Copying file://2023-03-04-food_photos/cashews/c6cb7ef0-e777-42b4-b98c-9ce1f203b512.jpeg [Content-Type=image/jpeg]...\n",
      "Copying file://2023-03-04-food_photos/cashews/ca8f896b-1573-4cd9-8270-1a9f5a9c1e45.jpeg [Content-Type=image/jpeg]...\n",
      "Copying file://2023-03-04-food_photos/cashews/cbd22893-b3ea-43f8-9a53-5acd196625c7.jpeg [Content-Type=image/jpeg]...\n",
      "Copying file://2023-03-04-food_photos/cashews/d06862f4-9949-47b0-8e3c-49ad2b703579.jpeg [Content-Type=image/jpeg]...\n",
      "Copying file://2023-03-04-food_photos/cashews/d1d1395d-43b7-4cb4-bdd2-14565af95406.jpeg [Content-Type=image/jpeg]...\n",
      "Copying file://2023-03-04-food_photos/cashews/d72e6b8c-80c7-4e83-afba-26b03ad24387.jpeg [Content-Type=image/jpeg]...\n",
      "Copying file://2023-03-04-food_photos/cashews/d8599dca-b80a-460f-995e-32766d6845b3.jpeg [Content-Type=image/jpeg]...\n",
      "Copying file://2023-03-04-food_photos/cashews/d877048c-d6dc-4e1d-ac5b-d302b419ff70.jpeg [Content-Type=image/jpeg]...\n",
      "Copying file://2023-03-04-food_photos/cashews/d9758412-7108-45cb-8c83-7e8fd2c94cf0.jpeg [Content-Type=image/jpeg]...\n",
      "Copying file://2023-03-04-food_photos/cashews/d9bc39b5-f9b1-4f95-8040-c176f6856dec.jpeg [Content-Type=image/jpeg]...\n",
      "Copying file://2023-03-04-food_photos/cashews/db46ce63-1efc-469c-950f-a3ca428fd8ed.jpeg [Content-Type=image/jpeg]...\n",
      "Copying file://2023-03-04-food_photos/cashews/dbab43a4-e90b-4f13-a2f9-fa166d6373fa.jpeg [Content-Type=image/jpeg]...\n",
      "Copying file://2023-03-04-food_photos/cashews/dc9b02ff-9e9d-45f0-a880-8a0f022c129c.jpeg [Content-Type=image/jpeg]...\n",
      "Copying file://2023-03-04-food_photos/cashews/e0c5e436-745f-4e2a-8d95-e3c96162c76e.jpeg [Content-Type=image/jpeg]...\n",
      "Copying file://2023-03-04-food_photos/cashews/e10bffe3-3908-461b-a421-795fe4c1d9f4.jpeg [Content-Type=image/jpeg]...\n",
      "Copying file://2023-03-04-food_photos/cashews/e78a674d-ba26-47e2-8898-dc4284f711aa.jpeg [Content-Type=image/jpeg]...\n",
      "Copying file://2023-03-04-food_photos/cashews/e794caa4-1691-42cf-8fb1-3c0779e1b5fa.jpeg [Content-Type=image/jpeg]...\n",
      "Copying file://2023-03-04-food_photos/cashews/e84adacc-c2ae-468b-be94-a04002ec2369.jpeg [Content-Type=image/jpeg]...\n",
      "Copying file://2023-03-04-food_photos/cashews/e8da48cb-a0b0-4a0d-9058-7a4f505c3aeb.jpeg [Content-Type=image/jpeg]...\n",
      "Copying file://2023-03-04-food_photos/cashews/e92793bf-da3f-4fb5-8bb4-cd50e37fc337.jpeg [Content-Type=image/jpeg]...\n",
      "Copying file://2023-03-04-food_photos/cashews/e94571e2-7dff-4247-9032-0ec06b9d7126.jpeg [Content-Type=image/jpeg]...\n",
      "Copying file://2023-03-04-food_photos/cashews/eac950a9-2ace-4384-9732-1f7130df4ad9.jpeg [Content-Type=image/jpeg]...\n",
      "Copying file://2023-03-04-food_photos/cashews/eb00e102-f92e-4ef8-9461-1eed1b4cde3b.jpeg [Content-Type=image/jpeg]...\n",
      "Copying file://2023-03-04-food_photos/cashews/eb2bb5d4-2100-428c-8514-5913e4c2fa5d.jpeg [Content-Type=image/jpeg]...\n",
      "Copying file://2023-03-04-food_photos/cashews/ebcfa29a-1964-4ca4-bddd-0ffb726fb6ac.jpeg [Content-Type=image/jpeg]...\n",
      "Copying file://2023-03-04-food_photos/cashews/ed8a48e4-060c-4a24-a42d-973e9d8b6d09.jpeg [Content-Type=image/jpeg]...\n",
      "Copying file://2023-03-04-food_photos/cashews/ee4298c8-2ccd-4ecf-a85b-36a12ec3a496.jpeg [Content-Type=image/jpeg]...\n",
      "Copying file://2023-03-04-food_photos/cashews/ee48e9a4-6a36-4513-b0f2-50170f3dbe64.jpeg [Content-Type=image/jpeg]...\n",
      "Copying file://2023-03-04-food_photos/cashews/eea5600b-aa7b-4b38-b353-908572b8498f.jpeg [Content-Type=image/jpeg]...\n",
      "Copying file://2023-03-04-food_photos/cashews/f2801fbf-122a-4e7c-ab38-6e496df2b470.jpeg [Content-Type=image/jpeg]...\n",
      "Copying file://2023-03-04-food_photos/cashews/f3dab2e0-25b2-4d33-8f1f-bdcd928ae861.jpeg [Content-Type=image/jpeg]...\n",
      "Copying file://2023-03-04-food_photos/cashews/f532a45e-5d0e-4e64-94b8-1939eaa2de0e.jpeg [Content-Type=image/jpeg]...\n",
      "Copying file://2023-03-04-food_photos/cashews/f7020d39-ea54-414a-84e8-19b2b477a7ca.jpeg [Content-Type=image/jpeg]...\n",
      "Copying file://2023-03-04-food_photos/cashews/fa103dc3-c501-415b-abe5-e4907b10db52.jpeg [Content-Type=image/jpeg]...\n",
      "Copying file://2023-03-04-food_photos/cashews/fa6a4ca4-186b-4926-a03f-84721ff4a527.jpeg [Content-Type=image/jpeg]...\n",
      "Copying file://2023-03-04-food_photos/cashews/fb96dde1-9665-4ec8-904b-ca7065cfb5a4.jpeg [Content-Type=image/jpeg]...\n",
      "Copying file://2023-03-04-food_photos/cashews/fc222953-d0c8-4da6-a3a4-86a6df256105.jpeg [Content-Type=image/jpeg]...\n",
      "Copying file://2023-03-04-food_photos/cashews/fee5a42d-2a8e-48ef-b0df-2ce95e735572.jpeg [Content-Type=image/jpeg]...\n",
      "Copying file://2023-03-04-food_photos/cashews/ff51025a-b936-46ca-b0e7-16be3c53f7d8.jpeg [Content-Type=image/jpeg]...\n",
      "Copying file://2023-03-04-food_photos/macadamia/78b08628-75e2-4715-ba46-570eaeb1dc3d.jpeg [Content-Type=image/jpeg]...\n",
      "Copying file://2023-03-04-food_photos/macadamia/9d20fbb3-f7f4-4a14-999b-24a19103c008.jpeg [Content-Type=image/jpeg]...\n",
      "Copying file://2023-03-04-food_photos/macadamia/af18c02a-171b-4b52-8f36-9c0f54972e1e.jpeg [Content-Type=image/jpeg]...\n",
      "Copying file://2023-03-04-food_photos/macadamia/d041fc31-5d69-499a-a697-572cbd5b8575.jpeg [Content-Type=image/jpeg]...\n",
      "Copying file://2023-03-04-food_photos/macadamia/da455e2a-40d5-430b-bfed-13d51335db2a.jpeg [Content-Type=image/jpeg]...\n",
      "Copying file://2023-03-04-food_photos/peanuts/04d6d403-bd64-4919-aa97-8cf4394023fb.jpeg [Content-Type=image/jpeg]...\n",
      "Copying file://2023-03-04-food_photos/peanuts/11168041-8d67-40fd-bcf7-732b70ec4988.jpeg [Content-Type=image/jpeg]...\n",
      "Copying file://2023-03-04-food_photos/peanuts/6e237cb0-2e3a-4f14-ac05-8b64f2b69a9d.jpeg [Content-Type=image/jpeg]...\n",
      "Copying file://2023-03-04-food_photos/peanuts/c159f2ac-44a9-49a5-80d1-1e83c7df3a0c.jpeg [Content-Type=image/jpeg]...\n",
      "Copying file://2023-03-04-food_photos/pecans/006e289f-3f68-4ca3-92e3-608a10a41a96.jpeg [Content-Type=image/jpeg]...\n",
      "Copying file://2023-03-04-food_photos/pecans/0102dd4d-4abe-4ff6-ad5b-4cbe6b824ec0.jpeg [Content-Type=image/jpeg]...\n",
      "Copying file://2023-03-04-food_photos/pecans/027f0d71-afac-43ab-a89a-ab1859a1d4cf.jpeg [Content-Type=image/jpeg]...\n",
      "Copying file://2023-03-04-food_photos/pecans/04038412-cf6b-470a-a201-a5aa451c3336.jpeg [Content-Type=image/jpeg]...\n",
      "Copying file://2023-03-04-food_photos/pecans/04117b9c-2f3c-4fc6-a3a7-24df1dc5f274.jpeg [Content-Type=image/jpeg]...\n",
      "Copying file://2023-03-04-food_photos/pecans/042a0142-332d-4435-8ec3-152e59703e1e.jpeg [Content-Type=image/jpeg]...\n",
      "Copying file://2023-03-04-food_photos/pecans/044196fe-ef4a-43a6-8391-5e2ae674eec2.jpeg [Content-Type=image/jpeg]...\n",
      "Copying file://2023-03-04-food_photos/pecans/049c6bc4-0dd4-4b1a-95e8-32c6db80fb1e.jpeg [Content-Type=image/jpeg]...\n",
      "Copying file://2023-03-04-food_photos/pecans/05eea37d-61db-4c6d-9842-2ad246067b6d.jpeg [Content-Type=image/jpeg]...\n",
      "Copying file://2023-03-04-food_photos/pecans/07f393bb-5006-4d05-8cdd-4b83ac5949c5.jpeg [Content-Type=image/jpeg]...\n",
      "Copying file://2023-03-04-food_photos/pecans/0a601f21-961a-4e0e-a06e-2acc0f717299.jpeg [Content-Type=image/jpeg]...\n",
      "Copying file://2023-03-04-food_photos/pecans/0d800ff3-486e-4a1d-a8df-4c2d0dd7909a.jpeg [Content-Type=image/jpeg]...\n",
      "Copying file://2023-03-04-food_photos/pecans/0ea18b3b-6f9c-4aef-9e54-a521f4a0f54b.jpeg [Content-Type=image/jpeg]...\n",
      "Copying file://2023-03-04-food_photos/pecans/0f14e455-44d7-40a7-a415-4bbd63e53268.jpeg [Content-Type=image/jpeg]...\n",
      "Copying file://2023-03-04-food_photos/pecans/10ff6f8d-2044-46f7-be3c-a4bd0296db6a.jpeg [Content-Type=image/jpeg]...\n",
      "Copying file://2023-03-04-food_photos/pecans/131e2a5c-192d-485a-a203-de2f9649eb8b.jpeg [Content-Type=image/jpeg]...\n",
      "Copying file://2023-03-04-food_photos/pecans/13779711-afe6-4c86-b761-4f0cd252c9df.jpeg [Content-Type=image/jpeg]...\n",
      "Copying file://2023-03-04-food_photos/pecans/15d532e7-fba3-4a8f-b78b-e5b364f4e060.jpeg [Content-Type=image/jpeg]...\n",
      "Copying file://2023-03-04-food_photos/pecans/1677da02-ca61-49d3-815f-c5767a96fb21.jpeg [Content-Type=image/jpeg]...\n",
      "Copying file://2023-03-04-food_photos/pecans/188907c6-d3b8-465e-9e01-62369b68a8b5.jpeg [Content-Type=image/jpeg]...\n",
      "Copying file://2023-03-04-food_photos/pecans/191671a7-b3bc-454e-ae26-b2dbd3ec2662.jpeg [Content-Type=image/jpeg]...\n",
      "Copying file://2023-03-04-food_photos/pecans/1a417f2b-0250-4538-b673-cc8fa382476c.jpeg [Content-Type=image/jpeg]...\n",
      "Copying file://2023-03-04-food_photos/pecans/1b6581a8-df7d-487d-9761-8236f2939a39.jpeg [Content-Type=image/jpeg]...\n",
      "Copying file://2023-03-04-food_photos/pecans/1ce45eb0-08a8-4e66-ad2f-704aa74e2ffd.jpeg [Content-Type=image/jpeg]...\n",
      "Copying file://2023-03-04-food_photos/pecans/1fc19042-c4e7-41c7-9653-9c4b373198c9.jpeg [Content-Type=image/jpeg]...\n",
      "Copying file://2023-03-04-food_photos/pecans/2017adcf-e4a2-4b0a-be2c-5c4842f2c69e.jpeg [Content-Type=image/jpeg]...\n",
      "Copying file://2023-03-04-food_photos/pecans/20a63bad-2663-4065-b0a3-c471ead9e5d5.jpeg [Content-Type=image/jpeg]...\n",
      "Copying file://2023-03-04-food_photos/pecans/2199765e-839d-45cc-a3df-350795930afb.jpeg [Content-Type=image/jpeg]...\n",
      "Copying file://2023-03-04-food_photos/pecans/23097d8d-77cf-4a10-abe1-a5211a138b1a.jpeg [Content-Type=image/jpeg]...\n",
      "Copying file://2023-03-04-food_photos/pecans/234c9431-6946-4b5c-a2b0-1f9e5f7b77a2.jpeg [Content-Type=image/jpeg]...\n",
      "Copying file://2023-03-04-food_photos/pecans/23dcc9d4-31a3-4239-b321-bedaec4ef735.jpeg [Content-Type=image/jpeg]...\n",
      "Copying file://2023-03-04-food_photos/pecans/279c714d-0da5-4552-9c44-4ef33b01c707.jpeg [Content-Type=image/jpeg]...\n",
      "Copying file://2023-03-04-food_photos/pecans/2d7918c4-6c1c-43f5-802a-fa9665afacb6.jpeg [Content-Type=image/jpeg]...\n",
      "Copying file://2023-03-04-food_photos/pecans/30955b08-69d7-415f-a048-4a9c7465c532.jpeg [Content-Type=image/jpeg]...\n",
      "Copying file://2023-03-04-food_photos/pecans/30d883c5-ae53-4fb4-9263-e353f916dff4.jpeg [Content-Type=image/jpeg]...\n",
      "Copying file://2023-03-04-food_photos/pecans/318cb723-ccf6-4ea1-9926-31658747230f.jpeg [Content-Type=image/jpeg]...\n",
      "Copying file://2023-03-04-food_photos/pecans/319d3a5d-9107-451b-9234-dcc516ae4b7d.jpeg [Content-Type=image/jpeg]...\n",
      "Copying file://2023-03-04-food_photos/pecans/331f5be3-919e-4b51-a85b-a1fcf9bb6508.jpeg [Content-Type=image/jpeg]...\n",
      "Copying file://2023-03-04-food_photos/pecans/33eedd41-3e43-4eb9-aca7-c065c9952aa1.jpeg [Content-Type=image/jpeg]...\n",
      "Copying file://2023-03-04-food_photos/pecans/35d7c81b-f5ea-4cfe-893c-eb0d20a8589a.jpeg [Content-Type=image/jpeg]...\n",
      "Copying file://2023-03-04-food_photos/pecans/3607d810-44e3-4486-8847-0f91fc826611.jpeg [Content-Type=image/jpeg]...\n",
      "Copying file://2023-03-04-food_photos/pecans/36558bed-b836-4272-aacc-cfddd1db392e.jpeg [Content-Type=image/jpeg]...\n",
      "Copying file://2023-03-04-food_photos/pecans/367614df-fc29-451c-b40c-91207aaf9006.jpeg [Content-Type=image/jpeg]...\n",
      "Copying file://2023-03-04-food_photos/pecans/392920da-9892-4db8-bfdd-665975ec0204.jpeg [Content-Type=image/jpeg]...\n",
      "Copying file://2023-03-04-food_photos/pecans/3c218d24-1543-4e5c-957c-61c6638a6d80.jpeg [Content-Type=image/jpeg]...\n",
      "Copying file://2023-03-04-food_photos/pecans/3d399634-844e-4ae6-8de2-08ba415bd881.jpeg [Content-Type=image/jpeg]...\n",
      "Copying file://2023-03-04-food_photos/pecans/3f28bba4-9b7d-41e4-8e35-84c56d439449.jpeg [Content-Type=image/jpeg]...\n",
      "Copying file://2023-03-04-food_photos/pecans/3fb96d50-6f40-4510-aef3-f6c94e4760d7.jpeg [Content-Type=image/jpeg]...\n",
      "Copying file://2023-03-04-food_photos/pecans/401af600-c377-48fe-81e0-63ddef0f3bea.jpeg [Content-Type=image/jpeg]...\n",
      "Copying file://2023-03-04-food_photos/pecans/412689d0-9364-4985-8ae6-763b923c616e.jpeg [Content-Type=image/jpeg]...\n",
      "Copying file://2023-03-04-food_photos/pecans/41ab4c0f-8235-410f-88ee-058d77e75953.jpeg [Content-Type=image/jpeg]...\n",
      "Copying file://2023-03-04-food_photos/pecans/41b382b6-7843-4ea7-bc8e-dd322b1b5308.jpeg [Content-Type=image/jpeg]...\n",
      "Copying file://2023-03-04-food_photos/pecans/42f941ae-b042-4ad7-9ae0-efcdf5ce82c3.jpeg [Content-Type=image/jpeg]...\n",
      "Copying file://2023-03-04-food_photos/pecans/464b7fc4-e0f0-4804-8071-6d3506795257.jpeg [Content-Type=image/jpeg]...\n",
      "Copying file://2023-03-04-food_photos/pecans/466b8a10-1400-4a7d-b561-48c1075ea91c.jpeg [Content-Type=image/jpeg]...\n",
      "Copying file://2023-03-04-food_photos/pecans/46d5729a-766e-4d9c-889c-b149b753a2d8.jpeg [Content-Type=image/jpeg]...\n",
      "Copying file://2023-03-04-food_photos/pecans/47310f15-5e2c-4f09-a409-96a828bd5a73.jpeg [Content-Type=image/jpeg]...\n",
      "Copying file://2023-03-04-food_photos/pecans/48304c8a-a8bc-4fd7-a249-a6b189abbff7.jpeg [Content-Type=image/jpeg]...\n",
      "Copying file://2023-03-04-food_photos/pecans/4951f5df-ed27-4289-ae45-0f83e0bcca0b.jpeg [Content-Type=image/jpeg]...\n",
      "Copying file://2023-03-04-food_photos/pecans/49a563c4-9a1f-4ace-9d1a-ed62a39528c7.jpeg [Content-Type=image/jpeg]...\n",
      "Copying file://2023-03-04-food_photos/pecans/4c35fd11-8f7e-4202-ae19-0d7f87c0e7b7.jpeg [Content-Type=image/jpeg]...\n",
      "Copying file://2023-03-04-food_photos/pecans/4c4aabc3-089e-46c0-8ddf-8a7a4e13e250.jpeg [Content-Type=image/jpeg]...\n",
      "Copying file://2023-03-04-food_photos/pecans/4c6a8a7a-11af-41bd-8095-2cadaba0cb71.jpeg [Content-Type=image/jpeg]...\n",
      "Copying file://2023-03-04-food_photos/pecans/4d5a17a1-bf3e-4a4b-ac68-7fc2513b5e18.jpeg [Content-Type=image/jpeg]...\n",
      "Copying file://2023-03-04-food_photos/pecans/4f523675-a54b-4fd0-8dcf-5137e45de424.jpeg [Content-Type=image/jpeg]...\n",
      "Copying file://2023-03-04-food_photos/pecans/527c5707-f3a2-4a5b-a36f-25e3befdb17c.jpeg [Content-Type=image/jpeg]...\n",
      "Copying file://2023-03-04-food_photos/pecans/528cd878-7934-4026-a455-43324434308c.jpeg [Content-Type=image/jpeg]...\n",
      "Copying file://2023-03-04-food_photos/pecans/545d3aad-0da8-4150-bfa8-d873628e92f4.jpeg [Content-Type=image/jpeg]...\n",
      "Copying file://2023-03-04-food_photos/pecans/57d6c0da-9ec7-46e3-8515-a26c35a42e07.jpeg [Content-Type=image/jpeg]...\n",
      "Copying file://2023-03-04-food_photos/pecans/583e3f92-59ba-4021-96c1-b269305e3756.jpeg [Content-Type=image/jpeg]...\n",
      "Copying file://2023-03-04-food_photos/pecans/59776058-0ac8-4f00-b1fe-92bb9e2ddc1f.jpeg [Content-Type=image/jpeg]...\n",
      "Copying file://2023-03-04-food_photos/pecans/59835426-9c16-494e-b04a-a328452bbf87.jpeg [Content-Type=image/jpeg]...\n",
      "Copying file://2023-03-04-food_photos/pecans/599676eb-c2b1-4d7e-82ef-3a0377094387.jpeg [Content-Type=image/jpeg]...\n",
      "Copying file://2023-03-04-food_photos/pecans/5abaf587-f37b-4fe7-bc51-bc0580d70056.jpeg [Content-Type=image/jpeg]...\n",
      "Copying file://2023-03-04-food_photos/pecans/5b507313-e896-4d34-9121-67964d3bfe40.jpeg [Content-Type=image/jpeg]...\n",
      "Copying file://2023-03-04-food_photos/pecans/5bd55989-6b3f-4a20-9fae-ead7b4ce8d1e.jpeg [Content-Type=image/jpeg]...\n",
      "Copying file://2023-03-04-food_photos/pecans/5c160fd2-e5ba-4044-9d19-3f3b909dba2a.jpeg [Content-Type=image/jpeg]...\n",
      "Copying file://2023-03-04-food_photos/pecans/5c3b5ed8-e76d-495a-a38c-36bd7e7779be.jpeg [Content-Type=image/jpeg]...\n",
      "Copying file://2023-03-04-food_photos/pecans/5cc02ad9-c4f7-47d9-b6bf-905a19595598.jpeg [Content-Type=image/jpeg]...\n",
      "Copying file://2023-03-04-food_photos/pecans/5ccd3edf-21d9-4629-9a94-9111da00904b.jpeg [Content-Type=image/jpeg]...\n",
      "Copying file://2023-03-04-food_photos/pecans/5f91707e-865b-493f-9101-a867f732f7c3.jpeg [Content-Type=image/jpeg]...\n",
      "Copying file://2023-03-04-food_photos/pecans/5fd3abf6-a666-4371-823e-842129647620.jpeg [Content-Type=image/jpeg]...\n",
      "Copying file://2023-03-04-food_photos/pecans/61093206-7204-4b4a-9a5d-57596546d563.jpeg [Content-Type=image/jpeg]...\n",
      "Copying file://2023-03-04-food_photos/pecans/619fad54-6e31-44c5-b827-c1924604216c.jpeg [Content-Type=image/jpeg]...\n",
      "Copying file://2023-03-04-food_photos/pecans/61e16e21-6d2e-45d3-8e8d-133388b2484a.jpeg [Content-Type=image/jpeg]...\n",
      "Copying file://2023-03-04-food_photos/pecans/62d29865-3c86-4120-a056-a29e1d12b8d1.jpeg [Content-Type=image/jpeg]...\n",
      "Copying file://2023-03-04-food_photos/pecans/65138278-e578-4724-961b-14379efcd7b2.jpeg [Content-Type=image/jpeg]...\n",
      "Copying file://2023-03-04-food_photos/pecans/67b8b893-f4d5-4fca-8886-7ffd12e17ff8.jpeg [Content-Type=image/jpeg]...\n",
      "Copying file://2023-03-04-food_photos/pecans/68b6bcf2-7f75-4142-8873-effae2bfba2f.jpeg [Content-Type=image/jpeg]...\n",
      "Copying file://2023-03-04-food_photos/pecans/6ac3b57e-d3b7-4ec7-b244-24c7171bb472.jpeg [Content-Type=image/jpeg]...\n",
      "Copying file://2023-03-04-food_photos/pecans/6aea4c0c-3cfe-4794-89e3-889e0cb071e7.jpeg [Content-Type=image/jpeg]...\n",
      "Copying file://2023-03-04-food_photos/pecans/6e0b9058-76f6-4a2f-bc6b-826b1f9f5d0e.jpeg [Content-Type=image/jpeg]...\n",
      "Copying file://2023-03-04-food_photos/pecans/70b91040-9293-411f-a7ef-ee4e227dbc4d.jpeg [Content-Type=image/jpeg]...\n",
      "Copying file://2023-03-04-food_photos/pecans/70d30cc4-5d2e-43d2-a642-06c170c6c085.jpeg [Content-Type=image/jpeg]...\n",
      "Copying file://2023-03-04-food_photos/pecans/73b08d4e-1d26-483b-9f1a-ca28251d2375.jpeg [Content-Type=image/jpeg]...\n",
      "Copying file://2023-03-04-food_photos/pecans/75c94ea7-6332-47fd-8117-3615b9a133da.jpeg [Content-Type=image/jpeg]...\n",
      "Copying file://2023-03-04-food_photos/pecans/793e4991-08ac-45c7-8738-c9e7c9eb9f84.jpeg [Content-Type=image/jpeg]...\n",
      "Copying file://2023-03-04-food_photos/pecans/79bc5926-06d6-474b-b98f-54959f5d4233.jpeg [Content-Type=image/jpeg]...\n",
      "Copying file://2023-03-04-food_photos/pecans/7bfd9aef-31d9-4879-85b9-7312159fb865.jpeg [Content-Type=image/jpeg]...\n",
      "Copying file://2023-03-04-food_photos/pecans/7c2086a0-6c38-4aeb-8324-f383e7ba775e.jpeg [Content-Type=image/jpeg]...\n",
      "Copying file://2023-03-04-food_photos/pecans/7c3383eb-ea66-4fda-93c9-6beec7d943a2.jpeg [Content-Type=image/jpeg]...\n",
      "Copying file://2023-03-04-food_photos/pecans/7e6ae8ac-02d8-4feb-9f7e-3488300f31cc.jpeg [Content-Type=image/jpeg]...\n",
      "Copying file://2023-03-04-food_photos/pecans/84e182b1-be07-4ea0-bc60-5a23e456d24a.jpeg [Content-Type=image/jpeg]...\n",
      "Copying file://2023-03-04-food_photos/pecans/85458365-79f3-42b1-a47a-1d07e2de01f2.jpeg [Content-Type=image/jpeg]...\n",
      "Copying file://2023-03-04-food_photos/pecans/86785733-4d1a-4112-bdef-09b313d892be.jpeg [Content-Type=image/jpeg]...\n",
      "Copying file://2023-03-04-food_photos/pecans/86d8869c-cbfb-4c70-99b3-b7068b95eeea.jpeg [Content-Type=image/jpeg]...\n",
      "Copying file://2023-03-04-food_photos/pecans/877bdfd9-c6c2-4517-ac8b-52c69524d9eb.jpeg [Content-Type=image/jpeg]...\n",
      "Copying file://2023-03-04-food_photos/pecans/8866fa6c-9ef9-4ed1-b2eb-dcedcf3e684b.jpeg [Content-Type=image/jpeg]...\n",
      "Copying file://2023-03-04-food_photos/pecans/891c74ba-9370-4be3-8136-5929faf7b479.jpeg [Content-Type=image/jpeg]...\n",
      "Copying file://2023-03-04-food_photos/pecans/89334718-9f12-43e3-8c1c-bccd328467c4.jpeg [Content-Type=image/jpeg]...\n",
      "Copying file://2023-03-04-food_photos/pecans/90b5b674-3a73-4686-98f8-56d0667544b6.jpeg [Content-Type=image/jpeg]...\n",
      "Copying file://2023-03-04-food_photos/pecans/917e7ca4-0c39-4399-98a0-53e614d0ca90.jpeg [Content-Type=image/jpeg]...\n",
      "Copying file://2023-03-04-food_photos/pecans/93d590b0-a9a2-411f-985d-f1151d947257.jpeg [Content-Type=image/jpeg]...\n",
      "Copying file://2023-03-04-food_photos/pecans/95272801-bf17-476d-b7e6-04ad6a1513ab.jpeg [Content-Type=image/jpeg]...\n",
      "Copying file://2023-03-04-food_photos/pecans/952e9045-ae29-43c9-a4c8-922b46a3276c.jpeg [Content-Type=image/jpeg]...\n",
      "Copying file://2023-03-04-food_photos/pecans/967cfa9c-1e12-4978-b039-75d496f70b79.jpeg [Content-Type=image/jpeg]...\n",
      "Copying file://2023-03-04-food_photos/pecans/96e4ad1d-a2d5-4658-905f-ebc119442932.jpeg [Content-Type=image/jpeg]...\n",
      "Copying file://2023-03-04-food_photos/pecans/972b8d4a-b053-4aab-b385-1b79f02dd615.jpeg [Content-Type=image/jpeg]...\n",
      "Copying file://2023-03-04-food_photos/pecans/972ef654-a506-4e67-b6a5-a049623f2f79.jpeg [Content-Type=image/jpeg]...\n",
      "Copying file://2023-03-04-food_photos/pecans/97e52bf5-7d51-4919-9b92-d55dce64303b.jpeg [Content-Type=image/jpeg]...\n",
      "Copying file://2023-03-04-food_photos/pecans/97ed5a00-3748-46c4-8adf-c319f22dbefb.jpeg [Content-Type=image/jpeg]...\n",
      "Copying file://2023-03-04-food_photos/pecans/98feb010-9edf-45fa-82e5-41476b727b97.jpeg [Content-Type=image/jpeg]...\n",
      "Copying file://2023-03-04-food_photos/pecans/99177a08-0473-4855-9027-6f0a6bf24fef.jpeg [Content-Type=image/jpeg]...\n",
      "Copying file://2023-03-04-food_photos/pecans/9c92219e-b851-431f-964c-62f02e82eee0.jpeg [Content-Type=image/jpeg]...\n",
      "Copying file://2023-03-04-food_photos/pecans/9e55e422-c99b-4828-93a0-e91d19ca1fca.jpeg [Content-Type=image/jpeg]...\n",
      "Copying file://2023-03-04-food_photos/pecans/9f6a6c22-4af0-41e5-94c4-95eb221a9cad.jpeg [Content-Type=image/jpeg]...\n",
      "Copying file://2023-03-04-food_photos/pecans/9fa0fad2-f6ea-45f5-99da-77a5df791371.jpeg [Content-Type=image/jpeg]...\n",
      "Copying file://2023-03-04-food_photos/pecans/a21a83f4-98f9-4af1-94c7-443848dbd83b.jpeg [Content-Type=image/jpeg]...\n",
      "Copying file://2023-03-04-food_photos/pecans/a342af88-b74b-4c7e-a6ba-aaa074bf8e4a.jpeg [Content-Type=image/jpeg]...\n",
      "Copying file://2023-03-04-food_photos/pecans/a3657bc6-7363-4352-9508-c9fc92d6a71b.jpeg [Content-Type=image/jpeg]...\n",
      "Copying file://2023-03-04-food_photos/pecans/a46e69e5-267b-4533-a653-da97f117ae54.jpeg [Content-Type=image/jpeg]...\n",
      "Copying file://2023-03-04-food_photos/pecans/a5793692-33a3-425f-9637-cdebf6c7bf7d.jpeg [Content-Type=image/jpeg]...\n",
      "Copying file://2023-03-04-food_photos/pecans/a64ef0f6-4e5c-445d-80b1-57fa8c9cde73.jpeg [Content-Type=image/jpeg]...\n",
      "Copying file://2023-03-04-food_photos/pecans/a6d4a07d-13f2-4005-8e53-17e85019adb3.jpeg [Content-Type=image/jpeg]...\n",
      "Copying file://2023-03-04-food_photos/pecans/a6ff9bab-6735-47ca-8e8c-c1a75f8d3a47.jpeg [Content-Type=image/jpeg]...\n",
      "Copying file://2023-03-04-food_photos/pecans/a748bcdf-ef4f-44f8-82d0-6401627d75c1.jpeg [Content-Type=image/jpeg]...\n",
      "Copying file://2023-03-04-food_photos/pecans/a86f58d1-9237-418c-b522-068ee66bca7c.jpeg [Content-Type=image/jpeg]...\n",
      "Copying file://2023-03-04-food_photos/pecans/aa60155b-2f3d-4ff9-9397-4f41b57c6230.jpeg [Content-Type=image/jpeg]...\n",
      "Copying file://2023-03-04-food_photos/pecans/aaa63699-9368-4b14-a4df-6069712512e0.jpeg [Content-Type=image/jpeg]...\n",
      "Copying file://2023-03-04-food_photos/pecans/ac50d5b1-d171-41e7-94d8-64b22ee6441d.jpeg [Content-Type=image/jpeg]...\n",
      "Copying file://2023-03-04-food_photos/pecans/ac9db8d3-2c9f-47b3-8157-71095125615f.jpeg [Content-Type=image/jpeg]...\n",
      "Copying file://2023-03-04-food_photos/pecans/b4e7690d-0b94-4cec-a3a8-59ef8cf7f23a.jpeg [Content-Type=image/jpeg]...\n",
      "Copying file://2023-03-04-food_photos/pecans/b5080f4a-beab-4e6f-9afd-bc3b4daf259b.jpeg [Content-Type=image/jpeg]...\n",
      "Copying file://2023-03-04-food_photos/pecans/b5110b4b-6490-4af2-bc30-2ec65aba1885.jpeg [Content-Type=image/jpeg]...\n",
      "Copying file://2023-03-04-food_photos/pecans/b5ea71c8-47a9-4b54-b8c4-54b3adcdcbf7.jpeg [Content-Type=image/jpeg]...\n",
      "Copying file://2023-03-04-food_photos/pecans/b7388819-5778-40f4-8178-0e0e20ab633d.jpeg [Content-Type=image/jpeg]...\n",
      "Copying file://2023-03-04-food_photos/pecans/b7d8cf6f-7bfa-4f2f-8844-f91ffbc2c644.jpeg [Content-Type=image/jpeg]...\n",
      "Copying file://2023-03-04-food_photos/pecans/b90f9d40-68f1-4515-9793-08622b60052e.jpeg [Content-Type=image/jpeg]...\n",
      "Copying file://2023-03-04-food_photos/pecans/b93b74ba-b194-49d7-9577-d3445e594a9b.jpeg [Content-Type=image/jpeg]...\n",
      "Copying file://2023-03-04-food_photos/pecans/b9c30ee6-35fa-4d25-8aeb-7985c0def4b4.jpeg [Content-Type=image/jpeg]...\n",
      "Copying file://2023-03-04-food_photos/pecans/ba4bd0a2-fbd9-422e-8e6f-6b3671242d33.jpeg [Content-Type=image/jpeg]...\n",
      "Copying file://2023-03-04-food_photos/pecans/be436421-4cbf-43ce-b10a-b2ed4c01593b.jpeg [Content-Type=image/jpeg]...\n",
      "Copying file://2023-03-04-food_photos/pecans/be495539-4939-47e9-828f-ef61c44c6423.jpeg [Content-Type=image/jpeg]...\n",
      "Copying file://2023-03-04-food_photos/pecans/beb3b77b-e8d5-4eda-b33b-3ce1470fa56b.jpeg [Content-Type=image/jpeg]...\n",
      "Copying file://2023-03-04-food_photos/pecans/bf4d89ad-e068-452d-9340-b1cbf65cfe79.jpeg [Content-Type=image/jpeg]...\n",
      "Copying file://2023-03-04-food_photos/pecans/bf68f99f-7e41-4121-a787-d5ad8a9d3182.jpeg [Content-Type=image/jpeg]...\n",
      "Copying file://2023-03-04-food_photos/pecans/bfc5dd40-6a0d-4f67-b01a-99ea678cee31.jpeg [Content-Type=image/jpeg]...\n",
      "Copying file://2023-03-04-food_photos/pecans/c06de439-8f33-49ac-b862-1270c5935717.jpeg [Content-Type=image/jpeg]...\n",
      "Copying file://2023-03-04-food_photos/pecans/c323646d-188b-4cf6-afcf-9ec1a4cd71d3.jpeg [Content-Type=image/jpeg]...\n",
      "Copying file://2023-03-04-food_photos/pecans/c39e537f-7dd4-4a06-9835-780537e5681e.jpeg [Content-Type=image/jpeg]...\n",
      "Copying file://2023-03-04-food_photos/pecans/c5c46669-1acc-427c-bcdc-2e3362d6f528.jpeg [Content-Type=image/jpeg]...\n",
      "Copying file://2023-03-04-food_photos/pecans/c63752a1-a169-434c-a789-9d04b17d654e.jpeg [Content-Type=image/jpeg]...\n",
      "Copying file://2023-03-04-food_photos/pecans/c63e5727-7c88-4196-b857-4098770d2c0f.jpeg [Content-Type=image/jpeg]...\n",
      "Copying file://2023-03-04-food_photos/pecans/c6e50ca1-5842-4d6f-b403-b95e308f0c2f.jpeg [Content-Type=image/jpeg]...\n",
      "Copying file://2023-03-04-food_photos/pecans/c72fbf9a-5730-46a3-ad11-dcccc6d5abbb.jpeg [Content-Type=image/jpeg]...\n",
      "Copying file://2023-03-04-food_photos/pecans/c8e5ca20-a349-41bb-b3bf-8503d195a03b.jpeg [Content-Type=image/jpeg]...\n",
      "Copying file://2023-03-04-food_photos/pecans/ca5145fc-0635-4be3-8209-206c20e3d155.jpeg [Content-Type=image/jpeg]...\n",
      "Copying file://2023-03-04-food_photos/pecans/ca5228d9-f3c4-44d2-a279-1cfe62a05366.jpeg [Content-Type=image/jpeg]...\n",
      "Copying file://2023-03-04-food_photos/pecans/cbce05eb-87b1-4994-a5dd-d78d1fada108.jpeg [Content-Type=image/jpeg]...\n",
      "Copying file://2023-03-04-food_photos/pecans/cc2f9573-38c6-44f2-ab3a-f57dc1904b3c.jpeg [Content-Type=image/jpeg]...\n",
      "Copying file://2023-03-04-food_photos/pecans/cc3f2032-cab8-4e12-87d0-2c05d8453608.jpeg [Content-Type=image/jpeg]...\n",
      "Copying file://2023-03-04-food_photos/pecans/cc57b9c0-cfa8-4ca3-bab1-281cdbf6bd04.jpeg [Content-Type=image/jpeg]...\n",
      "Copying file://2023-03-04-food_photos/pecans/ccf44fcd-d862-4d86-a834-afbaf53bc952.jpeg [Content-Type=image/jpeg]...\n",
      "Copying file://2023-03-04-food_photos/pecans/cdee706e-9c66-4694-ad97-92eca99b648d.jpeg [Content-Type=image/jpeg]...\n",
      "Copying file://2023-03-04-food_photos/pecans/cf3ef070-7f8f-41a0-a86c-10bfa133a439.jpeg [Content-Type=image/jpeg]...\n",
      "Copying file://2023-03-04-food_photos/pecans/cf4ea95b-f1c0-4176-aeea-2c5e7233e0a3.jpeg [Content-Type=image/jpeg]...\n",
      "Copying file://2023-03-04-food_photos/pecans/d13a6b49-ca8b-4b09-bb91-9f4717995999.jpeg [Content-Type=image/jpeg]...\n",
      "Copying file://2023-03-04-food_photos/pecans/d1a42be1-777e-4ff6-99aa-f4d73333c211.jpeg [Content-Type=image/jpeg]...\n",
      "Copying file://2023-03-04-food_photos/pecans/d251c8d3-ec0d-498d-8c34-90780482afdf.jpeg [Content-Type=image/jpeg]...\n",
      "Copying file://2023-03-04-food_photos/pecans/d524fb0a-3135-4d34-8da4-89d4e262550c.jpeg [Content-Type=image/jpeg]...\n",
      "Copying file://2023-03-04-food_photos/pecans/d5834b02-a6f5-417f-95be-023bb2c37768.jpeg [Content-Type=image/jpeg]...\n",
      "Copying file://2023-03-04-food_photos/pecans/d649f633-908c-46f0-bd92-2b0b57ea8941.jpeg [Content-Type=image/jpeg]...\n",
      "Copying file://2023-03-04-food_photos/pecans/d7fe2ab0-3697-4be6-991b-2a1cf7140992.jpeg [Content-Type=image/jpeg]...\n",
      "Copying file://2023-03-04-food_photos/pecans/d8239716-7a8c-4c06-899d-d8f484c1860d.jpeg [Content-Type=image/jpeg]...\n",
      "Copying file://2023-03-04-food_photos/pecans/d82ce4d2-a40a-4af2-979f-b05d118be5bd.jpeg [Content-Type=image/jpeg]...\n",
      "Copying file://2023-03-04-food_photos/pecans/d843dcbd-791e-41c4-83f0-a2b4d2786d8f.jpeg [Content-Type=image/jpeg]...\n",
      "Copying file://2023-03-04-food_photos/pecans/d8c292c7-3fc6-44ef-8678-bdd2fa17794a.jpeg [Content-Type=image/jpeg]...\n",
      "Copying file://2023-03-04-food_photos/pecans/da3acd87-e638-413b-bc6c-781d733011de.jpeg [Content-Type=image/jpeg]...\n",
      "Copying file://2023-03-04-food_photos/pecans/db501318-a23f-403d-9ce6-98c6c0f1f544.jpeg [Content-Type=image/jpeg]...\n",
      "Copying file://2023-03-04-food_photos/pecans/dc238567-d812-4ca3-b649-04ae4e120dda.jpeg [Content-Type=image/jpeg]...\n",
      "Copying file://2023-03-04-food_photos/pecans/dcb1a2d1-718f-4ec9-98fd-96075b55d7ab.jpeg [Content-Type=image/jpeg]...\n",
      "Copying file://2023-03-04-food_photos/pecans/debbc37b-6488-4da9-826b-be6ac4fca7b0.jpeg [Content-Type=image/jpeg]...\n",
      "Copying file://2023-03-04-food_photos/pecans/debf2d35-fa85-4b4b-8876-85582c229a25.jpeg [Content-Type=image/jpeg]...\n",
      "Copying file://2023-03-04-food_photos/pecans/df1004f1-2e31-42e7-b9f4-307b27de4012.jpeg [Content-Type=image/jpeg]...\n",
      "Copying file://2023-03-04-food_photos/pecans/e48f688c-7d64-4108-a076-4447bad26c0b.jpeg [Content-Type=image/jpeg]...\n",
      "Copying file://2023-03-04-food_photos/pecans/e68990d3-a713-484a-9234-bd8d10840a93.jpeg [Content-Type=image/jpeg]...\n",
      "Copying file://2023-03-04-food_photos/pecans/e6ff9cb8-adfc-4e16-9f25-ec1bf65a7e08.jpeg [Content-Type=image/jpeg]...\n",
      "Copying file://2023-03-04-food_photos/pecans/e87865a9-08fd-4752-b20b-eb3f6060b4b8.jpeg [Content-Type=image/jpeg]...\n",
      "Copying file://2023-03-04-food_photos/pecans/eaa4709b-1445-4350-9d0a-74603c1df047.jpeg [Content-Type=image/jpeg]...\n",
      "Copying file://2023-03-04-food_photos/pecans/ead9c129-fee8-4369-bd09-a734b03bfce4.jpeg [Content-Type=image/jpeg]...\n",
      "Copying file://2023-03-04-food_photos/pecans/eae8339a-afa9-43ab-833f-6f50319ee17e.jpeg [Content-Type=image/jpeg]...\n",
      "Copying file://2023-03-04-food_photos/pecans/eb301527-946a-40b3-8c57-33e56d12450d.jpeg [Content-Type=image/jpeg]...\n",
      "Copying file://2023-03-04-food_photos/pecans/eb929701-bbe7-44f5-a681-cf3da82b605a.jpeg [Content-Type=image/jpeg]...\n",
      "Copying file://2023-03-04-food_photos/pecans/ecf06d97-af88-4af3-8a75-fce65cb51d40.jpeg [Content-Type=image/jpeg]...\n",
      "Copying file://2023-03-04-food_photos/pecans/edd7889a-f4f7-499c-a6ee-16341254c2bf.jpeg [Content-Type=image/jpeg]...\n",
      "Copying file://2023-03-04-food_photos/pecans/ee6f22dd-35e6-46d2-ad85-005c239266c2.jpeg [Content-Type=image/jpeg]...\n",
      "Copying file://2023-03-04-food_photos/pecans/eec24487-bba9-4e12-bc95-ba69a0604b3d.jpeg [Content-Type=image/jpeg]...\n",
      "Copying file://2023-03-04-food_photos/pecans/f6d5d2a3-ae08-4d6c-9671-dddfa29ce91c.jpeg [Content-Type=image/jpeg]...\n",
      "Copying file://2023-03-04-food_photos/pecans/f6f6c7cb-67a8-4819-83a0-6e1528e60ce8.jpeg [Content-Type=image/jpeg]...\n",
      "Copying file://2023-03-04-food_photos/pecans/fb15e4fd-539a-4087-a575-890e9b40d748.jpeg [Content-Type=image/jpeg]...\n",
      "Copying file://2023-03-04-food_photos/pecans/fb16a9ee-7322-4d06-8e6a-6116c45b4ec3.jpeg [Content-Type=image/jpeg]...\n",
      "Copying file://2023-03-04-food_photos/pecans/fd280252-5e31-49ad-9234-4e638aff78fb.jpeg [Content-Type=image/jpeg]...\n",
      "Copying file://2023-03-04-food_photos/pecans/fe67d7e1-e0ab-4000-b5f4-82f4ba78555c.jpeg [Content-Type=image/jpeg]...\n",
      "Copying file://2023-03-04-food_photos/pecans/fee50189-0c97-44c6-b319-961dbf24745d.jpeg [Content-Type=image/jpeg]...\n",
      "Copying file://2023-03-04-food_photos/pistachios/0063e067-dd86-40bf-a25e-6fb52dad7f6c.jpeg [Content-Type=image/jpeg]...\n",
      "Copying file://2023-03-04-food_photos/pistachios/00cf53d6-9916-4dcf-a537-a4df55aa6898.jpeg [Content-Type=image/jpeg]...\n",
      "Copying file://2023-03-04-food_photos/pistachios/01fb8d85-1832-42ed-9317-0f98c1920fd4.jpeg [Content-Type=image/jpeg]...\n",
      "Copying file://2023-03-04-food_photos/pistachios/02a5762d-056f-4742-a01f-e359880458a2.jpeg [Content-Type=image/jpeg]...\n",
      "Copying file://2023-03-04-food_photos/pistachios/03b6bef7-bd8d-455a-aa75-7ec8899846d7.jpeg [Content-Type=image/jpeg]...\n",
      "Copying file://2023-03-04-food_photos/pistachios/064dedd8-6e82-4172-b11a-d2b86ff0bdce.jpeg [Content-Type=image/jpeg]...\n",
      "Copying file://2023-03-04-food_photos/pistachios/06b9b6a9-fba9-45ce-b767-8ac5e29c09ed.jpeg [Content-Type=image/jpeg]...\n",
      "Copying file://2023-03-04-food_photos/pistachios/0789d85c-13df-4119-ad44-6a15fc461d62.jpeg [Content-Type=image/jpeg]...\n",
      "Copying file://2023-03-04-food_photos/pistachios/0c60fe00-b833-4d72-b978-cd63cb711d28.jpeg [Content-Type=image/jpeg]...\n",
      "Copying file://2023-03-04-food_photos/pistachios/0d56acac-d124-4c3f-826a-e52598fca686.jpeg [Content-Type=image/jpeg]...\n",
      "Copying file://2023-03-04-food_photos/pistachios/0ddf534c-3c11-4c74-b47b-9bd2733ef3fb.jpeg [Content-Type=image/jpeg]...\n",
      "Copying file://2023-03-04-food_photos/pistachios/135c687c-39d4-4fac-a484-3f13d02002b7.jpeg [Content-Type=image/jpeg]...\n",
      "Copying file://2023-03-04-food_photos/pistachios/17309b43-6089-46ac-a9c2-06a5be0fbcf0.jpeg [Content-Type=image/jpeg]...\n",
      "Copying file://2023-03-04-food_photos/pistachios/17649aad-aed3-4ab4-a0ca-e961b28eb1d8.jpeg [Content-Type=image/jpeg]...\n",
      "Copying file://2023-03-04-food_photos/pistachios/18d35201-54a0-4116-9b15-ab9a6af041c3.jpeg [Content-Type=image/jpeg]...\n",
      "Copying file://2023-03-04-food_photos/pistachios/18d572bf-d521-4290-910b-2bcc90418048.jpeg [Content-Type=image/jpeg]...\n",
      "Copying file://2023-03-04-food_photos/pistachios/1c26862d-5f8e-4023-ace0-820fc77d276c.jpeg [Content-Type=image/jpeg]...\n",
      "Copying file://2023-03-04-food_photos/pistachios/1d13e16d-00dc-4ef9-9e96-aedbedf0cd3f.jpeg [Content-Type=image/jpeg]...\n",
      "Copying file://2023-03-04-food_photos/pistachios/1e295ab7-55cd-44d4-b616-7187db58848e.jpeg [Content-Type=image/jpeg]...\n",
      "Copying file://2023-03-04-food_photos/pistachios/205877b8-0810-42ba-9245-42bf0d74e261.jpeg [Content-Type=image/jpeg]...\n",
      "Copying file://2023-03-04-food_photos/pistachios/2188a778-ac57-4f98-92ba-0956ea35a047.jpeg [Content-Type=image/jpeg]...\n",
      "Copying file://2023-03-04-food_photos/pistachios/2204213c-dd07-4621-945a-4d8c048707a0.jpeg [Content-Type=image/jpeg]...\n",
      "Copying file://2023-03-04-food_photos/pistachios/23820383-a656-4619-a699-876cdcd46fb2.jpeg [Content-Type=image/jpeg]...\n",
      "Copying file://2023-03-04-food_photos/pistachios/24fd61f4-451a-4bdb-9d5c-f401838ae3df.jpeg [Content-Type=image/jpeg]...\n",
      "Copying file://2023-03-04-food_photos/pistachios/2500d48c-9739-4a7d-91c7-0f9bed9fd890.jpeg [Content-Type=image/jpeg]...\n",
      "Copying file://2023-03-04-food_photos/pistachios/2a322dd2-ee59-4c4f-a11e-75a6468b8bc9.jpeg [Content-Type=image/jpeg]...\n",
      "Copying file://2023-03-04-food_photos/pistachios/2d3c2e62-dc21-4505-b55f-01d35fa3aa3a.jpeg [Content-Type=image/jpeg]...\n",
      "Copying file://2023-03-04-food_photos/pistachios/2e204b05-9e22-460b-90d5-4b5ebcc2dc99.jpeg [Content-Type=image/jpeg]...\n",
      "Copying file://2023-03-04-food_photos/pistachios/2e8ebd11-896e-4336-aa19-a88d1cec816d.jpeg [Content-Type=image/jpeg]...\n",
      "Copying file://2023-03-04-food_photos/pistachios/2fd62fe6-d750-4711-8557-5feee3f34f27.jpeg [Content-Type=image/jpeg]...\n",
      "Copying file://2023-03-04-food_photos/pistachios/31bf6e83-0197-4e24-b28d-41deceac5b1f.jpeg [Content-Type=image/jpeg]...\n",
      "Copying file://2023-03-04-food_photos/pistachios/351dd624-455e-49be-adeb-441b02f753d6.jpeg [Content-Type=image/jpeg]...\n",
      "Copying file://2023-03-04-food_photos/pistachios/35cbe8ba-aca9-4008-ae1b-79592f28c310.jpeg [Content-Type=image/jpeg]...\n",
      "Copying file://2023-03-04-food_photos/pistachios/36517150-d3ac-4dd1-baad-423c0b0abf32.jpeg [Content-Type=image/jpeg]...\n",
      "Copying file://2023-03-04-food_photos/pistachios/37f17b35-d404-4eb5-af31-07d9fd3ae1ef.jpeg [Content-Type=image/jpeg]...\n",
      "Copying file://2023-03-04-food_photos/pistachios/37f64bea-b262-49fb-bd58-e4a229b1ac56.jpeg [Content-Type=image/jpeg]...\n",
      "Copying file://2023-03-04-food_photos/pistachios/3a661463-77ef-4557-8806-fa0e809eecb5.jpeg [Content-Type=image/jpeg]...\n",
      "Copying file://2023-03-04-food_photos/pistachios/3aa8f874-2f33-4677-8c67-e5a0e36c61e9.jpeg [Content-Type=image/jpeg]...\n",
      "Copying file://2023-03-04-food_photos/pistachios/3d128dd6-d2dc-4d55-b12c-ed74ecc5e35f.jpeg [Content-Type=image/jpeg]...\n",
      "Copying file://2023-03-04-food_photos/pistachios/3dc01d63-3c44-4f5d-b171-f2a28c92220b.jpeg [Content-Type=image/jpeg]...\n",
      "Copying file://2023-03-04-food_photos/pistachios/3fabd846-aacd-49fa-be7f-cc92a89088c5.jpeg [Content-Type=image/jpeg]...\n",
      "Copying file://2023-03-04-food_photos/pistachios/42f617a2-19ce-4529-8c23-09f083de87e3.jpeg [Content-Type=image/jpeg]...\n",
      "Copying file://2023-03-04-food_photos/pistachios/433d452f-dbeb-406c-9155-ec495620d702.jpeg [Content-Type=image/jpeg]...\n",
      "Copying file://2023-03-04-food_photos/pistachios/44a0f9c2-b77c-4696-a399-8c05614cac7e.jpeg [Content-Type=image/jpeg]...\n",
      "Copying file://2023-03-04-food_photos/pistachios/4548af82-93ea-4f39-96d2-2dca0d5f9436.jpeg [Content-Type=image/jpeg]...\n",
      "Copying file://2023-03-04-food_photos/pistachios/46f386e9-e903-4bf8-a8df-0fb0f72431cb.jpeg [Content-Type=image/jpeg]...\n",
      "Copying file://2023-03-04-food_photos/pistachios/47840e30-ace4-4bba-b3ea-bc9b468df462.jpeg [Content-Type=image/jpeg]...\n",
      "Copying file://2023-03-04-food_photos/pistachios/48dad962-3d0d-4874-b27c-fd5eeb11db15.jpeg [Content-Type=image/jpeg]...\n",
      "Copying file://2023-03-04-food_photos/pistachios/4b1bdc06-052f-412d-86ad-a30099d18a12.jpeg [Content-Type=image/jpeg]...\n",
      "Copying file://2023-03-04-food_photos/pistachios/4ebb9ef6-9c65-44de-871b-c03d633948f7.jpeg [Content-Type=image/jpeg]...\n",
      "Copying file://2023-03-04-food_photos/pistachios/500b01b9-f383-40a3-92e2-e40c5921ce61.jpeg [Content-Type=image/jpeg]...\n",
      "Copying file://2023-03-04-food_photos/pistachios/500bf1c9-c3b3-4106-969c-95456e06281f.jpeg [Content-Type=image/jpeg]...\n",
      "Copying file://2023-03-04-food_photos/pistachios/502d4d04-25ec-49b7-8ffd-3eb591bfff67.jpeg [Content-Type=image/jpeg]...\n",
      "Copying file://2023-03-04-food_photos/pistachios/5496a1d9-8c24-4a5d-9da7-eda096f7eca7.jpeg [Content-Type=image/jpeg]...\n",
      "Copying file://2023-03-04-food_photos/pistachios/570c1f1f-a706-4510-8802-76f2307ce856.jpeg [Content-Type=image/jpeg]...\n",
      "Copying file://2023-03-04-food_photos/pistachios/57a70418-4305-45cd-a404-7132474e18ac.jpeg [Content-Type=image/jpeg]...\n",
      "Copying file://2023-03-04-food_photos/pistachios/5b64695b-097e-46ce-9ae3-5043e6f41379.jpeg [Content-Type=image/jpeg]...\n",
      "Copying file://2023-03-04-food_photos/pistachios/5be6b522-267b-4049-837d-342095d3420f.jpeg [Content-Type=image/jpeg]...\n",
      "Copying file://2023-03-04-food_photos/pistachios/63791125-eee3-4622-ad05-c8b50fad15bc.jpeg [Content-Type=image/jpeg]...\n",
      "Copying file://2023-03-04-food_photos/pistachios/64f52148-809d-46c1-a288-d5ce1fe59d65.jpeg [Content-Type=image/jpeg]...\n",
      "Copying file://2023-03-04-food_photos/pistachios/6c9ff7be-0a38-468a-b4ed-f1fec0c05dd0.jpeg [Content-Type=image/jpeg]...\n",
      "Copying file://2023-03-04-food_photos/pistachios/70c81a9b-1444-49b6-a556-fd08addeb56d.jpeg [Content-Type=image/jpeg]...\n",
      "Copying file://2023-03-04-food_photos/pistachios/73b9ab30-4726-48ae-a4c3-1c97a233ab30.jpeg [Content-Type=image/jpeg]...\n",
      "Copying file://2023-03-04-food_photos/pistachios/7455682e-b746-4de7-bf86-2d2caa3d9a05.jpeg [Content-Type=image/jpeg]...\n",
      "Copying file://2023-03-04-food_photos/pistachios/74ba982e-8cd3-4098-a8b8-658d42287135.jpeg [Content-Type=image/jpeg]...\n",
      "Copying file://2023-03-04-food_photos/pistachios/76789558-bed9-4781-a1bc-0ef089a2db93.jpeg [Content-Type=image/jpeg]...\n",
      "Copying file://2023-03-04-food_photos/pistachios/7959c30f-d640-4c09-9633-3b90fa3d2190.jpeg [Content-Type=image/jpeg]...\n",
      "Copying file://2023-03-04-food_photos/pistachios/79d8ecca-5087-4296-a52f-127678985e4a.jpeg [Content-Type=image/jpeg]...\n",
      "Copying file://2023-03-04-food_photos/pistachios/7ac9c56d-7780-458a-8283-98716a6f9365.jpeg [Content-Type=image/jpeg]...\n",
      "Copying file://2023-03-04-food_photos/pistachios/7c301eb7-a1a6-48b7-bede-bbc19e7b3021.jpeg [Content-Type=image/jpeg]...\n",
      "Copying file://2023-03-04-food_photos/pistachios/7cd20665-4485-46cc-9d8a-a718b161da59.jpeg [Content-Type=image/jpeg]...\n",
      "Copying file://2023-03-04-food_photos/pistachios/7db272d1-97de-4dc3-b5ae-a044e8710ed9.jpeg [Content-Type=image/jpeg]...\n",
      "Copying file://2023-03-04-food_photos/pistachios/86499cac-2b2d-412a-885c-5944dd94e6b1.jpeg [Content-Type=image/jpeg]...\n",
      "Copying file://2023-03-04-food_photos/pistachios/8813ac25-5d49-45b3-a2e6-e83a8162555c.jpeg [Content-Type=image/jpeg]...\n",
      "Copying file://2023-03-04-food_photos/pistachios/8954815e-8778-4722-9288-80cf7b6d816f.jpeg [Content-Type=image/jpeg]...\n",
      "Copying file://2023-03-04-food_photos/pistachios/89b46296-7dac-41ed-8ef4-6b79a7bba3a2.jpeg [Content-Type=image/jpeg]...\n",
      "Copying file://2023-03-04-food_photos/pistachios/8a15b903-3457-419d-9656-1b3d2dbc3242.jpeg [Content-Type=image/jpeg]...\n",
      "Copying file://2023-03-04-food_photos/pistachios/8a2bbb69-343b-4196-8300-89eba7bddcf6.jpeg [Content-Type=image/jpeg]...\n",
      "Copying file://2023-03-04-food_photos/pistachios/8aafc8a8-5d71-4184-ab0f-fde447c84648.jpeg [Content-Type=image/jpeg]...\n",
      "Copying file://2023-03-04-food_photos/pistachios/8ae33a71-c43b-495b-b3da-b1f7949e9f7b.jpeg [Content-Type=image/jpeg]...\n",
      "Copying file://2023-03-04-food_photos/pistachios/8ae3e035-de8b-4fee-92cb-2f7d9bb00474.jpeg [Content-Type=image/jpeg]...\n",
      "Copying file://2023-03-04-food_photos/pistachios/8afd0614-05cf-4610-afd2-c320b9cf6f1a.jpeg [Content-Type=image/jpeg]...\n",
      "Copying file://2023-03-04-food_photos/pistachios/8c274544-e6c6-4871-95b8-675818a68506.jpeg [Content-Type=image/jpeg]...\n",
      "Copying file://2023-03-04-food_photos/pistachios/8dae2d10-61c6-46a5-abf0-fdb777b286f9.jpeg [Content-Type=image/jpeg]...\n",
      "Copying file://2023-03-04-food_photos/pistachios/8e9bdf80-65bd-4b04-a9a4-3f9853c00acd.jpeg [Content-Type=image/jpeg]...\n",
      "Copying file://2023-03-04-food_photos/pistachios/9045d894-3a73-496a-8184-b9adc35de9bf.jpeg [Content-Type=image/jpeg]...\n",
      "Copying file://2023-03-04-food_photos/pistachios/924b9e83-890a-49fb-b5c0-28e7d49c943c.jpeg [Content-Type=image/jpeg]...\n",
      "Copying file://2023-03-04-food_photos/pistachios/931d3673-63e3-41d4-b1f2-19c287a72b82.jpeg [Content-Type=image/jpeg]...\n",
      "Copying file://2023-03-04-food_photos/pistachios/93efd3c4-9117-4d3b-a808-b1142c5a8f73.jpeg [Content-Type=image/jpeg]...\n",
      "Copying file://2023-03-04-food_photos/pistachios/9524b708-4c41-484d-ab31-9649cfce48dc.jpeg [Content-Type=image/jpeg]...\n",
      "Copying file://2023-03-04-food_photos/pistachios/9673df66-ccd6-4985-87a9-4e122bed95e2.jpeg [Content-Type=image/jpeg]...\n",
      "Copying file://2023-03-04-food_photos/pistachios/973e8d5b-7952-4349-9a95-b6acd2780729.jpeg [Content-Type=image/jpeg]...\n",
      "Copying file://2023-03-04-food_photos/pistachios/97d977f8-ddc8-4b22-8594-bd76c2d240f1.jpeg [Content-Type=image/jpeg]...\n",
      "Copying file://2023-03-04-food_photos/pistachios/9bec4e4f-e003-4d34-a953-d26c193b7937.jpeg [Content-Type=image/jpeg]...\n",
      "Copying file://2023-03-04-food_photos/pistachios/9ce49b80-fd94-4740-bc17-f069ae1ea803.jpeg [Content-Type=image/jpeg]...\n",
      "Copying file://2023-03-04-food_photos/pistachios/9e67c2c8-3437-491c-a43f-46ef1c312b98.jpeg [Content-Type=image/jpeg]...\n",
      "Copying file://2023-03-04-food_photos/pistachios/9f74011c-70ca-415c-9188-f6d7c8c0df4f.jpeg [Content-Type=image/jpeg]...\n",
      "Copying file://2023-03-04-food_photos/pistachios/9f955077-b489-429e-814a-7aa3267c8a6a.jpeg [Content-Type=image/jpeg]...\n",
      "Copying file://2023-03-04-food_photos/pistachios/a13e9422-6e47-47ec-8a1a-18a2c7bbb38c.jpeg [Content-Type=image/jpeg]...\n",
      "Copying file://2023-03-04-food_photos/pistachios/a31a9f20-57a1-4671-bfdf-c290e3d26cb9.jpeg [Content-Type=image/jpeg]...\n",
      "Copying file://2023-03-04-food_photos/pistachios/a55a26dd-5804-4740-a0e4-28a9b730e088.jpeg [Content-Type=image/jpeg]...\n",
      "Copying file://2023-03-04-food_photos/pistachios/a598625b-28bd-4153-85f1-7ae9dbde0f6b.jpeg [Content-Type=image/jpeg]...\n",
      "Copying file://2023-03-04-food_photos/pistachios/a8af4727-77f8-480c-8977-31cf207dd3b9.jpeg [Content-Type=image/jpeg]...\n",
      "Copying file://2023-03-04-food_photos/pistachios/a95ac633-3d92-434c-af82-39b6fc6e96c9.jpeg [Content-Type=image/jpeg]...\n",
      "Copying file://2023-03-04-food_photos/pistachios/ac4a6724-22fd-45d7-b757-c01fbb48dc45.jpeg [Content-Type=image/jpeg]...\n",
      "Copying file://2023-03-04-food_photos/pistachios/ae1c185e-fa9e-4113-bc0e-33b4f046f48d.jpeg [Content-Type=image/jpeg]...\n",
      "Copying file://2023-03-04-food_photos/pistachios/ae287510-f1fb-4498-822e-c32759a0ef8e.jpeg [Content-Type=image/jpeg]...\n",
      "Copying file://2023-03-04-food_photos/pistachios/aef69462-691f-42fa-b528-d75839bfc7cc.jpeg [Content-Type=image/jpeg]...\n",
      "Copying file://2023-03-04-food_photos/pistachios/af0b0164-9c91-4858-b72b-6e952e4fe555.jpeg [Content-Type=image/jpeg]...\n",
      "Copying file://2023-03-04-food_photos/pistachios/b1a595e5-5165-460d-866b-94b8f3332d11.jpeg [Content-Type=image/jpeg]...\n",
      "Copying file://2023-03-04-food_photos/pistachios/b25b708e-9a3c-426c-909c-50f6c3fbc473.jpeg [Content-Type=image/jpeg]...\n",
      "Copying file://2023-03-04-food_photos/pistachios/b526325c-6566-487a-9e8f-f29e4d4a296f.jpeg [Content-Type=image/jpeg]...\n",
      "Copying file://2023-03-04-food_photos/pistachios/b65814f3-4262-422e-a612-b1ba79dec5d5.jpeg [Content-Type=image/jpeg]...\n",
      "Copying file://2023-03-04-food_photos/pistachios/b7b2e352-0b58-4824-bcd6-f5d1cd1559da.jpeg [Content-Type=image/jpeg]...\n",
      "Copying file://2023-03-04-food_photos/pistachios/b835ee84-3b64-4c6d-b2da-b7ee89a139d0.jpeg [Content-Type=image/jpeg]...\n",
      "Copying file://2023-03-04-food_photos/pistachios/bb81065c-9f49-461a-9925-69c7ba0dfc21.jpeg [Content-Type=image/jpeg]...\n",
      "Copying file://2023-03-04-food_photos/pistachios/be14ab61-2c96-4beb-9a47-c1e5221bd73a.jpeg [Content-Type=image/jpeg]...\n",
      "Copying file://2023-03-04-food_photos/pistachios/be5f0d96-5963-41f5-a1ac-d470f5615660.jpeg [Content-Type=image/jpeg]...\n",
      "Copying file://2023-03-04-food_photos/pistachios/be82e10b-7f53-4fbe-9f8c-feb7b5106e21.jpeg [Content-Type=image/jpeg]...\n",
      "Copying file://2023-03-04-food_photos/pistachios/bec1cc14-586e-41f8-8035-365f763a6346.jpeg [Content-Type=image/jpeg]...\n",
      "Copying file://2023-03-04-food_photos/pistachios/c0932691-6d0b-4244-bc13-d14af5484b0b.jpeg [Content-Type=image/jpeg]...\n",
      "Copying file://2023-03-04-food_photos/pistachios/c192695f-493d-45b0-9ef4-32883fcdf74c.jpeg [Content-Type=image/jpeg]...\n",
      "Copying file://2023-03-04-food_photos/pistachios/c4fac47d-9591-4ff8-9b96-c1608e12181e.jpeg [Content-Type=image/jpeg]...\n",
      "Copying file://2023-03-04-food_photos/pistachios/c6ef4eaa-cf95-4c2f-b7dc-7bfdc7d1b4ac.jpeg [Content-Type=image/jpeg]...\n",
      "Copying file://2023-03-04-food_photos/pistachios/c71a49f7-98a2-45c4-8d1a-2d64eb3acf95.jpeg [Content-Type=image/jpeg]...\n",
      "Copying file://2023-03-04-food_photos/pistachios/c71fa443-e478-4289-a9f7-c53a74552db4.jpeg [Content-Type=image/jpeg]...\n",
      "Copying file://2023-03-04-food_photos/pistachios/c921ca46-892d-4261-a9e7-45ac9ed6f3cd.jpeg [Content-Type=image/jpeg]...\n",
      "Copying file://2023-03-04-food_photos/pistachios/c9a84484-2ad9-4c20-a78c-67943892be30.jpeg [Content-Type=image/jpeg]...\n",
      "Copying file://2023-03-04-food_photos/pistachios/cb4eac70-36a5-4aef-931b-1b4e7b07c2d7.jpeg [Content-Type=image/jpeg]...\n",
      "Copying file://2023-03-04-food_photos/pistachios/cd6ddcad-599a-479b-922d-d103f1d78502.jpeg [Content-Type=image/jpeg]...\n",
      "Copying file://2023-03-04-food_photos/pistachios/cf28d246-a559-41bf-aada-5fe71f86215c.jpeg [Content-Type=image/jpeg]...\n",
      "Copying file://2023-03-04-food_photos/pistachios/cf78dcfd-f54b-4c13-abb6-6381b2ace21d.jpeg [Content-Type=image/jpeg]...\n",
      "Copying file://2023-03-04-food_photos/pistachios/d295b5e8-09be-4f3a-a8e2-ce0bf3e358a6.jpeg [Content-Type=image/jpeg]...\n",
      "Copying file://2023-03-04-food_photos/pistachios/d57d0763-92e7-481c-9fdb-26aae308e0d6.jpeg [Content-Type=image/jpeg]...\n",
      "Copying file://2023-03-04-food_photos/pistachios/d9065e69-08bc-4712-b20e-f947850a66fa.jpeg [Content-Type=image/jpeg]...\n",
      "Copying file://2023-03-04-food_photos/pistachios/dbca50d0-ba62-47ce-a9e7-f7e97d86b1ab.jpeg [Content-Type=image/jpeg]...\n",
      "Copying file://2023-03-04-food_photos/pistachios/dde6952c-f908-4c1a-9be0-b4073c80347a.jpeg [Content-Type=image/jpeg]...\n",
      "Copying file://2023-03-04-food_photos/pistachios/de415b94-aab4-4318-88ce-be9e8f0758e4.jpeg [Content-Type=image/jpeg]...\n",
      "Copying file://2023-03-04-food_photos/pistachios/e37b8b24-d69b-4098-9d32-4d52029350c0.jpeg [Content-Type=image/jpeg]...\n",
      "Copying file://2023-03-04-food_photos/pistachios/e3ebdcc3-390a-42a2-8430-45947b8e4c34.jpeg [Content-Type=image/jpeg]...\n",
      "Copying file://2023-03-04-food_photos/pistachios/e41fbf9d-d4dd-48a3-9896-92f5c6dfdc70.jpeg [Content-Type=image/jpeg]...\n",
      "Copying file://2023-03-04-food_photos/pistachios/e75b8113-9f78-420f-b396-892fbdae765c.jpeg [Content-Type=image/jpeg]...\n",
      "Copying file://2023-03-04-food_photos/pistachios/e81f9790-ee4f-4e8e-8861-f1f39fe5102c.jpeg [Content-Type=image/jpeg]...\n",
      "Copying file://2023-03-04-food_photos/pistachios/e82201bd-910b-433d-9140-65fde04d09b7.jpeg [Content-Type=image/jpeg]...\n",
      "Copying file://2023-03-04-food_photos/pistachios/ea41db58-640d-4b91-bec9-dab630118bfd.jpeg [Content-Type=image/jpeg]...\n",
      "Copying file://2023-03-04-food_photos/pistachios/eb4e857e-7818-4023-9c75-37819b0f1f0f.jpeg [Content-Type=image/jpeg]...\n",
      "Copying file://2023-03-04-food_photos/pistachios/ec9d2352-f9d9-4b73-96d9-a259131d7839.jpeg [Content-Type=image/jpeg]...\n",
      "Copying file://2023-03-04-food_photos/pistachios/eff9eebc-a5c8-45bf-b029-0a98ae7130b2.jpeg [Content-Type=image/jpeg]...\n",
      "Copying file://2023-03-04-food_photos/pistachios/f1ba65e6-ab21-4ef6-b748-55ab07ceb35b.jpeg [Content-Type=image/jpeg]...\n",
      "Copying file://2023-03-04-food_photos/pistachios/f2261e76-82e4-4d0a-b836-3f1c60b8c173.jpeg [Content-Type=image/jpeg]...\n",
      "Copying file://2023-03-04-food_photos/pistachios/f46ca973-e794-40cf-9923-6a2a0b6e5205.jpeg [Content-Type=image/jpeg]...\n",
      "Copying file://2023-03-04-food_photos/pistachios/f478a9b3-e80b-4d1e-95a2-b4ceee065b5c.jpeg [Content-Type=image/jpeg]...\n",
      "Copying file://2023-03-04-food_photos/pistachios/f68e78d5-aa4e-482a-9c46-762a5f3d4d64.jpeg [Content-Type=image/jpeg]...\n",
      "Copying file://2023-03-04-food_photos/pistachios/f9811a50-de4a-49c2-9b6c-811e2ab126ff.jpeg [Content-Type=image/jpeg]...\n",
      "Copying file://2023-03-04-food_photos/pistachios/fa02071b-3d2a-4add-a8d1-1d6df2b6d20d.jpeg [Content-Type=image/jpeg]...\n",
      "Copying file://2023-03-04-food_photos/pistachios/fb54f288-71fa-49b1-820a-d8a151dbe62f.jpeg [Content-Type=image/jpeg]...\n",
      "Copying file://2023-03-04-food_photos/pistachios/febe258e-db01-41c3-b5b9-ab8d839d8043.jpeg [Content-Type=image/jpeg]...\n",
      "Copying file://2023-03-04-food_photos/pistachios/ff8a55dc-9325-4c24-bb30-a0a59898e833.jpeg [Content-Type=image/jpeg]...\n",
      "Copying file://2023-03-04-food_photos/walnuts/02c4198d-7f04-4e72-a17d-077125b5f3a9.jpeg [Content-Type=image/jpeg]...\n",
      "Copying file://2023-03-04-food_photos/walnuts/04c4e46c-e2d0-43ef-a488-a4a4d3a3672e.jpeg [Content-Type=image/jpeg]...\n",
      "Copying file://2023-03-04-food_photos/walnuts/04cf6cd1-0b2e-4dae-b654-480c0af257e7.jpeg [Content-Type=image/jpeg]...\n",
      "Copying file://2023-03-04-food_photos/walnuts/0653b8ee-92e3-4bde-a585-d37b46608254.jpeg [Content-Type=image/jpeg]...\n",
      "Copying file://2023-03-04-food_photos/walnuts/0a775516-e806-49e4-b7dd-ba5242b195fa.jpeg [Content-Type=image/jpeg]...\n",
      "Copying file://2023-03-04-food_photos/walnuts/0c6a7209-291b-4d13-845d-db20b008120c.jpeg [Content-Type=image/jpeg]...\n",
      "Copying file://2023-03-04-food_photos/walnuts/0e44c2f9-f664-4691-8e3f-fa14b0705e03.jpeg [Content-Type=image/jpeg]...\n",
      "Copying file://2023-03-04-food_photos/walnuts/100602d1-ecbf-4a4a-a409-0516393ecefe.jpeg [Content-Type=image/jpeg]...\n",
      "Copying file://2023-03-04-food_photos/walnuts/10c6033f-0c82-42af-bf55-6e4f6bff1dc7.jpeg [Content-Type=image/jpeg]...\n",
      "Copying file://2023-03-04-food_photos/walnuts/1278a223-c389-49fc-8a07-a8fdc95581d2.jpeg [Content-Type=image/jpeg]...\n",
      "Copying file://2023-03-04-food_photos/walnuts/158b976e-a833-4549-a9be-69b67fc1a4e6.jpeg [Content-Type=image/jpeg]...\n",
      "Copying file://2023-03-04-food_photos/walnuts/15b8b1fa-755d-47a5-a48f-e9f159b85d44.jpeg [Content-Type=image/jpeg]...\n",
      "Copying file://2023-03-04-food_photos/walnuts/1603789a-4dce-43c6-a228-b0288c3f564e.jpeg [Content-Type=image/jpeg]...\n",
      "Copying file://2023-03-04-food_photos/walnuts/16cbefeb-7292-4672-b35b-a6090ebf5557.jpeg [Content-Type=image/jpeg]...\n",
      "Copying file://2023-03-04-food_photos/walnuts/174d135d-809f-40fc-8101-12d33e02bec6.jpeg [Content-Type=image/jpeg]...\n",
      "Copying file://2023-03-04-food_photos/walnuts/192894c5-8fdb-4d5b-b285-c57797115dfa.jpeg [Content-Type=image/jpeg]...\n",
      "Copying file://2023-03-04-food_photos/walnuts/1adf43a9-1912-40bf-afb1-125f17f18b29.jpeg [Content-Type=image/jpeg]...\n",
      "Copying file://2023-03-04-food_photos/walnuts/1c59e0e8-f4b1-4dab-bf9d-72011633f0a3.jpeg [Content-Type=image/jpeg]...\n",
      "Copying file://2023-03-04-food_photos/walnuts/1ee0456a-b6ae-467c-aac6-99a2938298a5.jpeg [Content-Type=image/jpeg]...\n",
      "Copying file://2023-03-04-food_photos/walnuts/1ee513a3-8712-4916-9b19-5bd0a0de0942.jpeg [Content-Type=image/jpeg]...\n",
      "Copying file://2023-03-04-food_photos/walnuts/203c7d28-eebc-42d7-bb97-09f0acfce80d.jpeg [Content-Type=image/jpeg]...\n",
      "Copying file://2023-03-04-food_photos/walnuts/20690391-f803-4006-abcc-aa9f978e7d57.jpeg [Content-Type=image/jpeg]...\n",
      "Copying file://2023-03-04-food_photos/walnuts/218face1-32c7-4522-8cf9-35eb76e4e534.jpeg [Content-Type=image/jpeg]...\n",
      "Copying file://2023-03-04-food_photos/walnuts/23259e10-9a58-46c8-b163-8b9288b3e193.jpeg [Content-Type=image/jpeg]...\n",
      "Copying file://2023-03-04-food_photos/walnuts/23ae0d78-26e7-49da-bbdf-a7c5739824eb.jpeg [Content-Type=image/jpeg]...\n",
      "Copying file://2023-03-04-food_photos/walnuts/261cfa23-d898-4fb8-8868-8004598ca767.jpeg [Content-Type=image/jpeg]...\n",
      "Copying file://2023-03-04-food_photos/walnuts/261fe1a8-e791-4710-9ac4-894c52db3ae7.jpeg [Content-Type=image/jpeg]...\n",
      "Copying file://2023-03-04-food_photos/walnuts/265bb394-0b5f-4f00-8902-88ac3dd83c91.jpeg [Content-Type=image/jpeg]...\n",
      "Copying file://2023-03-04-food_photos/walnuts/266aab6a-30d6-4ddd-a34c-7029eb847a81.jpeg [Content-Type=image/jpeg]...\n",
      "Copying file://2023-03-04-food_photos/walnuts/293b12f6-0927-4ee3-87b5-2c854935981b.jpeg [Content-Type=image/jpeg]...\n",
      "Copying file://2023-03-04-food_photos/walnuts/2a5d722c-abbc-482b-82d9-1382243c713b.jpeg [Content-Type=image/jpeg]...\n",
      "Copying file://2023-03-04-food_photos/walnuts/2cfc0f65-4434-41e9-be3d-e231d5022e28.jpeg [Content-Type=image/jpeg]...\n",
      "Copying file://2023-03-04-food_photos/walnuts/2d37d6bc-4fb2-40e1-9b53-623ae39d0564.jpeg [Content-Type=image/jpeg]...\n",
      "Copying file://2023-03-04-food_photos/walnuts/3116c2b6-e705-489e-b475-6f4b3eef5d6e.jpeg [Content-Type=image/jpeg]...\n",
      "Copying file://2023-03-04-food_photos/walnuts/316f9302-ac1d-4f60-a931-343da9231b8c.jpeg [Content-Type=image/jpeg]...\n",
      "Copying file://2023-03-04-food_photos/walnuts/31ac5ec5-03d8-43ba-9f83-69cd7c8a5156.jpeg [Content-Type=image/jpeg]...\n",
      "Copying file://2023-03-04-food_photos/walnuts/3291b6c4-3a7b-48f5-8267-362466afebe0.jpeg [Content-Type=image/jpeg]...\n",
      "Copying file://2023-03-04-food_photos/walnuts/32ceac71-7325-446f-a2a1-22df7ac22f3b.jpeg [Content-Type=image/jpeg]...\n",
      "Copying file://2023-03-04-food_photos/walnuts/32fb0d14-45e7-41f3-8aad-0e4f07f9ab8d.jpeg [Content-Type=image/jpeg]...\n",
      "Copying file://2023-03-04-food_photos/walnuts/361b2700-ba45-4a88-8e45-d30ae5b401e1.jpeg [Content-Type=image/jpeg]...\n",
      "Copying file://2023-03-04-food_photos/walnuts/36888608-7376-4796-96aa-87be9626f920.jpeg [Content-Type=image/jpeg]...\n",
      "Copying file://2023-03-04-food_photos/walnuts/370b5aa5-7724-4539-b97b-f86667d3ad34.jpeg [Content-Type=image/jpeg]...\n",
      "Copying file://2023-03-04-food_photos/walnuts/3b6c6b27-0575-4386-88bb-358736da0a29.jpeg [Content-Type=image/jpeg]...\n",
      "Copying file://2023-03-04-food_photos/walnuts/3c7e670c-eaa5-4c81-8073-f6ca42a41f05.jpeg [Content-Type=image/jpeg]...\n",
      "Copying file://2023-03-04-food_photos/walnuts/3d47ae09-bda0-4fc4-93ef-81e76177d4c2.jpeg [Content-Type=image/jpeg]...\n",
      "Copying file://2023-03-04-food_photos/walnuts/3e5d4903-e0f2-45c6-b952-62c775032731.jpeg [Content-Type=image/jpeg]...\n",
      "Copying file://2023-03-04-food_photos/walnuts/3e950a07-d501-4d8c-8d26-6434b714b898.jpeg [Content-Type=image/jpeg]...\n",
      "Copying file://2023-03-04-food_photos/walnuts/3fd81321-1845-4441-8bd8-64376bf55144.jpeg [Content-Type=image/jpeg]...\n",
      "Copying file://2023-03-04-food_photos/walnuts/4273c138-6eed-4e99-a40a-689770f754f4.jpeg [Content-Type=image/jpeg]...\n",
      "Copying file://2023-03-04-food_photos/walnuts/43814bd3-3b0e-42a3-9d61-45845903262b.jpeg [Content-Type=image/jpeg]...\n",
      "Copying file://2023-03-04-food_photos/walnuts/44fb727c-eeeb-40e8-8104-e0b24b83abb4.jpeg [Content-Type=image/jpeg]...\n",
      "Copying file://2023-03-04-food_photos/walnuts/46b6bab3-fd87-4dc5-b420-9ce84f4b883c.jpeg [Content-Type=image/jpeg]...\n",
      "Copying file://2023-03-04-food_photos/walnuts/46bf1117-c9e8-4917-9855-008e638d06e4.jpeg [Content-Type=image/jpeg]...\n",
      "Copying file://2023-03-04-food_photos/walnuts/48f5a9fc-bb26-4bea-a688-25371743b067.jpeg [Content-Type=image/jpeg]...\n",
      "Copying file://2023-03-04-food_photos/walnuts/49818815-9b0b-45b1-be61-6f96fd9f1da5.jpeg [Content-Type=image/jpeg]...\n",
      "Copying file://2023-03-04-food_photos/walnuts/4dd70eea-d507-46dc-baed-737533c64db7.jpeg [Content-Type=image/jpeg]...\n",
      "Copying file://2023-03-04-food_photos/walnuts/52dc26cb-5b9a-449f-94ee-5ce3ccb791b0.jpeg [Content-Type=image/jpeg]...\n",
      "Copying file://2023-03-04-food_photos/walnuts/53115ecc-5888-4bfe-ba66-9d6780723dbe.jpeg [Content-Type=image/jpeg]...\n",
      "Copying file://2023-03-04-food_photos/walnuts/54aaf9d4-1dda-4871-996d-f34c1a2dc9e4.jpeg [Content-Type=image/jpeg]...\n",
      "Copying file://2023-03-04-food_photos/walnuts/56599a6e-80f3-497d-9c8f-1aff58ba0a51.jpeg [Content-Type=image/jpeg]...\n",
      "Copying file://2023-03-04-food_photos/walnuts/5792c570-8d98-4799-b25a-7ceda189cdec.jpeg [Content-Type=image/jpeg]...\n",
      "Copying file://2023-03-04-food_photos/walnuts/5859e508-20ea-4849-869a-9bd3882d65db.jpeg [Content-Type=image/jpeg]...\n",
      "Copying file://2023-03-04-food_photos/walnuts/58c7cf33-5449-4d55-b030-5972ff24a912.jpeg [Content-Type=image/jpeg]...\n",
      "Copying file://2023-03-04-food_photos/walnuts/59967334-cfc9-47b0-9544-c538369f403a.jpeg [Content-Type=image/jpeg]...\n",
      "Copying file://2023-03-04-food_photos/walnuts/5c7f2c08-a64b-4b54-b889-9d039ef6985a.jpeg [Content-Type=image/jpeg]...\n",
      "Copying file://2023-03-04-food_photos/walnuts/601ca544-9500-4ba2-b53a-26fddd60ee46.jpeg [Content-Type=image/jpeg]...\n",
      "Copying file://2023-03-04-food_photos/walnuts/63fb2ee8-bd16-4d26-ae83-e0dd922a451c.jpeg [Content-Type=image/jpeg]...\n",
      "Copying file://2023-03-04-food_photos/walnuts/653fe438-19fc-4242-a630-c2f58d793de7.jpeg [Content-Type=image/jpeg]...\n",
      "Copying file://2023-03-04-food_photos/walnuts/68c819e4-0e0d-450f-9596-3c9bb5965727.jpeg [Content-Type=image/jpeg]...\n",
      "Copying file://2023-03-04-food_photos/walnuts/68fc788b-c56c-4c9c-88d0-27c77f097fae.jpeg [Content-Type=image/jpeg]...\n",
      "Copying file://2023-03-04-food_photos/walnuts/6947f95c-cbf0-49ad-b54d-2449698d8f97.jpeg [Content-Type=image/jpeg]...\n",
      "Copying file://2023-03-04-food_photos/walnuts/69f15b7f-0770-4233-9329-03fec8d4d214.jpeg [Content-Type=image/jpeg]...\n",
      "Copying file://2023-03-04-food_photos/walnuts/6a033eab-d0a7-4040-930c-10242382ceef.jpeg [Content-Type=image/jpeg]...\n",
      "Copying file://2023-03-04-food_photos/walnuts/6a2419db-1521-4078-bcfe-61447362a782.jpeg [Content-Type=image/jpeg]...\n",
      "Copying file://2023-03-04-food_photos/walnuts/6a4f5700-d43a-42c2-aff6-2ac68075a4e5.jpeg [Content-Type=image/jpeg]...\n",
      "Copying file://2023-03-04-food_photos/walnuts/6b4b4743-007c-4365-a1d8-d3afbaf9bb71.jpeg [Content-Type=image/jpeg]...\n",
      "Copying file://2023-03-04-food_photos/walnuts/6b9e752d-8854-4af7-acab-d893c2cb8d05.jpeg [Content-Type=image/jpeg]...\n",
      "Copying file://2023-03-04-food_photos/walnuts/6bd3e534-fe9c-4852-a9be-9358cb6be340.jpeg [Content-Type=image/jpeg]...\n",
      "Copying file://2023-03-04-food_photos/walnuts/6cbbb6ae-8eed-4e01-8c94-2a13013f1b31.jpeg [Content-Type=image/jpeg]...\n",
      "Copying file://2023-03-04-food_photos/walnuts/71bfe23b-da9e-4f85-8cfe-9f1d9c823413.jpeg [Content-Type=image/jpeg]...\n",
      "Copying file://2023-03-04-food_photos/walnuts/728faa30-53ce-42e8-847d-7a9271f4478c.jpeg [Content-Type=image/jpeg]...\n",
      "Copying file://2023-03-04-food_photos/walnuts/733a6405-caf7-4671-984c-c84d5ce0e58e.jpeg [Content-Type=image/jpeg]...\n",
      "Copying file://2023-03-04-food_photos/walnuts/77131823-44e5-4d1c-b2db-c098a54c4955.jpeg [Content-Type=image/jpeg]...\n",
      "Copying file://2023-03-04-food_photos/walnuts/7a4756ea-1abb-4227-a6d9-f1cc951afec1.jpeg [Content-Type=image/jpeg]...\n",
      "Copying file://2023-03-04-food_photos/walnuts/7bb503c8-db73-4d3d-8db1-cfe4785f541e.jpeg [Content-Type=image/jpeg]...\n",
      "Copying file://2023-03-04-food_photos/walnuts/7bddbc7d-9f5e-420d-b0cf-83eaefd046dd.jpeg [Content-Type=image/jpeg]...\n",
      "Copying file://2023-03-04-food_photos/walnuts/7e313900-58c0-4156-8db0-3963aade9f69.jpeg [Content-Type=image/jpeg]...\n",
      "Copying file://2023-03-04-food_photos/walnuts/7f4d4668-3294-4280-b2cb-c66ac3853de7.jpeg [Content-Type=image/jpeg]...\n",
      "Copying file://2023-03-04-food_photos/walnuts/7f9f016b-b160-46d5-bf1f-f2e31ee1bfc3.jpeg [Content-Type=image/jpeg]...\n",
      "Copying file://2023-03-04-food_photos/walnuts/86231f4f-94ad-4427-a44a-b19e01dc4b4d.jpeg [Content-Type=image/jpeg]...\n",
      "Copying file://2023-03-04-food_photos/walnuts/86f3301b-dc93-488b-bf32-a9eeb7af52ae.jpeg [Content-Type=image/jpeg]...\n",
      "Copying file://2023-03-04-food_photos/walnuts/87dc2225-ed5a-4e89-a2e4-d10b334c69c0.jpeg [Content-Type=image/jpeg]...\n",
      "Copying file://2023-03-04-food_photos/walnuts/88ea0845-98a5-4c6c-9ba2-1a7d9abe3a7d.jpeg [Content-Type=image/jpeg]...\n",
      "Copying file://2023-03-04-food_photos/walnuts/89f6e1b8-8918-42cc-95e1-4abd05c6b79a.jpeg [Content-Type=image/jpeg]...\n",
      "Copying file://2023-03-04-food_photos/walnuts/8d5af2f7-1f80-4b64-87d5-a8d816e22ac7.jpeg [Content-Type=image/jpeg]...\n",
      "Copying file://2023-03-04-food_photos/walnuts/8db5628b-f06e-4e2d-ae25-20af13ee7b1a.jpeg [Content-Type=image/jpeg]...\n",
      "Copying file://2023-03-04-food_photos/walnuts/8e3af14a-5ea7-494b-9fc1-14b5a53b8af0.jpeg [Content-Type=image/jpeg]...\n",
      "Copying file://2023-03-04-food_photos/walnuts/8f1f48f4-e8e5-46b0-a52a-da944d661b54.jpeg [Content-Type=image/jpeg]...\n",
      "Copying file://2023-03-04-food_photos/walnuts/8fb69c8f-28fd-415a-a80c-e3ec5ea06d79.jpeg [Content-Type=image/jpeg]...\n",
      "Copying file://2023-03-04-food_photos/walnuts/8fc5b091-bd2b-44cf-a6c2-8ce419bc978a.jpeg [Content-Type=image/jpeg]...\n",
      "Copying file://2023-03-04-food_photos/walnuts/91f11a71-7b18-48b5-8374-1652114d0ab2.jpeg [Content-Type=image/jpeg]...\n",
      "Copying file://2023-03-04-food_photos/walnuts/92091f26-130a-48d9-9c99-11bbc86ae93a.jpeg [Content-Type=image/jpeg]...\n",
      "Copying file://2023-03-04-food_photos/walnuts/926ee283-86f8-426d-a600-6b4ebf33c3a6.jpeg [Content-Type=image/jpeg]...\n",
      "Copying file://2023-03-04-food_photos/walnuts/9276c47b-c9ad-4971-ac8f-eaa9914a6303.jpeg [Content-Type=image/jpeg]...\n",
      "Copying file://2023-03-04-food_photos/walnuts/99bed262-6303-4d16-b4f6-63d262f971e8.jpeg [Content-Type=image/jpeg]...\n",
      "Copying file://2023-03-04-food_photos/walnuts/9a320773-5b0d-42dc-8716-0c8b9a14ff95.jpeg [Content-Type=image/jpeg]...\n",
      "Copying file://2023-03-04-food_photos/walnuts/9a5cb1e3-86ae-4ab1-a319-0c8dc686cf44.jpeg [Content-Type=image/jpeg]...\n",
      "Copying file://2023-03-04-food_photos/walnuts/9a9803d5-3a29-4b79-851a-f5bf5cb10d13.jpeg [Content-Type=image/jpeg]...\n",
      "Copying file://2023-03-04-food_photos/walnuts/9aafc760-5d24-4747-bb30-b680131adb69.jpeg [Content-Type=image/jpeg]...\n",
      "Copying file://2023-03-04-food_photos/walnuts/9ac6edfd-ad5d-443e-9eab-df12f9728639.jpeg [Content-Type=image/jpeg]...\n",
      "Copying file://2023-03-04-food_photos/walnuts/9ce59e7e-df4c-4b6c-8097-63bad9158379.jpeg [Content-Type=image/jpeg]...\n",
      "Copying file://2023-03-04-food_photos/walnuts/9e6abb61-e696-40c2-b49a-2702a31f884b.jpeg [Content-Type=image/jpeg]...\n",
      "Copying file://2023-03-04-food_photos/walnuts/9ecfff83-f347-4ebf-b388-c5b5a9cac741.jpeg [Content-Type=image/jpeg]...\n",
      "Copying file://2023-03-04-food_photos/walnuts/a126b8da-de82-464d-b57c-ba81a1e3411f.jpeg [Content-Type=image/jpeg]...\n",
      "Copying file://2023-03-04-food_photos/walnuts/a182fe3f-5838-4869-8778-4524d1e75e85.jpeg [Content-Type=image/jpeg]...\n",
      "Copying file://2023-03-04-food_photos/walnuts/a1bfdd94-5dbd-4767-ab8f-295f4a9caf3f.jpeg [Content-Type=image/jpeg]...\n",
      "Copying file://2023-03-04-food_photos/walnuts/a29ba212-a3cd-4b62-bf4c-05484a94f2a9.jpeg [Content-Type=image/jpeg]...\n",
      "Copying file://2023-03-04-food_photos/walnuts/a30dea46-5fa4-4081-946b-5aa7a17137e8.jpeg [Content-Type=image/jpeg]...\n",
      "Copying file://2023-03-04-food_photos/walnuts/a40290ee-3853-43f6-abb7-147b9c4401cf.jpeg [Content-Type=image/jpeg]...\n",
      "Copying file://2023-03-04-food_photos/walnuts/a4e5e9a4-3c61-4066-9f23-4cd6ce961609.jpeg [Content-Type=image/jpeg]...\n",
      "Copying file://2023-03-04-food_photos/walnuts/a623fca7-a93d-4793-b719-1318b0ee3967.jpeg [Content-Type=image/jpeg]...\n",
      "Copying file://2023-03-04-food_photos/walnuts/a72a7140-fa48-490e-950b-d57e42e6eac2.jpeg [Content-Type=image/jpeg]...\n",
      "Copying file://2023-03-04-food_photos/walnuts/a911a952-0e64-49af-ac2b-f53262b12c12.jpeg [Content-Type=image/jpeg]...\n",
      "Copying file://2023-03-04-food_photos/walnuts/aaa8b671-2f8a-4a5e-8575-796092212350.jpeg [Content-Type=image/jpeg]...\n",
      "Copying file://2023-03-04-food_photos/walnuts/ab6a0b3b-332e-46d4-b723-a781394e8b68.jpeg [Content-Type=image/jpeg]...\n",
      "Copying file://2023-03-04-food_photos/walnuts/aae6b1c7-6652-4952-b933-ea53fa5b12aa.jpeg [Content-Type=image/jpeg]...\n",
      "Copying file://2023-03-04-food_photos/walnuts/ab8d7d14-765d-46cb-b3c3-81b26a0cc989.jpeg [Content-Type=image/jpeg]...\n",
      "Copying file://2023-03-04-food_photos/walnuts/ac8320ef-e586-4fe4-a087-4e350053a13d.jpeg [Content-Type=image/jpeg]...\n",
      "Copying file://2023-03-04-food_photos/walnuts/adfb3305-efa8-4438-9d4a-9d1fcce71ec9.jpeg [Content-Type=image/jpeg]...\n",
      "Copying file://2023-03-04-food_photos/walnuts/aee4aa48-2fc1-4c4e-8c80-6482bd27b343.jpeg [Content-Type=image/jpeg]...\n",
      "Copying file://2023-03-04-food_photos/walnuts/af31bbcb-c62f-4d45-be2a-4fb3328ceb23.jpeg [Content-Type=image/jpeg]...\n",
      "Copying file://2023-03-04-food_photos/walnuts/b2017914-91a3-4d93-a587-a8008ba02c8b.jpeg [Content-Type=image/jpeg]...\n",
      "Copying file://2023-03-04-food_photos/walnuts/b4da2805-64cf-404e-b14b-39db79a78513.jpeg [Content-Type=image/jpeg]...\n",
      "Copying file://2023-03-04-food_photos/walnuts/b568a954-872d-483a-8a71-4cfb4d56dfee.jpeg [Content-Type=image/jpeg]...\n",
      "Copying file://2023-03-04-food_photos/walnuts/b67c54f3-6c26-4ce1-8056-a26c18f75fde.jpeg [Content-Type=image/jpeg]...\n",
      "Copying file://2023-03-04-food_photos/walnuts/b71cc8af-d534-4e87-9bce-babdc160c230.jpeg [Content-Type=image/jpeg]...\n",
      "Copying file://2023-03-04-food_photos/walnuts/b91c7c8e-73bf-452e-b9be-c2978c384af9.jpeg [Content-Type=image/jpeg]...\n",
      "Copying file://2023-03-04-food_photos/walnuts/bc2a9754-f9bd-4c64-9a9c-864e4e1ce983.jpeg [Content-Type=image/jpeg]...\n",
      "Copying file://2023-03-04-food_photos/walnuts/bc85f7b4-76fe-4562-abdf-b07cb1986704.jpeg [Content-Type=image/jpeg]...\n",
      "Copying file://2023-03-04-food_photos/walnuts/bf2c758a-f31f-49eb-9ff3-f67ec01c02cb.jpeg [Content-Type=image/jpeg]...\n",
      "Copying file://2023-03-04-food_photos/walnuts/c154d16c-5008-48ec-af86-b2478001c1dd.jpeg [Content-Type=image/jpeg]...\n",
      "Copying file://2023-03-04-food_photos/walnuts/c1e78caa-6ef6-48c9-9f8b-e648b90f2b22.jpeg [Content-Type=image/jpeg]...\n",
      "Copying file://2023-03-04-food_photos/walnuts/c2368180-a6a2-4b13-a722-cacc89214ad7.jpeg [Content-Type=image/jpeg]...\n",
      "Copying file://2023-03-04-food_photos/walnuts/c3062b39-eb54-4260-b1b3-740abf4e9aaf.jpeg [Content-Type=image/jpeg]...\n",
      "Copying file://2023-03-04-food_photos/walnuts/c30790ea-8fb5-4ed9-b473-6d514e0f7a6e.jpeg [Content-Type=image/jpeg]...\n",
      "Copying file://2023-03-04-food_photos/walnuts/c378e03e-a954-4744-baea-25d810945dc5.jpeg [Content-Type=image/jpeg]...\n",
      "Copying file://2023-03-04-food_photos/walnuts/c3808a82-bb9c-44af-bcfd-7b212333833e.jpeg [Content-Type=image/jpeg]...\n",
      "Copying file://2023-03-04-food_photos/walnuts/c3daf09a-5e90-4ef6-954e-ab517d523b95.jpeg [Content-Type=image/jpeg]...\n",
      "Copying file://2023-03-04-food_photos/walnuts/c53a8278-b18b-4edd-97b0-2dbd033a43c1.jpeg [Content-Type=image/jpeg]...\n",
      "Copying file://2023-03-04-food_photos/walnuts/cbe24c51-f383-45c3-b443-2997f01c351e.jpeg [Content-Type=image/jpeg]...\n",
      "Copying file://2023-03-04-food_photos/walnuts/cf09f31d-19f7-455d-abe7-f0910f11bf10.jpeg [Content-Type=image/jpeg]...\n",
      "Copying file://2023-03-04-food_photos/walnuts/d51ef6c5-5042-4f1b-854c-622e0aae87bf.jpeg [Content-Type=image/jpeg]...\n",
      "Copying file://2023-03-04-food_photos/walnuts/cfbaf6df-6d1d-4a48-bb69-c2a234bd5ceb.jpeg [Content-Type=image/jpeg]...\n",
      "Copying file://2023-03-04-food_photos/walnuts/d71ffeab-5fc4-4cb4-81df-a7bf6573a602.jpeg [Content-Type=image/jpeg]...\n",
      "Copying file://2023-03-04-food_photos/walnuts/d7ce906d-d46f-4506-ab90-ff83e35cd7a2.jpeg [Content-Type=image/jpeg]...\n",
      "Copying file://2023-03-04-food_photos/walnuts/d8c550c6-ada6-49e6-b356-f5dc5cd79f8b.jpeg [Content-Type=image/jpeg]...\n",
      "Copying file://2023-03-04-food_photos/walnuts/da454930-36e2-44f9-92f2-8d3b575bf2dd.jpeg [Content-Type=image/jpeg]...\n",
      "Copying file://2023-03-04-food_photos/walnuts/da89316e-9c6d-4db7-97bd-4819e2ad10d5.jpeg [Content-Type=image/jpeg]...\n",
      "Copying file://2023-03-04-food_photos/walnuts/dac89fc5-4803-4a89-950b-2d15504e5a86.jpeg [Content-Type=image/jpeg]...\n",
      "Copying file://2023-03-04-food_photos/walnuts/ded25b1b-57e3-47ca-be86-8dc191e204bb.jpeg [Content-Type=image/jpeg]...\n",
      "Copying file://2023-03-04-food_photos/walnuts/e1d4e8e3-3535-4351-af59-d5fd548b1da7.jpeg [Content-Type=image/jpeg]...\n",
      "Copying file://2023-03-04-food_photos/walnuts/e428cb02-7464-4d95-aac6-4d45ebc829a8.jpeg [Content-Type=image/jpeg]...\n",
      "Copying file://2023-03-04-food_photos/walnuts/e5f8fd7f-af69-4416-9dd0-ee68445942be.jpeg [Content-Type=image/jpeg]...\n",
      "Copying file://2023-03-04-food_photos/walnuts/e629a62e-7ffd-461a-badd-089a4b4b74ea.jpeg [Content-Type=image/jpeg]...\n",
      "Copying file://2023-03-04-food_photos/walnuts/e62a8772-664e-4b20-98c9-f45f9758780a.jpeg [Content-Type=image/jpeg]...\n",
      "Copying file://2023-03-04-food_photos/walnuts/e8c76d23-fec2-48b5-b561-1345b28ddc81.jpeg [Content-Type=image/jpeg]...\n",
      "Copying file://2023-03-04-food_photos/walnuts/ea266a6b-c2aa-489e-8b23-073d48fd5278.jpeg [Content-Type=image/jpeg]...\n",
      "Copying file://2023-03-04-food_photos/walnuts/ec0cc92e-a810-4603-877a-eaef288d5c5f.jpeg [Content-Type=image/jpeg]...\n",
      "Copying file://2023-03-04-food_photos/walnuts/ec7d93c2-f23d-4add-828f-e7a148a8b3c0.jpeg [Content-Type=image/jpeg]...\n",
      "Copying file://2023-03-04-food_photos/walnuts/f0296564-991e-48f0-b830-f1ff160ae355.jpeg [Content-Type=image/jpeg]...\n",
      "Copying file://2023-03-04-food_photos/walnuts/f1474fb3-3789-4dd0-b159-9029d2b34189.jpeg [Content-Type=image/jpeg]...\n",
      "Copying file://2023-03-04-food_photos/walnuts/f1d59532-736f-409d-9053-b00de7d1c396.jpeg [Content-Type=image/jpeg]...\n",
      "Copying file://2023-03-04-food_photos/walnuts/f336d229-4a1c-44e4-9754-160c28b7877d.jpeg [Content-Type=image/jpeg]...\n",
      "Copying file://2023-03-04-food_photos/walnuts/f3514c36-c935-4965-a3aa-fb94042c8914.jpeg [Content-Type=image/jpeg]...\n",
      "Copying file://2023-03-04-food_photos/walnuts/f8b67fe5-ce67-4ae0-a142-7d58a73f3e97.jpeg [Content-Type=image/jpeg]...\n",
      "Copying file://2023-03-04-food_photos/walnuts/fa71aca2-dc9c-4b43-a18a-e3e192b30bef.jpeg [Content-Type=image/jpeg]...\n",
      "Copying file://2023-03-04-food_photos/walnuts/fad1db2e-027c-4415-a19c-fb0891e0ce71.jpeg [Content-Type=image/jpeg]...\n",
      "Copying file://2023-03-04-food_photos/walnuts/fafcab11-1c57-4147-86da-7c7f2fba1160.jpeg [Content-Type=image/jpeg]...\n",
      "Copying file://2023-03-04-food_photos/walnuts/fb6e6a3c-6de0-4974-8fab-6af99579c004.jpeg [Content-Type=image/jpeg]...\n",
      "Copying file://2023-03-04-food_photos/walnuts/fbd0fd56-e102-4efc-8cec-81137894e003.jpeg [Content-Type=image/jpeg]...\n",
      "Copying file://2023-03-04-food_photos/walnuts/fcb7edc4-5712-47c0-8fcb-ad1528936c29.jpeg [Content-Type=image/jpeg]...\n",
      "Copying file://2023-03-04-food_photos/walnuts/fd738856-6640-445b-894f-47c5055f388a.jpeg [Content-Type=image/jpeg]...\n",
      "Copying file://2023-03-04-food_photos/walnuts/fff1c4ad-3600-46ec-b713-3ee8fbe974a1.jpeg [Content-Type=image/jpeg]...\n",
      "- [900/900 files][313.5 MiB/313.5 MiB] 100% Done   4.8 MiB/s ETA 00:00:00       \n",
      "Operation completed over 900 objects/313.5 MiB.                                  \n"
     ]
    }
   ],
   "source": [
    "# Upload the images to Google Storage\n",
    "!gsutil -m cp -r $target_dir/*/*.jp*g gs://$GS_BUCKET_NAME/all_images/"
   ]
  },
  {
   "cell_type": "code",
   "execution_count": 135,
   "metadata": {},
   "outputs": [],
   "source": [
    "# # Test uploading of 1 image\n",
    "# one_image = image_paths[0]\n",
    "\n",
    "# # Upload the image to Google Storage\n",
    "# upload_to_gs(bucket_name=GS_BUCKET_NAME,\n",
    "#              source_file_name=one_image,\n",
    "#              destination_blob_name=f\"all_images/{one_image.name}\")"
   ]
  },
  {
   "cell_type": "code",
   "execution_count": 127,
   "metadata": {},
   "outputs": [
    {
     "name": "stdout",
     "output_type": "stream",
     "text": [
      "[INFO] There are 110309 images in the GCP bucket\n"
     ]
    }
   ],
   "source": [
    "# Get list of images already in GCP bucket\n",
    "gs_image_paths = get_list_of_blobs(bucket_name=GS_BUCKET_NAME, prefix=\"all_images\")\n",
    "print(f\"[INFO] There are {len(gs_image_paths)} images in the GCP bucket\")"
   ]
  },
  {
   "cell_type": "code",
   "execution_count": 128,
   "metadata": {},
   "outputs": [
    {
     "data": {
      "text/plain": [
       "['000226a7-5332-4f45-b0e9-6760e9bd6d3e.jpeg',\n",
       " '0003c8a1-7f64-4540-9256-3252f0981035.jpeg',\n",
       " '00045a69-b09f-4293-8c2e-a7ba27964fb6.jpg',\n",
       " '0004a23a-88b3-4aae-a1b0-c9ebe77d31b8.jpeg',\n",
       " '00065302-c0e7-4634-ab63-5ddd16bfdeb8.jpeg',\n",
       " '0008eda8-cd90-4394-bdac-aa1574f7738d.jpeg',\n",
       " '0009bea1-1577-4db5-bc60-b27eaed2d276.jpg',\n",
       " '000b5cca-0b52-452b-9a11-12c44bfaab12.jpeg',\n",
       " '000b9348-2afc-425d-91a8-765c04483a41.jpeg',\n",
       " '000bd61c-f25c-415c-8cf1-3adc2d788320.jpg']"
      ]
     },
     "execution_count": 128,
     "metadata": {},
     "output_type": "execute_result"
    }
   ],
   "source": [
    "gs_image_paths_name = [str(blob.name).split(\"/\")[-1] for blob in gs_image_paths]\n",
    "gs_image_paths_name[:10]"
   ]
  },
  {
   "cell_type": "code",
   "execution_count": 129,
   "metadata": {},
   "outputs": [],
   "source": [
    "for image_name in image_paths:\n",
    "    if \"b322004c-d78e-47e9-a2c1-1d5d116b1601.jpeg\" in image_name.name:\n",
    "        print(f\"[INFO] {image_name} in GCP bucket\")\n",
    "        # print(f\"[INFO] {image_name} not in GCP bucket\")"
   ]
  },
  {
   "cell_type": "code",
   "execution_count": 130,
   "metadata": {},
   "outputs": [
    {
     "data": {
      "application/vnd.jupyter.widget-view+json": {
       "model_id": "d9ccfe5f7fe340edbafde08a9cff5875",
       "version_major": 2,
       "version_minor": 0
      },
      "text/plain": [
       "  0%|          | 0/900 [00:00<?, ?it/s]"
      ]
     },
     "metadata": {},
     "output_type": "display_data"
    },
    {
     "name": "stdout",
     "output_type": "stream",
     "text": [
      "[INFO] Uploaded 0 images to GCP bucket\n"
     ]
    }
   ],
   "source": [
    "# Loop through image_paths and upload the image as long as its name isn't in gs_image_paths_name\n",
    "from tqdm.auto import tqdm\n",
    "\n",
    "num_images_uploaded = 0\n",
    "for image_path in tqdm(image_paths):\n",
    "    if image_path.name not in gs_image_paths_name:\n",
    "        \n",
    "        # Upload the image to Google Storage\n",
    "        upload_to_gs(bucket_name=GS_BUCKET_NAME,\n",
    "                     source_file_name=image_path,\n",
    "                     destination_blob_name=f\"all_images/{image_path.name}\")\n",
    "        \n",
    "        num_images_uploaded += 1\n",
    "\n",
    "print(f\"[INFO] Uploaded {num_images_uploaded} images to GCP bucket\")"
   ]
  },
  {
   "cell_type": "code",
   "execution_count": 131,
   "metadata": {},
   "outputs": [],
   "source": [
    "# Track the changes to GCP bucket with Weights & Biases\n",
    "from utils.wandb_utils import wandb_add_artifact_with_reference"
   ]
  },
  {
   "cell_type": "code",
   "execution_count": 132,
   "metadata": {},
   "outputs": [
    {
     "name": "stdout",
     "output_type": "stream",
     "text": [
      "[INFO] Logging 'food_vision_199_classes_images' from 'gs://food_vision_bucket_with_object_versioning/all_images' to Weights & Biases...\n"
     ]
    },
    {
     "name": "stderr",
     "output_type": "stream",
     "text": [
      "\u001b[34m\u001b[1mwandb\u001b[0m: Generating checksum for up to 1000000000 objects with prefix \"all_images\"... Done. 23.6s\n"
     ]
    }
   ],
   "source": [
    "# Track updated images_dir in Weights & Biases\n",
    "food_images_path_on_gs = \"gs://food_vision_bucket_with_object_versioning/all_images\"\n",
    "\n",
    "wandb_add_artifact_with_reference(wandb_run=run,\n",
    "                                  artifact_name=\"food_vision_199_classes_images\",\n",
    "                                  artifact_type=\"dataset\",\n",
    "                                  description=\"Images for FoodVision project\",\n",
    "                                  reference_path=food_images_path_on_gs)"
   ]
  },
  {
   "cell_type": "code",
   "execution_count": 133,
   "metadata": {},
   "outputs": [
    {
     "name": "stdout",
     "output_type": "stream",
     "text": [
      "[INFO] There are 110309 images in the GCP bucket\n"
     ]
    }
   ],
   "source": [
    "# Get list of images already in GCP bucket\n",
    "gs_image_paths = get_list_of_blobs(bucket_name=GS_BUCKET_NAME, prefix=\"all_images\")\n",
    "print(f\"[INFO] There are {len(gs_image_paths)} images in the GCP bucket\")"
   ]
  },
  {
   "cell_type": "code",
   "execution_count": 62,
   "metadata": {},
   "outputs": [
    {
     "data": {
      "text/plain": [
       "'all_images/000226a7-5332-4f45-b0e9-6760e9bd6d3e.jpeg'"
      ]
     },
     "execution_count": 62,
     "metadata": {},
     "output_type": "execute_result"
    }
   ],
   "source": [
    "gs_image_paths[0].name"
   ]
  },
  {
   "cell_type": "code",
   "execution_count": null,
   "metadata": {},
   "outputs": [],
   "source": [
    "# Next:\n",
    "# Create labels CSV for all photos in food_photos ✅\n",
    "# Add labels CSV to original annotations ✅\n",
    "# Upload all photos in food_photos to GCP ✅\n",
    "# Track updates in W&B ✅\n",
    "\n",
    "# Train a model and track how it performs (by only upgrading training data)"
   ]
  }
 ],
 "metadata": {
  "kernelspec": {
   "display_name": "Python 3",
   "language": "python",
   "name": "python3"
  },
  "language_info": {
   "codemirror_mode": {
    "name": "ipython",
    "version": 3
   },
   "file_extension": ".py",
   "mimetype": "text/x-python",
   "name": "python",
   "nbconvert_exporter": "python",
   "pygments_lexer": "ipython3",
   "version": "3.8.13"
  },
  "orig_nbformat": 4,
  "vscode": {
   "interpreter": {
    "hash": "3fbe1355223f7b2ffc113ba3ade6a2b520cadace5d5ec3e828c83ce02eb221bf"
   }
  }
 },
 "nbformat": 4,
 "nbformat_minor": 2
}
