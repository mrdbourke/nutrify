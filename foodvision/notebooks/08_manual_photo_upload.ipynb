{
 "cells": [
  {
   "attachments": {},
   "cell_type": "markdown",
   "metadata": {},
   "source": [
    "## Manually label and upload photos to the database\n",
    "\n",
    "* **Input:** folder with classifc image classification format:\n",
    "\n",
    "```\n",
    "images/\n",
    "    class_1/\n",
    "        image_1.jpg\n",
    "        image_2.jpg\n",
    "        ...\n",
    "    class_2/\n",
    "        image_3.jpeg\n",
    "        image_4.jpeg\n",
    "        ...\n",
    "    ...\n",
    "```\n",
    "\n",
    "* **Output:** Labelled images stored in GCP and tracked with Weights & Biases Artifacts. \n"
   ]
  },
  {
   "cell_type": "code",
   "execution_count": 2,
   "metadata": {},
   "outputs": [],
   "source": [
    "# Append the upper level directory to sys\n",
    "import sys\n",
    "sys.path.append(\"..\")\n",
    "\n",
    "import pandas as pd\n",
    "import numpy as np\n",
    "\n",
    "from pathlib import Path"
   ]
  },
  {
   "cell_type": "code",
   "execution_count": 3,
   "metadata": {},
   "outputs": [],
   "source": [
    "# !rm -rf food_photos/*\n",
    "# !rm -rf _MACOSX\n",
    "# !rm -rf _MACOSX/*"
   ]
  },
  {
   "cell_type": "code",
   "execution_count": 4,
   "metadata": {},
   "outputs": [],
   "source": [
    "# !unzip -q 2023-02-15-food_photos.zip"
   ]
  },
  {
   "cell_type": "code",
   "execution_count": 5,
   "metadata": {},
   "outputs": [
    {
     "data": {
      "text/plain": [
       "[PosixPath('2023-03-08-food_photos/almonds/2294afec-0c7e-4c8f-ac92-1ada00567573.jpeg'),\n",
       " PosixPath('2023-03-08-food_photos/almonds/62cbd33b-6219-4594-9375-32b177d77a20.jpeg'),\n",
       " PosixPath('2023-03-08-food_photos/almonds/85354abd-c96b-4528-9db1-68965590c803.jpeg'),\n",
       " PosixPath('2023-03-08-food_photos/apple_green/978041ba-6e9d-4046-8330-e6619b2b7b17.jpeg'),\n",
       " PosixPath('2023-03-08-food_photos/apple_green/a07d8896-0dc5-4ea4-9c25-47be12ee0728.jpeg'),\n",
       " PosixPath('2023-03-08-food_photos/apple_red/1cd9683f-4da4-48b3-a402-da9d7bc89553.jpeg'),\n",
       " PosixPath('2023-03-08-food_photos/apple_red/ff425b65-9c41-466f-8e2a-b0d84af4de87.jpeg'),\n",
       " PosixPath('2023-03-08-food_photos/asparagus/0b59353f-a55b-4b2a-bf7d-d6a5b07373aa.jpeg'),\n",
       " PosixPath('2023-03-08-food_photos/avocado/0abde6b1-6b32-48a4-a9a0-9c9865bc6de3.jpeg'),\n",
       " PosixPath('2023-03-08-food_photos/avocado/3288b26e-5a13-420c-9af0-43edf5914b47.jpeg')]"
      ]
     },
     "execution_count": 5,
     "metadata": {},
     "output_type": "execute_result"
    }
   ],
   "source": [
    "# Get list of all paths in food_photos directory\n",
    "target_dir = '2023-03-08-food_photos'\n",
    "path = Path(target_dir)\n",
    "all_paths = sorted(list(path.glob('*/*.jp*g')))\n",
    "all_paths[:10]"
   ]
  },
  {
   "cell_type": "code",
   "execution_count": 6,
   "metadata": {},
   "outputs": [
    {
     "data": {
      "text/plain": [
       "434"
      ]
     },
     "execution_count": 6,
     "metadata": {},
     "output_type": "execute_result"
    }
   ],
   "source": [
    "len(all_paths)"
   ]
  },
  {
   "cell_type": "code",
   "execution_count": 7,
   "metadata": {},
   "outputs": [
    {
     "name": "stdout",
     "output_type": "stream",
     "text": [
      "some-file-name is not a valid UUID\n"
     ]
    }
   ],
   "source": [
    "import uuid\n",
    "\n",
    "def is_valid_uuid(string):\n",
    "    try:\n",
    "        uuid.UUID(string)\n",
    "        return True\n",
    "    except ValueError:\n",
    "        return False\n",
    "\n",
    "filename = \"some-file-name\"\n",
    "if is_valid_uuid(filename):\n",
    "    print(f\"{filename} is a valid UUID\")\n",
    "else:\n",
    "    print(f\"{filename} is not a valid UUID\")"
   ]
  },
  {
   "cell_type": "code",
   "execution_count": 8,
   "metadata": {},
   "outputs": [
    {
     "data": {
      "text/plain": [
       "[PosixPath('2023-03-08-food_photos/almonds/2294afec-0c7e-4c8f-ac92-1ada00567573.jpeg'),\n",
       " PosixPath('2023-03-08-food_photos/almonds/62cbd33b-6219-4594-9375-32b177d77a20.jpeg'),\n",
       " PosixPath('2023-03-08-food_photos/almonds/85354abd-c96b-4528-9db1-68965590c803.jpeg'),\n",
       " PosixPath('2023-03-08-food_photos/apple_green/978041ba-6e9d-4046-8330-e6619b2b7b17.jpeg'),\n",
       " PosixPath('2023-03-08-food_photos/apple_green/a07d8896-0dc5-4ea4-9c25-47be12ee0728.jpeg'),\n",
       " PosixPath('2023-03-08-food_photos/apple_red/1cd9683f-4da4-48b3-a402-da9d7bc89553.jpeg'),\n",
       " PosixPath('2023-03-08-food_photos/apple_red/ff425b65-9c41-466f-8e2a-b0d84af4de87.jpeg'),\n",
       " PosixPath('2023-03-08-food_photos/asparagus/0b59353f-a55b-4b2a-bf7d-d6a5b07373aa.jpeg'),\n",
       " PosixPath('2023-03-08-food_photos/avocado/0abde6b1-6b32-48a4-a9a0-9c9865bc6de3.jpeg'),\n",
       " PosixPath('2023-03-08-food_photos/avocado/3288b26e-5a13-420c-9af0-43edf5914b47.jpeg')]"
      ]
     },
     "execution_count": 8,
     "metadata": {},
     "output_type": "execute_result"
    }
   ],
   "source": [
    "# Loop through all_paths, if the path is a UUID, pass, if not, rename the file to a UUID\n",
    "for path in all_paths:\n",
    "    if not is_valid_uuid(path.stem):\n",
    "        print(f\"[INFO] {path} isn't valud UUID, renaming to UUID...\")\n",
    "        new_name = f\"{uuid.uuid4()}.jpeg\"\n",
    "        new_path_name = path.parent / new_name\n",
    "        path.rename(new_path_name)\n",
    "        print(f\"[INFO] Renamed {path} to {new_path_name}\")\n",
    "\n",
    "# Get list of all paths in food_photos directory\n",
    "path = Path(target_dir)\n",
    "all_paths = sorted(list(path.glob('*/*.jpeg')))\n",
    "all_paths[:10]"
   ]
  },
  {
   "cell_type": "code",
   "execution_count": 9,
   "metadata": {},
   "outputs": [
    {
     "data": {
      "text/plain": [
       "{'almonds': 3,\n",
       " 'apple_green': 2,\n",
       " 'apple_red': 2,\n",
       " 'asparagus': 1,\n",
       " 'avocado': 9,\n",
       " 'bacon': 4,\n",
       " 'banana': 8,\n",
       " 'banana_bread': 2,\n",
       " 'basil': 5,\n",
       " 'beef_mince': 7,\n",
       " 'beer': 1,\n",
       " 'blackberries': 2,\n",
       " 'blueberries': 1,\n",
       " 'bok_choy': 1,\n",
       " 'bread': 11,\n",
       " 'bread_naan': 6,\n",
       " 'broccoli': 1,\n",
       " 'broccolini': 6,\n",
       " 'brussel_sprouts': 1,\n",
       " 'butter': 2,\n",
       " 'cabbage_green': 4,\n",
       " 'cabbage_red': 1,\n",
       " 'capsicum_green': 2,\n",
       " 'capsicum_red': 5,\n",
       " 'capsicum_yellow': 4,\n",
       " 'carrot': 4,\n",
       " 'carrot_purple': 2,\n",
       " 'cauliflower': 3,\n",
       " 'celery': 1,\n",
       " 'cheese': 7,\n",
       " 'chilli': 3,\n",
       " 'chocolate': 2,\n",
       " 'cookies': 1,\n",
       " 'coriander': 1,\n",
       " 'corn_chips': 1,\n",
       " 'croissant': 1,\n",
       " 'cucumber': 11,\n",
       " 'curry_chicken': 3,\n",
       " 'dill': 1,\n",
       " 'donuts': 6,\n",
       " 'dragonfruit': 6,\n",
       " 'eggplant': 1,\n",
       " 'eggs': 5,\n",
       " 'fennel': 1,\n",
       " 'figs': 1,\n",
       " 'fruit_salad': 4,\n",
       " 'fruit_smoothie': 1,\n",
       " 'garlic': 11,\n",
       " 'garlic_chives': 2,\n",
       " 'ginger': 3,\n",
       " 'grapefruit': 1,\n",
       " 'grapes_red': 1,\n",
       " 'grapes_white': 1,\n",
       " 'green_beans': 4,\n",
       " 'ham': 4,\n",
       " 'honey': 6,\n",
       " 'ice_coffee': 1,\n",
       " 'ice_cream': 6,\n",
       " 'kale': 10,\n",
       " 'kiwifruit': 4,\n",
       " 'leek': 1,\n",
       " 'lemon': 6,\n",
       " 'lettuce_cos': 7,\n",
       " 'lettuce_iceberg': 1,\n",
       " 'lime': 2,\n",
       " 'lychee': 1,\n",
       " 'mandarin': 1,\n",
       " 'mango': 1,\n",
       " 'marjoram': 1,\n",
       " 'melon_candy': 2,\n",
       " 'melon_dino': 2,\n",
       " 'melon_spanish': 2,\n",
       " 'milk': 6,\n",
       " 'mint': 1,\n",
       " 'mushroom_enoki': 2,\n",
       " 'mushroom_oyster': 2,\n",
       " 'mushroom_portobello': 2,\n",
       " 'mushroom_swiss_brown': 3,\n",
       " 'mushroom_white_cups': 10,\n",
       " 'nectarine': 1,\n",
       " 'olive_oil': 1,\n",
       " 'omelette': 4,\n",
       " 'onion_brown': 2,\n",
       " 'onion_green': 3,\n",
       " 'onion_red': 1,\n",
       " 'onion_white': 3,\n",
       " 'orange': 3,\n",
       " 'orange_juice': 13,\n",
       " 'oregano': 2,\n",
       " 'pain_au_chocolat': 2,\n",
       " 'parsley': 2,\n",
       " 'parsnips': 1,\n",
       " 'passionfruit': 1,\n",
       " 'pasta': 2,\n",
       " 'pawpaw': 2,\n",
       " 'peach': 3,\n",
       " 'pear': 15,\n",
       " 'persimmon': 9,\n",
       " 'pickles': 2,\n",
       " 'pistachio': 1,\n",
       " 'pizza': 4,\n",
       " 'plum': 6,\n",
       " 'plum_sugar': 3,\n",
       " 'pork_roast': 1,\n",
       " 'potato_brown': 2,\n",
       " 'potato_kipfler': 2,\n",
       " 'potato_purple_sweet': 2,\n",
       " 'potato_red': 3,\n",
       " 'potato_sweet': 1,\n",
       " 'potato_white': 5,\n",
       " 'prawns': 5,\n",
       " 'pumpkin': 1,\n",
       " 'pumpkin_butternut': 3,\n",
       " 'radish_red': 2,\n",
       " 'radish_white': 2,\n",
       " 'rice_white': 1,\n",
       " 'rocket': 1,\n",
       " 'rockmelon': 1,\n",
       " 'rosemary': 4,\n",
       " 'sage': 1,\n",
       " 'sandwich_toasted': 14,\n",
       " 'silverbeet': 3,\n",
       " 'snow_peas': 1,\n",
       " 'soda': 1,\n",
       " 'spinach': 2,\n",
       " 'squash': 2,\n",
       " 'steak': 4,\n",
       " 'strawberries': 2,\n",
       " 'tarragon': 1,\n",
       " 'tea': 1,\n",
       " 'thyme': 1,\n",
       " 'toast': 1,\n",
       " 'tomato': 3,\n",
       " 'tomato_cherry': 2,\n",
       " 'turnip': 1,\n",
       " 'watermelon': 4,\n",
       " 'wombok': 3,\n",
       " 'yoghurt': 1}"
      ]
     },
     "execution_count": 9,
     "metadata": {},
     "output_type": "execute_result"
    }
   ],
   "source": [
    "# Find the number of .jpeg images in each subfolder of food_photos and create a dictionary mapping the subfolder name to the number of images\n",
    "subfolder_to_num_images = {}\n",
    "for p in all_paths:\n",
    "    subfolder = p.parent.stem\n",
    "    if subfolder in subfolder_to_num_images:\n",
    "        subfolder_to_num_images[subfolder] += 1\n",
    "    else:\n",
    "        subfolder_to_num_images[subfolder] = 1\n",
    "subfolder_to_num_images"
   ]
  },
  {
   "cell_type": "code",
   "execution_count": 10,
   "metadata": {},
   "outputs": [
    {
     "data": {
      "text/plain": [
       "138"
      ]
     },
     "execution_count": 10,
     "metadata": {},
     "output_type": "execute_result"
    }
   ],
   "source": [
    "len(subfolder_to_num_images)"
   ]
  },
  {
   "cell_type": "code",
   "execution_count": 11,
   "metadata": {},
   "outputs": [
    {
     "data": {
      "text/plain": [
       "['almonds',\n",
       " 'apple_green',\n",
       " 'apple_red',\n",
       " 'asparagus',\n",
       " 'avocado',\n",
       " 'bacon',\n",
       " 'banana',\n",
       " 'banana_bread',\n",
       " 'basil',\n",
       " 'beef_mince',\n",
       " 'beer',\n",
       " 'blackberries',\n",
       " 'blueberries',\n",
       " 'bok_choy',\n",
       " 'bread',\n",
       " 'bread_naan',\n",
       " 'broccoli',\n",
       " 'broccolini',\n",
       " 'brussel_sprouts',\n",
       " 'butter',\n",
       " 'cabbage_green',\n",
       " 'cabbage_red',\n",
       " 'capsicum_green',\n",
       " 'capsicum_red',\n",
       " 'capsicum_yellow',\n",
       " 'carrot',\n",
       " 'carrot_purple',\n",
       " 'cauliflower',\n",
       " 'celery',\n",
       " 'cheese',\n",
       " 'chilli',\n",
       " 'chocolate',\n",
       " 'cookies',\n",
       " 'coriander',\n",
       " 'corn_chips',\n",
       " 'croissant',\n",
       " 'cucumber',\n",
       " 'curry_chicken',\n",
       " 'dill',\n",
       " 'donuts',\n",
       " 'dragonfruit',\n",
       " 'eggplant',\n",
       " 'eggs',\n",
       " 'fennel',\n",
       " 'figs',\n",
       " 'fruit_salad',\n",
       " 'fruit_smoothie',\n",
       " 'garlic',\n",
       " 'garlic_chives',\n",
       " 'ginger',\n",
       " 'grapefruit',\n",
       " 'grapes_red',\n",
       " 'grapes_white',\n",
       " 'green_beans',\n",
       " 'ham',\n",
       " 'honey',\n",
       " 'ice_coffee',\n",
       " 'ice_cream',\n",
       " 'kale',\n",
       " 'kiwifruit',\n",
       " 'leek',\n",
       " 'lemon',\n",
       " 'lettuce_cos',\n",
       " 'lettuce_iceberg',\n",
       " 'lime',\n",
       " 'lychee',\n",
       " 'mandarin',\n",
       " 'mango',\n",
       " 'marjoram',\n",
       " 'melon_candy',\n",
       " 'melon_dino',\n",
       " 'melon_spanish',\n",
       " 'milk',\n",
       " 'mint',\n",
       " 'mushroom_enoki',\n",
       " 'mushroom_oyster',\n",
       " 'mushroom_portobello',\n",
       " 'mushroom_swiss_brown',\n",
       " 'mushroom_white_cups',\n",
       " 'nectarine',\n",
       " 'olive_oil',\n",
       " 'omelette',\n",
       " 'onion_brown',\n",
       " 'onion_green',\n",
       " 'onion_red',\n",
       " 'onion_white',\n",
       " 'orange',\n",
       " 'orange_juice',\n",
       " 'oregano',\n",
       " 'pain_au_chocolat',\n",
       " 'parsley',\n",
       " 'parsnips',\n",
       " 'passionfruit',\n",
       " 'pasta',\n",
       " 'pawpaw',\n",
       " 'peach',\n",
       " 'pear',\n",
       " 'persimmon',\n",
       " 'pickles',\n",
       " 'pistachio',\n",
       " 'pizza',\n",
       " 'plum',\n",
       " 'plum_sugar',\n",
       " 'pork_roast',\n",
       " 'potato_brown',\n",
       " 'potato_kipfler',\n",
       " 'potato_purple_sweet',\n",
       " 'potato_red',\n",
       " 'potato_sweet',\n",
       " 'potato_white',\n",
       " 'prawns',\n",
       " 'pumpkin',\n",
       " 'pumpkin_butternut',\n",
       " 'radish_red',\n",
       " 'radish_white',\n",
       " 'rice_white',\n",
       " 'rocket',\n",
       " 'rockmelon',\n",
       " 'rosemary',\n",
       " 'sage',\n",
       " 'sandwich_toasted',\n",
       " 'silverbeet',\n",
       " 'snow_peas',\n",
       " 'soda',\n",
       " 'spinach',\n",
       " 'squash',\n",
       " 'steak',\n",
       " 'strawberries',\n",
       " 'tarragon',\n",
       " 'tea',\n",
       " 'thyme',\n",
       " 'toast',\n",
       " 'tomato',\n",
       " 'tomato_cherry',\n",
       " 'turnip',\n",
       " 'watermelon',\n",
       " 'wombok',\n",
       " 'yoghurt']"
      ]
     },
     "execution_count": 11,
     "metadata": {},
     "output_type": "execute_result"
    }
   ],
   "source": [
    "# Get all food_types from all_paths\n",
    "food_types = sorted(list(set([p.parent.name for p in all_paths])))\n",
    "food_types"
   ]
  },
  {
   "cell_type": "markdown",
   "metadata": {},
   "source": [
    "## Download original labels from Weights & Biases"
   ]
  },
  {
   "cell_type": "code",
   "execution_count": 12,
   "metadata": {},
   "outputs": [
    {
     "name": "stdout",
     "output_type": "stream",
     "text": [
      "namespace(annotations_columns_to_export=['filename', 'image_name', 'class_name', 'label', 'split', 'clear_or_confusing', 'whole_food_or_dish', 'one_food_or_multiple', 'label_last_updated_at', 'label_source', 'image_source'], auto_augment=True, batch_size=128, epochs=10, gs_bucket_name='food_vision_bucket_with_object_versioning', gs_image_storage_path='https://storage.cloud.google.com/food_vision_bucket_with_object_versioning/all_images/', input_size=224, label_smoothing=0.1, learning_rate=0.001, model='coatnext_nano_rw_224', num_to_try_and_autocorrect=1000, num_top_n_preds=5, path_to_gcp_credentials='utils/google-storage-key.json', path_to_label_studio_api_key='utils/label_studio_api_key.json', pretrained=True, seed=42, use_mixed_precision=True, wandb_dataset_artifact='food_vision_199_classes_images:latest', wandb_job_type='', wandb_labels_artifact='food_vision_labels:latest', wandb_model_artifact='trained_model:latest', wandb_project='test_wandb_artifacts_by_reference', wandb_run_notes='', wandb_run_tags=[''], wandb_train_preds_artifact='train_predictions:latest', workers=16)\n"
     ]
    }
   ],
   "source": [
    "# Get config\n",
    "from configs.default_config import config\n",
    "\n",
    "args = config\n",
    "print(args)"
   ]
  },
  {
   "cell_type": "code",
   "execution_count": 13,
   "metadata": {},
   "outputs": [
    {
     "name": "stdout",
     "output_type": "stream",
     "text": [
      "[INFO] GCP credentials set!\n",
      "[INFO] GCP connection successful! Access to GCP for saving/loading data and models available.\n"
     ]
    }
   ],
   "source": [
    "# Connect to GCP\n",
    "from utils.gcp_utils import set_gcp_credentials, test_gcp_connection\n",
    "set_gcp_credentials(path_to_key=\"../utils/google-storage-key.json\")\n",
    "test_gcp_connection()"
   ]
  },
  {
   "cell_type": "code",
   "execution_count": 14,
   "metadata": {},
   "outputs": [
    {
     "name": "stderr",
     "output_type": "stream",
     "text": [
      "Failed to detect the name of this notebook, you can set it manually with the WANDB_NOTEBOOK_NAME environment variable to enable code saving.\n",
      "\u001b[34m\u001b[1mwandb\u001b[0m: Currently logged in as: \u001b[33mmrdbourke\u001b[0m. Use \u001b[1m`wandb login --relogin`\u001b[0m to force relogin\n"
     ]
    },
    {
     "data": {
      "text/html": [
       "wandb version 0.13.11 is available!  To upgrade, please run:\n",
       " $ pip install wandb --upgrade"
      ],
      "text/plain": [
       "<IPython.core.display.HTML object>"
      ]
     },
     "metadata": {},
     "output_type": "display_data"
    },
    {
     "data": {
      "text/html": [
       "Tracking run with wandb version 0.12.21"
      ],
      "text/plain": [
       "<IPython.core.display.HTML object>"
      ]
     },
     "metadata": {},
     "output_type": "display_data"
    },
    {
     "data": {
      "text/html": [
       "Run data is saved locally in <code>/home/daniel/code/nutrify/foodvision/notebooks/wandb/run-20230309_082336-8e9ks6f2</code>"
      ],
      "text/plain": [
       "<IPython.core.display.HTML object>"
      ]
     },
     "metadata": {},
     "output_type": "display_data"
    },
    {
     "data": {
      "text/html": [
       "Syncing run <strong><a href=\"https://wandb.ai/mrdbourke/test_wandb_artifacts_by_reference/runs/8e9ks6f2\" target=\"_blank\">exalted-sky-480</a></strong> to <a href=\"https://wandb.ai/mrdbourke/test_wandb_artifacts_by_reference\" target=\"_blank\">Weights & Biases</a> (<a href=\"https://wandb.me/run\" target=\"_blank\">docs</a>)<br/>"
      ],
      "text/plain": [
       "<IPython.core.display.HTML object>"
      ]
     },
     "metadata": {},
     "output_type": "display_data"
    },
    {
     "name": "stdout",
     "output_type": "stream",
     "text": [
      "[INFO] Labels directory: ./artifacts/food_vision_labels:v42\n",
      "[INFO] Labels path: artifacts/food_vision_labels:v42/annotations.csv\n",
      "[INFO] Working with: 252 classes\n"
     ]
    }
   ],
   "source": [
    "import wandb\n",
    "\n",
    "# Initialize a new run\n",
    "from utils.wandb_utils import wandb_load_artifact, wandb_download_and_load_labels\n",
    "\n",
    "notes = f\"add {len(all_paths)} manually taken photos to the training dataset\"\n",
    "\n",
    "run = wandb.init(project=args.wandb_project, \n",
    "                 job_type=args.wandb_job_type,\n",
    "                 tags=['manual_photo_upload'],\n",
    "                 notes=notes)\n",
    "\n",
    "annotations, class_names, class_dict, reverse_class_dict, labels_path = wandb_download_and_load_labels(wandb_run=run,\n",
    "wandb_labels_artifact_name=args.wandb_labels_artifact)"
   ]
  },
  {
   "cell_type": "code",
   "execution_count": 15,
   "metadata": {},
   "outputs": [
    {
     "data": {
      "text/plain": [
       "252"
      ]
     },
     "execution_count": 15,
     "metadata": {},
     "output_type": "execute_result"
    }
   ],
   "source": [
    "len(annotations.label.unique())"
   ]
  },
  {
   "cell_type": "code",
   "execution_count": 16,
   "metadata": {},
   "outputs": [],
   "source": [
    "# Make a copy of the annotations\n",
    "original_annotations = annotations.copy()"
   ]
  },
  {
   "cell_type": "code",
   "execution_count": 17,
   "metadata": {},
   "outputs": [
    {
     "data": {
      "text/plain": [
       "['filename',\n",
       " 'image_name',\n",
       " 'class_name',\n",
       " 'label',\n",
       " 'split',\n",
       " 'clear_or_confusing',\n",
       " 'whole_food_or_dish',\n",
       " 'one_food_or_multiple',\n",
       " 'label_last_updated_at',\n",
       " 'label_source',\n",
       " 'image_source']"
      ]
     },
     "execution_count": 17,
     "metadata": {},
     "output_type": "execute_result"
    }
   ],
   "source": [
    "# Get the columns of the annotations\n",
    "columns_to_create = list(original_annotations.columns)\n",
    "columns_to_create"
   ]
  },
  {
   "cell_type": "code",
   "execution_count": 18,
   "metadata": {},
   "outputs": [
    {
     "data": {
      "text/plain": [
       "434"
      ]
     },
     "execution_count": 18,
     "metadata": {},
     "output_type": "execute_result"
    }
   ],
   "source": [
    "# Get all the image paths from food_photos\n",
    "image_paths = list(Path(target_dir).glob('*/*.jpeg'))\n",
    "len(image_paths)"
   ]
  },
  {
   "cell_type": "code",
   "execution_count": 19,
   "metadata": {},
   "outputs": [
    {
     "data": {
      "text/plain": [
       "121"
      ]
     },
     "execution_count": 19,
     "metadata": {},
     "output_type": "execute_result"
    }
   ],
   "source": [
    "# Check to see what food_types are in class_names\n",
    "food_types_in_class_names = [food_type for food_type in food_types if food_type in class_names]\n",
    "\n",
    "# Check to see what food_types are not in class_names\n",
    "food_types_not_in_class_names = [food_type for food_type in food_types if food_type not in class_names]\n",
    "len(food_types_in_class_names)"
   ]
  },
  {
   "cell_type": "code",
   "execution_count": 106,
   "metadata": {},
   "outputs": [
    {
     "data": {
      "text/plain": [
       "['almonds', 'cashews', 'macadamia', 'pecans', 'pistachios', 'walnuts']"
      ]
     },
     "execution_count": 106,
     "metadata": {},
     "output_type": "execute_result"
    }
   ],
   "source": [
    "food_types_in_class_names"
   ]
  },
  {
   "cell_type": "code",
   "execution_count": 20,
   "metadata": {},
   "outputs": [
    {
     "data": {
      "text/plain": [
       "['carrot_purple',\n",
       " 'dill',\n",
       " 'fruit_salad',\n",
       " 'garlic_chives',\n",
       " 'kiwifruit',\n",
       " 'marjoram',\n",
       " 'melon_candy',\n",
       " 'melon_dino',\n",
       " 'melon_spanish',\n",
       " 'oregano',\n",
       " 'plum_sugar',\n",
       " 'pumpkin_butternut',\n",
       " 'rocket',\n",
       " 'sage',\n",
       " 'silverbeet',\n",
       " 'tarragon',\n",
       " 'thyme']"
      ]
     },
     "execution_count": 20,
     "metadata": {},
     "output_type": "execute_result"
    }
   ],
   "source": [
    "food_types_not_in_class_names"
   ]
  },
  {
   "cell_type": "code",
   "execution_count": 21,
   "metadata": {},
   "outputs": [
    {
     "data": {
      "text/plain": [
       "['pistachio']"
      ]
     },
     "execution_count": 21,
     "metadata": {},
     "output_type": "execute_result"
    }
   ],
   "source": [
    "# Check to see if \"macadamia\" in class_names\n",
    "[class_name for class_name in class_names if \"pis\" in class_name]"
   ]
  },
  {
   "cell_type": "code",
   "execution_count": 22,
   "metadata": {},
   "outputs": [],
   "source": [
    "# How to slot new classes into existing class_dict?\n",
    "# Then update the existing annotations with the new class labels (e.g. \"apple_green\" -> 2, \"apple_red\" -> 3)\n",
    "\n",
    "# Add new classes to class_dict\n",
    "for food_type in food_types_not_in_class_names:\n",
    "    class_dict[len(class_dict)] = food_type\n",
    "    class_names.append(food_type)\n",
    "    reverse_class_dict[food_type] = len(class_dict)-1"
   ]
  },
  {
   "cell_type": "code",
   "execution_count": 23,
   "metadata": {},
   "outputs": [
    {
     "data": {
      "text/plain": [
       "269"
      ]
     },
     "execution_count": 23,
     "metadata": {},
     "output_type": "execute_result"
    }
   ],
   "source": [
    "len(class_dict)"
   ]
  },
  {
   "cell_type": "code",
   "execution_count": 24,
   "metadata": {},
   "outputs": [
    {
     "data": {
      "text/html": [
       "<div>\n",
       "<style scoped>\n",
       "    .dataframe tbody tr th:only-of-type {\n",
       "        vertical-align: middle;\n",
       "    }\n",
       "\n",
       "    .dataframe tbody tr th {\n",
       "        vertical-align: top;\n",
       "    }\n",
       "\n",
       "    .dataframe thead th {\n",
       "        text-align: right;\n",
       "    }\n",
       "</style>\n",
       "<table border=\"1\" class=\"dataframe\">\n",
       "  <thead>\n",
       "    <tr style=\"text-align: right;\">\n",
       "      <th></th>\n",
       "      <th>filename</th>\n",
       "      <th>image_name</th>\n",
       "      <th>class_name</th>\n",
       "      <th>label</th>\n",
       "      <th>split</th>\n",
       "      <th>clear_or_confusing</th>\n",
       "      <th>whole_food_or_dish</th>\n",
       "      <th>one_food_or_multiple</th>\n",
       "      <th>label_last_updated_at</th>\n",
       "      <th>label_source</th>\n",
       "      <th>image_source</th>\n",
       "    </tr>\n",
       "  </thead>\n",
       "  <tbody>\n",
       "    <tr>\n",
       "      <th>0</th>\n",
       "      <td>2023-03-08-food_photos/wombok/b0ee4f8f-62d5-49...</td>\n",
       "      <td>b0ee4f8f-62d5-490c-9a01-6b0af3f8a66a.jpeg</td>\n",
       "      <td>wombok</td>\n",
       "      <td>249</td>\n",
       "      <td>train</td>\n",
       "      <td>clear</td>\n",
       "      <td>whole_food</td>\n",
       "      <td>one_food</td>\n",
       "      <td>2023-03-09_08-24-32</td>\n",
       "      <td>manual_upload</td>\n",
       "      <td>manual_upload</td>\n",
       "    </tr>\n",
       "    <tr>\n",
       "      <th>1</th>\n",
       "      <td>2023-03-08-food_photos/wombok/ff42e0c7-d1d4-46...</td>\n",
       "      <td>ff42e0c7-d1d4-46a0-a587-d6529badb591.jpeg</td>\n",
       "      <td>wombok</td>\n",
       "      <td>249</td>\n",
       "      <td>test</td>\n",
       "      <td>clear</td>\n",
       "      <td>whole_food</td>\n",
       "      <td>one_food</td>\n",
       "      <td>2023-03-09_08-24-32</td>\n",
       "      <td>manual_upload</td>\n",
       "      <td>manual_upload</td>\n",
       "    </tr>\n",
       "    <tr>\n",
       "      <th>2</th>\n",
       "      <td>2023-03-08-food_photos/wombok/0713c1f2-51b2-49...</td>\n",
       "      <td>0713c1f2-51b2-49ea-812b-88098aadfbd5.jpeg</td>\n",
       "      <td>wombok</td>\n",
       "      <td>249</td>\n",
       "      <td>train</td>\n",
       "      <td>clear</td>\n",
       "      <td>whole_food</td>\n",
       "      <td>one_food</td>\n",
       "      <td>2023-03-09_08-24-32</td>\n",
       "      <td>manual_upload</td>\n",
       "      <td>manual_upload</td>\n",
       "    </tr>\n",
       "    <tr>\n",
       "      <th>3</th>\n",
       "      <td>2023-03-08-food_photos/pain_au_chocolat/0f9386...</td>\n",
       "      <td>0f938616-5a71-4248-8856-d785076512bf.jpeg</td>\n",
       "      <td>pain_au_chocolat</td>\n",
       "      <td>155</td>\n",
       "      <td>train</td>\n",
       "      <td>clear</td>\n",
       "      <td>whole_food</td>\n",
       "      <td>one_food</td>\n",
       "      <td>2023-03-09_08-24-32</td>\n",
       "      <td>manual_upload</td>\n",
       "      <td>manual_upload</td>\n",
       "    </tr>\n",
       "    <tr>\n",
       "      <th>4</th>\n",
       "      <td>2023-03-08-food_photos/pain_au_chocolat/78b873...</td>\n",
       "      <td>78b87304-15b2-444f-96c6-16393d692e8c.jpeg</td>\n",
       "      <td>pain_au_chocolat</td>\n",
       "      <td>155</td>\n",
       "      <td>train</td>\n",
       "      <td>clear</td>\n",
       "      <td>whole_food</td>\n",
       "      <td>one_food</td>\n",
       "      <td>2023-03-09_08-24-32</td>\n",
       "      <td>manual_upload</td>\n",
       "      <td>manual_upload</td>\n",
       "    </tr>\n",
       "  </tbody>\n",
       "</table>\n",
       "</div>"
      ],
      "text/plain": [
       "                                            filename  \\\n",
       "0  2023-03-08-food_photos/wombok/b0ee4f8f-62d5-49...   \n",
       "1  2023-03-08-food_photos/wombok/ff42e0c7-d1d4-46...   \n",
       "2  2023-03-08-food_photos/wombok/0713c1f2-51b2-49...   \n",
       "3  2023-03-08-food_photos/pain_au_chocolat/0f9386...   \n",
       "4  2023-03-08-food_photos/pain_au_chocolat/78b873...   \n",
       "\n",
       "                                  image_name        class_name  label  split  \\\n",
       "0  b0ee4f8f-62d5-490c-9a01-6b0af3f8a66a.jpeg            wombok    249  train   \n",
       "1  ff42e0c7-d1d4-46a0-a587-d6529badb591.jpeg            wombok    249   test   \n",
       "2  0713c1f2-51b2-49ea-812b-88098aadfbd5.jpeg            wombok    249  train   \n",
       "3  0f938616-5a71-4248-8856-d785076512bf.jpeg  pain_au_chocolat    155  train   \n",
       "4  78b87304-15b2-444f-96c6-16393d692e8c.jpeg  pain_au_chocolat    155  train   \n",
       "\n",
       "  clear_or_confusing whole_food_or_dish one_food_or_multiple  \\\n",
       "0              clear         whole_food             one_food   \n",
       "1              clear         whole_food             one_food   \n",
       "2              clear         whole_food             one_food   \n",
       "3              clear         whole_food             one_food   \n",
       "4              clear         whole_food             one_food   \n",
       "\n",
       "  label_last_updated_at   label_source   image_source  \n",
       "0   2023-03-09_08-24-32  manual_upload  manual_upload  \n",
       "1   2023-03-09_08-24-32  manual_upload  manual_upload  \n",
       "2   2023-03-09_08-24-32  manual_upload  manual_upload  \n",
       "3   2023-03-09_08-24-32  manual_upload  manual_upload  \n",
       "4   2023-03-09_08-24-32  manual_upload  manual_upload  "
      ]
     },
     "execution_count": 24,
     "metadata": {},
     "output_type": "execute_result"
    }
   ],
   "source": [
    "from utils.misc import get_now_time\n",
    "\n",
    "# Create a list of dictionaries and fill out the columns of the annotations\n",
    "columns = ['filename',\n",
    " 'image_name',\n",
    " 'class_name',\n",
    " 'label',\n",
    " 'split',\n",
    " 'clear_or_confusing',\n",
    " 'whole_food_or_dish',\n",
    " 'one_food_or_multiple',\n",
    " 'label_last_updated_at',\n",
    " 'label_source',\n",
    " 'image_source']\n",
    "\n",
    "food_image_dict_list = []\n",
    "\n",
    "LABEL_SOURCE = \"manual_upload\"\n",
    "IMAGE_SOURCE = \"manual_upload\"\n",
    "LABEL_LAST_UPDATED_AT = get_now_time()\n",
    "\n",
    "for image_path in image_paths:\n",
    "    food_image_dict = {}\n",
    "    food_image_dict['filename'] = image_path\n",
    "    food_image_dict['image_name'] = image_path.name\n",
    "    food_image_dict['class_name'] = image_path.parent.name\n",
    "    food_image_dict['label'] = reverse_class_dict[image_path.parent.name]\n",
    "    # food_image_dict['split'] = 'train'\n",
    "    # Label 20% of the images as test\n",
    "    if np.random.random() < 0.2:\n",
    "        food_image_dict['split'] = 'test'\n",
    "    else:\n",
    "        food_image_dict['split'] = 'train'\n",
    "    food_image_dict['clear_or_confusing'] = 'clear'\n",
    "    food_image_dict['whole_food_or_dish'] = 'whole_food'\n",
    "    food_image_dict['one_food_or_multiple'] = 'one_food'\n",
    "    food_image_dict['label_last_updated_at'] = LABEL_LAST_UPDATED_AT\n",
    "    food_image_dict['label_source'] = LABEL_SOURCE\n",
    "    food_image_dict['image_source'] = IMAGE_SOURCE\n",
    "\n",
    "    food_image_dict_list.append(food_image_dict)\n",
    "\n",
    "# Create a dataframe from the list of dictionaries\n",
    "import pandas as pd\n",
    "new_annotations = pd.DataFrame(food_image_dict_list)\n",
    "new_annotations.head()"
   ]
  },
  {
   "cell_type": "code",
   "execution_count": 25,
   "metadata": {},
   "outputs": [
    {
     "data": {
      "text/plain": [
       "train    363\n",
       "test      71\n",
       "Name: split, dtype: int64"
      ]
     },
     "execution_count": 25,
     "metadata": {},
     "output_type": "execute_result"
    }
   ],
   "source": [
    "# Print how many images are train/test in new_annotations\n",
    "new_annotations['split'].value_counts()"
   ]
  },
  {
   "cell_type": "code",
   "execution_count": 26,
   "metadata": {},
   "outputs": [
    {
     "data": {
      "text/html": [
       "<div>\n",
       "<style scoped>\n",
       "    .dataframe tbody tr th:only-of-type {\n",
       "        vertical-align: middle;\n",
       "    }\n",
       "\n",
       "    .dataframe tbody tr th {\n",
       "        vertical-align: top;\n",
       "    }\n",
       "\n",
       "    .dataframe thead th {\n",
       "        text-align: right;\n",
       "    }\n",
       "</style>\n",
       "<table border=\"1\" class=\"dataframe\">\n",
       "  <thead>\n",
       "    <tr style=\"text-align: right;\">\n",
       "      <th></th>\n",
       "      <th>filename</th>\n",
       "      <th>image_name</th>\n",
       "      <th>class_name</th>\n",
       "      <th>label</th>\n",
       "      <th>split</th>\n",
       "      <th>clear_or_confusing</th>\n",
       "      <th>whole_food_or_dish</th>\n",
       "      <th>one_food_or_multiple</th>\n",
       "      <th>label_last_updated_at</th>\n",
       "      <th>label_source</th>\n",
       "      <th>image_source</th>\n",
       "    </tr>\n",
       "  </thead>\n",
       "  <tbody>\n",
       "    <tr>\n",
       "      <th>11</th>\n",
       "      <td>2023-03-08-food_photos/melon_candy/5215b380-ac...</td>\n",
       "      <td>5215b380-acf2-4079-8e41-4c1415013c16.jpeg</td>\n",
       "      <td>melon_candy</td>\n",
       "      <td>258</td>\n",
       "      <td>train</td>\n",
       "      <td>clear</td>\n",
       "      <td>whole_food</td>\n",
       "      <td>one_food</td>\n",
       "      <td>2023-03-09_08-24-32</td>\n",
       "      <td>manual_upload</td>\n",
       "      <td>manual_upload</td>\n",
       "    </tr>\n",
       "    <tr>\n",
       "      <th>253</th>\n",
       "      <td>2023-03-08-food_photos/fruit_salad/f4e01cd8-ec...</td>\n",
       "      <td>f4e01cd8-ec04-495c-9a34-d6969b1a1936.jpeg</td>\n",
       "      <td>fruit_salad</td>\n",
       "      <td>254</td>\n",
       "      <td>train</td>\n",
       "      <td>clear</td>\n",
       "      <td>whole_food</td>\n",
       "      <td>one_food</td>\n",
       "      <td>2023-03-09_08-24-32</td>\n",
       "      <td>manual_upload</td>\n",
       "      <td>manual_upload</td>\n",
       "    </tr>\n",
       "    <tr>\n",
       "      <th>254</th>\n",
       "      <td>2023-03-08-food_photos/fruit_salad/ecd43b88-8e...</td>\n",
       "      <td>ecd43b88-8e8b-4ad0-bbf9-696334fef50c.jpeg</td>\n",
       "      <td>fruit_salad</td>\n",
       "      <td>254</td>\n",
       "      <td>train</td>\n",
       "      <td>clear</td>\n",
       "      <td>whole_food</td>\n",
       "      <td>one_food</td>\n",
       "      <td>2023-03-09_08-24-32</td>\n",
       "      <td>manual_upload</td>\n",
       "      <td>manual_upload</td>\n",
       "    </tr>\n",
       "    <tr>\n",
       "      <th>233</th>\n",
       "      <td>2023-03-08-food_photos/garlic_chives/a089ae06-...</td>\n",
       "      <td>a089ae06-0476-4c96-bcf6-4a6893db6b90.jpeg</td>\n",
       "      <td>garlic_chives</td>\n",
       "      <td>255</td>\n",
       "      <td>train</td>\n",
       "      <td>clear</td>\n",
       "      <td>whole_food</td>\n",
       "      <td>one_food</td>\n",
       "      <td>2023-03-09_08-24-32</td>\n",
       "      <td>manual_upload</td>\n",
       "      <td>manual_upload</td>\n",
       "    </tr>\n",
       "    <tr>\n",
       "      <th>252</th>\n",
       "      <td>2023-03-08-food_photos/fruit_salad/48ffd0e6-81...</td>\n",
       "      <td>48ffd0e6-81fe-40c6-9f9a-8135506a916e.jpeg</td>\n",
       "      <td>fruit_salad</td>\n",
       "      <td>254</td>\n",
       "      <td>test</td>\n",
       "      <td>clear</td>\n",
       "      <td>whole_food</td>\n",
       "      <td>one_food</td>\n",
       "      <td>2023-03-09_08-24-32</td>\n",
       "      <td>manual_upload</td>\n",
       "      <td>manual_upload</td>\n",
       "    </tr>\n",
       "    <tr>\n",
       "      <th>265</th>\n",
       "      <td>2023-03-08-food_photos/sandwich_toasted/3c70b0...</td>\n",
       "      <td>3c70b073-a3d6-42b5-9cc5-ed9930d63e10.jpeg</td>\n",
       "      <td>sandwich_toasted</td>\n",
       "      <td>213</td>\n",
       "      <td>train</td>\n",
       "      <td>clear</td>\n",
       "      <td>whole_food</td>\n",
       "      <td>one_food</td>\n",
       "      <td>2023-03-09_08-24-32</td>\n",
       "      <td>manual_upload</td>\n",
       "      <td>manual_upload</td>\n",
       "    </tr>\n",
       "    <tr>\n",
       "      <th>152</th>\n",
       "      <td>2023-03-08-food_photos/toast/2f2acf73-4493-4e3...</td>\n",
       "      <td>2f2acf73-4493-4e31-b1ee-3b58d6ac6b2e.jpeg</td>\n",
       "      <td>toast</td>\n",
       "      <td>236</td>\n",
       "      <td>train</td>\n",
       "      <td>clear</td>\n",
       "      <td>whole_food</td>\n",
       "      <td>one_food</td>\n",
       "      <td>2023-03-09_08-24-32</td>\n",
       "      <td>manual_upload</td>\n",
       "      <td>manual_upload</td>\n",
       "    </tr>\n",
       "    <tr>\n",
       "      <th>143</th>\n",
       "      <td>2023-03-08-food_photos/melon_spanish/6c5e5deb-...</td>\n",
       "      <td>6c5e5deb-23fa-4f58-8674-97f922af68f7.jpeg</td>\n",
       "      <td>melon_spanish</td>\n",
       "      <td>260</td>\n",
       "      <td>train</td>\n",
       "      <td>clear</td>\n",
       "      <td>whole_food</td>\n",
       "      <td>one_food</td>\n",
       "      <td>2023-03-09_08-24-32</td>\n",
       "      <td>manual_upload</td>\n",
       "      <td>manual_upload</td>\n",
       "    </tr>\n",
       "    <tr>\n",
       "      <th>419</th>\n",
       "      <td>2023-03-08-food_photos/silverbeet/3671b10f-64d...</td>\n",
       "      <td>3671b10f-64d8-43b3-b0f7-8e3b3c69c385.jpeg</td>\n",
       "      <td>silverbeet</td>\n",
       "      <td>266</td>\n",
       "      <td>train</td>\n",
       "      <td>clear</td>\n",
       "      <td>whole_food</td>\n",
       "      <td>one_food</td>\n",
       "      <td>2023-03-09_08-24-32</td>\n",
       "      <td>manual_upload</td>\n",
       "      <td>manual_upload</td>\n",
       "    </tr>\n",
       "    <tr>\n",
       "      <th>84</th>\n",
       "      <td>2023-03-08-food_photos/tarragon/9172353f-97be-...</td>\n",
       "      <td>9172353f-97be-43d9-bc53-0653bffc7e84.jpeg</td>\n",
       "      <td>tarragon</td>\n",
       "      <td>267</td>\n",
       "      <td>test</td>\n",
       "      <td>clear</td>\n",
       "      <td>whole_food</td>\n",
       "      <td>one_food</td>\n",
       "      <td>2023-03-09_08-24-32</td>\n",
       "      <td>manual_upload</td>\n",
       "      <td>manual_upload</td>\n",
       "    </tr>\n",
       "  </tbody>\n",
       "</table>\n",
       "</div>"
      ],
      "text/plain": [
       "                                              filename  \\\n",
       "11   2023-03-08-food_photos/melon_candy/5215b380-ac...   \n",
       "253  2023-03-08-food_photos/fruit_salad/f4e01cd8-ec...   \n",
       "254  2023-03-08-food_photos/fruit_salad/ecd43b88-8e...   \n",
       "233  2023-03-08-food_photos/garlic_chives/a089ae06-...   \n",
       "252  2023-03-08-food_photos/fruit_salad/48ffd0e6-81...   \n",
       "265  2023-03-08-food_photos/sandwich_toasted/3c70b0...   \n",
       "152  2023-03-08-food_photos/toast/2f2acf73-4493-4e3...   \n",
       "143  2023-03-08-food_photos/melon_spanish/6c5e5deb-...   \n",
       "419  2023-03-08-food_photos/silverbeet/3671b10f-64d...   \n",
       "84   2023-03-08-food_photos/tarragon/9172353f-97be-...   \n",
       "\n",
       "                                    image_name        class_name  label  \\\n",
       "11   5215b380-acf2-4079-8e41-4c1415013c16.jpeg       melon_candy    258   \n",
       "253  f4e01cd8-ec04-495c-9a34-d6969b1a1936.jpeg       fruit_salad    254   \n",
       "254  ecd43b88-8e8b-4ad0-bbf9-696334fef50c.jpeg       fruit_salad    254   \n",
       "233  a089ae06-0476-4c96-bcf6-4a6893db6b90.jpeg     garlic_chives    255   \n",
       "252  48ffd0e6-81fe-40c6-9f9a-8135506a916e.jpeg       fruit_salad    254   \n",
       "265  3c70b073-a3d6-42b5-9cc5-ed9930d63e10.jpeg  sandwich_toasted    213   \n",
       "152  2f2acf73-4493-4e31-b1ee-3b58d6ac6b2e.jpeg             toast    236   \n",
       "143  6c5e5deb-23fa-4f58-8674-97f922af68f7.jpeg     melon_spanish    260   \n",
       "419  3671b10f-64d8-43b3-b0f7-8e3b3c69c385.jpeg        silverbeet    266   \n",
       "84   9172353f-97be-43d9-bc53-0653bffc7e84.jpeg          tarragon    267   \n",
       "\n",
       "     split clear_or_confusing whole_food_or_dish one_food_or_multiple  \\\n",
       "11   train              clear         whole_food             one_food   \n",
       "253  train              clear         whole_food             one_food   \n",
       "254  train              clear         whole_food             one_food   \n",
       "233  train              clear         whole_food             one_food   \n",
       "252   test              clear         whole_food             one_food   \n",
       "265  train              clear         whole_food             one_food   \n",
       "152  train              clear         whole_food             one_food   \n",
       "143  train              clear         whole_food             one_food   \n",
       "419  train              clear         whole_food             one_food   \n",
       "84    test              clear         whole_food             one_food   \n",
       "\n",
       "    label_last_updated_at   label_source   image_source  \n",
       "11    2023-03-09_08-24-32  manual_upload  manual_upload  \n",
       "253   2023-03-09_08-24-32  manual_upload  manual_upload  \n",
       "254   2023-03-09_08-24-32  manual_upload  manual_upload  \n",
       "233   2023-03-09_08-24-32  manual_upload  manual_upload  \n",
       "252   2023-03-09_08-24-32  manual_upload  manual_upload  \n",
       "265   2023-03-09_08-24-32  manual_upload  manual_upload  \n",
       "152   2023-03-09_08-24-32  manual_upload  manual_upload  \n",
       "143   2023-03-09_08-24-32  manual_upload  manual_upload  \n",
       "419   2023-03-09_08-24-32  manual_upload  manual_upload  \n",
       "84    2023-03-09_08-24-32  manual_upload  manual_upload  "
      ]
     },
     "execution_count": 26,
     "metadata": {},
     "output_type": "execute_result"
    }
   ],
   "source": [
    "# Find a random sample of 10 images where the label value is 199 or higher\n",
    "new_annotations[new_annotations['label'] >= 199].sample(10)"
   ]
  },
  {
   "cell_type": "code",
   "execution_count": 27,
   "metadata": {},
   "outputs": [
    {
     "data": {
      "text/plain": [
       "(114882, 434)"
      ]
     },
     "execution_count": 27,
     "metadata": {},
     "output_type": "execute_result"
    }
   ],
   "source": [
    "len(original_annotations), len(new_annotations)"
   ]
  },
  {
   "cell_type": "code",
   "execution_count": 28,
   "metadata": {},
   "outputs": [
    {
     "data": {
      "text/html": [
       "<div>\n",
       "<style scoped>\n",
       "    .dataframe tbody tr th:only-of-type {\n",
       "        vertical-align: middle;\n",
       "    }\n",
       "\n",
       "    .dataframe tbody tr th {\n",
       "        vertical-align: top;\n",
       "    }\n",
       "\n",
       "    .dataframe thead th {\n",
       "        text-align: right;\n",
       "    }\n",
       "</style>\n",
       "<table border=\"1\" class=\"dataframe\">\n",
       "  <thead>\n",
       "    <tr style=\"text-align: right;\">\n",
       "      <th></th>\n",
       "      <th>filename</th>\n",
       "      <th>image_name</th>\n",
       "      <th>class_name</th>\n",
       "      <th>label</th>\n",
       "      <th>split</th>\n",
       "      <th>clear_or_confusing</th>\n",
       "      <th>whole_food_or_dish</th>\n",
       "      <th>one_food_or_multiple</th>\n",
       "      <th>label_last_updated_at</th>\n",
       "      <th>label_source</th>\n",
       "      <th>image_source</th>\n",
       "    </tr>\n",
       "  </thead>\n",
       "  <tbody>\n",
       "    <tr>\n",
       "      <th>0</th>\n",
       "      <td>test/pain_au_chocolat/4fd7cb42-bd7f-48f1-bfdc-...</td>\n",
       "      <td>4fd7cb42-bd7f-48f1-bfdc-607c2f54b788.jpg</td>\n",
       "      <td>pain_au_chocolat</td>\n",
       "      <td>155</td>\n",
       "      <td>test</td>\n",
       "      <td>NaN</td>\n",
       "      <td>NaN</td>\n",
       "      <td>NaN</td>\n",
       "      <td>NaN</td>\n",
       "      <td>NaN</td>\n",
       "      <td>internet_download</td>\n",
       "    </tr>\n",
       "    <tr>\n",
       "      <th>1</th>\n",
       "      <td>test/pain_au_chocolat/2062f52a-781c-4e4f-b8a7-...</td>\n",
       "      <td>2062f52a-781c-4e4f-b8a7-0a108934f453.jpg</td>\n",
       "      <td>pain_au_chocolat</td>\n",
       "      <td>155</td>\n",
       "      <td>test</td>\n",
       "      <td>NaN</td>\n",
       "      <td>NaN</td>\n",
       "      <td>NaN</td>\n",
       "      <td>NaN</td>\n",
       "      <td>NaN</td>\n",
       "      <td>internet_download</td>\n",
       "    </tr>\n",
       "    <tr>\n",
       "      <th>2</th>\n",
       "      <td>test/pain_au_chocolat/8003e0f6-37e8-460d-9c14-...</td>\n",
       "      <td>8003e0f6-37e8-460d-9c14-e7c6fe44a37f.jpg</td>\n",
       "      <td>pain_au_chocolat</td>\n",
       "      <td>155</td>\n",
       "      <td>test</td>\n",
       "      <td>NaN</td>\n",
       "      <td>NaN</td>\n",
       "      <td>NaN</td>\n",
       "      <td>NaN</td>\n",
       "      <td>NaN</td>\n",
       "      <td>internet_download</td>\n",
       "    </tr>\n",
       "    <tr>\n",
       "      <th>3</th>\n",
       "      <td>test/pain_au_chocolat/839437c8-c643-408f-9f04-...</td>\n",
       "      <td>839437c8-c643-408f-9f04-d0d3bec238c3.jpg</td>\n",
       "      <td>pain_au_chocolat</td>\n",
       "      <td>155</td>\n",
       "      <td>test</td>\n",
       "      <td>NaN</td>\n",
       "      <td>NaN</td>\n",
       "      <td>NaN</td>\n",
       "      <td>NaN</td>\n",
       "      <td>NaN</td>\n",
       "      <td>internet_download</td>\n",
       "    </tr>\n",
       "    <tr>\n",
       "      <th>4</th>\n",
       "      <td>test/pain_au_chocolat/ca5c13ff-a535-4b69-9144-...</td>\n",
       "      <td>ca5c13ff-a535-4b69-9144-e06275e01e35.jpg</td>\n",
       "      <td>pain_au_chocolat</td>\n",
       "      <td>155</td>\n",
       "      <td>test</td>\n",
       "      <td>NaN</td>\n",
       "      <td>NaN</td>\n",
       "      <td>NaN</td>\n",
       "      <td>NaN</td>\n",
       "      <td>NaN</td>\n",
       "      <td>internet_download</td>\n",
       "    </tr>\n",
       "    <tr>\n",
       "      <th>...</th>\n",
       "      <td>...</td>\n",
       "      <td>...</td>\n",
       "      <td>...</td>\n",
       "      <td>...</td>\n",
       "      <td>...</td>\n",
       "      <td>...</td>\n",
       "      <td>...</td>\n",
       "      <td>...</td>\n",
       "      <td>...</td>\n",
       "      <td>...</td>\n",
       "      <td>...</td>\n",
       "    </tr>\n",
       "    <tr>\n",
       "      <th>115311</th>\n",
       "      <td>2023-03-08-food_photos/mandarin/be4330ea-d787-...</td>\n",
       "      <td>be4330ea-d787-4f78-a919-2c6cfd3f1860.jpeg</td>\n",
       "      <td>mandarin</td>\n",
       "      <td>128</td>\n",
       "      <td>test</td>\n",
       "      <td>clear</td>\n",
       "      <td>whole_food</td>\n",
       "      <td>one_food</td>\n",
       "      <td>2023-03-09_08-24-32</td>\n",
       "      <td>manual_upload</td>\n",
       "      <td>manual_upload</td>\n",
       "    </tr>\n",
       "    <tr>\n",
       "      <th>115312</th>\n",
       "      <td>2023-03-08-food_photos/ice_coffee/fb51baf8-efd...</td>\n",
       "      <td>fb51baf8-efd1-4138-9ceb-f322062a3814.jpeg</td>\n",
       "      <td>ice_coffee</td>\n",
       "      <td>108</td>\n",
       "      <td>train</td>\n",
       "      <td>clear</td>\n",
       "      <td>whole_food</td>\n",
       "      <td>one_food</td>\n",
       "      <td>2023-03-09_08-24-32</td>\n",
       "      <td>manual_upload</td>\n",
       "      <td>manual_upload</td>\n",
       "    </tr>\n",
       "    <tr>\n",
       "      <th>115313</th>\n",
       "      <td>2023-03-08-food_photos/snow_peas/03e27f58-e4e4...</td>\n",
       "      <td>03e27f58-e4e4-461b-baee-72b519b4a64c.jpeg</td>\n",
       "      <td>snow_peas</td>\n",
       "      <td>220</td>\n",
       "      <td>test</td>\n",
       "      <td>clear</td>\n",
       "      <td>whole_food</td>\n",
       "      <td>one_food</td>\n",
       "      <td>2023-03-09_08-24-32</td>\n",
       "      <td>manual_upload</td>\n",
       "      <td>manual_upload</td>\n",
       "    </tr>\n",
       "    <tr>\n",
       "      <th>115314</th>\n",
       "      <td>2023-03-08-food_photos/onion_brown/e09cc129-fb...</td>\n",
       "      <td>e09cc129-fbaf-4ebf-9934-a1e923e08d9c.jpeg</td>\n",
       "      <td>onion_brown</td>\n",
       "      <td>148</td>\n",
       "      <td>train</td>\n",
       "      <td>clear</td>\n",
       "      <td>whole_food</td>\n",
       "      <td>one_food</td>\n",
       "      <td>2023-03-09_08-24-32</td>\n",
       "      <td>manual_upload</td>\n",
       "      <td>manual_upload</td>\n",
       "    </tr>\n",
       "    <tr>\n",
       "      <th>115315</th>\n",
       "      <td>2023-03-08-food_photos/onion_brown/52c48a62-65...</td>\n",
       "      <td>52c48a62-657d-4da5-a471-855fe6b93aa9.jpeg</td>\n",
       "      <td>onion_brown</td>\n",
       "      <td>148</td>\n",
       "      <td>train</td>\n",
       "      <td>clear</td>\n",
       "      <td>whole_food</td>\n",
       "      <td>one_food</td>\n",
       "      <td>2023-03-09_08-24-32</td>\n",
       "      <td>manual_upload</td>\n",
       "      <td>manual_upload</td>\n",
       "    </tr>\n",
       "  </tbody>\n",
       "</table>\n",
       "<p>115316 rows × 11 columns</p>\n",
       "</div>"
      ],
      "text/plain": [
       "                                                 filename  \\\n",
       "0       test/pain_au_chocolat/4fd7cb42-bd7f-48f1-bfdc-...   \n",
       "1       test/pain_au_chocolat/2062f52a-781c-4e4f-b8a7-...   \n",
       "2       test/pain_au_chocolat/8003e0f6-37e8-460d-9c14-...   \n",
       "3       test/pain_au_chocolat/839437c8-c643-408f-9f04-...   \n",
       "4       test/pain_au_chocolat/ca5c13ff-a535-4b69-9144-...   \n",
       "...                                                   ...   \n",
       "115311  2023-03-08-food_photos/mandarin/be4330ea-d787-...   \n",
       "115312  2023-03-08-food_photos/ice_coffee/fb51baf8-efd...   \n",
       "115313  2023-03-08-food_photos/snow_peas/03e27f58-e4e4...   \n",
       "115314  2023-03-08-food_photos/onion_brown/e09cc129-fb...   \n",
       "115315  2023-03-08-food_photos/onion_brown/52c48a62-65...   \n",
       "\n",
       "                                       image_name        class_name  label  \\\n",
       "0        4fd7cb42-bd7f-48f1-bfdc-607c2f54b788.jpg  pain_au_chocolat    155   \n",
       "1        2062f52a-781c-4e4f-b8a7-0a108934f453.jpg  pain_au_chocolat    155   \n",
       "2        8003e0f6-37e8-460d-9c14-e7c6fe44a37f.jpg  pain_au_chocolat    155   \n",
       "3        839437c8-c643-408f-9f04-d0d3bec238c3.jpg  pain_au_chocolat    155   \n",
       "4        ca5c13ff-a535-4b69-9144-e06275e01e35.jpg  pain_au_chocolat    155   \n",
       "...                                           ...               ...    ...   \n",
       "115311  be4330ea-d787-4f78-a919-2c6cfd3f1860.jpeg          mandarin    128   \n",
       "115312  fb51baf8-efd1-4138-9ceb-f322062a3814.jpeg        ice_coffee    108   \n",
       "115313  03e27f58-e4e4-461b-baee-72b519b4a64c.jpeg         snow_peas    220   \n",
       "115314  e09cc129-fbaf-4ebf-9934-a1e923e08d9c.jpeg       onion_brown    148   \n",
       "115315  52c48a62-657d-4da5-a471-855fe6b93aa9.jpeg       onion_brown    148   \n",
       "\n",
       "        split clear_or_confusing whole_food_or_dish one_food_or_multiple  \\\n",
       "0        test                NaN                NaN                  NaN   \n",
       "1        test                NaN                NaN                  NaN   \n",
       "2        test                NaN                NaN                  NaN   \n",
       "3        test                NaN                NaN                  NaN   \n",
       "4        test                NaN                NaN                  NaN   \n",
       "...       ...                ...                ...                  ...   \n",
       "115311   test              clear         whole_food             one_food   \n",
       "115312  train              clear         whole_food             one_food   \n",
       "115313   test              clear         whole_food             one_food   \n",
       "115314  train              clear         whole_food             one_food   \n",
       "115315  train              clear         whole_food             one_food   \n",
       "\n",
       "       label_last_updated_at   label_source       image_source  \n",
       "0                        NaN            NaN  internet_download  \n",
       "1                        NaN            NaN  internet_download  \n",
       "2                        NaN            NaN  internet_download  \n",
       "3                        NaN            NaN  internet_download  \n",
       "4                        NaN            NaN  internet_download  \n",
       "...                      ...            ...                ...  \n",
       "115311   2023-03-09_08-24-32  manual_upload      manual_upload  \n",
       "115312   2023-03-09_08-24-32  manual_upload      manual_upload  \n",
       "115313   2023-03-09_08-24-32  manual_upload      manual_upload  \n",
       "115314   2023-03-09_08-24-32  manual_upload      manual_upload  \n",
       "115315   2023-03-09_08-24-32  manual_upload      manual_upload  \n",
       "\n",
       "[115316 rows x 11 columns]"
      ]
     },
     "execution_count": 28,
     "metadata": {},
     "output_type": "execute_result"
    }
   ],
   "source": [
    "# Append the new_annotations to the original_annotations\n",
    "updated_annotations = pd.concat([original_annotations, new_annotations], ignore_index=True)\n",
    "\n",
    "# updated_annotations = original_annotations.(new_annotations, ignore_index=True)\n",
    "updated_annotations"
   ]
  },
  {
   "cell_type": "code",
   "execution_count": 29,
   "metadata": {},
   "outputs": [
    {
     "data": {
      "text/plain": [
       "252"
      ]
     },
     "execution_count": 29,
     "metadata": {},
     "output_type": "execute_result"
    }
   ],
   "source": [
    "# How many unique class_names are in original_annotations?\n",
    "len(original_annotations['class_name'].unique())"
   ]
  },
  {
   "cell_type": "code",
   "execution_count": 30,
   "metadata": {},
   "outputs": [
    {
     "data": {
      "text/plain": [
       "269"
      ]
     },
     "execution_count": 30,
     "metadata": {},
     "output_type": "execute_result"
    }
   ],
   "source": [
    "# How many unique class_names are in updated_annotations?\n",
    "len(updated_annotations['class_name'].unique())"
   ]
  },
  {
   "cell_type": "code",
   "execution_count": 31,
   "metadata": {},
   "outputs": [],
   "source": [
    "from typing import List, Dict, Tuple\n",
    "\n",
    "def get_updated_class_names_class_dict_and_reverse_class_dict(df: pd.DataFrame) -> Tuple[List[str], Dict[int, str], Dict[str, int]]:\n",
    "    \"\"\"Get an updated class names list, class dict and reverse class dict from a dataframe.\"\"\"\n",
    "    updated_class_names = sorted(df.class_name.unique())\n",
    "    updated_class_dict = {i: class_name for i, class_name in enumerate(updated_class_names)}\n",
    "    updated_reverse_class_dict = {class_name: i for i, class_name in enumerate(updated_class_names)}\n",
    "    assert len(updated_class_dict) == len(updated_reverse_class_dict), \"Class dict and reverse class dict are not the same length\"\n",
    "    return updated_class_names, updated_class_dict, updated_reverse_class_dict\n",
    "\n",
    "def map_updated_class_dict_to_updated_annotations(df: pd.DataFrame, updated_reverse_class_dict: Dict[str, int]) -> pd.DataFrame:\n",
    "    \"\"\"Map updated class dict to updated annotations dataframe.\n",
    "    \n",
    "    For example, go from {\"apple_red\": 1} -> df[\"label\"] = 1\n",
    "    \"\"\"\n",
    "    updated_annotations = df.copy()\n",
    "    updated_annotations.loc[:, 'label'] = updated_annotations['class_name'].map(updated_reverse_class_dict)\n",
    "    assert len(updated_annotations.label.unique()) == len(updated_reverse_class_dict), \"Number of unique labels in updated annotations does not match number of unique class names in updated reverse class dict\"\n",
    "    return updated_annotations"
   ]
  },
  {
   "cell_type": "code",
   "execution_count": 32,
   "metadata": {},
   "outputs": [
    {
     "data": {
      "text/plain": [
       "(269,\n",
       " ['almond_butter',\n",
       "  'almonds',\n",
       "  'apple_green',\n",
       "  'apple_red',\n",
       "  'apricot',\n",
       "  'artichoke',\n",
       "  'asparagus',\n",
       "  'avocado',\n",
       "  'bacon',\n",
       "  'bacon_and_egg_burger'])"
      ]
     },
     "execution_count": 32,
     "metadata": {},
     "output_type": "execute_result"
    }
   ],
   "source": [
    "updated_class_names, updated_class_dict, updated_reverse_class_dict = get_updated_class_names_class_dict_and_reverse_class_dict(updated_annotations)\n",
    "\n",
    "updated_annotations = map_updated_class_dict_to_updated_annotations(updated_annotations, updated_reverse_class_dict)\n",
    "\n",
    "len(updated_class_names), updated_class_names[:10]"
   ]
  },
  {
   "cell_type": "code",
   "execution_count": 33,
   "metadata": {},
   "outputs": [
    {
     "data": {
      "text/plain": [
       "434"
      ]
     },
     "execution_count": 33,
     "metadata": {},
     "output_type": "execute_result"
    }
   ],
   "source": [
    "# Check the difference in lengths between the original_annotations and updated_annotations\n",
    "num_differences = len(updated_annotations) - len(original_annotations)\n",
    "num_differences"
   ]
  },
  {
   "cell_type": "code",
   "execution_count": 34,
   "metadata": {},
   "outputs": [
    {
     "name": "stdout",
     "output_type": "stream",
     "text": [
      "[INFO] Exporting the following columns to updated_annotations.csv: ['filename', 'image_name', 'class_name', 'label', 'split', 'clear_or_confusing', 'whole_food_or_dish', 'one_food_or_multiple', 'label_last_updated_at', 'label_source', 'image_source']\n",
      "[INFO] 434 changes to annotations.csv, updated label files and original annotations are different, saving the updated annotations.csv\n",
      "[INFO] Uploading updated_annotations.csv to updated_annotations.csv...\n",
      "[INFO] Connected to Google Storage bucket: food_vision_bucket_with_object_versioning\n",
      "[INFO] File updated_annotations.csv uploaded to food_vision_bucket_with_object_versioning/updated_annotations.csv.\n",
      "[INFO] File size: 22214059 bytes\n",
      "[INFO] Blob annotations.csv has been renamed to old_annotations/2023-03-09_08-24-57_old_annotations.csv\n",
      "[INFO] Blob updated_annotations.csv has been renamed to annotations.csv\n",
      "[INFO] Logging 'food_vision_labels' from 'gs://food_vision_bucket_with_object_versioning/annotations.csv' to Weights & Biases...\n"
     ]
    }
   ],
   "source": [
    "# Upload the updated annotations to Google Storage and track the changes\n",
    "from utils.gcp_utils import upload_to_gs, rename_blob, delete_blob\n",
    "from utils.wandb_utils import wandb_add_artifact_with_reference\n",
    "from utils.misc import get_now_time\n",
    "import os\n",
    "\n",
    "GS_BUCKET_NAME = config.gs_bucket_name\n",
    "\n",
    "UPDATED_ANNOTATIONS_TARGET_FILENAME = \"updated_annotations.csv\"\n",
    "ORIGINAL_ANNOTATIONS_TARGET_FILENAME = \"annotations.csv\"\n",
    "\n",
    "# Export the updated annotations to a CSV\n",
    "columns_to_export = config.annotations_columns_to_export\n",
    "print(f\"[INFO] Exporting the following columns to {UPDATED_ANNOTATIONS_TARGET_FILENAME}: {columns_to_export}\")\n",
    "\n",
    "# TODO: Check if the updated_annotations_reset_index and the original_annotations actually differ, if so save them and upload them, else exit\n",
    "if num_differences > 0:\n",
    "    print(f\"[INFO] {num_differences} changes to annotations.csv, updated label files and original annotations are different, saving the updated annotations.csv\")\n",
    "\n",
    "    # Export the updated_annotations_reset_index to a csv\n",
    "    updated_annotations[columns_to_export].to_csv(UPDATED_ANNOTATIONS_TARGET_FILENAME, index=False)\n",
    "\n",
    "    # Upload the updated CSV to Google Storage\n",
    "    upload_to_gs(bucket_name=GS_BUCKET_NAME, \n",
    "                 source_file_name=UPDATED_ANNOTATIONS_TARGET_FILENAME, \n",
    "                 destination_blob_name=UPDATED_ANNOTATIONS_TARGET_FILENAME)\n",
    "\n",
    "    # Rename the old CSV on Google Storage\n",
    "    bucket_to_move_old_annotations_to = \"old_annotations\"\n",
    "    name_to_rename_old_annotations = os.path.join(bucket_to_move_old_annotations_to, f\"{get_now_time()}_old_annotations.csv\")\n",
    "\n",
    "    rename_blob(bucket_name=GS_BUCKET_NAME,\n",
    "                blob_name=ORIGINAL_ANNOTATIONS_TARGET_FILENAME,\n",
    "                new_name=name_to_rename_old_annotations)\n",
    "\n",
    "    # Rename the \"updated_annotations.csv\" on Google Storage to \"annotations.csv\" \n",
    "    rename_blob(bucket_name=GS_BUCKET_NAME,\n",
    "                blob_name=UPDATED_ANNOTATIONS_TARGET_FILENAME,\n",
    "                new_name=ORIGINAL_ANNOTATIONS_TARGET_FILENAME)\n",
    "\n",
    "    # Track the changes in the annotations with Weights & Biases\n",
    "    annotations_path_on_gcs = f\"gs://{GS_BUCKET_NAME}/{ORIGINAL_ANNOTATIONS_TARGET_FILENAME}\"\n",
    "    wandb_add_artifact_with_reference(wandb_run=run,\n",
    "                                      artifact_name=\"food_vision_labels\",\n",
    "                                      artifact_type=\"labels\",\n",
    "                                      description=\"Labels for FoodVision project\",\n",
    "                                      reference_path=annotations_path_on_gcs)\n",
    "else:\n",
    "    print(\"[INFO] No changes to annotations.csv, updated label files and original annotations are the same, try fixing/updating the label files and try again\")"
   ]
  },
  {
   "attachments": {},
   "cell_type": "markdown",
   "metadata": {},
   "source": [
    "## Upload all photos in food_photos to Google Storage"
   ]
  },
  {
   "cell_type": "code",
   "execution_count": 35,
   "metadata": {},
   "outputs": [
    {
     "name": "stdout",
     "output_type": "stream",
     "text": [
      "[INFO] There are 117574 images in the GCP bucket\n"
     ]
    }
   ],
   "source": [
    "from utils.gcp_utils import upload_to_gs, get_list_of_blobs\n",
    "\n",
    "# Get list of images already in GCP bucket\n",
    "gs_image_paths = get_list_of_blobs(bucket_name=GS_BUCKET_NAME, prefix=\"all_images\")\n",
    "print(f\"[INFO] There are {len(gs_image_paths)} images in the GCP bucket\")"
   ]
  },
  {
   "cell_type": "code",
   "execution_count": 36,
   "metadata": {},
   "outputs": [
    {
     "data": {
      "text/plain": [
       "['000226a7-5332-4f45-b0e9-6760e9bd6d3e.jpeg',\n",
       " '0003a069-3b76-4cae-9414-80ccaa081e80.jpeg',\n",
       " '0003c8a1-7f64-4540-9256-3252f0981035.jpeg',\n",
       " '00045a69-b09f-4293-8c2e-a7ba27964fb6.jpg',\n",
       " '0004a23a-88b3-4aae-a1b0-c9ebe77d31b8.jpeg',\n",
       " '00065302-c0e7-4634-ab63-5ddd16bfdeb8.jpeg',\n",
       " '000747c7-e84b-44a3-9c9d-40076efbe7c4.jpeg',\n",
       " '00081a0e-c33c-4491-9bac-434afb5968c6.jpeg',\n",
       " '0008eda8-cd90-4394-bdac-aa1574f7738d.jpeg',\n",
       " '0009bea1-1577-4db5-bc60-b27eaed2d276.jpg']"
      ]
     },
     "execution_count": 36,
     "metadata": {},
     "output_type": "execute_result"
    }
   ],
   "source": [
    "gs_image_paths_name = [str(blob.name).split(\"/\")[-1] for blob in gs_image_paths]\n",
    "gs_image_paths_name[:10]"
   ]
  },
  {
   "cell_type": "code",
   "execution_count": 37,
   "metadata": {},
   "outputs": [
    {
     "data": {
      "text/plain": [
       "117574"
      ]
     },
     "execution_count": 37,
     "metadata": {},
     "output_type": "execute_result"
    }
   ],
   "source": [
    "len(gs_image_paths_name)"
   ]
  },
  {
   "cell_type": "code",
   "execution_count": 38,
   "metadata": {},
   "outputs": [
    {
     "name": "stdout",
     "output_type": "stream",
     "text": [
      "2023-03-08-food_photos\n"
     ]
    }
   ],
   "source": [
    "print(target_dir)"
   ]
  },
  {
   "cell_type": "code",
   "execution_count": 39,
   "metadata": {},
   "outputs": [
    {
     "name": "stdout",
     "output_type": "stream",
     "text": [
      "\n",
      "\n",
      "Updates are available for some Google Cloud CLI components.  To install them,\n",
      "please run:\n",
      "  $ gcloud components update\n",
      "\n",
      "Copying file://2023-03-08-food_photos/almonds/2294afec-0c7e-4c8f-ac92-1ada00567573.jpeg [Content-Type=image/jpeg]...\n",
      "Copying file://2023-03-08-food_photos/almonds/85354abd-c96b-4528-9db1-68965590c803.jpeg [Content-Type=image/jpeg]...\n",
      "Copying file://2023-03-08-food_photos/apple_green/978041ba-6e9d-4046-8330-e6619b2b7b17.jpeg [Content-Type=image/jpeg]...\n",
      "Copying file://2023-03-08-food_photos/apple_green/a07d8896-0dc5-4ea4-9c25-47be12ee0728.jpeg [Content-Type=image/jpeg]...\n",
      "Copying file://2023-03-08-food_photos/almonds/62cbd33b-6219-4594-9375-32b177d77a20.jpeg [Content-Type=image/jpeg]...\n",
      "Copying file://2023-03-08-food_photos/apple_red/ff425b65-9c41-466f-8e2a-b0d84af4de87.jpeg [Content-Type=image/jpeg]...\n",
      "Copying file://2023-03-08-food_photos/apple_red/1cd9683f-4da4-48b3-a402-da9d7bc89553.jpeg [Content-Type=image/jpeg]...\n",
      "Copying file://2023-03-08-food_photos/asparagus/0b59353f-a55b-4b2a-bf7d-d6a5b07373aa.jpeg [Content-Type=image/jpeg]...\n",
      "Copying file://2023-03-08-food_photos/avocado/0abde6b1-6b32-48a4-a9a0-9c9865bc6de3.jpeg [Content-Type=image/jpeg]...\n",
      "Copying file://2023-03-08-food_photos/avocado/548958ed-e064-4426-a710-acfbf2dd7fcc.jpeg [Content-Type=image/jpeg]...\n",
      "Copying file://2023-03-08-food_photos/avocado/bf47dbb6-0d7b-4e97-bf9f-96af9dc76679.jpeg [Content-Type=image/jpeg]...\n",
      "Copying file://2023-03-08-food_photos/bacon/f617a8eb-9109-4f9f-8c3b-8851edf9e59c.jpeg [Content-Type=image/jpeg]...\n",
      "Copying file://2023-03-08-food_photos/avocado/3288b26e-5a13-420c-9af0-43edf5914b47.jpeg [Content-Type=image/jpeg]...\n",
      "Copying file://2023-03-08-food_photos/avocado/92753ec4-e085-4a41-aa06-e4280f181d68.jpeg [Content-Type=image/jpeg]...\n",
      "Copying file://2023-03-08-food_photos/avocado/6a66b4a8-01d3-43bc-8c9e-a91338b6da0e.jpeg [Content-Type=image/jpeg]...\n",
      "Copying file://2023-03-08-food_photos/avocado/ade32913-81ce-418e-b3aa-94a04880f32c.jpeg [Content-Type=image/jpeg]...\n",
      "Copying file://2023-03-08-food_photos/avocado/bc8dc31a-7b00-48bf-ad7c-3d761f2693ce.jpeg [Content-Type=image/jpeg]...\n",
      "Copying file://2023-03-08-food_photos/avocado/ee88f3b2-5b3c-44dc-9408-0aa7df939e28.jpeg [Content-Type=image/jpeg]...\n",
      "Copying file://2023-03-08-food_photos/banana/4afeb0ad-ddb6-4442-8625-da8116489224.jpeg [Content-Type=image/jpeg]...\n",
      "Copying file://2023-03-08-food_photos/bacon/63dca3ac-deb2-4209-ade0-e91988dfc5de.jpeg [Content-Type=image/jpeg]...\n",
      "Copying file://2023-03-08-food_photos/basil/e5eb0a17-a81f-4b77-93b2-52df2709d7e8.jpeg [Content-Type=image/jpeg]...\n",
      "Copying file://2023-03-08-food_photos/banana/54c3c9e3-c8ed-41ef-97d2-f961ea6b69a0.jpeg [Content-Type=image/jpeg]...\n",
      "Copying file://2023-03-08-food_photos/bacon/8268189f-1274-4b39-af87-5e5e84b5c8c5.jpeg [Content-Type=image/jpeg]...\n",
      "Copying file://2023-03-08-food_photos/banana/6a3e4c03-9b30-41a3-ad74-e881823524b3.jpeg [Content-Type=image/jpeg]...\n",
      "Copying file://2023-03-08-food_photos/banana/6df1c68e-1392-4993-9bd7-8f018efd86a4.jpeg [Content-Type=image/jpeg]...\n",
      "Copying file://2023-03-08-food_photos/banana_bread/c808a3e6-3b9a-4822-8f45-0c7efe7a4764.jpeg [Content-Type=image/jpeg]...\n",
      "Copying file://2023-03-08-food_photos/banana/ccf6f477-1308-43b3-a392-ff9d4f501e5e.jpeg [Content-Type=image/jpeg]...\n",
      "Copying file://2023-03-08-food_photos/banana/d19b87cc-20c9-4548-a2d1-2d975be8ee1f.jpeg [Content-Type=image/jpeg]...\n",
      "Copying file://2023-03-08-food_photos/banana_bread/d2268b05-0bf2-47d1-bb47-a17da6b8231d.jpeg [Content-Type=image/jpeg]...\n",
      "Copying file://2023-03-08-food_photos/banana/e1c50ca6-b2bf-443b-bec7-8f7828fce8ea.jpeg [Content-Type=image/jpeg]...\n",
      "Copying file://2023-03-08-food_photos/basil/16153692-71d8-4728-af3e-fc5fb6c534ee.jpeg [Content-Type=image/jpeg]...\n",
      "Copying file://2023-03-08-food_photos/beef_mince/088e84e2-924e-4449-933c-0d9bae973144.jpeg [Content-Type=image/jpeg]...\n",
      "Copying file://2023-03-08-food_photos/basil/3439770d-c57a-442f-b022-0385203d043c.jpeg [Content-Type=image/jpeg]...\n",
      "Copying file://2023-03-08-food_photos/beef_mince/1f3f5379-e447-429e-b90b-7bcf303a13c9.jpeg [Content-Type=image/jpeg]...\n",
      "Copying file://2023-03-08-food_photos/basil/94e613ca-b769-4c48-aa9d-bc3257feecfc.jpeg [Content-Type=image/jpeg]...\n",
      "Copying file://2023-03-08-food_photos/beef_mince/3a6b00ed-7397-48c3-8725-4a925e1f02dd.jpeg [Content-Type=image/jpeg]...\n",
      "Copying file://2023-03-08-food_photos/basil/a7011c67-1824-4ad3-88cd-9f917d5b4134.jpeg [Content-Type=image/jpeg]...\n",
      "Copying file://2023-03-08-food_photos/beef_mince/5ce9db70-67c9-4bc9-8d9f-237532b9579d.jpeg [Content-Type=image/jpeg]...\n",
      "Copying file://2023-03-08-food_photos/banana/dba7f6b1-c9eb-4059-9718-bb5e66e1a523.jpeg [Content-Type=image/jpeg]...\n",
      "Copying file://2023-03-08-food_photos/bacon/8d6f0bea-61a6-4a0f-8116-d929103f16be.jpeg [Content-Type=image/jpeg]...\n",
      "Copying file://2023-03-08-food_photos/beef_mince/8d82cc26-e9e7-4de8-a46c-6aff70335e43.jpeg [Content-Type=image/jpeg]...\n",
      "Copying file://2023-03-08-food_photos/beef_mince/d29a77ad-6fcb-4b55-a997-4b6924a6b3ab.jpeg [Content-Type=image/jpeg]...\n",
      "Copying file://2023-03-08-food_photos/blackberries/c6c541b8-5a1e-4bfe-88af-c1f471a9f956.jpeg [Content-Type=image/jpeg]...\n",
      "Copying file://2023-03-08-food_photos/beer/369ed0db-de42-44dc-b748-1a13e8fc7bb1.jpeg [Content-Type=image/jpeg]...\n",
      "Copying file://2023-03-08-food_photos/blueberries/0040cfc8-93c4-42a5-9799-92ae28e0f268.jpeg [Content-Type=image/jpeg]...\n",
      "Copying file://2023-03-08-food_photos/bok_choy/243a202b-3859-4bd8-a214-3af6f1ed5033.jpeg [Content-Type=image/jpeg]...\n",
      "Copying file://2023-03-08-food_photos/beef_mince/e053b010-1f87-49a6-b25f-74f92269e409.jpeg [Content-Type=image/jpeg]...\n",
      "Copying file://2023-03-08-food_photos/blackberries/6a1b4fc6-30e1-4c4d-870f-0f2d983c1c28.jpeg [Content-Type=image/jpeg]...\n",
      "Copying file://2023-03-08-food_photos/bread/17f92faf-d240-46b4-91ce-09cd43a2d4d9.jpeg [Content-Type=image/jpeg]...\n",
      "Copying file://2023-03-08-food_photos/butter/18995ce1-ff0b-4480-a989-f913d4e77032.jpeg [Content-Type=image/jpeg]...\n",
      "Copying file://2023-03-08-food_photos/bread/38e26ed3-babf-4ba3-be3f-94dc604d86a3.jpeg [Content-Type=image/jpeg]...\n",
      "Copying file://2023-03-08-food_photos/cabbage_green/8521ec93-11cd-402d-aa3b-f0d36200d8c3.jpeg [Content-Type=image/jpeg]...\n",
      "Copying file://2023-03-08-food_photos/bread/48291b88-2a9e-4c1a-bbca-66868fd66e86.jpeg [Content-Type=image/jpeg]...\n",
      "Copying file://2023-03-08-food_photos/cabbage_green/ccdd3f65-1023-4810-b3f3-20371c3bc3b5.jpeg [Content-Type=image/jpeg]...\n",
      "Copying file://2023-03-08-food_photos/bread/3e9d9f1d-5e81-4f47-82a7-a524e7a2d325.jpeg [Content-Type=image/jpeg]...\n",
      "Copying file://2023-03-08-food_photos/bread/4a31eb71-c0f4-4aa5-9654-46f1cc27df21.jpeg [Content-Type=image/jpeg]...\n",
      "Copying file://2023-03-08-food_photos/bread/aeed2719-7b76-44ba-a61c-bf3610a5cfa0.jpeg [Content-Type=image/jpeg]...\n",
      "Copying file://2023-03-08-food_photos/bread_naan/a072980b-487e-4109-b82a-82f5ff452e2a.jpeg [Content-Type=image/jpeg]...\n",
      "Copying file://2023-03-08-food_photos/bread/ada13daf-998e-42a8-958e-791999a68f70.jpeg [Content-Type=image/jpeg]...\n",
      "Copying file://2023-03-08-food_photos/bread/80a2830f-0354-4a92-8b94-bc21978e8c69.jpeg [Content-Type=image/jpeg]...\n",
      "Copying file://2023-03-08-food_photos/broccoli/367b005b-1b4b-466a-ba1c-3ecad4f7dd19.jpeg [Content-Type=image/jpeg]...\n",
      "Copying file://2023-03-08-food_photos/bread_naan/a186f989-acdc-4222-83c9-b25368d61c17.jpeg [Content-Type=image/jpeg]...\n",
      "Copying file://2023-03-08-food_photos/bread/a5a34946-eb67-476d-a2fd-f19cb42dc0be.jpeg [Content-Type=image/jpeg]...\n",
      "Copying file://2023-03-08-food_photos/bread/f9a0ecb3-e33c-4a4d-be7a-143b742481a7.jpeg [Content-Type=image/jpeg]...\n",
      "Copying file://2023-03-08-food_photos/bread/e3e45b5d-319d-47f9-ac39-8a98a97b6b82.jpeg [Content-Type=image/jpeg]...\n",
      "Copying file://2023-03-08-food_photos/bread_naan/1fdc8fc9-0aab-4dde-9030-b5f9b9259665.jpeg [Content-Type=image/jpeg]...\n",
      "Copying file://2023-03-08-food_photos/broccolini/0da53e80-0fa4-4932-a0a0-e0ff693b07d1.jpeg [Content-Type=image/jpeg]...\n",
      "Copying file://2023-03-08-food_photos/broccolini/0345dd78-b0fd-49f2-9e3a-004e6b4e9a0c.jpeg [Content-Type=image/jpeg]...\n",
      "Copying file://2023-03-08-food_photos/bread_naan/ce901624-5e78-4c4a-96ba-cb632e2c128c.jpeg [Content-Type=image/jpeg]...\n",
      "Copying file://2023-03-08-food_photos/bread_naan/9c2f4fab-032f-41cc-966c-7ab424c6774d.jpeg [Content-Type=image/jpeg]...\n",
      "Copying file://2023-03-08-food_photos/broccolini/270a1122-3603-4805-a007-c91af0b5dbca.jpeg [Content-Type=image/jpeg]...\n",
      "Copying file://2023-03-08-food_photos/bread_naan/d785829a-9bfb-4c0f-9cf1-12d0af0afa96.jpeg [Content-Type=image/jpeg]...\n",
      "Copying file://2023-03-08-food_photos/broccolini/aabe2f03-07d5-4e58-8cfc-e01ed77a8cdb.jpeg [Content-Type=image/jpeg]...\n",
      "Copying file://2023-03-08-food_photos/broccolini/e0dd81ee-73c2-45c0-befd-626bd66145ab.jpeg [Content-Type=image/jpeg]...\n",
      "Copying file://2023-03-08-food_photos/cabbage_green/d869798e-4a44-47f8-91b2-267233cdb7ab.jpeg [Content-Type=image/jpeg]...\n",
      "Copying file://2023-03-08-food_photos/broccolini/6026ca4e-651c-4f97-9ea8-f4441cfa98cf.jpeg [Content-Type=image/jpeg]...\n",
      "Copying file://2023-03-08-food_photos/cabbage_green/ecb7dffa-ad5f-4cdd-b008-d66d61ebd8e9.jpeg [Content-Type=image/jpeg]...\n",
      "Copying file://2023-03-08-food_photos/butter/83bb88a3-3a56-4011-8de1-1683662ebf7a.jpeg [Content-Type=image/jpeg]...\n",
      "Copying file://2023-03-08-food_photos/brussel_sprouts/167caba5-1b45-4c49-9396-dfdcb93d4d7f.jpeg [Content-Type=image/jpeg]...\n",
      "Copying file://2023-03-08-food_photos/cabbage_red/75fa4354-29d1-4dc4-97e5-fec232660339.jpeg [Content-Type=image/jpeg]...\n",
      "Copying file://2023-03-08-food_photos/capsicum_green/1efbc231-8422-4f5e-a2a7-4d0ad1939c55.jpeg [Content-Type=image/jpeg]...\n",
      "Copying file://2023-03-08-food_photos/capsicum_green/ee5fb6c4-d977-489c-a4ee-f1dbe7ef455b.jpeg [Content-Type=image/jpeg]...\n",
      "Copying file://2023-03-08-food_photos/capsicum_red/5e790d8a-60ee-4f8b-8f56-cef1aab26282.jpeg [Content-Type=image/jpeg]...\n",
      "Copying file://2023-03-08-food_photos/capsicum_red/6f53be8c-07f8-4116-98a3-6564cf9ee6e8.jpeg [Content-Type=image/jpeg]...\n",
      "Copying file://2023-03-08-food_photos/capsicum_red/88f713c5-f974-47c8-a4ca-d10df9992f3b.jpeg [Content-Type=image/jpeg]...\n",
      "Copying file://2023-03-08-food_photos/capsicum_red/a240a5ac-5ed2-47a8-8aec-b67dddddfaaa.jpeg [Content-Type=image/jpeg]...\n",
      "Copying file://2023-03-08-food_photos/capsicum_red/b3407726-f4a3-4835-94cd-0d8db96333b7.jpeg [Content-Type=image/jpeg]...\n",
      "Copying file://2023-03-08-food_photos/capsicum_yellow/6d5749b2-96c4-4726-bc10-854684ccac2f.jpeg [Content-Type=image/jpeg]...\n",
      "Copying file://2023-03-08-food_photos/capsicum_yellow/7cce62a9-5e1f-4de3-acfe-9047544548bf.jpeg [Content-Type=image/jpeg]...\n",
      "Copying file://2023-03-08-food_photos/capsicum_yellow/8d3834c5-f000-4c13-928a-c54593f3d214.jpeg [Content-Type=image/jpeg]...\n",
      "Copying file://2023-03-08-food_photos/capsicum_yellow/e2534fe9-390b-4bd9-aa36-5eb39f52eb34.jpeg [Content-Type=image/jpeg]...\n",
      "Copying file://2023-03-08-food_photos/carrot/7b8064cb-101f-4d51-94c7-f29f3822d071.jpeg [Content-Type=image/jpeg]...\n",
      "Copying file://2023-03-08-food_photos/carrot/84d925e0-044a-4779-893e-794ca2e8e468.jpeg [Content-Type=image/jpeg]...\n",
      "Copying file://2023-03-08-food_photos/carrot/920ba392-be54-4517-8a02-a8f011291ece.jpeg [Content-Type=image/jpeg]...\n",
      "Copying file://2023-03-08-food_photos/carrot/b0549eda-0b14-4ffc-8100-6595c80304db.jpeg [Content-Type=image/jpeg]...\n",
      "Copying file://2023-03-08-food_photos/carrot_purple/a923ecdf-e043-48e0-aaef-ad48262b34c3.jpeg [Content-Type=image/jpeg]...\n",
      "Copying file://2023-03-08-food_photos/carrot_purple/d84bb203-9cb0-4acd-83f1-aaebc073a5c1.jpeg [Content-Type=image/jpeg]...\n",
      "Copying file://2023-03-08-food_photos/cauliflower/20529d77-6099-41d1-901a-10b1254e806b.jpeg [Content-Type=image/jpeg]...\n",
      "Copying file://2023-03-08-food_photos/cauliflower/4b6d4e3b-44ba-472a-b7f3-26232c37c0dd.jpeg [Content-Type=image/jpeg]...\n",
      "Copying file://2023-03-08-food_photos/cauliflower/d8b70a57-8571-4b6e-9fab-d29115321a8e.jpeg [Content-Type=image/jpeg]...\n",
      "Copying file://2023-03-08-food_photos/celery/5173ed74-4120-487f-8a00-588b2a0516e6.jpeg [Content-Type=image/jpeg]...\n",
      "Copying file://2023-03-08-food_photos/cheese/58444725-b279-4ce5-8fbc-d029cb29a676.jpeg [Content-Type=image/jpeg]...\n",
      "Copying file://2023-03-08-food_photos/cheese/62a0486a-2181-4a60-8ff3-9c11570be48a.jpeg [Content-Type=image/jpeg]...\n",
      "Copying file://2023-03-08-food_photos/cheese/7028071f-49b8-44ad-8aba-49cb2ba77d0b.jpeg [Content-Type=image/jpeg]...\n",
      "Copying file://2023-03-08-food_photos/cheese/a36a8c9b-d61f-46df-b253-7210994cdb0f.jpeg [Content-Type=image/jpeg]...\n",
      "Copying file://2023-03-08-food_photos/cheese/a76c64ef-d679-4d0e-bcb3-9c0b11b2fa1f.jpeg [Content-Type=image/jpeg]...\n",
      "Copying file://2023-03-08-food_photos/cheese/eeca1955-b100-462c-86cf-b480416d2c83.jpeg [Content-Type=image/jpeg]...\n",
      "Copying file://2023-03-08-food_photos/cheese/ef622629-9367-4ba7-a778-3f6231b24951.jpeg [Content-Type=image/jpeg]...\n",
      "Copying file://2023-03-08-food_photos/chilli/0105f3f8-429b-4ff5-b53e-04c00e7a1162.jpeg [Content-Type=image/jpeg]...\n",
      "Copying file://2023-03-08-food_photos/chilli/99736a5b-a772-43d2-b3a2-1bd0716674ff.jpeg [Content-Type=image/jpeg]...\n",
      "Copying file://2023-03-08-food_photos/chilli/c4bc8c2c-40f4-493f-9351-c222c96262ee.jpeg [Content-Type=image/jpeg]...\n",
      "Copying file://2023-03-08-food_photos/chocolate/bf4dbd42-5506-4f30-b114-12a38b82b21a.jpeg [Content-Type=image/jpeg]...\n",
      "Copying file://2023-03-08-food_photos/chocolate/dd936761-2809-4379-a9cd-430479b5d2c0.jpeg [Content-Type=image/jpeg]...\n",
      "Copying file://2023-03-08-food_photos/cookies/344368a0-c39f-49af-8e4c-95478fa218a0.jpeg [Content-Type=image/jpeg]...\n",
      "Copying file://2023-03-08-food_photos/coriander/13de6526-b802-4643-ab2e-85d67865c2e8.jpeg [Content-Type=image/jpeg]...\n",
      "Copying file://2023-03-08-food_photos/corn_chips/832b7f5f-c305-4e74-a695-667c748fe053.jpeg [Content-Type=image/jpeg]...\n",
      "Copying file://2023-03-08-food_photos/croissant/656da5bd-5cb0-4513-a249-40bd1db2660c.jpeg [Content-Type=image/jpeg]...\n",
      "Copying file://2023-03-08-food_photos/cucumber/0670658c-0340-4012-b892-3c91b536c9a4.jpeg [Content-Type=image/jpeg]...\n",
      "Copying file://2023-03-08-food_photos/cucumber/10ea62a5-566c-4574-b704-e6df654d855e.jpeg [Content-Type=image/jpeg]...\n",
      "Copying file://2023-03-08-food_photos/cucumber/16d838f7-c201-47cd-b418-742ac4679f66.jpeg [Content-Type=image/jpeg]...\n",
      "Copying file://2023-03-08-food_photos/cucumber/2cdf0426-f3d3-4432-81ed-adf87899bc8b.jpeg [Content-Type=image/jpeg]...\n",
      "Copying file://2023-03-08-food_photos/cucumber/2e61ce0f-0577-4cc5-b02d-e8cca7b876b2.jpeg [Content-Type=image/jpeg]...\n",
      "Copying file://2023-03-08-food_photos/cucumber/5d4824f7-86c3-49a2-aeda-51679c1fcd70.jpeg [Content-Type=image/jpeg]...\n",
      "Copying file://2023-03-08-food_photos/cucumber/63de5baf-f267-426c-a815-d18d6d7db97e.jpeg [Content-Type=image/jpeg]...\n",
      "Copying file://2023-03-08-food_photos/cucumber/64910e97-3366-489c-8cee-2fd380039ab1.jpeg [Content-Type=image/jpeg]...\n",
      "Copying file://2023-03-08-food_photos/cucumber/81bf4611-75df-46bc-8d13-eda69753e2a3.jpeg [Content-Type=image/jpeg]...\n",
      "Copying file://2023-03-08-food_photos/cucumber/8e2a0fe2-0a50-4cc8-8585-bdfa0e6bc596.jpeg [Content-Type=image/jpeg]...\n",
      "Copying file://2023-03-08-food_photos/cucumber/eb32e8b4-eaec-4c53-997c-06f93a40d810.jpeg [Content-Type=image/jpeg]...\n",
      "Copying file://2023-03-08-food_photos/curry_chicken/7deb50ec-48d5-49c2-ac55-d3f619180e2d.jpeg [Content-Type=image/jpeg]...\n",
      "Copying file://2023-03-08-food_photos/curry_chicken/875ebab4-cc88-4d5f-ad83-9b3c637f21f6.jpeg [Content-Type=image/jpeg]...\n",
      "Copying file://2023-03-08-food_photos/curry_chicken/aef6a466-8eee-4227-b767-3992636a05c4.jpeg [Content-Type=image/jpeg]...\n",
      "Copying file://2023-03-08-food_photos/dill/baf9aac5-abe6-484a-86d7-90b02d3d0a65.jpeg [Content-Type=image/jpeg]...\n",
      "Copying file://2023-03-08-food_photos/donuts/041d68c3-c266-48ea-bd8c-83b00c761062.jpeg [Content-Type=image/jpeg]...\n",
      "Copying file://2023-03-08-food_photos/donuts/072d69a1-1cab-48af-a039-80ac332160b6.jpeg [Content-Type=image/jpeg]...\n",
      "Copying file://2023-03-08-food_photos/donuts/747ed383-a7bc-4843-8f0b-ba7d2ba54dc9.jpeg [Content-Type=image/jpeg]...\n",
      "Copying file://2023-03-08-food_photos/donuts/77e85b88-714c-4e2c-b32e-c65faee51f37.jpeg [Content-Type=image/jpeg]...\n",
      "Copying file://2023-03-08-food_photos/donuts/b5f25534-62a2-41bc-8caa-a36891de9e79.jpeg [Content-Type=image/jpeg]...\n",
      "Copying file://2023-03-08-food_photos/donuts/d278ac82-a49c-4181-9927-6f899c465a41.jpeg [Content-Type=image/jpeg]...\n",
      "Copying file://2023-03-08-food_photos/dragonfruit/43c8495a-6018-45c2-bff2-907ef7c90ce3.jpeg [Content-Type=image/jpeg]...\n",
      "Copying file://2023-03-08-food_photos/dragonfruit/640df466-f6ad-4887-aecd-2700565ca52a.jpeg [Content-Type=image/jpeg]...\n",
      "Copying file://2023-03-08-food_photos/dragonfruit/6e3910c7-97d7-4394-a581-8c1ca47d5fd4.jpeg [Content-Type=image/jpeg]...\n",
      "Copying file://2023-03-08-food_photos/dragonfruit/bad4bcc6-5fd5-4fb3-80c5-3e5cb3e30115.jpeg [Content-Type=image/jpeg]...\n",
      "Copying file://2023-03-08-food_photos/dragonfruit/bc31933f-b1c7-4e3f-a166-185e0f0d6961.jpeg [Content-Type=image/jpeg]...\n",
      "Copying file://2023-03-08-food_photos/dragonfruit/e02e542b-6b25-4f38-948c-af3f990aeba4.jpeg [Content-Type=image/jpeg]...\n",
      "Copying file://2023-03-08-food_photos/eggplant/97736892-f5b2-44cc-a3b1-05f5cdedc7c3.jpeg [Content-Type=image/jpeg]...\n",
      "Copying file://2023-03-08-food_photos/eggs/21dfe463-c47e-4141-bffc-0f94cbfd410a.jpeg [Content-Type=image/jpeg]...\n",
      "Copying file://2023-03-08-food_photos/eggs/289b7f6f-223d-4e24-9fe1-b71a8f3741ca.jpeg [Content-Type=image/jpeg]...\n",
      "Copying file://2023-03-08-food_photos/eggs/2fbbf511-76c7-4ef6-864a-38fdfe5b5e2e.jpeg [Content-Type=image/jpeg]...\n",
      "Copying file://2023-03-08-food_photos/eggs/64918f2f-1b8d-41c9-8244-a6551d65925c.jpeg [Content-Type=image/jpeg]...\n",
      "Copying file://2023-03-08-food_photos/eggs/e9d2b6a1-dee2-4011-93dd-d93567d0a259.jpeg [Content-Type=image/jpeg]...\n",
      "Copying file://2023-03-08-food_photos/fennel/9987daf8-a396-4431-9a0e-571134d81288.jpeg [Content-Type=image/jpeg]...\n",
      "Copying file://2023-03-08-food_photos/figs/4095c95f-965c-49b7-8c11-de16d55e9e9c.jpeg [Content-Type=image/jpeg]...\n",
      "Copying file://2023-03-08-food_photos/fruit_salad/48ffd0e6-81fe-40c6-9f9a-8135506a916e.jpeg [Content-Type=image/jpeg]...\n",
      "Copying file://2023-03-08-food_photos/fruit_salad/d1b533cb-96d2-4f58-85bb-5e61ab5f74ad.jpeg [Content-Type=image/jpeg]...\n",
      "Copying file://2023-03-08-food_photos/fruit_salad/ecd43b88-8e8b-4ad0-bbf9-696334fef50c.jpeg [Content-Type=image/jpeg]...\n",
      "Copying file://2023-03-08-food_photos/fruit_salad/f4e01cd8-ec04-495c-9a34-d6969b1a1936.jpeg [Content-Type=image/jpeg]...\n",
      "Copying file://2023-03-08-food_photos/fruit_smoothie/790f589f-ac6d-43f7-b148-cc10f59635b3.jpeg [Content-Type=image/jpeg]...\n",
      "Copying file://2023-03-08-food_photos/garlic/04221bec-89ff-4d59-bca2-2cbfa7125ca4.jpeg [Content-Type=image/jpeg]...\n",
      "Copying file://2023-03-08-food_photos/garlic/10c1bc91-70ad-4249-b020-06fe5a19986a.jpeg [Content-Type=image/jpeg]...\n",
      "Copying file://2023-03-08-food_photos/garlic/1d28c477-7654-4a36-8206-c7b55034589e.jpeg [Content-Type=image/jpeg]...\n",
      "Copying file://2023-03-08-food_photos/garlic/1f2d213d-9111-4b7c-ae63-5e906b3459fc.jpeg [Content-Type=image/jpeg]...\n",
      "Copying file://2023-03-08-food_photos/garlic/24bbc90b-f806-4564-afa4-6625675c611e.jpeg [Content-Type=image/jpeg]...\n",
      "Copying file://2023-03-08-food_photos/garlic/2ab6a72a-57d8-4450-8696-5bf113b8d4d2.jpeg [Content-Type=image/jpeg]...\n",
      "Copying file://2023-03-08-food_photos/garlic/83003cda-579b-4db0-aadd-986a98a415c3.jpeg [Content-Type=image/jpeg]...\n",
      "Copying file://2023-03-08-food_photos/garlic/8bd830ca-24b2-47fc-89ba-4a2008e2a0ae.jpeg [Content-Type=image/jpeg]...\n",
      "Copying file://2023-03-08-food_photos/garlic/c3620055-6fed-4192-a135-368c9f227e28.jpeg [Content-Type=image/jpeg]...\n",
      "Copying file://2023-03-08-food_photos/garlic/cdd39b2a-76bf-408c-a467-1a46963ad174.jpeg [Content-Type=image/jpeg]...\n",
      "Copying file://2023-03-08-food_photos/garlic_chives/a089ae06-0476-4c96-bcf6-4a6893db6b90.jpeg [Content-Type=image/jpeg]...\n",
      "Copying file://2023-03-08-food_photos/garlic_chives/ebc74aef-de1f-43bb-98f8-eac77ed6c0f4.jpeg [Content-Type=image/jpeg]...\n",
      "Copying file://2023-03-08-food_photos/garlic/e81ef380-a2be-4906-8528-6217bf6fc92b.jpeg [Content-Type=image/jpeg]...\n",
      "Copying file://2023-03-08-food_photos/ginger/0f61cc0c-584e-4e8a-85c8-d62f2257821b.jpeg [Content-Type=image/jpeg]...\n",
      "Copying file://2023-03-08-food_photos/ginger/17514bd2-57c1-4cdd-8244-9bda4daecb54.jpeg [Content-Type=image/jpeg]...\n",
      "Copying file://2023-03-08-food_photos/ginger/b5d71eaf-54ca-496b-bd1c-c335028b2e80.jpeg [Content-Type=image/jpeg]...\n",
      "Copying file://2023-03-08-food_photos/grapefruit/d40c916b-2ebc-4c26-b51a-dcb3ed38633f.jpeg [Content-Type=image/jpeg]...\n",
      "Copying file://2023-03-08-food_photos/grapes_red/cf87913c-4bdb-4d05-8826-d7eda8ac300b.jpeg [Content-Type=image/jpeg]...\n",
      "Copying file://2023-03-08-food_photos/grapes_white/c6827977-9e5c-4e61-b9d3-60e4042592e0.jpeg [Content-Type=image/jpeg]...\n",
      "Copying file://2023-03-08-food_photos/green_beans/054ae0d5-e291-47fa-9276-296e5e9bd51e.jpeg [Content-Type=image/jpeg]...\n",
      "Copying file://2023-03-08-food_photos/green_beans/a057cc3e-1ac7-4493-8934-c12dbcbf4a16.jpeg [Content-Type=image/jpeg]...\n",
      "Copying file://2023-03-08-food_photos/green_beans/de7c42e4-951a-4e5f-a3ec-c151392287a7.jpeg [Content-Type=image/jpeg]...\n",
      "Copying file://2023-03-08-food_photos/green_beans/e0301463-4a57-4ec0-9445-c1c42359415c.jpeg [Content-Type=image/jpeg]...\n",
      "Copying file://2023-03-08-food_photos/ham/6e4c4f29-9330-4734-ae86-b4b9f54b2fa4.jpeg [Content-Type=image/jpeg]...\n",
      "Copying file://2023-03-08-food_photos/ham/a3334c89-64f4-48e7-a585-1dc3a069c25b.jpeg [Content-Type=image/jpeg]...\n",
      "Copying file://2023-03-08-food_photos/ham/c64f2e10-7e8c-4e47-b426-3631d739e60d.jpeg [Content-Type=image/jpeg]...\n",
      "Copying file://2023-03-08-food_photos/ham/f6ab8059-399e-41e5-bf98-df65843bd755.jpeg [Content-Type=image/jpeg]...\n",
      "Copying file://2023-03-08-food_photos/honey/14eabe32-d161-4e3f-81f8-78e0b77e4d78.jpeg [Content-Type=image/jpeg]...\n",
      "Copying file://2023-03-08-food_photos/honey/1839914a-aa88-4ba8-aedc-fe934686992a.jpeg [Content-Type=image/jpeg]...\n",
      "Copying file://2023-03-08-food_photos/honey/2db57913-a40f-4ead-a0b4-7ea074630f9e.jpeg [Content-Type=image/jpeg]...\n",
      "Copying file://2023-03-08-food_photos/honey/4d05b014-c26a-45d7-aa84-e56494efa3f8.jpeg [Content-Type=image/jpeg]...\n",
      "Copying file://2023-03-08-food_photos/honey/730469b7-fc86-4757-84c6-786dcbba1ce5.jpeg [Content-Type=image/jpeg]...\n",
      "Copying file://2023-03-08-food_photos/honey/f833581a-2c49-480a-9f4a-6036aba01171.jpeg [Content-Type=image/jpeg]...\n",
      "Copying file://2023-03-08-food_photos/ice_coffee/fb51baf8-efd1-4138-9ceb-f322062a3814.jpeg [Content-Type=image/jpeg]...\n",
      "Copying file://2023-03-08-food_photos/ice_cream/3fb5421a-d323-4a39-a758-f5d2e909d97e.jpeg [Content-Type=image/jpeg]...\n",
      "Copying file://2023-03-08-food_photos/ice_cream/5889bd9f-347e-4182-8565-927874cb7d0c.jpeg [Content-Type=image/jpeg]...\n",
      "Copying file://2023-03-08-food_photos/ice_cream/6f7525a1-3edd-48bd-8dac-7724a1e7603b.jpeg [Content-Type=image/jpeg]...\n",
      "Copying file://2023-03-08-food_photos/ice_cream/c9b90b02-2e8d-484c-8487-cd0059b3b625.jpeg [Content-Type=image/jpeg]...\n",
      "Copying file://2023-03-08-food_photos/ice_cream/e7f77b98-4b0a-4d34-9e67-7aa2e71c24c7.jpeg [Content-Type=image/jpeg]...\n",
      "Copying file://2023-03-08-food_photos/ice_cream/f2e1c47d-ec2f-4a77-99aa-322d18af93b9.jpeg [Content-Type=image/jpeg]...\n",
      "Copying file://2023-03-08-food_photos/kale/3337e6c5-66c7-4051-a700-e8f67378a3ae.jpeg [Content-Type=image/jpeg]...\n",
      "Copying file://2023-03-08-food_photos/kale/3e303bb7-2c53-4d6e-82a8-18c483c79acd.jpeg [Content-Type=image/jpeg]...\n",
      "Copying file://2023-03-08-food_photos/kale/6470284c-c84c-40f6-b18f-6ec24502283f.jpeg [Content-Type=image/jpeg]...\n",
      "Copying file://2023-03-08-food_photos/kale/6711943a-c541-4a85-b9ae-b3c070ddcf54.jpeg [Content-Type=image/jpeg]...\n",
      "Copying file://2023-03-08-food_photos/kale/7947a4dd-b19e-4c30-8c08-25fb91dd1188.jpeg [Content-Type=image/jpeg]...\n",
      "Copying file://2023-03-08-food_photos/kale/86b3d97b-6d9e-4e78-9455-761f68f5c5c6.jpeg [Content-Type=image/jpeg]...\n",
      "Copying file://2023-03-08-food_photos/kale/9746856d-d052-40cc-9de7-72baf9546b3c.jpeg [Content-Type=image/jpeg]...\n",
      "Copying file://2023-03-08-food_photos/kale/9a430946-74d4-43d1-853b-02960a2b6141.jpeg [Content-Type=image/jpeg]...\n",
      "Copying file://2023-03-08-food_photos/kale/ba621ebe-0399-47a6-bf44-363d9ca8b5e0.jpeg [Content-Type=image/jpeg]...\n",
      "Copying file://2023-03-08-food_photos/kale/ec92cbf7-7658-4889-b201-c127512b4859.jpeg [Content-Type=image/jpeg]...\n",
      "Copying file://2023-03-08-food_photos/kiwifruit/a10bd5ce-16b7-42f4-938e-14e3f6d4a565.jpeg [Content-Type=image/jpeg]...\n",
      "Copying file://2023-03-08-food_photos/kiwifruit/b7d43e04-f27b-4430-9f88-31d287c25db3.jpeg [Content-Type=image/jpeg]...\n",
      "Copying file://2023-03-08-food_photos/kiwifruit/c608a1cb-253b-41c9-9d79-d7e02361af95.jpeg [Content-Type=image/jpeg]...\n",
      "Copying file://2023-03-08-food_photos/kiwifruit/f3fbd0f5-78bb-4284-b4bc-95dc8c0b85c0.jpeg [Content-Type=image/jpeg]...\n",
      "Copying file://2023-03-08-food_photos/leek/dacc3318-846b-47dc-881b-06142db50833.jpeg [Content-Type=image/jpeg]...\n",
      "Copying file://2023-03-08-food_photos/lemon/30fb2d51-8e5e-4e33-a610-65f0527c3f3c.jpeg [Content-Type=image/jpeg]...\n",
      "Copying file://2023-03-08-food_photos/lemon/41fd795a-493c-4689-bcc0-cfd09668d96d.jpeg [Content-Type=image/jpeg]...\n",
      "Copying file://2023-03-08-food_photos/lemon/455f22ff-8396-4132-a24b-27539cbe4427.jpeg [Content-Type=image/jpeg]...\n",
      "Copying file://2023-03-08-food_photos/lemon/531463fd-15de-4f95-949a-b3759252625d.jpeg [Content-Type=image/jpeg]...\n",
      "Copying file://2023-03-08-food_photos/lemon/c89d3bdc-8120-4503-9b88-4964b8e20605.jpeg [Content-Type=image/jpeg]...\n",
      "Copying file://2023-03-08-food_photos/lemon/eee6d875-94dd-43be-91da-e9b397a04cbd.jpeg [Content-Type=image/jpeg]...\n",
      "Copying file://2023-03-08-food_photos/lettuce_cos/02a1b810-f2f0-46ee-a536-e8b217eff744.jpeg [Content-Type=image/jpeg]...\n",
      "Copying file://2023-03-08-food_photos/lettuce_cos/1efc4590-145d-4e8f-804c-0e04947e872d.jpeg [Content-Type=image/jpeg]...\n",
      "Copying file://2023-03-08-food_photos/lettuce_cos/62572ba6-fe85-4fe4-a625-51ab64af0504.jpeg [Content-Type=image/jpeg]...\n",
      "Copying file://2023-03-08-food_photos/lettuce_cos/9cd90efe-c2fa-4b0c-bfb7-3888604de4ca.jpeg [Content-Type=image/jpeg]...\n",
      "Copying file://2023-03-08-food_photos/lettuce_cos/cb170451-b31c-427e-bb38-4aa227a01964.jpeg [Content-Type=image/jpeg]...\n",
      "Copying file://2023-03-08-food_photos/lettuce_cos/e68b0cc8-033b-41ec-ab1c-2dac22ebae0a.jpeg [Content-Type=image/jpeg]...\n",
      "Copying file://2023-03-08-food_photos/lettuce_cos/fdbd40eb-9cf0-4579-9639-735dc79a67e0.jpeg [Content-Type=image/jpeg]...\n",
      "Copying file://2023-03-08-food_photos/lettuce_iceberg/5334fe6f-68a8-4015-983e-5578bbc54dc1.jpeg [Content-Type=image/jpeg]...\n",
      "Copying file://2023-03-08-food_photos/lime/0bf581b2-2f97-4c80-b652-a1dc37983842.jpeg [Content-Type=image/jpeg]...\n",
      "Copying file://2023-03-08-food_photos/lime/efb6b72d-282f-4a86-84e0-1e9eb5f019de.jpeg [Content-Type=image/jpeg]...\n",
      "Copying file://2023-03-08-food_photos/lychee/41cd4600-9b35-45a9-92a6-9316fa8d8f30.jpeg [Content-Type=image/jpeg]...\n",
      "Copying file://2023-03-08-food_photos/mandarin/be4330ea-d787-4f78-a919-2c6cfd3f1860.jpeg [Content-Type=image/jpeg]...\n",
      "Copying file://2023-03-08-food_photos/mango/10015727-a458-49f7-84aa-23c342208a50.jpeg [Content-Type=image/jpeg]...\n",
      "Copying file://2023-03-08-food_photos/marjoram/e69ca3d1-7c97-4ba5-9e01-28d075679950.jpeg [Content-Type=image/jpeg]...\n",
      "Copying file://2023-03-08-food_photos/melon_candy/459046bb-9113-42e1-980b-352026aa7ddd.jpeg [Content-Type=image/jpeg]...\n",
      "Copying file://2023-03-08-food_photos/melon_candy/5215b380-acf2-4079-8e41-4c1415013c16.jpeg [Content-Type=image/jpeg]...\n",
      "Copying file://2023-03-08-food_photos/melon_dino/158716ab-39af-45fb-b9b3-497a26a6905b.jpeg [Content-Type=image/jpeg]...\n",
      "Copying file://2023-03-08-food_photos/melon_dino/7bec540b-0576-43e9-8ac5-954894de3427.jpeg [Content-Type=image/jpeg]...\n",
      "Copying file://2023-03-08-food_photos/melon_spanish/6c5e5deb-23fa-4f58-8674-97f922af68f7.jpeg [Content-Type=image/jpeg]...\n",
      "Copying file://2023-03-08-food_photos/melon_spanish/bca2d8d6-b536-42d7-94ca-2a9692847c04.jpeg [Content-Type=image/jpeg]...\n",
      "Copying file://2023-03-08-food_photos/milk/2ed68660-d30c-411a-aecb-a392fc344fb7.jpeg [Content-Type=image/jpeg]...\n",
      "Copying file://2023-03-08-food_photos/milk/3d727590-a0e6-4297-b990-421a15631316.jpeg [Content-Type=image/jpeg]...\n",
      "Copying file://2023-03-08-food_photos/milk/a8e304aa-5b6e-4607-9519-f3079437e6fb.jpeg [Content-Type=image/jpeg]...\n",
      "Copying file://2023-03-08-food_photos/milk/afb4814d-7341-4546-be8f-8b8fb149c6e9.jpeg [Content-Type=image/jpeg]...\n",
      "Copying file://2023-03-08-food_photos/milk/d7d6a5d4-441c-4064-8917-646b2ef4c45c.jpeg [Content-Type=image/jpeg]...\n",
      "Copying file://2023-03-08-food_photos/milk/ed773d6b-b058-450b-bcb7-fe70560632f8.jpeg [Content-Type=image/jpeg]...\n",
      "Copying file://2023-03-08-food_photos/mint/730bf666-82da-4cdd-bda3-fbbbcaaac5f3.jpeg [Content-Type=image/jpeg]...\n",
      "Copying file://2023-03-08-food_photos/mushroom_enoki/8a9bbf8a-9588-4ee3-87a0-644622e01661.jpeg [Content-Type=image/jpeg]...\n",
      "Copying file://2023-03-08-food_photos/mushroom_enoki/f9710c8c-976c-4a7b-8238-aba516f855bf.jpeg [Content-Type=image/jpeg]...\n",
      "Copying file://2023-03-08-food_photos/mushroom_oyster/196e1f87-fe7f-4b7a-bb51-ee05a41c6b1a.jpeg [Content-Type=image/jpeg]...\n",
      "Copying file://2023-03-08-food_photos/mushroom_oyster/fccc71eb-8fe5-4fc4-9f90-b2aa90ef28e2.jpeg [Content-Type=image/jpeg]...\n",
      "Copying file://2023-03-08-food_photos/mushroom_portobello/1a614cb2-ff3f-4481-a5aa-8b3df112b448.jpeg [Content-Type=image/jpeg]...\n",
      "Copying file://2023-03-08-food_photos/mushroom_portobello/c72954bd-bca9-4351-b9d1-29ffa737e334.jpeg [Content-Type=image/jpeg]...\n",
      "Copying file://2023-03-08-food_photos/mushroom_swiss_brown/3d09cf6d-fd4a-476b-b9f5-5b1b5cb61fbf.jpeg [Content-Type=image/jpeg]...\n",
      "Copying file://2023-03-08-food_photos/mushroom_swiss_brown/a79319db-ef40-446c-aff2-bf60c62dfa6b.jpeg [Content-Type=image/jpeg]...\n",
      "Copying file://2023-03-08-food_photos/mushroom_swiss_brown/b7efaa3a-b2a0-41f9-bf17-df82b3887585.jpeg [Content-Type=image/jpeg]...\n",
      "Copying file://2023-03-08-food_photos/mushroom_white_cups/1c120d10-b1f0-4223-a3c5-64838768bcf9.jpeg [Content-Type=image/jpeg]...\n",
      "Copying file://2023-03-08-food_photos/mushroom_white_cups/2981b6be-057f-4e1a-a1db-eef67097fe3b.jpeg [Content-Type=image/jpeg]...\n",
      "Copying file://2023-03-08-food_photos/mushroom_white_cups/2a1b5823-4f41-4b1b-a790-d33f4a5353fc.jpeg [Content-Type=image/jpeg]...\n",
      "Copying file://2023-03-08-food_photos/mushroom_white_cups/2fb2591b-bd9c-4f3c-ac7c-812cc566f755.jpeg [Content-Type=image/jpeg]...\n",
      "Copying file://2023-03-08-food_photos/mushroom_white_cups/48e03b18-baae-41b6-974a-0e08800d0d4d.jpeg [Content-Type=image/jpeg]...\n",
      "Copying file://2023-03-08-food_photos/mushroom_white_cups/8aaae5c2-a66d-449e-9024-2f2bcdd3a69f.jpeg [Content-Type=image/jpeg]...\n",
      "Copying file://2023-03-08-food_photos/mushroom_white_cups/8b139d41-3e80-48c1-9ae5-4f608f5d215c.jpeg [Content-Type=image/jpeg]...\n",
      "Copying file://2023-03-08-food_photos/mushroom_white_cups/9a941252-240b-4330-bb75-c1858e34e2c3.jpeg [Content-Type=image/jpeg]...\n",
      "Copying file://2023-03-08-food_photos/mushroom_white_cups/bde01e3c-ff74-4733-9961-03dc3939448c.jpeg [Content-Type=image/jpeg]...\n",
      "Copying file://2023-03-08-food_photos/mushroom_white_cups/fd3db2e2-875f-407d-970a-08ce5a355995.jpeg [Content-Type=image/jpeg]...\n",
      "Copying file://2023-03-08-food_photos/nectarine/d135827c-099d-493f-be24-b6444e8e8155.jpeg [Content-Type=image/jpeg]...\n",
      "Copying file://2023-03-08-food_photos/olive_oil/a1bfb4ab-fcbe-438c-99fa-1625b574aae4.jpeg [Content-Type=image/jpeg]...\n",
      "Copying file://2023-03-08-food_photos/omelette/442cdbef-0662-4042-aaf4-ef7af841156f.jpeg [Content-Type=image/jpeg]...\n",
      "Copying file://2023-03-08-food_photos/omelette/8f25dc68-9c1d-4150-ab16-59a6779e8f50.jpeg [Content-Type=image/jpeg]...\n",
      "Copying file://2023-03-08-food_photos/omelette/a7406529-f75b-4222-afd3-694e14b8dfae.jpeg [Content-Type=image/jpeg]...\n",
      "Copying file://2023-03-08-food_photos/omelette/b3c7960e-9a4f-4a57-a542-5ef1cedc65e6.jpeg [Content-Type=image/jpeg]...\n",
      "Copying file://2023-03-08-food_photos/onion_brown/52c48a62-657d-4da5-a471-855fe6b93aa9.jpeg [Content-Type=image/jpeg]...\n",
      "Copying file://2023-03-08-food_photos/onion_brown/e09cc129-fbaf-4ebf-9934-a1e923e08d9c.jpeg [Content-Type=image/jpeg]...\n",
      "Copying file://2023-03-08-food_photos/onion_green/074a47da-b13c-4bfc-8156-8e62f9301e49.jpeg [Content-Type=image/jpeg]...\n",
      "Copying file://2023-03-08-food_photos/onion_green/2d564153-7788-42ae-a72c-bfb22d7d10ec.jpeg [Content-Type=image/jpeg]...\n",
      "Copying file://2023-03-08-food_photos/onion_green/7c863680-9c06-4b9e-8a1c-09409e7acc14.jpeg [Content-Type=image/jpeg]...\n",
      "Copying file://2023-03-08-food_photos/onion_red/f7a03326-b9cd-4859-9395-78b83443702b.jpeg [Content-Type=image/jpeg]...\n",
      "Copying file://2023-03-08-food_photos/onion_white/094b8618-65bf-4568-b07e-bacdcbbde730.jpeg [Content-Type=image/jpeg]...\n",
      "Copying file://2023-03-08-food_photos/onion_white/2af0d1dc-6714-4e7f-9ffd-40960081c7c0.jpeg [Content-Type=image/jpeg]...\n",
      "Copying file://2023-03-08-food_photos/onion_white/501c8843-ff68-4cb2-b17a-7b74bda1a254.jpeg [Content-Type=image/jpeg]...\n",
      "Copying file://2023-03-08-food_photos/orange/3aecf8ec-f973-4c68-86f5-636ce0b62c86.jpeg [Content-Type=image/jpeg]...\n",
      "Copying file://2023-03-08-food_photos/orange/9cc63d48-bc71-4cad-964a-4f3fcc53d22a.jpeg [Content-Type=image/jpeg]...\n",
      "Copying file://2023-03-08-food_photos/orange/bbaca1ac-b137-4c5a-960c-f0870493563d.jpeg [Content-Type=image/jpeg]...\n",
      "Copying file://2023-03-08-food_photos/orange_juice/08a40f5b-a57a-4c6a-8f37-0960e8443ab2.jpeg [Content-Type=image/jpeg]...\n",
      "Copying file://2023-03-08-food_photos/orange_juice/384884d3-cb79-4a9b-8432-3748c9658a3e.jpeg [Content-Type=image/jpeg]...\n",
      "Copying file://2023-03-08-food_photos/orange_juice/3b2769cc-7766-4784-9ec1-e0f11b369237.jpeg [Content-Type=image/jpeg]...\n",
      "Copying file://2023-03-08-food_photos/orange_juice/4a4ce505-fe6a-4aed-965f-5daa22c76a33.jpeg [Content-Type=image/jpeg]...\n",
      "Copying file://2023-03-08-food_photos/orange_juice/76f89feb-3c5d-4152-b7b0-86114ec731f7.jpeg [Content-Type=image/jpeg]...\n",
      "Copying file://2023-03-08-food_photos/orange_juice/7c8520b8-bc2b-4661-938a-7761fdec7ed1.jpeg [Content-Type=image/jpeg]...\n",
      "Copying file://2023-03-08-food_photos/orange_juice/933a6716-ead0-476f-a6f2-459c9d952a07.jpeg [Content-Type=image/jpeg]...\n",
      "Copying file://2023-03-08-food_photos/orange_juice/96cf71e5-6182-41e6-8648-f429ed2b1fdb.jpeg [Content-Type=image/jpeg]...\n",
      "Copying file://2023-03-08-food_photos/orange_juice/a468d468-8c0c-4d1e-b019-cab3834702e5.jpeg [Content-Type=image/jpeg]...\n",
      "Copying file://2023-03-08-food_photos/orange_juice/cb2c863f-a5ce-4279-ae73-2704ee16ba9c.jpeg [Content-Type=image/jpeg]...\n",
      "Copying file://2023-03-08-food_photos/orange_juice/e86e305a-f472-4240-b2e6-c567e93f9ba6.jpeg [Content-Type=image/jpeg]...\n",
      "Copying file://2023-03-08-food_photos/orange_juice/edecdd8c-5ffb-4da5-819e-da54a76d0b5e.jpeg [Content-Type=image/jpeg]...\n",
      "Copying file://2023-03-08-food_photos/orange_juice/f58b61d8-cf95-4d42-8a94-7098169ac4ab.jpeg [Content-Type=image/jpeg]...\n",
      "Copying file://2023-03-08-food_photos/oregano/47767ca0-5109-4a68-96a0-f5d0474b18b5.jpeg [Content-Type=image/jpeg]...\n",
      "Copying file://2023-03-08-food_photos/oregano/fda9aebf-3942-46ba-aad9-9cd38c30c5b4.jpeg [Content-Type=image/jpeg]...\n",
      "Copying file://2023-03-08-food_photos/pain_au_chocolat/0f938616-5a71-4248-8856-d785076512bf.jpeg [Content-Type=image/jpeg]...\n",
      "Copying file://2023-03-08-food_photos/pain_au_chocolat/78b87304-15b2-444f-96c6-16393d692e8c.jpeg [Content-Type=image/jpeg]...\n",
      "Copying file://2023-03-08-food_photos/parsley/63f0a383-3b14-4ae8-a26d-a826025b7974.jpeg [Content-Type=image/jpeg]...\n",
      "Copying file://2023-03-08-food_photos/parsley/71a7a5f2-640a-4909-8d3e-c5a15aa0a152.jpeg [Content-Type=image/jpeg]...\n",
      "Copying file://2023-03-08-food_photos/parsnips/5d487215-6bb2-4c50-b2ce-d2538318a627.jpeg [Content-Type=image/jpeg]...\n",
      "Copying file://2023-03-08-food_photos/passionfruit/923dee4e-0109-46ab-bb90-63ca9890966d.jpeg [Content-Type=image/jpeg]...\n",
      "Copying file://2023-03-08-food_photos/pasta/1fb157b1-8399-4516-a094-a53cc8fd8bca.jpeg [Content-Type=image/jpeg]...\n",
      "Copying file://2023-03-08-food_photos/pasta/825aee3f-4a99-4866-bdb3-ef877ff85d60.jpeg [Content-Type=image/jpeg]...\n",
      "Copying file://2023-03-08-food_photos/pawpaw/14cd8bdb-dd5d-490a-8799-22db885dae2e.jpeg [Content-Type=image/jpeg]...\n",
      "Copying file://2023-03-08-food_photos/pawpaw/a1305a18-3c52-4156-b222-e5cf8fe2d810.jpeg [Content-Type=image/jpeg]...\n",
      "Copying file://2023-03-08-food_photos/peach/1b18743f-32db-42c7-841f-bb34ef838315.jpeg [Content-Type=image/jpeg]...\n",
      "Copying file://2023-03-08-food_photos/peach/26162714-4477-4cbf-a6f4-59c28a1696a7.jpeg [Content-Type=image/jpeg]...\n",
      "Copying file://2023-03-08-food_photos/peach/75d50536-7190-4488-b6f3-d2e219a7e310.jpeg [Content-Type=image/jpeg]...\n",
      "Copying file://2023-03-08-food_photos/pear/0f6c7e76-1b42-4bf8-9620-7845ba0e9d58.jpeg [Content-Type=image/jpeg]...\n",
      "Copying file://2023-03-08-food_photos/pear/338915fd-3a93-4501-a9ea-679facda5d6d.jpeg [Content-Type=image/jpeg]...\n",
      "Copying file://2023-03-08-food_photos/pear/60f061e9-d596-4fde-9be1-d45e46643a26.jpeg [Content-Type=image/jpeg]...\n",
      "Copying file://2023-03-08-food_photos/pear/7f345926-4ab0-48bf-9bb9-ef308bc94497.jpeg [Content-Type=image/jpeg]...\n",
      "Copying file://2023-03-08-food_photos/pear/9352bcbe-70f5-4d28-aab5-fcfeba1456dd.jpeg [Content-Type=image/jpeg]...\n",
      "Copying file://2023-03-08-food_photos/pear/983ce8fa-fa00-41ad-a3e5-0911935760b2.jpeg [Content-Type=image/jpeg]...\n",
      "Copying file://2023-03-08-food_photos/pear/9b5453f8-67f6-4596-9bdf-5f5fc718a970.jpeg [Content-Type=image/jpeg]...\n",
      "Copying file://2023-03-08-food_photos/pear/9f437f50-7d22-4b90-83c4-2d0bc021e2b0.jpeg [Content-Type=image/jpeg]...\n",
      "Copying file://2023-03-08-food_photos/pear/c1a6c80b-12fb-4792-bfb9-cee65cdcf59e.jpeg [Content-Type=image/jpeg]...\n",
      "Copying file://2023-03-08-food_photos/pear/ce2b3b29-5454-4f19-a5ad-1c7459537ac7.jpeg [Content-Type=image/jpeg]...\n",
      "Copying file://2023-03-08-food_photos/pear/d599f668-c784-4111-8384-6f79824fa6df.jpeg [Content-Type=image/jpeg]...\n",
      "Copying file://2023-03-08-food_photos/pear/df180238-6f6d-4c69-9e6e-8089cb787c19.jpeg [Content-Type=image/jpeg]...\n",
      "Copying file://2023-03-08-food_photos/pear/e416a395-58fe-464f-b94f-1289dd040419.jpeg [Content-Type=image/jpeg]...\n",
      "Copying file://2023-03-08-food_photos/pear/e47c8f7e-b7d7-4315-a9c2-55bdbc56240a.jpeg [Content-Type=image/jpeg]...\n",
      "Copying file://2023-03-08-food_photos/pear/ee23cdb5-144a-4690-986f-911717f05b59.jpeg [Content-Type=image/jpeg]...\n",
      "Copying file://2023-03-08-food_photos/persimmon/056d75bf-7074-4ca2-a06c-b5232fd801c4.jpeg [Content-Type=image/jpeg]...\n",
      "Copying file://2023-03-08-food_photos/persimmon/1cec3922-9e21-4f3c-9a34-13b92e2c4bda.jpeg [Content-Type=image/jpeg]...\n",
      "Copying file://2023-03-08-food_photos/persimmon/259d5701-f0bf-4d56-9b5e-9a0341d6d909.jpeg [Content-Type=image/jpeg]...\n",
      "Copying file://2023-03-08-food_photos/persimmon/2821d873-7054-442f-a1c0-f36e9f044bda.jpeg [Content-Type=image/jpeg]...\n",
      "Copying file://2023-03-08-food_photos/persimmon/4543937e-5032-4d15-a42b-911c1b68b35d.jpeg [Content-Type=image/jpeg]...\n",
      "Copying file://2023-03-08-food_photos/persimmon/4ec6c9b9-b7aa-4e25-83d4-97678fbf4df3.jpeg [Content-Type=image/jpeg]...\n",
      "Copying file://2023-03-08-food_photos/persimmon/7782690e-437d-45b5-8a5e-938b15df6aae.jpeg [Content-Type=image/jpeg]...\n",
      "Copying file://2023-03-08-food_photos/persimmon/a7a3289f-596e-44cd-8381-58063403ebf6.jpeg [Content-Type=image/jpeg]...\n",
      "Copying file://2023-03-08-food_photos/persimmon/fe12fc31-b43f-49ac-98e0-25d29b1bcf91.jpeg [Content-Type=image/jpeg]...\n",
      "Copying file://2023-03-08-food_photos/pickles/816f2e80-2a67-4c55-9dcb-558092248102.jpeg [Content-Type=image/jpeg]...\n",
      "Copying file://2023-03-08-food_photos/pickles/889ea33c-26d4-48e8-b5bc-9736ebcfe1b3.jpeg [Content-Type=image/jpeg]...\n",
      "Copying file://2023-03-08-food_photos/pistachio/001bca65-621c-4769-b322-6bc68130a428.jpeg [Content-Type=image/jpeg]...\n",
      "Copying file://2023-03-08-food_photos/pizza/007ee707-3b3e-4e74-9c23-d36fd12c8b9d.jpeg [Content-Type=image/jpeg]...\n",
      "Copying file://2023-03-08-food_photos/pizza/5de22639-5944-4314-9828-97d9a93132ec.jpeg [Content-Type=image/jpeg]...\n",
      "Copying file://2023-03-08-food_photos/pizza/98638c82-064b-4801-a85d-db41e5031704.jpeg [Content-Type=image/jpeg]...\n",
      "Copying file://2023-03-08-food_photos/pizza/be108275-bab4-4f74-950f-ccc38ac5ad01.jpeg [Content-Type=image/jpeg]...\n",
      "Copying file://2023-03-08-food_photos/plum/08ab577e-9447-4779-aebb-c4f9ce4cd7e4.jpeg [Content-Type=image/jpeg]...\n",
      "Copying file://2023-03-08-food_photos/plum/51ecf37a-d5d1-4815-bf39-874d53956672.jpeg [Content-Type=image/jpeg]...\n",
      "Copying file://2023-03-08-food_photos/plum/958baac2-370b-4fb8-bff4-acb129558f0b.jpeg [Content-Type=image/jpeg]...\n",
      "Copying file://2023-03-08-food_photos/plum/9e550f39-6693-404b-9a23-79c42b3257b5.jpeg [Content-Type=image/jpeg]...\n",
      "Copying file://2023-03-08-food_photos/plum/a85a1576-9a4a-4071-a770-05c5b9674581.jpeg [Content-Type=image/jpeg]...\n",
      "Copying file://2023-03-08-food_photos/plum/fbd86dcc-2479-406b-8413-ed3d5b7f3fc3.jpeg [Content-Type=image/jpeg]...\n",
      "Copying file://2023-03-08-food_photos/plum_sugar/33145a3f-0319-422e-857c-b8ef1a577899.jpeg [Content-Type=image/jpeg]...\n",
      "Copying file://2023-03-08-food_photos/plum_sugar/475c7c9d-045e-4b30-9a57-6c7cb26354c9.jpeg [Content-Type=image/jpeg]...\n",
      "Copying file://2023-03-08-food_photos/plum_sugar/ffdebb33-ca6f-41a1-9f00-8a42da7f287b.jpeg [Content-Type=image/jpeg]...\n",
      "Copying file://2023-03-08-food_photos/potato_brown/802c9776-74f6-4f91-a27c-64ce58ba304e.jpeg [Content-Type=image/jpeg]...\n",
      "Copying file://2023-03-08-food_photos/pork_roast/2a76073d-3ca2-470c-a141-da9dc7cc3faa.jpeg [Content-Type=image/jpeg]...\n",
      "Copying file://2023-03-08-food_photos/potato_brown/b57d663b-f618-4f0b-b684-90c93551a338.jpeg [Content-Type=image/jpeg]...\n",
      "Copying file://2023-03-08-food_photos/potato_kipfler/b752aff3-b82f-4a9e-93e9-90def4511512.jpeg [Content-Type=image/jpeg]...\n",
      "Copying file://2023-03-08-food_photos/potato_kipfler/f8be25bf-a3e9-4f6e-8c42-0c2c485f6826.jpeg [Content-Type=image/jpeg]...\n",
      "Copying file://2023-03-08-food_photos/potato_purple_sweet/9f63c222-8458-4aba-8a31-2c23ea556136.jpeg [Content-Type=image/jpeg]...\n",
      "Copying file://2023-03-08-food_photos/potato_purple_sweet/b34a7be6-9253-4ee9-b7d6-f3f09c66e088.jpeg [Content-Type=image/jpeg]...\n",
      "Copying file://2023-03-08-food_photos/potato_red/009f5fcd-de1d-45a3-a486-22a5e5f2683b.jpeg [Content-Type=image/jpeg]...\n",
      "Copying file://2023-03-08-food_photos/potato_red/3cf26f1a-5eaa-4af5-b8ed-6ea42390aec7.jpeg [Content-Type=image/jpeg]...\n",
      "Copying file://2023-03-08-food_photos/potato_red/a1b91616-0f53-4291-9681-183b8788b4cf.jpeg [Content-Type=image/jpeg]...\n",
      "Copying file://2023-03-08-food_photos/potato_sweet/cb5b9fba-2468-4ad7-871d-54ff00f3efd8.jpeg [Content-Type=image/jpeg]...\n",
      "Copying file://2023-03-08-food_photos/potato_white/28db0015-526a-4b2f-be83-27ac04a9448b.jpeg [Content-Type=image/jpeg]...\n",
      "Copying file://2023-03-08-food_photos/potato_white/8a684e0a-46f3-4b4a-aa1e-10ff0a1c6ae2.jpeg [Content-Type=image/jpeg]...\n",
      "Copying file://2023-03-08-food_photos/potato_white/a80c26f8-b110-4776-afad-de177849d11c.jpeg [Content-Type=image/jpeg]...\n",
      "Copying file://2023-03-08-food_photos/potato_white/f211c875-ffba-4680-9a94-50a004bff0d9.jpeg [Content-Type=image/jpeg]...\n",
      "Copying file://2023-03-08-food_photos/potato_white/f24e8b4c-b016-4c05-9e40-02fb81acceb6.jpeg [Content-Type=image/jpeg]...\n",
      "Copying file://2023-03-08-food_photos/prawns/0254198e-1b32-433b-83c9-d22b41c47c76.jpeg [Content-Type=image/jpeg]...\n",
      "Copying file://2023-03-08-food_photos/prawns/4943b2e3-786c-4461-92f8-1652eea7a300.jpeg [Content-Type=image/jpeg]...\n",
      "Copying file://2023-03-08-food_photos/prawns/64af71db-e884-4e6a-861b-77341c43d3e1.jpeg [Content-Type=image/jpeg]...\n",
      "Copying file://2023-03-08-food_photos/prawns/737adff5-145c-497c-85c6-15ae7914dd47.jpeg [Content-Type=image/jpeg]...\n",
      "Copying file://2023-03-08-food_photos/prawns/b8ff3c7e-0962-4fab-872a-2f4849454334.jpeg [Content-Type=image/jpeg]...\n",
      "Copying file://2023-03-08-food_photos/pumpkin_butternut/0305d3f0-e3c5-4923-a99a-9563d2424bf3.jpeg [Content-Type=image/jpeg]...\n",
      "Copying file://2023-03-08-food_photos/pumpkin_butternut/7d2550da-3abe-4e58-9543-1aea135b46b1.jpeg [Content-Type=image/jpeg]...\n",
      "Copying file://2023-03-08-food_photos/pumpkin_butternut/d685a627-cf8a-4994-bc94-3cdf3a35dd23.jpeg [Content-Type=image/jpeg]...\n",
      "Copying file://2023-03-08-food_photos/pumpkin/f564164d-d66b-4f84-8d21-c6b3c5d3f2d9.jpeg [Content-Type=image/jpeg]...\n",
      "Copying file://2023-03-08-food_photos/radish_red/2dd815ca-38e1-4aaf-a8d2-418808c6d3ec.jpeg [Content-Type=image/jpeg]...\n",
      "Copying file://2023-03-08-food_photos/radish_red/530f4df7-75ad-4499-b0e3-2f2785502dd6.jpeg [Content-Type=image/jpeg]...\n",
      "Copying file://2023-03-08-food_photos/radish_white/3eef7d0d-60f0-4494-b8d7-fcb79123aa23.jpeg [Content-Type=image/jpeg]...\n",
      "Copying file://2023-03-08-food_photos/radish_white/c7be9e02-d3b5-4122-84f3-13b7eb2b91c1.jpeg [Content-Type=image/jpeg]...\n",
      "Copying file://2023-03-08-food_photos/rice_white/928c7364-eba6-4008-9e06-1d8e26cc1d1d.jpeg [Content-Type=image/jpeg]...\n",
      "Copying file://2023-03-08-food_photos/rocket/752b0f1e-a013-4961-a1ef-9687c1448328.jpeg [Content-Type=image/jpeg]...\n",
      "Copying file://2023-03-08-food_photos/rockmelon/f9b13ab6-ffa0-4d97-a5ec-219cbe34b698.jpeg [Content-Type=image/jpeg]...\n",
      "Copying file://2023-03-08-food_photos/rosemary/3b86072a-d8a4-4a1f-9b2f-3dd6d0053bb2.jpeg [Content-Type=image/jpeg]...\n",
      "Copying file://2023-03-08-food_photos/rosemary/8953043e-8da7-4b30-aa7e-2e11ca37113c.jpeg [Content-Type=image/jpeg]...\n",
      "Copying file://2023-03-08-food_photos/rosemary/8feb7daa-1be0-4ccf-ad4d-3645a627a00a.jpeg [Content-Type=image/jpeg]...\n",
      "Copying file://2023-03-08-food_photos/rosemary/faeb9a82-6251-489d-917f-1d3a9dfc60d4.jpeg [Content-Type=image/jpeg]...\n",
      "Copying file://2023-03-08-food_photos/sage/6e97b371-8e1d-4048-aed6-2ebb14366d28.jpeg [Content-Type=image/jpeg]...\n",
      "Copying file://2023-03-08-food_photos/sandwich_toasted/000ef045-ca67-4f5d-95d6-91dbe9a3d400.jpeg [Content-Type=image/jpeg]...\n",
      "Copying file://2023-03-08-food_photos/sandwich_toasted/11a5c2f5-67f6-435e-b20f-0d68d402d413.jpeg [Content-Type=image/jpeg]...\n",
      "Copying file://2023-03-08-food_photos/sandwich_toasted/35664092-cd40-4ed6-b154-fa11cc53b857.jpeg [Content-Type=image/jpeg]...\n",
      "Copying file://2023-03-08-food_photos/sandwich_toasted/3c70b073-a3d6-42b5-9cc5-ed9930d63e10.jpeg [Content-Type=image/jpeg]...\n",
      "Copying file://2023-03-08-food_photos/sandwich_toasted/3ecd45f2-b0fb-4917-b986-6d19e89dd6a6.jpeg [Content-Type=image/jpeg]...\n",
      "Copying file://2023-03-08-food_photos/sandwich_toasted/4b28badb-8b9e-4b91-9ef5-1e3043eba1a1.jpeg [Content-Type=image/jpeg]...\n",
      "Copying file://2023-03-08-food_photos/sandwich_toasted/681d319b-ea20-4d4e-a6a6-a32c563236ce.jpeg [Content-Type=image/jpeg]...\n",
      "Copying file://2023-03-08-food_photos/sandwich_toasted/6cdb4886-c1e7-48a4-9bec-eb59a79cc5d9.jpeg [Content-Type=image/jpeg]...\n",
      "Copying file://2023-03-08-food_photos/sandwich_toasted/7d75ff15-544e-426e-a896-8498a9a6ef06.jpeg [Content-Type=image/jpeg]...\n",
      "Copying file://2023-03-08-food_photos/sandwich_toasted/84d566ea-9004-4943-ac9e-2d814d695308.jpeg [Content-Type=image/jpeg]...\n",
      "Copying file://2023-03-08-food_photos/sandwich_toasted/b99c196f-b93c-4fff-ad87-b60288e4485d.jpeg [Content-Type=image/jpeg]...\n",
      "Copying file://2023-03-08-food_photos/sandwich_toasted/cb2d9187-bf4d-4e3b-899e-f8b91f17a46a.jpeg [Content-Type=image/jpeg]...\n",
      "Copying file://2023-03-08-food_photos/sandwich_toasted/d1e7bf1a-a14c-439b-93a4-568ed21838ef.jpeg [Content-Type=image/jpeg]...\n",
      "Copying file://2023-03-08-food_photos/sandwich_toasted/ea585a63-18e1-4d02-9ab6-aa3016c85fbf.jpeg [Content-Type=image/jpeg]...\n",
      "Copying file://2023-03-08-food_photos/silverbeet/3671b10f-64d8-43b3-b0f7-8e3b3c69c385.jpeg [Content-Type=image/jpeg]...\n",
      "Copying file://2023-03-08-food_photos/silverbeet/379362d9-a366-4703-be44-75e63e7a1120.jpeg [Content-Type=image/jpeg]...\n",
      "Copying file://2023-03-08-food_photos/silverbeet/d94ca98e-76ce-4769-8ea1-25fa31b86f85.jpeg [Content-Type=image/jpeg]...\n",
      "Copying file://2023-03-08-food_photos/snow_peas/03e27f58-e4e4-461b-baee-72b519b4a64c.jpeg [Content-Type=image/jpeg]...\n",
      "Copying file://2023-03-08-food_photos/soda/cd53f62d-f1f7-4c27-a50b-2370eda4c033.jpeg [Content-Type=image/jpeg]...\n",
      "Copying file://2023-03-08-food_photos/spinach/65fd2201-a4ff-46e1-a2a8-5d635d1ac6fb.jpeg [Content-Type=image/jpeg]...\n",
      "Copying file://2023-03-08-food_photos/spinach/dd99bb41-b745-46c3-bea4-51d7023f7d30.jpeg [Content-Type=image/jpeg]...\n",
      "Copying file://2023-03-08-food_photos/squash/3304864e-6a20-44c3-b370-77d022f08744.jpeg [Content-Type=image/jpeg]...\n",
      "Copying file://2023-03-08-food_photos/squash/34c80169-3f9d-4317-aa67-06013b63a325.jpeg [Content-Type=image/jpeg]...\n",
      "Copying file://2023-03-08-food_photos/steak/185e8f27-0645-453b-8d39-716347f9bb07.jpeg [Content-Type=image/jpeg]...\n",
      "Copying file://2023-03-08-food_photos/steak/2aa3f522-4fc8-4943-9ce5-ed982ba77ceb.jpeg [Content-Type=image/jpeg]...\n",
      "Copying file://2023-03-08-food_photos/steak/4455fb27-3abc-4b82-bf6d-054d9fc88bce.jpeg [Content-Type=image/jpeg]...\n",
      "Copying file://2023-03-08-food_photos/steak/6a6302c3-88ea-4e68-bf8c-451073a8c24c.jpeg [Content-Type=image/jpeg]...\n",
      "Copying file://2023-03-08-food_photos/strawberries/57fc1d8b-9655-42d0-82e8-826bda30ac4b.jpeg [Content-Type=image/jpeg]...\n",
      "Copying file://2023-03-08-food_photos/strawberries/d2424340-adf4-4ca4-8cae-1c3bb001dfc9.jpeg [Content-Type=image/jpeg]...\n",
      "Copying file://2023-03-08-food_photos/tarragon/9172353f-97be-43d9-bc53-0653bffc7e84.jpeg [Content-Type=image/jpeg]...\n",
      "Copying file://2023-03-08-food_photos/tea/80debd43-0bf8-47a2-a39e-51d0c67f2832.jpeg [Content-Type=image/jpeg]...\n",
      "Copying file://2023-03-08-food_photos/thyme/3f8909f7-927e-4173-a2d3-9ff44955c354.jpeg [Content-Type=image/jpeg]...\n",
      "Copying file://2023-03-08-food_photos/toast/2f2acf73-4493-4e31-b1ee-3b58d6ac6b2e.jpeg [Content-Type=image/jpeg]...\n",
      "Copying file://2023-03-08-food_photos/tomato/03db54ae-133a-48cb-bbd7-e7198f0e81ae.jpeg [Content-Type=image/jpeg]...\n",
      "Copying file://2023-03-08-food_photos/tomato/2eca53af-9cc3-478e-baa4-1776d4ae193d.jpeg [Content-Type=image/jpeg]...\n",
      "Copying file://2023-03-08-food_photos/tomato/9dff0a5c-8a7d-47b0-be2f-6140e9da4294.jpeg [Content-Type=image/jpeg]...\n",
      "Copying file://2023-03-08-food_photos/tomato_cherry/2c14bfd3-c3f3-4a1e-adcd-375b31bc8ee0.jpeg [Content-Type=image/jpeg]...\n",
      "Copying file://2023-03-08-food_photos/tomato_cherry/c4fdce05-92c9-4024-8dbd-a8d387b32eca.jpeg [Content-Type=image/jpeg]...\n",
      "Copying file://2023-03-08-food_photos/turnip/7de3008b-f6ef-47e0-afe3-423ae67078b8.jpeg [Content-Type=image/jpeg]...\n",
      "Copying file://2023-03-08-food_photos/watermelon/11709ceb-b50b-4f1a-a18a-581ea17a5948.jpeg [Content-Type=image/jpeg]...\n",
      "Copying file://2023-03-08-food_photos/watermelon/763fae82-e3d2-4a42-bee2-648a7ce4989f.jpeg [Content-Type=image/jpeg]...\n",
      "Copying file://2023-03-08-food_photos/watermelon/8cb31299-2fe1-4f89-924f-360a607119e0.jpeg [Content-Type=image/jpeg]...\n",
      "Copying file://2023-03-08-food_photos/watermelon/a22c2398-c654-41c3-ad09-c454206d77bd.jpeg [Content-Type=image/jpeg]...\n",
      "Copying file://2023-03-08-food_photos/wombok/0713c1f2-51b2-49ea-812b-88098aadfbd5.jpeg [Content-Type=image/jpeg]...\n",
      "Copying file://2023-03-08-food_photos/wombok/b0ee4f8f-62d5-490c-9a01-6b0af3f8a66a.jpeg [Content-Type=image/jpeg]...\n",
      "Copying file://2023-03-08-food_photos/wombok/ff42e0c7-d1d4-46a0-a587-d6529badb591.jpeg [Content-Type=image/jpeg]...\n",
      "Copying file://2023-03-08-food_photos/yoghurt/21a6e1ae-5606-4673-a13b-40ba46037395.jpeg [Content-Type=image/jpeg]...\n",
      "\\ [434/434 files][124.0 MiB/124.0 MiB] 100% Done   4.5 MiB/s ETA 00:00:00       \n",
      "Operation completed over 434 objects/124.0 MiB.                                  \n"
     ]
    }
   ],
   "source": [
    "# Upload the images to Google Storage\n",
    "!gsutil -m cp -r $target_dir/*/*.jp*g gs://$GS_BUCKET_NAME/all_images/"
   ]
  },
  {
   "cell_type": "code",
   "execution_count": 135,
   "metadata": {},
   "outputs": [],
   "source": [
    "# # Test uploading of 1 image\n",
    "# one_image = image_paths[0]\n",
    "\n",
    "# # Upload the image to Google Storage\n",
    "# upload_to_gs(bucket_name=GS_BUCKET_NAME,\n",
    "#              source_file_name=one_image,\n",
    "#              destination_blob_name=f\"all_images/{one_image.name}\")"
   ]
  },
  {
   "cell_type": "code",
   "execution_count": 40,
   "metadata": {},
   "outputs": [
    {
     "name": "stdout",
     "output_type": "stream",
     "text": [
      "[INFO] There are 118008 images in the GCP bucket\n"
     ]
    }
   ],
   "source": [
    "# Get list of images already in GCP bucket\n",
    "gs_image_paths = get_list_of_blobs(bucket_name=GS_BUCKET_NAME, prefix=\"all_images\")\n",
    "print(f\"[INFO] There are {len(gs_image_paths)} images in the GCP bucket\")"
   ]
  },
  {
   "cell_type": "code",
   "execution_count": 41,
   "metadata": {},
   "outputs": [
    {
     "data": {
      "text/plain": [
       "['000226a7-5332-4f45-b0e9-6760e9bd6d3e.jpeg',\n",
       " '0003a069-3b76-4cae-9414-80ccaa081e80.jpeg',\n",
       " '0003c8a1-7f64-4540-9256-3252f0981035.jpeg',\n",
       " '00045a69-b09f-4293-8c2e-a7ba27964fb6.jpg',\n",
       " '0004a23a-88b3-4aae-a1b0-c9ebe77d31b8.jpeg',\n",
       " '00065302-c0e7-4634-ab63-5ddd16bfdeb8.jpeg',\n",
       " '000747c7-e84b-44a3-9c9d-40076efbe7c4.jpeg',\n",
       " '00081a0e-c33c-4491-9bac-434afb5968c6.jpeg',\n",
       " '0008eda8-cd90-4394-bdac-aa1574f7738d.jpeg',\n",
       " '0009bea1-1577-4db5-bc60-b27eaed2d276.jpg']"
      ]
     },
     "execution_count": 41,
     "metadata": {},
     "output_type": "execute_result"
    }
   ],
   "source": [
    "gs_image_paths_name = [str(blob.name).split(\"/\")[-1] for blob in gs_image_paths]\n",
    "gs_image_paths_name[:10]"
   ]
  },
  {
   "cell_type": "code",
   "execution_count": 42,
   "metadata": {},
   "outputs": [],
   "source": [
    "for image_name in image_paths:\n",
    "    if \"b322004c-d78e-47e9-a2c1-1d5d116b1601.jpeg\" in image_name.name:\n",
    "        print(f\"[INFO] {image_name} in GCP bucket\")\n",
    "        # print(f\"[INFO] {image_name} not in GCP bucket\")"
   ]
  },
  {
   "cell_type": "code",
   "execution_count": 43,
   "metadata": {},
   "outputs": [
    {
     "data": {
      "application/vnd.jupyter.widget-view+json": {
       "model_id": "97c2c686cfc943d4a50684e00398dbf9",
       "version_major": 2,
       "version_minor": 0
      },
      "text/plain": [
       "  0%|          | 0/434 [00:00<?, ?it/s]"
      ]
     },
     "metadata": {},
     "output_type": "display_data"
    },
    {
     "name": "stdout",
     "output_type": "stream",
     "text": [
      "[INFO] Uploaded 0 images to GCP bucket\n"
     ]
    }
   ],
   "source": [
    "# Loop through image_paths and upload the image as long as its name isn't in gs_image_paths_name\n",
    "from tqdm.auto import tqdm\n",
    "\n",
    "num_images_uploaded = 0\n",
    "for image_path in tqdm(image_paths):\n",
    "    if image_path.name not in gs_image_paths_name:\n",
    "        \n",
    "        # Upload the image to Google Storage\n",
    "        upload_to_gs(bucket_name=GS_BUCKET_NAME,\n",
    "                     source_file_name=image_path,\n",
    "                     destination_blob_name=f\"all_images/{image_path.name}\")\n",
    "        \n",
    "        num_images_uploaded += 1\n",
    "\n",
    "print(f\"[INFO] Uploaded {num_images_uploaded} images to GCP bucket\")"
   ]
  },
  {
   "cell_type": "code",
   "execution_count": 44,
   "metadata": {},
   "outputs": [],
   "source": [
    "# Track the changes to GCP bucket with Weights & Biases\n",
    "from utils.wandb_utils import wandb_add_artifact_with_reference"
   ]
  },
  {
   "cell_type": "code",
   "execution_count": 45,
   "metadata": {},
   "outputs": [
    {
     "name": "stdout",
     "output_type": "stream",
     "text": [
      "[INFO] Logging 'food_vision_199_classes_images' from 'gs://food_vision_bucket_with_object_versioning/all_images' to Weights & Biases...\n"
     ]
    },
    {
     "name": "stderr",
     "output_type": "stream",
     "text": [
      "\u001b[34m\u001b[1mwandb\u001b[0m: Generating checksum for up to 1000000000 objects with prefix \"all_images\"... Done. 24.1s\n"
     ]
    }
   ],
   "source": [
    "# Track updated images_dir in Weights & Biases\n",
    "food_images_path_on_gs = \"gs://food_vision_bucket_with_object_versioning/all_images\"\n",
    "\n",
    "wandb_add_artifact_with_reference(wandb_run=run,\n",
    "                                  artifact_name=\"food_vision_199_classes_images\",\n",
    "                                  artifact_type=\"dataset\",\n",
    "                                  description=\"Images for FoodVision project\",\n",
    "                                  reference_path=food_images_path_on_gs)"
   ]
  },
  {
   "cell_type": "code",
   "execution_count": 46,
   "metadata": {},
   "outputs": [
    {
     "name": "stdout",
     "output_type": "stream",
     "text": [
      "[INFO] There are 118008 images in the GCP bucket\n"
     ]
    }
   ],
   "source": [
    "# Get list of images already in GCP bucket\n",
    "gs_image_paths = get_list_of_blobs(bucket_name=GS_BUCKET_NAME, prefix=\"all_images\")\n",
    "print(f\"[INFO] There are {len(gs_image_paths)} images in the GCP bucket\")"
   ]
  },
  {
   "cell_type": "code",
   "execution_count": 62,
   "metadata": {},
   "outputs": [
    {
     "data": {
      "text/plain": [
       "'all_images/000226a7-5332-4f45-b0e9-6760e9bd6d3e.jpeg'"
      ]
     },
     "execution_count": 62,
     "metadata": {},
     "output_type": "execute_result"
    }
   ],
   "source": [
    "gs_image_paths[0].name"
   ]
  },
  {
   "cell_type": "code",
   "execution_count": null,
   "metadata": {},
   "outputs": [],
   "source": [
    "# Next:\n",
    "# Create labels CSV for all photos in food_photos ✅\n",
    "# Add labels CSV to original annotations ✅\n",
    "# Upload all photos in food_photos to GCP ✅\n",
    "# Track updates in W&B ✅\n",
    "\n",
    "# Train a model and track how it performs (by only upgrading training data)"
   ]
  }
 ],
 "metadata": {
  "kernelspec": {
   "display_name": "Python 3",
   "language": "python",
   "name": "python3"
  },
  "language_info": {
   "codemirror_mode": {
    "name": "ipython",
    "version": 3
   },
   "file_extension": ".py",
   "mimetype": "text/x-python",
   "name": "python",
   "nbconvert_exporter": "python",
   "pygments_lexer": "ipython3",
   "version": "3.8.13"
  },
  "orig_nbformat": 4,
  "vscode": {
   "interpreter": {
    "hash": "3fbe1355223f7b2ffc113ba3ade6a2b520cadace5d5ec3e828c83ce02eb221bf"
   }
  }
 },
 "nbformat": 4,
 "nbformat_minor": 2
}
