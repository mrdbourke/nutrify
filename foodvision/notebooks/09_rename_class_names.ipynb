{
 "cells": [
  {
   "attachments": {},
   "cell_type": "markdown",
   "metadata": {},
   "source": [
    "# Rename classes in true labels\n",
    "\n",
    "Some classes in the true labels are confusing.\n",
    "\n",
    "For example, \"potatoes\" could be \"potato_white\", \"potato_brown\", \"potato_red\" etc...\n",
    "\n",
    "Same with \"onion\" could be \"onion_brown\", \"onion_white\", \"onion_red\" etc...\n",
    "\n",
    "This notebook will serve as a place to rename labels.\n",
    "\n",
    "To start, I'll try \"onion\" -> \"onion_brown\"."
   ]
  },
  {
   "attachments": {},
   "cell_type": "markdown",
   "metadata": {},
   "source": [
    "## Download original labels from GCP/Weights & Biases"
   ]
  },
  {
   "cell_type": "code",
   "execution_count": 16,
   "metadata": {},
   "outputs": [
    {
     "name": "stdout",
     "output_type": "stream",
     "text": [
      "[INFO] GCP credentials set!\n",
      "[INFO] GCP connection successful! Access to GCP for saving/loading data and models available.\n"
     ]
    },
    {
     "data": {
      "text/html": [
       "Finishing last run (ID:m9bzhlv6) before initializing another..."
      ],
      "text/plain": [
       "<IPython.core.display.HTML object>"
      ]
     },
     "metadata": {},
     "output_type": "display_data"
    },
    {
     "data": {
      "text/html": [
       "Waiting for W&B process to finish... <strong style=\"color:green\">(success).</strong>"
      ],
      "text/plain": [
       "<IPython.core.display.HTML object>"
      ]
     },
     "metadata": {},
     "output_type": "display_data"
    },
    {
     "data": {
      "application/vnd.jupyter.widget-view+json": {
       "model_id": "75c97f7edbfc40458f2fe945784ac4f8",
       "version_major": 2,
       "version_minor": 0
      },
      "text/plain": [
       "VBox(children=(Label(value='0.001 MB of 0.001 MB uploaded (0.000 MB deduped)\\r'), FloatProgress(value=1.0, max…"
      ]
     },
     "metadata": {},
     "output_type": "display_data"
    },
    {
     "data": {
      "text/html": [
       "Synced <strong style=\"color:#cdcd00\">sparkling-wind-339</strong>: <a href=\"https://wandb.ai/mrdbourke/test_wandb_artifacts_by_reference/runs/m9bzhlv6\" target=\"_blank\">https://wandb.ai/mrdbourke/test_wandb_artifacts_by_reference/runs/m9bzhlv6</a><br/>Synced 6 W&B file(s), 0 media file(s), 0 artifact file(s) and 0 other file(s)"
      ],
      "text/plain": [
       "<IPython.core.display.HTML object>"
      ]
     },
     "metadata": {},
     "output_type": "display_data"
    },
    {
     "data": {
      "text/html": [
       "Find logs at: <code>./wandb/run-20230208_142345-m9bzhlv6/logs</code>"
      ],
      "text/plain": [
       "<IPython.core.display.HTML object>"
      ]
     },
     "metadata": {},
     "output_type": "display_data"
    },
    {
     "data": {
      "text/html": [
       "Successfully finished last run (ID:m9bzhlv6). Initializing new run:<br/>"
      ],
      "text/plain": [
       "<IPython.core.display.HTML object>"
      ]
     },
     "metadata": {},
     "output_type": "display_data"
    },
    {
     "data": {
      "text/html": [
       "wandb version 0.13.10 is available!  To upgrade, please run:\n",
       " $ pip install wandb --upgrade"
      ],
      "text/plain": [
       "<IPython.core.display.HTML object>"
      ]
     },
     "metadata": {},
     "output_type": "display_data"
    },
    {
     "data": {
      "text/html": [
       "Tracking run with wandb version 0.12.21"
      ],
      "text/plain": [
       "<IPython.core.display.HTML object>"
      ]
     },
     "metadata": {},
     "output_type": "display_data"
    },
    {
     "data": {
      "text/html": [
       "Run data is saved locally in <code>/home/daniel/code/nutrify/foodvision/notebooks/wandb/run-20230208_164708-27ti7g3y</code>"
      ],
      "text/plain": [
       "<IPython.core.display.HTML object>"
      ]
     },
     "metadata": {},
     "output_type": "display_data"
    },
    {
     "data": {
      "text/html": [
       "Syncing run <strong><a href=\"https://wandb.ai/mrdbourke/test_wandb_artifacts_by_reference/runs/27ti7g3y\" target=\"_blank\">devoted-hill-340</a></strong> to <a href=\"https://wandb.ai/mrdbourke/test_wandb_artifacts_by_reference\" target=\"_blank\">Weights & Biases</a> (<a href=\"https://wandb.me/run\" target=\"_blank\">docs</a>)<br/>"
      ],
      "text/plain": [
       "<IPython.core.display.HTML object>"
      ]
     },
     "metadata": {},
     "output_type": "display_data"
    },
    {
     "name": "stdout",
     "output_type": "stream",
     "text": [
      "[INFO] Labels directory: ./artifacts/food_vision_labels:v17\n",
      "[INFO] Labels path: artifacts/food_vision_labels:v17/annotations.csv\n",
      "[INFO] Working with: 199 classes\n"
     ]
    }
   ],
   "source": [
    "# Append the upper level directory to sys\n",
    "import sys\n",
    "sys.path.append(\"..\")\n",
    "\n",
    "import pandas as pd\n",
    "import numpy as np\n",
    "\n",
    "from pathlib import Path\n",
    "\n",
    "# Get config\n",
    "from configs.default_config import config\n",
    "\n",
    "args = config\n",
    "\n",
    "# Connect to GCP\n",
    "from utils.gcp_utils import set_gcp_credentials, test_gcp_connection\n",
    "set_gcp_credentials(path_to_key=\"../utils/google-storage-key.json\")\n",
    "test_gcp_connection()\n",
    "\n",
    "import wandb\n",
    "\n",
    "# Initialize a new run\n",
    "from utils.wandb_utils import wandb_load_artifact, wandb_download_and_load_labels\n",
    "\n",
    "notes = \"Changing class names to be more reflective of their food type.\"\n",
    "\n",
    "run = wandb.init(project=args.wandb_project, \n",
    "                 job_type=args.wandb_job_type,\n",
    "                 tags=['manual_photo_upload'],\n",
    "                 notes=notes)\n",
    "\n",
    "annotations, class_names, class_dict, reverse_class_dict, labels_path = wandb_download_and_load_labels(wandb_run=run,\n",
    "wandb_labels_artifact_name=args.wandb_labels_artifact)\n"
   ]
  },
  {
   "cell_type": "code",
   "execution_count": 17,
   "metadata": {},
   "outputs": [
    {
     "data": {
      "text/html": [
       "<div>\n",
       "<style scoped>\n",
       "    .dataframe tbody tr th:only-of-type {\n",
       "        vertical-align: middle;\n",
       "    }\n",
       "\n",
       "    .dataframe tbody tr th {\n",
       "        vertical-align: top;\n",
       "    }\n",
       "\n",
       "    .dataframe thead th {\n",
       "        text-align: right;\n",
       "    }\n",
       "</style>\n",
       "<table border=\"1\" class=\"dataframe\">\n",
       "  <thead>\n",
       "    <tr style=\"text-align: right;\">\n",
       "      <th></th>\n",
       "      <th>filename</th>\n",
       "      <th>image_name</th>\n",
       "      <th>class_name</th>\n",
       "      <th>label</th>\n",
       "      <th>split</th>\n",
       "      <th>clear_or_confusing</th>\n",
       "      <th>whole_food_or_dish</th>\n",
       "      <th>one_food_or_multiple</th>\n",
       "      <th>label_last_updated_at</th>\n",
       "      <th>label_source</th>\n",
       "      <th>image_source</th>\n",
       "    </tr>\n",
       "  </thead>\n",
       "  <tbody>\n",
       "    <tr>\n",
       "      <th>0</th>\n",
       "      <td>test/pain_au_chocolat/4fd7cb42-bd7f-48f1-bfdc-...</td>\n",
       "      <td>4fd7cb42-bd7f-48f1-bfdc-607c2f54b788.jpg</td>\n",
       "      <td>pain_au_chocolat</td>\n",
       "      <td>121</td>\n",
       "      <td>test</td>\n",
       "      <td>NaN</td>\n",
       "      <td>NaN</td>\n",
       "      <td>NaN</td>\n",
       "      <td>NaN</td>\n",
       "      <td>NaN</td>\n",
       "      <td>internet_download</td>\n",
       "    </tr>\n",
       "    <tr>\n",
       "      <th>1</th>\n",
       "      <td>test/pain_au_chocolat/2062f52a-781c-4e4f-b8a7-...</td>\n",
       "      <td>2062f52a-781c-4e4f-b8a7-0a108934f453.jpg</td>\n",
       "      <td>pain_au_chocolat</td>\n",
       "      <td>121</td>\n",
       "      <td>test</td>\n",
       "      <td>NaN</td>\n",
       "      <td>NaN</td>\n",
       "      <td>NaN</td>\n",
       "      <td>NaN</td>\n",
       "      <td>NaN</td>\n",
       "      <td>internet_download</td>\n",
       "    </tr>\n",
       "    <tr>\n",
       "      <th>2</th>\n",
       "      <td>test/pain_au_chocolat/8003e0f6-37e8-460d-9c14-...</td>\n",
       "      <td>8003e0f6-37e8-460d-9c14-e7c6fe44a37f.jpg</td>\n",
       "      <td>pain_au_chocolat</td>\n",
       "      <td>121</td>\n",
       "      <td>test</td>\n",
       "      <td>NaN</td>\n",
       "      <td>NaN</td>\n",
       "      <td>NaN</td>\n",
       "      <td>NaN</td>\n",
       "      <td>NaN</td>\n",
       "      <td>internet_download</td>\n",
       "    </tr>\n",
       "    <tr>\n",
       "      <th>3</th>\n",
       "      <td>test/pain_au_chocolat/839437c8-c643-408f-9f04-...</td>\n",
       "      <td>839437c8-c643-408f-9f04-d0d3bec238c3.jpg</td>\n",
       "      <td>pain_au_chocolat</td>\n",
       "      <td>121</td>\n",
       "      <td>test</td>\n",
       "      <td>NaN</td>\n",
       "      <td>NaN</td>\n",
       "      <td>NaN</td>\n",
       "      <td>NaN</td>\n",
       "      <td>NaN</td>\n",
       "      <td>internet_download</td>\n",
       "    </tr>\n",
       "    <tr>\n",
       "      <th>4</th>\n",
       "      <td>test/pain_au_chocolat/ca5c13ff-a535-4b69-9144-...</td>\n",
       "      <td>ca5c13ff-a535-4b69-9144-e06275e01e35.jpg</td>\n",
       "      <td>pain_au_chocolat</td>\n",
       "      <td>121</td>\n",
       "      <td>test</td>\n",
       "      <td>NaN</td>\n",
       "      <td>NaN</td>\n",
       "      <td>NaN</td>\n",
       "      <td>NaN</td>\n",
       "      <td>NaN</td>\n",
       "      <td>internet_download</td>\n",
       "    </tr>\n",
       "  </tbody>\n",
       "</table>\n",
       "</div>"
      ],
      "text/plain": [
       "                                            filename  \\\n",
       "0  test/pain_au_chocolat/4fd7cb42-bd7f-48f1-bfdc-...   \n",
       "1  test/pain_au_chocolat/2062f52a-781c-4e4f-b8a7-...   \n",
       "2  test/pain_au_chocolat/8003e0f6-37e8-460d-9c14-...   \n",
       "3  test/pain_au_chocolat/839437c8-c643-408f-9f04-...   \n",
       "4  test/pain_au_chocolat/ca5c13ff-a535-4b69-9144-...   \n",
       "\n",
       "                                 image_name        class_name  label split  \\\n",
       "0  4fd7cb42-bd7f-48f1-bfdc-607c2f54b788.jpg  pain_au_chocolat    121  test   \n",
       "1  2062f52a-781c-4e4f-b8a7-0a108934f453.jpg  pain_au_chocolat    121  test   \n",
       "2  8003e0f6-37e8-460d-9c14-e7c6fe44a37f.jpg  pain_au_chocolat    121  test   \n",
       "3  839437c8-c643-408f-9f04-d0d3bec238c3.jpg  pain_au_chocolat    121  test   \n",
       "4  ca5c13ff-a535-4b69-9144-e06275e01e35.jpg  pain_au_chocolat    121  test   \n",
       "\n",
       "  clear_or_confusing whole_food_or_dish one_food_or_multiple  \\\n",
       "0                NaN                NaN                  NaN   \n",
       "1                NaN                NaN                  NaN   \n",
       "2                NaN                NaN                  NaN   \n",
       "3                NaN                NaN                  NaN   \n",
       "4                NaN                NaN                  NaN   \n",
       "\n",
       "  label_last_updated_at label_source       image_source  \n",
       "0                   NaN          NaN  internet_download  \n",
       "1                   NaN          NaN  internet_download  \n",
       "2                   NaN          NaN  internet_download  \n",
       "3                   NaN          NaN  internet_download  \n",
       "4                   NaN          NaN  internet_download  "
      ]
     },
     "execution_count": 17,
     "metadata": {},
     "output_type": "execute_result"
    }
   ],
   "source": [
    "# See the annotations\n",
    "annotations.head()"
   ]
  },
  {
   "cell_type": "code",
   "execution_count": 18,
   "metadata": {},
   "outputs": [
    {
     "data": {
      "text/plain": [
       "['almond_butter',\n",
       " 'almonds',\n",
       " 'apple',\n",
       " 'apricot',\n",
       " 'asparagus',\n",
       " 'avocado',\n",
       " 'bacon',\n",
       " 'bacon_and_egg_burger',\n",
       " 'bagel',\n",
       " 'baklava',\n",
       " 'banana',\n",
       " 'banana_bread',\n",
       " 'barbecue_sauce',\n",
       " 'beans',\n",
       " 'beef',\n",
       " 'beef_curry',\n",
       " 'beef_mince',\n",
       " 'beef_stir_fry',\n",
       " 'beer',\n",
       " 'beetroot',\n",
       " 'biltong',\n",
       " 'blackberries',\n",
       " 'blueberries',\n",
       " 'bok_choy',\n",
       " 'bread',\n",
       " 'broccoli',\n",
       " 'broccolini',\n",
       " 'brownie',\n",
       " 'brussel_sprouts',\n",
       " 'burrito',\n",
       " 'butter',\n",
       " 'cabbage',\n",
       " 'calamari',\n",
       " 'candy',\n",
       " 'capsicum',\n",
       " 'carrot',\n",
       " 'cashews',\n",
       " 'cauliflower',\n",
       " 'celery',\n",
       " 'cheese',\n",
       " 'cheeseburger',\n",
       " 'cherries',\n",
       " 'chicken_breast',\n",
       " 'chicken_thighs',\n",
       " 'chicken_wings',\n",
       " 'chilli',\n",
       " 'chimichurri',\n",
       " 'chocolate',\n",
       " 'chocolate_cake',\n",
       " 'coconut',\n",
       " 'coffee',\n",
       " 'coleslaw',\n",
       " 'cookies',\n",
       " 'coriander',\n",
       " 'corn',\n",
       " 'corn_chips',\n",
       " 'cream',\n",
       " 'croissant',\n",
       " 'crumbed_chicken',\n",
       " 'cucumber',\n",
       " 'cupcake',\n",
       " 'daikon_radish',\n",
       " 'dates',\n",
       " 'donuts',\n",
       " 'dragonfruit',\n",
       " 'eggplant',\n",
       " 'eggs',\n",
       " 'enoki_mushroom',\n",
       " 'fennel',\n",
       " 'figs',\n",
       " 'french_toast',\n",
       " 'fried_rice',\n",
       " 'fries',\n",
       " 'fruit_juice',\n",
       " 'garlic',\n",
       " 'garlic_bread',\n",
       " 'ginger',\n",
       " 'goji_berries',\n",
       " 'granola',\n",
       " 'grapefruit',\n",
       " 'grapes',\n",
       " 'green_beans',\n",
       " 'green_onion',\n",
       " 'guacamole',\n",
       " 'guava',\n",
       " 'gyoza',\n",
       " 'ham',\n",
       " 'honey',\n",
       " 'hot_chocolate',\n",
       " 'ice_coffee',\n",
       " 'ice_cream',\n",
       " 'iceberg_lettuce',\n",
       " 'jerusalem_artichoke',\n",
       " 'kale',\n",
       " 'karaage_chicken',\n",
       " 'kimchi',\n",
       " 'kiwi_fruit',\n",
       " 'lamb_chops',\n",
       " 'leek',\n",
       " 'lemon',\n",
       " 'lentils',\n",
       " 'lettuce',\n",
       " 'lime',\n",
       " 'mandarin',\n",
       " 'mango',\n",
       " 'maple_syrup',\n",
       " 'mashed_potato',\n",
       " 'mayonnaise',\n",
       " 'milk',\n",
       " 'miso_soup',\n",
       " 'mushrooms',\n",
       " 'nectarines',\n",
       " 'noodles',\n",
       " 'nuts',\n",
       " 'olive_oil',\n",
       " 'olives',\n",
       " 'omelette',\n",
       " 'onion',\n",
       " 'orange',\n",
       " 'orange_juice',\n",
       " 'oysters',\n",
       " 'pain_au_chocolat',\n",
       " 'pancakes',\n",
       " 'papaya',\n",
       " 'parsley',\n",
       " 'parsnips',\n",
       " 'passionfruit',\n",
       " 'pasta',\n",
       " 'pawpaw',\n",
       " 'peach',\n",
       " 'pear',\n",
       " 'peas',\n",
       " 'pickles',\n",
       " 'pineapple',\n",
       " 'pizza',\n",
       " 'plum',\n",
       " 'pomegranate',\n",
       " 'popcorn',\n",
       " 'pork_belly',\n",
       " 'pork_chop',\n",
       " 'pork_loins',\n",
       " 'porridge',\n",
       " 'potato_bake',\n",
       " 'potato_chips',\n",
       " 'potato_scallop',\n",
       " 'potatoes',\n",
       " 'prawns',\n",
       " 'pumpkin',\n",
       " 'radish',\n",
       " 'ramen',\n",
       " 'raspberries',\n",
       " 'red_onion',\n",
       " 'red_wine',\n",
       " 'rhubarb',\n",
       " 'rice',\n",
       " 'roast_beef',\n",
       " 'roast_pork',\n",
       " 'roast_potatoes',\n",
       " 'rockmelon',\n",
       " 'rosemary',\n",
       " 'salad',\n",
       " 'salami',\n",
       " 'salmon',\n",
       " 'salsa',\n",
       " 'salt',\n",
       " 'sandwich',\n",
       " 'sardines',\n",
       " 'sausage_roll',\n",
       " 'sausages',\n",
       " 'scrambled_eggs',\n",
       " 'seaweed',\n",
       " 'shallots',\n",
       " 'snow_peas',\n",
       " 'soda',\n",
       " 'soy_sauce',\n",
       " 'spaghetti_bolognese',\n",
       " 'spinach',\n",
       " 'sports_drink',\n",
       " 'squash',\n",
       " 'starfruit',\n",
       " 'steak',\n",
       " 'strawberries',\n",
       " 'sushi',\n",
       " 'sweet_potato',\n",
       " 'tacos',\n",
       " 'tamarillo',\n",
       " 'taro',\n",
       " 'tea',\n",
       " 'toast',\n",
       " 'tofu',\n",
       " 'tomato',\n",
       " 'tomato_chutney',\n",
       " 'tomato_sauce',\n",
       " 'turnip',\n",
       " 'watermelon',\n",
       " 'white_onion',\n",
       " 'white_wine',\n",
       " 'yoghurt',\n",
       " 'zucchini']"
      ]
     },
     "execution_count": 18,
     "metadata": {},
     "output_type": "execute_result"
    }
   ],
   "source": [
    "# See the class names\n",
    "class_names"
   ]
  },
  {
   "cell_type": "code",
   "execution_count": 19,
   "metadata": {},
   "outputs": [],
   "source": [
    "new_class_names = ['apple_green',\n",
    " 'apple_red',\n",
    " 'avocado',\n",
    " 'bacon',\n",
    " 'banana',\n",
    " 'banana_bread',\n",
    " 'beef_stir_fry',\n",
    " 'biltong',\n",
    " 'blueberries',\n",
    " 'bread',\n",
    " 'bread_naan',\n",
    " 'broccoli',\n",
    " 'broccolini',\n",
    " 'butter',\n",
    " 'capsicum',\n",
    " 'carrot',\n",
    " 'cheese',\n",
    " 'cheeseburger',\n",
    " 'cherries',\n",
    " 'chicken_thighs',\n",
    " 'coffee',\n",
    " 'coleslaw',\n",
    " 'corn',\n",
    " 'cucumber',\n",
    " 'curry_chicken',\n",
    " 'dates',\n",
    " 'eggs',\n",
    " 'fries',\n",
    " 'garlic',\n",
    " 'grapes',\n",
    " 'green_beans',\n",
    " 'honey',\n",
    " 'ice_coffee',\n",
    " 'kiwi_fruit',\n",
    " 'lemon',\n",
    " 'lime',\n",
    " 'lychee',\n",
    " 'mango',\n",
    " 'milk',\n",
    " 'mushrooms',\n",
    " 'nectarines',\n",
    " 'omelette',\n",
    " 'onion_brown',\n",
    " 'onion_red',\n",
    " 'onion_white',\n",
    " 'orange_juice',\n",
    " 'passionfruit',\n",
    " 'peach',\n",
    " 'plum',\n",
    " 'pomegranate',\n",
    " 'porridge',\n",
    " 'potato_bake',\n",
    " 'potato_brown',\n",
    " 'potato_white',\n",
    " 'pumpkin',\n",
    " 'rice',\n",
    " 'roast_pork',\n",
    " 'roast_potatoes',\n",
    " 'steak',\n",
    " 'tea',\n",
    " 'tomato',\n",
    " 'watermelon',\n",
    " 'yoghurt',\n",
    " 'zucchini']"
   ]
  },
  {
   "cell_type": "code",
   "execution_count": 20,
   "metadata": {},
   "outputs": [
    {
     "data": {
      "text/plain": [
       "{'apple_green',\n",
       " 'apple_red',\n",
       " 'bread_naan',\n",
       " 'curry_chicken',\n",
       " 'lychee',\n",
       " 'onion_brown',\n",
       " 'onion_red',\n",
       " 'onion_white',\n",
       " 'potato_brown',\n",
       " 'potato_white'}"
      ]
     },
     "execution_count": 20,
     "metadata": {},
     "output_type": "execute_result"
    }
   ],
   "source": [
    "# Find the classes that are missing\n",
    "missing_class_names = set(new_class_names) - set(class_names)\n",
    "missing_class_names"
   ]
  },
  {
   "cell_type": "code",
   "execution_count": 21,
   "metadata": {},
   "outputs": [
    {
     "data": {
      "text/plain": [
       "92"
      ]
     },
     "execution_count": 21,
     "metadata": {},
     "output_type": "execute_result"
    }
   ],
   "source": [
    "# Make a copy of the original annotations\n",
    "original_annotations = annotations.copy()\n",
    "\n",
    "# Find how many of the original_annotations have the class_name onion\n",
    "len(original_annotations[original_annotations['class_name'] == 'onion'])"
   ]
  },
  {
   "cell_type": "code",
   "execution_count": 22,
   "metadata": {},
   "outputs": [],
   "source": [
    "# Create updated_annotations\n",
    "updated_annotations = original_annotations.copy()\n",
    "\n",
    "# Rename all of the class_names \"onion\" in updated_annotations to be \"onion_brown\"\n",
    "updated_annotations.loc[updated_annotations['class_name'] == 'onion', 'class_name'] = 'onion_brown'"
   ]
  },
  {
   "cell_type": "code",
   "execution_count": 23,
   "metadata": {},
   "outputs": [
    {
     "data": {
      "text/plain": [
       "92"
      ]
     },
     "execution_count": 23,
     "metadata": {},
     "output_type": "execute_result"
    }
   ],
   "source": [
    "# How many class_names are now \"onion_brown\"?\n",
    "len(updated_annotations[updated_annotations['class_name'] == 'onion_brown'])"
   ]
  },
  {
   "cell_type": "code",
   "execution_count": 24,
   "metadata": {},
   "outputs": [
    {
     "data": {
      "text/html": [
       "<div>\n",
       "<style scoped>\n",
       "    .dataframe tbody tr th:only-of-type {\n",
       "        vertical-align: middle;\n",
       "    }\n",
       "\n",
       "    .dataframe tbody tr th {\n",
       "        vertical-align: top;\n",
       "    }\n",
       "\n",
       "    .dataframe thead th {\n",
       "        text-align: right;\n",
       "    }\n",
       "</style>\n",
       "<table border=\"1\" class=\"dataframe\">\n",
       "  <thead>\n",
       "    <tr style=\"text-align: right;\">\n",
       "      <th></th>\n",
       "      <th>filename</th>\n",
       "      <th>image_name</th>\n",
       "      <th>class_name</th>\n",
       "      <th>label</th>\n",
       "      <th>split</th>\n",
       "      <th>clear_or_confusing</th>\n",
       "      <th>whole_food_or_dish</th>\n",
       "      <th>one_food_or_multiple</th>\n",
       "      <th>label_last_updated_at</th>\n",
       "      <th>label_source</th>\n",
       "      <th>image_source</th>\n",
       "    </tr>\n",
       "  </thead>\n",
       "  <tbody>\n",
       "    <tr>\n",
       "      <th>765</th>\n",
       "      <td>test/onion/93a96f07-105e-4b52-90f9-bf2883c5ee6...</td>\n",
       "      <td>93a96f07-105e-4b52-90f9-bf2883c5ee6c.jpg</td>\n",
       "      <td>onion_brown</td>\n",
       "      <td>117</td>\n",
       "      <td>test</td>\n",
       "      <td>NaN</td>\n",
       "      <td>NaN</td>\n",
       "      <td>NaN</td>\n",
       "      <td>NaN</td>\n",
       "      <td>NaN</td>\n",
       "      <td>internet_download</td>\n",
       "    </tr>\n",
       "    <tr>\n",
       "      <th>766</th>\n",
       "      <td>test/onion/28fb5d6b-c857-4902-bcaf-7238bbf7b5c...</td>\n",
       "      <td>28fb5d6b-c857-4902-bcaf-7238bbf7b5c6.jpg</td>\n",
       "      <td>onion_brown</td>\n",
       "      <td>117</td>\n",
       "      <td>test</td>\n",
       "      <td>NaN</td>\n",
       "      <td>NaN</td>\n",
       "      <td>NaN</td>\n",
       "      <td>NaN</td>\n",
       "      <td>NaN</td>\n",
       "      <td>internet_download</td>\n",
       "    </tr>\n",
       "    <tr>\n",
       "      <th>767</th>\n",
       "      <td>test/onion/b7419411-1a24-4bf4-b425-5dd6f8e1072...</td>\n",
       "      <td>b7419411-1a24-4bf4-b425-5dd6f8e1072b.jpg</td>\n",
       "      <td>onion_brown</td>\n",
       "      <td>117</td>\n",
       "      <td>test</td>\n",
       "      <td>NaN</td>\n",
       "      <td>NaN</td>\n",
       "      <td>NaN</td>\n",
       "      <td>NaN</td>\n",
       "      <td>NaN</td>\n",
       "      <td>internet_download</td>\n",
       "    </tr>\n",
       "    <tr>\n",
       "      <th>768</th>\n",
       "      <td>test/onion/c442b809-26ad-4327-8e5b-dd4930f629f...</td>\n",
       "      <td>c442b809-26ad-4327-8e5b-dd4930f629f6.jpg</td>\n",
       "      <td>onion_brown</td>\n",
       "      <td>117</td>\n",
       "      <td>test</td>\n",
       "      <td>NaN</td>\n",
       "      <td>NaN</td>\n",
       "      <td>NaN</td>\n",
       "      <td>NaN</td>\n",
       "      <td>NaN</td>\n",
       "      <td>internet_download</td>\n",
       "    </tr>\n",
       "    <tr>\n",
       "      <th>769</th>\n",
       "      <td>test/onion/6bb5e323-dc73-482e-8242-cbd1eb8c899...</td>\n",
       "      <td>6bb5e323-dc73-482e-8242-cbd1eb8c899b.jpg</td>\n",
       "      <td>onion_brown</td>\n",
       "      <td>117</td>\n",
       "      <td>test</td>\n",
       "      <td>NaN</td>\n",
       "      <td>NaN</td>\n",
       "      <td>NaN</td>\n",
       "      <td>NaN</td>\n",
       "      <td>NaN</td>\n",
       "      <td>internet_download</td>\n",
       "    </tr>\n",
       "    <tr>\n",
       "      <th>...</th>\n",
       "      <td>...</td>\n",
       "      <td>...</td>\n",
       "      <td>...</td>\n",
       "      <td>...</td>\n",
       "      <td>...</td>\n",
       "      <td>...</td>\n",
       "      <td>...</td>\n",
       "      <td>...</td>\n",
       "      <td>...</td>\n",
       "      <td>...</td>\n",
       "      <td>...</td>\n",
       "    </tr>\n",
       "    <tr>\n",
       "      <th>16065</th>\n",
       "      <td>train/white_onion/bc1c7ae8-af83-4134-b3ab-fce7...</td>\n",
       "      <td>bc1c7ae8-af83-4134-b3ab-fce70b45f05d.jpg</td>\n",
       "      <td>onion_brown</td>\n",
       "      <td>117</td>\n",
       "      <td>train</td>\n",
       "      <td>NaN</td>\n",
       "      <td>NaN</td>\n",
       "      <td>NaN</td>\n",
       "      <td>2023-01-23 10:50:47.306734</td>\n",
       "      <td>auto_labelled_clip_and_blip_match</td>\n",
       "      <td>internet_download</td>\n",
       "    </tr>\n",
       "    <tr>\n",
       "      <th>16076</th>\n",
       "      <td>train/white_onion/e548cc63-dfe3-4ef6-9b5e-84ef...</td>\n",
       "      <td>e548cc63-dfe3-4ef6-9b5e-84efef74af2c.jpg</td>\n",
       "      <td>onion_brown</td>\n",
       "      <td>117</td>\n",
       "      <td>train</td>\n",
       "      <td>NaN</td>\n",
       "      <td>NaN</td>\n",
       "      <td>NaN</td>\n",
       "      <td>2023-01-30 14:19:13.441271</td>\n",
       "      <td>auto_labelled_clip_and_blip_match</td>\n",
       "      <td>internet_download</td>\n",
       "    </tr>\n",
       "    <tr>\n",
       "      <th>16118</th>\n",
       "      <td>train/white_onion/49957c99-1b8d-4ebf-911c-2335...</td>\n",
       "      <td>49957c99-1b8d-4ebf-911c-2335a51e2c70.jpg</td>\n",
       "      <td>onion_brown</td>\n",
       "      <td>117</td>\n",
       "      <td>train</td>\n",
       "      <td>clear</td>\n",
       "      <td>whole_food</td>\n",
       "      <td>one_food</td>\n",
       "      <td>2023-01-23 15:10:12.302054</td>\n",
       "      <td>manual_label_studio</td>\n",
       "      <td>internet_download</td>\n",
       "    </tr>\n",
       "    <tr>\n",
       "      <th>16127</th>\n",
       "      <td>train/white_onion/b80196eb-595f-4a7b-9cda-7f3c...</td>\n",
       "      <td>b80196eb-595f-4a7b-9cda-7f3cd31d7c27.jpg</td>\n",
       "      <td>onion_brown</td>\n",
       "      <td>117</td>\n",
       "      <td>train</td>\n",
       "      <td>NaN</td>\n",
       "      <td>NaN</td>\n",
       "      <td>NaN</td>\n",
       "      <td>2023-01-23 10:50:47.306734</td>\n",
       "      <td>auto_labelled_clip_and_blip_match</td>\n",
       "      <td>internet_download</td>\n",
       "    </tr>\n",
       "    <tr>\n",
       "      <th>20390</th>\n",
       "      <td>train/shallots/e9b0af78-51a4-4ad5-89d4-30de4cc...</td>\n",
       "      <td>e9b0af78-51a4-4ad5-89d4-30de4cc31ee2.jpg</td>\n",
       "      <td>onion_brown</td>\n",
       "      <td>117</td>\n",
       "      <td>train</td>\n",
       "      <td>NaN</td>\n",
       "      <td>NaN</td>\n",
       "      <td>NaN</td>\n",
       "      <td>2023-01-23 10:50:47.306734</td>\n",
       "      <td>auto_labelled_clip_and_blip_match</td>\n",
       "      <td>internet_download</td>\n",
       "    </tr>\n",
       "  </tbody>\n",
       "</table>\n",
       "<p>92 rows × 11 columns</p>\n",
       "</div>"
      ],
      "text/plain": [
       "                                                filename  \\\n",
       "765    test/onion/93a96f07-105e-4b52-90f9-bf2883c5ee6...   \n",
       "766    test/onion/28fb5d6b-c857-4902-bcaf-7238bbf7b5c...   \n",
       "767    test/onion/b7419411-1a24-4bf4-b425-5dd6f8e1072...   \n",
       "768    test/onion/c442b809-26ad-4327-8e5b-dd4930f629f...   \n",
       "769    test/onion/6bb5e323-dc73-482e-8242-cbd1eb8c899...   \n",
       "...                                                  ...   \n",
       "16065  train/white_onion/bc1c7ae8-af83-4134-b3ab-fce7...   \n",
       "16076  train/white_onion/e548cc63-dfe3-4ef6-9b5e-84ef...   \n",
       "16118  train/white_onion/49957c99-1b8d-4ebf-911c-2335...   \n",
       "16127  train/white_onion/b80196eb-595f-4a7b-9cda-7f3c...   \n",
       "20390  train/shallots/e9b0af78-51a4-4ad5-89d4-30de4cc...   \n",
       "\n",
       "                                     image_name   class_name  label  split  \\\n",
       "765    93a96f07-105e-4b52-90f9-bf2883c5ee6c.jpg  onion_brown    117   test   \n",
       "766    28fb5d6b-c857-4902-bcaf-7238bbf7b5c6.jpg  onion_brown    117   test   \n",
       "767    b7419411-1a24-4bf4-b425-5dd6f8e1072b.jpg  onion_brown    117   test   \n",
       "768    c442b809-26ad-4327-8e5b-dd4930f629f6.jpg  onion_brown    117   test   \n",
       "769    6bb5e323-dc73-482e-8242-cbd1eb8c899b.jpg  onion_brown    117   test   \n",
       "...                                         ...          ...    ...    ...   \n",
       "16065  bc1c7ae8-af83-4134-b3ab-fce70b45f05d.jpg  onion_brown    117  train   \n",
       "16076  e548cc63-dfe3-4ef6-9b5e-84efef74af2c.jpg  onion_brown    117  train   \n",
       "16118  49957c99-1b8d-4ebf-911c-2335a51e2c70.jpg  onion_brown    117  train   \n",
       "16127  b80196eb-595f-4a7b-9cda-7f3cd31d7c27.jpg  onion_brown    117  train   \n",
       "20390  e9b0af78-51a4-4ad5-89d4-30de4cc31ee2.jpg  onion_brown    117  train   \n",
       "\n",
       "      clear_or_confusing whole_food_or_dish one_food_or_multiple  \\\n",
       "765                  NaN                NaN                  NaN   \n",
       "766                  NaN                NaN                  NaN   \n",
       "767                  NaN                NaN                  NaN   \n",
       "768                  NaN                NaN                  NaN   \n",
       "769                  NaN                NaN                  NaN   \n",
       "...                  ...                ...                  ...   \n",
       "16065                NaN                NaN                  NaN   \n",
       "16076                NaN                NaN                  NaN   \n",
       "16118              clear         whole_food             one_food   \n",
       "16127                NaN                NaN                  NaN   \n",
       "20390                NaN                NaN                  NaN   \n",
       "\n",
       "            label_last_updated_at                       label_source  \\\n",
       "765                           NaN                                NaN   \n",
       "766                           NaN                                NaN   \n",
       "767                           NaN                                NaN   \n",
       "768                           NaN                                NaN   \n",
       "769                           NaN                                NaN   \n",
       "...                           ...                                ...   \n",
       "16065  2023-01-23 10:50:47.306734  auto_labelled_clip_and_blip_match   \n",
       "16076  2023-01-30 14:19:13.441271  auto_labelled_clip_and_blip_match   \n",
       "16118  2023-01-23 15:10:12.302054                manual_label_studio   \n",
       "16127  2023-01-23 10:50:47.306734  auto_labelled_clip_and_blip_match   \n",
       "20390  2023-01-23 10:50:47.306734  auto_labelled_clip_and_blip_match   \n",
       "\n",
       "            image_source  \n",
       "765    internet_download  \n",
       "766    internet_download  \n",
       "767    internet_download  \n",
       "768    internet_download  \n",
       "769    internet_download  \n",
       "...                  ...  \n",
       "16065  internet_download  \n",
       "16076  internet_download  \n",
       "16118  internet_download  \n",
       "16127  internet_download  \n",
       "20390  internet_download  \n",
       "\n",
       "[92 rows x 11 columns]"
      ]
     },
     "execution_count": 24,
     "metadata": {},
     "output_type": "execute_result"
    }
   ],
   "source": [
    "# Show all the rows with the class_name \"onion_brown\"\n",
    "updated_annotations[updated_annotations['class_name'] == 'onion_brown']"
   ]
  },
  {
   "cell_type": "code",
   "execution_count": 25,
   "metadata": {},
   "outputs": [],
   "source": [
    "# Next\n",
    "# See how many differences there are between updated_annotations and original_annotations\n",
    "# Upload the new annotations to GCP\n",
    "# Merge new images if their class_name is in the existing class_names (of the new labels)\n",
    "# Upload images to GCP\n",
    "# Track images and labels in W&B\n",
    "# Train a model and evaluate on new data\n",
    "# Make a way in data_loader.py to load data from specific sources, e.g. manual_download etc"
   ]
  },
  {
   "cell_type": "code",
   "execution_count": 28,
   "metadata": {},
   "outputs": [],
   "source": [
    "# TODO: move this into utils folder \n",
    "# from utils.misc import check_for_differences_between_df\n",
    "\n",
    "def check_for_differences_between_df(df1, df2, columns_to_exclude: list=None):\n",
    "    \"\"\"Checks for differences between two dataframes, returns the number of differences\"\"\"\n",
    "    # Find the intersection of the columns\n",
    "    intersecting_columns = list(df1.columns.intersection(df2.columns))\n",
    "\n",
    "    # Remove columns_to_exclude from intersecting_columns\n",
    "    if columns_to_exclude is not None:\n",
    "        intersecting_columns = [column for column in intersecting_columns if column not in columns_to_exclude]\n",
    "    \n",
    "    # Compare the values in the intersecting columns\n",
    "    # See here: https://pandas.pydata.org/docs/reference/api/pandas.DataFrame.compare.html \n",
    "    differences = df1[intersecting_columns].compare(df2[intersecting_columns])\n",
    "\n",
    "    # Return the number of differences\n",
    "    return len(differences)"
   ]
  },
  {
   "cell_type": "code",
   "execution_count": 30,
   "metadata": {},
   "outputs": [
    {
     "data": {
      "text/plain": [
       "92"
      ]
     },
     "execution_count": 30,
     "metadata": {},
     "output_type": "execute_result"
    }
   ],
   "source": [
    "num_differences = check_for_differences_between_df(updated_annotations, original_annotations)\n",
    "num_differences"
   ]
  },
  {
   "cell_type": "code",
   "execution_count": 32,
   "metadata": {},
   "outputs": [
    {
     "data": {
      "text/plain": [
       "['filename',\n",
       " 'image_name',\n",
       " 'class_name',\n",
       " 'label',\n",
       " 'split',\n",
       " 'clear_or_confusing',\n",
       " 'whole_food_or_dish',\n",
       " 'one_food_or_multiple',\n",
       " 'label_last_updated_at',\n",
       " 'label_source',\n",
       " 'image_source']"
      ]
     },
     "execution_count": 32,
     "metadata": {},
     "output_type": "execute_result"
    }
   ],
   "source": [
    "config.annotations_columns_to_export"
   ]
  },
  {
   "cell_type": "code",
   "execution_count": 33,
   "metadata": {},
   "outputs": [
    {
     "name": "stdout",
     "output_type": "stream",
     "text": [
      "[INFO] Exporting the following columns to updated_annotations.csv: ['filename', 'image_name', 'class_name', 'label', 'split', 'clear_or_confusing', 'whole_food_or_dish', 'one_food_or_multiple', 'label_last_updated_at', 'label_source', 'image_source']\n",
      "[INFO] 92 changes to annotations.csv, updated label files and original annotations are different, saving the updated annotations.csv\n",
      "[INFO] Uploading updated_annotations.csv to updated_annotations.csv...\n",
      "[INFO] Connected to Google Storage bucket: food_vision_bucket_with_object_versioning\n",
      "[INFO] File updated_annotations.csv uploaded to food_vision_bucket_with_object_versioning/updated_annotations.csv.\n",
      "[INFO] File size: 3517442 bytes\n",
      "[INFO] Blob annotations.csv has been renamed to old_annotations/2023-02-08_16-50-57_old_annotations.csv\n",
      "[INFO] Blob updated_annotations.csv has been renamed to annotations.csv\n",
      "[INFO] Logging 'food_vision_labels' from 'gs://food_vision_bucket_with_object_versioning/annotations.csv' to Weights & Biases...\n"
     ]
    }
   ],
   "source": [
    "# Upload the updated annotations to Google Storage and track the changes\n",
    "import os\n",
    "from utils.gcp_utils import upload_to_gs, rename_blob, delete_blob\n",
    "from utils.wandb_utils import wandb_add_artifact_with_reference\n",
    "from utils.misc import get_now_time\n",
    "\n",
    "UPDATED_ANNOTATIONS_TARGET_FILENAME = \"updated_annotations.csv\"\n",
    "ORIGINAL_ANNOTATIONS_TARGET_FILENAME = \"annotations.csv\"\n",
    "GS_BUCKET_NAME = config.gs_bucket_name\n",
    "\n",
    "# Export the updated annotations to a CSV\n",
    "columns_to_export = config.annotations_columns_to_export\n",
    "print(f\"[INFO] Exporting the following columns to {UPDATED_ANNOTATIONS_TARGET_FILENAME}: {columns_to_export}\")\n",
    "\n",
    "# TODO: Check if the updated_annotations_reset_index and the original_annotations actually differ, if so save them and upload them, else exit\n",
    "if num_differences > 0:\n",
    "    print(f\"[INFO] {num_differences} changes to annotations.csv, updated label files and original annotations are different, saving the updated annotations.csv\")\n",
    "\n",
    "    # Export the updated_annotations_reset_index to a csv\n",
    "    updated_annotations[columns_to_export].to_csv(UPDATED_ANNOTATIONS_TARGET_FILENAME, index=False)\n",
    "\n",
    "    # Upload the updated CSV to Google Storage\n",
    "    upload_to_gs(bucket_name=GS_BUCKET_NAME, \n",
    "                 source_file_name=UPDATED_ANNOTATIONS_TARGET_FILENAME, \n",
    "                 destination_blob_name=UPDATED_ANNOTATIONS_TARGET_FILENAME)\n",
    "\n",
    "    # Rename the old CSV on Google Storage\n",
    "    bucket_to_move_old_annotations_to = \"old_annotations\"\n",
    "    name_to_rename_old_annotations = os.path.join(bucket_to_move_old_annotations_to, f\"{get_now_time()}_old_annotations.csv\")\n",
    "\n",
    "    rename_blob(bucket_name=GS_BUCKET_NAME,\n",
    "                blob_name=ORIGINAL_ANNOTATIONS_TARGET_FILENAME,\n",
    "                new_name=name_to_rename_old_annotations)\n",
    "\n",
    "    # Rename the \"updated_annotations.csv\" on Google Storage to \"annotations.csv\" \n",
    "    rename_blob(bucket_name=GS_BUCKET_NAME,\n",
    "                blob_name=UPDATED_ANNOTATIONS_TARGET_FILENAME,\n",
    "                new_name=ORIGINAL_ANNOTATIONS_TARGET_FILENAME)\n",
    "\n",
    "    # Track the changes in the annotations with Weights & Biases\n",
    "    annotations_path_on_gcs = f\"gs://{GS_BUCKET_NAME}/{ORIGINAL_ANNOTATIONS_TARGET_FILENAME}\"\n",
    "    wandb_add_artifact_with_reference(wandb_run=run,\n",
    "                                      artifact_name=\"food_vision_labels\",\n",
    "                                      artifact_type=\"labels\",\n",
    "                                      description=\"Labels for FoodVision project\",\n",
    "                                      reference_path=annotations_path_on_gcs)\n",
    "else:\n",
    "    print(\"[INFO] No changes to annotations.csv, updated label files and original annotations are the same, try fixing/updating the label files and try again\")"
   ]
  },
  {
   "cell_type": "code",
   "execution_count": null,
   "metadata": {},
   "outputs": [],
   "source": []
  }
 ],
 "metadata": {
  "kernelspec": {
   "display_name": "Python 3",
   "language": "python",
   "name": "python3"
  },
  "language_info": {
   "codemirror_mode": {
    "name": "ipython",
    "version": 3
   },
   "file_extension": ".py",
   "mimetype": "text/x-python",
   "name": "python",
   "nbconvert_exporter": "python",
   "pygments_lexer": "ipython3",
   "version": "3.8.13"
  },
  "orig_nbformat": 4,
  "vscode": {
   "interpreter": {
    "hash": "3fbe1355223f7b2ffc113ba3ade6a2b520cadace5d5ec3e828c83ce02eb221bf"
   }
  }
 },
 "nbformat": 4,
 "nbformat_minor": 2
}
