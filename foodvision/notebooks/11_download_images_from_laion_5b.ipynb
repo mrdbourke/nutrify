{
 "cells": [
  {
   "attachments": {},
   "cell_type": "markdown",
   "metadata": {},
   "source": [
    "# Downloading images from LAION-5B\n",
    "\n",
    "LAION-5B is a dataset with 5 billion image/text pairs.\n",
    "\n",
    "It has been indexed using CLIP and can be queried using text/images.\n",
    "\n",
    "Goal:\n",
    "* Download 100 images for each of the classes in FoodVision.\n",
    "* See how good these images are to use as a dataset for future models.\n",
    "* Increase the number of images downloaded if they are good quality.\n",
    "\n",
    "Resources:\n",
    "* See the code on GitHub: https://github.com/rom1504/clip-retrieval \n",
    "* See the blog post: https://laion.ai/blog/h14_clip_retrieval/ \n",
    "* See the demo: https://rom1504.github.io/clip-retrieval/?back=https%3A%2F%2Fknn.laion.ai&index=laion5B-H-14&useMclip=false&query=salt+shaker+photo \n",
    "* Example notebook: https://github.com/rom1504/clip-retrieval/blob/main/notebook/clip-client-query-api.ipynb "
   ]
  },
  {
   "attachments": {},
   "cell_type": "markdown",
   "metadata": {},
   "source": [
    "## Try downloading images for a single class"
   ]
  },
  {
   "cell_type": "code",
   "execution_count": 12,
   "metadata": {},
   "outputs": [],
   "source": [
    "from clip_retrieval.clip_client import ClipClient, Modality\n",
    "\n",
    "client = ClipClient(url=\"https://knn.laion.ai/knn-service\", \n",
    "                    indice_name=\"laion5B-H-14\", # H = Huge, L = Large (huge is bigger than large)\n",
    "                    num_images=100)"
   ]
  },
  {
   "cell_type": "code",
   "execution_count": 13,
   "metadata": {},
   "outputs": [
    {
     "data": {
      "text/plain": [
       "{'url': 'https://diabetesdietblogdotcom.files.wordpress.com/2016/03/salt_shaker_on_white_background.jpg?w=610',\n",
       " 'caption': 'Salt_shaker_on_white_background',\n",
       " 'id': 3637752355,\n",
       " 'similarity': 0.40506356954574585}"
      ]
     },
     "execution_count": 13,
     "metadata": {},
     "output_type": "execute_result"
    }
   ],
   "source": [
    "results = client.query(text=\"salt shaker photo\")\n",
    "results[0]"
   ]
  },
  {
   "cell_type": "code",
   "execution_count": 14,
   "metadata": {},
   "outputs": [],
   "source": [
    "# Save results to JSON file\n",
    "import json\n",
    "with open(\"clip_retrieval_results.json\", \"w\") as f:\n",
    "    json.dump(results, f)"
   ]
  },
  {
   "cell_type": "markdown",
   "metadata": {},
   "source": [
    "## Download images\n",
    "\n",
    "Going to download the resulting images with `img2dataset`, see the GitHub here: https://github.com/rom1504/img2dataset"
   ]
  },
  {
   "cell_type": "code",
   "execution_count": 16,
   "metadata": {},
   "outputs": [
    {
     "name": "stdout",
     "output_type": "stream",
     "text": [
      "Starting the downloading of this file\n",
      "Sharding file number 1 of 1 called /home/daniel/code/nutrify/foodvision/notebooks/clip_retrieval_results.json\n",
      "0it [00:00, ?it/s]File sharded in 1 shards\n",
      "Downloading starting now, check your bandwidth speed (with bwm-ng)your cpu (with htop), and your disk usage (with iotop)!\n",
      "1it [00:09,  9.72s/it]\n",
      "worker  - success: 0.881 - failed to download: 0.119 - failed to resize: 0.000 - images per sec: 5 - count: 42\n",
      "total   - success: 0.881 - failed to download: 0.119 - failed to resize: 0.000 - images per sec: 5 - count: 42\n"
     ]
    }
   ],
   "source": [
    "!img2dataset \"clip_retrieval_results.json\" --input_format=\"json\" --caption_col \"caption\" --output_folder=\"clip_retrieval_results\" --resize_mode=\"no\" --output_format=\"files\""
   ]
  },
  {
   "cell_type": "code",
   "execution_count": 15,
   "metadata": {},
   "outputs": [],
   "source": [
    "# !rm -rf clip_retrieval_results/*"
   ]
  },
  {
   "cell_type": "code",
   "execution_count": 5,
   "metadata": {},
   "outputs": [
    {
     "name": "stdout",
     "output_type": "stream",
     "text": [
      "4\n"
     ]
    }
   ],
   "source": [
    "# List how many images are in clip_retrieval_results folder\n",
    "!ls -l clip_retrieval_results | wc -l"
   ]
  },
  {
   "cell_type": "markdown",
   "metadata": {},
   "source": [
    "## Get class names from labels"
   ]
  },
  {
   "cell_type": "code",
   "execution_count": 17,
   "metadata": {},
   "outputs": [],
   "source": [
    "import sys\n",
    "sys.path.append(\"..\")\n",
    "\n",
    "import pandas as pd\n",
    "import numpy as np\n",
    "\n",
    "from pathlib import Path"
   ]
  },
  {
   "cell_type": "code",
   "execution_count": 18,
   "metadata": {},
   "outputs": [
    {
     "name": "stdout",
     "output_type": "stream",
     "text": [
      "namespace(annotations_columns_to_export=['filename', 'image_name', 'class_name', 'label', 'split', 'clear_or_confusing', 'whole_food_or_dish', 'one_food_or_multiple', 'label_last_updated_at', 'label_source', 'image_source'], auto_augment=True, batch_size=128, epochs=10, gs_bucket_name='food_vision_bucket_with_object_versioning', gs_image_storage_path='https://storage.cloud.google.com/food_vision_bucket_with_object_versioning/all_images/', input_size=224, label_smoothing=0.1, learning_rate=0.001, model='coatnext_nano_rw_224', num_to_try_and_autocorrect=1000, path_to_gcp_credentials='utils/google-storage-key.json', path_to_label_studio_api_key='utils/label_studio_api_key.json', pretrained=True, seed=42, use_mixed_precision=True, wandb_dataset_artifact='food_vision_199_classes_images:latest', wandb_job_type='', wandb_labels_artifact='food_vision_labels:latest', wandb_model_artifact='trained_model:latest', wandb_project='test_wandb_artifacts_by_reference', wandb_run_notes='', wandb_run_tags=[''], wandb_train_preds_artifact='train_predictions:latest', workers=16)\n",
      "[INFO] GCP credentials set!\n",
      "[INFO] GCP connection successful! Access to GCP for saving/loading data and models available.\n"
     ]
    },
    {
     "name": "stderr",
     "output_type": "stream",
     "text": [
      "Failed to detect the name of this notebook, you can set it manually with the WANDB_NOTEBOOK_NAME environment variable to enable code saving.\n",
      "\u001b[34m\u001b[1mwandb\u001b[0m: Currently logged in as: \u001b[33mmrdbourke\u001b[0m. Use \u001b[1m`wandb login --relogin`\u001b[0m to force relogin\n"
     ]
    },
    {
     "data": {
      "text/html": [
       "wandb version 0.13.9 is available!  To upgrade, please run:\n",
       " $ pip install wandb --upgrade"
      ],
      "text/plain": [
       "<IPython.core.display.HTML object>"
      ]
     },
     "metadata": {},
     "output_type": "display_data"
    },
    {
     "data": {
      "text/html": [
       "Tracking run with wandb version 0.12.21"
      ],
      "text/plain": [
       "<IPython.core.display.HTML object>"
      ]
     },
     "metadata": {},
     "output_type": "display_data"
    },
    {
     "data": {
      "text/html": [
       "Run data is saved locally in <code>/home/daniel/code/nutrify/foodvision/notebooks/wandb/run-20230207_151615-s94raccr</code>"
      ],
      "text/plain": [
       "<IPython.core.display.HTML object>"
      ]
     },
     "metadata": {},
     "output_type": "display_data"
    },
    {
     "data": {
      "text/html": [
       "Syncing run <strong><a href=\"https://wandb.ai/mrdbourke/test_wandb_artifacts_by_reference/runs/s94raccr\" target=\"_blank\">upbeat-snowflake-338</a></strong> to <a href=\"https://wandb.ai/mrdbourke/test_wandb_artifacts_by_reference\" target=\"_blank\">Weights & Biases</a> (<a href=\"https://wandb.me/run\" target=\"_blank\">docs</a>)<br/>"
      ],
      "text/plain": [
       "<IPython.core.display.HTML object>"
      ]
     },
     "metadata": {},
     "output_type": "display_data"
    },
    {
     "name": "stdout",
     "output_type": "stream",
     "text": [
      "[INFO] Labels directory: ./artifacts/food_vision_labels:v17\n",
      "[INFO] Labels path: artifacts/food_vision_labels:v17/annotations.csv\n",
      "[INFO] Working with: 199 classes\n"
     ]
    }
   ],
   "source": [
    "# Get config\n",
    "from configs.default_config import config\n",
    "\n",
    "args = config\n",
    "print(args)\n",
    "\n",
    "# Connect to GCP\n",
    "from utils.gcp_utils import set_gcp_credentials, test_gcp_connection\n",
    "set_gcp_credentials(path_to_key=\"../utils/google-storage-key.json\")\n",
    "test_gcp_connection()\n",
    "\n",
    "import wandb\n",
    "\n",
    "# Initialize a new run\n",
    "from utils.wandb_utils import wandb_load_artifact, wandb_download_and_load_labels\n",
    "\n",
    "run = wandb.init(project=args.wandb_project, \n",
    "                 job_type=args.wandb_job_type,\n",
    "                 tags=['internet_image_download'],\n",
    "                 notes=\"download ~100x images per class using clip-retrieval\")\n",
    "\n",
    "annotations, class_names, class_dict, reverse_class_dict, labels_path = wandb_download_and_load_labels(wandb_run=run,\n",
    "wandb_labels_artifact_name=args.wandb_labels_artifact)"
   ]
  },
  {
   "cell_type": "code",
   "execution_count": 20,
   "metadata": {},
   "outputs": [
    {
     "data": {
      "text/plain": [
       "['almond_butter',\n",
       " 'almonds',\n",
       " 'apple',\n",
       " 'apricot',\n",
       " 'asparagus',\n",
       " 'avocado',\n",
       " 'bacon',\n",
       " 'bacon_and_egg_burger',\n",
       " 'bagel',\n",
       " 'baklava']"
      ]
     },
     "execution_count": 20,
     "metadata": {},
     "output_type": "execute_result"
    }
   ],
   "source": [
    "class_names[:10]"
   ]
  },
  {
   "attachments": {},
   "cell_type": "markdown",
   "metadata": {},
   "source": [
    "### Loop through class names and download ~100 images per class"
   ]
  },
  {
   "cell_type": "code",
   "execution_count": 21,
   "metadata": {},
   "outputs": [],
   "source": [
    "from clip_retrieval.clip_client import ClipClient, Modality\n",
    "\n",
    "client = ClipClient(url=\"https://knn.laion.ai/knn-service\", \n",
    "                    indice_name=\"laion5B-H-14\", # H = Huge, L = Large (huge is bigger than large)\n",
    "                    num_images=100)"
   ]
  },
  {
   "cell_type": "code",
   "execution_count": 28,
   "metadata": {},
   "outputs": [
    {
     "data": {
      "application/vnd.jupyter.widget-view+json": {
       "model_id": "722664c22b634bd08fd347ea43d43592",
       "version_major": 2,
       "version_minor": 0
      },
      "text/plain": [
       "  0%|          | 0/199 [00:00<?, ?it/s]"
      ]
     },
     "metadata": {},
     "output_type": "display_data"
    },
    {
     "data": {
      "text/plain": [
       "13343"
      ]
     },
     "execution_count": 28,
     "metadata": {},
     "output_type": "execute_result"
    }
   ],
   "source": [
    "from tqdm.auto import tqdm\n",
    "\n",
    "combined_results = []\n",
    "for class_name in tqdm(class_names):\n",
    "    results = client.query(text=f\"{class_name} (food) photo\")\n",
    "    for result in results:\n",
    "    # print(results)\n",
    "        result[\"class_name\"] = class_name\n",
    "        result[\"label\"] = reverse_class_dict[class_name]\n",
    "    combined_results.extend(results)\n",
    "\n",
    "len(combined_results)"
   ]
  },
  {
   "cell_type": "code",
   "execution_count": 34,
   "metadata": {},
   "outputs": [
    {
     "data": {
      "text/plain": [
       "{'url': 'https://ais.kochbar.de/kbrezept/503738_843721/400x266/fleisch-kaese-strudel-rezept.jpg',\n",
       " 'caption': 'Rezept: Fleisch Käse Strudel',\n",
       " 'id': 2796819674,\n",
       " 'similarity': 0.37485966086387634,\n",
       " 'class_name': 'sausage_roll',\n",
       " 'label': 167}"
      ]
     },
     "execution_count": 34,
     "metadata": {},
     "output_type": "execute_result"
    }
   ],
   "source": [
    "# Select a random result\n",
    "import random\n",
    "random.choice(combined_results)\n",
    "# combined_results[0]"
   ]
  },
  {
   "cell_type": "code",
   "execution_count": 37,
   "metadata": {},
   "outputs": [
    {
     "data": {
      "text/plain": [
       "{'url': 'https://thumbnail.image.rakuten.co.jp/@0_mall/rtor/cabinet/00770170/imgrc0070055155.jpg?_ex=300x300',\n",
       " 'caption': 'カークランド【クリーミーアーモンドバター 765g入り】アーモンド100%/大容量/たっぷり/KS',\n",
       " 'id': 4226929696,\n",
       " 'similarity': 0.3932535946369171,\n",
       " 'class_name': 'almond_butter',\n",
       " 'label': 0}"
      ]
     },
     "execution_count": 37,
     "metadata": {},
     "output_type": "execute_result"
    }
   ],
   "source": [
    "combined_results[0]"
   ]
  },
  {
   "cell_type": "code",
   "execution_count": 35,
   "metadata": {},
   "outputs": [],
   "source": [
    "# Save results to JSON\n",
    "import json\n",
    "\n",
    "# Get current timestamp\n",
    "from utils.misc import get_now_time\n",
    "now = get_now_time()\n",
    "\n",
    "save_path = f\"{now}_clip_retrieval_100_images_per_class.json\"\n",
    "\n",
    "with open(save_path, \"w\") as f:\n",
    "    json.dump(combined_results, f)"
   ]
  },
  {
   "cell_type": "code",
   "execution_count": 36,
   "metadata": {},
   "outputs": [
    {
     "name": "stdout",
     "output_type": "stream",
     "text": [
      "Starting the downloading of this file\n",
      "Sharding file number 1 of 1 called /home/daniel/code/nutrify/foodvision/notebooks/2023-02-07_15-43-32_clip_retrieval_100_images_per_class.json\n",
      "0it [00:00, ?it/s]File sharded in 2 shards\n",
      "Downloading starting now, check your bandwidth speed (with bwm-ng)your cpu (with htop), and your disk usage (with iotop)!\n",
      "1it [01:31, 91.30s/it]worker  - success: 0.908 - failed to download: 0.084 - failed to resize: 0.008 - images per sec: 112 - count: 10000\n",
      "total   - success: 0.908 - failed to download: 0.084 - failed to resize: 0.008 - images per sec: 112 - count: 10000\n",
      "2it [02:11, 65.79s/it]\n",
      "worker  - success: 0.903 - failed to download: 0.083 - failed to resize: 0.014 - images per sec: 83 - count: 3343\n",
      "total   - success: 0.907 - failed to download: 0.084 - failed to resize: 0.010 - images per sec: 103 - count: 13343\n"
     ]
    }
   ],
   "source": [
    "# Download results to local machine\n",
    "# Path 2023-02-07_15-43-32_clip_retrieval_100_images_per_class.json\n",
    "!img2dataset \"2023-02-07_15-43-32_clip_retrieval_100_images_per_class.json\" --input_format=\"json\" --caption_col \"caption\" --output_folder=\"2023_02_07_clip_retrieval_100_images_per_class\" --resize_mode=\"no\" --output_format=\"files\""
   ]
  },
  {
   "cell_type": "markdown",
   "metadata": {},
   "source": []
  },
  {
   "cell_type": "code",
   "execution_count": null,
   "metadata": {},
   "outputs": [],
   "source": [
    "# Next:\n",
    "# Go through downloaded images and label them with their appropriate class (they can be matched via their URL)\n",
    "# Add a UUID to each image \n",
    "# Create labels for images in same style as FoodVision labels\n",
    "# Make an image source tag for where the images came from\n",
    "# Upload to GCP as all training images (can swap 20% to test set later)\n",
    "# Track updated labels and images in Weights & Biases\n",
    "# Train a model with and without new images (on unmodified test set)"
   ]
  },
  {
   "cell_type": "code",
   "execution_count": 38,
   "metadata": {},
   "outputs": [
    {
     "name": "stdout",
     "output_type": "stream",
     "text": [
      "-rw-rw-r-- 1 daniel daniel 3.7M Feb  7 15:43 /home/daniel/code/nutrify/foodvision/notebooks/2023-02-07_15-43-32_clip_retrieval_100_images_per_class.json\n"
     ]
    }
   ],
   "source": [
    "# Check the file size of 2023_02_07_clip_retrieval_100_images_per_class.json in MB\n",
    "!ls -lh /home/daniel/code/nutrify/foodvision/notebooks/2023-02-07_15-43-32_clip_retrieval_100_images_per_class.json"
   ]
  },
  {
   "cell_type": "code",
   "execution_count": null,
   "metadata": {},
   "outputs": [],
   "source": []
  }
 ],
 "metadata": {
  "kernelspec": {
   "display_name": "Python 3",
   "language": "python",
   "name": "python3"
  },
  "language_info": {
   "codemirror_mode": {
    "name": "ipython",
    "version": 3
   },
   "file_extension": ".py",
   "mimetype": "text/x-python",
   "name": "python",
   "nbconvert_exporter": "python",
   "pygments_lexer": "ipython3",
   "version": "3.8.13"
  },
  "orig_nbformat": 4,
  "vscode": {
   "interpreter": {
    "hash": "3fbe1355223f7b2ffc113ba3ade6a2b520cadace5d5ec3e828c83ce02eb221bf"
   }
  }
 },
 "nbformat": 4,
 "nbformat_minor": 2
}
