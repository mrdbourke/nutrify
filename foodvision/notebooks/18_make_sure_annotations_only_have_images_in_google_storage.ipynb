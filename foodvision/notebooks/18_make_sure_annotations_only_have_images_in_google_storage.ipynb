{
 "cells": [
  {
   "cell_type": "markdown",
   "metadata": {},
   "source": [
    "# Verify annotations images are in Google Storage\n",
    "\n",
    "Want all annotations to be tied to an image.\n",
    "\n",
    "If an annotation does not link to an image, delete it."
   ]
  },
  {
   "cell_type": "code",
   "execution_count": 1,
   "metadata": {},
   "outputs": [
    {
     "name": "stdout",
     "output_type": "stream",
     "text": [
      "namespace(annotations_columns_to_export=['filename', 'image_name', 'class_name', 'label', 'split', 'clear_or_confusing', 'whole_food_or_dish', 'one_food_or_multiple', 'label_last_updated_at', 'label_source', 'image_source'], auto_augment=True, batch_size=128, epochs=10, gs_bucket_name='food_vision_bucket_with_object_versioning', gs_image_storage_path='https://storage.cloud.google.com/food_vision_bucket_with_object_versioning/all_images/', input_size=224, label_smoothing=0.1, learning_rate=0.001, model='coatnext_nano_rw_224', num_to_try_and_autocorrect=1000, num_top_n_preds=5, path_to_gcp_credentials='utils/google-storage-key.json', path_to_label_studio_api_key='utils/label_studio_api_key.json', pretrained=True, seed=42, use_mixed_precision=True, wandb_dataset_artifact='food_vision_199_classes_images:latest', wandb_job_type='', wandb_labels_artifact='food_vision_labels:latest', wandb_model_artifact='trained_model:latest', wandb_project='test_wandb_artifacts_by_reference', wandb_run_notes='', wandb_run_tags=[''], wandb_train_preds_artifact='train_predictions:latest', workers=16)\n",
      "[INFO] GCP credentials set!\n",
      "[INFO] GCP connection successful! Access to GCP for saving/loading data and models available.\n"
     ]
    },
    {
     "name": "stderr",
     "output_type": "stream",
     "text": [
      "Failed to detect the name of this notebook, you can set it manually with the WANDB_NOTEBOOK_NAME environment variable to enable code saving.\n",
      "\u001b[34m\u001b[1mwandb\u001b[0m: Currently logged in as: \u001b[33mmrdbourke\u001b[0m. Use \u001b[1m`wandb login --relogin`\u001b[0m to force relogin\n"
     ]
    },
    {
     "data": {
      "text/html": [
       "wandb version 0.14.0 is available!  To upgrade, please run:\n",
       " $ pip install wandb --upgrade"
      ],
      "text/plain": [
       "<IPython.core.display.HTML object>"
      ]
     },
     "metadata": {},
     "output_type": "display_data"
    },
    {
     "data": {
      "text/html": [
       "Tracking run with wandb version 0.12.21"
      ],
      "text/plain": [
       "<IPython.core.display.HTML object>"
      ]
     },
     "metadata": {},
     "output_type": "display_data"
    },
    {
     "data": {
      "text/html": [
       "Run data is saved locally in <code>/home/daniel/code/nutrify/foodvision/notebooks/wandb/run-20230315_115609-3uh3z6bv</code>"
      ],
      "text/plain": [
       "<IPython.core.display.HTML object>"
      ]
     },
     "metadata": {},
     "output_type": "display_data"
    },
    {
     "data": {
      "text/html": [
       "Syncing run <strong><a href=\"https://wandb.ai/mrdbourke/test_wandb_artifacts_by_reference/runs/3uh3z6bv\" target=\"_blank\">dry-fog-520</a></strong> to <a href=\"https://wandb.ai/mrdbourke/test_wandb_artifacts_by_reference\" target=\"_blank\">Weights & Biases</a> (<a href=\"https://wandb.me/run\" target=\"_blank\">docs</a>)<br/>"
      ],
      "text/plain": [
       "<IPython.core.display.HTML object>"
      ]
     },
     "metadata": {},
     "output_type": "display_data"
    },
    {
     "name": "stdout",
     "output_type": "stream",
     "text": [
      "[INFO] Labels directory: ./artifacts/food_vision_labels:v52\n",
      "[INFO] Labels path: artifacts/food_vision_labels:v52/annotations.csv\n",
      "[INFO] Working with: 294 classes\n"
     ]
    }
   ],
   "source": [
    "import sys\n",
    "sys.path.append(\"..\")\n",
    "\n",
    "import pandas as pd\n",
    "import numpy as np\n",
    "\n",
    "from pathlib import Path\n",
    "\n",
    "# Get config\n",
    "from configs.default_config import config\n",
    "\n",
    "args = config\n",
    "print(args)\n",
    "\n",
    "GS_BUCKET = config.gs_bucket_name\n",
    "\n",
    "# Connect to GCP\n",
    "from utils.gcp_utils import set_gcp_credentials, test_gcp_connection\n",
    "set_gcp_credentials(path_to_key=\"../utils/google-storage-key.json\")\n",
    "test_gcp_connection()\n",
    "\n",
    "import wandb\n",
    "\n",
    "# Initialize a new run\n",
    "from utils.wandb_utils import wandb_load_artifact, wandb_download_and_load_labels\n",
    "\n",
    "run = wandb.init(project=args.wandb_project, \n",
    "                 job_type=args.wandb_job_type,\n",
    "                 tags=['internet_image_download'],\n",
    "                 notes=\"download images using clip-retrieval\")\n",
    "\n",
    "annotations, class_names, class_dict, reverse_class_dict, labels_path = wandb_download_and_load_labels(wandb_run=run,\n",
    "wandb_labels_artifact_name=args.wandb_labels_artifact)"
   ]
  },
  {
   "cell_type": "code",
   "execution_count": null,
   "metadata": {},
   "outputs": [],
   "source": [
    "from utils.gcp_utils import upload_to_gs, get_list_of_blobs\n",
    "\n",
    "# Get list of images already in GCP bucket\n",
    "gs_image_paths = get_list_of_blobs(bucket_name=GS_BUCKET, prefix=\"all_images\")\n",
    "print(f\"[INFO] There are {len(gs_image_paths)} images in the GCP bucket\")\n",
    "\n",
    "# Get the names of the images already in GCP bucket\n",
    "gs_image_names = [str(blob.name).split(\"/\")[1] for blob in gs_image_paths]\n",
    "gs_image_names[:10]"
   ]
  },
  {
   "cell_type": "code",
   "execution_count": 19,
   "metadata": {},
   "outputs": [
    {
     "data": {
      "text/plain": [
       "['000000000.jpg',\n",
       " '000000003.jpg',\n",
       " '000000005.jpg',\n",
       " '000000006.jpg',\n",
       " '000000008.jpg',\n",
       " '000000010.jpg',\n",
       " '000000015.jpg',\n",
       " '000000019.jpg',\n",
       " '000000025.jpg',\n",
       " '000000070.jpg']"
      ]
     },
     "execution_count": 19,
     "metadata": {},
     "output_type": "execute_result"
    }
   ],
   "source": [
    "# Get the names of the images already in GCP bucket\n",
    "gs_image_names = [str(blob.name).split(\"/\")[1] for blob in gs_image_paths]\n",
    "gs_image_names[:10]"
   ]
  },
  {
   "cell_type": "code",
   "execution_count": 20,
   "metadata": {},
   "outputs": [
    {
     "data": {
      "text/html": [
       "<div>\n",
       "<style scoped>\n",
       "    .dataframe tbody tr th:only-of-type {\n",
       "        vertical-align: middle;\n",
       "    }\n",
       "\n",
       "    .dataframe tbody tr th {\n",
       "        vertical-align: top;\n",
       "    }\n",
       "\n",
       "    .dataframe thead th {\n",
       "        text-align: right;\n",
       "    }\n",
       "</style>\n",
       "<table border=\"1\" class=\"dataframe\">\n",
       "  <thead>\n",
       "    <tr style=\"text-align: right;\">\n",
       "      <th></th>\n",
       "      <th>filename</th>\n",
       "      <th>image_name</th>\n",
       "      <th>class_name</th>\n",
       "      <th>label</th>\n",
       "      <th>split</th>\n",
       "      <th>clear_or_confusing</th>\n",
       "      <th>whole_food_or_dish</th>\n",
       "      <th>one_food_or_multiple</th>\n",
       "      <th>label_last_updated_at</th>\n",
       "      <th>label_source</th>\n",
       "      <th>image_source</th>\n",
       "    </tr>\n",
       "  </thead>\n",
       "  <tbody>\n",
       "    <tr>\n",
       "      <th>0</th>\n",
       "      <td>test/pain_au_chocolat/4fd7cb42-bd7f-48f1-bfdc-...</td>\n",
       "      <td>4fd7cb42-bd7f-48f1-bfdc-607c2f54b788.jpg</td>\n",
       "      <td>pain_au_chocolat</td>\n",
       "      <td>180</td>\n",
       "      <td>test</td>\n",
       "      <td>NaN</td>\n",
       "      <td>NaN</td>\n",
       "      <td>NaN</td>\n",
       "      <td>NaN</td>\n",
       "      <td>NaN</td>\n",
       "      <td>internet_download</td>\n",
       "    </tr>\n",
       "    <tr>\n",
       "      <th>1</th>\n",
       "      <td>test/pain_au_chocolat/2062f52a-781c-4e4f-b8a7-...</td>\n",
       "      <td>2062f52a-781c-4e4f-b8a7-0a108934f453.jpg</td>\n",
       "      <td>pain_au_chocolat</td>\n",
       "      <td>180</td>\n",
       "      <td>test</td>\n",
       "      <td>NaN</td>\n",
       "      <td>NaN</td>\n",
       "      <td>NaN</td>\n",
       "      <td>NaN</td>\n",
       "      <td>NaN</td>\n",
       "      <td>internet_download</td>\n",
       "    </tr>\n",
       "    <tr>\n",
       "      <th>2</th>\n",
       "      <td>test/pain_au_chocolat/8003e0f6-37e8-460d-9c14-...</td>\n",
       "      <td>8003e0f6-37e8-460d-9c14-e7c6fe44a37f.jpg</td>\n",
       "      <td>pain_au_chocolat</td>\n",
       "      <td>180</td>\n",
       "      <td>test</td>\n",
       "      <td>NaN</td>\n",
       "      <td>NaN</td>\n",
       "      <td>NaN</td>\n",
       "      <td>NaN</td>\n",
       "      <td>NaN</td>\n",
       "      <td>internet_download</td>\n",
       "    </tr>\n",
       "    <tr>\n",
       "      <th>3</th>\n",
       "      <td>test/pain_au_chocolat/839437c8-c643-408f-9f04-...</td>\n",
       "      <td>839437c8-c643-408f-9f04-d0d3bec238c3.jpg</td>\n",
       "      <td>pain_au_chocolat</td>\n",
       "      <td>180</td>\n",
       "      <td>test</td>\n",
       "      <td>NaN</td>\n",
       "      <td>NaN</td>\n",
       "      <td>NaN</td>\n",
       "      <td>NaN</td>\n",
       "      <td>NaN</td>\n",
       "      <td>internet_download</td>\n",
       "    </tr>\n",
       "    <tr>\n",
       "      <th>4</th>\n",
       "      <td>test/pain_au_chocolat/ca5c13ff-a535-4b69-9144-...</td>\n",
       "      <td>ca5c13ff-a535-4b69-9144-e06275e01e35.jpg</td>\n",
       "      <td>pain_au_chocolat</td>\n",
       "      <td>180</td>\n",
       "      <td>test</td>\n",
       "      <td>NaN</td>\n",
       "      <td>NaN</td>\n",
       "      <td>NaN</td>\n",
       "      <td>NaN</td>\n",
       "      <td>NaN</td>\n",
       "      <td>internet_download</td>\n",
       "    </tr>\n",
       "    <tr>\n",
       "      <th>...</th>\n",
       "      <td>...</td>\n",
       "      <td>...</td>\n",
       "      <td>...</td>\n",
       "      <td>...</td>\n",
       "      <td>...</td>\n",
       "      <td>...</td>\n",
       "      <td>...</td>\n",
       "      <td>...</td>\n",
       "      <td>...</td>\n",
       "      <td>...</td>\n",
       "      <td>...</td>\n",
       "    </tr>\n",
       "    <tr>\n",
       "      <th>148381</th>\n",
       "      <td>clip_retrieval_image_downloads/2023-03-15_10-3...</td>\n",
       "      <td>9fc7103b-d575-44d0-98d2-8124b84099b0.jpg</td>\n",
       "      <td>radicchio</td>\n",
       "      <td>227</td>\n",
       "      <td>train</td>\n",
       "      <td>NaN</td>\n",
       "      <td>NaN</td>\n",
       "      <td>NaN</td>\n",
       "      <td>2023-03-15_10-47-08</td>\n",
       "      <td>clip_retrieval_laion_5b_knn</td>\n",
       "      <td>clip_retrieval_laion_5b_knn</td>\n",
       "    </tr>\n",
       "    <tr>\n",
       "      <th>148382</th>\n",
       "      <td>clip_retrieval_image_downloads/2023-03-15_10-3...</td>\n",
       "      <td>1c040f3f-5709-473a-81a4-eb346adcd407.jpg</td>\n",
       "      <td>radicchio</td>\n",
       "      <td>227</td>\n",
       "      <td>train</td>\n",
       "      <td>NaN</td>\n",
       "      <td>NaN</td>\n",
       "      <td>NaN</td>\n",
       "      <td>2023-03-15_10-47-08</td>\n",
       "      <td>clip_retrieval_laion_5b_knn</td>\n",
       "      <td>clip_retrieval_laion_5b_knn</td>\n",
       "    </tr>\n",
       "    <tr>\n",
       "      <th>148383</th>\n",
       "      <td>clip_retrieval_image_downloads/2023-03-15_10-3...</td>\n",
       "      <td>6d1ce2f2-d52d-4dac-b840-64fbbe141e28.jpg</td>\n",
       "      <td>radicchio</td>\n",
       "      <td>227</td>\n",
       "      <td>train</td>\n",
       "      <td>NaN</td>\n",
       "      <td>NaN</td>\n",
       "      <td>NaN</td>\n",
       "      <td>2023-03-15_10-47-08</td>\n",
       "      <td>clip_retrieval_laion_5b_knn</td>\n",
       "      <td>clip_retrieval_laion_5b_knn</td>\n",
       "    </tr>\n",
       "    <tr>\n",
       "      <th>148384</th>\n",
       "      <td>clip_retrieval_image_downloads/2023-03-15_10-3...</td>\n",
       "      <td>ce65912f-8638-43f8-afde-c9f97bfd9c50.jpg</td>\n",
       "      <td>radicchio</td>\n",
       "      <td>227</td>\n",
       "      <td>train</td>\n",
       "      <td>NaN</td>\n",
       "      <td>NaN</td>\n",
       "      <td>NaN</td>\n",
       "      <td>2023-03-15_10-47-08</td>\n",
       "      <td>clip_retrieval_laion_5b_knn</td>\n",
       "      <td>clip_retrieval_laion_5b_knn</td>\n",
       "    </tr>\n",
       "    <tr>\n",
       "      <th>148385</th>\n",
       "      <td>clip_retrieval_image_downloads/2023-03-15_10-3...</td>\n",
       "      <td>7b971374-c431-4301-9a75-66c092804cdf.jpg</td>\n",
       "      <td>radicchio</td>\n",
       "      <td>227</td>\n",
       "      <td>train</td>\n",
       "      <td>NaN</td>\n",
       "      <td>NaN</td>\n",
       "      <td>NaN</td>\n",
       "      <td>2023-03-15_10-47-08</td>\n",
       "      <td>clip_retrieval_laion_5b_knn</td>\n",
       "      <td>clip_retrieval_laion_5b_knn</td>\n",
       "    </tr>\n",
       "  </tbody>\n",
       "</table>\n",
       "<p>148386 rows × 11 columns</p>\n",
       "</div>"
      ],
      "text/plain": [
       "                                                 filename  \\\n",
       "0       test/pain_au_chocolat/4fd7cb42-bd7f-48f1-bfdc-...   \n",
       "1       test/pain_au_chocolat/2062f52a-781c-4e4f-b8a7-...   \n",
       "2       test/pain_au_chocolat/8003e0f6-37e8-460d-9c14-...   \n",
       "3       test/pain_au_chocolat/839437c8-c643-408f-9f04-...   \n",
       "4       test/pain_au_chocolat/ca5c13ff-a535-4b69-9144-...   \n",
       "...                                                   ...   \n",
       "148381  clip_retrieval_image_downloads/2023-03-15_10-3...   \n",
       "148382  clip_retrieval_image_downloads/2023-03-15_10-3...   \n",
       "148383  clip_retrieval_image_downloads/2023-03-15_10-3...   \n",
       "148384  clip_retrieval_image_downloads/2023-03-15_10-3...   \n",
       "148385  clip_retrieval_image_downloads/2023-03-15_10-3...   \n",
       "\n",
       "                                      image_name        class_name  label  \\\n",
       "0       4fd7cb42-bd7f-48f1-bfdc-607c2f54b788.jpg  pain_au_chocolat    180   \n",
       "1       2062f52a-781c-4e4f-b8a7-0a108934f453.jpg  pain_au_chocolat    180   \n",
       "2       8003e0f6-37e8-460d-9c14-e7c6fe44a37f.jpg  pain_au_chocolat    180   \n",
       "3       839437c8-c643-408f-9f04-d0d3bec238c3.jpg  pain_au_chocolat    180   \n",
       "4       ca5c13ff-a535-4b69-9144-e06275e01e35.jpg  pain_au_chocolat    180   \n",
       "...                                          ...               ...    ...   \n",
       "148381  9fc7103b-d575-44d0-98d2-8124b84099b0.jpg         radicchio    227   \n",
       "148382  1c040f3f-5709-473a-81a4-eb346adcd407.jpg         radicchio    227   \n",
       "148383  6d1ce2f2-d52d-4dac-b840-64fbbe141e28.jpg         radicchio    227   \n",
       "148384  ce65912f-8638-43f8-afde-c9f97bfd9c50.jpg         radicchio    227   \n",
       "148385  7b971374-c431-4301-9a75-66c092804cdf.jpg         radicchio    227   \n",
       "\n",
       "        split clear_or_confusing whole_food_or_dish one_food_or_multiple  \\\n",
       "0        test                NaN                NaN                  NaN   \n",
       "1        test                NaN                NaN                  NaN   \n",
       "2        test                NaN                NaN                  NaN   \n",
       "3        test                NaN                NaN                  NaN   \n",
       "4        test                NaN                NaN                  NaN   \n",
       "...       ...                ...                ...                  ...   \n",
       "148381  train                NaN                NaN                  NaN   \n",
       "148382  train                NaN                NaN                  NaN   \n",
       "148383  train                NaN                NaN                  NaN   \n",
       "148384  train                NaN                NaN                  NaN   \n",
       "148385  train                NaN                NaN                  NaN   \n",
       "\n",
       "       label_last_updated_at                 label_source  \\\n",
       "0                        NaN                          NaN   \n",
       "1                        NaN                          NaN   \n",
       "2                        NaN                          NaN   \n",
       "3                        NaN                          NaN   \n",
       "4                        NaN                          NaN   \n",
       "...                      ...                          ...   \n",
       "148381   2023-03-15_10-47-08  clip_retrieval_laion_5b_knn   \n",
       "148382   2023-03-15_10-47-08  clip_retrieval_laion_5b_knn   \n",
       "148383   2023-03-15_10-47-08  clip_retrieval_laion_5b_knn   \n",
       "148384   2023-03-15_10-47-08  clip_retrieval_laion_5b_knn   \n",
       "148385   2023-03-15_10-47-08  clip_retrieval_laion_5b_knn   \n",
       "\n",
       "                       image_source  \n",
       "0                 internet_download  \n",
       "1                 internet_download  \n",
       "2                 internet_download  \n",
       "3                 internet_download  \n",
       "4                 internet_download  \n",
       "...                             ...  \n",
       "148381  clip_retrieval_laion_5b_knn  \n",
       "148382  clip_retrieval_laion_5b_knn  \n",
       "148383  clip_retrieval_laion_5b_knn  \n",
       "148384  clip_retrieval_laion_5b_knn  \n",
       "148385  clip_retrieval_laion_5b_knn  \n",
       "\n",
       "[148386 rows x 11 columns]"
      ]
     },
     "execution_count": 20,
     "metadata": {},
     "output_type": "execute_result"
    }
   ],
   "source": [
    "annotations"
   ]
  },
  {
   "cell_type": "code",
   "execution_count": 21,
   "metadata": {},
   "outputs": [
    {
     "data": {
      "text/plain": [
       "148386"
      ]
     },
     "execution_count": 21,
     "metadata": {},
     "output_type": "execute_result"
    }
   ],
   "source": [
    "updated_annotations = annotations.copy()\n",
    "len(updated_annotations)"
   ]
  },
  {
   "cell_type": "code",
   "execution_count": 22,
   "metadata": {},
   "outputs": [],
   "source": [
    "def check_for_differences_between_df(df1, df2, columns_to_exclude: list=None):\n",
    "    \"\"\"Checks for differences between two dataframes, returns the number of differences\"\"\"\n",
    "    # Find the intersection of the columns\n",
    "    intersecting_columns = list(df1.columns.intersection(df2.columns))\n",
    "\n",
    "    print(f\"Number of intersecting columns: {len(intersecting_columns)}\")\n",
    "    print(f\"Checking for differences accross the following columns: {intersecting_columns}\")\n",
    "\n",
    "    try:\n",
    "        # Remove columns_to_exclude from intersecting_columns\n",
    "        if columns_to_exclude is not None:\n",
    "            intersecting_columns = [column for column in intersecting_columns if column not in columns_to_exclude]\n",
    "        \n",
    "        # Compare the values in the intersecting columns\n",
    "        # See here: https://pandas.pydata.org/docs/reference/api/pandas.DataFrame.compare.html \n",
    "        differences = df1[intersecting_columns].compare(df2[intersecting_columns])\n",
    "        return len(differences)\n",
    "    except Exception as e:\n",
    "        print(f\"Error: {e}\")\n",
    "        print(\"Couldn't compare via pandas.DataFrame.compare, trying via lengths...\")\n",
    "        \n",
    "        # Compare the lengths of the dataframes\n",
    "        if len(df1) != len(df2):\n",
    "            differences = abs(len(df1) - len(df2))\n",
    "            try:\n",
    "                assert differences != len(df1) and differences != len(df2), \"Something went wrong, the difference in dataframe lengths is the same as one of the dataframe lengths, potentially there were no new updates?\"\n",
    "            except AssertionError as e:\n",
    "                print(e)\n",
    "                print(f\"Returning 0 differences between df lengths: (df1: {len(df1)}, df2: {len(df2)})\")\n",
    "                return 0\n",
    "            print(f\"Difference in dataframe lengths: {differences} (aboslute value of {len(df1)} - {len(df2)})\")\n",
    "            return differences"
   ]
  },
  {
   "cell_type": "code",
   "execution_count": 23,
   "metadata": {},
   "outputs": [
    {
     "data": {
      "text/plain": [
       "148386"
      ]
     },
     "execution_count": 23,
     "metadata": {},
     "output_type": "execute_result"
    }
   ],
   "source": [
    "len(updated_annotations)"
   ]
  },
  {
   "cell_type": "code",
   "execution_count": 24,
   "metadata": {},
   "outputs": [
    {
     "data": {
      "text/plain": [
       "148386"
      ]
     },
     "execution_count": 24,
     "metadata": {},
     "output_type": "execute_result"
    }
   ],
   "source": [
    "len(annotations)"
   ]
  },
  {
   "cell_type": "code",
   "execution_count": 28,
   "metadata": {},
   "outputs": [
    {
     "name": "stdout",
     "output_type": "stream",
     "text": [
      "[INFO] There are 148386 annotations before filtering\n",
      "[INFO] There are 147860 annotations after filtering (removed: 526))\n",
      "Number of intersecting columns: 11\n",
      "Checking for differences accross the following columns: ['filename', 'image_name', 'class_name', 'label', 'split', 'clear_or_confusing', 'whole_food_or_dish', 'one_food_or_multiple', 'label_last_updated_at', 'label_source', 'image_source']\n",
      "Error: Can only compare identically-labeled DataFrame objects\n",
      "Couldn't compare via pandas.DataFrame.compare, trying via lengths...\n",
      "Difference in dataframe lengths: 526 (aboslute value of 148386 - 147860)\n"
     ]
    }
   ],
   "source": [
    "# Make sure annotations only have images in GCP bucket\n",
    "updated_annotations = annotations[annotations['image_name'].isin(gs_image_names)]\n",
    "\n",
    "# Check for differences in annotations\n",
    "print(f\"[INFO] There are {len(annotations)} annotations before filtering\")\n",
    "print(f\"[INFO] There are {len(updated_annotations)} annotations after filtering (removed: {len(annotations) - len(updated_annotations)}))\")\n",
    "\n",
    "# from utils.misc import check_for_differences_between_df\n",
    "\n",
    "num_differences = check_for_differences_between_df(annotations, updated_annotations)"
   ]
  },
  {
   "cell_type": "code",
   "execution_count": 29,
   "metadata": {},
   "outputs": [
    {
     "name": "stdout",
     "output_type": "stream",
     "text": [
      "[INFO] Exporting the following columns to updated_annotations.csv: ['filename', 'image_name', 'class_name', 'label', 'split', 'clear_or_confusing', 'whole_food_or_dish', 'one_food_or_multiple', 'label_last_updated_at', 'label_source', 'image_source']\n",
      "[INFO] 526 changes to annotations.csv, updated label files and original annotations are different, saving the updated annotations.csv\n",
      "[INFO] Uploading updated_annotations.csv to updated_annotations.csv...\n",
      "[INFO] Connected to Google Storage bucket: food_vision_bucket_with_object_versioning\n",
      "[INFO] File updated_annotations.csv uploaded to food_vision_bucket_with_object_versioning/updated_annotations.csv.\n",
      "[INFO] File size: 30297322 bytes\n",
      "[INFO] Blob annotations.csv has been renamed to old_annotations/2023-03-15_12-10-32_old_annotations.csv\n",
      "[INFO] Blob updated_annotations.csv has been renamed to annotations.csv\n",
      "[INFO] Logging 'food_vision_labels' from 'gs://food_vision_bucket_with_object_versioning/annotations.csv' to Weights & Biases...\n"
     ]
    }
   ],
   "source": [
    "# Upload the updated annotations to Google Storage and track the changes\n",
    "from utils.gcp_utils import upload_to_gs, rename_blob, delete_blob\n",
    "from utils.wandb_utils import wandb_add_artifact_with_reference\n",
    "from utils.misc import get_now_time\n",
    "import os\n",
    "\n",
    "GS_BUCKET_NAME = config.gs_bucket_name\n",
    "\n",
    "UPDATED_ANNOTATIONS_TARGET_FILENAME = \"updated_annotations.csv\"\n",
    "ORIGINAL_ANNOTATIONS_TARGET_FILENAME = \"annotations.csv\"\n",
    "\n",
    "# Export the updated annotations to a CSV\n",
    "columns_to_export = config.annotations_columns_to_export\n",
    "print(f\"[INFO] Exporting the following columns to {UPDATED_ANNOTATIONS_TARGET_FILENAME}: {columns_to_export}\")\n",
    "\n",
    "# TODO: Check if the updated_annotations_reset_index and the original_annotations actually differ, if so save them and upload them, else exit\n",
    "if num_differences > 0:\n",
    "    print(f\"[INFO] {num_differences} changes to annotations.csv, updated label files and original annotations are different, saving the updated annotations.csv\")\n",
    "\n",
    "    # Export the updated_annotations_reset_index to a csv\n",
    "    updated_annotations[columns_to_export].to_csv(UPDATED_ANNOTATIONS_TARGET_FILENAME, index=False)\n",
    "\n",
    "    # Upload the updated CSV to Google Storage\n",
    "    upload_to_gs(bucket_name=GS_BUCKET_NAME, \n",
    "                 source_file_name=UPDATED_ANNOTATIONS_TARGET_FILENAME, \n",
    "                 destination_blob_name=UPDATED_ANNOTATIONS_TARGET_FILENAME)\n",
    "\n",
    "    # Rename the old CSV on Google Storage\n",
    "    bucket_to_move_old_annotations_to = \"old_annotations\"\n",
    "    name_to_rename_old_annotations = os.path.join(bucket_to_move_old_annotations_to, f\"{get_now_time()}_old_annotations.csv\")\n",
    "\n",
    "    rename_blob(bucket_name=GS_BUCKET_NAME,\n",
    "                blob_name=ORIGINAL_ANNOTATIONS_TARGET_FILENAME,\n",
    "                new_name=name_to_rename_old_annotations)\n",
    "\n",
    "    # Rename the \"updated_annotations.csv\" on Google Storage to \"annotations.csv\" \n",
    "    rename_blob(bucket_name=GS_BUCKET_NAME,\n",
    "                blob_name=UPDATED_ANNOTATIONS_TARGET_FILENAME,\n",
    "                new_name=ORIGINAL_ANNOTATIONS_TARGET_FILENAME)\n",
    "\n",
    "    # Track the changes in the annotations with Weights & Biases\n",
    "    annotations_path_on_gcs = f\"gs://{GS_BUCKET_NAME}/{ORIGINAL_ANNOTATIONS_TARGET_FILENAME}\"\n",
    "    wandb_add_artifact_with_reference(wandb_run=run,\n",
    "                                      artifact_name=\"food_vision_labels\",\n",
    "                                      artifact_type=\"labels\",\n",
    "                                      description=\"Labels for FoodVision project\",\n",
    "                                      reference_path=annotations_path_on_gcs)\n",
    "else:\n",
    "    print(\"[INFO] No changes to annotations.csv, updated label files and original annotations are the same, try fixing/updating the label files and try again\")"
   ]
  },
  {
   "cell_type": "code",
   "execution_count": null,
   "metadata": {},
   "outputs": [],
   "source": []
  }
 ],
 "metadata": {
  "kernelspec": {
   "display_name": "Python 3",
   "language": "python",
   "name": "python3"
  },
  "language_info": {
   "codemirror_mode": {
    "name": "ipython",
    "version": 3
   },
   "file_extension": ".py",
   "mimetype": "text/x-python",
   "name": "python",
   "nbconvert_exporter": "python",
   "pygments_lexer": "ipython3",
   "version": "3.8.13"
  },
  "orig_nbformat": 4
 },
 "nbformat": 4,
 "nbformat_minor": 2
}
